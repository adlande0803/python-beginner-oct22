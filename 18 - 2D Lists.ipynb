{
 "cells": [
  {
   "cell_type": "markdown",
   "id": "9ce9e5fd",
   "metadata": {},
   "source": [
    "# 2D Lists\n"
   ]
  },
  {
   "cell_type": "markdown",
   "id": "1a395098",
   "metadata": {},
   "source": [
    "\n",
    "![](https://scaler.com/topics/images/2d-array-python.webp)"
   ]
  },
  {
   "cell_type": "code",
   "execution_count": null,
   "id": "1fd1a95b",
   "metadata": {},
   "outputs": [],
   "source": [
    "a = [1, 2, 'hello', True, [10, 20]]"
   ]
  },
  {
   "cell_type": "code",
   "execution_count": null,
   "id": "668d7cf6",
   "metadata": {},
   "outputs": [],
   "source": [
    "a = [[10, 20], [30, 40, 50], [60], [70, 80, 90, 100]]"
   ]
  },
  {
   "cell_type": "code",
   "execution_count": 1,
   "id": "2c806d4e",
   "metadata": {},
   "outputs": [],
   "source": [
    "a = [\n",
    "    [10, 20],\n",
    "    [30, 40, 50],\n",
    "    [60],\n",
    "    [70, 80, 90, 100]\n",
    "]"
   ]
  },
  {
   "cell_type": "code",
   "execution_count": 2,
   "id": "3fd0a9fb",
   "metadata": {},
   "outputs": [
    {
     "name": "stdout",
     "output_type": "stream",
     "text": [
      "40\n"
     ]
    }
   ],
   "source": [
    "print(a[1][1])"
   ]
  },
  {
   "cell_type": "code",
   "execution_count": 3,
   "id": "d570c766",
   "metadata": {},
   "outputs": [
    {
     "data": {
      "text/plain": [
       "[30, 40, 50]"
      ]
     },
     "execution_count": 3,
     "metadata": {},
     "output_type": "execute_result"
    }
   ],
   "source": [
    "a[1]"
   ]
  },
  {
   "cell_type": "code",
   "execution_count": null,
   "id": "ab2fc695",
   "metadata": {},
   "outputs": [],
   "source": []
  },
  {
   "cell_type": "code",
   "execution_count": 4,
   "id": "a0161d0c",
   "metadata": {},
   "outputs": [
    {
     "name": "stdout",
     "output_type": "stream",
     "text": [
      "[[10, 20], [30, 40], [50, 60]]\n"
     ]
    }
   ],
   "source": [
    "b = [\n",
    "    [10, 20],\n",
    "    [30, 40],\n",
    "    [50, 60],\n",
    "]\n",
    "print(b)"
   ]
  },
  {
   "cell_type": "code",
   "execution_count": null,
   "id": "ae2b8405",
   "metadata": {},
   "outputs": [],
   "source": []
  },
  {
   "cell_type": "code",
   "execution_count": 5,
   "id": "99adf311",
   "metadata": {},
   "outputs": [
    {
     "name": "stdout",
     "output_type": "stream",
     "text": [
      "10\n"
     ]
    }
   ],
   "source": [
    "nums = [[10, 20, 30], [98, 99]]\n",
    "print(nums[0][0])"
   ]
  },
  {
   "cell_type": "code",
   "execution_count": 7,
   "id": "a1fe31ba",
   "metadata": {},
   "outputs": [
    {
     "name": "stdout",
     "output_type": "stream",
     "text": [
      "99\n"
     ]
    }
   ],
   "source": [
    "print(nums[1][1])"
   ]
  },
  {
   "cell_type": "code",
   "execution_count": 6,
   "id": "16c67441",
   "metadata": {},
   "outputs": [
    {
     "data": {
      "text/plain": [
       "[98, 99]"
      ]
     },
     "execution_count": 6,
     "metadata": {},
     "output_type": "execute_result"
    }
   ],
   "source": [
    "nums[1]"
   ]
  },
  {
   "cell_type": "code",
   "execution_count": null,
   "id": "30305db5",
   "metadata": {},
   "outputs": [],
   "source": []
  },
  {
   "cell_type": "code",
   "execution_count": null,
   "id": "513fe26f",
   "metadata": {},
   "outputs": [],
   "source": [
    "nums = [[10, 20, 30], [98, 99]]"
   ]
  },
  {
   "cell_type": "code",
   "execution_count": 9,
   "id": "041f5b35",
   "metadata": {},
   "outputs": [
    {
     "name": "stdout",
     "output_type": "stream",
     "text": [
      "3\n"
     ]
    }
   ],
   "source": [
    "print(len(nums[0]))"
   ]
  },
  {
   "cell_type": "code",
   "execution_count": 10,
   "id": "dfb95526",
   "metadata": {},
   "outputs": [
    {
     "name": "stdout",
     "output_type": "stream",
     "text": [
      "2\n"
     ]
    }
   ],
   "source": [
    "print(len(nums[1]))"
   ]
  },
  {
   "cell_type": "code",
   "execution_count": null,
   "id": "4d9c81d5",
   "metadata": {},
   "outputs": [],
   "source": []
  },
  {
   "cell_type": "markdown",
   "id": "04d3b08e",
   "metadata": {},
   "source": [
    "#### Iterating over a 2D Array"
   ]
  },
  {
   "cell_type": "code",
   "execution_count": 17,
   "id": "505324cc",
   "metadata": {},
   "outputs": [],
   "source": [
    "a = [\n",
    "    [10, 20],\n",
    "    [30, 40],\n",
    "    [50, 60],\n",
    "]\n",
    "\n",
    "rows = len(a)\n",
    "cols = len(a[0])"
   ]
  },
  {
   "cell_type": "code",
   "execution_count": 19,
   "id": "9793f67c",
   "metadata": {},
   "outputs": [
    {
     "name": "stdout",
     "output_type": "stream",
     "text": [
      "[10, 20]\n",
      "[30, 40]\n",
      "[50, 60]\n"
     ]
    }
   ],
   "source": [
    "# Iterate over the rows\n",
    "for i in range(len(a)):\n",
    "    print(a[i])"
   ]
  },
  {
   "cell_type": "code",
   "execution_count": 21,
   "id": "6c53e4ba",
   "metadata": {},
   "outputs": [
    {
     "name": "stdout",
     "output_type": "stream",
     "text": [
      "a[ 0 ]= [10, 20]\n",
      "a[ 1 ]= [30, 40]\n",
      "a[ 2 ]= [50, 60]\n"
     ]
    }
   ],
   "source": [
    "# Iterate over the rows\n",
    "for i in range(len(a)):\n",
    "    print(\"a[\", i, \"]=\", a[i])"
   ]
  },
  {
   "cell_type": "code",
   "execution_count": null,
   "id": "7112f6a0",
   "metadata": {},
   "outputs": [],
   "source": []
  },
  {
   "cell_type": "code",
   "execution_count": 23,
   "id": "80f780eb",
   "metadata": {},
   "outputs": [
    {
     "name": "stdout",
     "output_type": "stream",
     "text": [
      "10\n",
      "20\n",
      "30\n",
      "40\n",
      "50\n",
      "60\n"
     ]
    }
   ],
   "source": [
    "for i in range(len(a)):\n",
    "    # a[i] = row\n",
    "    # Iterate over a[i]\n",
    "    for j in range(len(a[i])):\n",
    "        print(a[i][j])"
   ]
  },
  {
   "cell_type": "code",
   "execution_count": null,
   "id": "116e1548",
   "metadata": {},
   "outputs": [],
   "source": []
  },
  {
   "cell_type": "code",
   "execution_count": 25,
   "id": "b95bcad6",
   "metadata": {},
   "outputs": [
    {
     "name": "stdout",
     "output_type": "stream",
     "text": [
      "10 20 \n",
      "30 40 \n",
      "50 60 \n"
     ]
    }
   ],
   "source": [
    "for i in range(len(a)):\n",
    "    # a[i] = row\n",
    "    # Iterate over a[i]\n",
    "    for j in range(len(a[i])):\n",
    "        print(a[i][j], end=' ')\n",
    "    print()"
   ]
  },
  {
   "cell_type": "code",
   "execution_count": null,
   "id": "ea5e1e5b",
   "metadata": {},
   "outputs": [],
   "source": []
  },
  {
   "cell_type": "code",
   "execution_count": null,
   "id": "2919656c",
   "metadata": {},
   "outputs": [],
   "source": []
  },
  {
   "cell_type": "code",
   "execution_count": 26,
   "id": "ac203774",
   "metadata": {},
   "outputs": [
    {
     "name": "stdout",
     "output_type": "stream",
     "text": [
      "100 400 \n",
      "900 1600 \n",
      "2500 3600 \n"
     ]
    }
   ],
   "source": [
    "# Square of each element\n",
    "\n",
    "\n",
    "for i in range(len(a)):\n",
    "    # a[i] = row\n",
    "    # Iterate over a[i]\n",
    "    for j in range(len(a[i])):\n",
    "        print(a[i][j] ** 2, end=' ')\n",
    "    print()"
   ]
  },
  {
   "cell_type": "code",
   "execution_count": null,
   "id": "b5795d4a",
   "metadata": {},
   "outputs": [],
   "source": []
  },
  {
   "cell_type": "markdown",
   "id": "b51016c1",
   "metadata": {},
   "source": [
    "#### Write a function that generates a matrix containing all zeroes of size N * M"
   ]
  },
  {
   "cell_type": "code",
   "execution_count": 28,
   "id": "1a424faa",
   "metadata": {},
   "outputs": [],
   "source": [
    "def generateMatrix(N, M):\n",
    "    a = []\n",
    "    \n",
    "    for i in range(N):\n",
    "        # generate a row of size M\n",
    "        # append it to `a`\n",
    "        row = [0] * M\n",
    "        a.append(row)\n",
    "    \n",
    "    return a"
   ]
  },
  {
   "cell_type": "code",
   "execution_count": 29,
   "id": "d8b5e5e6",
   "metadata": {},
   "outputs": [
    {
     "name": "stdout",
     "output_type": "stream",
     "text": [
      "[[0, 0], [0, 0], [0, 0]]\n"
     ]
    }
   ],
   "source": [
    "a = generateMatrix(3, 2)\n",
    "print(a)"
   ]
  },
  {
   "cell_type": "code",
   "execution_count": 31,
   "id": "7caa50fc",
   "metadata": {},
   "outputs": [
    {
     "name": "stdout",
     "output_type": "stream",
     "text": [
      "[[0, 0, 0, 0, 0, 0, 0, 0], [0, 0, 0, 0, 0, 0, 0, 0], [0, 0, 0, 0, 0, 0, 0, 0], [0, 0, 0, 0, 0, 0, 0, 0], [0, 0, 0, 0, 0, 0, 0, 0], [0, 0, 0, 0, 0, 0, 0, 0], [0, 0, 0, 0, 0, 0, 0, 0], [0, 0, 0, 0, 0, 0, 0, 0], [0, 0, 0, 0, 0, 0, 0, 0], [0, 0, 0, 0, 0, 0, 0, 0]]\n"
     ]
    }
   ],
   "source": [
    "b = generateMatrix(10, 8)\n",
    "print(b)"
   ]
  },
  {
   "cell_type": "code",
   "execution_count": 27,
   "id": "053e44a3",
   "metadata": {},
   "outputs": [
    {
     "name": "stdout",
     "output_type": "stream",
     "text": [
      "[0, 0, 0, 0, 0, 0, 0, 0, 0, 0]\n"
     ]
    }
   ],
   "source": [
    "# generate a list of size 10 containing all zeroes\n",
    "row = [0] * 10\n",
    "print(row)"
   ]
  },
  {
   "cell_type": "code",
   "execution_count": null,
   "id": "1fdc5ad5",
   "metadata": {},
   "outputs": [],
   "source": []
  },
  {
   "cell_type": "code",
   "execution_count": null,
   "id": "b2bd1bbc",
   "metadata": {},
   "outputs": [],
   "source": []
  },
  {
   "cell_type": "code",
   "execution_count": null,
   "id": "62cd6c79",
   "metadata": {},
   "outputs": [],
   "source": []
  },
  {
   "cell_type": "markdown",
   "id": "ea910d5c",
   "metadata": {},
   "source": [
    "### Reading 2D Array Input\n",
    "![](https://scaler.com/topics/images/raw-input-in-python.webp)"
   ]
  },
  {
   "cell_type": "markdown",
   "id": "6717f2af",
   "metadata": {},
   "source": [
    "2 3 \\\n",
    "10 20 30 \\\n",
    "40 50 60"
   ]
  },
  {
   "cell_type": "markdown",
   "id": "3e939d34",
   "metadata": {},
   "source": [
    "3 4 \\\n",
    "10 20 30 40 \\\n",
    "50 60 70 80 \\\n",
    "90 100 110 120"
   ]
  },
  {
   "cell_type": "code",
   "execution_count": 36,
   "id": "feb03682",
   "metadata": {},
   "outputs": [
    {
     "name": "stdout",
     "output_type": "stream",
     "text": [
      "2 3\n",
      "2\n",
      "3\n"
     ]
    }
   ],
   "source": [
    "rows, cols = map(int, input().split())\n",
    "print(rows)\n",
    "print(cols)"
   ]
  },
  {
   "cell_type": "code",
   "execution_count": 45,
   "id": "bf195b21",
   "metadata": {},
   "outputs": [
    {
     "name": "stdout",
     "output_type": "stream",
     "text": [
      "10 20 30\n",
      "40 50 60\n",
      "[[10, 20, 30], [40, 50, 60]]\n"
     ]
    }
   ],
   "source": [
    "mat = []\n",
    "\n",
    "for i in range(rows):\n",
    "    row = list(map(int, input().split()))\n",
    "    mat.append(row)\n",
    "            \n",
    "print(mat)"
   ]
  },
  {
   "cell_type": "code",
   "execution_count": null,
   "id": "31c282ad",
   "metadata": {},
   "outputs": [],
   "source": []
  },
  {
   "cell_type": "code",
   "execution_count": null,
   "id": "665c6157",
   "metadata": {},
   "outputs": [],
   "source": []
  },
  {
   "cell_type": "code",
   "execution_count": null,
   "id": "fd05e1e4",
   "metadata": {},
   "outputs": [],
   "source": []
  },
  {
   "cell_type": "code",
   "execution_count": null,
   "id": "322d5a4e",
   "metadata": {},
   "outputs": [],
   "source": []
  },
  {
   "cell_type": "code",
   "execution_count": 39,
   "id": "6d4f2b3d",
   "metadata": {},
   "outputs": [
    {
     "name": "stdout",
     "output_type": "stream",
     "text": [
      "2 3\n"
     ]
    }
   ],
   "source": [
    "a = list(map(int, input().split()))"
   ]
  },
  {
   "cell_type": "code",
   "execution_count": 40,
   "id": "1db75472",
   "metadata": {},
   "outputs": [
    {
     "data": {
      "text/plain": [
       "[2, 3]"
      ]
     },
     "execution_count": 40,
     "metadata": {},
     "output_type": "execute_result"
    }
   ],
   "source": [
    "a"
   ]
  },
  {
   "cell_type": "code",
   "execution_count": 41,
   "id": "ed6589f6",
   "metadata": {},
   "outputs": [
    {
     "name": "stdout",
     "output_type": "stream",
     "text": [
      "2\n",
      "3\n"
     ]
    }
   ],
   "source": [
    "x, y = a\n",
    "print(x)\n",
    "print(y)"
   ]
  },
  {
   "cell_type": "code",
   "execution_count": null,
   "id": "26501610",
   "metadata": {},
   "outputs": [],
   "source": []
  },
  {
   "cell_type": "code",
   "execution_count": null,
   "id": "c45fbf3d",
   "metadata": {},
   "outputs": [],
   "source": []
  },
  {
   "cell_type": "code",
   "execution_count": null,
   "id": "8aafea22",
   "metadata": {},
   "outputs": [],
   "source": []
  },
  {
   "cell_type": "code",
   "execution_count": null,
   "id": "32412dc3",
   "metadata": {},
   "outputs": [],
   "source": []
  },
  {
   "cell_type": "code",
   "execution_count": null,
   "id": "b9cf3335",
   "metadata": {},
   "outputs": [],
   "source": []
  },
  {
   "cell_type": "markdown",
   "id": "232d9ebc",
   "metadata": {},
   "source": [
    "### Sum of two matrices\n",
    "![](https://scaler.com/topics/images/sum-in-python.webp)"
   ]
  },
  {
   "cell_type": "code",
   "execution_count": null,
   "id": "52c22f0a",
   "metadata": {},
   "outputs": [],
   "source": []
  },
  {
   "cell_type": "code",
   "execution_count": null,
   "id": "c8358839",
   "metadata": {},
   "outputs": [],
   "source": []
  },
  {
   "cell_type": "code",
   "execution_count": null,
   "id": "ee288a70",
   "metadata": {},
   "outputs": [],
   "source": []
  },
  {
   "cell_type": "code",
   "execution_count": null,
   "id": "208d682a",
   "metadata": {},
   "outputs": [],
   "source": []
  },
  {
   "cell_type": "markdown",
   "id": "6edc4117",
   "metadata": {},
   "source": [
    "### Transpose\n",
    "![](https://scaler.com/topics/images/transpose-of-a-matrix-in-python-featured-image.webp)\n",
    "<img src=\"https://scaler.com/topics/images/transpose-of-matrix.webp\" width=\"600px\" />"
   ]
  },
  {
   "cell_type": "code",
   "execution_count": null,
   "id": "d13b052b",
   "metadata": {},
   "outputs": [],
   "source": []
  },
  {
   "cell_type": "code",
   "execution_count": null,
   "id": "58f0ddd0",
   "metadata": {},
   "outputs": [],
   "source": []
  },
  {
   "cell_type": "code",
   "execution_count": null,
   "id": "ecc91856",
   "metadata": {},
   "outputs": [],
   "source": []
  },
  {
   "cell_type": "code",
   "execution_count": null,
   "id": "88e92fe4",
   "metadata": {},
   "outputs": [],
   "source": []
  },
  {
   "cell_type": "markdown",
   "id": "757e94f4",
   "metadata": {},
   "source": [
    "### Check Identity Matrix"
   ]
  },
  {
   "cell_type": "code",
   "execution_count": null,
   "id": "fa975745",
   "metadata": {},
   "outputs": [],
   "source": []
  },
  {
   "cell_type": "code",
   "execution_count": null,
   "id": "32ce6f75",
   "metadata": {},
   "outputs": [],
   "source": []
  },
  {
   "cell_type": "code",
   "execution_count": null,
   "id": "4b86da84",
   "metadata": {},
   "outputs": [],
   "source": []
  },
  {
   "cell_type": "code",
   "execution_count": null,
   "id": "98db21ca",
   "metadata": {},
   "outputs": [],
   "source": []
  },
  {
   "cell_type": "code",
   "execution_count": null,
   "id": "8c0bf46b",
   "metadata": {},
   "outputs": [],
   "source": []
  },
  {
   "cell_type": "code",
   "execution_count": null,
   "id": "6153c45b",
   "metadata": {},
   "outputs": [],
   "source": []
  },
  {
   "cell_type": "code",
   "execution_count": null,
   "id": "362f3141",
   "metadata": {},
   "outputs": [],
   "source": []
  },
  {
   "cell_type": "code",
   "execution_count": null,
   "id": "c6d62a4e",
   "metadata": {},
   "outputs": [],
   "source": []
  },
  {
   "cell_type": "markdown",
   "id": "74fe5a4b",
   "metadata": {},
   "source": [
    "# Bonus Reading Material\n",
    "- map() in Python - https://www.scaler.com/topics/map-function-in-python/\n",
    "- What is Nested List in Python? - https://www.scaler.com/topics/nested-list-in-python/\n",
    "- 2D Array in Python- https://www.scaler.com/topics/2d-array-in-python/\n",
    "- Transpose of a Matrix in Python - https://www.scaler.com/topics/transpose-of-a-matrix-in-python/\n",
    "- Sum() in Python - https://www.scaler.com/topics/sum-in-python/\n",
    "- Wtf Python: A tic-tac-toe where X wins in the first attempt! - https://github.com/satwikkansal/wtfpython#-a-tic-tac-toe-where-x-wins-in-the-first-attempt\n",
    "- Swapping of Two Numbers in Python - https://www.scaler.com/topics/swapping-of-two-numbers-in-python/\n",
    "- Transpose of a Matrix in Python - https://www.scaler.com/topics/transpose-of-a-matrix-in-python/\n",
    "- Matrix Multiplication in Python - https://www.scaler.com/topics/matrix-multiplication-in-python/\n",
    "- What is List Comprehension in Python? - https://www.scaler.com/topics/list-comprehension-in-python/"
   ]
  },
  {
   "cell_type": "code",
   "execution_count": null,
   "id": "ef29860e",
   "metadata": {},
   "outputs": [],
   "source": []
  },
  {
   "cell_type": "code",
   "execution_count": null,
   "id": "5e9693b0",
   "metadata": {},
   "outputs": [],
   "source": []
  },
  {
   "cell_type": "markdown",
   "id": "f0beac60",
   "metadata": {},
   "source": [
    "# Doubts"
   ]
  },
  {
   "cell_type": "code",
   "execution_count": null,
   "id": "b1a17d0e",
   "metadata": {},
   "outputs": [],
   "source": []
  },
  {
   "cell_type": "code",
   "execution_count": null,
   "id": "b4f485bf",
   "metadata": {},
   "outputs": [],
   "source": []
  },
  {
   "cell_type": "code",
   "execution_count": null,
   "id": "da33ce83",
   "metadata": {},
   "outputs": [],
   "source": []
  },
  {
   "cell_type": "code",
   "execution_count": null,
   "id": "bac3cbc8",
   "metadata": {},
   "outputs": [],
   "source": []
  },
  {
   "cell_type": "code",
   "execution_count": null,
   "id": "514fbc03",
   "metadata": {},
   "outputs": [],
   "source": []
  },
  {
   "cell_type": "code",
   "execution_count": null,
   "id": "7ce95d72",
   "metadata": {},
   "outputs": [],
   "source": []
  }
 ],
 "metadata": {
  "kernelspec": {
   "display_name": "Python 3 (ipykernel)",
   "language": "python",
   "name": "python3"
  },
  "language_info": {
   "codemirror_mode": {
    "name": "ipython",
    "version": 3
   },
   "file_extension": ".py",
   "mimetype": "text/x-python",
   "name": "python",
   "nbconvert_exporter": "python",
   "pygments_lexer": "ipython3",
   "version": "3.9.12"
  }
 },
 "nbformat": 4,
 "nbformat_minor": 5
}
