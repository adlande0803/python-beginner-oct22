{
 "cells": [
  {
   "cell_type": "markdown",
   "id": "a14b0df6",
   "metadata": {},
   "source": [
    "## Print function recap\n",
    "![](https://scaler.com/topics/images/print-in-python.webp)"
   ]
  },
  {
   "cell_type": "code",
   "execution_count": 2,
   "id": "fde735a6",
   "metadata": {},
   "outputs": [
    {
     "name": "stdout",
     "output_type": "stream",
     "text": [
      "Hello World\n"
     ]
    }
   ],
   "source": [
    "print(\"Hello World\")"
   ]
  },
  {
   "cell_type": "code",
   "execution_count": 4,
   "id": "e4c4b1f8",
   "metadata": {},
   "outputs": [
    {
     "name": "stdout",
     "output_type": "stream",
     "text": [
      "Hello\n",
      "\n",
      "world\n"
     ]
    }
   ],
   "source": [
    "print(\"Hello\")\n",
    "print()\n",
    "print(\"world\")"
   ]
  },
  {
   "cell_type": "code",
   "execution_count": 5,
   "id": "21d13f98",
   "metadata": {},
   "outputs": [
    {
     "name": "stdout",
     "output_type": "stream",
     "text": [
      "5\n"
     ]
    }
   ],
   "source": [
    "print(5)"
   ]
  },
  {
   "cell_type": "code",
   "execution_count": 7,
   "id": "bcd093ec",
   "metadata": {},
   "outputs": [
    {
     "name": "stdout",
     "output_type": "stream",
     "text": [
      "3454.4764567\n"
     ]
    }
   ],
   "source": [
    "print(3454.4764567)"
   ]
  },
  {
   "cell_type": "code",
   "execution_count": 8,
   "id": "7c07cc97",
   "metadata": {},
   "outputs": [
    {
     "name": "stdout",
     "output_type": "stream",
     "text": [
      "9\n"
     ]
    }
   ],
   "source": [
    "print(2 + 7)"
   ]
  },
  {
   "cell_type": "code",
   "execution_count": 9,
   "id": "8e8abca5",
   "metadata": {},
   "outputs": [
    {
     "name": "stdout",
     "output_type": "stream",
     "text": [
      "2 + 7\n"
     ]
    }
   ],
   "source": [
    "print(\"2 + 7\")"
   ]
  },
  {
   "cell_type": "code",
   "execution_count": null,
   "id": "15cd72eb",
   "metadata": {},
   "outputs": [],
   "source": []
  },
  {
   "cell_type": "code",
   "execution_count": null,
   "id": "fcebc434",
   "metadata": {},
   "outputs": [],
   "source": []
  },
  {
   "cell_type": "code",
   "execution_count": null,
   "id": "efe7558b",
   "metadata": {},
   "outputs": [],
   "source": []
  },
  {
   "cell_type": "markdown",
   "id": "8bd70f7c",
   "metadata": {},
   "source": [
    "## type()\n",
    "![](https://scaler.com/topics/images/type-in-python.webp)"
   ]
  },
  {
   "cell_type": "code",
   "execution_count": 10,
   "id": "7a0486cb",
   "metadata": {},
   "outputs": [
    {
     "data": {
      "text/plain": [
       "int"
      ]
     },
     "execution_count": 10,
     "metadata": {},
     "output_type": "execute_result"
    }
   ],
   "source": [
    "type(10)"
   ]
  },
  {
   "cell_type": "code",
   "execution_count": 11,
   "id": "bc3220ab",
   "metadata": {},
   "outputs": [
    {
     "data": {
      "text/plain": [
       "int"
      ]
     },
     "execution_count": 11,
     "metadata": {},
     "output_type": "execute_result"
    }
   ],
   "source": [
    "type(-32)"
   ]
  },
  {
   "cell_type": "code",
   "execution_count": 12,
   "id": "00c515a7",
   "metadata": {},
   "outputs": [
    {
     "data": {
      "text/plain": [
       "int"
      ]
     },
     "execution_count": 12,
     "metadata": {},
     "output_type": "execute_result"
    }
   ],
   "source": [
    "type(0)"
   ]
  },
  {
   "cell_type": "code",
   "execution_count": 13,
   "id": "40c34470",
   "metadata": {},
   "outputs": [
    {
     "data": {
      "text/plain": [
       "int"
      ]
     },
     "execution_count": 13,
     "metadata": {},
     "output_type": "execute_result"
    }
   ],
   "source": [
    "type(789346759234586789234756348975613489067)"
   ]
  },
  {
   "cell_type": "code",
   "execution_count": 14,
   "id": "101b4698",
   "metadata": {},
   "outputs": [
    {
     "data": {
      "text/plain": [
       "int"
      ]
     },
     "execution_count": 14,
     "metadata": {},
     "output_type": "execute_result"
    }
   ],
   "source": [
    "type(-789346759234586789234756348975613489067)"
   ]
  },
  {
   "cell_type": "code",
   "execution_count": null,
   "id": "2a15571c",
   "metadata": {},
   "outputs": [],
   "source": []
  },
  {
   "cell_type": "code",
   "execution_count": 15,
   "id": "47161ef6",
   "metadata": {},
   "outputs": [
    {
     "data": {
      "text/plain": [
       "float"
      ]
     },
     "execution_count": 15,
     "metadata": {},
     "output_type": "execute_result"
    }
   ],
   "source": [
    "type(2.5)"
   ]
  },
  {
   "cell_type": "code",
   "execution_count": 16,
   "id": "8621a788",
   "metadata": {},
   "outputs": [
    {
     "data": {
      "text/plain": [
       "float"
      ]
     },
     "execution_count": 16,
     "metadata": {},
     "output_type": "execute_result"
    }
   ],
   "source": [
    "type(-9.457896)"
   ]
  },
  {
   "cell_type": "code",
   "execution_count": 17,
   "id": "3a6696c8",
   "metadata": {},
   "outputs": [
    {
     "data": {
      "text/plain": [
       "float"
      ]
     },
     "execution_count": 17,
     "metadata": {},
     "output_type": "execute_result"
    }
   ],
   "source": [
    "type(6.7389)"
   ]
  },
  {
   "cell_type": "code",
   "execution_count": 18,
   "id": "b24dd4de",
   "metadata": {},
   "outputs": [
    {
     "data": {
      "text/plain": [
       "float"
      ]
     },
     "execution_count": 18,
     "metadata": {},
     "output_type": "execute_result"
    }
   ],
   "source": [
    "type(8.0)"
   ]
  },
  {
   "cell_type": "code",
   "execution_count": null,
   "id": "04ec10df",
   "metadata": {},
   "outputs": [],
   "source": []
  },
  {
   "cell_type": "code",
   "execution_count": null,
   "id": "d447ee33",
   "metadata": {},
   "outputs": [],
   "source": []
  },
  {
   "cell_type": "markdown",
   "id": "80359b91",
   "metadata": {},
   "source": [
    "#### Quiz 1\n",
    "Which of the following values are of type `float` in Python? \\\n",
    "\\\n",
    "a. 0.3 \\\n",
    "b. .2 \\\n",
    "c. \"2.3\" \\\n",
    "d. 1.0 \\\n",
    "e. \"3.14\" \\\n",
    "f. -3 \\\n",
    "g. 5. \n"
   ]
  },
  {
   "cell_type": "code",
   "execution_count": null,
   "id": "98912f9d",
   "metadata": {},
   "outputs": [],
   "source": [
    "Correct Options - a, b, d, g"
   ]
  },
  {
   "cell_type": "code",
   "execution_count": 19,
   "id": "07847220",
   "metadata": {},
   "outputs": [
    {
     "data": {
      "text/plain": [
       "float"
      ]
     },
     "execution_count": 19,
     "metadata": {},
     "output_type": "execute_result"
    }
   ],
   "source": [
    "type(0.3)"
   ]
  },
  {
   "cell_type": "code",
   "execution_count": 20,
   "id": "20403f2b",
   "metadata": {},
   "outputs": [
    {
     "data": {
      "text/plain": [
       "float"
      ]
     },
     "execution_count": 20,
     "metadata": {},
     "output_type": "execute_result"
    }
   ],
   "source": [
    "type(.2)"
   ]
  },
  {
   "cell_type": "code",
   "execution_count": 21,
   "id": "40ddc138",
   "metadata": {},
   "outputs": [
    {
     "data": {
      "text/plain": [
       "str"
      ]
     },
     "execution_count": 21,
     "metadata": {},
     "output_type": "execute_result"
    }
   ],
   "source": [
    "type(\"2.3\") # string"
   ]
  },
  {
   "cell_type": "code",
   "execution_count": 22,
   "id": "aac4c7b0",
   "metadata": {},
   "outputs": [
    {
     "data": {
      "text/plain": [
       "float"
      ]
     },
     "execution_count": 22,
     "metadata": {},
     "output_type": "execute_result"
    }
   ],
   "source": [
    "type(1.0)"
   ]
  },
  {
   "cell_type": "code",
   "execution_count": 23,
   "id": "4e0dbc1e",
   "metadata": {},
   "outputs": [
    {
     "data": {
      "text/plain": [
       "str"
      ]
     },
     "execution_count": 23,
     "metadata": {},
     "output_type": "execute_result"
    }
   ],
   "source": [
    "type(\"3.14\")"
   ]
  },
  {
   "cell_type": "code",
   "execution_count": 24,
   "id": "50b5cb17",
   "metadata": {},
   "outputs": [
    {
     "data": {
      "text/plain": [
       "int"
      ]
     },
     "execution_count": 24,
     "metadata": {},
     "output_type": "execute_result"
    }
   ],
   "source": [
    "type(-3)"
   ]
  },
  {
   "cell_type": "code",
   "execution_count": 25,
   "id": "328b5d55",
   "metadata": {},
   "outputs": [
    {
     "data": {
      "text/plain": [
       "float"
      ]
     },
     "execution_count": 25,
     "metadata": {},
     "output_type": "execute_result"
    }
   ],
   "source": [
    "type(5.)"
   ]
  },
  {
   "cell_type": "code",
   "execution_count": null,
   "id": "342c1363",
   "metadata": {},
   "outputs": [],
   "source": []
  },
  {
   "cell_type": "code",
   "execution_count": null,
   "id": "94f2759c",
   "metadata": {},
   "outputs": [],
   "source": []
  },
  {
   "cell_type": "code",
   "execution_count": 26,
   "id": "a917d9d9",
   "metadata": {},
   "outputs": [
    {
     "data": {
      "text/plain": [
       "bool"
      ]
     },
     "execution_count": 26,
     "metadata": {},
     "output_type": "execute_result"
    }
   ],
   "source": [
    "type(True)"
   ]
  },
  {
   "cell_type": "code",
   "execution_count": 27,
   "id": "b19eb400",
   "metadata": {},
   "outputs": [
    {
     "data": {
      "text/plain": [
       "bool"
      ]
     },
     "execution_count": 27,
     "metadata": {},
     "output_type": "execute_result"
    }
   ],
   "source": [
    "type(False)"
   ]
  },
  {
   "cell_type": "code",
   "execution_count": null,
   "id": "3e8c166a",
   "metadata": {},
   "outputs": [],
   "source": []
  },
  {
   "cell_type": "code",
   "execution_count": null,
   "id": "349d4e81",
   "metadata": {},
   "outputs": [],
   "source": []
  },
  {
   "cell_type": "code",
   "execution_count": null,
   "id": "8b6d7ac5",
   "metadata": {},
   "outputs": [],
   "source": []
  },
  {
   "cell_type": "markdown",
   "id": "8c467ed6",
   "metadata": {},
   "source": [
    "#### Quiz 2\n",
    "```py\n",
    "print(type(true))\n",
    "```"
   ]
  },
  {
   "cell_type": "code",
   "execution_count": 28,
   "id": "f32ac8f7",
   "metadata": {},
   "outputs": [
    {
     "ename": "NameError",
     "evalue": "name 'true' is not defined",
     "output_type": "error",
     "traceback": [
      "\u001b[0;31m---------------------------------------------------------------------------\u001b[0m",
      "\u001b[0;31mNameError\u001b[0m                                 Traceback (most recent call last)",
      "\u001b[0;32m/var/folders/jn/1bsrct314hv5xmfm7vrcdrzc0000gn/T/ipykernel_44554/61652065.py\u001b[0m in \u001b[0;36m<module>\u001b[0;34m\u001b[0m\n\u001b[0;32m----> 1\u001b[0;31m \u001b[0mprint\u001b[0m\u001b[0;34m(\u001b[0m\u001b[0mtype\u001b[0m\u001b[0;34m(\u001b[0m\u001b[0mtrue\u001b[0m\u001b[0;34m)\u001b[0m\u001b[0;34m)\u001b[0m\u001b[0;34m\u001b[0m\u001b[0;34m\u001b[0m\u001b[0m\n\u001b[0m",
      "\u001b[0;31mNameError\u001b[0m: name 'true' is not defined"
     ]
    }
   ],
   "source": [
    "print(type(true))"
   ]
  },
  {
   "cell_type": "code",
   "execution_count": 29,
   "id": "601754c2",
   "metadata": {},
   "outputs": [
    {
     "name": "stdout",
     "output_type": "stream",
     "text": [
      "<class 'bool'>\n"
     ]
    }
   ],
   "source": [
    "print(type(True))"
   ]
  },
  {
   "cell_type": "code",
   "execution_count": null,
   "id": "0f01df88",
   "metadata": {},
   "outputs": [],
   "source": []
  },
  {
   "cell_type": "code",
   "execution_count": null,
   "id": "1c3abcf6",
   "metadata": {},
   "outputs": [],
   "source": []
  },
  {
   "cell_type": "code",
   "execution_count": 30,
   "id": "4e015832",
   "metadata": {},
   "outputs": [
    {
     "data": {
      "text/plain": [
       "str"
      ]
     },
     "execution_count": 30,
     "metadata": {},
     "output_type": "execute_result"
    }
   ],
   "source": [
    "type(\"hello world\")"
   ]
  },
  {
   "cell_type": "code",
   "execution_count": 31,
   "id": "b00da4eb",
   "metadata": {},
   "outputs": [
    {
     "data": {
      "text/plain": [
       "str"
      ]
     },
     "execution_count": 31,
     "metadata": {},
     "output_type": "execute_result"
    }
   ],
   "source": [
    "type(\"abcdef\")"
   ]
  },
  {
   "cell_type": "code",
   "execution_count": 32,
   "id": "084d8435",
   "metadata": {},
   "outputs": [
    {
     "data": {
      "text/plain": [
       "str"
      ]
     },
     "execution_count": 32,
     "metadata": {},
     "output_type": "execute_result"
    }
   ],
   "source": [
    "type(\"\")"
   ]
  },
  {
   "cell_type": "code",
   "execution_count": 33,
   "id": "1a5cd606",
   "metadata": {},
   "outputs": [
    {
     "data": {
      "text/plain": [
       "str"
      ]
     },
     "execution_count": 33,
     "metadata": {},
     "output_type": "execute_result"
    }
   ],
   "source": [
    "type('ok hello')"
   ]
  },
  {
   "cell_type": "code",
   "execution_count": null,
   "id": "c929ec53",
   "metadata": {},
   "outputs": [],
   "source": []
  },
  {
   "cell_type": "code",
   "execution_count": 34,
   "id": "5c998fd2",
   "metadata": {},
   "outputs": [
    {
     "data": {
      "text/plain": [
       "NoneType"
      ]
     },
     "execution_count": 34,
     "metadata": {},
     "output_type": "execute_result"
    }
   ],
   "source": [
    "type(None)"
   ]
  },
  {
   "cell_type": "code",
   "execution_count": null,
   "id": "d021bab1",
   "metadata": {},
   "outputs": [],
   "source": []
  },
  {
   "cell_type": "code",
   "execution_count": null,
   "id": "c9c2088a",
   "metadata": {},
   "outputs": [],
   "source": []
  },
  {
   "cell_type": "code",
   "execution_count": null,
   "id": "9ca44388",
   "metadata": {},
   "outputs": [],
   "source": []
  },
  {
   "cell_type": "markdown",
   "id": "04947982",
   "metadata": {},
   "source": [
    "#### 5 basic data types in python\n",
    "1. int\n",
    "2. float\n",
    "3. bool\n",
    "4. str\n",
    "5. NoneType\n",
    "![](https://scaler.com/topics/images/type-of-variables-in-python.webp)"
   ]
  },
  {
   "cell_type": "code",
   "execution_count": null,
   "id": "13d549d6",
   "metadata": {},
   "outputs": [],
   "source": []
  },
  {
   "cell_type": "code",
   "execution_count": null,
   "id": "ad957ea2",
   "metadata": {},
   "outputs": [],
   "source": []
  },
  {
   "cell_type": "markdown",
   "id": "fce71192",
   "metadata": {},
   "source": [
    "## Variables\n",
    "![](https://scaler.com/topics/images/variables-in-python.webp)"
   ]
  },
  {
   "cell_type": "code",
   "execution_count": 35,
   "id": "ef8d00b6",
   "metadata": {},
   "outputs": [],
   "source": [
    "x = 10\n",
    "y=5"
   ]
  },
  {
   "cell_type": "code",
   "execution_count": 36,
   "id": "91eafdc0",
   "metadata": {},
   "outputs": [
    {
     "name": "stdout",
     "output_type": "stream",
     "text": [
      "10\n"
     ]
    }
   ],
   "source": [
    "print(x)"
   ]
  },
  {
   "cell_type": "code",
   "execution_count": 37,
   "id": "c57d88c9",
   "metadata": {},
   "outputs": [
    {
     "name": "stdout",
     "output_type": "stream",
     "text": [
      "5\n"
     ]
    }
   ],
   "source": [
    "print(y)"
   ]
  },
  {
   "cell_type": "code",
   "execution_count": 38,
   "id": "54457e07",
   "metadata": {},
   "outputs": [
    {
     "name": "stdout",
     "output_type": "stream",
     "text": [
      "15\n"
     ]
    }
   ],
   "source": [
    "print(x + y)"
   ]
  },
  {
   "cell_type": "code",
   "execution_count": 39,
   "id": "2ef23675",
   "metadata": {},
   "outputs": [
    {
     "name": "stdout",
     "output_type": "stream",
     "text": [
      "x + y\n"
     ]
    }
   ],
   "source": [
    "print(\"x + y\")"
   ]
  },
  {
   "cell_type": "code",
   "execution_count": 40,
   "id": "ea4e868d",
   "metadata": {},
   "outputs": [
    {
     "name": "stdout",
     "output_type": "stream",
     "text": [
      "15\n",
      "5\n",
      "-5\n"
     ]
    }
   ],
   "source": [
    "x = 10\n",
    "y = 5\n",
    "\n",
    "print(x + y)\n",
    "print(x - y)\n",
    "print(y - x)"
   ]
  },
  {
   "cell_type": "code",
   "execution_count": null,
   "id": "d6346281",
   "metadata": {},
   "outputs": [],
   "source": []
  },
  {
   "cell_type": "code",
   "execution_count": 41,
   "id": "26bab5de",
   "metadata": {},
   "outputs": [
    {
     "name": "stdout",
     "output_type": "stream",
     "text": [
      "Hello world 123 #$%^&. /5678\n"
     ]
    }
   ],
   "source": [
    "s = \"Hello world 123 #$%^&. /5678\"\n",
    "print(s)"
   ]
  },
  {
   "cell_type": "code",
   "execution_count": 42,
   "id": "7d83c946",
   "metadata": {},
   "outputs": [
    {
     "ename": "NameError",
     "evalue": "name 'z' is not defined",
     "output_type": "error",
     "traceback": [
      "\u001b[0;31m---------------------------------------------------------------------------\u001b[0m",
      "\u001b[0;31mNameError\u001b[0m                                 Traceback (most recent call last)",
      "\u001b[0;32m/var/folders/jn/1bsrct314hv5xmfm7vrcdrzc0000gn/T/ipykernel_44554/557461111.py\u001b[0m in \u001b[0;36m<module>\u001b[0;34m\u001b[0m\n\u001b[0;32m----> 1\u001b[0;31m \u001b[0mprint\u001b[0m\u001b[0;34m(\u001b[0m\u001b[0mz\u001b[0m\u001b[0;34m)\u001b[0m\u001b[0;34m\u001b[0m\u001b[0;34m\u001b[0m\u001b[0m\n\u001b[0m",
      "\u001b[0;31mNameError\u001b[0m: name 'z' is not defined"
     ]
    }
   ],
   "source": [
    "print(z)"
   ]
  },
  {
   "cell_type": "code",
   "execution_count": null,
   "id": "4d57a694",
   "metadata": {},
   "outputs": [],
   "source": []
  },
  {
   "cell_type": "markdown",
   "id": "3d1ed658",
   "metadata": {},
   "source": [
    "<img src=\"https://scaler.com/topics/images/string-object-python-variable-1024x483.webp\" width=\"300px\" />"
   ]
  },
  {
   "cell_type": "code",
   "execution_count": null,
   "id": "4c9c9928",
   "metadata": {},
   "outputs": [],
   "source": []
  },
  {
   "cell_type": "code",
   "execution_count": 43,
   "id": "859ec416",
   "metadata": {},
   "outputs": [
    {
     "name": "stdout",
     "output_type": "stream",
     "text": [
      "9.1\n"
     ]
    }
   ],
   "source": [
    "a = 5.2\n",
    "b = 3.9\n",
    "\n",
    "print(a + b)"
   ]
  },
  {
   "cell_type": "code",
   "execution_count": 44,
   "id": "562c4a36",
   "metadata": {},
   "outputs": [
    {
     "name": "stdout",
     "output_type": "stream",
     "text": [
      "20\n"
     ]
    }
   ],
   "source": [
    "x = 10\n",
    "x = 8\n",
    "x = 20\n",
    "print(x)"
   ]
  },
  {
   "cell_type": "code",
   "execution_count": null,
   "id": "914d5cb1",
   "metadata": {},
   "outputs": [],
   "source": []
  },
  {
   "cell_type": "code",
   "execution_count": null,
   "id": "82631737",
   "metadata": {},
   "outputs": [],
   "source": []
  },
  {
   "cell_type": "code",
   "execution_count": null,
   "id": "5f596421",
   "metadata": {},
   "outputs": [],
   "source": []
  },
  {
   "cell_type": "markdown",
   "id": "2f301c37",
   "metadata": {},
   "source": [
    "#### Quiz 3\n",
    "```py\n",
    "x = 3  \n",
    "y = 'hello'  \n",
    "print(x)  \n",
    "print(y)\n",
    "```"
   ]
  },
  {
   "cell_type": "code",
   "execution_count": 45,
   "id": "0d0bd9d3",
   "metadata": {},
   "outputs": [
    {
     "name": "stdout",
     "output_type": "stream",
     "text": [
      "3\n",
      "hello\n"
     ]
    }
   ],
   "source": [
    "x = 3  \n",
    "y = 'hello'\n",
    "print(x)  \n",
    "print(y)"
   ]
  },
  {
   "cell_type": "code",
   "execution_count": null,
   "id": "01e04be8",
   "metadata": {},
   "outputs": [],
   "source": []
  },
  {
   "cell_type": "markdown",
   "id": "d4c0d5ee",
   "metadata": {},
   "source": [
    "#### Quiz 4\n",
    "```py\n",
    "name='Batman'\n",
    "print(Name)\n",
    "```"
   ]
  },
  {
   "cell_type": "code",
   "execution_count": 46,
   "id": "2a5bc1e6",
   "metadata": {},
   "outputs": [
    {
     "ename": "NameError",
     "evalue": "name 'Name' is not defined",
     "output_type": "error",
     "traceback": [
      "\u001b[0;31m---------------------------------------------------------------------------\u001b[0m",
      "\u001b[0;31mNameError\u001b[0m                                 Traceback (most recent call last)",
      "\u001b[0;32m/var/folders/jn/1bsrct314hv5xmfm7vrcdrzc0000gn/T/ipykernel_44554/989798771.py\u001b[0m in \u001b[0;36m<module>\u001b[0;34m\u001b[0m\n\u001b[1;32m      1\u001b[0m \u001b[0mname\u001b[0m\u001b[0;34m=\u001b[0m\u001b[0;34m'Batman'\u001b[0m\u001b[0;34m\u001b[0m\u001b[0;34m\u001b[0m\u001b[0m\n\u001b[0;32m----> 2\u001b[0;31m \u001b[0mprint\u001b[0m\u001b[0;34m(\u001b[0m\u001b[0mName\u001b[0m\u001b[0;34m)\u001b[0m\u001b[0;34m\u001b[0m\u001b[0;34m\u001b[0m\u001b[0m\n\u001b[0m",
      "\u001b[0;31mNameError\u001b[0m: name 'Name' is not defined"
     ]
    }
   ],
   "source": [
    "name='Batman'\n",
    "print(Name)"
   ]
  },
  {
   "cell_type": "code",
   "execution_count": 47,
   "id": "384d264e",
   "metadata": {},
   "outputs": [
    {
     "name": "stdout",
     "output_type": "stream",
     "text": [
      "Batman\n"
     ]
    }
   ],
   "source": [
    "print(name)"
   ]
  },
  {
   "cell_type": "code",
   "execution_count": null,
   "id": "5b9368f8",
   "metadata": {},
   "outputs": [],
   "source": []
  },
  {
   "cell_type": "markdown",
   "id": "b341ef58",
   "metadata": {},
   "source": [
    "### Variable Naming Convention\n",
    "- The variable name should either begin with an Uppercase(A to Z) or Lowercase(a to z) character or an underscore(_).\n",
    "- One should always remember to use a meaningful name for variables in Python. For example – no_of_chocolates makes more sense than noc.\n",
    "- Which brings us to the next point. If a variable has multiple words, it is advised to separate them with an underscore.\n",
    "- One should ensure that a variable name should not be similar to keywords of the programming language.\n",
    "- One should also remember that even variable names are case-sensitive.\n",
    "- A variable should not begin with a digit or contain any white spaces or special characters such as #,@,&."
   ]
  },
  {
   "cell_type": "code",
   "execution_count": 48,
   "id": "a27f83ce",
   "metadata": {},
   "outputs": [],
   "source": [
    "SCALER = 50\n",
    "scaler = 20\n",
    "_scaler = 100"
   ]
  },
  {
   "cell_type": "code",
   "execution_count": 49,
   "id": "3caa55d8",
   "metadata": {},
   "outputs": [
    {
     "ename": "SyntaxError",
     "evalue": "invalid syntax (2373724601.py, line 1)",
     "output_type": "error",
     "traceback": [
      "\u001b[0;36m  File \u001b[0;32m\"/var/folders/jn/1bsrct314hv5xmfm7vrcdrzc0000gn/T/ipykernel_44554/2373724601.py\"\u001b[0;36m, line \u001b[0;32m1\u001b[0m\n\u001b[0;31m    12monkeys = 40\u001b[0m\n\u001b[0m      ^\u001b[0m\n\u001b[0;31mSyntaxError\u001b[0m\u001b[0;31m:\u001b[0m invalid syntax\n"
     ]
    }
   ],
   "source": [
    "12monkeys = 40"
   ]
  },
  {
   "cell_type": "code",
   "execution_count": 50,
   "id": "f4a2dea0",
   "metadata": {},
   "outputs": [
    {
     "ename": "SyntaxError",
     "evalue": "invalid syntax (3204100797.py, line 1)",
     "output_type": "error",
     "traceback": [
      "\u001b[0;36m  File \u001b[0;32m\"/var/folders/jn/1bsrct314hv5xmfm7vrcdrzc0000gn/T/ipykernel_44554/3204100797.py\"\u001b[0;36m, line \u001b[0;32m1\u001b[0m\n\u001b[0;31m    &scaler = 80\u001b[0m\n\u001b[0m    ^\u001b[0m\n\u001b[0;31mSyntaxError\u001b[0m\u001b[0;31m:\u001b[0m invalid syntax\n"
     ]
    }
   ],
   "source": [
    "&scaler = 80"
   ]
  },
  {
   "cell_type": "code",
   "execution_count": null,
   "id": "9f5f5940",
   "metadata": {},
   "outputs": [],
   "source": []
  },
  {
   "cell_type": "code",
   "execution_count": null,
   "id": "35bda14a",
   "metadata": {},
   "outputs": [],
   "source": [
    "noc = 10\n",
    "no_of_chocolates = 10\n",
    "noofchocolates = 10\n",
    "noOfChocolates = 10\n",
    "\n",
    "aop = 100\n",
    "age_of_person = 100"
   ]
  },
  {
   "cell_type": "code",
   "execution_count": null,
   "id": "007b585b",
   "metadata": {},
   "outputs": [],
   "source": [
    "!@$%^&*()_+[]{}"
   ]
  },
  {
   "cell_type": "code",
   "execution_count": 51,
   "id": "92a78cb3",
   "metadata": {},
   "outputs": [
    {
     "ename": "SyntaxError",
     "evalue": "cannot assign to True (637460295.py, line 1)",
     "output_type": "error",
     "traceback": [
      "\u001b[0;36m  File \u001b[0;32m\"/var/folders/jn/1bsrct314hv5xmfm7vrcdrzc0000gn/T/ipykernel_44554/637460295.py\"\u001b[0;36m, line \u001b[0;32m1\u001b[0m\n\u001b[0;31m    True = 75\u001b[0m\n\u001b[0m    ^\u001b[0m\n\u001b[0;31mSyntaxError\u001b[0m\u001b[0;31m:\u001b[0m cannot assign to True\n"
     ]
    }
   ],
   "source": [
    "True = 75"
   ]
  },
  {
   "cell_type": "code",
   "execution_count": 52,
   "id": "367c1dd9",
   "metadata": {},
   "outputs": [
    {
     "ename": "SyntaxError",
     "evalue": "cannot assign to False (3412242734.py, line 1)",
     "output_type": "error",
     "traceback": [
      "\u001b[0;36m  File \u001b[0;32m\"/var/folders/jn/1bsrct314hv5xmfm7vrcdrzc0000gn/T/ipykernel_44554/3412242734.py\"\u001b[0;36m, line \u001b[0;32m1\u001b[0m\n\u001b[0;31m    False = 90\u001b[0m\n\u001b[0m    ^\u001b[0m\n\u001b[0;31mSyntaxError\u001b[0m\u001b[0;31m:\u001b[0m cannot assign to False\n"
     ]
    }
   ],
   "source": [
    "False = 90"
   ]
  },
  {
   "cell_type": "code",
   "execution_count": 54,
   "id": "69de7112",
   "metadata": {},
   "outputs": [
    {
     "ename": "SyntaxError",
     "evalue": "cannot assign to None (1162910450.py, line 1)",
     "output_type": "error",
     "traceback": [
      "\u001b[0;36m  File \u001b[0;32m\"/var/folders/jn/1bsrct314hv5xmfm7vrcdrzc0000gn/T/ipykernel_44554/1162910450.py\"\u001b[0;36m, line \u001b[0;32m1\u001b[0m\n\u001b[0;31m    None = 3\u001b[0m\n\u001b[0m    ^\u001b[0m\n\u001b[0;31mSyntaxError\u001b[0m\u001b[0;31m:\u001b[0m cannot assign to None\n"
     ]
    }
   ],
   "source": [
    "None = 3"
   ]
  },
  {
   "cell_type": "code",
   "execution_count": null,
   "id": "b7a630a8",
   "metadata": {},
   "outputs": [],
   "source": []
  },
  {
   "cell_type": "code",
   "execution_count": 58,
   "id": "b3c03125",
   "metadata": {},
   "outputs": [
    {
     "name": "stdout",
     "output_type": "stream",
     "text": [
      "scaler\n",
      "dsml\n",
      "luthra\n"
     ]
    }
   ],
   "source": [
    "name = \"tarun\"\n",
    "Name = \"luthra\"\n",
    "nAmE = 'scaler'\n",
    "NamE = 'interviewbit'\n",
    "NAME = 'dsml'\n",
    "\n",
    "print(nAmE)\n",
    "print(NAME)\n",
    "print(Name)"
   ]
  },
  {
   "cell_type": "code",
   "execution_count": 66,
   "id": "548592d6",
   "metadata": {},
   "outputs": [
    {
     "ename": "SyntaxError",
     "evalue": "invalid syntax (942950474.py, line 1)",
     "output_type": "error",
     "traceback": [
      "\u001b[0;36m  File \u001b[0;32m\"/var/folders/jn/1bsrct314hv5xmfm7vrcdrzc0000gn/T/ipykernel_44554/942950474.py\"\u001b[0;36m, line \u001b[0;32m1\u001b[0m\n\u001b[0;31m    first last = 'tarun luthra'\u001b[0m\n\u001b[0m          ^\u001b[0m\n\u001b[0;31mSyntaxError\u001b[0m\u001b[0;31m:\u001b[0m invalid syntax\n"
     ]
    }
   ],
   "source": [
    "first last = 'tarun luthra'"
   ]
  },
  {
   "cell_type": "code",
   "execution_count": 61,
   "id": "56f303af",
   "metadata": {},
   "outputs": [
    {
     "ename": "SyntaxError",
     "evalue": "invalid syntax (4007737847.py, line 1)",
     "output_type": "error",
     "traceback": [
      "\u001b[0;36m  File \u001b[0;32m\"/var/folders/jn/1bsrct314hv5xmfm7vrcdrzc0000gn/T/ipykernel_44554/4007737847.py\"\u001b[0;36m, line \u001b[0;32m1\u001b[0m\n\u001b[0;31m    name person = 'hello world'\u001b[0m\n\u001b[0m         ^\u001b[0m\n\u001b[0;31mSyntaxError\u001b[0m\u001b[0;31m:\u001b[0m invalid syntax\n"
     ]
    }
   ],
   "source": [
    "name person = 'hello world'"
   ]
  },
  {
   "cell_type": "code",
   "execution_count": 62,
   "id": "eeec3d1c",
   "metadata": {},
   "outputs": [],
   "source": [
    "person1 = 'Ashish'\n",
    "person2 = 'Varalakshmi'\n",
    "person3 = 'Balraj'"
   ]
  },
  {
   "cell_type": "code",
   "execution_count": 63,
   "id": "446a665d",
   "metadata": {},
   "outputs": [
    {
     "name": "stdout",
     "output_type": "stream",
     "text": [
      "Ashish Varalakshmi Balraj\n"
     ]
    }
   ],
   "source": [
    "print(person1, person2, person3)"
   ]
  },
  {
   "cell_type": "code",
   "execution_count": 64,
   "id": "4ddc4f23",
   "metadata": {},
   "outputs": [
    {
     "ename": "NameError",
     "evalue": "name 'person' is not defined",
     "output_type": "error",
     "traceback": [
      "\u001b[0;31m---------------------------------------------------------------------------\u001b[0m",
      "\u001b[0;31mNameError\u001b[0m                                 Traceback (most recent call last)",
      "\u001b[0;32m/var/folders/jn/1bsrct314hv5xmfm7vrcdrzc0000gn/T/ipykernel_44554/4147899475.py\u001b[0m in \u001b[0;36m<module>\u001b[0;34m\u001b[0m\n\u001b[0;32m----> 1\u001b[0;31m \u001b[0mprint\u001b[0m\u001b[0;34m(\u001b[0m\u001b[0mperson\u001b[0m\u001b[0;34m)\u001b[0m\u001b[0;34m\u001b[0m\u001b[0;34m\u001b[0m\u001b[0m\n\u001b[0m",
      "\u001b[0;31mNameError\u001b[0m: name 'person' is not defined"
     ]
    }
   ],
   "source": [
    "print(person)"
   ]
  },
  {
   "cell_type": "code",
   "execution_count": null,
   "id": "e90a26ff",
   "metadata": {},
   "outputs": [],
   "source": []
  },
  {
   "cell_type": "code",
   "execution_count": null,
   "id": "e83a4dff",
   "metadata": {},
   "outputs": [],
   "source": []
  },
  {
   "cell_type": "markdown",
   "id": "90e78461",
   "metadata": {},
   "source": [
    "#### Quiz 5\n",
    "Which of the following is a valid variable name? \\\n",
    "a. hELLO \\\n",
    "b. 1_name_Input \\\n",
    "c. a\\*b*c \\\n",
    "d. Cod3$#"
   ]
  },
  {
   "cell_type": "markdown",
   "id": "4b0bf6aa",
   "metadata": {},
   "source": [
    "**Correct answer = a**"
   ]
  },
  {
   "cell_type": "code",
   "execution_count": 67,
   "id": "35da92d2",
   "metadata": {},
   "outputs": [],
   "source": [
    "hELLO = 10"
   ]
  },
  {
   "cell_type": "code",
   "execution_count": 68,
   "id": "957fb480",
   "metadata": {},
   "outputs": [
    {
     "ename": "SyntaxError",
     "evalue": "invalid decimal literal (3281844506.py, line 1)",
     "output_type": "error",
     "traceback": [
      "\u001b[0;36m  File \u001b[0;32m\"/var/folders/jn/1bsrct314hv5xmfm7vrcdrzc0000gn/T/ipykernel_44554/3281844506.py\"\u001b[0;36m, line \u001b[0;32m1\u001b[0m\n\u001b[0;31m    1_name_Input = 20\u001b[0m\n\u001b[0m     ^\u001b[0m\n\u001b[0;31mSyntaxError\u001b[0m\u001b[0;31m:\u001b[0m invalid decimal literal\n"
     ]
    }
   ],
   "source": [
    "1_name_Input = 20"
   ]
  },
  {
   "cell_type": "code",
   "execution_count": 69,
   "id": "83cc583c",
   "metadata": {},
   "outputs": [
    {
     "ename": "SyntaxError",
     "evalue": "cannot assign to operator (1016718263.py, line 1)",
     "output_type": "error",
     "traceback": [
      "\u001b[0;36m  File \u001b[0;32m\"/var/folders/jn/1bsrct314hv5xmfm7vrcdrzc0000gn/T/ipykernel_44554/1016718263.py\"\u001b[0;36m, line \u001b[0;32m1\u001b[0m\n\u001b[0;31m    a*b*c = 30\u001b[0m\n\u001b[0m    ^\u001b[0m\n\u001b[0;31mSyntaxError\u001b[0m\u001b[0;31m:\u001b[0m cannot assign to operator\n"
     ]
    }
   ],
   "source": [
    "a*b*c = 30"
   ]
  },
  {
   "cell_type": "code",
   "execution_count": 70,
   "id": "dde57fbc",
   "metadata": {},
   "outputs": [
    {
     "ename": "SyntaxError",
     "evalue": "invalid syntax (589967513.py, line 1)",
     "output_type": "error",
     "traceback": [
      "\u001b[0;36m  File \u001b[0;32m\"/var/folders/jn/1bsrct314hv5xmfm7vrcdrzc0000gn/T/ipykernel_44554/589967513.py\"\u001b[0;36m, line \u001b[0;32m1\u001b[0m\n\u001b[0;31m    Cod3$# = 40\u001b[0m\n\u001b[0m        ^\u001b[0m\n\u001b[0;31mSyntaxError\u001b[0m\u001b[0;31m:\u001b[0m invalid syntax\n"
     ]
    }
   ],
   "source": [
    "Cod3$# = 40"
   ]
  },
  {
   "cell_type": "code",
   "execution_count": null,
   "id": "f9995a6e",
   "metadata": {},
   "outputs": [],
   "source": []
  },
  {
   "cell_type": "code",
   "execution_count": 74,
   "id": "1521adcc",
   "metadata": {},
   "outputs": [],
   "source": []
  },
  {
   "cell_type": "code",
   "execution_count": 72,
   "id": "72690872",
   "metadata": {},
   "outputs": [
    {
     "name": "stdout",
     "output_type": "stream",
     "text": [
      "10\n",
      "10\n"
     ]
    }
   ],
   "source": [
    "x = 10\n",
    "y = 20\n",
    "\n",
    "y = x\n",
    "\n",
    "print(x)\n",
    "print(y)"
   ]
  },
  {
   "cell_type": "code",
   "execution_count": null,
   "id": "6bc504ae",
   "metadata": {},
   "outputs": [],
   "source": []
  },
  {
   "cell_type": "code",
   "execution_count": null,
   "id": "85239b87",
   "metadata": {},
   "outputs": [],
   "source": []
  },
  {
   "cell_type": "code",
   "execution_count": null,
   "id": "79e27653",
   "metadata": {},
   "outputs": [],
   "source": []
  },
  {
   "cell_type": "markdown",
   "id": "2598dd0b",
   "metadata": {},
   "source": [
    "#### Quiz 6\n",
    "x = 3  \n",
    "y = 'hello'  \n",
    "num = y  \n",
    "y = 5  \n",
    "print(num, y)"
   ]
  },
  {
   "cell_type": "code",
   "execution_count": 73,
   "id": "54f362f8",
   "metadata": {},
   "outputs": [
    {
     "name": "stdout",
     "output_type": "stream",
     "text": [
      "hello 5\n"
     ]
    }
   ],
   "source": [
    "x = 3\n",
    "y = 'hello'\n",
    "num = y\n",
    "y = 5\n",
    "print(num, y)"
   ]
  },
  {
   "cell_type": "code",
   "execution_count": null,
   "id": "a9ad1c17",
   "metadata": {},
   "outputs": [],
   "source": []
  },
  {
   "cell_type": "code",
   "execution_count": null,
   "id": "7d2e3ec3",
   "metadata": {},
   "outputs": [],
   "source": []
  },
  {
   "cell_type": "code",
   "execution_count": null,
   "id": "9b021d20",
   "metadata": {},
   "outputs": [],
   "source": []
  },
  {
   "cell_type": "code",
   "execution_count": null,
   "id": "360f28a5",
   "metadata": {},
   "outputs": [],
   "source": []
  },
  {
   "cell_type": "markdown",
   "id": "f3225639",
   "metadata": {},
   "source": [
    "## Input\n",
    "![](https://scaler.com/topics/images/raw-input-in-python.webp)"
   ]
  },
  {
   "cell_type": "markdown",
   "id": "d5d53469",
   "metadata": {},
   "source": [
    "### Greet the user"
   ]
  },
  {
   "cell_type": "code",
   "execution_count": 74,
   "id": "44871190",
   "metadata": {},
   "outputs": [
    {
     "name": "stdout",
     "output_type": "stream",
     "text": [
      "Hello Tarun\n"
     ]
    }
   ],
   "source": [
    "print(\"Hello Tarun\")"
   ]
  },
  {
   "cell_type": "code",
   "execution_count": 75,
   "id": "a39f2e29",
   "metadata": {},
   "outputs": [
    {
     "name": "stdout",
     "output_type": "stream",
     "text": [
      "Hello Batman\n"
     ]
    }
   ],
   "source": [
    "print(\"Hello Batman\")"
   ]
  },
  {
   "cell_type": "code",
   "execution_count": 76,
   "id": "ab45e7ab",
   "metadata": {},
   "outputs": [
    {
     "name": "stdout",
     "output_type": "stream",
     "text": [
      "Hello Superman\n"
     ]
    }
   ],
   "source": [
    "print(\"Hello Superman\")"
   ]
  },
  {
   "cell_type": "code",
   "execution_count": null,
   "id": "a7389c54",
   "metadata": {},
   "outputs": [],
   "source": []
  },
  {
   "cell_type": "code",
   "execution_count": 79,
   "id": "b64ade22",
   "metadata": {},
   "outputs": [
    {
     "name": "stdout",
     "output_type": "stream",
     "text": [
      "Hello Clark Kent\n"
     ]
    }
   ],
   "source": [
    "name = 'Clark Kent'\n",
    "print(\"Hello\", name)"
   ]
  },
  {
   "cell_type": "code",
   "execution_count": null,
   "id": "9763df67",
   "metadata": {},
   "outputs": [],
   "source": []
  },
  {
   "cell_type": "code",
   "execution_count": 84,
   "id": "827e18fe",
   "metadata": {},
   "outputs": [
    {
     "name": "stdout",
     "output_type": "stream",
     "text": [
      "10\n",
      "Hello 10\n"
     ]
    }
   ],
   "source": [
    "name = input()\n",
    "print(\"Hello\", name)"
   ]
  },
  {
   "cell_type": "code",
   "execution_count": null,
   "id": "353d1db3",
   "metadata": {},
   "outputs": [],
   "source": []
  },
  {
   "cell_type": "code",
   "execution_count": 86,
   "id": "2523176e",
   "metadata": {},
   "outputs": [
    {
     "name": "stdout",
     "output_type": "stream",
     "text": [
      "Tarun\n",
      "Luthra\n",
      "My name is  Tarun Luthra\n",
      "first =  Tarun\n",
      "last =  Luthra\n"
     ]
    }
   ],
   "source": [
    "first = input()\n",
    "last = input()\n",
    "\n",
    "print(\"My name is \", first, last)\n",
    "\n",
    "print(\"first = \", first)\n",
    "print(\"last = \", last)"
   ]
  },
  {
   "cell_type": "code",
   "execution_count": null,
   "id": "633cb278",
   "metadata": {},
   "outputs": [],
   "source": []
  },
  {
   "cell_type": "code",
   "execution_count": null,
   "id": "2d6077c6",
   "metadata": {},
   "outputs": [],
   "source": []
  },
  {
   "cell_type": "code",
   "execution_count": null,
   "id": "b67450e6",
   "metadata": {},
   "outputs": [],
   "source": []
  },
  {
   "cell_type": "code",
   "execution_count": null,
   "id": "d68fcdcf",
   "metadata": {},
   "outputs": [],
   "source": []
  },
  {
   "cell_type": "code",
   "execution_count": null,
   "id": "a5df5725",
   "metadata": {},
   "outputs": [],
   "source": []
  },
  {
   "cell_type": "code",
   "execution_count": null,
   "id": "1be88121",
   "metadata": {},
   "outputs": [],
   "source": []
  },
  {
   "cell_type": "code",
   "execution_count": null,
   "id": "1e209931",
   "metadata": {},
   "outputs": [],
   "source": []
  },
  {
   "cell_type": "code",
   "execution_count": null,
   "id": "3c0bb6ba",
   "metadata": {},
   "outputs": [],
   "source": []
  },
  {
   "cell_type": "code",
   "execution_count": null,
   "id": "a378e9d1",
   "metadata": {},
   "outputs": [],
   "source": []
  },
  {
   "cell_type": "markdown",
   "id": "cc1143e1",
   "metadata": {},
   "source": [
    "#### Quiz 7\n",
    "x = input()  \n",
    "y = input()  \n",
    "print(x + y)"
   ]
  },
  {
   "cell_type": "code",
   "execution_count": 87,
   "id": "74ce438d",
   "metadata": {},
   "outputs": [
    {
     "name": "stdout",
     "output_type": "stream",
     "text": [
      "5\n",
      "6\n",
      "56\n"
     ]
    }
   ],
   "source": [
    "x = input() # \"5\"\n",
    "y = input() # \"6\"\n",
    "print(x + y) # \"5\" + \"6\"\n",
    "# String concatenation"
   ]
  },
  {
   "cell_type": "code",
   "execution_count": null,
   "id": "0a32b8a5",
   "metadata": {},
   "outputs": [],
   "source": []
  },
  {
   "cell_type": "code",
   "execution_count": null,
   "id": "7f5303ba",
   "metadata": {},
   "outputs": [],
   "source": []
  },
  {
   "cell_type": "code",
   "execution_count": 88,
   "id": "6b8d0051",
   "metadata": {},
   "outputs": [
    {
     "name": "stdout",
     "output_type": "stream",
     "text": [
      "okhello\n"
     ]
    }
   ],
   "source": [
    "print(\"ok\" + \"hello\")"
   ]
  },
  {
   "cell_type": "code",
   "execution_count": 89,
   "id": "a9db6403",
   "metadata": {},
   "outputs": [
    {
     "name": "stdout",
     "output_type": "stream",
     "text": [
      "helloworld\n"
     ]
    }
   ],
   "source": [
    "print(\"hello\" + 'world')"
   ]
  },
  {
   "cell_type": "code",
   "execution_count": 90,
   "id": "f4659f47",
   "metadata": {},
   "outputs": [
    {
     "name": "stdout",
     "output_type": "stream",
     "text": [
      "1020\n"
     ]
    }
   ],
   "source": [
    "print('10' + \"20\")"
   ]
  },
  {
   "cell_type": "code",
   "execution_count": null,
   "id": "78e8ae8b",
   "metadata": {},
   "outputs": [],
   "source": []
  },
  {
   "cell_type": "markdown",
   "id": "30a5358c",
   "metadata": {},
   "source": [
    "## Type conversion - Typecasting\n",
    "![](https://scaler.com/topics/images/what-is-type-casting-in-python.webp)"
   ]
  },
  {
   "cell_type": "code",
   "execution_count": null,
   "id": "1747356f",
   "metadata": {},
   "outputs": [],
   "source": []
  },
  {
   "cell_type": "code",
   "execution_count": 92,
   "id": "456965cf",
   "metadata": {},
   "outputs": [
    {
     "name": "stdout",
     "output_type": "stream",
     "text": [
      "56 <class 'int'>\n"
     ]
    }
   ],
   "source": [
    "# Convert to int\n",
    "y = int(\"56\")\n",
    "print(y, type(y))"
   ]
  },
  {
   "cell_type": "code",
   "execution_count": 93,
   "id": "a8d578e9",
   "metadata": {},
   "outputs": [
    {
     "name": "stdout",
     "output_type": "stream",
     "text": [
      "75 <class 'int'>\n"
     ]
    }
   ],
   "source": [
    "x = int(\"75\")\n",
    "print(x, type(x))"
   ]
  },
  {
   "cell_type": "code",
   "execution_count": 94,
   "id": "a086d0ce",
   "metadata": {},
   "outputs": [
    {
     "name": "stdout",
     "output_type": "stream",
     "text": [
      "131\n"
     ]
    }
   ],
   "source": [
    "print(x + y)"
   ]
  },
  {
   "cell_type": "code",
   "execution_count": 95,
   "id": "f78c7258",
   "metadata": {},
   "outputs": [
    {
     "name": "stdout",
     "output_type": "stream",
     "text": [
      "5675\n"
     ]
    }
   ],
   "source": [
    "print(\"56\" + \"75\")"
   ]
  },
  {
   "cell_type": "code",
   "execution_count": null,
   "id": "b927c167",
   "metadata": {},
   "outputs": [],
   "source": []
  },
  {
   "cell_type": "markdown",
   "id": "e6fbf2ca",
   "metadata": {},
   "source": [
    "## Sum of two numbers"
   ]
  },
  {
   "cell_type": "code",
   "execution_count": 97,
   "id": "28ddbc29",
   "metadata": {},
   "outputs": [
    {
     "name": "stdout",
     "output_type": "stream",
     "text": [
      "5\n",
      "6\n",
      "11\n"
     ]
    }
   ],
   "source": [
    "x = int(input())\n",
    "y = int(input())\n",
    "print(x + y)"
   ]
  },
  {
   "cell_type": "code",
   "execution_count": null,
   "id": "4a68eb02",
   "metadata": {},
   "outputs": [],
   "source": []
  },
  {
   "cell_type": "code",
   "execution_count": null,
   "id": "d405e15d",
   "metadata": {},
   "outputs": [],
   "source": []
  },
  {
   "cell_type": "code",
   "execution_count": null,
   "id": "58b5530f",
   "metadata": {},
   "outputs": [],
   "source": []
  },
  {
   "cell_type": "code",
   "execution_count": null,
   "id": "12003e1c",
   "metadata": {},
   "outputs": [],
   "source": []
  },
  {
   "cell_type": "code",
   "execution_count": null,
   "id": "1fc5a486",
   "metadata": {},
   "outputs": [],
   "source": []
  },
  {
   "cell_type": "markdown",
   "id": "eb013b62",
   "metadata": {},
   "source": [
    "# Bonus Reading Material\n",
    "- Print in Python - https://www.scaler.com/topics/print-in-python/\n",
    "- Type in Python - https://www.scaler.com/topics/type-in-python/\n",
    "- Data Types in Python - https://www.scaler.com/topics/data-types-in-python/\n",
    "- Python Input and Output - https://www.scaler.com/topics/python/python-input-and-output/\n",
    "- Variables in Python - https://www.scaler.com/topics/python/variables-in-python/\n",
    "- What are the Types of Variables in Python? - https://www.scaler.com/topics/type-of-variables-in-python/\n",
    "- What is Type Casting in Python? - https://www.scaler.com/topics/type-casting-in-python/\n",
    "- Type Conversion in Python - https://www.scaler.com/topics/type-conversion-in-python/\n",
    "- Implicit Type Conversion in Python - https://www.scaler.com/topics/python/implicit-type-conversion-in-python/\n",
    "- Explicit Type Conversion in Python - https://www.scaler.com/topics/python/explicit-type-conversion-in-python/"
   ]
  },
  {
   "cell_type": "code",
   "execution_count": null,
   "id": "e9354352",
   "metadata": {},
   "outputs": [],
   "source": []
  },
  {
   "cell_type": "code",
   "execution_count": null,
   "id": "1771ec65",
   "metadata": {},
   "outputs": [],
   "source": []
  },
  {
   "cell_type": "code",
   "execution_count": null,
   "id": "8341fe67",
   "metadata": {},
   "outputs": [],
   "source": []
  },
  {
   "cell_type": "markdown",
   "id": "d648eac6",
   "metadata": {},
   "source": [
    "# Doubts"
   ]
  },
  {
   "cell_type": "code",
   "execution_count": 98,
   "id": "f470b5b4",
   "metadata": {},
   "outputs": [
    {
     "ename": "ValueError",
     "evalue": "invalid literal for int() with base 10: 'abc'",
     "output_type": "error",
     "traceback": [
      "\u001b[0;31m---------------------------------------------------------------------------\u001b[0m",
      "\u001b[0;31mValueError\u001b[0m                                Traceback (most recent call last)",
      "\u001b[0;32m/var/folders/jn/1bsrct314hv5xmfm7vrcdrzc0000gn/T/ipykernel_44554/2814401483.py\u001b[0m in \u001b[0;36m<module>\u001b[0;34m\u001b[0m\n\u001b[0;32m----> 1\u001b[0;31m \u001b[0mx\u001b[0m \u001b[0;34m=\u001b[0m \u001b[0mint\u001b[0m\u001b[0;34m(\u001b[0m\u001b[0;34m\"abc\"\u001b[0m\u001b[0;34m)\u001b[0m\u001b[0;34m\u001b[0m\u001b[0;34m\u001b[0m\u001b[0m\n\u001b[0m",
      "\u001b[0;31mValueError\u001b[0m: invalid literal for int() with base 10: 'abc'"
     ]
    }
   ],
   "source": [
    "x = int(\"abc\")"
   ]
  },
  {
   "cell_type": "code",
   "execution_count": 99,
   "id": "bf7d1653",
   "metadata": {},
   "outputs": [
    {
     "data": {
      "text/plain": [
       "int"
      ]
     },
     "execution_count": 99,
     "metadata": {},
     "output_type": "execute_result"
    }
   ],
   "source": [
    "type(5)"
   ]
  },
  {
   "cell_type": "code",
   "execution_count": 100,
   "id": "fe4426b0",
   "metadata": {},
   "outputs": [
    {
     "data": {
      "text/plain": [
       "float"
      ]
     },
     "execution_count": 100,
     "metadata": {},
     "output_type": "execute_result"
    }
   ],
   "source": [
    "type(4.8)"
   ]
  },
  {
   "cell_type": "code",
   "execution_count": 101,
   "id": "36f180b5",
   "metadata": {},
   "outputs": [
    {
     "data": {
      "text/plain": [
       "str"
      ]
     },
     "execution_count": 101,
     "metadata": {},
     "output_type": "execute_result"
    }
   ],
   "source": [
    "type('hello}')"
   ]
  },
  {
   "cell_type": "code",
   "execution_count": 102,
   "id": "816d25a7",
   "metadata": {},
   "outputs": [
    {
     "name": "stdout",
     "output_type": "stream",
     "text": [
      "5\n"
     ]
    }
   ],
   "source": [
    "x = 10\n",
    "x = 5\n",
    "print(x)"
   ]
  },
  {
   "cell_type": "code",
   "execution_count": 103,
   "id": "9fb0f1ff",
   "metadata": {},
   "outputs": [
    {
     "name": "stdout",
     "output_type": "stream",
     "text": [
      "Hello\n",
      "World\n"
     ]
    }
   ],
   "source": [
    "print(\"Hello\")\n",
    "print(\"World\")"
   ]
  },
  {
   "cell_type": "code",
   "execution_count": 104,
   "id": "d182e26a",
   "metadata": {},
   "outputs": [
    {
     "name": "stdout",
     "output_type": "stream",
     "text": [
      "Hello\n",
      "\n",
      "World\n"
     ]
    }
   ],
   "source": [
    "print(\"Hello\")\n",
    "print()\n",
    "print(\"World\")"
   ]
  },
  {
   "cell_type": "code",
   "execution_count": 105,
   "id": "06217fb9",
   "metadata": {},
   "outputs": [
    {
     "name": "stdout",
     "output_type": "stream",
     "text": [
      "helloworld\n"
     ]
    }
   ],
   "source": [
    "x = \"hello\" + \"world\"\n",
    "print(x)"
   ]
  },
  {
   "cell_type": "code",
   "execution_count": 108,
   "id": "2a26d05e",
   "metadata": {},
   "outputs": [
    {
     "name": "stdout",
     "output_type": "stream",
     "text": [
      "okhiwow nice\n"
     ]
    }
   ],
   "source": [
    "y = \"ok\" + \"hi\" + 'wow' + ' ' + 'nice'\n",
    "print(y)"
   ]
  },
  {
   "cell_type": "code",
   "execution_count": 109,
   "id": "bde5d7e8",
   "metadata": {},
   "outputs": [
    {
     "name": "stdout",
     "output_type": "stream",
     "text": [
      "DSML Oct 22 is best\n"
     ]
    }
   ],
   "source": [
    "print(\"DSML Oct 22 is best\")"
   ]
  },
  {
   "cell_type": "code",
   "execution_count": null,
   "id": "34e7518c",
   "metadata": {},
   "outputs": [],
   "source": []
  }
 ],
 "metadata": {
  "kernelspec": {
   "display_name": "Python 3 (ipykernel)",
   "language": "python",
   "name": "python3"
  },
  "language_info": {
   "codemirror_mode": {
    "name": "ipython",
    "version": 3
   },
   "file_extension": ".py",
   "mimetype": "text/x-python",
   "name": "python",
   "nbconvert_exporter": "python",
   "pygments_lexer": "ipython3",
   "version": "3.9.12"
  },
  "vscode": {
   "interpreter": {
    "hash": "b0fa6594d8f4cbf19f97940f81e996739fb7646882a419484c72d19e05852a7e"
   }
  }
 },
 "nbformat": 4,
 "nbformat_minor": 5
}
