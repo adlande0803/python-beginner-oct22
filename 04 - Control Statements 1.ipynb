{
 "cells": [
  {
   "cell_type": "markdown",
   "id": "12e3d52d",
   "metadata": {},
   "source": [
    "# Control Statements 1"
   ]
  },
  {
   "cell_type": "markdown",
   "id": "b2a02597",
   "metadata": {},
   "source": [
    "## Revision"
   ]
  },
  {
   "cell_type": "code",
   "execution_count": null,
   "id": "9e7682ff",
   "metadata": {},
   "outputs": [],
   "source": []
  },
  {
   "cell_type": "code",
   "execution_count": null,
   "id": "736b9635",
   "metadata": {},
   "outputs": [],
   "source": []
  },
  {
   "cell_type": "code",
   "execution_count": null,
   "id": "9b6a6356",
   "metadata": {},
   "outputs": [],
   "source": []
  },
  {
   "cell_type": "markdown",
   "id": "8272d976",
   "metadata": {},
   "source": [
    "#### Quiz 1\n",
    "```py\n",
    "a = 5\n",
    "print(a // 2)\n",
    "```"
   ]
  },
  {
   "cell_type": "code",
   "execution_count": 1,
   "id": "55c203b0",
   "metadata": {},
   "outputs": [
    {
     "name": "stdout",
     "output_type": "stream",
     "text": [
      "2\n"
     ]
    }
   ],
   "source": [
    "a = 5\n",
    "print(a // 2)"
   ]
  },
  {
   "cell_type": "code",
   "execution_count": null,
   "id": "f1da0fcf",
   "metadata": {},
   "outputs": [],
   "source": []
  },
  {
   "cell_type": "code",
   "execution_count": null,
   "id": "6791cd48",
   "metadata": {},
   "outputs": [],
   "source": []
  },
  {
   "cell_type": "markdown",
   "id": "4f775104",
   "metadata": {},
   "source": [
    "#### Quiz 2\n",
    "```py\n",
    "a = -5\n",
    "print(a//2)\n",
    "```"
   ]
  },
  {
   "cell_type": "code",
   "execution_count": 2,
   "id": "f9d22cec",
   "metadata": {},
   "outputs": [
    {
     "name": "stdout",
     "output_type": "stream",
     "text": [
      "-3\n"
     ]
    }
   ],
   "source": [
    "a = -5\n",
    "print(a//2)"
   ]
  },
  {
   "cell_type": "code",
   "execution_count": null,
   "id": "96e314d4",
   "metadata": {},
   "outputs": [],
   "source": []
  },
  {
   "cell_type": "markdown",
   "id": "0294881c",
   "metadata": {},
   "source": [
    "#### Quiz 3\n",
    "```py\n",
    "a = 5\n",
    "a = 8\n",
    "print(a // 3)\n",
    "```"
   ]
  },
  {
   "cell_type": "code",
   "execution_count": 3,
   "id": "15abdc6f",
   "metadata": {},
   "outputs": [
    {
     "name": "stdout",
     "output_type": "stream",
     "text": [
      "2\n"
     ]
    }
   ],
   "source": [
    "a = 5\n",
    "a = 8\n",
    "print(a // 3) # 8 // 3"
   ]
  },
  {
   "cell_type": "code",
   "execution_count": null,
   "id": "95a599d3",
   "metadata": {},
   "outputs": [],
   "source": []
  },
  {
   "cell_type": "code",
   "execution_count": null,
   "id": "c63a2f16",
   "metadata": {},
   "outputs": [],
   "source": []
  },
  {
   "cell_type": "markdown",
   "id": "c1370964",
   "metadata": {},
   "source": [
    "#### Quiz 4\n",
    "```py\n",
    "print(bool(\"abc\"))\n",
    "```"
   ]
  },
  {
   "cell_type": "code",
   "execution_count": 4,
   "id": "79279427",
   "metadata": {},
   "outputs": [
    {
     "name": "stdout",
     "output_type": "stream",
     "text": [
      "True\n"
     ]
    }
   ],
   "source": [
    "print(bool(\"abc\"))"
   ]
  },
  {
   "cell_type": "code",
   "execution_count": 5,
   "id": "fadc3838",
   "metadata": {},
   "outputs": [
    {
     "data": {
      "text/plain": [
       "True"
      ]
     },
     "execution_count": 5,
     "metadata": {},
     "output_type": "execute_result"
    }
   ],
   "source": [
    "bool(\"hello world. how are you ? \")"
   ]
  },
  {
   "cell_type": "code",
   "execution_count": null,
   "id": "34a5e4fd",
   "metadata": {},
   "outputs": [],
   "source": []
  },
  {
   "cell_type": "markdown",
   "id": "094972d5",
   "metadata": {},
   "source": [
    "All strings return True when converted to bool, except the empty string."
   ]
  },
  {
   "cell_type": "code",
   "execution_count": 6,
   "id": "66bed2cb",
   "metadata": {},
   "outputs": [
    {
     "data": {
      "text/plain": [
       "False"
      ]
     },
     "execution_count": 6,
     "metadata": {},
     "output_type": "execute_result"
    }
   ],
   "source": [
    "bool(\"\")"
   ]
  },
  {
   "cell_type": "code",
   "execution_count": null,
   "id": "0118660c",
   "metadata": {},
   "outputs": [],
   "source": []
  },
  {
   "cell_type": "code",
   "execution_count": null,
   "id": "cd6a9643",
   "metadata": {},
   "outputs": [],
   "source": []
  },
  {
   "cell_type": "markdown",
   "id": "f5084d70",
   "metadata": {},
   "source": [
    "#### Quiz 5\n",
    "```py\n",
    "print(\"cat\" == \"dog\")\n",
    "```"
   ]
  },
  {
   "cell_type": "code",
   "execution_count": 7,
   "id": "f35253e5",
   "metadata": {},
   "outputs": [
    {
     "name": "stdout",
     "output_type": "stream",
     "text": [
      "False\n"
     ]
    }
   ],
   "source": [
    "print(\"cat\" == \"dog\")"
   ]
  },
  {
   "cell_type": "code",
   "execution_count": null,
   "id": "a9ef4d32",
   "metadata": {},
   "outputs": [],
   "source": []
  },
  {
   "cell_type": "markdown",
   "id": "08fdffd7",
   "metadata": {},
   "source": [
    "### Not equal operator !="
   ]
  },
  {
   "cell_type": "code",
   "execution_count": 8,
   "id": "1100dbee",
   "metadata": {},
   "outputs": [
    {
     "name": "stdout",
     "output_type": "stream",
     "text": [
      "False\n"
     ]
    }
   ],
   "source": [
    "x = 8\n",
    "print(x != 8)"
   ]
  },
  {
   "cell_type": "code",
   "execution_count": 10,
   "id": "e27e2ed3",
   "metadata": {},
   "outputs": [
    {
     "name": "stdout",
     "output_type": "stream",
     "text": [
      "False\n"
     ]
    }
   ],
   "source": [
    "a = 10\n",
    "b = 10\n",
    "\n",
    "print(a != b) # 10 != 10"
   ]
  },
  {
   "cell_type": "code",
   "execution_count": 11,
   "id": "efad67da",
   "metadata": {},
   "outputs": [
    {
     "name": "stdout",
     "output_type": "stream",
     "text": [
      "True\n"
     ]
    }
   ],
   "source": [
    "a = 10\n",
    "b = 100\n",
    "\n",
    "print(a != b) # 10 != 100"
   ]
  },
  {
   "cell_type": "code",
   "execution_count": 12,
   "id": "a4521b8f",
   "metadata": {},
   "outputs": [
    {
     "name": "stdout",
     "output_type": "stream",
     "text": [
      "False\n"
     ]
    }
   ],
   "source": [
    "print(a == b)"
   ]
  },
  {
   "cell_type": "code",
   "execution_count": null,
   "id": "2009af19",
   "metadata": {},
   "outputs": [],
   "source": []
  },
  {
   "cell_type": "markdown",
   "id": "596c97fa",
   "metadata": {},
   "source": [
    "# Assignment and Compound Assignment\n",
    "![](https://scaler.com/topics/images/what-is-assignment-operator-in-python.webp)"
   ]
  },
  {
   "cell_type": "code",
   "execution_count": 13,
   "id": "2e5c518a",
   "metadata": {},
   "outputs": [
    {
     "name": "stdout",
     "output_type": "stream",
     "text": [
      "8\n"
     ]
    }
   ],
   "source": [
    "x = 3\n",
    "x = x + 5\n",
    "print(x)"
   ]
  },
  {
   "cell_type": "code",
   "execution_count": null,
   "id": "31c60e1a",
   "metadata": {},
   "outputs": [],
   "source": []
  },
  {
   "cell_type": "code",
   "execution_count": null,
   "id": "8c427d2a",
   "metadata": {},
   "outputs": [],
   "source": []
  },
  {
   "cell_type": "code",
   "execution_count": null,
   "id": "acbdb344",
   "metadata": {},
   "outputs": [],
   "source": []
  },
  {
   "cell_type": "markdown",
   "id": "8567765f",
   "metadata": {},
   "source": [
    "#### Quiz 6\n",
    "```py\n",
    "a = 3\n",
    "a = a + 3\n",
    "print(a)\n",
    "```"
   ]
  },
  {
   "cell_type": "code",
   "execution_count": 14,
   "id": "5bb3c038",
   "metadata": {},
   "outputs": [
    {
     "name": "stdout",
     "output_type": "stream",
     "text": [
      "6\n"
     ]
    }
   ],
   "source": [
    "a = 3\n",
    "a = a + 3 # 3 + 3\n",
    "print(a)"
   ]
  },
  {
   "cell_type": "code",
   "execution_count": null,
   "id": "6b940f1b",
   "metadata": {},
   "outputs": [],
   "source": []
  },
  {
   "cell_type": "code",
   "execution_count": null,
   "id": "39f7267f",
   "metadata": {},
   "outputs": [],
   "source": []
  },
  {
   "cell_type": "markdown",
   "id": "1d91039a",
   "metadata": {},
   "source": [
    "#### Quiz 7\n",
    "```py\n",
    "a = 6\n",
    "a += 9\n",
    "print(a)\n",
    "```"
   ]
  },
  {
   "cell_type": "code",
   "execution_count": 15,
   "id": "2715b185",
   "metadata": {},
   "outputs": [
    {
     "name": "stdout",
     "output_type": "stream",
     "text": [
      "15\n"
     ]
    }
   ],
   "source": [
    "a = 6\n",
    "a += 9 # a = a + 9\n",
    "print(a)"
   ]
  },
  {
   "cell_type": "code",
   "execution_count": null,
   "id": "eb614e57",
   "metadata": {},
   "outputs": [],
   "source": []
  },
  {
   "cell_type": "code",
   "execution_count": null,
   "id": "e4a109af",
   "metadata": {},
   "outputs": [],
   "source": []
  },
  {
   "cell_type": "markdown",
   "id": "a97e1753",
   "metadata": {},
   "source": [
    "#### Quiz 8\n",
    "```py\n",
    "a = 6\n",
    "a -= 9\n",
    "print(a)\n",
    "```"
   ]
  },
  {
   "cell_type": "code",
   "execution_count": 16,
   "id": "9f7cdaf9",
   "metadata": {},
   "outputs": [
    {
     "name": "stdout",
     "output_type": "stream",
     "text": [
      "-3\n"
     ]
    }
   ],
   "source": [
    "a = 6\n",
    "a -= 9 # a = a - 9 = 6 - 9\n",
    "print(a)"
   ]
  },
  {
   "cell_type": "code",
   "execution_count": null,
   "id": "fe384bf6",
   "metadata": {},
   "outputs": [],
   "source": []
  },
  {
   "cell_type": "code",
   "execution_count": null,
   "id": "c2835ef5",
   "metadata": {},
   "outputs": [],
   "source": []
  },
  {
   "cell_type": "markdown",
   "id": "46e6e24a",
   "metadata": {},
   "source": [
    "#### Quiz 9\n",
    "```py\n",
    "a = 6\n",
    "a /= 9\n",
    "print(a)\n",
    "```"
   ]
  },
  {
   "cell_type": "code",
   "execution_count": 17,
   "id": "9349f43e",
   "metadata": {},
   "outputs": [
    {
     "name": "stdout",
     "output_type": "stream",
     "text": [
      "0.6666666666666666\n"
     ]
    }
   ],
   "source": [
    "a = 6\n",
    "a /= 9 # a = a / 9 = 6 / 9\n",
    "print(a)"
   ]
  },
  {
   "cell_type": "code",
   "execution_count": null,
   "id": "21b0b982",
   "metadata": {},
   "outputs": [],
   "source": []
  },
  {
   "cell_type": "markdown",
   "id": "fd6fcbf3",
   "metadata": {},
   "source": [
    "# Logical Operators - and, or, not\n",
    "![](https://scaler.com/topics/images/logical-operators-in-python.webp)"
   ]
  },
  {
   "cell_type": "code",
   "execution_count": null,
   "id": "2dc904ad",
   "metadata": {},
   "outputs": [],
   "source": []
  },
  {
   "cell_type": "markdown",
   "id": "59fe6740",
   "metadata": {},
   "source": [
    "#### Quiz 10\n",
    "```py\n",
    "print(25 > 50 or 1 != 2)\n",
    "```"
   ]
  },
  {
   "cell_type": "code",
   "execution_count": 21,
   "id": "72f70e81",
   "metadata": {},
   "outputs": [
    {
     "name": "stdout",
     "output_type": "stream",
     "text": [
      "True\n"
     ]
    }
   ],
   "source": [
    "print(25 > 50 or 1 != 2)"
   ]
  },
  {
   "cell_type": "code",
   "execution_count": null,
   "id": "ec50b518",
   "metadata": {},
   "outputs": [],
   "source": []
  },
  {
   "cell_type": "code",
   "execution_count": null,
   "id": "93d3831e",
   "metadata": {},
   "outputs": [],
   "source": []
  },
  {
   "cell_type": "markdown",
   "id": "2a6e9d1e",
   "metadata": {},
   "source": [
    "#### Secuirity Check\n",
    "Scaler or Interviewbit"
   ]
  },
  {
   "cell_type": "code",
   "execution_count": 20,
   "id": "3446ed34",
   "metadata": {},
   "outputs": [
    {
     "name": "stdout",
     "output_type": "stream",
     "text": [
      "False\n"
     ]
    }
   ],
   "source": [
    "company = \"Microsoft\"\n",
    "\n",
    "print(company == 'Scaler' or company == 'InterviewBit')"
   ]
  },
  {
   "cell_type": "code",
   "execution_count": null,
   "id": "4f5e1fe4",
   "metadata": {},
   "outputs": [],
   "source": []
  },
  {
   "cell_type": "code",
   "execution_count": null,
   "id": "ee9d5585",
   "metadata": {},
   "outputs": [],
   "source": []
  },
  {
   "cell_type": "code",
   "execution_count": null,
   "id": "2f0c9ace",
   "metadata": {},
   "outputs": [],
   "source": []
  },
  {
   "cell_type": "code",
   "execution_count": null,
   "id": "a7142a10",
   "metadata": {},
   "outputs": [],
   "source": []
  },
  {
   "cell_type": "code",
   "execution_count": null,
   "id": "66ed2e05",
   "metadata": {},
   "outputs": [],
   "source": []
  },
  {
   "cell_type": "code",
   "execution_count": null,
   "id": "82a1ab74",
   "metadata": {},
   "outputs": [],
   "source": []
  },
  {
   "cell_type": "markdown",
   "id": "4def0b42",
   "metadata": {},
   "source": [
    "#### Quiz 11\n",
    "```py\n",
    "print(3 > 1 and -1 < 1)\n",
    "```"
   ]
  },
  {
   "cell_type": "code",
   "execution_count": null,
   "id": "cfa3f861",
   "metadata": {},
   "outputs": [],
   "source": [
    "print(3 > 1 and -1 < 1)"
   ]
  },
  {
   "cell_type": "code",
   "execution_count": null,
   "id": "3478e5e2",
   "metadata": {},
   "outputs": [],
   "source": []
  },
  {
   "cell_type": "markdown",
   "id": "c44f912c",
   "metadata": {},
   "source": [
    "#### Voting criteria\n",
    "Given age and citizenship of a person, check if they are eligible to vote in India."
   ]
  },
  {
   "cell_type": "code",
   "execution_count": 30,
   "id": "354e5732",
   "metadata": {},
   "outputs": [
    {
     "name": "stdout",
     "output_type": "stream",
     "text": [
      "True\n"
     ]
    }
   ],
   "source": [
    "age = 20\n",
    "citizenship = \"Indian\"\n",
    "\n",
    "print(age >= 18 and citizenship == \"Indian\")"
   ]
  },
  {
   "cell_type": "code",
   "execution_count": null,
   "id": "4ab51152",
   "metadata": {},
   "outputs": [],
   "source": []
  },
  {
   "cell_type": "code",
   "execution_count": null,
   "id": "5acb7c97",
   "metadata": {},
   "outputs": [],
   "source": [
    "age = int(input())\n",
    "citizenship = input()\n",
    "\n",
    "print(age >= 18 and citizenship == \"Indian\")"
   ]
  },
  {
   "cell_type": "code",
   "execution_count": null,
   "id": "553b2059",
   "metadata": {},
   "outputs": [],
   "source": []
  },
  {
   "cell_type": "code",
   "execution_count": null,
   "id": "b949fafe",
   "metadata": {},
   "outputs": [],
   "source": []
  },
  {
   "cell_type": "code",
   "execution_count": 31,
   "id": "40ac3900",
   "metadata": {},
   "outputs": [
    {
     "name": "stdout",
     "output_type": "stream",
     "text": [
      "False\n"
     ]
    }
   ],
   "source": [
    "print(not True)"
   ]
  },
  {
   "cell_type": "code",
   "execution_count": 32,
   "id": "e1a94c2e",
   "metadata": {},
   "outputs": [
    {
     "name": "stdout",
     "output_type": "stream",
     "text": [
      "True\n"
     ]
    }
   ],
   "source": [
    "print(not False)"
   ]
  },
  {
   "cell_type": "code",
   "execution_count": null,
   "id": "04a8534d",
   "metadata": {},
   "outputs": [],
   "source": []
  },
  {
   "cell_type": "markdown",
   "id": "ce2a09b6",
   "metadata": {},
   "source": [
    "# Decisions and Control Statements\n",
    "![](https://scaler.com/topics/images/Python-Flow-control-statements.webp)"
   ]
  },
  {
   "cell_type": "code",
   "execution_count": null,
   "id": "2f549d83",
   "metadata": {},
   "outputs": [],
   "source": []
  },
  {
   "cell_type": "code",
   "execution_count": null,
   "id": "b580fff2",
   "metadata": {},
   "outputs": [],
   "source": []
  },
  {
   "cell_type": "code",
   "execution_count": null,
   "id": "71f8bed7",
   "metadata": {},
   "outputs": [],
   "source": []
  },
  {
   "cell_type": "markdown",
   "id": "ea5ec28d",
   "metadata": {},
   "source": [
    "####  Given the temperature as input, decide whether you should wear a jacket or a t-shirt while going outside"
   ]
  },
  {
   "cell_type": "code",
   "execution_count": 36,
   "id": "1009a307",
   "metadata": {},
   "outputs": [
    {
     "name": "stdout",
     "output_type": "stream",
     "text": [
      "Wear a jacket\n",
      "Wear a cap\n",
      "Wear gloves too\n"
     ]
    }
   ],
   "source": [
    "temp = 10\n",
    "\n",
    "if temp < 20:\n",
    "    print(\"Wear a jacket\")\n",
    "    print(\"Wear a cap\")\n",
    "    print(\"Wear gloves too\")\n",
    "else:\n",
    "    print(\"Wear a t-shirt\")\n",
    "    print(\"Wear shorts\")\n",
    "    print(\"Wear sunglasses\")"
   ]
  },
  {
   "cell_type": "code",
   "execution_count": null,
   "id": "5019717e",
   "metadata": {},
   "outputs": [],
   "source": []
  },
  {
   "cell_type": "code",
   "execution_count": 38,
   "id": "333163d8",
   "metadata": {},
   "outputs": [
    {
     "name": "stdout",
     "output_type": "stream",
     "text": [
      "Wear a t-shirt\n",
      "Wear shorts\n",
      "Wear sunglasses\n",
      "Have a good day\n"
     ]
    }
   ],
   "source": [
    "temp = 50\n",
    "\n",
    "if temp < 20:\n",
    "    print(\"Wear a jacket\")\n",
    "    print(\"Wear a cap\")\n",
    "    print(\"Wear gloves too\")\n",
    "else:\n",
    "    print(\"Wear a t-shirt\")\n",
    "    print(\"Wear shorts\")\n",
    "    print(\"Wear sunglasses\")\n",
    "    \n",
    "print(\"Have a good day\")"
   ]
  },
  {
   "cell_type": "code",
   "execution_count": null,
   "id": "15bc525c",
   "metadata": {},
   "outputs": [],
   "source": []
  },
  {
   "cell_type": "code",
   "execution_count": null,
   "id": "fe80b946",
   "metadata": {},
   "outputs": [],
   "source": []
  },
  {
   "cell_type": "code",
   "execution_count": null,
   "id": "9db9badc",
   "metadata": {},
   "outputs": [],
   "source": []
  },
  {
   "cell_type": "code",
   "execution_count": null,
   "id": "bfd47a05",
   "metadata": {},
   "outputs": [],
   "source": []
  },
  {
   "cell_type": "markdown",
   "id": "1476cc3e",
   "metadata": {},
   "source": [
    "#### Password validation system \n",
    "If the paswords match > Match \\\n",
    "If the passwords do not match -> Try again"
   ]
  },
  {
   "cell_type": "code",
   "execution_count": 41,
   "id": "c837ab52",
   "metadata": {},
   "outputs": [
    {
     "name": "stdout",
     "output_type": "stream",
     "text": [
      "qwerty\n",
      "qwerty\n"
     ]
    }
   ],
   "source": [
    "password = input()\n",
    "confirm_password = input()"
   ]
  },
  {
   "cell_type": "code",
   "execution_count": 42,
   "id": "fa758ed6",
   "metadata": {},
   "outputs": [
    {
     "name": "stdout",
     "output_type": "stream",
     "text": [
      "Match\n"
     ]
    }
   ],
   "source": [
    "if password == confirm_password:\n",
    "    print(\"Match\")\n",
    "else:\n",
    "    print(\"Try again\")"
   ]
  },
  {
   "cell_type": "code",
   "execution_count": null,
   "id": "5a685fae",
   "metadata": {},
   "outputs": [],
   "source": []
  },
  {
   "cell_type": "code",
   "execution_count": null,
   "id": "efae09ab",
   "metadata": {},
   "outputs": [],
   "source": []
  },
  {
   "cell_type": "markdown",
   "id": "b63476a7",
   "metadata": {},
   "source": [
    "####  Quiz 12\n",
    "What should you write to check if number n is positive?\n",
    "```py\n",
    "if _____:\n",
    "    print('Input number is positive.')\n",
    "```"
   ]
  },
  {
   "cell_type": "code",
   "execution_count": 45,
   "id": "b763ed1a",
   "metadata": {},
   "outputs": [],
   "source": [
    "N = 0\n",
    "if N > 0:\n",
    "    print('Input number is positive.')"
   ]
  },
  {
   "cell_type": "code",
   "execution_count": null,
   "id": "156f271c",
   "metadata": {},
   "outputs": [],
   "source": []
  },
  {
   "cell_type": "markdown",
   "id": "2f61f33c",
   "metadata": {},
   "source": [
    "#### Score record validator system\n",
    "Let us say you are recording the score for some course.\n",
    "The maximum score is 100, 50 for theoretical work and 50 for practical.\n",
    "You want to display an error message if the total score is more than 100. "
   ]
  },
  {
   "cell_type": "code",
   "execution_count": 50,
   "id": "3d29df6c",
   "metadata": {},
   "outputs": [
    {
     "name": "stdout",
     "output_type": "stream",
     "text": [
      "Something is wrong\n"
     ]
    }
   ],
   "source": [
    "theory = 80\n",
    "practical = 10\n",
    "\n",
    "if theory <= 50 and practical <= 50:\n",
    "    print(\"OK\")\n",
    "else:\n",
    "    print(\"Something is wrong\")"
   ]
  },
  {
   "cell_type": "code",
   "execution_count": null,
   "id": "bb2ca3a8",
   "metadata": {},
   "outputs": [],
   "source": []
  },
  {
   "cell_type": "code",
   "execution_count": null,
   "id": "ac8d1207",
   "metadata": {},
   "outputs": [],
   "source": []
  },
  {
   "cell_type": "code",
   "execution_count": null,
   "id": "dc13e702",
   "metadata": {},
   "outputs": [],
   "source": []
  },
  {
   "cell_type": "markdown",
   "id": "9869f80b",
   "metadata": {},
   "source": [
    "#### Quiz 13\n",
    "```py\n",
    "x = 5\n",
    "\n",
    "if x == 5:\n",
    "  x = 7\n",
    "\n",
    "print(x)\n",
    "```"
   ]
  },
  {
   "cell_type": "code",
   "execution_count": 51,
   "id": "c3d17cc8",
   "metadata": {},
   "outputs": [
    {
     "name": "stdout",
     "output_type": "stream",
     "text": [
      "7\n"
     ]
    }
   ],
   "source": [
    "x = 5\n",
    "\n",
    "if x == 5:\n",
    "    x = 7\n",
    "\n",
    "print(x)"
   ]
  },
  {
   "cell_type": "code",
   "execution_count": 52,
   "id": "a56640dd",
   "metadata": {},
   "outputs": [
    {
     "name": "stdout",
     "output_type": "stream",
     "text": [
      "5\n"
     ]
    }
   ],
   "source": [
    "x = 5\n",
    "\n",
    "if x == 6:\n",
    "    x = 7\n",
    "\n",
    "print(x)"
   ]
  },
  {
   "cell_type": "code",
   "execution_count": null,
   "id": "6048b8c8",
   "metadata": {},
   "outputs": [],
   "source": []
  },
  {
   "cell_type": "code",
   "execution_count": null,
   "id": "6bd2bfd9",
   "metadata": {},
   "outputs": [],
   "source": []
  },
  {
   "cell_type": "markdown",
   "id": "35b28f8c",
   "metadata": {},
   "source": [
    "#### Quiz 14\n",
    "What would be the value of result at the end of this code?\n",
    "```py\n",
    "num1 = 10\n",
    "num2 = 20\n",
    "result = 4000\n",
    "\n",
    "if (num1 > 50 or num2 <= 5):\n",
    "    result = num1 * num2\n",
    "else:\n",
    "    result = num1 + num2\n",
    "```"
   ]
  },
  {
   "cell_type": "code",
   "execution_count": 53,
   "id": "22b048db",
   "metadata": {},
   "outputs": [],
   "source": [
    "num1 = 10\n",
    "num2 = 20\n",
    "result = 4000\n",
    "\n",
    "# F or F => F\n",
    "if (num1 > 50 or num2 <= 5):\n",
    "    result = num1 * num2\n",
    "else:\n",
    "    result = num1 + num2"
   ]
  },
  {
   "cell_type": "code",
   "execution_count": 54,
   "id": "79303437",
   "metadata": {},
   "outputs": [
    {
     "name": "stdout",
     "output_type": "stream",
     "text": [
      "30\n"
     ]
    }
   ],
   "source": [
    "print(result)"
   ]
  },
  {
   "cell_type": "code",
   "execution_count": 55,
   "id": "98dc31a6",
   "metadata": {},
   "outputs": [],
   "source": [
    "num1 = 4000\n",
    "num2 = 1\n",
    "result = 4000\n",
    "\n",
    "#  T or T => T\n",
    "if (num1 > 50 or num2 <= 5):\n",
    "    result = num1 * num2\n",
    "else:\n",
    "    result = num1 + num2"
   ]
  },
  {
   "cell_type": "code",
   "execution_count": 56,
   "id": "f0881402",
   "metadata": {},
   "outputs": [
    {
     "name": "stdout",
     "output_type": "stream",
     "text": [
      "4000\n"
     ]
    }
   ],
   "source": [
    "print(result)"
   ]
  },
  {
   "cell_type": "code",
   "execution_count": null,
   "id": "148bb201",
   "metadata": {},
   "outputs": [],
   "source": []
  },
  {
   "cell_type": "code",
   "execution_count": null,
   "id": "f8907bfa",
   "metadata": {},
   "outputs": [],
   "source": []
  },
  {
   "cell_type": "markdown",
   "id": "e91a6714",
   "metadata": {},
   "source": [
    "## Max of two integers"
   ]
  },
  {
   "cell_type": "code",
   "execution_count": null,
   "id": "f958fc3c",
   "metadata": {},
   "outputs": [],
   "source": []
  },
  {
   "cell_type": "markdown",
   "id": "c13dfab0",
   "metadata": {},
   "source": [
    "#### Question\n",
    "What is max of 3 and 5?\n",
    "\n",
    "ANS = 5"
   ]
  },
  {
   "cell_type": "code",
   "execution_count": null,
   "id": "ca8e2455",
   "metadata": {},
   "outputs": [],
   "source": []
  },
  {
   "cell_type": "code",
   "execution_count": 59,
   "id": "146bf9a6",
   "metadata": {},
   "outputs": [
    {
     "name": "stdout",
     "output_type": "stream",
     "text": [
      "100\n"
     ]
    }
   ],
   "source": [
    "a = 100\n",
    "b = 100\n",
    "\n",
    "if a > b:\n",
    "    print(a)\n",
    "else:\n",
    "    print(b)"
   ]
  },
  {
   "cell_type": "code",
   "execution_count": null,
   "id": "89d42dc2",
   "metadata": {},
   "outputs": [],
   "source": []
  },
  {
   "cell_type": "markdown",
   "id": "d74ed5aa",
   "metadata": {},
   "source": [
    "not operator"
   ]
  },
  {
   "cell_type": "code",
   "execution_count": 60,
   "id": "bdec6036",
   "metadata": {},
   "outputs": [
    {
     "name": "stdout",
     "output_type": "stream",
     "text": [
      "Hi\n"
     ]
    }
   ],
   "source": [
    "person = \"Akash Deep\"\n",
    "\n",
    "# not T => False\n",
    "if not (person == \"Akash Deep\"):\n",
    "    print(\"Hello\")\n",
    "else:\n",
    "    print(\"Hi\")"
   ]
  },
  {
   "cell_type": "code",
   "execution_count": 61,
   "id": "e006024c",
   "metadata": {},
   "outputs": [
    {
     "name": "stdout",
     "output_type": "stream",
     "text": [
      "Hi\n"
     ]
    }
   ],
   "source": [
    "person = \"Akash Deep\"\n",
    "\n",
    "# not T => False\n",
    "if (person != \"Akash Deep\"):\n",
    "    print(\"Hello\")\n",
    "else:\n",
    "    print(\"Hi\")"
   ]
  },
  {
   "cell_type": "code",
   "execution_count": null,
   "id": "77af22a1",
   "metadata": {},
   "outputs": [],
   "source": []
  },
  {
   "cell_type": "code",
   "execution_count": null,
   "id": "be08baae",
   "metadata": {},
   "outputs": [],
   "source": []
  },
  {
   "cell_type": "markdown",
   "id": "5364334c",
   "metadata": {},
   "source": [
    "# Bonus Reading Material\n",
    "- What is Assignment Operator in Python? - https://www.scaler.com/topics/assignment-operator-in-python/\n",
    "- What are Logical Operators in Python? - https://www.scaler.com/topics/logical-operators-in-python/\n",
    "- Control Flow Statements in Python - https://www.scaler.com/topics/python/control-flow-statements-in-python/\n",
    "- Python if…else Statement - https://www.scaler.com/topics/python/python-if-else-statement/"
   ]
  },
  {
   "cell_type": "code",
   "execution_count": null,
   "id": "17a7693e",
   "metadata": {},
   "outputs": [],
   "source": []
  }
 ],
 "metadata": {
  "kernelspec": {
   "display_name": "Python 3 (ipykernel)",
   "language": "python",
   "name": "python3"
  },
  "language_info": {
   "codemirror_mode": {
    "name": "ipython",
    "version": 3
   },
   "file_extension": ".py",
   "mimetype": "text/x-python",
   "name": "python",
   "nbconvert_exporter": "python",
   "pygments_lexer": "ipython3",
   "version": "3.9.12"
  }
 },
 "nbformat": 4,
 "nbformat_minor": 5
}
