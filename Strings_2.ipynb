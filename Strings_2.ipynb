{
 "cells": [
  {
   "cell_type": "markdown",
   "id": "4d8cd4f5",
   "metadata": {},
   "source": [
    "# Strings 2"
   ]
  },
  {
   "cell_type": "code",
   "execution_count": 8,
   "id": "8431e82e",
   "metadata": {},
   "outputs": [],
   "source": [
    " def mystery(s):\n",
    "    i = len(s)//2 # 3\n",
    "    a = s[:i] # pra -> [p] -> \n",
    "    b = s[i:] # nav\n",
    "    return a[0].isupper()"
   ]
  },
  {
   "cell_type": "code",
   "execution_count": 9,
   "id": "3149fd54",
   "metadata": {},
   "outputs": [
    {
     "name": "stdout",
     "output_type": "stream",
     "text": [
      "False\n"
     ]
    }
   ],
   "source": [
    "print(mystery(\"pranav\"))"
   ]
  },
  {
   "cell_type": "code",
   "execution_count": null,
   "id": "73d91a08",
   "metadata": {},
   "outputs": [],
   "source": [
    "str -> \"pranav\""
   ]
  },
  {
   "cell_type": "code",
   "execution_count": 14,
   "id": "a68527e3",
   "metadata": {},
   "outputs": [],
   "source": [
    "def mystery(s):\n",
    "    i = len(s)//2 # 5\n",
    "    a = s[:i] # abrac -> ABRAC\n",
    "    b = s[i:] # adabra\n",
    "    return a.upper() + b.lower()"
   ]
  },
  {
   "cell_type": "code",
   "execution_count": 15,
   "id": "e30bc10c",
   "metadata": {},
   "outputs": [
    {
     "name": "stdout",
     "output_type": "stream",
     "text": [
      "ABRACadabra\n"
     ]
    }
   ],
   "source": [
    "print(mystery(\"abracadabra\"))"
   ]
  },
  {
   "cell_type": "code",
   "execution_count": null,
   "id": "a145834e",
   "metadata": {},
   "outputs": [],
   "source": [
    "ABRACadabra"
   ]
  },
  {
   "cell_type": "code",
   "execution_count": null,
   "id": "4643634d",
   "metadata": {},
   "outputs": [],
   "source": []
  },
  {
   "cell_type": "code",
   "execution_count": null,
   "id": "8c57703e",
   "metadata": {},
   "outputs": [],
   "source": []
  },
  {
   "cell_type": "code",
   "execution_count": null,
   "id": "d1f4965c",
   "metadata": {},
   "outputs": [],
   "source": []
  },
  {
   "cell_type": "code",
   "execution_count": null,
   "id": "a8a49828",
   "metadata": {},
   "outputs": [],
   "source": []
  },
  {
   "cell_type": "markdown",
   "id": "51193148",
   "metadata": {},
   "source": [
    "## find()\n",
    "![](https://scaler.com/topics/images/find-in-python.webp)"
   ]
  },
  {
   "cell_type": "code",
   "execution_count": 16,
   "id": "898e7d7b",
   "metadata": {},
   "outputs": [],
   "source": [
    "s = \"Harry Potter and Deathly Hallows\""
   ]
  },
  {
   "cell_type": "code",
   "execution_count": 17,
   "id": "d0f85935",
   "metadata": {},
   "outputs": [
    {
     "name": "stdout",
     "output_type": "stream",
     "text": [
      "6\n"
     ]
    }
   ],
   "source": [
    "print(s.find('P')) # return the first occurence index at which it has found the give substring"
   ]
  },
  {
   "cell_type": "code",
   "execution_count": 18,
   "id": "1fba69fd",
   "metadata": {},
   "outputs": [
    {
     "name": "stdout",
     "output_type": "stream",
     "text": [
      "21\n"
     ]
    }
   ],
   "source": [
    "print(s.find('h'))"
   ]
  },
  {
   "cell_type": "code",
   "execution_count": 19,
   "id": "2b8af105",
   "metadata": {},
   "outputs": [
    {
     "name": "stdout",
     "output_type": "stream",
     "text": [
      "0\n"
     ]
    }
   ],
   "source": [
    "print(s.find('H'))"
   ]
  },
  {
   "cell_type": "code",
   "execution_count": 21,
   "id": "c864752f",
   "metadata": {},
   "outputs": [
    {
     "name": "stdout",
     "output_type": "stream",
     "text": [
      "25\n"
     ]
    }
   ],
   "source": [
    "print(s.find('Hal'))"
   ]
  },
  {
   "cell_type": "code",
   "execution_count": 22,
   "id": "f52950d5",
   "metadata": {},
   "outputs": [
    {
     "name": "stdout",
     "output_type": "stream",
     "text": [
      "6\n"
     ]
    }
   ],
   "source": [
    "print(s.find('Pot'))"
   ]
  },
  {
   "cell_type": "code",
   "execution_count": null,
   "id": "8452a8b4",
   "metadata": {},
   "outputs": [],
   "source": [
    "# link for find() function in Strings"
   ]
  },
  {
   "cell_type": "code",
   "execution_count": null,
   "id": "4f9cb6ce",
   "metadata": {},
   "outputs": [],
   "source": [
    "# Ques as HW -> find the 2/3rd occurence of a substr or a char"
   ]
  },
  {
   "cell_type": "code",
   "execution_count": null,
   "id": "4464b9b7",
   "metadata": {},
   "outputs": [],
   "source": []
  },
  {
   "cell_type": "code",
   "execution_count": null,
   "id": "e9cee93f",
   "metadata": {},
   "outputs": [],
   "source": []
  },
  {
   "cell_type": "markdown",
   "id": "f9080d2a",
   "metadata": {},
   "source": [
    "## count()\n",
    "![](https://scaler.com/topics/images/count-in-python.webp)"
   ]
  },
  {
   "cell_type": "code",
   "execution_count": 23,
   "id": "fdd7ab24",
   "metadata": {},
   "outputs": [],
   "source": [
    "s = \"Harry Potter and Deathly Hallows\""
   ]
  },
  {
   "cell_type": "code",
   "execution_count": 24,
   "id": "b4883007",
   "metadata": {},
   "outputs": [
    {
     "name": "stdout",
     "output_type": "stream",
     "text": [
      "2\n"
     ]
    }
   ],
   "source": [
    "print(s.count('H'))"
   ]
  },
  {
   "cell_type": "code",
   "execution_count": 25,
   "id": "e77836d6",
   "metadata": {},
   "outputs": [
    {
     "name": "stdout",
     "output_type": "stream",
     "text": [
      "1\n"
     ]
    }
   ],
   "source": [
    "print(s.count('D'))"
   ]
  },
  {
   "cell_type": "code",
   "execution_count": 26,
   "id": "391edbf0",
   "metadata": {},
   "outputs": [
    {
     "name": "stdout",
     "output_type": "stream",
     "text": [
      "4\n"
     ]
    }
   ],
   "source": [
    "print(s.count('a'))"
   ]
  },
  {
   "cell_type": "code",
   "execution_count": 27,
   "id": "837c0e6b",
   "metadata": {},
   "outputs": [
    {
     "name": "stdout",
     "output_type": "stream",
     "text": [
      "1\n"
     ]
    }
   ],
   "source": [
    "print(s.count('Harry'))"
   ]
  },
  {
   "cell_type": "code",
   "execution_count": 28,
   "id": "f1fb2e55",
   "metadata": {},
   "outputs": [
    {
     "name": "stdout",
     "output_type": "stream",
     "text": [
      "0\n"
     ]
    }
   ],
   "source": [
    "print(s.count('pranav'))"
   ]
  },
  {
   "cell_type": "code",
   "execution_count": 29,
   "id": "dbc9f6cd",
   "metadata": {},
   "outputs": [
    {
     "name": "stdout",
     "output_type": "stream",
     "text": [
      "-1\n"
     ]
    }
   ],
   "source": [
    "print(s.find('pranav'))"
   ]
  },
  {
   "cell_type": "code",
   "execution_count": null,
   "id": "7f3f6425",
   "metadata": {},
   "outputs": [],
   "source": []
  },
  {
   "cell_type": "code",
   "execution_count": null,
   "id": "a6b737a0",
   "metadata": {},
   "outputs": [],
   "source": []
  },
  {
   "cell_type": "markdown",
   "id": "f2c94f37",
   "metadata": {},
   "source": [
    "### in operator"
   ]
  },
  {
   "cell_type": "code",
   "execution_count": 30,
   "id": "6396d73f",
   "metadata": {},
   "outputs": [
    {
     "data": {
      "text/plain": [
       "True"
      ]
     },
     "execution_count": 30,
     "metadata": {},
     "output_type": "execute_result"
    }
   ],
   "source": [
    "\"P\" in \"Pranav\""
   ]
  },
  {
   "cell_type": "code",
   "execution_count": null,
   "id": "4904be14",
   "metadata": {},
   "outputs": [],
   "source": [
    "substr in main_str"
   ]
  },
  {
   "cell_type": "code",
   "execution_count": 32,
   "id": "d5b903b3",
   "metadata": {},
   "outputs": [
    {
     "data": {
      "text/plain": [
       "False"
      ]
     },
     "execution_count": 32,
     "metadata": {},
     "output_type": "execute_result"
    }
   ],
   "source": [
    "\"ha\" in \"Harry\""
   ]
  },
  {
   "cell_type": "code",
   "execution_count": null,
   "id": "43061db4",
   "metadata": {},
   "outputs": [],
   "source": [
    "# + <- concat, in -> check if substr exist"
   ]
  },
  {
   "cell_type": "code",
   "execution_count": null,
   "id": "9d879708",
   "metadata": {},
   "outputs": [],
   "source": [
    "# list of Movies\n",
    "# you have to exract all the movies which belong to Harry Potter series\n",
    "# will you use in or Find() ?"
   ]
  },
  {
   "cell_type": "code",
   "execution_count": null,
   "id": "f6853347",
   "metadata": {},
   "outputs": [],
   "source": [
    "for i in movies:\n",
    "    if i.find(\"Harry Potter\")!=-1: # instead of -1 if I would've gotten error each time I pass a movie which does not have haryy potter\n",
    "        print(i)"
   ]
  },
  {
   "cell_type": "code",
   "execution_count": null,
   "id": "2f29d431",
   "metadata": {},
   "outputs": [],
   "source": []
  },
  {
   "cell_type": "code",
   "execution_count": null,
   "id": "3008686a",
   "metadata": {},
   "outputs": [],
   "source": []
  },
  {
   "cell_type": "code",
   "execution_count": null,
   "id": "52ed3691",
   "metadata": {},
   "outputs": [],
   "source": []
  },
  {
   "cell_type": "markdown",
   "id": "98379677",
   "metadata": {},
   "source": [
    "## Immutable Nature\n",
    "![](https://scaler.com/topics/images/python-datatypes.webp)"
   ]
  },
  {
   "cell_type": "code",
   "execution_count": 33,
   "id": "9bf18beb",
   "metadata": {},
   "outputs": [],
   "source": [
    "a = \"hello\""
   ]
  },
  {
   "cell_type": "code",
   "execution_count": 34,
   "id": "968ed550",
   "metadata": {},
   "outputs": [],
   "source": [
    "a+=\" World\""
   ]
  },
  {
   "cell_type": "code",
   "execution_count": 35,
   "id": "3295a994",
   "metadata": {},
   "outputs": [
    {
     "name": "stdout",
     "output_type": "stream",
     "text": [
      "hello World\n"
     ]
    }
   ],
   "source": [
    "print(a)"
   ]
  },
  {
   "cell_type": "code",
   "execution_count": 36,
   "id": "361704c8",
   "metadata": {},
   "outputs": [],
   "source": [
    "a = \"hello\""
   ]
  },
  {
   "cell_type": "code",
   "execution_count": 37,
   "id": "34e066cb",
   "metadata": {},
   "outputs": [
    {
     "name": "stdout",
     "output_type": "stream",
     "text": [
      "4400676400\n"
     ]
    }
   ],
   "source": [
    "print(id(a))"
   ]
  },
  {
   "cell_type": "code",
   "execution_count": 38,
   "id": "3dd71b86",
   "metadata": {},
   "outputs": [],
   "source": [
    "a = a + \" World\""
   ]
  },
  {
   "cell_type": "code",
   "execution_count": 39,
   "id": "30166c5a",
   "metadata": {},
   "outputs": [
    {
     "name": "stdout",
     "output_type": "stream",
     "text": [
      "4424371824\n"
     ]
    }
   ],
   "source": [
    "print(id(a))"
   ]
  },
  {
   "cell_type": "code",
   "execution_count": 40,
   "id": "b81c2999",
   "metadata": {},
   "outputs": [],
   "source": [
    "a = \"hello\""
   ]
  },
  {
   "cell_type": "code",
   "execution_count": 41,
   "id": "8b25ef41",
   "metadata": {},
   "outputs": [
    {
     "name": "stdout",
     "output_type": "stream",
     "text": [
      "4400676400\n"
     ]
    }
   ],
   "source": [
    "print(id(a))"
   ]
  },
  {
   "cell_type": "code",
   "execution_count": 42,
   "id": "a9d00215",
   "metadata": {},
   "outputs": [],
   "source": [
    "b = \"pranav\""
   ]
  },
  {
   "cell_type": "code",
   "execution_count": 43,
   "id": "531218b5",
   "metadata": {},
   "outputs": [
    {
     "name": "stdout",
     "output_type": "stream",
     "text": [
      "4424440432\n"
     ]
    }
   ],
   "source": [
    "print(id(b))"
   ]
  },
  {
   "cell_type": "code",
   "execution_count": 44,
   "id": "970ca708",
   "metadata": {},
   "outputs": [],
   "source": [
    "b += \" Khandelwal\""
   ]
  },
  {
   "cell_type": "code",
   "execution_count": 45,
   "id": "5ca5b9d2",
   "metadata": {},
   "outputs": [
    {
     "name": "stdout",
     "output_type": "stream",
     "text": [
      "4424558992\n"
     ]
    }
   ],
   "source": [
    "print(id(b))"
   ]
  },
  {
   "cell_type": "code",
   "execution_count": 46,
   "id": "3533efa8",
   "metadata": {},
   "outputs": [],
   "source": [
    "a = \"scaler\""
   ]
  },
  {
   "cell_type": "code",
   "execution_count": 47,
   "id": "4c1356e2",
   "metadata": {},
   "outputs": [
    {
     "ename": "TypeError",
     "evalue": "'str' object does not support item assignment",
     "output_type": "error",
     "traceback": [
      "\u001b[0;31m---------------------------------------------------------------------------\u001b[0m",
      "\u001b[0;31mTypeError\u001b[0m                                 Traceback (most recent call last)",
      "Input \u001b[0;32mIn [47]\u001b[0m, in \u001b[0;36m<cell line: 1>\u001b[0;34m()\u001b[0m\n\u001b[0;32m----> 1\u001b[0m a[\u001b[38;5;241m1\u001b[39m] \u001b[38;5;241m=\u001b[39m \u001b[38;5;124m'\u001b[39m\u001b[38;5;124mp\u001b[39m\u001b[38;5;124m'\u001b[39m\n",
      "\u001b[0;31mTypeError\u001b[0m: 'str' object does not support item assignment"
     ]
    }
   ],
   "source": [
    "a[1] = 'p'"
   ]
  },
  {
   "cell_type": "code",
   "execution_count": 49,
   "id": "a0b9bc10",
   "metadata": {},
   "outputs": [
    {
     "name": "stdout",
     "output_type": "stream",
     "text": [
      "4303644448\n"
     ]
    }
   ],
   "source": [
    "x = 5\n",
    "print(id(x))"
   ]
  },
  {
   "cell_type": "code",
   "execution_count": 50,
   "id": "42a6ca36",
   "metadata": {},
   "outputs": [
    {
     "name": "stdout",
     "output_type": "stream",
     "text": [
      "4303644480\n"
     ]
    }
   ],
   "source": [
    "x+=1\n",
    "print(id(x))"
   ]
  },
  {
   "cell_type": "code",
   "execution_count": 51,
   "id": "5415376b",
   "metadata": {},
   "outputs": [
    {
     "name": "stdout",
     "output_type": "stream",
     "text": [
      "4303424160\n"
     ]
    }
   ],
   "source": [
    "val = True\n",
    "print(id(val))"
   ]
  },
  {
   "cell_type": "code",
   "execution_count": 52,
   "id": "d13e5cd9",
   "metadata": {},
   "outputs": [
    {
     "name": "stdout",
     "output_type": "stream",
     "text": [
      "4303424896\n"
     ]
    }
   ],
   "source": [
    "val = False\n",
    "print(id(val))"
   ]
  },
  {
   "cell_type": "code",
   "execution_count": null,
   "id": "ffb6f191",
   "metadata": {},
   "outputs": [],
   "source": []
  },
  {
   "cell_type": "code",
   "execution_count": 53,
   "id": "8228589e",
   "metadata": {},
   "outputs": [
    {
     "name": "stdout",
     "output_type": "stream",
     "text": [
      "4424673024\n"
     ]
    }
   ],
   "source": [
    "l = [1,2,3]\n",
    "print(id(l))"
   ]
  },
  {
   "cell_type": "code",
   "execution_count": 54,
   "id": "f4acad88",
   "metadata": {},
   "outputs": [],
   "source": [
    "l[1] = \"Pranav\""
   ]
  },
  {
   "cell_type": "code",
   "execution_count": 55,
   "id": "ede4d860",
   "metadata": {},
   "outputs": [
    {
     "name": "stdout",
     "output_type": "stream",
     "text": [
      "4424673024\n"
     ]
    }
   ],
   "source": [
    "print(id(l))"
   ]
  },
  {
   "cell_type": "markdown",
   "id": "d43829ba",
   "metadata": {},
   "source": [
    "## replace()\n",
    "![](https://scaler.com/topics/images/replace-a-character-in-a-string-python.webp)"
   ]
  },
  {
   "cell_type": "code",
   "execution_count": 56,
   "id": "d802f642",
   "metadata": {},
   "outputs": [],
   "source": [
    "a = 6\n",
    "b = 10\n",
    "# print sum of a and b"
   ]
  },
  {
   "cell_type": "code",
   "execution_count": 58,
   "id": "f170cd56",
   "metadata": {},
   "outputs": [
    {
     "name": "stdout",
     "output_type": "stream",
     "text": [
      "16\n"
     ]
    }
   ],
   "source": [
    "c = a + b\n",
    "print(c)"
   ]
  },
  {
   "cell_type": "code",
   "execution_count": 59,
   "id": "27f4702b",
   "metadata": {},
   "outputs": [
    {
     "name": "stdout",
     "output_type": "stream",
     "text": [
      "4303644480\n",
      "4303644608\n",
      "4303644800\n"
     ]
    }
   ],
   "source": [
    "print(id(a))\n",
    "print(id(b))\n",
    "print(id(c))"
   ]
  },
  {
   "cell_type": "code",
   "execution_count": null,
   "id": "c8b61c8b",
   "metadata": {},
   "outputs": [],
   "source": []
  },
  {
   "cell_type": "code",
   "execution_count": 60,
   "id": "b0955cc6",
   "metadata": {},
   "outputs": [],
   "source": [
    "s = \"Harry Potter and Deathly Hallows\""
   ]
  },
  {
   "cell_type": "code",
   "execution_count": 61,
   "id": "e837b6be",
   "metadata": {},
   "outputs": [
    {
     "name": "stdout",
     "output_type": "stream",
     "text": [
      "Harry Potter & Deathly Hallows\n"
     ]
    }
   ],
   "source": [
    "print(s.replace(\"and\",\"&\"))"
   ]
  },
  {
   "cell_type": "code",
   "execution_count": 62,
   "id": "0de2d601",
   "metadata": {},
   "outputs": [],
   "source": [
    "s = \"one one two two three three one\""
   ]
  },
  {
   "cell_type": "code",
   "execution_count": 63,
   "id": "d7e3e779",
   "metadata": {},
   "outputs": [
    {
     "name": "stdout",
     "output_type": "stream",
     "text": [
      "Pranav Pranav two two three three Pranav\n"
     ]
    }
   ],
   "source": [
    "print(s.replace(\"one\", \"Pranav\"))"
   ]
  },
  {
   "cell_type": "code",
   "execution_count": 64,
   "id": "5624527f",
   "metadata": {},
   "outputs": [],
   "source": [
    "t = s.replace(\"one\", \"four\")"
   ]
  },
  {
   "cell_type": "code",
   "execution_count": 65,
   "id": "1838c6b4",
   "metadata": {},
   "outputs": [
    {
     "name": "stdout",
     "output_type": "stream",
     "text": [
      "four four two two three three four\n"
     ]
    }
   ],
   "source": [
    "print(t)"
   ]
  },
  {
   "cell_type": "code",
   "execution_count": null,
   "id": "4c2eebe0",
   "metadata": {},
   "outputs": [],
   "source": []
  },
  {
   "cell_type": "code",
   "execution_count": null,
   "id": "a96bb942",
   "metadata": {},
   "outputs": [],
   "source": [
    "s = \"one one two two three three one\""
   ]
  },
  {
   "cell_type": "code",
   "execution_count": 70,
   "id": "23ec5b45",
   "metadata": {},
   "outputs": [
    {
     "name": "stdout",
     "output_type": "stream",
     "text": [
      "scaler scaler two two three three scaler\n"
     ]
    }
   ],
   "source": [
    "t = s.replace(\"one\", \"scaler\", 56)\n",
    "print(t)"
   ]
  },
  {
   "cell_type": "code",
   "execution_count": null,
   "id": "8778c353",
   "metadata": {},
   "outputs": [],
   "source": []
  },
  {
   "cell_type": "code",
   "execution_count": 72,
   "id": "41efbf20",
   "metadata": {},
   "outputs": [
    {
     "name": "stdout",
     "output_type": "stream",
     "text": [
      "Hello\n"
     ]
    }
   ],
   "source": [
    "# quiz\n",
    "a = \"Hello\"  \n",
    "b = a  \n",
    "a = \"Yello\"  \n",
    "\n",
    "print(b)"
   ]
  },
  {
   "cell_type": "code",
   "execution_count": null,
   "id": "ed1091f7",
   "metadata": {},
   "outputs": [],
   "source": []
  },
  {
   "cell_type": "code",
   "execution_count": 74,
   "id": "5d48b390",
   "metadata": {},
   "outputs": [
    {
     "name": "stdout",
     "output_type": "stream",
     "text": [
      "a-> batman\n",
      "b-> batman\n"
     ]
    }
   ],
   "source": [
    "# quiz\n",
    "a = \"batman\"\n",
    "b = a\n",
    "b.replace(\"b\", \"c\")\n",
    "\n",
    "print(\"a->\",a)\n",
    "print(\"b->\",b)"
   ]
  },
  {
   "cell_type": "code",
   "execution_count": null,
   "id": "279a7409",
   "metadata": {},
   "outputs": [],
   "source": []
  },
  {
   "cell_type": "markdown",
   "id": "d2295e73",
   "metadata": {},
   "source": [
    "## String to list"
   ]
  },
  {
   "cell_type": "code",
   "execution_count": 75,
   "id": "f57301e0",
   "metadata": {},
   "outputs": [],
   "source": [
    "s = \"hello\"\n",
    "# ['h','e','l','l','o']"
   ]
  },
  {
   "cell_type": "code",
   "execution_count": 77,
   "id": "205e55c8",
   "metadata": {},
   "outputs": [],
   "source": [
    "val = list(s) # list() takes any iteratable data and convert it to list"
   ]
  },
  {
   "cell_type": "code",
   "execution_count": 78,
   "id": "efa97bde",
   "metadata": {},
   "outputs": [
    {
     "name": "stdout",
     "output_type": "stream",
     "text": [
      "['h', 'e', 'l', 'l', 'o']\n"
     ]
    }
   ],
   "source": [
    "print(val)"
   ]
  },
  {
   "cell_type": "code",
   "execution_count": 81,
   "id": "95110968",
   "metadata": {},
   "outputs": [],
   "source": [
    "s = \"Harry Potter and Deathly Hallows\""
   ]
  },
  {
   "cell_type": "code",
   "execution_count": 84,
   "id": "aa6351a3",
   "metadata": {},
   "outputs": [],
   "source": [
    "val = s.split(\"and\") # whitespace will be part of spilitted data"
   ]
  },
  {
   "cell_type": "code",
   "execution_count": 85,
   "id": "5fd9c779",
   "metadata": {},
   "outputs": [
    {
     "name": "stdout",
     "output_type": "stream",
     "text": [
      "['Harry Potter ', ' Deathly Hallows']\n"
     ]
    }
   ],
   "source": [
    "print(val) "
   ]
  },
  {
   "cell_type": "code",
   "execution_count": null,
   "id": "ffb181b0",
   "metadata": {},
   "outputs": [],
   "source": []
  },
  {
   "cell_type": "markdown",
   "id": "4ad89fb2",
   "metadata": {},
   "source": [
    "## List to String\n",
    "![](https://scaler.com/topics/images/convert-list-to-string-in-python.webp)"
   ]
  },
  {
   "cell_type": "code",
   "execution_count": 86,
   "id": "2eaa63ed",
   "metadata": {},
   "outputs": [],
   "source": [
    "s = \"hello\"\n",
    "# h_e_l_l_o"
   ]
  },
  {
   "cell_type": "code",
   "execution_count": 88,
   "id": "a028aed8",
   "metadata": {},
   "outputs": [
    {
     "name": "stdout",
     "output_type": "stream",
     "text": [
      "h_e_l_l_o_\n",
      "h_e_l_l_o\n"
     ]
    }
   ],
   "source": [
    "result = \"\"\n",
    "\n",
    "for ch in s:\n",
    "    result+=(ch + \"_\")\n",
    "    \n",
    "print(result)\n",
    "result = result[:-1]\n",
    "print(result)"
   ]
  },
  {
   "cell_type": "code",
   "execution_count": null,
   "id": "54323764",
   "metadata": {},
   "outputs": [],
   "source": []
  },
  {
   "cell_type": "code",
   "execution_count": 89,
   "id": "3b363d93",
   "metadata": {},
   "outputs": [],
   "source": [
    "s = \"hello\""
   ]
  },
  {
   "cell_type": "code",
   "execution_count": 90,
   "id": "912309d6",
   "metadata": {},
   "outputs": [],
   "source": [
    "val = list(s)"
   ]
  },
  {
   "cell_type": "code",
   "execution_count": 91,
   "id": "699138bc",
   "metadata": {},
   "outputs": [
    {
     "name": "stdout",
     "output_type": "stream",
     "text": [
      "['h', 'e', 'l', 'l', 'o']\n"
     ]
    }
   ],
   "source": [
    "print(val)"
   ]
  },
  {
   "cell_type": "code",
   "execution_count": 92,
   "id": "503cdd33",
   "metadata": {},
   "outputs": [],
   "source": [
    "result = \"_\".join(val) # join takes a iteratable string values and insert the given string between those values"
   ]
  },
  {
   "cell_type": "code",
   "execution_count": 93,
   "id": "d5caad5b",
   "metadata": {},
   "outputs": [
    {
     "name": "stdout",
     "output_type": "stream",
     "text": [
      "h_e_l_l_o\n"
     ]
    }
   ],
   "source": [
    "print(result)"
   ]
  },
  {
   "cell_type": "code",
   "execution_count": 94,
   "id": "3ba2786e",
   "metadata": {},
   "outputs": [],
   "source": [
    "result = \" <-> \".join(val)"
   ]
  },
  {
   "cell_type": "code",
   "execution_count": 95,
   "id": "639538a9",
   "metadata": {},
   "outputs": [
    {
     "name": "stdout",
     "output_type": "stream",
     "text": [
      "h <-> e <-> l <-> l <-> o\n"
     ]
    }
   ],
   "source": [
    "print(result)"
   ]
  },
  {
   "cell_type": "code",
   "execution_count": 96,
   "id": "3af49146",
   "metadata": {},
   "outputs": [
    {
     "data": {
      "text/plain": [
       "'h-e-l-l-o'"
      ]
     },
     "execution_count": 96,
     "metadata": {},
     "output_type": "execute_result"
    }
   ],
   "source": [
    "\"-\".join(s)"
   ]
  },
  {
   "cell_type": "code",
   "execution_count": null,
   "id": "175fe28c",
   "metadata": {},
   "outputs": [],
   "source": []
  },
  {
   "cell_type": "code",
   "execution_count": 97,
   "id": "6bce16ca",
   "metadata": {},
   "outputs": [],
   "source": [
    "result = \"_\".join(\"hello\")"
   ]
  },
  {
   "cell_type": "code",
   "execution_count": 98,
   "id": "a7955191",
   "metadata": {},
   "outputs": [
    {
     "name": "stdout",
     "output_type": "stream",
     "text": [
      "h_e_l_l_o\n"
     ]
    }
   ],
   "source": [
    "print(result)"
   ]
  },
  {
   "cell_type": "code",
   "execution_count": null,
   "id": "6b7ed346",
   "metadata": {},
   "outputs": [],
   "source": []
  },
  {
   "cell_type": "code",
   "execution_count": 103,
   "id": "967eb97a",
   "metadata": {},
   "outputs": [],
   "source": [
    "val = [str(1),str(2),str(3)]"
   ]
  },
  {
   "cell_type": "code",
   "execution_count": 104,
   "id": "18b07dff",
   "metadata": {},
   "outputs": [
    {
     "data": {
      "text/plain": [
       "'1_2_3'"
      ]
     },
     "execution_count": 104,
     "metadata": {},
     "output_type": "execute_result"
    }
   ],
   "source": [
    "\"_\".join(val)"
   ]
  },
  {
   "cell_type": "code",
   "execution_count": 102,
   "id": "ac8a3a3d",
   "metadata": {},
   "outputs": [
    {
     "data": {
      "text/plain": [
       "'1_2_3'"
      ]
     },
     "execution_count": 102,
     "metadata": {},
     "output_type": "execute_result"
    }
   ],
   "source": [
    "str(1) + \"_\" + str(2) + \"_\" + str(3)"
   ]
  },
  {
   "cell_type": "code",
   "execution_count": null,
   "id": "88e4c12b",
   "metadata": {},
   "outputs": [],
   "source": []
  },
  {
   "cell_type": "code",
   "execution_count": null,
   "id": "1fa4ec77",
   "metadata": {},
   "outputs": [],
   "source": []
  },
  {
   "cell_type": "code",
   "execution_count": null,
   "id": "66f765ec",
   "metadata": {},
   "outputs": [],
   "source": []
  },
  {
   "cell_type": "code",
   "execution_count": null,
   "id": "bcd35c45",
   "metadata": {},
   "outputs": [],
   "source": []
  },
  {
   "cell_type": "markdown",
   "id": "7e183b45",
   "metadata": {},
   "source": [
    "## Reverse words in a string\n",
    "![](https://scaler.com/topics/images/reverse-words-in-a-string-python.webp)"
   ]
  },
  {
   "cell_type": "raw",
   "id": "2d75a081",
   "metadata": {},
   "source": [
    "Quiz\n",
    "\n",
    "What is the word-by-word reverse of the sentence\n",
    "\"Are you as clever as I am\"\n",
    "\n",
    "Answer:\n",
    "am I as clever as you Are"
   ]
  },
  {
   "cell_type": "code",
   "execution_count": 105,
   "id": "b8a00dee",
   "metadata": {},
   "outputs": [],
   "source": [
    "s = \"Are you as clever as I am\""
   ]
  },
  {
   "cell_type": "code",
   "execution_count": null,
   "id": "ab290153",
   "metadata": {},
   "outputs": [],
   "source": [
    "output -> \"am I as clever as you Are\""
   ]
  },
  {
   "cell_type": "code",
   "execution_count": 108,
   "id": "975c5ccd",
   "metadata": {},
   "outputs": [
    {
     "name": "stdout",
     "output_type": "stream",
     "text": [
      "4424201856\n"
     ]
    }
   ],
   "source": [
    "s_list = s.split()\n",
    "print(id(s_list))"
   ]
  },
  {
   "cell_type": "code",
   "execution_count": 109,
   "id": "17b669bd",
   "metadata": {},
   "outputs": [],
   "source": [
    "s_list.reverse()"
   ]
  },
  {
   "cell_type": "code",
   "execution_count": 110,
   "id": "1e52cbdc",
   "metadata": {},
   "outputs": [
    {
     "name": "stdout",
     "output_type": "stream",
     "text": [
      "['am', 'I', 'as', 'clever', 'as', 'you', 'Are']\n",
      "4424201856\n"
     ]
    }
   ],
   "source": [
    "print(s_list)\n",
    "print(id(s_list))"
   ]
  },
  {
   "cell_type": "code",
   "execution_count": 111,
   "id": "dcc83b21",
   "metadata": {},
   "outputs": [],
   "source": [
    "result = \" \".join(s_list)"
   ]
  },
  {
   "cell_type": "code",
   "execution_count": 112,
   "id": "5b0f848e",
   "metadata": {},
   "outputs": [
    {
     "name": "stdout",
     "output_type": "stream",
     "text": [
      "am I as clever as you Are\n"
     ]
    }
   ],
   "source": [
    "print(result)"
   ]
  },
  {
   "cell_type": "code",
   "execution_count": null,
   "id": "30198a32",
   "metadata": {},
   "outputs": [],
   "source": []
  },
  {
   "cell_type": "code",
   "execution_count": 113,
   "id": "ff9c6812",
   "metadata": {},
   "outputs": [],
   "source": [
    "# String formatting"
   ]
  },
  {
   "cell_type": "code",
   "execution_count": null,
   "id": "882051ba",
   "metadata": {},
   "outputs": [],
   "source": []
  },
  {
   "cell_type": "code",
   "execution_count": 126,
   "id": "65080692",
   "metadata": {},
   "outputs": [],
   "source": [
    "apple_count = 5 # int\n",
    "oranges_count = 3 # int\n",
    "banana_count = 10"
   ]
  },
  {
   "cell_type": "code",
   "execution_count": 121,
   "id": "6a5a302f",
   "metadata": {},
   "outputs": [],
   "source": [
    "s = \"I have \" + str(apple_count) + \" apples and \" + str(oranges_count) + \" oranges\""
   ]
  },
  {
   "cell_type": "code",
   "execution_count": 122,
   "id": "f5a9b73c",
   "metadata": {},
   "outputs": [
    {
     "name": "stdout",
     "output_type": "stream",
     "text": [
      "I have 5 apples and 3 oranges\n"
     ]
    }
   ],
   "source": [
    "print(s)"
   ]
  },
  {
   "cell_type": "code",
   "execution_count": 123,
   "id": "1bb9cc6b",
   "metadata": {},
   "outputs": [],
   "source": [
    "# .format method"
   ]
  },
  {
   "cell_type": "code",
   "execution_count": 129,
   "id": "2bc3e6e0",
   "metadata": {},
   "outputs": [
    {
     "name": "stdout",
     "output_type": "stream",
     "text": [
      "I have 3 apples and 10 oranges and 5 bananas\n"
     ]
    }
   ],
   "source": [
    "s = \"I have {} apples and {} oranges and {} bananas\".format(oranges_count, banana_count, apple_count)\n",
    "print(s)"
   ]
  },
  {
   "cell_type": "code",
   "execution_count": null,
   "id": "ecafdd8e",
   "metadata": {},
   "outputs": [],
   "source": []
  },
  {
   "cell_type": "code",
   "execution_count": 130,
   "id": "af7807d2",
   "metadata": {},
   "outputs": [],
   "source": [
    "# f-string\n",
    "# Python 3.6 or above"
   ]
  },
  {
   "cell_type": "code",
   "execution_count": 132,
   "id": "762b203d",
   "metadata": {},
   "outputs": [
    {
     "name": "stdout",
     "output_type": "stream",
     "text": [
      "I have 5 apples and 3 oranges and 10 bananas\n"
     ]
    }
   ],
   "source": [
    "s = f\"I have {apple_count} apples and {oranges_count} oranges and {banana_count} bananas\"\n",
    "print(s)"
   ]
  },
  {
   "cell_type": "code",
   "execution_count": null,
   "id": "bae902a4",
   "metadata": {},
   "outputs": [],
   "source": []
  },
  {
   "cell_type": "code",
   "execution_count": 136,
   "id": "c5ab2969",
   "metadata": {},
   "outputs": [
    {
     "name": "stdout",
     "output_type": "stream",
     "text": [
      "Hey my name is Emma Watson, and my age is 32.\n"
     ]
    }
   ],
   "source": [
    "# quiz\n",
    "name = 'Emma Watson'\n",
    "age = 32\n",
    "print(\"Hey my name is {}, and my age is {}.\".format(name, age))"
   ]
  },
  {
   "cell_type": "code",
   "execution_count": 140,
   "id": "07970c51",
   "metadata": {},
   "outputs": [],
   "source": [
    "# https://realpython.com/python-f-strings/"
   ]
  },
  {
   "cell_type": "code",
   "execution_count": null,
   "id": "ae082b5a",
   "metadata": {},
   "outputs": [],
   "source": []
  },
  {
   "cell_type": "markdown",
   "id": "fb5fd551",
   "metadata": {},
   "source": [
    "### Convert a string to all uppercase characters without using any inbuilt functions\n",
    "\n",
    "Input:\n",
    "```\n",
    "s = \"hELLo\"\n",
    "```\n",
    "\n",
    "Output:\n",
    "```\n",
    "s = \"HELLO\"\n",
    "```"
   ]
  },
  {
   "cell_type": "code",
   "execution_count": 137,
   "id": "d765cc5b",
   "metadata": {},
   "outputs": [],
   "source": [
    "# cannot use upper() or lower() or isupper() or islower()"
   ]
  },
  {
   "cell_type": "code",
   "execution_count": 138,
   "id": "aa5f7180",
   "metadata": {},
   "outputs": [],
   "source": [
    "# Hint -> use ACSII Values"
   ]
  },
  {
   "cell_type": "code",
   "execution_count": null,
   "id": "715846c2",
   "metadata": {},
   "outputs": [],
   "source": []
  },
  {
   "cell_type": "code",
   "execution_count": null,
   "id": "2a6504a4",
   "metadata": {},
   "outputs": [],
   "source": []
  },
  {
   "cell_type": "code",
   "execution_count": null,
   "id": "ceb93104",
   "metadata": {},
   "outputs": [],
   "source": []
  },
  {
   "cell_type": "markdown",
   "id": "2463ce14",
   "metadata": {},
   "source": [
    "# Bonus Reading Material\n",
    "- What are Mutable Data Types in Python? - https://www.scaler.com/topics/mutable-data-typesg-in-python/\n",
    "- Mutable and Immutable in Python - https://www.scaler.com/topics/mutable-and-immutable-in-python/\n",
    "- Replace in Python - https://www.scaler.com/topics/replace-in-python/\n",
    "- Replace a Character in a String Python - https://www.scaler.com/topics/replace-a-character-in-a-string-python/\n",
    "- Join in Python - https://www.scaler.com/topics/join-in-python/\n",
    "- Convert List to String in Python - https://www.scaler.com/topics/convert-list-to-string-in-python/\n",
    "- Convert List to String in Python - https://www.scaler.com/topics/convert-list-to-string-python/\n",
    "- Python String find() Method - https://www.scaler.com/topics/find-function-in-python/\n",
    "- Find in Python - https://www.scaler.com/topics/find-in-python/\n",
    "- Count in Python - https://www.scaler.com/topics/count-in-python/\n",
    "- startswith() in Python - https://www.scaler.com/topics/startswith-in-python/\n",
    "- capitalize() in Python - https://www.scaler.com/topics/capitalize-in-python/\n",
    "- swapcase() in Python - https://www.scaler.com/topics/swapcase-in-python/\n",
    "- partition() in Python - https://www.scaler.com/topics/partition-in-python/\n",
    "- Strip Function in Python - https://www.scaler.com/topics/strip-function-in-python/\n",
    "- Lexicographical order in Python - https://www.scaler.com/topics/lexicographical-order-in-python/\n",
    "- Sort a String in Python - https://www.scaler.com/topics/sort-a-string-in-python/\n",
    "- Remove Whitespace From String - https://www.scaler.com/topics/remove-whitespace-from-string/\n",
    "- Reverse Words in a String Python - https://www.scaler.com/topics/reverse-words-in-a-string-python/\n",
    "- Reverse Words in a String - https://www.scaler.com/topics/reverse-words-in-a-string/\n",
    "- Substring in Python - https://www.scaler.com/topics/substring-in-python/\n",
    "- Remove Punctuation from String Python - https://www.scaler.com/topics/remove-punctuation-from-string-python/"
   ]
  },
  {
   "cell_type": "code",
   "execution_count": null,
   "id": "d5ad2311",
   "metadata": {},
   "outputs": [],
   "source": []
  },
  {
   "cell_type": "code",
   "execution_count": null,
   "id": "0148d59f",
   "metadata": {},
   "outputs": [],
   "source": []
  },
  {
   "cell_type": "code",
   "execution_count": null,
   "id": "24d2a43f",
   "metadata": {},
   "outputs": [],
   "source": []
  },
  {
   "cell_type": "markdown",
   "id": "51df4500",
   "metadata": {},
   "source": [
    "# Doubts"
   ]
  },
  {
   "cell_type": "code",
   "execution_count": 144,
   "id": "b3425db3",
   "metadata": {},
   "outputs": [],
   "source": [
    "val = [\"101\", \"102\", \"204\", \"305\", \"307\",\"409\",\"477\", \"203\"]"
   ]
  },
  {
   "cell_type": "code",
   "execution_count": 145,
   "id": "9f0c8e53",
   "metadata": {},
   "outputs": [
    {
     "name": "stdout",
     "output_type": "stream",
     "text": [
      "305\n",
      "307\n",
      "203\n"
     ]
    }
   ],
   "source": [
    "for i in val:\n",
    "    if i.find(\"3\")!=-1:\n",
    "        print(i)\n"
   ]
  },
  {
   "cell_type": "code",
   "execution_count": null,
   "id": "53d1b5d4",
   "metadata": {},
   "outputs": [],
   "source": []
  },
  {
   "cell_type": "code",
   "execution_count": 146,
   "id": "af922c7e",
   "metadata": {},
   "outputs": [],
   "source": [
    "# count\n"
   ]
  },
  {
   "cell_type": "code",
   "execution_count": 147,
   "id": "583f9120",
   "metadata": {},
   "outputs": [],
   "source": [
    "s = \"Harry Potter and Deathly Hallows\""
   ]
  },
  {
   "cell_type": "code",
   "execution_count": 150,
   "id": "7505d53a",
   "metadata": {},
   "outputs": [
    {
     "name": "stdout",
     "output_type": "stream",
     "text": [
      "4\n"
     ]
    }
   ],
   "source": [
    "print(s.count(\"a\")) # returns the no. of occurence of substr"
   ]
  },
  {
   "cell_type": "code",
   "execution_count": null,
   "id": "178fdd59",
   "metadata": {},
   "outputs": [],
   "source": []
  }
 ],
 "metadata": {
  "kernelspec": {
   "display_name": "Python 3 (ipykernel)",
   "language": "python",
   "name": "python3"
  },
  "language_info": {
   "codemirror_mode": {
    "name": "ipython",
    "version": 3
   },
   "file_extension": ".py",
   "mimetype": "text/x-python",
   "name": "python",
   "nbconvert_exporter": "python",
   "pygments_lexer": "ipython3",
   "version": "3.8.13"
  }
 },
 "nbformat": 4,
 "nbformat_minor": 5
}
