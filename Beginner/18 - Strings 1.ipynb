{
 "cells": [
  {
   "cell_type": "markdown",
   "id": "0b460c5c",
   "metadata": {},
   "source": [
    "# Strings"
   ]
  },
  {
   "cell_type": "code",
   "execution_count": null,
   "id": "ddcc456b",
   "metadata": {},
   "outputs": [],
   "source": [
    "print(\"Hello World\") # <- string"
   ]
  },
  {
   "cell_type": "code",
   "execution_count": 4,
   "id": "b527a722",
   "metadata": {},
   "outputs": [],
   "source": [
    "s = \"Pranav\""
   ]
  },
  {
   "cell_type": "code",
   "execution_count": 5,
   "id": "8c8d930e",
   "metadata": {},
   "outputs": [
    {
     "name": "stdout",
     "output_type": "stream",
     "text": [
      "<class 'str'>\n"
     ]
    }
   ],
   "source": [
    "print(type(s))"
   ]
  },
  {
   "cell_type": "code",
   "execution_count": 6,
   "id": "0b276c6a",
   "metadata": {},
   "outputs": [
    {
     "name": "stdout",
     "output_type": "stream",
     "text": [
      "<class 'str'>\n"
     ]
    }
   ],
   "source": [
    "new_s = 'Tarun'\n",
    "print(type(new_s))"
   ]
  },
  {
   "cell_type": "code",
   "execution_count": 8,
   "id": "9b47ba97",
   "metadata": {},
   "outputs": [
    {
     "name": "stdout",
     "output_type": "stream",
     "text": [
      "\n",
      "Anything I write here\n",
      "Can be written in next\n",
      "line\n",
      " <class 'str'>\n"
     ]
    }
   ],
   "source": [
    "mul_s = \"\"\"\n",
    "Anything I write here\n",
    "Can be written in next\n",
    "line\n",
    "\"\"\"\n",
    "print(mul_s, type(mul_s))"
   ]
  },
  {
   "cell_type": "code",
   "execution_count": 9,
   "id": "5f443b44",
   "metadata": {},
   "outputs": [
    {
     "name": "stdout",
     "output_type": "stream",
     "text": [
      "\n",
      "This is also\n",
      "considered a way to write\n",
      "multiple line\n",
      " <class 'str'>\n"
     ]
    }
   ],
   "source": [
    "new_mul_s = '''\n",
    "This is also\n",
    "considered a way to write\n",
    "multiple line\n",
    "'''\n",
    "print(new_mul_s, type(new_mul_s))"
   ]
  },
  {
   "cell_type": "code",
   "execution_count": null,
   "id": "d326367a",
   "metadata": {},
   "outputs": [],
   "source": [
    "def func():\n",
    "    \"\"\"\n",
    "    docstring\n",
    "    \"\"\"\n",
    "    \n",
    "    # complex task of finding new data"
   ]
  },
  {
   "cell_type": "code",
   "execution_count": null,
   "id": "c20db7dc",
   "metadata": {},
   "outputs": [],
   "source": [
    "help()"
   ]
  },
  {
   "cell_type": "code",
   "execution_count": null,
   "id": "1271f0d6",
   "metadata": {},
   "outputs": [],
   "source": []
  },
  {
   "cell_type": "markdown",
   "id": "448bd38f",
   "metadata": {},
   "source": [
    "### Multiline String\n",
    "![](https://scaler.com/topics/images/python-multiline-string.webp)"
   ]
  },
  {
   "cell_type": "code",
   "execution_count": null,
   "id": "c8cb23a8",
   "metadata": {},
   "outputs": [],
   "source": []
  },
  {
   "cell_type": "code",
   "execution_count": null,
   "id": "20188aa8",
   "metadata": {},
   "outputs": [],
   "source": []
  },
  {
   "cell_type": "code",
   "execution_count": null,
   "id": "4bd7304a",
   "metadata": {},
   "outputs": [],
   "source": []
  },
  {
   "cell_type": "code",
   "execution_count": null,
   "id": "a25c8fa8",
   "metadata": {},
   "outputs": [],
   "source": []
  },
  {
   "cell_type": "code",
   "execution_count": null,
   "id": "e2ad7ecf",
   "metadata": {},
   "outputs": [],
   "source": []
  },
  {
   "cell_type": "code",
   "execution_count": null,
   "id": "ce208a18",
   "metadata": {},
   "outputs": [],
   "source": []
  },
  {
   "cell_type": "code",
   "execution_count": null,
   "id": "b3613fdc",
   "metadata": {},
   "outputs": [],
   "source": []
  },
  {
   "cell_type": "code",
   "execution_count": null,
   "id": "98855bba",
   "metadata": {},
   "outputs": [],
   "source": []
  },
  {
   "cell_type": "markdown",
   "id": "706c6b74",
   "metadata": {},
   "source": [
    "### Length\n",
    "<img src=\"https://scaler.com/topics/images/length-of-an-array-in-c_thumbnail.webp\" width=\"350px\" />"
   ]
  },
  {
   "cell_type": "code",
   "execution_count": 10,
   "id": "db1e634d",
   "metadata": {},
   "outputs": [],
   "source": [
    "s = \"Hello\""
   ]
  },
  {
   "cell_type": "code",
   "execution_count": 11,
   "id": "1a01d11a",
   "metadata": {},
   "outputs": [
    {
     "name": "stdout",
     "output_type": "stream",
     "text": [
      "5\n"
     ]
    }
   ],
   "source": [
    "print(len(s))"
   ]
  },
  {
   "cell_type": "code",
   "execution_count": 13,
   "id": "172eb0e8",
   "metadata": {},
   "outputs": [
    {
     "name": "stdout",
     "output_type": "stream",
     "text": [
      "6\n"
     ]
    }
   ],
   "source": [
    "s = \"ab  cd\"\n",
    "print(len(s))"
   ]
  },
  {
   "cell_type": "code",
   "execution_count": null,
   "id": "6cfc5209",
   "metadata": {},
   "outputs": [],
   "source": []
  },
  {
   "cell_type": "code",
   "execution_count": null,
   "id": "5527d762",
   "metadata": {},
   "outputs": [],
   "source": []
  },
  {
   "cell_type": "markdown",
   "id": "7ec0d8fd",
   "metadata": {},
   "source": [
    "## Indexing"
   ]
  },
  {
   "cell_type": "markdown",
   "id": "5d8f9b35",
   "metadata": {},
   "source": [
    "![](https://scaler.com/topics/images/characters-of-a-string-in-python-1024x483.webp)"
   ]
  },
  {
   "cell_type": "code",
   "execution_count": 14,
   "id": "17dcc464",
   "metadata": {},
   "outputs": [],
   "source": [
    "s = \"Hello World\""
   ]
  },
  {
   "cell_type": "code",
   "execution_count": 15,
   "id": "6b6a6a34",
   "metadata": {},
   "outputs": [
    {
     "name": "stdout",
     "output_type": "stream",
     "text": [
      "e\n"
     ]
    }
   ],
   "source": [
    "print(s[1])"
   ]
  },
  {
   "cell_type": "code",
   "execution_count": 19,
   "id": "a1e3c678",
   "metadata": {},
   "outputs": [
    {
     "name": "stdout",
     "output_type": "stream",
     "text": [
      "_\n"
     ]
    }
   ],
   "source": [
    "s = \"ab__cd\"\n",
    "print(s[3])"
   ]
  },
  {
   "cell_type": "code",
   "execution_count": 20,
   "id": "e968b38f",
   "metadata": {},
   "outputs": [
    {
     "name": "stdout",
     "output_type": "stream",
     "text": [
      "<class 'str'>\n"
     ]
    }
   ],
   "source": [
    "s = \"Hellow World 05/12/2022 !@#$%^&&*\"\n",
    "print(type(s))"
   ]
  },
  {
   "cell_type": "code",
   "execution_count": 21,
   "id": "dfec036f",
   "metadata": {},
   "outputs": [
    {
     "ename": "IndexError",
     "evalue": "string index out of range",
     "output_type": "error",
     "traceback": [
      "\u001b[0;31m---------------------------------------------------------------------------\u001b[0m",
      "\u001b[0;31mIndexError\u001b[0m                                Traceback (most recent call last)",
      "Input \u001b[0;32mIn [21]\u001b[0m, in \u001b[0;36m<cell line: 2>\u001b[0;34m()\u001b[0m\n\u001b[1;32m      1\u001b[0m s \u001b[38;5;241m=\u001b[39m \u001b[38;5;124m\"\u001b[39m\u001b[38;5;124mPranav\u001b[39m\u001b[38;5;124m\"\u001b[39m\n\u001b[0;32m----> 2\u001b[0m \u001b[38;5;28mprint\u001b[39m(\u001b[43ms\u001b[49m\u001b[43m[\u001b[49m\u001b[38;5;241;43m10\u001b[39;49m\u001b[43m]\u001b[49m)\n",
      "\u001b[0;31mIndexError\u001b[0m: string index out of range"
     ]
    }
   ],
   "source": [
    "s = \"Pranav\"\n",
    "print(s[10])"
   ]
  },
  {
   "cell_type": "raw",
   "id": "06b33a1d",
   "metadata": {},
   "source": [
    "Which of the following is a valid string?\n",
    "a) \"Rahul#' <- str NO\n",
    "b) \"@rahul\" <- YES\n",
    "c) 'Tuna123\" <- str No"
   ]
  },
  {
   "cell_type": "code",
   "execution_count": null,
   "id": "c5d05a0d",
   "metadata": {},
   "outputs": [],
   "source": []
  },
  {
   "cell_type": "code",
   "execution_count": 22,
   "id": "97a9a137",
   "metadata": {},
   "outputs": [],
   "source": [
    "s = \"Hellow\""
   ]
  },
  {
   "cell_type": "code",
   "execution_count": 23,
   "id": "9744d45e",
   "metadata": {},
   "outputs": [
    {
     "name": "stdout",
     "output_type": "stream",
     "text": [
      "w\n"
     ]
    }
   ],
   "source": [
    "print(s[-1])"
   ]
  },
  {
   "cell_type": "code",
   "execution_count": 24,
   "id": "a3f1bacb",
   "metadata": {},
   "outputs": [
    {
     "name": "stdout",
     "output_type": "stream",
     "text": [
      "l\n"
     ]
    }
   ],
   "source": [
    "print(s[-3])"
   ]
  },
  {
   "cell_type": "code",
   "execution_count": null,
   "id": "2a88361c",
   "metadata": {},
   "outputs": [],
   "source": []
  },
  {
   "cell_type": "markdown",
   "id": "880fa90d",
   "metadata": {},
   "source": [
    "#### Question\n",
    "Given a string, print its characters line by line. \\\n",
    "S = \"INDIA\" \n",
    "\n",
    "Output:\n",
    "```\n",
    "I\n",
    "N\n",
    "D\n",
    "I\n",
    "A\n",
    "```"
   ]
  },
  {
   "cell_type": "code",
   "execution_count": 36,
   "id": "f05ecc16",
   "metadata": {},
   "outputs": [
    {
     "name": "stdout",
     "output_type": "stream",
     "text": [
      "I\n",
      "N\n",
      "D\n",
      "I\n",
      "A\n"
     ]
    }
   ],
   "source": [
    "s = \"INDIA\"\n",
    "for i in s:\n",
    "    print(i)\n",
    "    "
   ]
  },
  {
   "cell_type": "code",
   "execution_count": 30,
   "id": "f3276cb8",
   "metadata": {},
   "outputs": [
    {
     "name": "stdout",
     "output_type": "stream",
     "text": [
      "I\n",
      "N\n",
      "D\n",
      "I\n",
      "A\n"
     ]
    }
   ],
   "source": [
    "s = \"INDIA\"\n",
    "for i in range(0,len(s)):\n",
    "    print(s[i])"
   ]
  },
  {
   "cell_type": "code",
   "execution_count": 32,
   "id": "0c682135",
   "metadata": {},
   "outputs": [],
   "source": [
    "val = [1,2,3]"
   ]
  },
  {
   "cell_type": "code",
   "execution_count": 34,
   "id": "1d1c68cb",
   "metadata": {},
   "outputs": [
    {
     "name": "stdout",
     "output_type": "stream",
     "text": [
      "1\n",
      "2\n",
      "3\n"
     ]
    }
   ],
   "source": [
    "for i in range(len(val)):\n",
    "    print(val[i])"
   ]
  },
  {
   "cell_type": "code",
   "execution_count": 35,
   "id": "4e9efa8a",
   "metadata": {},
   "outputs": [
    {
     "name": "stdout",
     "output_type": "stream",
     "text": [
      "1\n",
      "2\n",
      "3\n"
     ]
    }
   ],
   "source": [
    "# list is iteratable\n",
    "for i in val: \n",
    "    print(i)"
   ]
  },
  {
   "cell_type": "code",
   "execution_count": null,
   "id": "5f234b6e",
   "metadata": {},
   "outputs": [],
   "source": []
  },
  {
   "cell_type": "code",
   "execution_count": null,
   "id": "7a23b0f6",
   "metadata": {},
   "outputs": [],
   "source": [
    "l = [\"sahil\", \"bansal\"]\n",
    "\n",
    "print(l[0][-1])"
   ]
  },
  {
   "cell_type": "code",
   "execution_count": null,
   "id": "5febabc2",
   "metadata": {},
   "outputs": [],
   "source": []
  },
  {
   "cell_type": "code",
   "execution_count": null,
   "id": "00ada427",
   "metadata": {},
   "outputs": [],
   "source": []
  },
  {
   "cell_type": "markdown",
   "id": "1a4e5734",
   "metadata": {},
   "source": [
    "### Iterating over a string"
   ]
  },
  {
   "cell_type": "code",
   "execution_count": null,
   "id": "84da8ff4",
   "metadata": {},
   "outputs": [],
   "source": [
    "s = \"INDIA\"\n",
    "I,N,D,I,A"
   ]
  },
  {
   "cell_type": "code",
   "execution_count": 38,
   "id": "168f3640",
   "metadata": {},
   "outputs": [
    {
     "name": "stdout",
     "output_type": "stream",
     "text": [
      "I,N,D,I,A,"
     ]
    }
   ],
   "source": [
    "s = \"INDIA\"\n",
    "for i in s:\n",
    "    print(i, end=\",\")"
   ]
  },
  {
   "cell_type": "code",
   "execution_count": null,
   "id": "14b50e68",
   "metadata": {},
   "outputs": [],
   "source": []
  },
  {
   "cell_type": "markdown",
   "id": "b2627929",
   "metadata": {},
   "source": [
    "## String Concatenation\n",
    "![](https://scaler.com/topics/images/string-concatenation-in-python.webp)"
   ]
  },
  {
   "cell_type": "code",
   "execution_count": 40,
   "id": "18f25fc9",
   "metadata": {},
   "outputs": [],
   "source": [
    "first = \"Pranav\"\n",
    "last = \"Khandelwal\""
   ]
  },
  {
   "cell_type": "code",
   "execution_count": 43,
   "id": "cc4622e3",
   "metadata": {},
   "outputs": [],
   "source": [
    "full_name = first + \" \" + last"
   ]
  },
  {
   "cell_type": "code",
   "execution_count": 44,
   "id": "0177c385",
   "metadata": {},
   "outputs": [
    {
     "name": "stdout",
     "output_type": "stream",
     "text": [
      "Pranav Khandelwal\n"
     ]
    }
   ],
   "source": [
    "print(full_name)"
   ]
  },
  {
   "cell_type": "code",
   "execution_count": 50,
   "id": "66740669",
   "metadata": {},
   "outputs": [
    {
     "name": "stdout",
     "output_type": "stream",
     "text": [
      "Pranav Khandelwal\n"
     ]
    }
   ],
   "source": [
    "print(first,last)"
   ]
  },
  {
   "cell_type": "code",
   "execution_count": null,
   "id": "a90a2166",
   "metadata": {},
   "outputs": [],
   "source": []
  },
  {
   "cell_type": "code",
   "execution_count": null,
   "id": "c7ad0d8f",
   "metadata": {},
   "outputs": [],
   "source": [
    "+ <- addition in case of int but"
   ]
  },
  {
   "cell_type": "code",
   "execution_count": 45,
   "id": "fdf13893",
   "metadata": {},
   "outputs": [],
   "source": [
    "a = \"abc\""
   ]
  },
  {
   "cell_type": "code",
   "execution_count": 46,
   "id": "7b2e20bd",
   "metadata": {},
   "outputs": [],
   "source": [
    "a = \"abc\"*2"
   ]
  },
  {
   "cell_type": "code",
   "execution_count": 47,
   "id": "66913208",
   "metadata": {},
   "outputs": [
    {
     "name": "stdout",
     "output_type": "stream",
     "text": [
      "abcabc\n"
     ]
    }
   ],
   "source": [
    "print(a)"
   ]
  },
  {
   "cell_type": "code",
   "execution_count": 53,
   "id": "5ea1afb2",
   "metadata": {},
   "outputs": [],
   "source": [
    "val = \"ok\"*5"
   ]
  },
  {
   "cell_type": "code",
   "execution_count": 54,
   "id": "52700360",
   "metadata": {},
   "outputs": [
    {
     "name": "stdout",
     "output_type": "stream",
     "text": [
      "okokokokok\n"
     ]
    }
   ],
   "source": [
    "print(val)"
   ]
  },
  {
   "cell_type": "code",
   "execution_count": 55,
   "id": "ccf8d94a",
   "metadata": {},
   "outputs": [
    {
     "name": "stdout",
     "output_type": "stream",
     "text": [
      "21\n"
     ]
    }
   ],
   "source": [
    "# Quiz\n",
    "city = \"Phoenix\"\n",
    "print(len(city*3))"
   ]
  },
  {
   "cell_type": "code",
   "execution_count": null,
   "id": "60ec9d2f",
   "metadata": {},
   "outputs": [],
   "source": [
    "\"Phoenix\"*3\n",
    "\n",
    "OR\n",
    "\n",
    "city = \"Phoenix\"\n",
    "city*3"
   ]
  },
  {
   "cell_type": "code",
   "execution_count": null,
   "id": "ec2585b8",
   "metadata": {},
   "outputs": [],
   "source": []
  },
  {
   "cell_type": "markdown",
   "id": "0365addf",
   "metadata": {},
   "source": [
    "## String slicing\n"
   ]
  },
  {
   "cell_type": "markdown",
   "id": "f73ad2db",
   "metadata": {},
   "source": [
    "The exact same rules of list slicing applies to strings as well. "
   ]
  },
  {
   "cell_type": "code",
   "execution_count": 56,
   "id": "93275b8b",
   "metadata": {},
   "outputs": [
    {
     "name": "stdout",
     "output_type": "stream",
     "text": [
      "bc\n"
     ]
    }
   ],
   "source": [
    "s = \"abcdef\"\n",
    "print(s[1:3])"
   ]
  },
  {
   "cell_type": "code",
   "execution_count": 57,
   "id": "4ec7665d",
   "metadata": {},
   "outputs": [
    {
     "name": "stdout",
     "output_type": "stream",
     "text": [
      "edcba\n"
     ]
    }
   ],
   "source": [
    "print(s[4::-1])"
   ]
  },
  {
   "cell_type": "code",
   "execution_count": 58,
   "id": "5edc2966",
   "metadata": {},
   "outputs": [
    {
     "name": "stdout",
     "output_type": "stream",
     "text": [
      "fedcba\n"
     ]
    }
   ],
   "source": [
    "print(s[::-1]) # reverse of string"
   ]
  },
  {
   "cell_type": "code",
   "execution_count": 59,
   "id": "7e67261e",
   "metadata": {},
   "outputs": [
    {
     "name": "stdout",
     "output_type": "stream",
     "text": [
      "fe\n"
     ]
    }
   ],
   "source": [
    "print(s[:3:-1])"
   ]
  },
  {
   "cell_type": "code",
   "execution_count": 60,
   "id": "7a3eed6a",
   "metadata": {},
   "outputs": [
    {
     "name": "stdout",
     "output_type": "stream",
     "text": [
      "ec\n"
     ]
    }
   ],
   "source": [
    "print(s[-2:-5:-2])"
   ]
  },
  {
   "cell_type": "code",
   "execution_count": 62,
   "id": "aabb62f3",
   "metadata": {},
   "outputs": [],
   "source": [
    "# quiz\n",
    "def mystery(s):\n",
    "    i = len(s)//2  # -> 3\n",
    "    a = s[:i] # pra\n",
    "    b = s[i:] # nav\n",
    "    return a + b"
   ]
  },
  {
   "cell_type": "code",
   "execution_count": 63,
   "id": "fef9d04a",
   "metadata": {},
   "outputs": [
    {
     "name": "stdout",
     "output_type": "stream",
     "text": [
      "pranav\n"
     ]
    }
   ],
   "source": [
    "print(mystery(\"pranav\"))"
   ]
  },
  {
   "cell_type": "code",
   "execution_count": null,
   "id": "93013f85",
   "metadata": {},
   "outputs": [],
   "source": []
  },
  {
   "cell_type": "code",
   "execution_count": null,
   "id": "c0f179d8",
   "metadata": {},
   "outputs": [],
   "source": []
  },
  {
   "cell_type": "markdown",
   "id": "328212ff",
   "metadata": {},
   "source": [
    "### Check Palindrome\n",
    "Given a string, check if it is Palindromic"
   ]
  },
  {
   "cell_type": "code",
   "execution_count": null,
   "id": "5693be58",
   "metadata": {},
   "outputs": [],
   "source": [
    "# write a method, which returns True if given string is palindrome and False if not"
   ]
  },
  {
   "cell_type": "code",
   "execution_count": 64,
   "id": "143fb5bb",
   "metadata": {},
   "outputs": [],
   "source": [
    "def check_palindrome(s):\n",
    "    return s == s[::-1]"
   ]
  },
  {
   "cell_type": "code",
   "execution_count": 65,
   "id": "87493b38",
   "metadata": {},
   "outputs": [
    {
     "name": "stdout",
     "output_type": "stream",
     "text": [
      "True\n"
     ]
    }
   ],
   "source": [
    "print(check_palindrome(\"naman\"))"
   ]
  },
  {
   "cell_type": "code",
   "execution_count": 66,
   "id": "cb0ad31a",
   "metadata": {},
   "outputs": [
    {
     "name": "stdout",
     "output_type": "stream",
     "text": [
      "False\n"
     ]
    }
   ],
   "source": [
    "print(check_palindrome(\"Naman\"))"
   ]
  },
  {
   "cell_type": "code",
   "execution_count": 67,
   "id": "b9b1fc01",
   "metadata": {},
   "outputs": [
    {
     "name": "stdout",
     "output_type": "stream",
     "text": [
      "True\n"
     ]
    }
   ],
   "source": [
    "print(check_palindrome(\"ababa\"))"
   ]
  },
  {
   "cell_type": "code",
   "execution_count": 68,
   "id": "40aad0bd",
   "metadata": {},
   "outputs": [
    {
     "name": "stdout",
     "output_type": "stream",
     "text": [
      "False\n"
     ]
    }
   ],
   "source": [
    "print(check_palindrome(\"Pranav\"))"
   ]
  },
  {
   "cell_type": "code",
   "execution_count": null,
   "id": "fb8d8d2f",
   "metadata": {},
   "outputs": [],
   "source": []
  },
  {
   "cell_type": "markdown",
   "id": "88ca8824",
   "metadata": {},
   "source": [
    "## Working with ASCII Values\n",
    "<img src=\"https://scaler.com/topics/images/ascii-values-in-c-thumbnail.webp\" width=\"400px\" />"
   ]
  },
  {
   "cell_type": "code",
   "execution_count": null,
   "id": "8b275e1d",
   "metadata": {},
   "outputs": [],
   "source": []
  },
  {
   "cell_type": "code",
   "execution_count": null,
   "id": "e3fe1fe1",
   "metadata": {},
   "outputs": [],
   "source": []
  },
  {
   "cell_type": "code",
   "execution_count": null,
   "id": "1d8eebe6",
   "metadata": {},
   "outputs": [],
   "source": []
  },
  {
   "cell_type": "code",
   "execution_count": null,
   "id": "afb2cb95",
   "metadata": {},
   "outputs": [],
   "source": []
  },
  {
   "cell_type": "markdown",
   "id": "56613281",
   "metadata": {},
   "source": [
    "### ord()\n",
    "![](https://scaler.com/topics/images/ord-in-python.webp)"
   ]
  },
  {
   "cell_type": "code",
   "execution_count": 69,
   "id": "346c1fe5",
   "metadata": {},
   "outputs": [
    {
     "name": "stdout",
     "output_type": "stream",
     "text": [
      "65\n"
     ]
    }
   ],
   "source": [
    "print(ord('A'))"
   ]
  },
  {
   "cell_type": "code",
   "execution_count": 70,
   "id": "37960521",
   "metadata": {},
   "outputs": [
    {
     "name": "stdout",
     "output_type": "stream",
     "text": [
      "70\n"
     ]
    }
   ],
   "source": [
    "print(ord('F'))"
   ]
  },
  {
   "cell_type": "code",
   "execution_count": 71,
   "id": "89a98105",
   "metadata": {},
   "outputs": [
    {
     "name": "stdout",
     "output_type": "stream",
     "text": [
      "100\n"
     ]
    }
   ],
   "source": [
    "print(ord('d'))"
   ]
  },
  {
   "cell_type": "code",
   "execution_count": 72,
   "id": "b240c737",
   "metadata": {},
   "outputs": [
    {
     "name": "stdout",
     "output_type": "stream",
     "text": [
      "57\n"
     ]
    }
   ],
   "source": [
    "print(ord('9'))"
   ]
  },
  {
   "cell_type": "code",
   "execution_count": 73,
   "id": "87501b66",
   "metadata": {},
   "outputs": [
    {
     "ename": "TypeError",
     "evalue": "ord() expected a character, but string of length 2 found",
     "output_type": "error",
     "traceback": [
      "\u001b[0;31m---------------------------------------------------------------------------\u001b[0m",
      "\u001b[0;31mTypeError\u001b[0m                                 Traceback (most recent call last)",
      "Input \u001b[0;32mIn [73]\u001b[0m, in \u001b[0;36m<cell line: 1>\u001b[0;34m()\u001b[0m\n\u001b[0;32m----> 1\u001b[0m \u001b[38;5;28mprint\u001b[39m(\u001b[38;5;28;43mord\u001b[39;49m\u001b[43m(\u001b[49m\u001b[38;5;124;43m'\u001b[39;49m\u001b[38;5;124;43mFS\u001b[39;49m\u001b[38;5;124;43m'\u001b[39;49m\u001b[43m)\u001b[49m)\n",
      "\u001b[0;31mTypeError\u001b[0m: ord() expected a character, but string of length 2 found"
     ]
    }
   ],
   "source": [
    "print(ord('FS'))"
   ]
  },
  {
   "cell_type": "code",
   "execution_count": 74,
   "id": "9162d211",
   "metadata": {},
   "outputs": [
    {
     "ename": "TypeError",
     "evalue": "ord() takes exactly one argument (2 given)",
     "output_type": "error",
     "traceback": [
      "\u001b[0;31m---------------------------------------------------------------------------\u001b[0m",
      "\u001b[0;31mTypeError\u001b[0m                                 Traceback (most recent call last)",
      "Input \u001b[0;32mIn [74]\u001b[0m, in \u001b[0;36m<cell line: 1>\u001b[0;34m()\u001b[0m\n\u001b[0;32m----> 1\u001b[0m \u001b[38;5;28mprint\u001b[39m(\u001b[38;5;28;43mord\u001b[39;49m\u001b[43m(\u001b[49m\u001b[38;5;124;43m'\u001b[39;49m\u001b[38;5;124;43mF\u001b[39;49m\u001b[38;5;124;43m'\u001b[39;49m\u001b[43m,\u001b[49m\u001b[38;5;124;43m'\u001b[39;49m\u001b[38;5;124;43mS\u001b[39;49m\u001b[38;5;124;43m'\u001b[39;49m\u001b[43m)\u001b[49m)\n",
      "\u001b[0;31mTypeError\u001b[0m: ord() takes exactly one argument (2 given)"
     ]
    }
   ],
   "source": [
    "print(ord('F','S'))"
   ]
  },
  {
   "cell_type": "code",
   "execution_count": null,
   "id": "2f9ce6e3",
   "metadata": {},
   "outputs": [],
   "source": []
  },
  {
   "cell_type": "code",
   "execution_count": null,
   "id": "b8cbd327",
   "metadata": {},
   "outputs": [],
   "source": []
  },
  {
   "cell_type": "code",
   "execution_count": null,
   "id": "8c270ea4",
   "metadata": {},
   "outputs": [],
   "source": []
  },
  {
   "cell_type": "code",
   "execution_count": null,
   "id": "a7758a46",
   "metadata": {},
   "outputs": [],
   "source": []
  },
  {
   "cell_type": "markdown",
   "id": "e5ed433e",
   "metadata": {},
   "source": [
    "### chr()\n",
    "![](https://scaler.com/topics/images/chr-in-python.webp)"
   ]
  },
  {
   "cell_type": "code",
   "execution_count": 75,
   "id": "08380449",
   "metadata": {},
   "outputs": [
    {
     "name": "stdout",
     "output_type": "stream",
     "text": [
      "d\n"
     ]
    }
   ],
   "source": [
    "print(chr(100))"
   ]
  },
  {
   "cell_type": "code",
   "execution_count": 76,
   "id": "5a5462c8",
   "metadata": {},
   "outputs": [
    {
     "name": "stdout",
     "output_type": "stream",
     "text": [
      "A\n"
     ]
    }
   ],
   "source": [
    "print(chr(65))"
   ]
  },
  {
   "cell_type": "code",
   "execution_count": 78,
   "id": "1df521ac",
   "metadata": {},
   "outputs": [
    {
     "name": "stdout",
     "output_type": "stream",
     "text": [
      "ễ\n"
     ]
    }
   ],
   "source": [
    "print(chr(7877))"
   ]
  },
  {
   "cell_type": "code",
   "execution_count": 79,
   "id": "65ca3d6e",
   "metadata": {},
   "outputs": [
    {
     "data": {
      "text/plain": [
       "'9'"
      ]
     },
     "execution_count": 79,
     "metadata": {},
     "output_type": "execute_result"
    }
   ],
   "source": [
    "chr(57)"
   ]
  },
  {
   "cell_type": "code",
   "execution_count": null,
   "id": "1f22704e",
   "metadata": {},
   "outputs": [],
   "source": []
  },
  {
   "cell_type": "markdown",
   "id": "c7693e35",
   "metadata": {},
   "source": [
    "#### Given a list of integers, construct the string corresponding to it.\n",
    "Input = [97, 65, 98, 68, 73] \\\n",
    "Output = \"aAbDI\""
   ]
  },
  {
   "cell_type": "code",
   "execution_count": 80,
   "id": "111b916d",
   "metadata": {},
   "outputs": [],
   "source": [
    "val = [97, 65, 98, 68, 73]"
   ]
  },
  {
   "cell_type": "code",
   "execution_count": 84,
   "id": "a4089710",
   "metadata": {},
   "outputs": [
    {
     "name": "stdout",
     "output_type": "stream",
     "text": [
      "aAbDI\n"
     ]
    }
   ],
   "source": [
    "result = \"\"\n",
    "for i in val:\n",
    "#     print(chr(i),end=\"\")\n",
    "    result+=chr(i)\n",
    "\n",
    "print(result)"
   ]
  },
  {
   "cell_type": "markdown",
   "id": "7257066c",
   "metadata": {},
   "source": [
    "### Given a string, count the number of capital characters in it.\n",
    "s = \"Hello WoRld\"\n",
    "\n",
    "Ans = 3\n"
   ]
  },
  {
   "cell_type": "code",
   "execution_count": 85,
   "id": "98d561c5",
   "metadata": {},
   "outputs": [],
   "source": [
    "s = \"Hello WoRld\""
   ]
  },
  {
   "cell_type": "code",
   "execution_count": 87,
   "id": "9d46e520",
   "metadata": {},
   "outputs": [
    {
     "name": "stdout",
     "output_type": "stream",
     "text": [
      "H\n",
      "W\n",
      "R\n",
      "3\n"
     ]
    }
   ],
   "source": [
    "counter = 0\n",
    "\n",
    "for ch in s:\n",
    "    # check if ch is capital\n",
    "    if ord(ch)>=65 and ord(ch)<=90:\n",
    "        print(ch)\n",
    "        counter+=1\n",
    "        \n",
    "print(counter)"
   ]
  },
  {
   "cell_type": "markdown",
   "id": "a280a43e",
   "metadata": {},
   "source": [
    "### Changing cases\n",
    "![](https://scaler.com/topics/images/upper-in-python-featured-image.webp)\n",
    "- upper()\n",
    "- lower()\n",
    "- title()\n",
    "- isupper()\n",
    "- islower()"
   ]
  },
  {
   "cell_type": "code",
   "execution_count": 88,
   "id": "08c06fed",
   "metadata": {},
   "outputs": [],
   "source": [
    "s = \"Hello\""
   ]
  },
  {
   "cell_type": "code",
   "execution_count": 89,
   "id": "08ee4131",
   "metadata": {},
   "outputs": [
    {
     "name": "stdout",
     "output_type": "stream",
     "text": [
      "HELLO\n"
     ]
    }
   ],
   "source": [
    "print(s.upper())"
   ]
  },
  {
   "cell_type": "code",
   "execution_count": 90,
   "id": "1c6711d0",
   "metadata": {},
   "outputs": [],
   "source": [
    "t = s.upper() # doesn't change the original string"
   ]
  },
  {
   "cell_type": "code",
   "execution_count": 91,
   "id": "8c07d741",
   "metadata": {},
   "outputs": [
    {
     "name": "stdout",
     "output_type": "stream",
     "text": [
      "Hello\n",
      "HELLO\n"
     ]
    }
   ],
   "source": [
    "print(s)\n",
    "print(t)"
   ]
  },
  {
   "cell_type": "code",
   "execution_count": 92,
   "id": "e57fbf5d",
   "metadata": {},
   "outputs": [],
   "source": [
    "s = \"HeLLo\"\n",
    "t = s.lower()"
   ]
  },
  {
   "cell_type": "code",
   "execution_count": 93,
   "id": "b8ae1406",
   "metadata": {},
   "outputs": [
    {
     "name": "stdout",
     "output_type": "stream",
     "text": [
      "hello\n",
      "HeLLo\n"
     ]
    }
   ],
   "source": [
    "print(t)\n",
    "print(s)"
   ]
  },
  {
   "cell_type": "code",
   "execution_count": 94,
   "id": "e6fb56a9",
   "metadata": {},
   "outputs": [],
   "source": [
    "s = \"HeLLo WorlD! and HelLO PrANAV\"\n",
    "t = s.lower()"
   ]
  },
  {
   "cell_type": "code",
   "execution_count": 95,
   "id": "10c63c1e",
   "metadata": {},
   "outputs": [
    {
     "name": "stdout",
     "output_type": "stream",
     "text": [
      "hello world! and hello pranav\n"
     ]
    }
   ],
   "source": [
    "print(t)"
   ]
  },
  {
   "cell_type": "code",
   "execution_count": 98,
   "id": "b18ae426",
   "metadata": {},
   "outputs": [],
   "source": [
    "s = \"hello WORLD, hEllo scaler\"\n",
    "t = s.title()"
   ]
  },
  {
   "cell_type": "code",
   "execution_count": 99,
   "id": "5ec73213",
   "metadata": {},
   "outputs": [
    {
     "name": "stdout",
     "output_type": "stream",
     "text": [
      "hello WORLD, hEllo scaler\n",
      "Hello World, Hello Scaler\n"
     ]
    }
   ],
   "source": [
    "print(s)\n",
    "print(t)"
   ]
  },
  {
   "cell_type": "code",
   "execution_count": null,
   "id": "e3f0f5b0",
   "metadata": {},
   "outputs": [],
   "source": []
  },
  {
   "cell_type": "code",
   "execution_count": 100,
   "id": "742c3823",
   "metadata": {},
   "outputs": [
    {
     "name": "stdout",
     "output_type": "stream",
     "text": [
      "False\n"
     ]
    }
   ],
   "source": [
    "s = \"Hello\"\n",
    "print(s.isupper()) # return True when all char are capital and False if even one char is small"
   ]
  },
  {
   "cell_type": "code",
   "execution_count": 101,
   "id": "b8809726",
   "metadata": {},
   "outputs": [
    {
     "name": "stdout",
     "output_type": "stream",
     "text": [
      "False\n"
     ]
    }
   ],
   "source": [
    "s = \"HeLLO\"\n",
    "print(s.isupper())"
   ]
  },
  {
   "cell_type": "code",
   "execution_count": 102,
   "id": "c9a5b2f8",
   "metadata": {},
   "outputs": [
    {
     "name": "stdout",
     "output_type": "stream",
     "text": [
      "True\n"
     ]
    }
   ],
   "source": [
    "s = \"HELLO\"\n",
    "print(s.isupper())"
   ]
  },
  {
   "cell_type": "code",
   "execution_count": 103,
   "id": "efc6d94a",
   "metadata": {},
   "outputs": [
    {
     "name": "stdout",
     "output_type": "stream",
     "text": [
      "True\n"
     ]
    }
   ],
   "source": [
    "s = \"HELLO WORLD 23 05/12 !@#$%%^&\" # nums and special chars are ignored\n",
    "print(s.isupper())"
   ]
  },
  {
   "cell_type": "code",
   "execution_count": 104,
   "id": "9827de10",
   "metadata": {},
   "outputs": [
    {
     "name": "stdout",
     "output_type": "stream",
     "text": [
      "False\n"
     ]
    }
   ],
   "source": [
    "s = \"HELLO\"\n",
    "print(s.islower()) # return True when all char are small and False if even one char is Capital"
   ]
  },
  {
   "cell_type": "code",
   "execution_count": 105,
   "id": "0632e543",
   "metadata": {},
   "outputs": [
    {
     "name": "stdout",
     "output_type": "stream",
     "text": [
      "True\n"
     ]
    }
   ],
   "source": [
    "s = \"hello\"\n",
    "print(s.islower())"
   ]
  },
  {
   "cell_type": "code",
   "execution_count": null,
   "id": "2e785f14",
   "metadata": {},
   "outputs": [],
   "source": []
  },
  {
   "cell_type": "code",
   "execution_count": 106,
   "id": "8e8ba4a6",
   "metadata": {},
   "outputs": [],
   "source": [
    "final_s = \"hello 2 World\""
   ]
  },
  {
   "cell_type": "code",
   "execution_count": 107,
   "id": "7d330412",
   "metadata": {},
   "outputs": [
    {
     "name": "stdout",
     "output_type": "stream",
     "text": [
      "HELLO 2 WORLD\n"
     ]
    }
   ],
   "source": [
    "print(final_s.upper())"
   ]
  },
  {
   "cell_type": "code",
   "execution_count": null,
   "id": "58cbac83",
   "metadata": {},
   "outputs": [],
   "source": []
  },
  {
   "cell_type": "markdown",
   "id": "246e9223",
   "metadata": {},
   "source": [
    "### Given a string, count the number of capital characters in it.\n",
    "s = \"Hello World\"\n",
    "\n",
    "Ans = 2\n"
   ]
  },
  {
   "cell_type": "code",
   "execution_count": null,
   "id": "cca5d770",
   "metadata": {},
   "outputs": [],
   "source": [
    "# isupper()"
   ]
  },
  {
   "cell_type": "code",
   "execution_count": null,
   "id": "242be45d",
   "metadata": {},
   "outputs": [],
   "source": []
  },
  {
   "cell_type": "code",
   "execution_count": null,
   "id": "e299509a",
   "metadata": {},
   "outputs": [],
   "source": []
  },
  {
   "cell_type": "code",
   "execution_count": 108,
   "id": "e5b7cec2",
   "metadata": {},
   "outputs": [],
   "source": [
    "# Doubts"
   ]
  },
  {
   "cell_type": "code",
   "execution_count": 109,
   "id": "f7b812a3",
   "metadata": {},
   "outputs": [
    {
     "name": "stdout",
     "output_type": "stream",
     "text": [
      "Hello Vivek My Name Is Pranav\n"
     ]
    }
   ],
   "source": [
    "s = \"helLO vivEK my NAME is pRanav\"\n",
    "t = s.title()\n",
    "print(t)"
   ]
  },
  {
   "cell_type": "code",
   "execution_count": null,
   "id": "c8c7474d",
   "metadata": {},
   "outputs": [],
   "source": []
  },
  {
   "cell_type": "code",
   "execution_count": null,
   "id": "d89902af",
   "metadata": {},
   "outputs": [],
   "source": []
  },
  {
   "cell_type": "markdown",
   "id": "ddc18cb1",
   "metadata": {},
   "source": [
    "# Bonus Reading Material\n",
    "- Strings in Python - https://www.scaler.com/topics/python/strings-in-python/\n",
    "- What is String in Python? - https://www.scaler.com/topics/what-is-string-in-python/\n",
    "- Python Multiline String - https://www.scaler.com/topics/python-multiline-string/\n",
    "- str() in Python - https://www.scaler.com/topics/str-in-python/\n",
    "- String Concatenation in Python - https://www.scaler.com/topics/string-concatenation-in-python/\n",
    "- String Slicing in Python - https://www.scaler.com/topics/python/string-slicing-in-python/\n",
    "- What are Mutable Data Types in Python? - https://www.scaler.com/topics/mutable-data-typesg-in-python/\n",
    "- Mutable and Immutable in Python - https://www.scaler.com/topics/mutable-and-immutable-in-python/\n",
    "- String Comparison in Python - https://www.scaler.com/topics/string-comparison-in-python/\n",
    "- chr() in Python - https://www.scaler.com/topics/chr-in-python/\n",
    "- ord in Python - https://www.scaler.com/topics/ord-in-python/\n",
    "- Difference Between UNICODE and ASCII - https://www.scaler.com/topics/cpp/difference-between-unicode-and-ascii/\n",
    "- Join in Python - https://www.scaler.com/topics/join-in-python/\n",
    "- Convert List to String in Python - https://www.scaler.com/topics/convert-list-to-string-in-python/\n",
    "- String Methods Python - https://www.scaler.com/topics/python/string-methods-python/\n",
    "- upper() in Python - https://www.scaler.com/topics/upper-in-python/\n",
    "- https://www.scaler.com/topics/title-in-python/\n",
    "- isupper() in Python - https://www.scaler.com/topics/python-string-isupper-method/\n",
    "- isalnum() in Python - https://www.scaler.com/topics/isalnum-in-python/\n",
    "- isnumeric() Python Method - https://www.scaler.com/topics/isnumeric-python/\n",
    "- String reverse in Python - https://www.scaler.com/topics/reverse-string-in-python/\n",
    "- String Formatting in Python - https://www.scaler.com/topics/python/string-formatting-in-python/\n",
    "- F String in Python - https://www.scaler.com/topics/f-string-in-python/"
   ]
  },
  {
   "cell_type": "code",
   "execution_count": null,
   "id": "9b2c466b",
   "metadata": {},
   "outputs": [],
   "source": []
  }
 ],
 "metadata": {
  "kernelspec": {
   "display_name": "Python 3 (ipykernel)",
   "language": "python",
   "name": "python3"
  },
  "language_info": {
   "codemirror_mode": {
    "name": "ipython",
    "version": 3
   },
   "file_extension": ".py",
   "mimetype": "text/x-python",
   "name": "python",
   "nbconvert_exporter": "python",
   "pygments_lexer": "ipython3",
   "version": "3.8.13"
  }
 },
 "nbformat": 4,
 "nbformat_minor": 5
}
