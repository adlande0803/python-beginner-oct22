{
 "cells": [
  {
   "cell_type": "markdown",
   "id": "f9f77c52",
   "metadata": {},
   "source": [
    "# Lists 2\n",
    "![](https://scaler.com/topics/images/arraylist-in-java.webp)"
   ]
  },
  {
   "cell_type": "code",
   "execution_count": 1,
   "id": "5d8a7ee8",
   "metadata": {},
   "outputs": [],
   "source": [
    "l = [5, 7, 'hello', True, False, None, ['ok', 'hi']]"
   ]
  },
  {
   "cell_type": "code",
   "execution_count": 2,
   "id": "949cc92d",
   "metadata": {},
   "outputs": [
    {
     "name": "stdout",
     "output_type": "stream",
     "text": [
      "[5, 7, 'hello', True, False, None, ['ok', 'hi']] <class 'list'>\n"
     ]
    }
   ],
   "source": [
    "print(l, type(l))"
   ]
  },
  {
   "cell_type": "code",
   "execution_count": 3,
   "id": "6590ddcb",
   "metadata": {},
   "outputs": [
    {
     "data": {
      "text/plain": [
       "'hello'"
      ]
     },
     "execution_count": 3,
     "metadata": {},
     "output_type": "execute_result"
    }
   ],
   "source": [
    "l[2]"
   ]
  },
  {
   "cell_type": "code",
   "execution_count": 4,
   "id": "c52436a7",
   "metadata": {},
   "outputs": [
    {
     "data": {
      "text/plain": [
       "False"
      ]
     },
     "execution_count": 4,
     "metadata": {},
     "output_type": "execute_result"
    }
   ],
   "source": [
    "l[-3]"
   ]
  },
  {
   "cell_type": "code",
   "execution_count": 5,
   "id": "a8721af2",
   "metadata": {},
   "outputs": [
    {
     "data": {
      "text/plain": [
       "['ok', 'hi']"
      ]
     },
     "execution_count": 5,
     "metadata": {},
     "output_type": "execute_result"
    }
   ],
   "source": [
    "l[-1]"
   ]
  },
  {
   "cell_type": "code",
   "execution_count": 7,
   "id": "4e51e5ba",
   "metadata": {},
   "outputs": [
    {
     "data": {
      "text/plain": [
       "'ok'"
      ]
     },
     "execution_count": 7,
     "metadata": {},
     "output_type": "execute_result"
    }
   ],
   "source": [
    "l[-1][0]"
   ]
  },
  {
   "cell_type": "code",
   "execution_count": null,
   "id": "1d9c659a",
   "metadata": {},
   "outputs": [],
   "source": []
  },
  {
   "cell_type": "code",
   "execution_count": null,
   "id": "0783ef0e",
   "metadata": {},
   "outputs": [],
   "source": []
  },
  {
   "cell_type": "code",
   "execution_count": null,
   "id": "3bfc0ed4",
   "metadata": {},
   "outputs": [],
   "source": []
  },
  {
   "cell_type": "markdown",
   "id": "adff428d",
   "metadata": {},
   "source": [
    "# Removing data\n",
    "- remove - Removes the first occurence\n",
    "- pop - Pops the value at the given index. If no index is given, it pops the last element.\n",
    "- del - keyword which allows us to delete the specified value\n",
    "![](https://scaler.com/topics/images/How-to-remove-element-from-list-Python.webp)"
   ]
  },
  {
   "cell_type": "code",
   "execution_count": 8,
   "id": "d08af7f6",
   "metadata": {},
   "outputs": [],
   "source": [
    "l = [5, 9, 0, 1, 4, 2, 8]"
   ]
  },
  {
   "cell_type": "code",
   "execution_count": 9,
   "id": "f7a7b72c",
   "metadata": {},
   "outputs": [],
   "source": [
    "l.remove(4)"
   ]
  },
  {
   "cell_type": "code",
   "execution_count": 10,
   "id": "66aa95e5",
   "metadata": {},
   "outputs": [
    {
     "data": {
      "text/plain": [
       "[5, 9, 0, 1, 2, 8]"
      ]
     },
     "execution_count": 10,
     "metadata": {},
     "output_type": "execute_result"
    }
   ],
   "source": [
    "l"
   ]
  },
  {
   "cell_type": "code",
   "execution_count": 11,
   "id": "aee714e2",
   "metadata": {},
   "outputs": [
    {
     "ename": "ValueError",
     "evalue": "list.remove(x): x not in list",
     "output_type": "error",
     "traceback": [
      "\u001b[0;31m---------------------------------------------------------------------------\u001b[0m",
      "\u001b[0;31mValueError\u001b[0m                                Traceback (most recent call last)",
      "\u001b[0;32m/var/folders/jn/1bsrct314hv5xmfm7vrcdrzc0000gn/T/ipykernel_3385/1800219044.py\u001b[0m in \u001b[0;36m<module>\u001b[0;34m\u001b[0m\n\u001b[0;32m----> 1\u001b[0;31m \u001b[0ml\u001b[0m\u001b[0;34m.\u001b[0m\u001b[0mremove\u001b[0m\u001b[0;34m(\u001b[0m\u001b[0;36m10\u001b[0m\u001b[0;34m)\u001b[0m\u001b[0;34m\u001b[0m\u001b[0;34m\u001b[0m\u001b[0m\n\u001b[0m\u001b[1;32m      2\u001b[0m \u001b[0mprint\u001b[0m\u001b[0;34m(\u001b[0m\u001b[0ml\u001b[0m\u001b[0;34m)\u001b[0m\u001b[0;34m\u001b[0m\u001b[0;34m\u001b[0m\u001b[0m\n",
      "\u001b[0;31mValueError\u001b[0m: list.remove(x): x not in list"
     ]
    }
   ],
   "source": [
    "l.remove(10)\n",
    "print(l)"
   ]
  },
  {
   "cell_type": "code",
   "execution_count": 12,
   "id": "02f03ffd",
   "metadata": {},
   "outputs": [
    {
     "name": "stdout",
     "output_type": "stream",
     "text": [
      "[10, 30, 20]\n"
     ]
    }
   ],
   "source": [
    "l = [10, 20, 30, 20]\n",
    "l.remove(20)\n",
    "print(l)"
   ]
  },
  {
   "cell_type": "code",
   "execution_count": null,
   "id": "68cbf683",
   "metadata": {},
   "outputs": [],
   "source": []
  },
  {
   "cell_type": "code",
   "execution_count": 13,
   "id": "a511a953",
   "metadata": {},
   "outputs": [],
   "source": [
    "l = [10, 20, 30, 40, 50, 60]\n",
    "# Delete the data at index=2"
   ]
  },
  {
   "cell_type": "code",
   "execution_count": 14,
   "id": "541c31d9",
   "metadata": {},
   "outputs": [
    {
     "name": "stdout",
     "output_type": "stream",
     "text": [
      "[10, 20, 40, 50, 60]\n"
     ]
    }
   ],
   "source": [
    "l.pop(2)\n",
    "print(l)"
   ]
  },
  {
   "cell_type": "code",
   "execution_count": 15,
   "id": "75b44c65",
   "metadata": {},
   "outputs": [
    {
     "name": "stdout",
     "output_type": "stream",
     "text": [
      "[20, 40, 50, 60]\n"
     ]
    }
   ],
   "source": [
    "l.pop(0)\n",
    "print(l)"
   ]
  },
  {
   "cell_type": "code",
   "execution_count": 16,
   "id": "032a9893",
   "metadata": {},
   "outputs": [
    {
     "name": "stdout",
     "output_type": "stream",
     "text": [
      "[20, 40, 50]\n"
     ]
    }
   ],
   "source": [
    "l.pop() # By default, it pops the last element\n",
    "print(l)"
   ]
  },
  {
   "cell_type": "code",
   "execution_count": 17,
   "id": "1ef87ac3",
   "metadata": {},
   "outputs": [
    {
     "name": "stdout",
     "output_type": "stream",
     "text": [
      "[20, 40]\n"
     ]
    }
   ],
   "source": [
    "l.pop()\n",
    "print(l)"
   ]
  },
  {
   "cell_type": "code",
   "execution_count": null,
   "id": "65c632eb",
   "metadata": {},
   "outputs": [],
   "source": []
  },
  {
   "cell_type": "code",
   "execution_count": null,
   "id": "51a5a056",
   "metadata": {},
   "outputs": [],
   "source": []
  },
  {
   "cell_type": "code",
   "execution_count": 18,
   "id": "26c86060",
   "metadata": {},
   "outputs": [
    {
     "name": "stdout",
     "output_type": "stream",
     "text": [
      "[20, 30, 40, 50, 60]\n"
     ]
    }
   ],
   "source": [
    "l = [10, 20, 30, 40, 50, 60]\n",
    "del l[0]\n",
    "print(l)"
   ]
  },
  {
   "cell_type": "code",
   "execution_count": 19,
   "id": "336a784f",
   "metadata": {},
   "outputs": [
    {
     "name": "stdout",
     "output_type": "stream",
     "text": [
      "[20, 30, 40, 50]\n"
     ]
    }
   ],
   "source": [
    "del l[-1]\n",
    "print(l)"
   ]
  },
  {
   "cell_type": "code",
   "execution_count": null,
   "id": "cd2efcae",
   "metadata": {},
   "outputs": [],
   "source": []
  },
  {
   "cell_type": "code",
   "execution_count": null,
   "id": "5f6ebfde",
   "metadata": {},
   "outputs": [],
   "source": []
  },
  {
   "cell_type": "markdown",
   "id": "73f85235",
   "metadata": {},
   "source": [
    "#### Quiz 1\n",
    "```py\n",
    "l = [1, 2, 3, 3, 5, 6, 7, 5]\n",
    "l.pop(5)\n",
    "print(l)\n",
    "```"
   ]
  },
  {
   "cell_type": "code",
   "execution_count": 20,
   "id": "55ce923f",
   "metadata": {},
   "outputs": [
    {
     "name": "stdout",
     "output_type": "stream",
     "text": [
      "[1, 2, 3, 3, 5, 7, 5]\n"
     ]
    }
   ],
   "source": [
    "l = [1, 2, 3, 3, 5, 6, 7, 5]\n",
    "l.pop(5)\n",
    "print(l)"
   ]
  },
  {
   "cell_type": "code",
   "execution_count": null,
   "id": "666c3fc5",
   "metadata": {},
   "outputs": [],
   "source": []
  },
  {
   "cell_type": "markdown",
   "id": "b993b692",
   "metadata": {},
   "source": [
    "#### Quiz 2\n",
    "```py\n",
    "l = [1, 2, 3, 3, 5, 6, 7, 5]\n",
    "l.remove(5)\n",
    "```"
   ]
  },
  {
   "cell_type": "code",
   "execution_count": 21,
   "id": "fbd9e69a",
   "metadata": {},
   "outputs": [
    {
     "name": "stdout",
     "output_type": "stream",
     "text": [
      "[1, 2, 3, 3, 6, 7, 5]\n"
     ]
    }
   ],
   "source": [
    "l = [1, 2, 3, 3, 5, 6, 7, 5]\n",
    "l.remove(5)\n",
    "print(l)"
   ]
  },
  {
   "cell_type": "code",
   "execution_count": null,
   "id": "1b294ff3",
   "metadata": {},
   "outputs": [],
   "source": []
  },
  {
   "cell_type": "code",
   "execution_count": null,
   "id": "10fd1c84",
   "metadata": {},
   "outputs": [],
   "source": []
  },
  {
   "cell_type": "code",
   "execution_count": 22,
   "id": "c8fa567d",
   "metadata": {},
   "outputs": [
    {
     "name": "stdout",
     "output_type": "stream",
     "text": [
      "[]\n"
     ]
    }
   ],
   "source": [
    "l = [1, 2, 3, 3, 5, 6, 7, 5]\n",
    "l.clear()\n",
    "print(l)"
   ]
  },
  {
   "cell_type": "code",
   "execution_count": null,
   "id": "b2495470",
   "metadata": {},
   "outputs": [],
   "source": []
  },
  {
   "cell_type": "code",
   "execution_count": null,
   "id": "12422685",
   "metadata": {},
   "outputs": [],
   "source": []
  },
  {
   "cell_type": "code",
   "execution_count": null,
   "id": "c075320c",
   "metadata": {},
   "outputs": [],
   "source": []
  },
  {
   "cell_type": "markdown",
   "id": "b3a5033b",
   "metadata": {},
   "source": [
    "# List Input\n",
    "![](https://scaler.com/topics/images/raw-input-in-python.webp)"
   ]
  },
  {
   "cell_type": "code",
   "execution_count": null,
   "id": "ce8892e5",
   "metadata": {},
   "outputs": [],
   "source": []
  },
  {
   "cell_type": "markdown",
   "id": "5e3fe7fb",
   "metadata": {},
   "source": [
    "Input: \n",
    "```\n",
    "5 \n",
    "10 20 30 40 50\n",
    "```"
   ]
  },
  {
   "cell_type": "code",
   "execution_count": 26,
   "id": "0fa8cb86",
   "metadata": {},
   "outputs": [
    {
     "name": "stdout",
     "output_type": "stream",
     "text": [
      "10 20 30 40 50\n"
     ]
    }
   ],
   "source": [
    "l = input()"
   ]
  },
  {
   "cell_type": "code",
   "execution_count": 24,
   "id": "bfdd0695",
   "metadata": {},
   "outputs": [
    {
     "data": {
      "text/plain": [
       "'10 20 30 40 50'"
      ]
     },
     "execution_count": 24,
     "metadata": {},
     "output_type": "execute_result"
    }
   ],
   "source": [
    "l"
   ]
  },
  {
   "cell_type": "code",
   "execution_count": 28,
   "id": "96de2e64",
   "metadata": {},
   "outputs": [
    {
     "name": "stdout",
     "output_type": "stream",
     "text": [
      "10 20 30 40 50\n",
      "ok\n",
      "ok\n",
      "ok\n",
      "ok\n"
     ]
    }
   ],
   "source": [
    "l = []\n",
    "for i in range(5):\n",
    "    l.append(input())"
   ]
  },
  {
   "cell_type": "code",
   "execution_count": 29,
   "id": "2c1015e8",
   "metadata": {},
   "outputs": [
    {
     "data": {
      "text/plain": [
       "['10 20 30 40 50', 'ok', 'ok', 'ok', 'ok']"
      ]
     },
     "execution_count": 29,
     "metadata": {},
     "output_type": "execute_result"
    }
   ],
   "source": [
    "l"
   ]
  },
  {
   "cell_type": "code",
   "execution_count": null,
   "id": "e6d67c80",
   "metadata": {},
   "outputs": [],
   "source": []
  },
  {
   "cell_type": "code",
   "execution_count": null,
   "id": "91368c1b",
   "metadata": {},
   "outputs": [],
   "source": []
  },
  {
   "cell_type": "code",
   "execution_count": null,
   "id": "6f755717",
   "metadata": {},
   "outputs": [],
   "source": []
  },
  {
   "cell_type": "markdown",
   "id": "1a7b673c",
   "metadata": {},
   "source": [
    ".split() function"
   ]
  },
  {
   "cell_type": "code",
   "execution_count": 30,
   "id": "12ebc3ac",
   "metadata": {},
   "outputs": [
    {
     "name": "stdout",
     "output_type": "stream",
     "text": [
      "['hello', 'how', 'are', 'you']\n"
     ]
    }
   ],
   "source": [
    "s = \"hello how are you\"\n",
    "words = s.split() # by default, it splits on whitespaces\n",
    "print(words)"
   ]
  },
  {
   "cell_type": "code",
   "execution_count": null,
   "id": "4144e583",
   "metadata": {},
   "outputs": [],
   "source": []
  },
  {
   "cell_type": "code",
   "execution_count": 31,
   "id": "def0f2c3",
   "metadata": {},
   "outputs": [
    {
     "name": "stdout",
     "output_type": "stream",
     "text": [
      "['hello_how_are_you']\n"
     ]
    }
   ],
   "source": [
    "s = \"hello_how_are_you\"\n",
    "words = s.split()\n",
    "print(words)"
   ]
  },
  {
   "cell_type": "code",
   "execution_count": 32,
   "id": "9afa6b49",
   "metadata": {},
   "outputs": [
    {
     "name": "stdout",
     "output_type": "stream",
     "text": [
      "['hello', 'how', 'are', 'you']\n"
     ]
    }
   ],
   "source": [
    "s = \"hello_how_are_you\"\n",
    "words = s.split(\"_\")\n",
    "print(words)"
   ]
  },
  {
   "cell_type": "code",
   "execution_count": null,
   "id": "3a0735e0",
   "metadata": {},
   "outputs": [],
   "source": []
  },
  {
   "cell_type": "code",
   "execution_count": null,
   "id": "241c74bd",
   "metadata": {},
   "outputs": [],
   "source": [
    "\"10 20 30 40\""
   ]
  },
  {
   "cell_type": "code",
   "execution_count": 39,
   "id": "b0993eb5",
   "metadata": {},
   "outputs": [
    {
     "name": "stdout",
     "output_type": "stream",
     "text": [
      "10 20 30 40\n"
     ]
    }
   ],
   "source": [
    "s = input()"
   ]
  },
  {
   "cell_type": "code",
   "execution_count": 40,
   "id": "4393093f",
   "metadata": {},
   "outputs": [
    {
     "data": {
      "text/plain": [
       "'10 20 30 40'"
      ]
     },
     "execution_count": 40,
     "metadata": {},
     "output_type": "execute_result"
    }
   ],
   "source": [
    "s"
   ]
  },
  {
   "cell_type": "code",
   "execution_count": 41,
   "id": "6b3ac07b",
   "metadata": {},
   "outputs": [
    {
     "name": "stdout",
     "output_type": "stream",
     "text": [
      "['10', '20', '30', '40']\n"
     ]
    }
   ],
   "source": [
    "l = s.split()\n",
    "print(l)"
   ]
  },
  {
   "cell_type": "code",
   "execution_count": 42,
   "id": "aa0d1051",
   "metadata": {},
   "outputs": [
    {
     "name": "stdout",
     "output_type": "stream",
     "text": [
      "[10, 20, 30, 40]\n"
     ]
    }
   ],
   "source": [
    "for i in range(len(l)):\n",
    "    l[i] = int(l[i])\n",
    "\n",
    "print(l)"
   ]
  },
  {
   "cell_type": "code",
   "execution_count": null,
   "id": "13276130",
   "metadata": {},
   "outputs": [],
   "source": []
  },
  {
   "cell_type": "code",
   "execution_count": null,
   "id": "23e58d51",
   "metadata": {},
   "outputs": [],
   "source": []
  },
  {
   "cell_type": "code",
   "execution_count": null,
   "id": "7d7107dd",
   "metadata": {},
   "outputs": [],
   "source": []
  },
  {
   "cell_type": "markdown",
   "id": "9a27abd0",
   "metadata": {},
   "source": [
    "#### Quiz 3\n",
    "```py\n",
    "s = \"1 2 3 4\"\n",
    "print(s.split())\n",
    "```"
   ]
  },
  {
   "cell_type": "code",
   "execution_count": 43,
   "id": "3ac127a3",
   "metadata": {},
   "outputs": [
    {
     "name": "stdout",
     "output_type": "stream",
     "text": [
      "['1', '2', '3', '4']\n"
     ]
    }
   ],
   "source": [
    "s = \"1 2 3 4\"\n",
    "print(s.split())"
   ]
  },
  {
   "cell_type": "code",
   "execution_count": null,
   "id": "fb6a4dba",
   "metadata": {},
   "outputs": [],
   "source": []
  },
  {
   "cell_type": "code",
   "execution_count": null,
   "id": "f07af332",
   "metadata": {},
   "outputs": [],
   "source": []
  },
  {
   "cell_type": "code",
   "execution_count": null,
   "id": "45ddb87f",
   "metadata": {},
   "outputs": [],
   "source": []
  },
  {
   "cell_type": "code",
   "execution_count": null,
   "id": "820745f1",
   "metadata": {},
   "outputs": [],
   "source": []
  },
  {
   "cell_type": "markdown",
   "id": "31037dfb",
   "metadata": {},
   "source": [
    "# Searching in Lists\n",
    "- in\n",
    "- index()\n",
    "- count()\n",
    "\n",
    "![](https://scaler.com/topics/images/index-function-in-python.webp)"
   ]
  },
  {
   "cell_type": "code",
   "execution_count": 44,
   "id": "fd3a4a48",
   "metadata": {},
   "outputs": [],
   "source": [
    "arr = [10, 20, 30, 40, 50, 60, 20, 30, 50]"
   ]
  },
  {
   "cell_type": "code",
   "execution_count": 45,
   "id": "40df5c22",
   "metadata": {},
   "outputs": [
    {
     "name": "stdout",
     "output_type": "stream",
     "text": [
      "30 is present\n"
     ]
    }
   ],
   "source": [
    "# Check if a certain value is present in 'arr'\n",
    "if (30 in arr):\n",
    "    print(\"30 is present\")\n",
    "else:\n",
    "    print(\"30 is not present\")"
   ]
  },
  {
   "cell_type": "code",
   "execution_count": 47,
   "id": "783787cf",
   "metadata": {},
   "outputs": [
    {
     "name": "stdout",
     "output_type": "stream",
     "text": [
      "300 is not present\n"
     ]
    }
   ],
   "source": [
    "# Check if a certain value is present in 'arr'\n",
    "if 300 in arr:\n",
    "    print(\"300 is present\")\n",
    "else:\n",
    "    print(\"300 is not present\")"
   ]
  },
  {
   "cell_type": "code",
   "execution_count": null,
   "id": "a13d9669",
   "metadata": {},
   "outputs": [],
   "source": []
  },
  {
   "cell_type": "code",
   "execution_count": null,
   "id": "93994acd",
   "metadata": {},
   "outputs": [],
   "source": []
  },
  {
   "cell_type": "code",
   "execution_count": 48,
   "id": "182d6354",
   "metadata": {},
   "outputs": [],
   "source": [
    "arr = [10, 20, 30, 40, 50, 60, 20, 30, 50]"
   ]
  },
  {
   "cell_type": "code",
   "execution_count": 49,
   "id": "6694e484",
   "metadata": {},
   "outputs": [
    {
     "name": "stdout",
     "output_type": "stream",
     "text": [
      "3\n"
     ]
    }
   ],
   "source": [
    "idx = arr.index(40)\n",
    "print(idx)"
   ]
  },
  {
   "cell_type": "code",
   "execution_count": 50,
   "id": "0e68f4aa",
   "metadata": {},
   "outputs": [
    {
     "ename": "ValueError",
     "evalue": "400 is not in list",
     "output_type": "error",
     "traceback": [
      "\u001b[0;31m---------------------------------------------------------------------------\u001b[0m",
      "\u001b[0;31mValueError\u001b[0m                                Traceback (most recent call last)",
      "\u001b[0;32m/var/folders/jn/1bsrct314hv5xmfm7vrcdrzc0000gn/T/ipykernel_3385/2961869934.py\u001b[0m in \u001b[0;36m<module>\u001b[0;34m\u001b[0m\n\u001b[0;32m----> 1\u001b[0;31m \u001b[0midx2\u001b[0m \u001b[0;34m=\u001b[0m \u001b[0marr\u001b[0m\u001b[0;34m.\u001b[0m\u001b[0mindex\u001b[0m\u001b[0;34m(\u001b[0m\u001b[0;36m400\u001b[0m\u001b[0;34m)\u001b[0m\u001b[0;34m\u001b[0m\u001b[0;34m\u001b[0m\u001b[0m\n\u001b[0m\u001b[1;32m      2\u001b[0m \u001b[0mprint\u001b[0m\u001b[0;34m(\u001b[0m\u001b[0midx2\u001b[0m\u001b[0;34m)\u001b[0m\u001b[0;34m\u001b[0m\u001b[0;34m\u001b[0m\u001b[0m\n",
      "\u001b[0;31mValueError\u001b[0m: 400 is not in list"
     ]
    }
   ],
   "source": [
    "idx2 = arr.index(400)\n",
    "print(idx2)"
   ]
  },
  {
   "cell_type": "code",
   "execution_count": 53,
   "id": "47d30bdc",
   "metadata": {},
   "outputs": [
    {
     "name": "stdout",
     "output_type": "stream",
     "text": [
      "1\n"
     ]
    }
   ],
   "source": [
    "arr = [10, 20, 30, 40, 50, 60, 20, 30, 50]\n",
    "idx3 = arr.index(20) # index of the first occurrence\n",
    "print(idx3)"
   ]
  },
  {
   "cell_type": "code",
   "execution_count": null,
   "id": "6f44db20",
   "metadata": {},
   "outputs": [],
   "source": []
  },
  {
   "cell_type": "markdown",
   "id": "9ab55843",
   "metadata": {},
   "source": [
    "#### How to get the index of the second or the third occurences ? \n",
    "- Find answer on your own. \\\n",
    "Hint - The answer is present in bonus reading material for today."
   ]
  },
  {
   "cell_type": "code",
   "execution_count": null,
   "id": "f3f86088",
   "metadata": {},
   "outputs": [],
   "source": []
  },
  {
   "cell_type": "code",
   "execution_count": null,
   "id": "4a946764",
   "metadata": {},
   "outputs": [],
   "source": []
  },
  {
   "cell_type": "code",
   "execution_count": 54,
   "id": "3e51b653",
   "metadata": {},
   "outputs": [
    {
     "name": "stdout",
     "output_type": "stream",
     "text": [
      "2\n"
     ]
    }
   ],
   "source": [
    "arr = [10, 20, 30, 40, 50, 60, 20, 30, 50]\n",
    "c = arr.count(20)\n",
    "print(c)"
   ]
  },
  {
   "cell_type": "code",
   "execution_count": 55,
   "id": "f3b1b751",
   "metadata": {},
   "outputs": [
    {
     "name": "stdout",
     "output_type": "stream",
     "text": [
      "1\n"
     ]
    }
   ],
   "source": [
    "print(arr.count(10))"
   ]
  },
  {
   "cell_type": "code",
   "execution_count": 56,
   "id": "43e2a943",
   "metadata": {},
   "outputs": [
    {
     "name": "stdout",
     "output_type": "stream",
     "text": [
      "0\n"
     ]
    }
   ],
   "source": [
    "print(arr.count(100))"
   ]
  },
  {
   "cell_type": "code",
   "execution_count": null,
   "id": "41cfc160",
   "metadata": {},
   "outputs": [],
   "source": []
  },
  {
   "cell_type": "code",
   "execution_count": null,
   "id": "5f53f734",
   "metadata": {},
   "outputs": [],
   "source": []
  },
  {
   "cell_type": "markdown",
   "id": "4e4a2718",
   "metadata": {},
   "source": [
    "# Linear Search\n",
    "![](https://scaler.com/topics/images/Linear-Search-Algorithm.webp)"
   ]
  },
  {
   "cell_type": "markdown",
   "id": "04063f4d",
   "metadata": {},
   "source": [
    "Given an `arr` and a value `x`. Find the index at which `x` is present. \n",
    "In case `x` is not present in the array, print \"Not found\".\n",
    "\n",
    "Do not use \n",
    "- in\n",
    "- index()\n",
    "- count()"
   ]
  },
  {
   "cell_type": "code",
   "execution_count": 58,
   "id": "a7a09968",
   "metadata": {},
   "outputs": [
    {
     "name": "stdout",
     "output_type": "stream",
     "text": [
      "3\n",
      "Not found\n"
     ]
    }
   ],
   "source": [
    "arr = [6, 9, 2, 1, 5, 7]\n",
    "x = 1\n",
    "\n",
    "for i in range(len(arr)):\n",
    "    if arr[i] == x:\n",
    "        print(i)\n",
    "        \n",
    "print(\"Not found\")"
   ]
  },
  {
   "cell_type": "code",
   "execution_count": null,
   "id": "b10e8c18",
   "metadata": {},
   "outputs": [],
   "source": []
  },
  {
   "cell_type": "code",
   "execution_count": 59,
   "id": "0b7c7d3d",
   "metadata": {},
   "outputs": [
    {
     "name": "stdout",
     "output_type": "stream",
     "text": [
      "Not found\n",
      "Not found\n",
      "Not found\n",
      "3\n",
      "Not found\n",
      "Not found\n"
     ]
    }
   ],
   "source": [
    "arr = [6, 9, 2, 1, 5, 7]\n",
    "x = 1\n",
    "\n",
    "for i in range(len(arr)):\n",
    "    if arr[i] == x:\n",
    "        print(i)\n",
    "    else:\n",
    "        print(\"Not found\")"
   ]
  },
  {
   "cell_type": "code",
   "execution_count": null,
   "id": "2e3b759d",
   "metadata": {},
   "outputs": [],
   "source": []
  },
  {
   "cell_type": "code",
   "execution_count": null,
   "id": "e717b5fa",
   "metadata": {},
   "outputs": [],
   "source": []
  },
  {
   "cell_type": "code",
   "execution_count": 63,
   "id": "07a53bf3",
   "metadata": {},
   "outputs": [
    {
     "name": "stdout",
     "output_type": "stream",
     "text": [
      "Not found\n"
     ]
    }
   ],
   "source": [
    "arr = [6, 9, 2, 1, 5, 7]\n",
    "x = 1\n",
    "ans = \"Not found\"\n",
    "\n",
    "for i in range(len(arr)):\n",
    "    if arr[i] == x:\n",
    "        ans = i\n",
    "        \n",
    "print(ans)"
   ]
  },
  {
   "cell_type": "code",
   "execution_count": null,
   "id": "83081994",
   "metadata": {},
   "outputs": [],
   "source": []
  },
  {
   "cell_type": "code",
   "execution_count": 64,
   "id": "203d38f6",
   "metadata": {},
   "outputs": [
    {
     "name": "stdout",
     "output_type": "stream",
     "text": [
      "8\n"
     ]
    }
   ],
   "source": [
    "arr = [6, 9, 2, 1, 5, 7, 1, 1, 1]\n",
    "x = 1\n",
    "ans = \"Not found\"\n",
    "\n",
    "for i in range(len(arr)):\n",
    "    if arr[i] == x:\n",
    "        ans = i\n",
    "        \n",
    "print(ans)"
   ]
  },
  {
   "cell_type": "code",
   "execution_count": 65,
   "id": "2e17c0fe",
   "metadata": {},
   "outputs": [
    {
     "name": "stdout",
     "output_type": "stream",
     "text": [
      "3\n"
     ]
    }
   ],
   "source": [
    "arr = [6, 9, 2, 1, 5, 7, 1, 1, 1]\n",
    "x = 1\n",
    "ans = \"Not found\"\n",
    "\n",
    "for i in range(len(arr)):\n",
    "    if arr[i] == x:\n",
    "        ans = i\n",
    "        break\n",
    "        \n",
    "print(ans)"
   ]
  },
  {
   "cell_type": "code",
   "execution_count": null,
   "id": "c1f824a2",
   "metadata": {},
   "outputs": [],
   "source": []
  },
  {
   "cell_type": "code",
   "execution_count": 72,
   "id": "1d7da19c",
   "metadata": {},
   "outputs": [
    {
     "name": "stdout",
     "output_type": "stream",
     "text": [
      "[3, 6, 7, 8]\n"
     ]
    }
   ],
   "source": [
    "arr = [6, 9, 2, 1, 5, 7, 1, 1, 1]\n",
    "x = 1\n",
    "ans = []\n",
    "\n",
    "for i in range(len(arr)):\n",
    "    if arr[i] == x:\n",
    "        ans.append(i)\n",
    "        \n",
    "if len(ans) == 0:\n",
    "    print(\"Not found\")\n",
    "else:\n",
    "    print(ans)"
   ]
  },
  {
   "cell_type": "code",
   "execution_count": null,
   "id": "8e22c007",
   "metadata": {},
   "outputs": [],
   "source": []
  },
  {
   "cell_type": "code",
   "execution_count": 70,
   "id": "d69117ec",
   "metadata": {},
   "outputs": [
    {
     "data": {
      "text/plain": [
       "False"
      ]
     },
     "execution_count": 70,
     "metadata": {},
     "output_type": "execute_result"
    }
   ],
   "source": [
    "\"1\" == 1"
   ]
  },
  {
   "cell_type": "code",
   "execution_count": null,
   "id": "fd05c703",
   "metadata": {},
   "outputs": [],
   "source": []
  },
  {
   "cell_type": "code",
   "execution_count": null,
   "id": "374355bb",
   "metadata": {},
   "outputs": [],
   "source": []
  },
  {
   "cell_type": "code",
   "execution_count": null,
   "id": "e46544c9",
   "metadata": {},
   "outputs": [],
   "source": []
  },
  {
   "cell_type": "markdown",
   "id": "a42ab318",
   "metadata": {},
   "source": [
    "#### Quiz 4\n",
    "Fill in the blank for Python Linear Search.\n",
    "Search for value `x` in list `arr`.\n",
    "```py\n",
    "for i in _____:\n",
    "    if arr[i] == x:\n",
    "        return i\n",
    "```"
   ]
  },
  {
   "cell_type": "code",
   "execution_count": 74,
   "id": "cf067652",
   "metadata": {},
   "outputs": [],
   "source": [
    "def linearSearch(arr, x):\n",
    "    for i in range(len(arr)):\n",
    "        if arr[i] == x:\n",
    "            return i"
   ]
  },
  {
   "cell_type": "code",
   "execution_count": 75,
   "id": "5e68b2b8",
   "metadata": {},
   "outputs": [
    {
     "name": "stdout",
     "output_type": "stream",
     "text": [
      "1\n"
     ]
    }
   ],
   "source": [
    "print(linearSearch([1, 2, 3, 2, 2], 2))"
   ]
  },
  {
   "cell_type": "code",
   "execution_count": null,
   "id": "b775518f",
   "metadata": {},
   "outputs": [],
   "source": []
  },
  {
   "cell_type": "code",
   "execution_count": null,
   "id": "7e67ae2f",
   "metadata": {},
   "outputs": [],
   "source": []
  },
  {
   "cell_type": "markdown",
   "id": "34e4e18a",
   "metadata": {},
   "source": [
    "# Bonus Reading Material\n",
    "- Delete Element From List Python - https://www.scaler.com/topics/delete-element-from-list-python/\n",
    "- Python List Remove() - https://www.scaler.com/topics/python-list-remove/\n",
    "- List Methods in Python - https://www.scaler.com/topics/list-methods-in-python/\n",
    "- Linear Search - https://www.scaler.com/topics/data-structures/linear-search-algorithm/\n",
    "- Python List Index Method - https://www.scaler.com/topics/python-list-index-method/\n",
    "- index() in Python - https://www.scaler.com/topics/index-in-python/\n",
    "- How to Find Index of Element in List Python? - https://www.scaler.com/topics/find-index-of-element-in-list-python/"
   ]
  },
  {
   "cell_type": "code",
   "execution_count": null,
   "id": "27267d44",
   "metadata": {},
   "outputs": [],
   "source": []
  },
  {
   "cell_type": "code",
   "execution_count": null,
   "id": "24040a20",
   "metadata": {},
   "outputs": [],
   "source": []
  },
  {
   "cell_type": "code",
   "execution_count": null,
   "id": "195cadc3",
   "metadata": {},
   "outputs": [],
   "source": []
  },
  {
   "cell_type": "code",
   "execution_count": null,
   "id": "13fa85e3",
   "metadata": {},
   "outputs": [],
   "source": []
  },
  {
   "cell_type": "markdown",
   "id": "48188da4",
   "metadata": {},
   "source": [
    "# Doubts"
   ]
  },
  {
   "cell_type": "code",
   "execution_count": 76,
   "id": "ed0e424c",
   "metadata": {},
   "outputs": [],
   "source": [
    "arr = [10, 20, 30, 20, 20, 40]\n",
    "# Remove all 20s\n",
    "\n",
    "while 20 in arr:\n",
    "    arr.remove(20)"
   ]
  },
  {
   "cell_type": "code",
   "execution_count": 78,
   "id": "50ba6ef6",
   "metadata": {},
   "outputs": [
    {
     "data": {
      "text/plain": [
       "[10, 30, 40]"
      ]
     },
     "execution_count": 78,
     "metadata": {},
     "output_type": "execute_result"
    }
   ],
   "source": [
    "arr"
   ]
  },
  {
   "cell_type": "code",
   "execution_count": null,
   "id": "0da23a26",
   "metadata": {},
   "outputs": [],
   "source": []
  },
  {
   "cell_type": "code",
   "execution_count": null,
   "id": "56f4e58c",
   "metadata": {},
   "outputs": [],
   "source": [
    "# Input code\n",
    "arr = list(map(int, input().split()))"
   ]
  },
  {
   "cell_type": "code",
   "execution_count": null,
   "id": "28ad61a0",
   "metadata": {},
   "outputs": [],
   "source": []
  },
  {
   "cell_type": "code",
   "execution_count": null,
   "id": "afb3a9dd",
   "metadata": {},
   "outputs": [],
   "source": []
  },
  {
   "cell_type": "code",
   "execution_count": 79,
   "id": "99c30b3f",
   "metadata": {},
   "outputs": [
    {
     "data": {
      "text/plain": [
       "4"
      ]
     },
     "execution_count": 79,
     "metadata": {},
     "output_type": "execute_result"
    }
   ],
   "source": [
    "round(3.5)"
   ]
  },
  {
   "cell_type": "code",
   "execution_count": 80,
   "id": "94026fa8",
   "metadata": {},
   "outputs": [
    {
     "data": {
      "text/plain": [
       "4"
      ]
     },
     "execution_count": 80,
     "metadata": {},
     "output_type": "execute_result"
    }
   ],
   "source": [
    "round(4.5)\n",
    "# 4.999999999999999999"
   ]
  },
  {
   "cell_type": "code",
   "execution_count": 81,
   "id": "77670966",
   "metadata": {},
   "outputs": [
    {
     "name": "stdout",
     "output_type": "stream",
     "text": [
      "4.5\n"
     ]
    }
   ],
   "source": [
    "x = 4.5\n",
    "print(x)"
   ]
  },
  {
   "cell_type": "code",
   "execution_count": 82,
   "id": "6b3b70bc",
   "metadata": {},
   "outputs": [
    {
     "name": "stdout",
     "output_type": "stream",
     "text": [
      "4.5\n"
     ]
    }
   ],
   "source": [
    "x = 9/2\n",
    "print(x)"
   ]
  },
  {
   "cell_type": "code",
   "execution_count": 86,
   "id": "8659397d",
   "metadata": {},
   "outputs": [
    {
     "name": "stdout",
     "output_type": "stream",
     "text": [
      "3.0\n"
     ]
    }
   ],
   "source": [
    "x = 1.0 + 2.0\n",
    "print(x)"
   ]
  },
  {
   "cell_type": "code",
   "execution_count": null,
   "id": "6ce5fc6b",
   "metadata": {},
   "outputs": [],
   "source": [
    "3.14 -> 3.1400"
   ]
  },
  {
   "cell_type": "code",
   "execution_count": 87,
   "id": "c88b9106",
   "metadata": {},
   "outputs": [
    {
     "name": "stdout",
     "output_type": "stream",
     "text": [
      "3.1400\n"
     ]
    }
   ],
   "source": [
    "x = 3.14\n",
    "y = str(x) + \"00\"\n",
    "print(y)"
   ]
  },
  {
   "cell_type": "code",
   "execution_count": null,
   "id": "073f024e",
   "metadata": {},
   "outputs": [],
   "source": []
  },
  {
   "cell_type": "code",
   "execution_count": null,
   "id": "8c4d584b",
   "metadata": {},
   "outputs": [],
   "source": []
  },
  {
   "cell_type": "code",
   "execution_count": null,
   "id": "7648b4b5",
   "metadata": {},
   "outputs": [],
   "source": []
  },
  {
   "cell_type": "code",
   "execution_count": null,
   "id": "21cfb029",
   "metadata": {},
   "outputs": [],
   "source": [
    "import math\n",
    "print(math.floor(-3.6))\n",
    "print(int(-3.6))"
   ]
  }
 ],
 "metadata": {
  "kernelspec": {
   "display_name": "Python 3 (ipykernel)",
   "language": "python",
   "name": "python3"
  },
  "language_info": {
   "codemirror_mode": {
    "name": "ipython",
    "version": 3
   },
   "file_extension": ".py",
   "mimetype": "text/x-python",
   "name": "python",
   "nbconvert_exporter": "python",
   "pygments_lexer": "ipython3",
   "version": "3.9.12"
  }
 },
 "nbformat": 4,
 "nbformat_minor": 5
}
