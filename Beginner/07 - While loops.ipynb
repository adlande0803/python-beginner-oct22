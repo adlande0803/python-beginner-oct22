{
 "cells": [
  {
   "cell_type": "markdown",
   "id": "2c5e0804",
   "metadata": {},
   "source": [
    "# Print - end"
   ]
  },
  {
   "cell_type": "markdown",
   "id": "645ad6d5",
   "metadata": {},
   "source": [
    "![](https://scaler.com/topics/images/print-in-python.webp)"
   ]
  },
  {
   "cell_type": "code",
   "execution_count": 1,
   "id": "70d4b9f5",
   "metadata": {},
   "outputs": [
    {
     "name": "stdout",
     "output_type": "stream",
     "text": [
      "hello world\n",
      "how are you?\n"
     ]
    }
   ],
   "source": [
    "print(\"hello world\")\n",
    "print(\"how are you?\")"
   ]
  },
  {
   "cell_type": "code",
   "execution_count": 5,
   "id": "fc27cb0d",
   "metadata": {},
   "outputs": [
    {
     "name": "stdout",
     "output_type": "stream",
     "text": [
      "hello world\n",
      "how are you?\n"
     ]
    }
   ],
   "source": [
    "print(\"hello world\", end='\\n') # default\n",
    "print(\"how are you?\")"
   ]
  },
  {
   "cell_type": "code",
   "execution_count": 7,
   "id": "889acadd",
   "metadata": {},
   "outputs": [
    {
     "name": "stdout",
     "output_type": "stream",
     "text": [
      "hello world 90+-85[] \n",
      "how are you?\n"
     ]
    }
   ],
   "source": [
    "print(\"hello world\", end=\" 90+-85[] \\n\")\n",
    "print(\"how are you?\")"
   ]
  },
  {
   "cell_type": "code",
   "execution_count": null,
   "id": "5b5a0443",
   "metadata": {},
   "outputs": [],
   "source": [
    "# Default value of end=\"\\n\""
   ]
  },
  {
   "cell_type": "code",
   "execution_count": 9,
   "id": "6f6887a1",
   "metadata": {},
   "outputs": [
    {
     "name": "stdout",
     "output_type": "stream",
     "text": [
      "hello world\n",
      "\n",
      "\n",
      "how are you?\n"
     ]
    }
   ],
   "source": [
    "print(\"hello world\", end=\"\\n\\n\\n\")\n",
    "print(\"how are you?\")"
   ]
  },
  {
   "cell_type": "code",
   "execution_count": null,
   "id": "8f9e69c0",
   "metadata": {},
   "outputs": [],
   "source": []
  },
  {
   "cell_type": "code",
   "execution_count": null,
   "id": "d6e550fc",
   "metadata": {},
   "outputs": [],
   "source": []
  },
  {
   "cell_type": "code",
   "execution_count": null,
   "id": "a6d8749f",
   "metadata": {},
   "outputs": [],
   "source": []
  },
  {
   "cell_type": "code",
   "execution_count": null,
   "id": "7e6a7ddc",
   "metadata": {},
   "outputs": [],
   "source": []
  },
  {
   "cell_type": "code",
   "execution_count": null,
   "id": "27f4d116",
   "metadata": {},
   "outputs": [],
   "source": []
  },
  {
   "cell_type": "code",
   "execution_count": null,
   "id": "95cf5818",
   "metadata": {},
   "outputs": [],
   "source": []
  },
  {
   "cell_type": "markdown",
   "id": "b2ff2e13",
   "metadata": {},
   "source": [
    "#### Quiz 1\n",
    "```py\n",
    "print(\"a\",end=\"b\")\n",
    "print(\"b\", end=\"c\")\n",
    "```"
   ]
  },
  {
   "cell_type": "code",
   "execution_count": 10,
   "id": "b7b82bfd",
   "metadata": {},
   "outputs": [
    {
     "name": "stdout",
     "output_type": "stream",
     "text": [
      "abbc"
     ]
    }
   ],
   "source": [
    "print(\"a\",end=\"b\")\n",
    "print(\"b\", end=\"c\")"
   ]
  },
  {
   "cell_type": "code",
   "execution_count": null,
   "id": "f8ec4119",
   "metadata": {},
   "outputs": [],
   "source": []
  },
  {
   "cell_type": "code",
   "execution_count": null,
   "id": "3fc486aa",
   "metadata": {},
   "outputs": [],
   "source": []
  },
  {
   "cell_type": "markdown",
   "id": "170bbbcd",
   "metadata": {},
   "source": [
    "#### Quiz 2\n",
    "```py\n",
    "print(5, end='hello\\n')\n",
    "print('world')\n",
    "print('how', end='are you')\n",
    "```"
   ]
  },
  {
   "cell_type": "code",
   "execution_count": 13,
   "id": "3f5616b5",
   "metadata": {},
   "outputs": [
    {
     "name": "stdout",
     "output_type": "stream",
     "text": [
      "5hello\n",
      "world\n",
      "howare you"
     ]
    }
   ],
   "source": [
    "print(5, end='hello\\n')\n",
    "print('world') # default end='\\n'\n",
    "print('how', end='are you')"
   ]
  },
  {
   "cell_type": "code",
   "execution_count": null,
   "id": "1a041fac",
   "metadata": {},
   "outputs": [],
   "source": []
  },
  {
   "cell_type": "code",
   "execution_count": 15,
   "id": "d94f64a0",
   "metadata": {},
   "outputs": [
    {
     "name": "stdout",
     "output_type": "stream",
     "text": [
      "5 hello\n",
      "world\n",
      "how are you\n"
     ]
    }
   ],
   "source": [
    "# Why even bother with end='' ? \n",
    "# Examples coming with loop\n",
    "print(5, 'hello')\n",
    "print('world') # default end='\\n'\n",
    "print('how', 'are you')"
   ]
  },
  {
   "cell_type": "code",
   "execution_count": null,
   "id": "e4483ded",
   "metadata": {},
   "outputs": [],
   "source": []
  },
  {
   "cell_type": "code",
   "execution_count": null,
   "id": "41cafcbb",
   "metadata": {},
   "outputs": [],
   "source": []
  },
  {
   "cell_type": "markdown",
   "id": "7c95f61e",
   "metadata": {},
   "source": [
    "# Print \"I love you\" 5 times"
   ]
  },
  {
   "cell_type": "code",
   "execution_count": 16,
   "id": "87164508",
   "metadata": {},
   "outputs": [
    {
     "name": "stdout",
     "output_type": "stream",
     "text": [
      "I love you\n",
      "I love you\n",
      "I love you\n",
      "I love you\n",
      "I love you\n"
     ]
    }
   ],
   "source": [
    "print(\"I love you\")\n",
    "print(\"I love you\")\n",
    "print(\"I love you\")\n",
    "print(\"I love you\")\n",
    "print(\"I love you\")"
   ]
  },
  {
   "cell_type": "code",
   "execution_count": null,
   "id": "d919875b",
   "metadata": {},
   "outputs": [],
   "source": []
  },
  {
   "cell_type": "code",
   "execution_count": null,
   "id": "70a4d285",
   "metadata": {},
   "outputs": [],
   "source": []
  },
  {
   "cell_type": "code",
   "execution_count": null,
   "id": "8947c22a",
   "metadata": {},
   "outputs": [],
   "source": []
  },
  {
   "cell_type": "code",
   "execution_count": null,
   "id": "b932c62f",
   "metadata": {},
   "outputs": [],
   "source": []
  },
  {
   "cell_type": "markdown",
   "id": "72863677",
   "metadata": {},
   "source": [
    "# While Loops\n",
    "![](https://scaler.com/topics/images/while-loop-in-python.webp)"
   ]
  },
  {
   "cell_type": "code",
   "execution_count": 17,
   "id": "f40b214c",
   "metadata": {},
   "outputs": [
    {
     "name": "stdout",
     "output_type": "stream",
     "text": [
      "I love you\n",
      "I love you\n",
      "I love you\n",
      "I love you\n",
      "I love you\n"
     ]
    }
   ],
   "source": [
    "# Initialisation\n",
    "count = 0\n",
    "\n",
    "while count < 5:\n",
    "    print(\"I love you\") # Loop body\n",
    "    count = count + 1 # Update"
   ]
  },
  {
   "cell_type": "code",
   "execution_count": 19,
   "id": "694b11ff",
   "metadata": {},
   "outputs": [
    {
     "name": "stdout",
     "output_type": "stream",
     "text": [
      "I love you\n",
      "I love you\n"
     ]
    }
   ],
   "source": [
    "# Initialisation\n",
    "count = 0\n",
    "\n",
    "while count < 2:\n",
    "    print(\"I love you\") # Loop body\n",
    "    count = count + 1 # Update"
   ]
  },
  {
   "cell_type": "code",
   "execution_count": null,
   "id": "6d2f331b",
   "metadata": {},
   "outputs": [],
   "source": []
  },
  {
   "cell_type": "code",
   "execution_count": 20,
   "id": "7062c19b",
   "metadata": {},
   "outputs": [
    {
     "name": "stdout",
     "output_type": "stream",
     "text": [
      "I love you\n",
      "I love you\n",
      "I love you\n",
      "I love you\n",
      "I love you\n"
     ]
    }
   ],
   "source": [
    "# Initialisation\n",
    "count = -3\n",
    "\n",
    "while count < 2:\n",
    "    print(\"I love you\") # Loop body\n",
    "    count = count + 1 # Update"
   ]
  },
  {
   "cell_type": "code",
   "execution_count": null,
   "id": "46e4f2e3",
   "metadata": {},
   "outputs": [],
   "source": []
  },
  {
   "cell_type": "markdown",
   "id": "2951dbac",
   "metadata": {},
   "source": [
    "### Print 1 to 10"
   ]
  },
  {
   "cell_type": "code",
   "execution_count": 24,
   "id": "7d02f721",
   "metadata": {},
   "outputs": [
    {
     "name": "stdout",
     "output_type": "stream",
     "text": [
      "1 2 3 4 5 6 7 8 9 10 "
     ]
    }
   ],
   "source": [
    "i = 1\n",
    "\n",
    "while i <= 10:\n",
    "    print(i, end=' ')\n",
    "    i = i + 1"
   ]
  },
  {
   "cell_type": "code",
   "execution_count": null,
   "id": "7a3ad2cc",
   "metadata": {},
   "outputs": [],
   "source": []
  },
  {
   "cell_type": "code",
   "execution_count": null,
   "id": "1d899eec",
   "metadata": {},
   "outputs": [],
   "source": []
  },
  {
   "cell_type": "markdown",
   "id": "54ba2a0a",
   "metadata": {},
   "source": [
    "### Print 1 to N"
   ]
  },
  {
   "cell_type": "code",
   "execution_count": 29,
   "id": "d92dbf51",
   "metadata": {},
   "outputs": [
    {
     "name": "stdout",
     "output_type": "stream",
     "text": [
      "8\n",
      "1 2 3 4 5 6 7 8 "
     ]
    }
   ],
   "source": [
    "N = int(input())\n",
    "\n",
    "i = 1\n",
    "\n",
    "while i <= N:\n",
    "    print(i, end=' ')\n",
    "    i = i+1"
   ]
  },
  {
   "cell_type": "code",
   "execution_count": null,
   "id": "c62d4949",
   "metadata": {},
   "outputs": [],
   "source": []
  },
  {
   "cell_type": "code",
   "execution_count": 35,
   "id": "d51b220b",
   "metadata": {},
   "outputs": [
    {
     "name": "stdout",
     "output_type": "stream",
     "text": [
      "1 I love coding\n",
      "2 I love coding\n",
      "3 I love coding\n",
      "4 I love coding\n",
      "5 I love coding\n"
     ]
    }
   ],
   "source": [
    "N = 5\n",
    "i = 1\n",
    "\n",
    "while i <= N:\n",
    "    print(i, \"I love coding\")\n",
    "    i = i+1"
   ]
  },
  {
   "cell_type": "code",
   "execution_count": null,
   "id": "5405362e",
   "metadata": {},
   "outputs": [],
   "source": []
  },
  {
   "cell_type": "code",
   "execution_count": null,
   "id": "eccf6123",
   "metadata": {},
   "outputs": [],
   "source": []
  },
  {
   "cell_type": "code",
   "execution_count": null,
   "id": "b551bf3b",
   "metadata": {},
   "outputs": [],
   "source": []
  },
  {
   "cell_type": "markdown",
   "id": "36edbeea",
   "metadata": {},
   "source": [
    "### Print Odd Numbers from 1 to N"
   ]
  },
  {
   "cell_type": "code",
   "execution_count": 33,
   "id": "a876e84d",
   "metadata": {},
   "outputs": [
    {
     "name": "stdout",
     "output_type": "stream",
     "text": [
      "60\n",
      "1 3 5 7 9 11 13 15 17 19 21 23 25 27 29 31 33 35 37 39 41 43 45 47 49 51 53 55 57 59 "
     ]
    }
   ],
   "source": [
    "N = int(input())\n",
    "\n",
    "i = 1\n",
    "\n",
    "while i <= N:\n",
    "    print(i, end=' ')\n",
    "    i = i+2"
   ]
  },
  {
   "cell_type": "code",
   "execution_count": null,
   "id": "fc80ff17",
   "metadata": {},
   "outputs": [],
   "source": []
  },
  {
   "cell_type": "code",
   "execution_count": null,
   "id": "3dc3ba17",
   "metadata": {},
   "outputs": [],
   "source": []
  },
  {
   "cell_type": "code",
   "execution_count": null,
   "id": "e448838f",
   "metadata": {},
   "outputs": [],
   "source": []
  },
  {
   "cell_type": "code",
   "execution_count": null,
   "id": "7a64447c",
   "metadata": {},
   "outputs": [],
   "source": []
  },
  {
   "cell_type": "code",
   "execution_count": null,
   "id": "55180713",
   "metadata": {},
   "outputs": [],
   "source": []
  },
  {
   "cell_type": "code",
   "execution_count": null,
   "id": "b9a67137",
   "metadata": {},
   "outputs": [],
   "source": []
  },
  {
   "cell_type": "code",
   "execution_count": null,
   "id": "62d4c934",
   "metadata": {},
   "outputs": [],
   "source": []
  },
  {
   "cell_type": "markdown",
   "id": "6a5566b5",
   "metadata": {},
   "source": [
    "#### Quiz 3\n",
    "Output of following code ? \n",
    "```py\n",
    "i = 2\n",
    "while i <= 10:\n",
    "    print(i, end=' |')\n",
    "    i += 2\n",
    "```\n"
   ]
  },
  {
   "cell_type": "code",
   "execution_count": 36,
   "id": "82ee525c",
   "metadata": {},
   "outputs": [
    {
     "name": "stdout",
     "output_type": "stream",
     "text": [
      "2 |4 |6 |8 |10 |"
     ]
    }
   ],
   "source": [
    "i = 2\n",
    "while i <= 10:\n",
    "    print(i, end=' |')\n",
    "    i += 2"
   ]
  },
  {
   "cell_type": "code",
   "execution_count": null,
   "id": "78a46588",
   "metadata": {},
   "outputs": [],
   "source": []
  },
  {
   "cell_type": "markdown",
   "id": "101f9635",
   "metadata": {},
   "source": [
    "### Print all multiples of 4 from 1 to N."
   ]
  },
  {
   "cell_type": "code",
   "execution_count": 39,
   "id": "d53f5fb1",
   "metadata": {},
   "outputs": [
    {
     "name": "stdout",
     "output_type": "stream",
     "text": [
      "4 8 12 "
     ]
    }
   ],
   "source": [
    "i = 4\n",
    "N = 15\n",
    "\n",
    "while i <= N:\n",
    "    print(i, end=' ')\n",
    "    i = i + 4"
   ]
  },
  {
   "cell_type": "code",
   "execution_count": null,
   "id": "9bba9541",
   "metadata": {},
   "outputs": [],
   "source": []
  },
  {
   "cell_type": "code",
   "execution_count": 42,
   "id": "6ebee9e5",
   "metadata": {},
   "outputs": [
    {
     "name": "stdout",
     "output_type": "stream",
     "text": [
      "4 8 12 "
     ]
    }
   ],
   "source": [
    "i = 4\n",
    "N = 15\n",
    "\n",
    "while i <= N:\n",
    "    print(i, end=' ')\n",
    "    i = i + 4"
   ]
  },
  {
   "cell_type": "code",
   "execution_count": null,
   "id": "337a3b2c",
   "metadata": {},
   "outputs": [],
   "source": []
  },
  {
   "cell_type": "markdown",
   "id": "abab667e",
   "metadata": {},
   "source": [
    "### Print all powers of 2 of numbers from 1 to N."
   ]
  },
  {
   "cell_type": "code",
   "execution_count": 44,
   "id": "1953e270",
   "metadata": {},
   "outputs": [
    {
     "name": "stdout",
     "output_type": "stream",
     "text": [
      "2 4 8 16 32 64 128 256 512 1024 "
     ]
    }
   ],
   "source": [
    "i = 1\n",
    "N = 10\n",
    "\n",
    "while i <= N:\n",
    "    print(2 ** i, end=' ')\n",
    "    i += 1\n",
    "    "
   ]
  },
  {
   "cell_type": "code",
   "execution_count": null,
   "id": "66b90488",
   "metadata": {},
   "outputs": [],
   "source": []
  },
  {
   "cell_type": "code",
   "execution_count": 45,
   "id": "85b41237",
   "metadata": {},
   "outputs": [
    {
     "name": "stdout",
     "output_type": "stream",
     "text": [
      "2 4 8 16 32 64 128 256 512 1024 "
     ]
    }
   ],
   "source": [
    "i = 1\n",
    "N = 10\n",
    "x = 2\n",
    "\n",
    "while i <= N:\n",
    "    print(x, end=' ')\n",
    "    i += 1\n",
    "    x = x * 2\n",
    "    "
   ]
  },
  {
   "cell_type": "code",
   "execution_count": 2,
   "id": "b61ec4b9",
   "metadata": {},
   "outputs": [],
   "source": [
    "i = 5"
   ]
  },
  {
   "cell_type": "markdown",
   "id": "f9101ab8",
   "metadata": {},
   "source": [
    "#### Quiz 4\n",
    "```py\n",
    "N = 2\n",
    "while i <= N:\n",
    "    print(i)\n",
    "    i += 1\n",
    "\n",
    "print(5)\n",
    "```"
   ]
  },
  {
   "cell_type": "code",
   "execution_count": 1,
   "id": "e2c12ca6",
   "metadata": {},
   "outputs": [
    {
     "ename": "NameError",
     "evalue": "name 'i' is not defined",
     "output_type": "error",
     "traceback": [
      "\u001b[0;31m---------------------------------------------------------------------------\u001b[0m",
      "\u001b[0;31mNameError\u001b[0m                                 Traceback (most recent call last)",
      "\u001b[0;32m/var/folders/jn/1bsrct314hv5xmfm7vrcdrzc0000gn/T/ipykernel_25957/173361336.py\u001b[0m in \u001b[0;36m<module>\u001b[0;34m\u001b[0m\n\u001b[1;32m      1\u001b[0m \u001b[0mN\u001b[0m \u001b[0;34m=\u001b[0m \u001b[0;36m2\u001b[0m\u001b[0;34m\u001b[0m\u001b[0;34m\u001b[0m\u001b[0m\n\u001b[0;32m----> 2\u001b[0;31m \u001b[0;32mwhile\u001b[0m \u001b[0mi\u001b[0m \u001b[0;34m<=\u001b[0m \u001b[0mN\u001b[0m\u001b[0;34m:\u001b[0m\u001b[0;34m\u001b[0m\u001b[0;34m\u001b[0m\u001b[0m\n\u001b[0m\u001b[1;32m      3\u001b[0m     \u001b[0mprint\u001b[0m\u001b[0;34m(\u001b[0m\u001b[0mi\u001b[0m\u001b[0;34m)\u001b[0m\u001b[0;34m\u001b[0m\u001b[0;34m\u001b[0m\u001b[0m\n\u001b[1;32m      4\u001b[0m     \u001b[0mi\u001b[0m \u001b[0;34m+=\u001b[0m \u001b[0;36m1\u001b[0m\u001b[0;34m\u001b[0m\u001b[0;34m\u001b[0m\u001b[0m\n\u001b[1;32m      5\u001b[0m \u001b[0;34m\u001b[0m\u001b[0m\n",
      "\u001b[0;31mNameError\u001b[0m: name 'i' is not defined"
     ]
    }
   ],
   "source": [
    "N = 2\n",
    "while i <= N:\n",
    "    print(i)\n",
    "    i += 1\n",
    "\n",
    "print(5)"
   ]
  },
  {
   "cell_type": "code",
   "execution_count": null,
   "id": "06430036",
   "metadata": {},
   "outputs": [],
   "source": []
  },
  {
   "cell_type": "code",
   "execution_count": 3,
   "id": "c51add25",
   "metadata": {},
   "outputs": [
    {
     "name": "stdout",
     "output_type": "stream",
     "text": [
      "0\n",
      "1\n",
      "2\n",
      "5\n"
     ]
    }
   ],
   "source": [
    "N = 2\n",
    "i = 0\n",
    "while i <= N:\n",
    "    print(i)\n",
    "    i += 1\n",
    "\n",
    "print(5)"
   ]
  },
  {
   "cell_type": "markdown",
   "id": "df8755a7",
   "metadata": {},
   "source": [
    "### Print all perfect squares of numbers from 1 to N."
   ]
  },
  {
   "cell_type": "code",
   "execution_count": 5,
   "id": "a1d6e8e1",
   "metadata": {},
   "outputs": [
    {
     "name": "stdout",
     "output_type": "stream",
     "text": [
      "1 4 9 16 25 36 49 64 81 100 121 144 169 196 225 256 289 324 361 400 "
     ]
    }
   ],
   "source": [
    "i = 1\n",
    "N = 20\n",
    "\n",
    "while i <= N:\n",
    "    print(i * i, end=' ')\n",
    "    i = i+1"
   ]
  },
  {
   "cell_type": "code",
   "execution_count": null,
   "id": "428e9ae6",
   "metadata": {},
   "outputs": [],
   "source": []
  },
  {
   "cell_type": "code",
   "execution_count": null,
   "id": "70240be5",
   "metadata": {},
   "outputs": [],
   "source": []
  },
  {
   "cell_type": "code",
   "execution_count": null,
   "id": "149c4e33",
   "metadata": {},
   "outputs": [],
   "source": []
  },
  {
   "cell_type": "code",
   "execution_count": null,
   "id": "d7a5d430",
   "metadata": {},
   "outputs": [],
   "source": []
  },
  {
   "cell_type": "code",
   "execution_count": null,
   "id": "3cd2b1c8",
   "metadata": {},
   "outputs": [],
   "source": []
  },
  {
   "cell_type": "code",
   "execution_count": null,
   "id": "1c4323a3",
   "metadata": {},
   "outputs": [],
   "source": []
  },
  {
   "cell_type": "markdown",
   "id": "be01a3f2",
   "metadata": {},
   "source": [
    "### Print all numbers from N to 1"
   ]
  },
  {
   "cell_type": "code",
   "execution_count": 8,
   "id": "2fd59582",
   "metadata": {},
   "outputs": [
    {
     "name": "stdout",
     "output_type": "stream",
     "text": [
      "10\n",
      "10 9 8 7 6 5 4 3 2 1 "
     ]
    }
   ],
   "source": [
    "N = int(input())\n",
    "i = N\n",
    "while i >= 1:\n",
    "    print(i, end=' ')\n",
    "    i -= 1"
   ]
  },
  {
   "cell_type": "code",
   "execution_count": null,
   "id": "5ca117c1",
   "metadata": {},
   "outputs": [],
   "source": []
  },
  {
   "cell_type": "code",
   "execution_count": null,
   "id": "112f4cd3",
   "metadata": {},
   "outputs": [],
   "source": []
  },
  {
   "cell_type": "markdown",
   "id": "168474ef",
   "metadata": {},
   "source": [
    "### Print all even numbers from N to 1."
   ]
  },
  {
   "cell_type": "code",
   "execution_count": 12,
   "id": "568687b5",
   "metadata": {},
   "outputs": [
    {
     "name": "stdout",
     "output_type": "stream",
     "text": [
      "10\n",
      "10 8 6 4 2 "
     ]
    }
   ],
   "source": [
    "N = int(input())\n",
    "\n",
    "if N % 2 == 0:\n",
    "    i = N\n",
    "else:\n",
    "    i = N - 1\n",
    "    \n",
    "while i >= 2:\n",
    "    print(i, end=' ')\n",
    "    i = i - 2"
   ]
  },
  {
   "cell_type": "code",
   "execution_count": null,
   "id": "26998068",
   "metadata": {},
   "outputs": [],
   "source": []
  },
  {
   "cell_type": "code",
   "execution_count": null,
   "id": "5d7e6185",
   "metadata": {},
   "outputs": [],
   "source": []
  },
  {
   "cell_type": "markdown",
   "id": "5a43262a",
   "metadata": {},
   "source": [
    "## Working with testcases"
   ]
  },
  {
   "cell_type": "code",
   "execution_count": null,
   "id": "4f78627a",
   "metadata": {},
   "outputs": [],
   "source": []
  },
  {
   "cell_type": "code",
   "execution_count": null,
   "id": "a4650bd9",
   "metadata": {},
   "outputs": [],
   "source": []
  },
  {
   "cell_type": "code",
   "execution_count": null,
   "id": "8f879d11",
   "metadata": {},
   "outputs": [],
   "source": []
  },
  {
   "cell_type": "code",
   "execution_count": null,
   "id": "1daefd1f",
   "metadata": {},
   "outputs": [],
   "source": []
  },
  {
   "cell_type": "markdown",
   "id": "19711151",
   "metadata": {},
   "source": [
    "#### Quiz 5\n",
    "How many numbers taken as input here?\n",
    "```py\n",
    "T = int(input())\n",
    "i = 1\n",
    "while i <= T:\n",
    "   n = int(input())\n",
    "```"
   ]
  },
  {
   "cell_type": "code",
   "execution_count": null,
   "id": "5e94386d",
   "metadata": {},
   "outputs": [
    {
     "name": "stdout",
     "output_type": "stream",
     "text": [
      "2\n",
      "0\n",
      "7\n",
      "4\n",
      "7\n",
      "8\n",
      "9\n",
      "2\n"
     ]
    }
   ],
   "source": [
    "T = int(input())\n",
    "i = 1\n",
    "while i <= T:\n",
    "    n = int(input())"
   ]
  },
  {
   "cell_type": "code",
   "execution_count": null,
   "id": "a496e095",
   "metadata": {},
   "outputs": [],
   "source": []
  },
  {
   "cell_type": "code",
   "execution_count": null,
   "id": "81495022",
   "metadata": {},
   "outputs": [],
   "source": []
  },
  {
   "cell_type": "code",
   "execution_count": null,
   "id": "e21e39b9",
   "metadata": {},
   "outputs": [],
   "source": []
  },
  {
   "cell_type": "code",
   "execution_count": null,
   "id": "32885587",
   "metadata": {},
   "outputs": [],
   "source": []
  },
  {
   "cell_type": "code",
   "execution_count": null,
   "id": "37a1b2b2",
   "metadata": {},
   "outputs": [],
   "source": []
  },
  {
   "cell_type": "markdown",
   "id": "58e1f079",
   "metadata": {},
   "source": [
    "### Square Testcases\n",
    "Read an integer T from the input(). Then take T more inputs containing one integer each. Print the square of each of these integers. \n",
    "\n",
    "\n",
    "**Sample Input:**\n",
    "```\n",
    "3\n",
    "5\n",
    "9\n",
    "2\n",
    "```\n",
    "\n",
    "**Sample Output:**\n",
    "```\n",
    "25\n",
    "81\n",
    "4\n",
    "```"
   ]
  },
  {
   "cell_type": "code",
   "execution_count": null,
   "id": "8bc754af",
   "metadata": {},
   "outputs": [],
   "source": []
  },
  {
   "cell_type": "code",
   "execution_count": 1,
   "id": "0e2a8470",
   "metadata": {},
   "outputs": [
    {
     "name": "stdout",
     "output_type": "stream",
     "text": [
      "6\n",
      "36\n"
     ]
    }
   ],
   "source": [
    "# Read a number, print its square\n",
    "n = int(input())\n",
    "print(n ** 2)"
   ]
  },
  {
   "cell_type": "code",
   "execution_count": null,
   "id": "faa745e5",
   "metadata": {},
   "outputs": [],
   "source": []
  },
  {
   "cell_type": "code",
   "execution_count": 2,
   "id": "8d5debef",
   "metadata": {},
   "outputs": [
    {
     "name": "stdout",
     "output_type": "stream",
     "text": [
      "4\n",
      "12\n",
      "144\n",
      "7\n",
      "49\n",
      "39\n",
      "1521\n",
      "0\n",
      "0\n"
     ]
    }
   ],
   "source": [
    "T = int(input())\n",
    "\n",
    "i = 1\n",
    "while i <= T:\n",
    "    # Read a number, print its square\n",
    "    n = int(input())\n",
    "    print(n ** 2)\n",
    "    i = i + 1"
   ]
  },
  {
   "cell_type": "code",
   "execution_count": null,
   "id": "d8a6a8e6",
   "metadata": {},
   "outputs": [],
   "source": []
  },
  {
   "cell_type": "code",
   "execution_count": null,
   "id": "760755a5",
   "metadata": {},
   "outputs": [],
   "source": []
  },
  {
   "cell_type": "code",
   "execution_count": null,
   "id": "e089a23c",
   "metadata": {},
   "outputs": [],
   "source": []
  },
  {
   "cell_type": "code",
   "execution_count": null,
   "id": "4524171f",
   "metadata": {},
   "outputs": [],
   "source": []
  },
  {
   "cell_type": "markdown",
   "id": "70b393da",
   "metadata": {},
   "source": [
    "# Bonus Reading Material\n",
    "- Print in Python - https://www.scaler.com/topics/print-in-python/\n",
    "- While Loop in Python - https://www.scaler.com/topics/python/while-loop-in-python/\n"
   ]
  },
  {
   "cell_type": "code",
   "execution_count": null,
   "id": "0916a271",
   "metadata": {},
   "outputs": [],
   "source": []
  },
  {
   "cell_type": "code",
   "execution_count": null,
   "id": "90235592",
   "metadata": {},
   "outputs": [],
   "source": []
  },
  {
   "cell_type": "code",
   "execution_count": null,
   "id": "358c11f1",
   "metadata": {},
   "outputs": [],
   "source": []
  },
  {
   "cell_type": "markdown",
   "id": "6965d0ed",
   "metadata": {},
   "source": [
    "# Doubts"
   ]
  },
  {
   "cell_type": "code",
   "execution_count": 3,
   "id": "15077bad",
   "metadata": {},
   "outputs": [
    {
     "name": "stdout",
     "output_type": "stream",
     "text": [
      "1 2 3 4 5 6 7 8 9 10 11 12 13 14 15 16 17 18 19 20 21 22 23 24 25 26 27 28 29 30 31 32 33 34 35 36 37 38 39 40 41 42 43 44 45 46 47 48 49 50 51 52 53 54 55 56 57 58 59 60 61 62 63 64 65 66 67 68 69 70 71 72 73 74 75 76 77 78 79 80 81 82 83 84 85 86 87 88 89 90 91 92 93 94 95 96 97 98 99 100 "
     ]
    }
   ],
   "source": [
    "count = 1\n",
    "while count <= 100:\n",
    "    print(count, end=\" \")\n",
    "    count = count+1"
   ]
  },
  {
   "cell_type": "code",
   "execution_count": null,
   "id": "750ff011",
   "metadata": {},
   "outputs": [],
   "source": []
  },
  {
   "cell_type": "code",
   "execution_count": null,
   "id": "4c749403",
   "metadata": {},
   "outputs": [],
   "source": []
  },
  {
   "cell_type": "code",
   "execution_count": 7,
   "id": "5c0daba1",
   "metadata": {},
   "outputs": [
    {
     "name": "stdout",
     "output_type": "stream",
     "text": [
      "9 7 5 3 1 "
     ]
    }
   ],
   "source": [
    "N = 11\n",
    "i = 2\n",
    "\n",
    "while i <= N:\n",
    "    print(N - i, end=' ')\n",
    "    i = i + 2"
   ]
  },
  {
   "cell_type": "code",
   "execution_count": null,
   "id": "da3a7027",
   "metadata": {},
   "outputs": [],
   "source": []
  },
  {
   "cell_type": "code",
   "execution_count": 8,
   "id": "d25a2b53",
   "metadata": {},
   "outputs": [
    {
     "name": "stdout",
     "output_type": "stream",
     "text": [
      "1\n"
     ]
    }
   ],
   "source": [
    "N = 10\n",
    "i = 1\n",
    "while i<=N and i%2==1:\n",
    "    print(i)\n",
    "    i=i+1"
   ]
  },
  {
   "cell_type": "code",
   "execution_count": 9,
   "id": "61fcd4b4",
   "metadata": {},
   "outputs": [
    {
     "name": "stdout",
     "output_type": "stream",
     "text": [
      "1\n",
      "3\n",
      "5\n",
      "7\n",
      "9\n"
     ]
    }
   ],
   "source": [
    "N = 10\n",
    "i = 1\n",
    "while i<=N:\n",
    "    if i % 2 == 1:\n",
    "        print(i)\n",
    "    i=i+1"
   ]
  },
  {
   "cell_type": "code",
   "execution_count": null,
   "id": "fd7e80b8",
   "metadata": {},
   "outputs": [],
   "source": []
  }
 ],
 "metadata": {
  "kernelspec": {
   "display_name": "Python 3 (ipykernel)",
   "language": "python",
   "name": "python3"
  },
  "language_info": {
   "codemirror_mode": {
    "name": "ipython",
    "version": 3
   },
   "file_extension": ".py",
   "mimetype": "text/x-python",
   "name": "python",
   "nbconvert_exporter": "python",
   "pygments_lexer": "ipython3",
   "version": "3.9.12"
  }
 },
 "nbformat": 4,
 "nbformat_minor": 5
}
