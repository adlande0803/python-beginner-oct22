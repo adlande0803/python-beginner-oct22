{
 "cells": [
  {
   "cell_type": "markdown",
   "id": "380f0204",
   "metadata": {},
   "source": [
    "# Dictionaries\n",
    "![](https://scaler.com/topics/images/dict-in-python.webp)"
   ]
  },
  {
   "cell_type": "markdown",
   "id": "1f7701d0",
   "metadata": {},
   "source": [
    "- They are used to store data in key-value pair format\n",
    "- The keys are always unique\n",
    "- The values may or may not be unique\n",
    "- Dictionaries use **hashing** to store the data"
   ]
  },
  {
   "cell_type": "code",
   "execution_count": 2,
   "id": "5116396a",
   "metadata": {},
   "outputs": [
    {
     "name": "stdout",
     "output_type": "stream",
     "text": [
      "{} <class 'dict'>\n"
     ]
    }
   ],
   "source": [
    "# Empty dict\n",
    "# d = {}\n",
    "d = dict()\n",
    "print(d, type(d))"
   ]
  },
  {
   "cell_type": "code",
   "execution_count": 3,
   "id": "974a7c15",
   "metadata": {},
   "outputs": [],
   "source": [
    "menu = {\n",
    "    \"Dal Makhani\": 300,\n",
    "    \"Dosa\": 200,\n",
    "    \"Pizza\": 400\n",
    "}"
   ]
  },
  {
   "cell_type": "code",
   "execution_count": 4,
   "id": "d698b241",
   "metadata": {},
   "outputs": [
    {
     "data": {
      "text/plain": [
       "{'Dal Makhani': 300, 'Dosa': 200, 'Pizza': 400}"
      ]
     },
     "execution_count": 4,
     "metadata": {},
     "output_type": "execute_result"
    }
   ],
   "source": [
    "menu"
   ]
  },
  {
   "cell_type": "code",
   "execution_count": null,
   "id": "0d30691b",
   "metadata": {},
   "outputs": [],
   "source": []
  },
  {
   "cell_type": "code",
   "execution_count": 5,
   "id": "03fe598f",
   "metadata": {},
   "outputs": [
    {
     "name": "stdout",
     "output_type": "stream",
     "text": [
      "{5: 'hello', 'ok': 'bye', 0.2: 'hi'} <class 'dict'>\n"
     ]
    }
   ],
   "source": [
    "d = {\n",
    "    5: 'hello',\n",
    "    'ok': 'bye',\n",
    "    0.2: 'hi'\n",
    "}\n",
    "print(d, type(d))"
   ]
  },
  {
   "cell_type": "code",
   "execution_count": null,
   "id": "afd1ca55",
   "metadata": {},
   "outputs": [],
   "source": []
  },
  {
   "cell_type": "code",
   "execution_count": null,
   "id": "d46dfe48",
   "metadata": {},
   "outputs": [],
   "source": []
  },
  {
   "cell_type": "markdown",
   "id": "021a17d2",
   "metadata": {},
   "source": [
    "### Reading values\n",
    "- square brackets\n",
    "- get()"
   ]
  },
  {
   "cell_type": "code",
   "execution_count": 6,
   "id": "1a4efbea",
   "metadata": {},
   "outputs": [],
   "source": [
    "menu = {\n",
    "    \"Dal Makhani\": 300,\n",
    "    \"Dosa\": 200,\n",
    "    \"Pizza\": 400\n",
    "}"
   ]
  },
  {
   "cell_type": "code",
   "execution_count": 7,
   "id": "db8fb1b8",
   "metadata": {},
   "outputs": [
    {
     "name": "stdout",
     "output_type": "stream",
     "text": [
      "200\n"
     ]
    }
   ],
   "source": [
    "print(menu[\"Dosa\"])"
   ]
  },
  {
   "cell_type": "code",
   "execution_count": 8,
   "id": "3faa48c1",
   "metadata": {},
   "outputs": [
    {
     "ename": "KeyError",
     "evalue": "'dosa'",
     "output_type": "error",
     "traceback": [
      "\u001b[0;31m---------------------------------------------------------------------------\u001b[0m",
      "\u001b[0;31mKeyError\u001b[0m                                  Traceback (most recent call last)",
      "\u001b[0;32m/var/folders/jn/1bsrct314hv5xmfm7vrcdrzc0000gn/T/ipykernel_2876/2626796246.py\u001b[0m in \u001b[0;36m<module>\u001b[0;34m\u001b[0m\n\u001b[0;32m----> 1\u001b[0;31m \u001b[0mprint\u001b[0m\u001b[0;34m(\u001b[0m\u001b[0mmenu\u001b[0m\u001b[0;34m[\u001b[0m\u001b[0;34m\"dosa\"\u001b[0m\u001b[0;34m]\u001b[0m\u001b[0;34m)\u001b[0m\u001b[0;34m\u001b[0m\u001b[0;34m\u001b[0m\u001b[0m\n\u001b[0m",
      "\u001b[0;31mKeyError\u001b[0m: 'dosa'"
     ]
    }
   ],
   "source": [
    "print(menu[\"dosa\"])"
   ]
  },
  {
   "cell_type": "code",
   "execution_count": 9,
   "id": "18fa1046",
   "metadata": {},
   "outputs": [
    {
     "name": "stdout",
     "output_type": "stream",
     "text": [
      "200\n"
     ]
    }
   ],
   "source": [
    "print(menu.get(\"Dosa\"))"
   ]
  },
  {
   "cell_type": "code",
   "execution_count": 10,
   "id": "a3010881",
   "metadata": {},
   "outputs": [
    {
     "name": "stdout",
     "output_type": "stream",
     "text": [
      "None\n"
     ]
    }
   ],
   "source": [
    "print(menu.get(\"Pasta\"))"
   ]
  },
  {
   "cell_type": "code",
   "execution_count": null,
   "id": "ec7426fd",
   "metadata": {},
   "outputs": [],
   "source": []
  },
  {
   "cell_type": "code",
   "execution_count": 11,
   "id": "b47124f8",
   "metadata": {},
   "outputs": [
    {
     "name": "stdout",
     "output_type": "stream",
     "text": [
      "{'Dal Makhani': 300, 'Dosa': 200, 'Pizza': 400, None: 5}\n"
     ]
    }
   ],
   "source": [
    "menu[None] = 5\n",
    "print(menu)"
   ]
  },
  {
   "cell_type": "code",
   "execution_count": null,
   "id": "e1190238",
   "metadata": {},
   "outputs": [],
   "source": []
  },
  {
   "cell_type": "code",
   "execution_count": null,
   "id": "c8bf98b8",
   "metadata": {},
   "outputs": [],
   "source": []
  },
  {
   "cell_type": "code",
   "execution_count": 12,
   "id": "5e4057e2",
   "metadata": {},
   "outputs": [],
   "source": [
    "menu = {\n",
    "    \"Dal Makhani\": 300,\n",
    "    \"Dosa\": 200,\n",
    "    \"Pizza\": 400\n",
    "}"
   ]
  },
  {
   "cell_type": "markdown",
   "id": "daa774a8",
   "metadata": {},
   "source": [
    "### Challenge\n",
    "If a dish is in the menu, show its price. Otherwise, chef will charge extra for it. Show the price as 5000."
   ]
  },
  {
   "cell_type": "code",
   "execution_count": 13,
   "id": "c7e1ded3",
   "metadata": {},
   "outputs": [
    {
     "name": "stdout",
     "output_type": "stream",
     "text": [
      "200\n"
     ]
    }
   ],
   "source": [
    "print(menu.get(\"Dosa\", 5000))"
   ]
  },
  {
   "cell_type": "code",
   "execution_count": 14,
   "id": "cfb0b59a",
   "metadata": {},
   "outputs": [
    {
     "name": "stdout",
     "output_type": "stream",
     "text": [
      "5000\n"
     ]
    }
   ],
   "source": [
    "print(menu.get(\"Biryani\", 5000))"
   ]
  },
  {
   "cell_type": "code",
   "execution_count": 15,
   "id": "9b0d37ab",
   "metadata": {},
   "outputs": [
    {
     "name": "stdout",
     "output_type": "stream",
     "text": [
      "{'Dal Makhani': 300, 'Dosa': 200, 'Pizza': 400}\n"
     ]
    }
   ],
   "source": [
    "print(menu)"
   ]
  },
  {
   "cell_type": "code",
   "execution_count": null,
   "id": "7f94cc4e",
   "metadata": {},
   "outputs": [],
   "source": []
  },
  {
   "cell_type": "code",
   "execution_count": null,
   "id": "74aea22b",
   "metadata": {},
   "outputs": [],
   "source": []
  },
  {
   "cell_type": "code",
   "execution_count": null,
   "id": "24f34354",
   "metadata": {},
   "outputs": [],
   "source": []
  },
  {
   "cell_type": "code",
   "execution_count": null,
   "id": "a7bc9255",
   "metadata": {},
   "outputs": [],
   "source": []
  },
  {
   "cell_type": "markdown",
   "id": "a33270bf",
   "metadata": {},
   "source": [
    "## Updation and Addition\n",
    "- Updating/Adding one entry - using square brackets\n",
    "- Updating/Adding multiple entries - update()"
   ]
  },
  {
   "cell_type": "code",
   "execution_count": 16,
   "id": "ce980893",
   "metadata": {},
   "outputs": [],
   "source": [
    "avenger = {\n",
    "    \"name\": \"Thor\",\n",
    "    \"age\": 1000,\n",
    "    \"weapons\": ['Mjolnir', 'Stormbreaker']\n",
    "}"
   ]
  },
  {
   "cell_type": "code",
   "execution_count": 17,
   "id": "ca6630a0",
   "metadata": {},
   "outputs": [
    {
     "name": "stdout",
     "output_type": "stream",
     "text": [
      "{'name': 'Thor Odinson', 'age': 1000, 'weapons': ['Mjolnir', 'Stormbreaker']}\n"
     ]
    }
   ],
   "source": [
    "avenger['name'] = 'Thor Odinson'\n",
    "print(avenger)"
   ]
  },
  {
   "cell_type": "code",
   "execution_count": 18,
   "id": "ebab505c",
   "metadata": {},
   "outputs": [
    {
     "name": "stdout",
     "output_type": "stream",
     "text": [
      "{'name': 'Thor Odinson', 'age': 1000, 'weapons': ['Mjolnir', 'Stormbreaker'], 'girlfriend': 'Jane Foster'}\n"
     ]
    }
   ],
   "source": [
    "avenger['girlfriend'] = 'Jane Foster'\n",
    "print(avenger)"
   ]
  },
  {
   "cell_type": "code",
   "execution_count": null,
   "id": "e5d2b469",
   "metadata": {},
   "outputs": [],
   "source": []
  },
  {
   "cell_type": "code",
   "execution_count": 19,
   "id": "a9be0cad",
   "metadata": {},
   "outputs": [
    {
     "name": "stdout",
     "output_type": "stream",
     "text": [
      "{'name': 'Thor Odinson', 'age': 1000, 'weapons': ['Mjolnir', 'Stormbreaker', 'Thunder'], 'girlfriend': 'Jane Foster'}\n"
     ]
    }
   ],
   "source": [
    "avenger['weapons'].append(\"Thunder\")\n",
    "print(avenger)"
   ]
  },
  {
   "cell_type": "code",
   "execution_count": null,
   "id": "c279a3d3",
   "metadata": {},
   "outputs": [],
   "source": []
  },
  {
   "cell_type": "code",
   "execution_count": null,
   "id": "0abf4374",
   "metadata": {},
   "outputs": [],
   "source": [
    "# Bulk update"
   ]
  },
  {
   "cell_type": "code",
   "execution_count": 20,
   "id": "dce9a62d",
   "metadata": {},
   "outputs": [],
   "source": [
    "avenger = {\n",
    "    \"name\": \"Thor\",\n",
    "    \"age\": 1000,\n",
    "}"
   ]
  },
  {
   "cell_type": "code",
   "execution_count": 21,
   "id": "e0539ffe",
   "metadata": {},
   "outputs": [
    {
     "name": "stdout",
     "output_type": "stream",
     "text": [
      "{'name': 'Thor', 'age': 1100, 'weapon': 'Mjolnir', 'best friend': 'Heimdall'}\n"
     ]
    }
   ],
   "source": [
    "avenger.update({\n",
    "    \"age\": 1100,\n",
    "    \"weapon\": \"Mjolnir\",\n",
    "    'best friend': 'Heimdall'\n",
    "})\n",
    "print(avenger)"
   ]
  },
  {
   "cell_type": "code",
   "execution_count": null,
   "id": "6d75c22a",
   "metadata": {},
   "outputs": [],
   "source": []
  },
  {
   "cell_type": "code",
   "execution_count": null,
   "id": "3022b462",
   "metadata": {},
   "outputs": [],
   "source": []
  },
  {
   "cell_type": "code",
   "execution_count": null,
   "id": "8574e84c",
   "metadata": {},
   "outputs": [],
   "source": []
  },
  {
   "cell_type": "markdown",
   "id": "fb5317f9",
   "metadata": {},
   "source": [
    "#### Quiz 1\n",
    "What does the following Python code output?\n",
    "```py\n",
    "words = {\n",
    "\"is\": 2,\n",
    "\"hello\": 3,\n",
    "\"the\": 4\n",
    "}\n",
    "this_count = words[\"this\"]\n",
    "\n",
    "print(this_count)\n",
    "```"
   ]
  },
  {
   "cell_type": "code",
   "execution_count": 22,
   "id": "b45fa922",
   "metadata": {},
   "outputs": [
    {
     "ename": "KeyError",
     "evalue": "'this'",
     "output_type": "error",
     "traceback": [
      "\u001b[0;31m---------------------------------------------------------------------------\u001b[0m",
      "\u001b[0;31mKeyError\u001b[0m                                  Traceback (most recent call last)",
      "\u001b[0;32m/var/folders/jn/1bsrct314hv5xmfm7vrcdrzc0000gn/T/ipykernel_2876/275607736.py\u001b[0m in \u001b[0;36m<module>\u001b[0;34m\u001b[0m\n\u001b[1;32m      4\u001b[0m     \u001b[0;34m\"the\"\u001b[0m\u001b[0;34m:\u001b[0m \u001b[0;36m4\u001b[0m\u001b[0;34m\u001b[0m\u001b[0;34m\u001b[0m\u001b[0m\n\u001b[1;32m      5\u001b[0m }\n\u001b[0;32m----> 6\u001b[0;31m \u001b[0mthis_count\u001b[0m \u001b[0;34m=\u001b[0m \u001b[0mwords\u001b[0m\u001b[0;34m[\u001b[0m\u001b[0;34m\"this\"\u001b[0m\u001b[0;34m]\u001b[0m\u001b[0;34m\u001b[0m\u001b[0;34m\u001b[0m\u001b[0m\n\u001b[0m\u001b[1;32m      7\u001b[0m \u001b[0;34m\u001b[0m\u001b[0m\n\u001b[1;32m      8\u001b[0m \u001b[0mprint\u001b[0m\u001b[0;34m(\u001b[0m\u001b[0mthis_count\u001b[0m\u001b[0;34m)\u001b[0m\u001b[0;34m\u001b[0m\u001b[0;34m\u001b[0m\u001b[0m\n",
      "\u001b[0;31mKeyError\u001b[0m: 'this'"
     ]
    }
   ],
   "source": [
    "words = {\n",
    "    \"is\": 2,\n",
    "    \"hello\": 3,\n",
    "    \"the\": 4\n",
    "}\n",
    "this_count = words[\"this\"]\n",
    "\n",
    "print(this_count)"
   ]
  },
  {
   "cell_type": "code",
   "execution_count": 23,
   "id": "4a5d10fa",
   "metadata": {},
   "outputs": [
    {
     "name": "stdout",
     "output_type": "stream",
     "text": [
      "None\n"
     ]
    }
   ],
   "source": [
    "words = {\n",
    "    \"is\": 2,\n",
    "    \"hello\": 3,\n",
    "    \"the\": 4\n",
    "}\n",
    "this_count = words.get(\"this\")\n",
    "print(this_count)"
   ]
  },
  {
   "cell_type": "code",
   "execution_count": null,
   "id": "61b0bcf7",
   "metadata": {},
   "outputs": [],
   "source": []
  },
  {
   "cell_type": "code",
   "execution_count": null,
   "id": "ab3fc318",
   "metadata": {},
   "outputs": [],
   "source": []
  },
  {
   "cell_type": "markdown",
   "id": "dafa7cc7",
   "metadata": {},
   "source": [
    "#### Quiz 2\n",
    "What is the output of the following code?\n",
    "```py\n",
    "d = {\"a\": 1, \"b\": 2, \"c\": 3}\n",
    "d['d'] = 55\n",
    "\n",
    "print(d['d'])\n",
    "```"
   ]
  },
  {
   "cell_type": "code",
   "execution_count": 24,
   "id": "713b1190",
   "metadata": {},
   "outputs": [
    {
     "name": "stdout",
     "output_type": "stream",
     "text": [
      "55\n"
     ]
    }
   ],
   "source": [
    "d = {\"a\": 1, \"b\": 2, \"c\": 3}\n",
    "d['d'] = 55\n",
    "\n",
    "print(d['d'])"
   ]
  },
  {
   "cell_type": "code",
   "execution_count": null,
   "id": "d8ca0345",
   "metadata": {},
   "outputs": [],
   "source": []
  },
  {
   "cell_type": "code",
   "execution_count": 26,
   "id": "420a955f",
   "metadata": {},
   "outputs": [],
   "source": [
    "d = {\n",
    "    1: \"A\",\n",
    "    2: \"B\",\n",
    "    3: \"C\",\n",
    "    4: \"D\",\n",
    "}"
   ]
  },
  {
   "cell_type": "code",
   "execution_count": 27,
   "id": "11f6e730",
   "metadata": {},
   "outputs": [
    {
     "data": {
      "text/plain": [
       "{1: 'A', 2: 'B', 3: 'C', 4: 'D'}"
      ]
     },
     "execution_count": 27,
     "metadata": {},
     "output_type": "execute_result"
    }
   ],
   "source": [
    "d"
   ]
  },
  {
   "cell_type": "code",
   "execution_count": 28,
   "id": "16558b86",
   "metadata": {},
   "outputs": [
    {
     "name": "stdout",
     "output_type": "stream",
     "text": [
      "{1: 'A', 2: 'B', 3: 'C', 4: 'D', 26: 'z'}\n"
     ]
    }
   ],
   "source": [
    "d[26] = \"z\"\n",
    "print(d)"
   ]
  },
  {
   "cell_type": "code",
   "execution_count": null,
   "id": "908f0a14",
   "metadata": {},
   "outputs": [],
   "source": []
  },
  {
   "cell_type": "markdown",
   "id": "274813bf",
   "metadata": {},
   "source": [
    "### Are Dictionaries ordered ? \n",
    "Yes and No.\n",
    "- In Python 3.7 and above -> Ordered Dictionaries (It will remember the order of insertion)\n",
    "- In Python 3.6 or below -> Unordered Dictionaries"
   ]
  },
  {
   "cell_type": "code",
   "execution_count": null,
   "id": "05406caf",
   "metadata": {},
   "outputs": [],
   "source": [
    "# Python 3.9"
   ]
  },
  {
   "cell_type": "code",
   "execution_count": null,
   "id": "3293c4c5",
   "metadata": {},
   "outputs": [],
   "source": []
  },
  {
   "cell_type": "code",
   "execution_count": null,
   "id": "c3625034",
   "metadata": {},
   "outputs": [],
   "source": []
  },
  {
   "cell_type": "markdown",
   "id": "36b0ce44",
   "metadata": {},
   "source": [
    "#### Quiz 3\n",
    "What is the output of the following code?\n",
    "```py\n",
    "d = {\"a\": 1, \"b\": 2, \"c\": 3}\n",
    "print(d.get(\"a\", 0))\n",
    "print(d.get(\"b\", 0))\n",
    "print(d.get(\"c\", 0))\n",
    "print(d.get(\"d\", 0))\n",
    "```"
   ]
  },
  {
   "cell_type": "code",
   "execution_count": 29,
   "id": "da92951c",
   "metadata": {},
   "outputs": [
    {
     "name": "stdout",
     "output_type": "stream",
     "text": [
      "1\n",
      "2\n",
      "3\n",
      "0\n"
     ]
    }
   ],
   "source": [
    "d = {\"a\": 1, \"b\": 2, \"c\": 3}\n",
    "print(d.get(\"a\", 0)) # 1\n",
    "print(d.get(\"b\", 0)) # 2\n",
    "print(d.get(\"c\", 0)) # 3\n",
    "print(d.get(\"d\", 0)) # 0 (Default)"
   ]
  },
  {
   "cell_type": "code",
   "execution_count": null,
   "id": "956aeb3d",
   "metadata": {},
   "outputs": [],
   "source": []
  },
  {
   "cell_type": "code",
   "execution_count": null,
   "id": "d3d74ef6",
   "metadata": {},
   "outputs": [],
   "source": []
  },
  {
   "cell_type": "code",
   "execution_count": null,
   "id": "d60348d0",
   "metadata": {},
   "outputs": [],
   "source": []
  },
  {
   "cell_type": "markdown",
   "id": "6919262f",
   "metadata": {},
   "source": [
    "## Removing entries\n",
    "- pop()\n",
    "- del"
   ]
  },
  {
   "cell_type": "code",
   "execution_count": 32,
   "id": "42af5d47",
   "metadata": {},
   "outputs": [],
   "source": [
    "menu = {\n",
    "    \"Dal Makhani\": 300,\n",
    "    \"Dosa\": 200,\n",
    "    \"Pizza\": 400\n",
    "}"
   ]
  },
  {
   "cell_type": "code",
   "execution_count": null,
   "id": "1e528026",
   "metadata": {},
   "outputs": [],
   "source": [
    "# Your Italian chef is leaving the restaurant.\n",
    "# You have to remove \"Pizza\" from your menu."
   ]
  },
  {
   "cell_type": "code",
   "execution_count": 33,
   "id": "b336a5a2",
   "metadata": {},
   "outputs": [
    {
     "name": "stdout",
     "output_type": "stream",
     "text": [
      "{'Dal Makhani': 300, 'Dosa': 200}\n",
      "Pizza price was 400\n"
     ]
    }
   ],
   "source": [
    "pizzaPrice = menu.pop(\"Pizza\")\n",
    "print(menu)\n",
    "print(\"Pizza price was\", pizzaPrice)"
   ]
  },
  {
   "cell_type": "code",
   "execution_count": null,
   "id": "5656b7ef",
   "metadata": {},
   "outputs": [],
   "source": []
  },
  {
   "cell_type": "code",
   "execution_count": 34,
   "id": "ac65da43",
   "metadata": {},
   "outputs": [
    {
     "name": "stdout",
     "output_type": "stream",
     "text": [
      "{'Dal Makhani': 300, 'Dosa': 200}\n"
     ]
    }
   ],
   "source": [
    "menu = {\n",
    "    \"Dal Makhani\": 300,\n",
    "    \"Dosa\": 200,\n",
    "    \"Pizza\": 400\n",
    "}\n",
    "\n",
    "del menu['Pizza']\n",
    "print(menu)"
   ]
  },
  {
   "cell_type": "code",
   "execution_count": null,
   "id": "6c13dc0a",
   "metadata": {},
   "outputs": [],
   "source": []
  },
  {
   "cell_type": "code",
   "execution_count": null,
   "id": "98d98091",
   "metadata": {},
   "outputs": [],
   "source": []
  },
  {
   "cell_type": "markdown",
   "id": "df68466e",
   "metadata": {},
   "source": [
    "## keys() and values()"
   ]
  },
  {
   "cell_type": "code",
   "execution_count": 35,
   "id": "bf0190ea",
   "metadata": {},
   "outputs": [],
   "source": [
    "menu = {\n",
    "    \"Dal Makhani\": 300,\n",
    "    \"Dosa\": 200,\n",
    "    \"Pizza\": 400,\n",
    "    \"Pasta\": 350,\n",
    "    \"Idli\": 50\n",
    "}"
   ]
  },
  {
   "cell_type": "code",
   "execution_count": 38,
   "id": "e79853fb",
   "metadata": {},
   "outputs": [
    {
     "name": "stdout",
     "output_type": "stream",
     "text": [
      "dict_keys(['Dal Makhani', 'Dosa', 'Pizza', 'Pasta', 'Idli']) <class 'dict_keys'>\n"
     ]
    }
   ],
   "source": [
    "k = menu.keys()\n",
    "print(k, type(k))"
   ]
  },
  {
   "cell_type": "code",
   "execution_count": 41,
   "id": "892cfa81",
   "metadata": {},
   "outputs": [
    {
     "name": "stdout",
     "output_type": "stream",
     "text": [
      "Dal Makhani, Dosa, Pizza, Pasta, Idli, "
     ]
    }
   ],
   "source": [
    "for x in k:\n",
    "    print(x, end=', ')"
   ]
  },
  {
   "cell_type": "code",
   "execution_count": null,
   "id": "9caa43e6",
   "metadata": {},
   "outputs": [],
   "source": []
  },
  {
   "cell_type": "code",
   "execution_count": 39,
   "id": "e2a69cf8",
   "metadata": {},
   "outputs": [
    {
     "name": "stdout",
     "output_type": "stream",
     "text": [
      "dict_values([300, 200, 400, 350, 50]) <class 'dict_values'>\n"
     ]
    }
   ],
   "source": [
    "v = menu.values()\n",
    "print(v, type(v))"
   ]
  },
  {
   "cell_type": "code",
   "execution_count": 42,
   "id": "ad7979ed",
   "metadata": {},
   "outputs": [
    {
     "name": "stdout",
     "output_type": "stream",
     "text": [
      "300, 200, 400, 350, 50, "
     ]
    }
   ],
   "source": [
    "for x in v:\n",
    "    print(x, end=', ')"
   ]
  },
  {
   "cell_type": "code",
   "execution_count": null,
   "id": "28e56531",
   "metadata": {},
   "outputs": [],
   "source": []
  },
  {
   "cell_type": "code",
   "execution_count": 43,
   "id": "6eefa316",
   "metadata": {},
   "outputs": [
    {
     "name": "stdout",
     "output_type": "stream",
     "text": [
      "Dal Makhani, Dosa, Pizza, Pasta, Idli, "
     ]
    }
   ],
   "source": [
    "menu = {\n",
    "    \"Dal Makhani\": 300,\n",
    "    \"Dosa\": 200,\n",
    "    \"Pizza\": 400,\n",
    "    \"Pasta\": 350,\n",
    "    \"Idli\": 50\n",
    "}\n",
    "\n",
    "# By default, iterating over a dictionary gives you keys\n",
    "for x in menu:\n",
    "    print(x, end=', ')"
   ]
  },
  {
   "cell_type": "code",
   "execution_count": null,
   "id": "734cc801",
   "metadata": {},
   "outputs": [],
   "source": []
  },
  {
   "cell_type": "code",
   "execution_count": null,
   "id": "e9b866a0",
   "metadata": {},
   "outputs": [],
   "source": []
  },
  {
   "cell_type": "markdown",
   "id": "0a92a43f",
   "metadata": {},
   "source": [
    "#### Quiz 4\n",
    "```py\n",
    "a = {1: 1, 2: 4, 3: 9}\n",
    "\n",
    "for x in a:\n",
    "  print(a[x], end=' ')\n",
    "```"
   ]
  },
  {
   "cell_type": "code",
   "execution_count": 45,
   "id": "59d5bc53",
   "metadata": {},
   "outputs": [
    {
     "name": "stdout",
     "output_type": "stream",
     "text": [
      "1 4 9 "
     ]
    }
   ],
   "source": [
    "a = {1: 1, 2: 4, 3: 9}\n",
    "\n",
    "for x in a:\n",
    "    print(a[x], end=' ')"
   ]
  },
  {
   "cell_type": "code",
   "execution_count": 44,
   "id": "4ff6dd06",
   "metadata": {},
   "outputs": [],
   "source": [
    "# Iterating over keys\n",
    "# x = 1, a[1] => 1\n",
    "# x = 2, a[2] => 4\n",
    "# x = 3, a[3] => 9"
   ]
  },
  {
   "cell_type": "code",
   "execution_count": null,
   "id": "065027ec",
   "metadata": {},
   "outputs": [],
   "source": []
  },
  {
   "cell_type": "code",
   "execution_count": null,
   "id": "1c225f32",
   "metadata": {},
   "outputs": [],
   "source": []
  },
  {
   "cell_type": "markdown",
   "id": "8011b0a6",
   "metadata": {},
   "source": [
    "### items()"
   ]
  },
  {
   "cell_type": "code",
   "execution_count": 46,
   "id": "da92915c",
   "metadata": {},
   "outputs": [
    {
     "name": "stdout",
     "output_type": "stream",
     "text": [
      "dict_items([('Dal Makhani', 300), ('Dosa', 200), ('Pizza', 400), ('Pasta', 350), ('Idli', 50)])\n"
     ]
    }
   ],
   "source": [
    "menu = {\n",
    "    \"Dal Makhani\": 300,\n",
    "    \"Dosa\": 200,\n",
    "    \"Pizza\": 400,\n",
    "    \"Pasta\": 350,\n",
    "    \"Idli\": 50\n",
    "}\n",
    "\n",
    "print(menu.items())"
   ]
  },
  {
   "cell_type": "code",
   "execution_count": 48,
   "id": "0a1fbab9",
   "metadata": {},
   "outputs": [
    {
     "name": "stdout",
     "output_type": "stream",
     "text": [
      "Key =  Dal Makhani\n",
      "Value =  300\n",
      "\n",
      "Key =  Dosa\n",
      "Value =  200\n",
      "\n",
      "Key =  Pizza\n",
      "Value =  400\n",
      "\n",
      "Key =  Pasta\n",
      "Value =  350\n",
      "\n",
      "Key =  Idli\n",
      "Value =  50\n",
      "\n"
     ]
    }
   ],
   "source": [
    "for k, v in menu.items():\n",
    "    print(\"Key = \", k)\n",
    "    print(\"Value = \", v)\n",
    "    print()"
   ]
  },
  {
   "cell_type": "code",
   "execution_count": null,
   "id": "02b481c8",
   "metadata": {},
   "outputs": [],
   "source": []
  },
  {
   "cell_type": "code",
   "execution_count": null,
   "id": "8b4b99f4",
   "metadata": {},
   "outputs": [],
   "source": []
  },
  {
   "cell_type": "markdown",
   "id": "83c23a65",
   "metadata": {},
   "source": [
    "### How to check if a key is present in a dictionary ? "
   ]
  },
  {
   "cell_type": "code",
   "execution_count": 49,
   "id": "c3604689",
   "metadata": {},
   "outputs": [
    {
     "name": "stdout",
     "output_type": "stream",
     "text": [
      "True\n"
     ]
    }
   ],
   "source": [
    "menu = {\n",
    "    \"Dal Makhani\": 300,\n",
    "    \"Dosa\": 200,\n",
    "    \"Pizza\": 400,\n",
    "    \"Pasta\": 350,\n",
    "    \"Idli\": 50\n",
    "}\n",
    "\n",
    "print(\"Dosa\" in menu)"
   ]
  },
  {
   "cell_type": "code",
   "execution_count": 50,
   "id": "7074af01",
   "metadata": {},
   "outputs": [
    {
     "name": "stdout",
     "output_type": "stream",
     "text": [
      "False\n"
     ]
    }
   ],
   "source": [
    "print(\"Biryani\" in menu)"
   ]
  },
  {
   "cell_type": "code",
   "execution_count": 51,
   "id": "798aa06d",
   "metadata": {},
   "outputs": [
    {
     "name": "stdout",
     "output_type": "stream",
     "text": [
      "Dish is present\n"
     ]
    }
   ],
   "source": [
    "food = \"Pizza\"\n",
    "\n",
    "if food in menu:\n",
    "    print(\"Dish is present\")\n",
    "else:\n",
    "    print(\"Out of menu\")"
   ]
  },
  {
   "cell_type": "code",
   "execution_count": null,
   "id": "5f7d9cc8",
   "metadata": {},
   "outputs": [],
   "source": []
  },
  {
   "cell_type": "code",
   "execution_count": null,
   "id": "db53d9dc",
   "metadata": {},
   "outputs": [],
   "source": []
  },
  {
   "cell_type": "code",
   "execution_count": null,
   "id": "09a6a14a",
   "metadata": {},
   "outputs": [],
   "source": []
  },
  {
   "cell_type": "code",
   "execution_count": null,
   "id": "9b42aa61",
   "metadata": {},
   "outputs": [],
   "source": []
  },
  {
   "cell_type": "code",
   "execution_count": null,
   "id": "b2961f8a",
   "metadata": {},
   "outputs": [],
   "source": []
  },
  {
   "cell_type": "markdown",
   "id": "e7869812",
   "metadata": {},
   "source": [
    "#### Frequency Map\n",
    "Given a list of numbers, print the frequencies of all unique values in it (in any order)\n",
    "\n",
    "\n",
    "Input:\n",
    "```\n",
    "[5, 5, 2, 5, 2, 6, 1, 3]\n",
    "```\n",
    "\n",
    "Output:\n",
    "```\n",
    "5 -> 3\n",
    "2 -> 2\n",
    "6 -> 1\n",
    "1 -> 1\n",
    "3 -> 1\n",
    "(Order does not matter)\n",
    "```"
   ]
  },
  {
   "cell_type": "code",
   "execution_count": 52,
   "id": "d119d34f",
   "metadata": {},
   "outputs": [
    {
     "name": "stdout",
     "output_type": "stream",
     "text": [
      "{5: 3, 2: 2, 6: 1, 1: 1, 3: 1}\n"
     ]
    }
   ],
   "source": [
    "a = [5, 5, 2, 5, 2, 6, 1, 3]\n",
    "\n",
    "freq = {}\n",
    "\n",
    "# Iterate over the list\n",
    "for x in a:\n",
    "    if x in freq:\n",
    "        freq[x] += 1\n",
    "    else:\n",
    "        freq[x] = 1\n",
    "        \n",
    "print(freq)"
   ]
  },
  {
   "cell_type": "code",
   "execution_count": 53,
   "id": "dd48a688",
   "metadata": {},
   "outputs": [
    {
     "name": "stdout",
     "output_type": "stream",
     "text": [
      "5 -> 3\n",
      "2 -> 2\n",
      "6 -> 1\n",
      "1 -> 1\n",
      "3 -> 1\n"
     ]
    }
   ],
   "source": [
    "for k, v in freq.items():\n",
    "    print(k, '->', v)"
   ]
  },
  {
   "cell_type": "code",
   "execution_count": null,
   "id": "781749e8",
   "metadata": {},
   "outputs": [],
   "source": []
  },
  {
   "cell_type": "markdown",
   "id": "36020bd9",
   "metadata": {},
   "source": [
    "# Bonus Reading Material\n",
    "- Dictionary in Python - https://www.scaler.com/topics/python/dictionary-in-python/\n",
    "- dict() in Python - https://www.scaler.com/topics/dict-in-python/\n",
    "- What is Dictionary in Python? - https://www.scaler.com/topics/what-is-dictionary-in-python/\n",
    "- Python Dictionary values() - https://www.scaler.com/topics/python-dictionary-values/\n",
    "- Python Dictionary Keys() Method - https://www.scaler.com/topics/python-dictionary-keys/\n",
    "- What is Ordered Dictionary Python in Python? - https://www.scaler.com/topics/ordered-dictionary-python/\n",
    "- What is Nested Dictionary in Python? - https://www.scaler.com/topics/nested-dictionary-in-python/\n",
    "- Sort Dictionary by Value in Python - https://www.scaler.com/topics/sort-dictionary-by-value-in-python/\n",
    "- fromkeys() in Python - https://www.scaler.com/topics/fromkeys-in-python/\n",
    "- How to Convert a List to Dictionary in Python? - https://www.scaler.com/topics/list-to-dictionary-python/\n",
    "- List of Dictionaries in Python - https://www.scaler.com/topics/list-of-dictionaries-in-python/\n",
    "- What is the Difference Between List and Dictionary in Python? - https://www.scaler.com/topics/difference-between-list-and-dictionary-in-python/\n",
    "- Differences between List, Tuple, Set and Dictionary in Python - https://www.scaler.com/topics/python/difference-between-dictionary-list-tuple-and-set-in-python/"
   ]
  },
  {
   "cell_type": "code",
   "execution_count": null,
   "id": "d2f1de6f",
   "metadata": {},
   "outputs": [],
   "source": []
  },
  {
   "cell_type": "code",
   "execution_count": null,
   "id": "e38627ea",
   "metadata": {},
   "outputs": [],
   "source": []
  },
  {
   "cell_type": "code",
   "execution_count": null,
   "id": "3f9a3553",
   "metadata": {},
   "outputs": [],
   "source": []
  },
  {
   "cell_type": "markdown",
   "id": "801a011b",
   "metadata": {},
   "source": [
    "# Doubts"
   ]
  },
  {
   "cell_type": "code",
   "execution_count": 62,
   "id": "7363250b",
   "metadata": {},
   "outputs": [],
   "source": [
    "fruits = {\n",
    "    \"Apple\": \"Red\",\n",
    "    \"Orange\": \"Orange\",\n",
    "    \"Guava\": \"Green\",\n",
    "    \"Mango\": \"Yellow\",\n",
    "    \"Grapes\": \"Green\",\n",
    "}\n",
    "# fruit -> color"
   ]
  },
  {
   "cell_type": "code",
   "execution_count": null,
   "id": "35153a22",
   "metadata": {},
   "outputs": [],
   "source": [
    "# Create a reverse dictionary\n",
    "# color -> fruit"
   ]
  },
  {
   "cell_type": "code",
   "execution_count": 63,
   "id": "e36a2c72",
   "metadata": {},
   "outputs": [
    {
     "name": "stdout",
     "output_type": "stream",
     "text": [
      "{'Red': 'Apple', 'Orange': 'Orange', 'Green': 'Grapes', 'Yellow': 'Mango'}\n"
     ]
    }
   ],
   "source": [
    "rev_fruits = {}\n",
    "\n",
    "for k, v in fruits.items():\n",
    "    rev_fruits[v] = k\n",
    "    \n",
    "print(rev_fruits)"
   ]
  },
  {
   "cell_type": "code",
   "execution_count": null,
   "id": "9e01e682",
   "metadata": {},
   "outputs": [],
   "source": []
  },
  {
   "cell_type": "code",
   "execution_count": 64,
   "id": "af842950",
   "metadata": {},
   "outputs": [
    {
     "name": "stdout",
     "output_type": "stream",
     "text": [
      "{5: 3, 2: 2, 6: 1, 1: 1, 3: 1}\n"
     ]
    }
   ],
   "source": [
    "a = [5, 5, 2, 5, 2, 6, 1, 3]\n",
    "\n",
    "freq = {}\n",
    "\n",
    "# Iterate over the list\n",
    "for x in a:\n",
    "    if x not in freq:\n",
    "        freq[x] = 1\n",
    "    else:\n",
    "        freq[x] += 1\n",
    "        \n",
    "print(freq)"
   ]
  },
  {
   "cell_type": "code",
   "execution_count": 1,
   "id": "7864ce6c",
   "metadata": {},
   "outputs": [
    {
     "name": "stdout",
     "output_type": "stream",
     "text": [
      "{5: 3, 2: 2, 6: 1, 1: 1, 3: 1}\n"
     ]
    }
   ],
   "source": [
    "a = [5, 5, 2, 5, 2, 6, 1, 3]\n",
    "\n",
    "freq = {}\n",
    "\n",
    "# Iterate over the list\n",
    "i = 0\n",
    "while i < len(a):\n",
    "    x = a[i]\n",
    "    i += 1\n",
    "    if x not in freq:\n",
    "        freq[x] = 1\n",
    "    else:\n",
    "        freq[x] += 1\n",
    "        \n",
    "print(freq)"
   ]
  },
  {
   "cell_type": "code",
   "execution_count": null,
   "id": "a0f8b877",
   "metadata": {},
   "outputs": [],
   "source": []
  }
 ],
 "metadata": {
  "kernelspec": {
   "display_name": "Python 3 (ipykernel)",
   "language": "python",
   "name": "python3"
  },
  "language_info": {
   "codemirror_mode": {
    "name": "ipython",
    "version": 3
   },
   "file_extension": ".py",
   "mimetype": "text/x-python",
   "name": "python",
   "nbconvert_exporter": "python",
   "pygments_lexer": "ipython3",
   "version": "3.9.12"
  }
 },
 "nbformat": 4,
 "nbformat_minor": 5
}
