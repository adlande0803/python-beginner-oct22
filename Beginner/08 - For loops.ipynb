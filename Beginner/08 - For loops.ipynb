{
 "cells": [
  {
   "cell_type": "markdown",
   "id": "3c590041",
   "metadata": {},
   "source": [
    "# Recap"
   ]
  },
  {
   "cell_type": "code",
   "execution_count": null,
   "id": "723b12df",
   "metadata": {},
   "outputs": [],
   "source": []
  },
  {
   "cell_type": "markdown",
   "id": "bdca53ab",
   "metadata": {},
   "source": [
    "#### Quiz 1\n",
    "```py\n",
    "i = 0\n",
    "j = 0\n",
    "while i <= 2:\n",
    "    if j%2:\n",
    "        j += 1\n",
    "    print(i, \":\", j, end=\" \")\n",
    "    i+=1\n",
    "    j+=1\n",
    "```"
   ]
  },
  {
   "cell_type": "code",
   "execution_count": 1,
   "id": "ee2eb784",
   "metadata": {},
   "outputs": [
    {
     "name": "stdout",
     "output_type": "stream",
     "text": [
      "0 : 0 1 : 2 2 : 4 "
     ]
    }
   ],
   "source": [
    "i = 0\n",
    "j = 0\n",
    "while i <= 2:\n",
    "    if j%2:\n",
    "        j += 1\n",
    "    print(i, \":\", j, end=\" \")\n",
    "    i+=1\n",
    "    j+=1"
   ]
  },
  {
   "cell_type": "code",
   "execution_count": null,
   "id": "f5a1f2ad",
   "metadata": {},
   "outputs": [],
   "source": []
  },
  {
   "cell_type": "markdown",
   "id": "05fa1acf",
   "metadata": {},
   "source": [
    "## Ranges\n",
    "![](https://scaler.com/topics/images/range-function-in-python.webp)"
   ]
  },
  {
   "cell_type": "code",
   "execution_count": null,
   "id": "b69ab4ab",
   "metadata": {},
   "outputs": [],
   "source": []
  },
  {
   "cell_type": "markdown",
   "id": "5cd74765",
   "metadata": {},
   "source": [
    "#### Quiz 2\n",
    "How many numbers are included in the below range?  \n",
    "`range(11)`"
   ]
  },
  {
   "cell_type": "code",
   "execution_count": 2,
   "id": "056e019f",
   "metadata": {},
   "outputs": [
    {
     "name": "stdout",
     "output_type": "stream",
     "text": [
      "[0, 1, 2, 3, 4, 5, 6, 7, 8, 9, 10]\n"
     ]
    }
   ],
   "source": [
    "print(list(range(11)))"
   ]
  },
  {
   "cell_type": "code",
   "execution_count": null,
   "id": "c72ea9e2",
   "metadata": {},
   "outputs": [],
   "source": []
  },
  {
   "cell_type": "code",
   "execution_count": 3,
   "id": "3d601522",
   "metadata": {},
   "outputs": [
    {
     "name": "stdout",
     "output_type": "stream",
     "text": [
      "[0, 1, 2, 3, 4]\n"
     ]
    }
   ],
   "source": [
    "print(list(range(5)))"
   ]
  },
  {
   "cell_type": "code",
   "execution_count": null,
   "id": "893eb0aa",
   "metadata": {},
   "outputs": [],
   "source": []
  },
  {
   "cell_type": "code",
   "execution_count": null,
   "id": "e9dc2904",
   "metadata": {},
   "outputs": [],
   "source": []
  },
  {
   "cell_type": "code",
   "execution_count": null,
   "id": "06cd7c31",
   "metadata": {},
   "outputs": [],
   "source": []
  },
  {
   "cell_type": "markdown",
   "id": "21b06894",
   "metadata": {},
   "source": [
    "#### Quiz 3\n",
    "```py\n",
    "print(list(range(7, 8)))\n",
    "```"
   ]
  },
  {
   "cell_type": "code",
   "execution_count": 4,
   "id": "ab3f3048",
   "metadata": {},
   "outputs": [
    {
     "name": "stdout",
     "output_type": "stream",
     "text": [
      "[7]\n"
     ]
    }
   ],
   "source": [
    "print(list(range(7, 8)))"
   ]
  },
  {
   "cell_type": "code",
   "execution_count": null,
   "id": "06273534",
   "metadata": {},
   "outputs": [],
   "source": []
  },
  {
   "cell_type": "markdown",
   "id": "9994972c",
   "metadata": {},
   "source": [
    "#### Quiz 4\n",
    "```py\n",
    "print(list(range(8, 8)))\n",
    "```"
   ]
  },
  {
   "cell_type": "code",
   "execution_count": 5,
   "id": "94fb281e",
   "metadata": {},
   "outputs": [
    {
     "name": "stdout",
     "output_type": "stream",
     "text": [
      "[]\n"
     ]
    }
   ],
   "source": [
    "print(list(range(8, 8)))"
   ]
  },
  {
   "cell_type": "code",
   "execution_count": null,
   "id": "d8f9b218",
   "metadata": {},
   "outputs": [],
   "source": []
  },
  {
   "cell_type": "markdown",
   "id": "98ff328b",
   "metadata": {},
   "source": [
    "## Third parameter in range()"
   ]
  },
  {
   "cell_type": "code",
   "execution_count": null,
   "id": "144ee6ea",
   "metadata": {},
   "outputs": [],
   "source": []
  },
  {
   "cell_type": "code",
   "execution_count": null,
   "id": "1161e911",
   "metadata": {},
   "outputs": [],
   "source": []
  },
  {
   "cell_type": "markdown",
   "id": "54550d47",
   "metadata": {},
   "source": [
    "#### Quiz 5\n",
    "How many numbers are included in the below range?  \n",
    "```py\n",
    "range(1, 11, 2)\n",
    "```"
   ]
  },
  {
   "cell_type": "code",
   "execution_count": 6,
   "id": "4f79f9b0",
   "metadata": {},
   "outputs": [
    {
     "name": "stdout",
     "output_type": "stream",
     "text": [
      "[1, 3, 5, 7, 9]\n"
     ]
    }
   ],
   "source": [
    "print(list(range(1, 11, 2)))"
   ]
  },
  {
   "cell_type": "code",
   "execution_count": null,
   "id": "45d86a6a",
   "metadata": {},
   "outputs": [],
   "source": []
  },
  {
   "cell_type": "markdown",
   "id": "a69c6b10",
   "metadata": {},
   "source": [
    "#### Quiz 6\n",
    "What range can NOT be used to generate these numbers: `[1, 2, 3, 4, 5, 6, 7, 8, 9, 10]`?"
   ]
  },
  {
   "cell_type": "code",
   "execution_count": 7,
   "id": "23d4ba35",
   "metadata": {},
   "outputs": [
    {
     "name": "stdout",
     "output_type": "stream",
     "text": [
      "[1, 2, 3, 4, 5, 6, 7, 8, 9, 10]\n"
     ]
    }
   ],
   "source": [
    "# Option 1\n",
    "print(list(range(1, 11)))"
   ]
  },
  {
   "cell_type": "code",
   "execution_count": 8,
   "id": "d0743c4b",
   "metadata": {},
   "outputs": [
    {
     "name": "stdout",
     "output_type": "stream",
     "text": [
      "[1, 2, 3, 4, 5, 6, 7, 8, 9]\n"
     ]
    }
   ],
   "source": [
    "# Option 2 - Correct answer\n",
    "print(list(range(1, 10)))"
   ]
  },
  {
   "cell_type": "code",
   "execution_count": 9,
   "id": "b87c8942",
   "metadata": {},
   "outputs": [
    {
     "name": "stdout",
     "output_type": "stream",
     "text": [
      "[1, 2, 3, 4, 5, 6, 7, 8, 9, 10]\n"
     ]
    }
   ],
   "source": [
    "# Option 3\n",
    "print(list(range(1, 11, 1)))"
   ]
  },
  {
   "cell_type": "code",
   "execution_count": null,
   "id": "60d72440",
   "metadata": {},
   "outputs": [],
   "source": []
  },
  {
   "cell_type": "markdown",
   "id": "9fd8ba95",
   "metadata": {},
   "source": [
    "#### Quiz 7\n",
    "Which of the options is NOT correct for the range:\n",
    "```py\n",
    "range(5, 1)\n",
    "```"
   ]
  },
  {
   "cell_type": "code",
   "execution_count": 10,
   "id": "c976de2b",
   "metadata": {},
   "outputs": [
    {
     "name": "stdout",
     "output_type": "stream",
     "text": [
      "[]\n"
     ]
    }
   ],
   "source": [
    "print(list(range(5, 1)))"
   ]
  },
  {
   "cell_type": "code",
   "execution_count": null,
   "id": "eba354ed",
   "metadata": {},
   "outputs": [],
   "source": []
  },
  {
   "cell_type": "code",
   "execution_count": 11,
   "id": "5c9ab7af",
   "metadata": {},
   "outputs": [
    {
     "name": "stdout",
     "output_type": "stream",
     "text": [
      "[5, 4, 3, 2]\n"
     ]
    }
   ],
   "source": [
    "print(list(range(5, 1, -1)))"
   ]
  },
  {
   "cell_type": "code",
   "execution_count": null,
   "id": "d84481f8",
   "metadata": {},
   "outputs": [],
   "source": []
  },
  {
   "cell_type": "code",
   "execution_count": 12,
   "id": "7e28ca07",
   "metadata": {},
   "outputs": [
    {
     "name": "stdout",
     "output_type": "stream",
     "text": [
      "[10, 7, 4]\n"
     ]
    }
   ],
   "source": [
    "print(list(range(10, 1, -3)))"
   ]
  },
  {
   "cell_type": "code",
   "execution_count": null,
   "id": "751ec72c",
   "metadata": {},
   "outputs": [],
   "source": []
  },
  {
   "cell_type": "code",
   "execution_count": 13,
   "id": "c2769374",
   "metadata": {},
   "outputs": [
    {
     "name": "stdout",
     "output_type": "stream",
     "text": [
      "[10, 7, 4, 1, -2]\n"
     ]
    }
   ],
   "source": [
    "print(list(range(10, -5, -3)))"
   ]
  },
  {
   "cell_type": "code",
   "execution_count": null,
   "id": "d0e5c5a6",
   "metadata": {},
   "outputs": [],
   "source": []
  },
  {
   "cell_type": "code",
   "execution_count": 14,
   "id": "1e3125fb",
   "metadata": {},
   "outputs": [
    {
     "name": "stdout",
     "output_type": "stream",
     "text": [
      "[12, 9, 6, 3]\n"
     ]
    }
   ],
   "source": [
    "print(list(range(12, 0, -3)))"
   ]
  },
  {
   "cell_type": "code",
   "execution_count": 15,
   "id": "cddeb5f5",
   "metadata": {},
   "outputs": [
    {
     "name": "stdout",
     "output_type": "stream",
     "text": [
      "[11, 8, 5, 2]\n"
     ]
    }
   ],
   "source": [
    "print(list(range(11, 0, -3)))"
   ]
  },
  {
   "cell_type": "code",
   "execution_count": 16,
   "id": "c87d88ba",
   "metadata": {},
   "outputs": [
    {
     "name": "stdout",
     "output_type": "stream",
     "text": [
      "[8, 7, 6, 5, 4, 3, 2, 1, 0]\n"
     ]
    }
   ],
   "source": [
    "print(list(range(8, -1, -1)))"
   ]
  },
  {
   "cell_type": "code",
   "execution_count": 17,
   "id": "2dbd93ed",
   "metadata": {},
   "outputs": [
    {
     "name": "stdout",
     "output_type": "stream",
     "text": [
      "[5, 4, 3, 2, 1, 0]\n"
     ]
    }
   ],
   "source": [
    "print(list(range(5, -1, -1)))"
   ]
  },
  {
   "cell_type": "code",
   "execution_count": null,
   "id": "4a9fd9b3",
   "metadata": {},
   "outputs": [],
   "source": []
  },
  {
   "cell_type": "code",
   "execution_count": 18,
   "id": "1886448f",
   "metadata": {},
   "outputs": [
    {
     "name": "stdout",
     "output_type": "stream",
     "text": [
      "[0, 1, 2, 3, 4]\n"
     ]
    }
   ],
   "source": [
    "print(list(range(5)))\n",
    "# start = 0\n",
    "# end = 5 (given)\n",
    "# inc = 1"
   ]
  },
  {
   "cell_type": "code",
   "execution_count": 19,
   "id": "4022dedc",
   "metadata": {},
   "outputs": [
    {
     "name": "stdout",
     "output_type": "stream",
     "text": [
      "[]\n"
     ]
    }
   ],
   "source": [
    "print(list(range(-5)))\n",
    "# start = 0\n",
    "# end = -5 (given)\n",
    "# inc = 1"
   ]
  },
  {
   "cell_type": "code",
   "execution_count": null,
   "id": "f9bd4161",
   "metadata": {},
   "outputs": [],
   "source": []
  },
  {
   "cell_type": "code",
   "execution_count": null,
   "id": "5a4be013",
   "metadata": {},
   "outputs": [],
   "source": []
  },
  {
   "cell_type": "markdown",
   "id": "5b7fa5c9",
   "metadata": {},
   "source": [
    "# For loops\n",
    "![](https://scaler.com/topics/images/for-loop-in-python.webp)"
   ]
  },
  {
   "cell_type": "code",
   "execution_count": 20,
   "id": "0848c17d",
   "metadata": {},
   "outputs": [
    {
     "name": "stdout",
     "output_type": "stream",
     "text": [
      "[0, 1, 2, 3, 4]\n"
     ]
    }
   ],
   "source": [
    "print(list(range(5)))\n",
    "# start = 0\n",
    "# end = 5 (given)\n",
    "# inc = 1"
   ]
  },
  {
   "cell_type": "code",
   "execution_count": 21,
   "id": "d67634c1",
   "metadata": {},
   "outputs": [
    {
     "name": "stdout",
     "output_type": "stream",
     "text": [
      "0\n",
      "1\n",
      "2\n",
      "3\n",
      "4\n"
     ]
    }
   ],
   "source": [
    "for i in range(5):\n",
    "    print(i)"
   ]
  },
  {
   "cell_type": "code",
   "execution_count": 22,
   "id": "4a05d113",
   "metadata": {},
   "outputs": [
    {
     "name": "stdout",
     "output_type": "stream",
     "text": [
      "0 1 2 3 4 "
     ]
    }
   ],
   "source": [
    "for i in range(5):\n",
    "    print(i, end=' ')"
   ]
  },
  {
   "cell_type": "code",
   "execution_count": null,
   "id": "54675053",
   "metadata": {},
   "outputs": [],
   "source": []
  },
  {
   "cell_type": "code",
   "execution_count": null,
   "id": "240a9786",
   "metadata": {},
   "outputs": [],
   "source": []
  },
  {
   "cell_type": "markdown",
   "id": "ea4ec78a",
   "metadata": {},
   "source": [
    "#### Quiz 8\n",
    "Predict the output given input N = 5.\n",
    "```py\n",
    "N = int(input())\n",
    "\n",
    "for i in range(2, N):\n",
    "    print(i, end=' ')\n",
    "```"
   ]
  },
  {
   "cell_type": "code",
   "execution_count": 23,
   "id": "b54c1adb",
   "metadata": {},
   "outputs": [
    {
     "name": "stdout",
     "output_type": "stream",
     "text": [
      "5\n",
      "2 3 4 "
     ]
    }
   ],
   "source": [
    "N = int(input())\n",
    "\n",
    "for i in range(2, N):\n",
    "    print(i, end=' ')\n",
    "    \n",
    "# start = 2\n",
    "# end = 5\n",
    "# inc = 1 (default)"
   ]
  },
  {
   "cell_type": "code",
   "execution_count": null,
   "id": "14a7576f",
   "metadata": {},
   "outputs": [],
   "source": []
  },
  {
   "cell_type": "markdown",
   "id": "1990ad13",
   "metadata": {},
   "source": [
    "### Print numbers 1 to 10"
   ]
  },
  {
   "cell_type": "code",
   "execution_count": 25,
   "id": "7443ace1",
   "metadata": {},
   "outputs": [
    {
     "name": "stdout",
     "output_type": "stream",
     "text": [
      "1 2 3 4 5 6 7 8 9 10 "
     ]
    }
   ],
   "source": [
    "# start = 1\n",
    "# end = 11\n",
    "# inc = 1 (default)\n",
    "# range = range(1, 11)\n",
    "\n",
    "for i in range(1, 11):\n",
    "    print(i, end=' ')"
   ]
  },
  {
   "cell_type": "code",
   "execution_count": null,
   "id": "89dfd0fc",
   "metadata": {},
   "outputs": [],
   "source": []
  },
  {
   "cell_type": "code",
   "execution_count": null,
   "id": "a16a11fd",
   "metadata": {},
   "outputs": [],
   "source": []
  },
  {
   "cell_type": "markdown",
   "id": "d3932064",
   "metadata": {},
   "source": [
    "### Print numbers 1 to N"
   ]
  },
  {
   "cell_type": "code",
   "execution_count": 28,
   "id": "d395e247",
   "metadata": {},
   "outputs": [
    {
     "name": "stdout",
     "output_type": "stream",
     "text": [
      "30\n",
      "1 2 3 4 5 6 7 8 9 10 11 12 13 14 15 16 17 18 19 20 21 22 23 24 25 26 27 28 29 30 "
     ]
    }
   ],
   "source": [
    "N = int(input())\n",
    "\n",
    "for i in range(1, N+1):\n",
    "    print(i, end=' ')"
   ]
  },
  {
   "cell_type": "code",
   "execution_count": null,
   "id": "db43d6cb",
   "metadata": {},
   "outputs": [],
   "source": []
  },
  {
   "cell_type": "code",
   "execution_count": null,
   "id": "cfe6f96c",
   "metadata": {},
   "outputs": [],
   "source": []
  },
  {
   "cell_type": "markdown",
   "id": "b1122001",
   "metadata": {},
   "source": [
    "### Print perfect squares of numbers from 1 to N"
   ]
  },
  {
   "cell_type": "code",
   "execution_count": 31,
   "id": "7a7e09c5",
   "metadata": {},
   "outputs": [
    {
     "name": "stdout",
     "output_type": "stream",
     "text": [
      "1 4 9 16 25 36 49 64 81 100 121 144 169 196 225 256 289 324 361 400 441 484 529 576 625 676 729 784 841 900 961 1024 1089 1156 1225 1296 1369 1444 1521 1600 1681 1764 1849 1936 2025 2116 2209 2304 2401 2500 "
     ]
    }
   ],
   "source": [
    "N = 50\n",
    "\n",
    "for i in range(1, N+1):\n",
    "    print(i * i, end=' ')"
   ]
  },
  {
   "cell_type": "code",
   "execution_count": null,
   "id": "b0fdbbde",
   "metadata": {},
   "outputs": [],
   "source": []
  },
  {
   "cell_type": "code",
   "execution_count": null,
   "id": "a38b9e26",
   "metadata": {},
   "outputs": [],
   "source": []
  },
  {
   "cell_type": "code",
   "execution_count": null,
   "id": "f4eb5481",
   "metadata": {},
   "outputs": [],
   "source": []
  },
  {
   "cell_type": "code",
   "execution_count": null,
   "id": "7a4d2acc",
   "metadata": {},
   "outputs": [],
   "source": []
  },
  {
   "cell_type": "code",
   "execution_count": null,
   "id": "76aced56",
   "metadata": {},
   "outputs": [],
   "source": []
  },
  {
   "cell_type": "markdown",
   "id": "cac27bb4",
   "metadata": {},
   "source": [
    "#### Quiz 9\n",
    "Predict the output.\n",
    "```py\n",
    "for i in range(-1, 10, 2):\n",
    "    print(i, end=' ')\n",
    "```"
   ]
  },
  {
   "cell_type": "code",
   "execution_count": 32,
   "id": "3e21e3a0",
   "metadata": {},
   "outputs": [
    {
     "name": "stdout",
     "output_type": "stream",
     "text": [
      "-1 1 3 5 7 9 "
     ]
    }
   ],
   "source": [
    "for i in range(-1, 10, 2):\n",
    "    print(i, end=' ')\n",
    "    \n",
    "# -1, 1, 3, 5, 7, 9"
   ]
  },
  {
   "cell_type": "code",
   "execution_count": null,
   "id": "784281de",
   "metadata": {},
   "outputs": [],
   "source": []
  },
  {
   "cell_type": "code",
   "execution_count": null,
   "id": "34bc6296",
   "metadata": {},
   "outputs": [],
   "source": []
  },
  {
   "cell_type": "code",
   "execution_count": null,
   "id": "0c03d873",
   "metadata": {},
   "outputs": [],
   "source": []
  },
  {
   "cell_type": "markdown",
   "id": "cc6cdac6",
   "metadata": {},
   "source": [
    "### Print multiples of 4 till N\n",
    "\n",
    "N = 20 -> 4, 8, 12, 16, 20"
   ]
  },
  {
   "cell_type": "code",
   "execution_count": 34,
   "id": "4fc2599b",
   "metadata": {},
   "outputs": [
    {
     "name": "stdout",
     "output_type": "stream",
     "text": [
      "4 8 12 16 20 24 28 "
     ]
    }
   ],
   "source": [
    "N = 30\n",
    "\n",
    "for i in range(4, N+1, 4):\n",
    "    print(i, end=' ')"
   ]
  },
  {
   "cell_type": "code",
   "execution_count": null,
   "id": "debaa6fb",
   "metadata": {},
   "outputs": [],
   "source": []
  },
  {
   "cell_type": "code",
   "execution_count": null,
   "id": "6e334ca7",
   "metadata": {},
   "outputs": [],
   "source": []
  },
  {
   "cell_type": "markdown",
   "id": "c553d908",
   "metadata": {},
   "source": [
    "### Print 6 to 1"
   ]
  },
  {
   "cell_type": "code",
   "execution_count": 35,
   "id": "21e9e8db",
   "metadata": {},
   "outputs": [
    {
     "name": "stdout",
     "output_type": "stream",
     "text": [
      "6 5 4 3 2 1 "
     ]
    }
   ],
   "source": [
    "for i in range(6, 0, -1):\n",
    "    print(i, end=' ')"
   ]
  },
  {
   "cell_type": "code",
   "execution_count": null,
   "id": "2e867839",
   "metadata": {},
   "outputs": [],
   "source": []
  },
  {
   "cell_type": "code",
   "execution_count": null,
   "id": "66bd51f5",
   "metadata": {},
   "outputs": [],
   "source": []
  },
  {
   "cell_type": "markdown",
   "id": "b2c1878c",
   "metadata": {},
   "source": [
    "#### Quiz 10\n",
    "Predict the output given input N = 7.\n",
    "\n",
    "```py\n",
    "N = int(input())\n",
    "\n",
    "for i in range(N, 1, -1):\n",
    "    print(i, end=' ')\n",
    "```"
   ]
  },
  {
   "cell_type": "code",
   "execution_count": 36,
   "id": "3af7365e",
   "metadata": {},
   "outputs": [
    {
     "name": "stdout",
     "output_type": "stream",
     "text": [
      "7\n",
      "7 6 5 4 3 2 "
     ]
    }
   ],
   "source": [
    "N = int(input())\n",
    "\n",
    "for i in range(N, 1, -1):\n",
    "    print(i, end=' ')\n",
    "    \n",
    "# start = N = 7\n",
    "# end = 1\n",
    "# inc = -1\n",
    "# 7, 6, 5, 4, 3, 2"
   ]
  },
  {
   "cell_type": "code",
   "execution_count": null,
   "id": "4591b7cb",
   "metadata": {},
   "outputs": [],
   "source": []
  },
  {
   "cell_type": "markdown",
   "id": "7dd0a5f9",
   "metadata": {},
   "source": [
    "### Print N to 1"
   ]
  },
  {
   "cell_type": "code",
   "execution_count": 41,
   "id": "35a532d8",
   "metadata": {},
   "outputs": [
    {
     "name": "stdout",
     "output_type": "stream",
     "text": [
      "5\n",
      "5 4 3 2 1 "
     ]
    }
   ],
   "source": [
    "N = int(input())\n",
    "\n",
    "# start = N\n",
    "# end = 0\n",
    "# inc = -1\n",
    "for i in range(N, 0, -1):\n",
    "    print(i, end=' ')"
   ]
  },
  {
   "cell_type": "code",
   "execution_count": null,
   "id": "24890490",
   "metadata": {},
   "outputs": [],
   "source": []
  },
  {
   "cell_type": "code",
   "execution_count": null,
   "id": "c35c38a1",
   "metadata": {},
   "outputs": [],
   "source": []
  },
  {
   "cell_type": "markdown",
   "id": "9e57e925",
   "metadata": {},
   "source": [
    "### Print perfect squares of numbers from N to 1\n",
    "\n",
    "N = 5 \\\n",
    "25 16 9 4 1"
   ]
  },
  {
   "cell_type": "code",
   "execution_count": 43,
   "id": "0f579e6a",
   "metadata": {},
   "outputs": [
    {
     "name": "stdout",
     "output_type": "stream",
     "text": [
      "100 81 64 49 36 25 16 9 4 1 "
     ]
    }
   ],
   "source": [
    "N = 10\n",
    "\n",
    "for i in range(N, 0, -1):\n",
    "    print(i ** 2, end=' ')"
   ]
  },
  {
   "cell_type": "code",
   "execution_count": null,
   "id": "03d92bfd",
   "metadata": {},
   "outputs": [],
   "source": []
  },
  {
   "cell_type": "code",
   "execution_count": null,
   "id": "55d46d21",
   "metadata": {},
   "outputs": [],
   "source": []
  },
  {
   "cell_type": "code",
   "execution_count": null,
   "id": "b4452686",
   "metadata": {},
   "outputs": [],
   "source": []
  },
  {
   "cell_type": "markdown",
   "id": "aef1d045",
   "metadata": {},
   "source": [
    "#### Quiz 11\n",
    "For the values of `i` below print the values of `N - i + 1` given `N = 6`.\n",
    "\\\n",
    "`i: ` 1, 2, 3, 4, 5, 6\n",
    "\n",
    "N = 6\n",
    "```py\n",
    "for i in range(1, N+1):\n",
    "    print(N - i + 1)\n",
    "```"
   ]
  },
  {
   "cell_type": "code",
   "execution_count": null,
   "id": "b0c867f3",
   "metadata": {},
   "outputs": [],
   "source": []
  },
  {
   "cell_type": "markdown",
   "id": "32870ddb",
   "metadata": {},
   "source": [
    "**Challenge**\\\n",
    "Try using the result from above quiz to print numbers from N to 1 but using a increasing loop.\n",
    "\n",
    "Submit the answer in question titled \"From down to top\" in your assignment"
   ]
  },
  {
   "cell_type": "code",
   "execution_count": null,
   "id": "ed4ff7ef",
   "metadata": {},
   "outputs": [],
   "source": []
  },
  {
   "cell_type": "code",
   "execution_count": null,
   "id": "6b961aba",
   "metadata": {},
   "outputs": [],
   "source": []
  },
  {
   "cell_type": "markdown",
   "id": "50ed4b01",
   "metadata": {},
   "source": [
    "### Quiz 13\n",
    "```py\n",
    "N = 7\n",
    "s = 0\n",
    "for i in range(2, N):\n",
    "    s += i\n",
    "print(s)\n",
    "```"
   ]
  },
  {
   "cell_type": "code",
   "execution_count": 44,
   "id": "47d97f6a",
   "metadata": {},
   "outputs": [
    {
     "name": "stdout",
     "output_type": "stream",
     "text": [
      "20\n"
     ]
    }
   ],
   "source": [
    "N = 7\n",
    "s = 0\n",
    "for i in range(2, N):\n",
    "    s += i\n",
    "print(s)"
   ]
  },
  {
   "cell_type": "code",
   "execution_count": null,
   "id": "c3aa3358",
   "metadata": {},
   "outputs": [],
   "source": [
    "2,3,4,5,6"
   ]
  },
  {
   "cell_type": "code",
   "execution_count": null,
   "id": "e8aca89d",
   "metadata": {},
   "outputs": [],
   "source": []
  },
  {
   "cell_type": "code",
   "execution_count": null,
   "id": "7a1d0186",
   "metadata": {},
   "outputs": [],
   "source": []
  },
  {
   "cell_type": "markdown",
   "id": "6e4d7652",
   "metadata": {},
   "source": [
    "### Sum of even numbers from 1 to N\n",
    "![](https://scaler.com/topics/images/sum-of-first-n-even-numbers-fi.webp)"
   ]
  },
  {
   "cell_type": "code",
   "execution_count": 45,
   "id": "e659d4b5",
   "metadata": {},
   "outputs": [
    {
     "name": "stdout",
     "output_type": "stream",
     "text": [
      "30\n"
     ]
    }
   ],
   "source": [
    "N = 10\n",
    "# 2 + 4 + 6 + 8 + 10\n",
    "\n",
    "s = 0\n",
    "for i in range(2, N+1, 2):\n",
    "    s += i\n",
    "print(s)"
   ]
  },
  {
   "cell_type": "code",
   "execution_count": null,
   "id": "5fdfc886",
   "metadata": {},
   "outputs": [],
   "source": []
  },
  {
   "cell_type": "code",
   "execution_count": null,
   "id": "1642d354",
   "metadata": {},
   "outputs": [],
   "source": []
  },
  {
   "cell_type": "code",
   "execution_count": null,
   "id": "5a01e459",
   "metadata": {},
   "outputs": [],
   "source": []
  },
  {
   "cell_type": "markdown",
   "id": "053d2de9",
   "metadata": {},
   "source": [
    "### Sum of odd numbers from 1 to N"
   ]
  },
  {
   "cell_type": "code",
   "execution_count": 48,
   "id": "f10ba8bd",
   "metadata": {},
   "outputs": [
    {
     "name": "stdout",
     "output_type": "stream",
     "text": [
      "36\n"
     ]
    }
   ],
   "source": [
    "N = 11\n",
    "# 1 + 3 + 5 + 7 + 9 + 11\n",
    "\n",
    "s = 0\n",
    "for i in range(1, N+1, 2):\n",
    "    s += i\n",
    "print(s)"
   ]
  },
  {
   "cell_type": "code",
   "execution_count": null,
   "id": "ecfaef7a",
   "metadata": {},
   "outputs": [],
   "source": []
  },
  {
   "cell_type": "code",
   "execution_count": null,
   "id": "48e47cf0",
   "metadata": {},
   "outputs": [],
   "source": []
  },
  {
   "cell_type": "markdown",
   "id": "90f8e20c",
   "metadata": {},
   "source": [
    "# Bonus Reading Material\n",
    "- Range Function in Python - https://www.scaler.com/topics/range-function-in-python/\n",
    "- For Loop in Python - https://www.scaler.com/topics/python/for-loop-in-python/\n",
    "- Sum of First n Even Numbers - https://www.scaler.com/topics/sum-of-first-n-even-numbers/\n",
    "- Sum of Digits of a Number in Python - https://www.scaler.com/topics/sum-of-digits-of-a-number-in-python/\n",
    "- Sum of n Natural Numbers in Python - https://www.scaler.com/topics/sum-of-n-natural-numbers-in-python/\n",
    "- Sum of First N Natural Numbers - https://www.scaler.com/topics/sum-of-n-natural-numbers/"
   ]
  },
  {
   "cell_type": "code",
   "execution_count": null,
   "id": "19bfd822",
   "metadata": {},
   "outputs": [],
   "source": []
  },
  {
   "cell_type": "code",
   "execution_count": null,
   "id": "5482348b",
   "metadata": {},
   "outputs": [],
   "source": []
  },
  {
   "cell_type": "markdown",
   "id": "276bf9a2",
   "metadata": {},
   "source": [
    "# Doubts"
   ]
  },
  {
   "cell_type": "code",
   "execution_count": 49,
   "id": "70beaac1",
   "metadata": {},
   "outputs": [
    {
     "name": "stdout",
     "output_type": "stream",
     "text": [
      "1 2 3 4 "
     ]
    }
   ],
   "source": [
    "r = range(1, 5)\n",
    "\n",
    "for i in r:\n",
    "    print(i, end=' ')"
   ]
  },
  {
   "cell_type": "code",
   "execution_count": null,
   "id": "741958cd",
   "metadata": {},
   "outputs": [],
   "source": []
  },
  {
   "cell_type": "code",
   "execution_count": null,
   "id": "8591f6ec",
   "metadata": {},
   "outputs": [],
   "source": []
  },
  {
   "cell_type": "code",
   "execution_count": null,
   "id": "6f0af920",
   "metadata": {},
   "outputs": [],
   "source": []
  }
 ],
 "metadata": {
  "kernelspec": {
   "display_name": "Python 3 (ipykernel)",
   "language": "python",
   "name": "python3"
  },
  "language_info": {
   "codemirror_mode": {
    "name": "ipython",
    "version": 3
   },
   "file_extension": ".py",
   "mimetype": "text/x-python",
   "name": "python",
   "nbconvert_exporter": "python",
   "pygments_lexer": "ipython3",
   "version": "3.9.12"
  }
 },
 "nbformat": 4,
 "nbformat_minor": 5
}
