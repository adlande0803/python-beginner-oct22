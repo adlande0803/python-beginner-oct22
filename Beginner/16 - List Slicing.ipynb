{
 "cells": [
  {
   "cell_type": "markdown",
   "id": "0692203a",
   "metadata": {},
   "source": [
    "# map function\n",
    "![](https://scaler.com/topics/images/map-in-python.webp)"
   ]
  },
  {
   "cell_type": "code",
   "execution_count": null,
   "id": "df4fc81b",
   "metadata": {},
   "outputs": [],
   "source": []
  },
  {
   "cell_type": "markdown",
   "id": "5b157590",
   "metadata": {},
   "source": [
    "#### Given a list of integers, generate a new list containing squares of all numbers"
   ]
  },
  {
   "cell_type": "code",
   "execution_count": 1,
   "id": "766b87ac",
   "metadata": {},
   "outputs": [],
   "source": [
    "a = [5, 9, 1, 4, 3]\n",
    "\n",
    "# No modifications to the original list\n",
    "# Expected list is [25, 81, 1, 16, 9]"
   ]
  },
  {
   "cell_type": "code",
   "execution_count": 3,
   "id": "25b10050",
   "metadata": {},
   "outputs": [
    {
     "name": "stdout",
     "output_type": "stream",
     "text": [
      "[25, 81, 1, 16, 9]\n"
     ]
    }
   ],
   "source": [
    "def square(x):\n",
    "    return x * x\n",
    "\n",
    "b = []\n",
    "\n",
    "for i in range(len(a)):\n",
    "    b.append(square(a[i]))\n",
    "    \n",
    "print(b)"
   ]
  },
  {
   "cell_type": "code",
   "execution_count": 4,
   "id": "f487df6b",
   "metadata": {},
   "outputs": [
    {
     "name": "stdout",
     "output_type": "stream",
     "text": [
      "<map object at 0x105513b50>\n"
     ]
    }
   ],
   "source": [
    "def square(x):\n",
    "    return x * x\n",
    "\n",
    "a = [5, 9, 1, 4, 3]\n",
    "\n",
    "b = map(square, a)\n",
    "# returns a map object by default\n",
    "\n",
    "print(b)"
   ]
  },
  {
   "cell_type": "code",
   "execution_count": 5,
   "id": "406bdc11",
   "metadata": {},
   "outputs": [
    {
     "name": "stdout",
     "output_type": "stream",
     "text": [
      "[25, 81, 1, 16, 9]\n"
     ]
    }
   ],
   "source": [
    "def square(x):\n",
    "    return x * x\n",
    "\n",
    "a = [5, 9, 1, 4, 3]\n",
    "\n",
    "b = list(map(square, a))\n",
    "# convert this map object to a list\n",
    "\n",
    "print(b)"
   ]
  },
  {
   "cell_type": "code",
   "execution_count": null,
   "id": "405c930c",
   "metadata": {},
   "outputs": [],
   "source": []
  },
  {
   "cell_type": "code",
   "execution_count": null,
   "id": "ac22f5f9",
   "metadata": {},
   "outputs": [],
   "source": []
  },
  {
   "cell_type": "code",
   "execution_count": null,
   "id": "a91e56ca",
   "metadata": {},
   "outputs": [],
   "source": []
  },
  {
   "cell_type": "code",
   "execution_count": null,
   "id": "7518544d",
   "metadata": {},
   "outputs": [],
   "source": []
  },
  {
   "cell_type": "code",
   "execution_count": null,
   "id": "d20b6303",
   "metadata": {},
   "outputs": [],
   "source": []
  },
  {
   "cell_type": "markdown",
   "id": "c34a2d55",
   "metadata": {},
   "source": [
    "### Quiz 1\n",
    "```py\n",
    "def find_sqr(x):\n",
    "    return x*x*2\n",
    "\n",
    "l = [1, 2, 3]\n",
    "res = list(map(find_sqr, l))\n",
    "\n",
    "print(res)\n",
    "```"
   ]
  },
  {
   "cell_type": "code",
   "execution_count": 6,
   "id": "42c0a2ca",
   "metadata": {},
   "outputs": [
    {
     "name": "stdout",
     "output_type": "stream",
     "text": [
      "[2, 8, 18]\n"
     ]
    }
   ],
   "source": [
    "def find_sqr(x):\n",
    "    return x*x*2\n",
    "\n",
    "l = [1, 2, 3]\n",
    "res = list(map(find_sqr, l))\n",
    "\n",
    "print(res)\n",
    "# 2, 8, 18"
   ]
  },
  {
   "cell_type": "code",
   "execution_count": null,
   "id": "318e2468",
   "metadata": {},
   "outputs": [],
   "source": []
  },
  {
   "cell_type": "code",
   "execution_count": null,
   "id": "ae20c157",
   "metadata": {},
   "outputs": [],
   "source": []
  },
  {
   "cell_type": "markdown",
   "id": "e3783e78",
   "metadata": {},
   "source": [
    "### Input of a list"
   ]
  },
  {
   "cell_type": "code",
   "execution_count": null,
   "id": "d485cfd2",
   "metadata": {},
   "outputs": [],
   "source": [
    "s = input()\n",
    "l = s.split()\n",
    "\n",
    "for i in range(len(l)):\n",
    "    l[i] = int(l[i])"
   ]
  },
  {
   "cell_type": "code",
   "execution_count": null,
   "id": "3c162720",
   "metadata": {},
   "outputs": [],
   "source": [
    "s = input()\n",
    "l = s.split()\n",
    "\n",
    "l = list(map(int, l))"
   ]
  },
  {
   "cell_type": "code",
   "execution_count": null,
   "id": "701eeb71",
   "metadata": {},
   "outputs": [],
   "source": [
    "s = input()\n",
    "\n",
    "l = list(map(int, s.split()))"
   ]
  },
  {
   "cell_type": "code",
   "execution_count": null,
   "id": "22c6d3fc",
   "metadata": {},
   "outputs": [],
   "source": [
    "l = list(map(int, input().split()))"
   ]
  },
  {
   "cell_type": "code",
   "execution_count": null,
   "id": "5cbbd003",
   "metadata": {},
   "outputs": [],
   "source": []
  },
  {
   "cell_type": "markdown",
   "id": "67443413",
   "metadata": {},
   "source": [
    "# List Slicing\n",
    "![](https://scaler.com/topics/images/list-slicing-in-python.webp)"
   ]
  },
  {
   "cell_type": "code",
   "execution_count": null,
   "id": "2958f993",
   "metadata": {},
   "outputs": [],
   "source": []
  },
  {
   "cell_type": "markdown",
   "id": "d6a031ea",
   "metadata": {},
   "source": [
    "Given the runs made by Sachin in a list, find the runs made in:\n",
    "- odd indexed matches (1st, 3rd, 5th, 7th, ...)\n",
    "- even indexed matches (0th, 2nd, 4th, 6th ...)\n",
    "- first 5 matches\n",
    "- last 5 matches"
   ]
  },
  {
   "cell_type": "code",
   "execution_count": 7,
   "id": "bfc3408d",
   "metadata": {},
   "outputs": [],
   "source": [
    "runs = [100, 89, 0, 70, 23, 56, 121, 43, 58, 90]"
   ]
  },
  {
   "cell_type": "code",
   "execution_count": 8,
   "id": "691d62b0",
   "metadata": {},
   "outputs": [
    {
     "name": "stdout",
     "output_type": "stream",
     "text": [
      "[89, 70, 56, 43, 90]\n"
     ]
    }
   ],
   "source": [
    "odd_runs = []\n",
    "\n",
    "for i in range(1, len(runs), 2):\n",
    "    odd_runs.append(runs[i])\n",
    "    \n",
    "print(odd_runs)"
   ]
  },
  {
   "cell_type": "code",
   "execution_count": null,
   "id": "47e8df77",
   "metadata": {},
   "outputs": [],
   "source": []
  },
  {
   "cell_type": "code",
   "execution_count": null,
   "id": "f03d78dd",
   "metadata": {},
   "outputs": [],
   "source": [
    "runs = [100, 89, 0, 70, 23, 56, 121, 43, 58, 90]"
   ]
  },
  {
   "cell_type": "code",
   "execution_count": 9,
   "id": "dde104b5",
   "metadata": {},
   "outputs": [
    {
     "name": "stdout",
     "output_type": "stream",
     "text": [
      "[100, 89, 0, 70, 23]\n"
     ]
    }
   ],
   "source": [
    "# First five matches\n",
    "first_5 = runs[0:5]\n",
    "print(first_5)"
   ]
  },
  {
   "cell_type": "code",
   "execution_count": 10,
   "id": "dc95e562",
   "metadata": {},
   "outputs": [
    {
     "name": "stdout",
     "output_type": "stream",
     "text": [
      "[70, 23, 56]\n"
     ]
    }
   ],
   "source": [
    "l = runs[3:6]\n",
    "print(l)"
   ]
  },
  {
   "cell_type": "code",
   "execution_count": null,
   "id": "908dd2a5",
   "metadata": {},
   "outputs": [],
   "source": []
  },
  {
   "cell_type": "code",
   "execution_count": null,
   "id": "ace7b211",
   "metadata": {},
   "outputs": [],
   "source": []
  },
  {
   "cell_type": "code",
   "execution_count": 12,
   "id": "947f73d5",
   "metadata": {},
   "outputs": [
    {
     "name": "stdout",
     "output_type": "stream",
     "text": [
      "[]\n"
     ]
    }
   ],
   "source": [
    "l = [2, 4, 5, 7, 8]  \n",
    "print(l[5:0])"
   ]
  },
  {
   "cell_type": "code",
   "execution_count": 13,
   "id": "ac2be96a",
   "metadata": {},
   "outputs": [
    {
     "name": "stdout",
     "output_type": "stream",
     "text": [
      "[]\n"
     ]
    }
   ],
   "source": [
    "l = [2, 4, 5, 7, 8]  \n",
    "print(l[4:0])"
   ]
  },
  {
   "cell_type": "code",
   "execution_count": null,
   "id": "c3f6fcae",
   "metadata": {},
   "outputs": [],
   "source": []
  },
  {
   "cell_type": "code",
   "execution_count": 14,
   "id": "5b0c769d",
   "metadata": {},
   "outputs": [
    {
     "name": "stdout",
     "output_type": "stream",
     "text": [
      "[]\n"
     ]
    }
   ],
   "source": [
    "l = [2, 4, 5, 7, 8]  \n",
    "print(l[2:2])\n",
    "# end is excluded"
   ]
  },
  {
   "cell_type": "code",
   "execution_count": null,
   "id": "38fa739c",
   "metadata": {},
   "outputs": [],
   "source": []
  },
  {
   "cell_type": "code",
   "execution_count": 15,
   "id": "a93e893b",
   "metadata": {},
   "outputs": [
    {
     "name": "stdout",
     "output_type": "stream",
     "text": [
      "[40, 50]\n"
     ]
    }
   ],
   "source": [
    "a = [10, 20, 30, 40, 50, 60]\n",
    "print(a[-3:-1])"
   ]
  },
  {
   "cell_type": "code",
   "execution_count": 16,
   "id": "1f52c48b",
   "metadata": {},
   "outputs": [
    {
     "name": "stdout",
     "output_type": "stream",
     "text": [
      "[30, 40]\n"
     ]
    }
   ],
   "source": [
    "print(a[2:-2])"
   ]
  },
  {
   "cell_type": "code",
   "execution_count": 17,
   "id": "e578489b",
   "metadata": {},
   "outputs": [
    {
     "name": "stdout",
     "output_type": "stream",
     "text": [
      "[20, 30, 40]\n"
     ]
    }
   ],
   "source": [
    "print(a[-5:4])"
   ]
  },
  {
   "cell_type": "code",
   "execution_count": null,
   "id": "bf91a6f5",
   "metadata": {},
   "outputs": [],
   "source": []
  },
  {
   "cell_type": "code",
   "execution_count": 18,
   "id": "fb9894c9",
   "metadata": {},
   "outputs": [
    {
     "data": {
      "text/plain": [
       "[2, 3, 5]"
      ]
     },
     "execution_count": 18,
     "metadata": {},
     "output_type": "execute_result"
    }
   ],
   "source": [
    "nums = [1, 1, 2, 3, 5, 8, 13]  \n",
    "nums[-5:-2]"
   ]
  },
  {
   "cell_type": "code",
   "execution_count": null,
   "id": "3e67344c",
   "metadata": {},
   "outputs": [],
   "source": []
  },
  {
   "cell_type": "code",
   "execution_count": null,
   "id": "94f1124e",
   "metadata": {},
   "outputs": [],
   "source": []
  },
  {
   "cell_type": "code",
   "execution_count": 21,
   "id": "bdea2c08",
   "metadata": {},
   "outputs": [
    {
     "name": "stdout",
     "output_type": "stream",
     "text": [
      "[60, 50, 40]\n",
      "[60, 50, 40]\n"
     ]
    }
   ],
   "source": [
    "a = [10, 20, 30, 40, 50, 60]\n",
    "print(a[-1:-4:-1])\n",
    "print(a[5:2:-1])"
   ]
  },
  {
   "cell_type": "code",
   "execution_count": null,
   "id": "80ca5f27",
   "metadata": {},
   "outputs": [],
   "source": []
  },
  {
   "cell_type": "code",
   "execution_count": 22,
   "id": "9edc353f",
   "metadata": {},
   "outputs": [
    {
     "name": "stdout",
     "output_type": "stream",
     "text": [
      "[40, 30, 20, 10]\n"
     ]
    }
   ],
   "source": [
    "a = [10, 20, 30, 40, 50]\n",
    "print(a[3::-1])"
   ]
  },
  {
   "cell_type": "code",
   "execution_count": 23,
   "id": "db3390cb",
   "metadata": {},
   "outputs": [
    {
     "name": "stdout",
     "output_type": "stream",
     "text": [
      "[50, 30, 10]\n"
     ]
    }
   ],
   "source": [
    "print(a[4::-2])"
   ]
  },
  {
   "cell_type": "code",
   "execution_count": 24,
   "id": "1f45b920",
   "metadata": {},
   "outputs": [
    {
     "name": "stdout",
     "output_type": "stream",
     "text": [
      "[50, 40]\n"
     ]
    }
   ],
   "source": [
    "print(a[:2:-1])"
   ]
  },
  {
   "cell_type": "code",
   "execution_count": 25,
   "id": "73588891",
   "metadata": {},
   "outputs": [
    {
     "name": "stdout",
     "output_type": "stream",
     "text": [
      "[50, 30]\n"
     ]
    }
   ],
   "source": [
    "print(a[:0:-2])"
   ]
  },
  {
   "cell_type": "code",
   "execution_count": null,
   "id": "f2d20697",
   "metadata": {},
   "outputs": [],
   "source": []
  },
  {
   "cell_type": "code",
   "execution_count": 26,
   "id": "e9c2e45a",
   "metadata": {},
   "outputs": [
    {
     "name": "stdout",
     "output_type": "stream",
     "text": [
      "[5, 7, 8]\n"
     ]
    }
   ],
   "source": [
    "l = [2, 4, 5, 7, 8]  \n",
    "print(l[-3:])"
   ]
  },
  {
   "cell_type": "code",
   "execution_count": null,
   "id": "f09aeedf",
   "metadata": {},
   "outputs": [],
   "source": []
  },
  {
   "cell_type": "code",
   "execution_count": 27,
   "id": "b2969f28",
   "metadata": {},
   "outputs": [
    {
     "name": "stdout",
     "output_type": "stream",
     "text": [
      "[6, 5, 10]\n"
     ]
    }
   ],
   "source": [
    "l = [10, 2, 5, 3, 6]  \n",
    "print(l[::-2])"
   ]
  },
  {
   "cell_type": "code",
   "execution_count": null,
   "id": "e730005e",
   "metadata": {},
   "outputs": [],
   "source": []
  },
  {
   "cell_type": "code",
   "execution_count": null,
   "id": "37becd3e",
   "metadata": {},
   "outputs": [],
   "source": []
  },
  {
   "cell_type": "code",
   "execution_count": null,
   "id": "66a7f03a",
   "metadata": {},
   "outputs": [],
   "source": []
  },
  {
   "cell_type": "markdown",
   "id": "75a7b4c0",
   "metadata": {},
   "source": [
    "## Reverse of a list\n",
    "![](https://scaler.com/topics/images/reversed-in-python.webp)"
   ]
  },
  {
   "cell_type": "code",
   "execution_count": 28,
   "id": "47baec5a",
   "metadata": {},
   "outputs": [
    {
     "name": "stdout",
     "output_type": "stream",
     "text": [
      "[60, 50, 40, 30, 20, 10]\n"
     ]
    }
   ],
   "source": [
    "a = [10, 20, 30, 40, 50, 60]\n",
    "\n",
    "b = a[::-1]\n",
    "print(b)"
   ]
  },
  {
   "cell_type": "code",
   "execution_count": null,
   "id": "a179754e",
   "metadata": {},
   "outputs": [],
   "source": []
  },
  {
   "cell_type": "code",
   "execution_count": null,
   "id": "da625637",
   "metadata": {},
   "outputs": [],
   "source": []
  },
  {
   "cell_type": "code",
   "execution_count": null,
   "id": "c34307bf",
   "metadata": {},
   "outputs": [],
   "source": []
  },
  {
   "attachments": {
    "20220120_103103.jpg": {
     "image/jpeg": "[encoded data removed]"
    }
   },
   "cell_type": "markdown",
   "id": "4f34e218",
   "metadata": {},
   "source": [
    "![20220120_103103.jpg](attachment:20220120_103103.jpg)"
   ]
  },
  {
   "cell_type": "code",
   "execution_count": null,
   "id": "39185f2c",
   "metadata": {},
   "outputs": [],
   "source": []
  },
  {
   "attachments": {
    "ry69u7oa1rsy.png": {
     "image/png": "[encoded data removed]"
    }
   },
   "cell_type": "markdown",
   "id": "1dc6079e",
   "metadata": {},
   "source": [
    "![ry69u7oa1rsy.png](attachment:ry69u7oa1rsy.png)"
   ]
  },
  {
   "cell_type": "code",
   "execution_count": null,
   "id": "27575648",
   "metadata": {},
   "outputs": [],
   "source": []
  },
  {
   "cell_type": "code",
   "execution_count": null,
   "id": "cd6b4d61",
   "metadata": {},
   "outputs": [],
   "source": []
  },
  {
   "cell_type": "code",
   "execution_count": null,
   "id": "c0c07910",
   "metadata": {},
   "outputs": [],
   "source": []
  },
  {
   "cell_type": "code",
   "execution_count": null,
   "id": "aa67a93c",
   "metadata": {},
   "outputs": [],
   "source": []
  },
  {
   "cell_type": "code",
   "execution_count": null,
   "id": "628306ab",
   "metadata": {},
   "outputs": [],
   "source": []
  },
  {
   "cell_type": "markdown",
   "id": "9d7a7c42",
   "metadata": {},
   "source": [
    "## Rotated Array\n",
    "![](https://scaler.com/topics/images/rotate-array.webp)"
   ]
  },
  {
   "cell_type": "code",
   "execution_count": null,
   "id": "c456edbe",
   "metadata": {},
   "outputs": [],
   "source": [
    "a = [7, 0, 6, 1, 3]\n",
    "\n",
    "# Rotate the array by 1 time\n",
    "# Pick the first element and put it at the last\n",
    "# [0, 6, 1, 3, 7]"
   ]
  },
  {
   "cell_type": "code",
   "execution_count": null,
   "id": "558a32b6",
   "metadata": {},
   "outputs": [],
   "source": [
    "a = [7, 0, 6, 1, 3]\n",
    "\n",
    "# Array after 3 rotations"
   ]
  },
  {
   "cell_type": "code",
   "execution_count": 30,
   "id": "94d3ab18",
   "metadata": {},
   "outputs": [],
   "source": [
    "def threeRotations(a):\n",
    "    return a[3:] + a[:3]"
   ]
  },
  {
   "cell_type": "code",
   "execution_count": 31,
   "id": "ecf2bb92",
   "metadata": {},
   "outputs": [
    {
     "name": "stdout",
     "output_type": "stream",
     "text": [
      "[1, 3, 7, 0, 6]\n",
      "[40, 50, 60, 10, 20, 30]\n"
     ]
    }
   ],
   "source": [
    "print(threeRotations([7, 0, 6, 1, 3]))\n",
    "print(threeRotations([10, 20, 30, 40, 50, 60]))"
   ]
  },
  {
   "cell_type": "code",
   "execution_count": null,
   "id": "85b931e7",
   "metadata": {},
   "outputs": [],
   "source": []
  },
  {
   "cell_type": "code",
   "execution_count": null,
   "id": "c821ac92",
   "metadata": {},
   "outputs": [],
   "source": []
  },
  {
   "cell_type": "markdown",
   "id": "e91a6b91",
   "metadata": {},
   "source": [
    "# Bonus Reading Material\n",
    "- map() in Python - https://www.scaler.com/topics/map-function-in-python/\n",
    "- List Input In Python - https://www.scaler.com/topics/list-input-in-python/\n",
    "- What is List Slicing in Python? - https://www.scaler.com/topics/list-slicing-in-python/\n",
    "- Python List Comparison - https://www.scaler.com/topics/python-list-comparison/\n",
    "- Python reversed() Function - https://www.scaler.com/topics/reversed-in-python/\n",
    "- How to Reverse a List in Python? - https://www.scaler.com/topics/how-to-reverse-a-list-in-python/\n",
    "- What is List Comprehension in Python? - https://www.scaler.com/topics/list-comprehension-in-python/"
   ]
  },
  {
   "cell_type": "code",
   "execution_count": null,
   "id": "0cc6e767",
   "metadata": {},
   "outputs": [],
   "source": []
  },
  {
   "cell_type": "code",
   "execution_count": null,
   "id": "c48710c1",
   "metadata": {},
   "outputs": [],
   "source": []
  },
  {
   "cell_type": "code",
   "execution_count": null,
   "id": "4fcded90",
   "metadata": {},
   "outputs": [],
   "source": []
  },
  {
   "cell_type": "markdown",
   "id": "c655fd17",
   "metadata": {},
   "source": [
    "\n",
    "# Doubts"
   ]
  },
  {
   "cell_type": "code",
   "execution_count": null,
   "id": "dc843480",
   "metadata": {},
   "outputs": [],
   "source": [
    "A = [int(item) for item in input().split()]\n",
    "# List comprehension\n",
    "# Covered in Intermediate batch"
   ]
  },
  {
   "cell_type": "code",
   "execution_count": 32,
   "id": "1bd5db6e",
   "metadata": {},
   "outputs": [
    {
     "name": "stdout",
     "output_type": "stream",
     "text": [
      "xyz\n"
     ]
    },
    {
     "ename": "ValueError",
     "evalue": "invalid literal for int() with base 10: 'xyz'",
     "output_type": "error",
     "traceback": [
      "\u001b[0;31m---------------------------------------------------------------------------\u001b[0m",
      "\u001b[0;31mValueError\u001b[0m                                Traceback (most recent call last)",
      "\u001b[0;32m/var/folders/jn/1bsrct314hv5xmfm7vrcdrzc0000gn/T/ipykernel_3938/2305843072.py\u001b[0m in \u001b[0;36m<module>\u001b[0;34m\u001b[0m\n\u001b[0;32m----> 1\u001b[0;31m \u001b[0ma\u001b[0m \u001b[0;34m=\u001b[0m \u001b[0mint\u001b[0m\u001b[0;34m(\u001b[0m\u001b[0minput\u001b[0m\u001b[0;34m(\u001b[0m\u001b[0;34m)\u001b[0m\u001b[0;34m)\u001b[0m\u001b[0;34m\u001b[0m\u001b[0;34m\u001b[0m\u001b[0m\n\u001b[0m",
      "\u001b[0;31mValueError\u001b[0m: invalid literal for int() with base 10: 'xyz'"
     ]
    }
   ],
   "source": [
    "a = int(input())"
   ]
  },
  {
   "cell_type": "code",
   "execution_count": 33,
   "id": "f811bbd0",
   "metadata": {},
   "outputs": [
    {
     "name": "stdout",
     "output_type": "stream",
     "text": [
      "10\n"
     ]
    }
   ],
   "source": [
    "a = int(input())"
   ]
  },
  {
   "cell_type": "code",
   "execution_count": 34,
   "id": "d706b9c3",
   "metadata": {},
   "outputs": [],
   "source": [
    "# List of integers - input\n",
    "# 10 20 30\n",
    "a = [10, 20, 30]\n"
   ]
  },
  {
   "cell_type": "code",
   "execution_count": 35,
   "id": "b96a5819",
   "metadata": {},
   "outputs": [
    {
     "name": "stdout",
     "output_type": "stream",
     "text": [
      "10 20 30\n"
     ]
    }
   ],
   "source": [
    "s = input()"
   ]
  },
  {
   "cell_type": "code",
   "execution_count": 36,
   "id": "8e7b1acf",
   "metadata": {},
   "outputs": [
    {
     "data": {
      "text/plain": [
       "'10 20 30'"
      ]
     },
     "execution_count": 36,
     "metadata": {},
     "output_type": "execute_result"
    }
   ],
   "source": [
    "s"
   ]
  },
  {
   "cell_type": "code",
   "execution_count": 37,
   "id": "06c25dca",
   "metadata": {},
   "outputs": [
    {
     "name": "stdout",
     "output_type": "stream",
     "text": [
      "['10', '20', '30']\n"
     ]
    }
   ],
   "source": [
    "l = s.split()\n",
    "print(l) # list of strings"
   ]
  },
  {
   "cell_type": "code",
   "execution_count": 39,
   "id": "6f901a8d",
   "metadata": {},
   "outputs": [
    {
     "name": "stdout",
     "output_type": "stream",
     "text": [
      "[10, 20, 30]\n"
     ]
    }
   ],
   "source": [
    "l = list(map(int, l))\n",
    "print(l) # list of int"
   ]
  },
  {
   "cell_type": "code",
   "execution_count": null,
   "id": "11b481ff",
   "metadata": {},
   "outputs": [],
   "source": []
  },
  {
   "cell_type": "code",
   "execution_count": null,
   "id": "cc1365ec",
   "metadata": {},
   "outputs": [],
   "source": []
  },
  {
   "cell_type": "code",
   "execution_count": 46,
   "id": "2b0ac367",
   "metadata": {},
   "outputs": [],
   "source": [
    "def veryComplexFunction(x):\n",
    "    return x+5\n",
    "\n",
    "a = [10, 20, 30]\n",
    "\n",
    "# b = [\n",
    "#     veryComplexFunction(10),\n",
    "#     veryComplexFunction(20),\n",
    "#     veryComplexFunction(30),\n",
    "# ]\n",
    "# print(b)"
   ]
  },
  {
   "cell_type": "code",
   "execution_count": 45,
   "id": "bb250815",
   "metadata": {},
   "outputs": [
    {
     "name": "stdout",
     "output_type": "stream",
     "text": [
      "[15, 25, 35]\n"
     ]
    }
   ],
   "source": [
    "b = list(map(veryComplexFunction, a))\n",
    "print(b)"
   ]
  },
  {
   "cell_type": "code",
   "execution_count": null,
   "id": "2a660185",
   "metadata": {},
   "outputs": [],
   "source": []
  }
 ],
 "metadata": {
  "kernelspec": {
   "display_name": "Python 3 (ipykernel)",
   "language": "python",
   "name": "python3"
  },
  "language_info": {
   "codemirror_mode": {
    "name": "ipython",
    "version": 3
   },
   "file_extension": ".py",
   "mimetype": "text/x-python",
   "name": "python",
   "nbconvert_exporter": "python",
   "pygments_lexer": "ipython3",
   "version": "3.9.12"
  }
 },
 "nbformat": 4,
 "nbformat_minor": 5
}
