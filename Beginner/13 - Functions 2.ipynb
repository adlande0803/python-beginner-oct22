{
 "cells": [
  {
   "cell_type": "markdown",
   "id": "347fb487",
   "metadata": {},
   "source": [
    "# Functions 2"
   ]
  },
  {
   "cell_type": "code",
   "execution_count": null,
   "id": "6c9d96c6",
   "metadata": {},
   "outputs": [],
   "source": []
  },
  {
   "cell_type": "markdown",
   "id": "8ad67bce",
   "metadata": {},
   "source": [
    "#### Quiz 1\n",
    "```\n",
    "function random():\n",
    "    return True\n",
    "\n",
    "random()\n",
    "```"
   ]
  },
  {
   "cell_type": "code",
   "execution_count": 1,
   "id": "57941d50",
   "metadata": {},
   "outputs": [
    {
     "ename": "SyntaxError",
     "evalue": "invalid syntax (992644156.py, line 1)",
     "output_type": "error",
     "traceback": [
      "\u001b[0;36m  File \u001b[0;32m\"/var/folders/jn/1bsrct314hv5xmfm7vrcdrzc0000gn/T/ipykernel_5659/992644156.py\"\u001b[0;36m, line \u001b[0;32m1\u001b[0m\n\u001b[0;31m    function random():\u001b[0m\n\u001b[0m             ^\u001b[0m\n\u001b[0;31mSyntaxError\u001b[0m\u001b[0;31m:\u001b[0m invalid syntax\n"
     ]
    }
   ],
   "source": [
    "function random():\n",
    "    return True\n",
    "\n",
    "random()"
   ]
  },
  {
   "cell_type": "code",
   "execution_count": 2,
   "id": "3b597a7b",
   "metadata": {},
   "outputs": [
    {
     "name": "stdout",
     "output_type": "stream",
     "text": [
      "True\n"
     ]
    }
   ],
   "source": [
    "def random():\n",
    "    return True\n",
    "\n",
    "print(random())"
   ]
  },
  {
   "cell_type": "code",
   "execution_count": null,
   "id": "99f2ad36",
   "metadata": {},
   "outputs": [],
   "source": []
  },
  {
   "cell_type": "code",
   "execution_count": null,
   "id": "1f9d5d5c",
   "metadata": {},
   "outputs": [],
   "source": []
  },
  {
   "cell_type": "code",
   "execution_count": null,
   "id": "4451f6fd",
   "metadata": {},
   "outputs": [],
   "source": []
  },
  {
   "cell_type": "markdown",
   "id": "bfcaa266",
   "metadata": {},
   "source": [
    "#### Quiz 2\n",
    "```py\n",
    "def abc:\n",
    "    return \"I am a function!\"\n",
    "\n",
    "abc()\n",
    "```"
   ]
  },
  {
   "cell_type": "code",
   "execution_count": 3,
   "id": "c17efa13",
   "metadata": {},
   "outputs": [
    {
     "ename": "SyntaxError",
     "evalue": "invalid syntax (2677837596.py, line 1)",
     "output_type": "error",
     "traceback": [
      "\u001b[0;36m  File \u001b[0;32m\"/var/folders/jn/1bsrct314hv5xmfm7vrcdrzc0000gn/T/ipykernel_5659/2677837596.py\"\u001b[0;36m, line \u001b[0;32m1\u001b[0m\n\u001b[0;31m    def abc:\u001b[0m\n\u001b[0m           ^\u001b[0m\n\u001b[0;31mSyntaxError\u001b[0m\u001b[0;31m:\u001b[0m invalid syntax\n"
     ]
    }
   ],
   "source": [
    "def abc:\n",
    "    return \"I am a function!\"\n",
    "\n",
    "abc()"
   ]
  },
  {
   "cell_type": "code",
   "execution_count": 4,
   "id": "02f20cdd",
   "metadata": {},
   "outputs": [
    {
     "name": "stdout",
     "output_type": "stream",
     "text": [
      "I am a function!\n"
     ]
    }
   ],
   "source": [
    "def abc():\n",
    "    return \"I am a function!\"\n",
    "\n",
    "print(abc())"
   ]
  },
  {
   "cell_type": "code",
   "execution_count": null,
   "id": "a57d0508",
   "metadata": {},
   "outputs": [],
   "source": []
  },
  {
   "cell_type": "code",
   "execution_count": null,
   "id": "c75d4819",
   "metadata": {},
   "outputs": [],
   "source": []
  },
  {
   "cell_type": "code",
   "execution_count": null,
   "id": "e95035be",
   "metadata": {},
   "outputs": [],
   "source": []
  },
  {
   "cell_type": "code",
   "execution_count": null,
   "id": "8fd02ad9",
   "metadata": {},
   "outputs": [],
   "source": []
  },
  {
   "cell_type": "code",
   "execution_count": null,
   "id": "6c788e7c",
   "metadata": {},
   "outputs": [],
   "source": []
  },
  {
   "cell_type": "code",
   "execution_count": null,
   "id": "e577f4ce",
   "metadata": {},
   "outputs": [],
   "source": []
  },
  {
   "cell_type": "markdown",
   "id": "7dafe9f3",
   "metadata": {},
   "source": [
    "#### Quiz 3\n",
    "```py\n",
    "a = 10\n",
    "\n",
    "def calculator(number):\n",
    "    print(number * 10)\n",
    "\n",
    "calculator(a)\n",
    "print(a)\n",
    "```"
   ]
  },
  {
   "cell_type": "code",
   "execution_count": 5,
   "id": "07794183",
   "metadata": {},
   "outputs": [
    {
     "name": "stdout",
     "output_type": "stream",
     "text": [
      "100\n",
      "10\n"
     ]
    }
   ],
   "source": [
    "a = 10\n",
    "\n",
    "def calculator(number):\n",
    "    print(number * 10)\n",
    "\n",
    "calculator(a)\n",
    "print(a)"
   ]
  },
  {
   "cell_type": "code",
   "execution_count": null,
   "id": "ed172878",
   "metadata": {},
   "outputs": [],
   "source": []
  },
  {
   "cell_type": "code",
   "execution_count": null,
   "id": "9546c8a5",
   "metadata": {},
   "outputs": [],
   "source": []
  },
  {
   "cell_type": "code",
   "execution_count": null,
   "id": "1cd4f792",
   "metadata": {},
   "outputs": [],
   "source": []
  },
  {
   "cell_type": "markdown",
   "id": "8b11c293",
   "metadata": {},
   "source": [
    "#### Quiz 4\n",
    "```py\n",
    "def f(a, b, c):\n",
    "    print((a + b + c)/3)\n",
    "f(3, 5, 7)\n",
    "```"
   ]
  },
  {
   "cell_type": "code",
   "execution_count": 6,
   "id": "c914971c",
   "metadata": {},
   "outputs": [
    {
     "name": "stdout",
     "output_type": "stream",
     "text": [
      "5.0\n"
     ]
    }
   ],
   "source": [
    "def f(a, b, c):\n",
    "    print((a + b + c)/3)\n",
    "f(3, 5, 7)"
   ]
  },
  {
   "cell_type": "code",
   "execution_count": null,
   "id": "6b7b3515",
   "metadata": {},
   "outputs": [],
   "source": []
  },
  {
   "cell_type": "code",
   "execution_count": null,
   "id": "8142525e",
   "metadata": {},
   "outputs": [],
   "source": []
  },
  {
   "cell_type": "code",
   "execution_count": null,
   "id": "c294b1f0",
   "metadata": {},
   "outputs": [],
   "source": []
  },
  {
   "cell_type": "code",
   "execution_count": null,
   "id": "2b102346",
   "metadata": {},
   "outputs": [],
   "source": []
  },
  {
   "cell_type": "markdown",
   "id": "41fc4986",
   "metadata": {},
   "source": [
    "#### Quiz 5\n",
    "```py\n",
    "def power(number,exponent):\n",
    "    return number**exponent\n",
    "\n",
    "print(power(3, 2))\n",
    "```"
   ]
  },
  {
   "cell_type": "code",
   "execution_count": 7,
   "id": "cde888d7",
   "metadata": {},
   "outputs": [
    {
     "name": "stdout",
     "output_type": "stream",
     "text": [
      "9\n"
     ]
    }
   ],
   "source": [
    "def power(number,exponent):\n",
    "    return number**exponent\n",
    "\n",
    "print(power(3, 2))"
   ]
  },
  {
   "cell_type": "code",
   "execution_count": null,
   "id": "bcc40e32",
   "metadata": {},
   "outputs": [],
   "source": []
  },
  {
   "cell_type": "code",
   "execution_count": null,
   "id": "11f10c3c",
   "metadata": {},
   "outputs": [],
   "source": []
  },
  {
   "cell_type": "code",
   "execution_count": null,
   "id": "8ff696a0",
   "metadata": {},
   "outputs": [],
   "source": []
  },
  {
   "cell_type": "markdown",
   "id": "1a508650",
   "metadata": {},
   "source": [
    "### Keyword Arguments"
   ]
  },
  {
   "cell_type": "code",
   "execution_count": 8,
   "id": "9f7a41ae",
   "metadata": {},
   "outputs": [],
   "source": [
    "def introduce_family(me, father, mother, sibling):\n",
    "    print(\"Me = \", me)\n",
    "    print(\"Father =\", father)\n",
    "    print(\"Mother =\", mother)\n",
    "    print(\"Sibling = \", sibling)"
   ]
  },
  {
   "cell_type": "code",
   "execution_count": 9,
   "id": "0805fe6f",
   "metadata": {},
   "outputs": [
    {
     "name": "stdout",
     "output_type": "stream",
     "text": [
      "Me =  Ron\n",
      "Father = Arthur\n",
      "Mother = Molly\n",
      "Sibling =  Ginny\n"
     ]
    }
   ],
   "source": [
    "introduce_family(\"Ron\", \"Arthur\", \"Molly\", \"Ginny\")"
   ]
  },
  {
   "cell_type": "code",
   "execution_count": null,
   "id": "488e9b08",
   "metadata": {},
   "outputs": [],
   "source": []
  },
  {
   "cell_type": "code",
   "execution_count": 10,
   "id": "b8644354",
   "metadata": {},
   "outputs": [
    {
     "name": "stdout",
     "output_type": "stream",
     "text": [
      "Me =  Ron\n",
      "Father = Ginny\n",
      "Mother = Arthur\n",
      "Sibling =  Molly\n"
     ]
    }
   ],
   "source": [
    "introduce_family(\"Ron\", \"Ginny\", \"Arthur\", \"Molly\")"
   ]
  },
  {
   "cell_type": "code",
   "execution_count": 11,
   "id": "93ef5f14",
   "metadata": {},
   "outputs": [
    {
     "name": "stdout",
     "output_type": "stream",
     "text": [
      "Me =  Ron\n",
      "Father = Arthur\n",
      "Mother = Molly\n",
      "Sibling =  Ginny\n"
     ]
    }
   ],
   "source": [
    "introduce_family(father='Arthur', sibling='Ginny', me='Ron', mother='Molly')"
   ]
  },
  {
   "cell_type": "code",
   "execution_count": null,
   "id": "0ae8a8fc",
   "metadata": {},
   "outputs": [],
   "source": []
  },
  {
   "cell_type": "code",
   "execution_count": null,
   "id": "8db709a6",
   "metadata": {},
   "outputs": [],
   "source": []
  },
  {
   "cell_type": "code",
   "execution_count": 12,
   "id": "cb7c9225",
   "metadata": {},
   "outputs": [],
   "source": [
    "def random(a, b, c, d):\n",
    "    print(a, b, c, d)"
   ]
  },
  {
   "cell_type": "code",
   "execution_count": 13,
   "id": "9c45ff8a",
   "metadata": {},
   "outputs": [
    {
     "name": "stdout",
     "output_type": "stream",
     "text": [
      "2 1 5 3\n"
     ]
    }
   ],
   "source": [
    "# Keywords argument\n",
    "random(b=1, c=5, a=2, d=3)"
   ]
  },
  {
   "cell_type": "code",
   "execution_count": 14,
   "id": "1f519a1f",
   "metadata": {},
   "outputs": [
    {
     "name": "stdout",
     "output_type": "stream",
     "text": [
      "4 6 2 9\n"
     ]
    }
   ],
   "source": [
    "# Positional arguments\n",
    "random(4, 6, 2, 9)"
   ]
  },
  {
   "cell_type": "code",
   "execution_count": 15,
   "id": "4744a687",
   "metadata": {},
   "outputs": [
    {
     "name": "stdout",
     "output_type": "stream",
     "text": [
      "7 2 1 5\n"
     ]
    }
   ],
   "source": [
    "# Positional -> Keyword\n",
    "random(7, 2, d=5, c=1)"
   ]
  },
  {
   "cell_type": "code",
   "execution_count": 18,
   "id": "c8f3666d",
   "metadata": {},
   "outputs": [
    {
     "ename": "TypeError",
     "evalue": "random() got multiple values for argument 'a'",
     "output_type": "error",
     "traceback": [
      "\u001b[0;31m---------------------------------------------------------------------------\u001b[0m",
      "\u001b[0;31mTypeError\u001b[0m                                 Traceback (most recent call last)",
      "\u001b[0;32m/var/folders/jn/1bsrct314hv5xmfm7vrcdrzc0000gn/T/ipykernel_5659/2533764420.py\u001b[0m in \u001b[0;36m<module>\u001b[0;34m\u001b[0m\n\u001b[0;32m----> 1\u001b[0;31m \u001b[0mrandom\u001b[0m\u001b[0;34m(\u001b[0m\u001b[0;36m5\u001b[0m\u001b[0;34m,\u001b[0m \u001b[0;36m8\u001b[0m\u001b[0;34m,\u001b[0m \u001b[0ma\u001b[0m\u001b[0;34m=\u001b[0m\u001b[0;36m0\u001b[0m\u001b[0;34m,\u001b[0m \u001b[0mb\u001b[0m\u001b[0;34m=\u001b[0m\u001b[0;36m3\u001b[0m\u001b[0;34m)\u001b[0m\u001b[0;34m\u001b[0m\u001b[0;34m\u001b[0m\u001b[0m\n\u001b[0m",
      "\u001b[0;31mTypeError\u001b[0m: random() got multiple values for argument 'a'"
     ]
    }
   ],
   "source": [
    "# Positional -> Keyword\n",
    "# Issue: multiple values for a & b\n",
    "random(5, 8, a=0, b=3)"
   ]
  },
  {
   "cell_type": "code",
   "execution_count": 17,
   "id": "2dae6bed",
   "metadata": {},
   "outputs": [
    {
     "ename": "SyntaxError",
     "evalue": "positional argument follows keyword argument (472983061.py, line 1)",
     "output_type": "error",
     "traceback": [
      "\u001b[0;36m  File \u001b[0;32m\"/var/folders/jn/1bsrct314hv5xmfm7vrcdrzc0000gn/T/ipykernel_5659/472983061.py\"\u001b[0;36m, line \u001b[0;32m1\u001b[0m\n\u001b[0;31m    random(a=7, b=5, 2, 1)\u001b[0m\n\u001b[0m                         ^\u001b[0m\n\u001b[0;31mSyntaxError\u001b[0m\u001b[0;31m:\u001b[0m positional argument follows keyword argument\n"
     ]
    }
   ],
   "source": [
    "# Keyword -> Positional\n",
    "random(a=7, b=5, 2, 1)"
   ]
  },
  {
   "cell_type": "code",
   "execution_count": null,
   "id": "3f8e8a96",
   "metadata": {},
   "outputs": [],
   "source": []
  },
  {
   "cell_type": "code",
   "execution_count": 19,
   "id": "0820edc0",
   "metadata": {},
   "outputs": [
    {
     "name": "stdout",
     "output_type": "stream",
     "text": [
      "Hello+-\n",
      "ok"
     ]
    }
   ],
   "source": [
    "print(\"Hello\", end='+-\\nok')"
   ]
  },
  {
   "cell_type": "code",
   "execution_count": 20,
   "id": "cd9e6681",
   "metadata": {},
   "outputs": [
    {
     "name": "stdout",
     "output_type": "stream",
     "text": [
      "Hello_world_hi\n"
     ]
    }
   ],
   "source": [
    "print(\"Hello\", \"world\", \"hi\", sep='_')"
   ]
  },
  {
   "cell_type": "code",
   "execution_count": null,
   "id": "503c70ef",
   "metadata": {},
   "outputs": [],
   "source": []
  },
  {
   "cell_type": "markdown",
   "id": "e3781123",
   "metadata": {},
   "source": [
    "#### Quiz 6\n",
    "```py\n",
    "def power(number,exponent):\n",
    "    return number**exponent\n",
    "\n",
    "power(exponent=2,number=3)\n",
    "```"
   ]
  },
  {
   "cell_type": "code",
   "execution_count": 21,
   "id": "3c2662c6",
   "metadata": {},
   "outputs": [
    {
     "name": "stdout",
     "output_type": "stream",
     "text": [
      "9\n"
     ]
    }
   ],
   "source": [
    "def power(number,exponent):\n",
    "    return number**exponent\n",
    "\n",
    "print(power(exponent=2,number=3))"
   ]
  },
  {
   "cell_type": "code",
   "execution_count": null,
   "id": "958f1560",
   "metadata": {},
   "outputs": [],
   "source": []
  },
  {
   "cell_type": "code",
   "execution_count": null,
   "id": "b11af0aa",
   "metadata": {},
   "outputs": [],
   "source": []
  },
  {
   "cell_type": "markdown",
   "id": "fb08e63f",
   "metadata": {},
   "source": [
    "## Default Arguments"
   ]
  },
  {
   "cell_type": "code",
   "execution_count": 24,
   "id": "0ac948b9",
   "metadata": {},
   "outputs": [],
   "source": [
    "def simple_interest(p, t, r):\n",
    "    return (p * r * t) / 100"
   ]
  },
  {
   "cell_type": "code",
   "execution_count": null,
   "id": "548c103d",
   "metadata": {},
   "outputs": [],
   "source": []
  },
  {
   "cell_type": "code",
   "execution_count": 25,
   "id": "b49ba8ce",
   "metadata": {},
   "outputs": [
    {
     "data": {
      "text/plain": [
       "5.0"
      ]
     },
     "execution_count": 25,
     "metadata": {},
     "output_type": "execute_result"
    }
   ],
   "source": [
    "simple_interest(100, 1, 5)"
   ]
  },
  {
   "cell_type": "code",
   "execution_count": 26,
   "id": "bb20d19a",
   "metadata": {},
   "outputs": [
    {
     "data": {
      "text/plain": [
       "75.0"
      ]
     },
     "execution_count": 26,
     "metadata": {},
     "output_type": "execute_result"
    }
   ],
   "source": [
    "simple_interest(250, 6, 5)"
   ]
  },
  {
   "cell_type": "code",
   "execution_count": null,
   "id": "bca41292",
   "metadata": {},
   "outputs": [],
   "source": [
    "# By default, we want the rate of interest to be 5%\n",
    "# However we can get other rates as well"
   ]
  },
  {
   "cell_type": "code",
   "execution_count": 27,
   "id": "05601092",
   "metadata": {},
   "outputs": [],
   "source": [
    "def simple_interest(p, t, r=5):\n",
    "    return (p * r * t) / 100"
   ]
  },
  {
   "cell_type": "code",
   "execution_count": 28,
   "id": "6f6eb786",
   "metadata": {},
   "outputs": [
    {
     "data": {
      "text/plain": [
       "10.0"
      ]
     },
     "execution_count": 28,
     "metadata": {},
     "output_type": "execute_result"
    }
   ],
   "source": [
    "simple_interest(100, 2)"
   ]
  },
  {
   "cell_type": "code",
   "execution_count": 29,
   "id": "586bb559",
   "metadata": {},
   "outputs": [
    {
     "data": {
      "text/plain": [
       "20.0"
      ]
     },
     "execution_count": 29,
     "metadata": {},
     "output_type": "execute_result"
    }
   ],
   "source": [
    "simple_interest(100, 2, 10)"
   ]
  },
  {
   "cell_type": "code",
   "execution_count": null,
   "id": "9f430b15",
   "metadata": {},
   "outputs": [],
   "source": []
  },
  {
   "cell_type": "code",
   "execution_count": 30,
   "id": "21a397d5",
   "metadata": {},
   "outputs": [],
   "source": [
    "def simple_interest(p, t=1, r=5):\n",
    "    return (p * r * t) / 100"
   ]
  },
  {
   "cell_type": "code",
   "execution_count": 31,
   "id": "3928ac80",
   "metadata": {},
   "outputs": [
    {
     "data": {
      "text/plain": [
       "0.5"
      ]
     },
     "execution_count": 31,
     "metadata": {},
     "output_type": "execute_result"
    }
   ],
   "source": [
    "simple_interest(10)"
   ]
  },
  {
   "cell_type": "code",
   "execution_count": 32,
   "id": "b3db96a6",
   "metadata": {},
   "outputs": [
    {
     "data": {
      "text/plain": [
       "1.0"
      ]
     },
     "execution_count": 32,
     "metadata": {},
     "output_type": "execute_result"
    }
   ],
   "source": [
    "simple_interest(10, 2)"
   ]
  },
  {
   "cell_type": "code",
   "execution_count": 33,
   "id": "c48aba60",
   "metadata": {},
   "outputs": [
    {
     "data": {
      "text/plain": [
       "2.0"
      ]
     },
     "execution_count": 33,
     "metadata": {},
     "output_type": "execute_result"
    }
   ],
   "source": [
    "simple_interest(10, 2, 10)"
   ]
  },
  {
   "cell_type": "code",
   "execution_count": null,
   "id": "792e456e",
   "metadata": {},
   "outputs": [],
   "source": []
  },
  {
   "cell_type": "code",
   "execution_count": 35,
   "id": "94aa9803",
   "metadata": {},
   "outputs": [],
   "source": [
    "def simple_interest(p=50, t=1, r=5):\n",
    "    return (p * r * t) / 100"
   ]
  },
  {
   "cell_type": "code",
   "execution_count": 36,
   "id": "63662467",
   "metadata": {},
   "outputs": [
    {
     "data": {
      "text/plain": [
       "0.1"
      ]
     },
     "execution_count": 36,
     "metadata": {},
     "output_type": "execute_result"
    }
   ],
   "source": [
    "simple_interest(r=2, p=5)"
   ]
  },
  {
   "cell_type": "code",
   "execution_count": 37,
   "id": "b19a9730",
   "metadata": {},
   "outputs": [
    {
     "data": {
      "text/plain": [
       "8.0"
      ]
     },
     "execution_count": 37,
     "metadata": {},
     "output_type": "execute_result"
    }
   ],
   "source": [
    "simple_interest(r=8, t=2)"
   ]
  },
  {
   "cell_type": "code",
   "execution_count": 38,
   "id": "8ae71821",
   "metadata": {},
   "outputs": [
    {
     "data": {
      "text/plain": [
       "2.0"
      ]
     },
     "execution_count": 38,
     "metadata": {},
     "output_type": "execute_result"
    }
   ],
   "source": [
    "simple_interest(100, r=2)"
   ]
  },
  {
   "cell_type": "code",
   "execution_count": null,
   "id": "83d94ffd",
   "metadata": {},
   "outputs": [],
   "source": []
  },
  {
   "cell_type": "code",
   "execution_count": null,
   "id": "4fd89b2e",
   "metadata": {},
   "outputs": [],
   "source": []
  },
  {
   "cell_type": "markdown",
   "id": "86cac066",
   "metadata": {},
   "source": [
    "#### Quiz 8\n",
    "```py\n",
    "def power(x,e=1):\n",
    "    return x**e\n",
    "\n",
    "power(3, 3)\n",
    "\n",
    "```"
   ]
  },
  {
   "cell_type": "code",
   "execution_count": 39,
   "id": "a87c93fa",
   "metadata": {},
   "outputs": [
    {
     "data": {
      "text/plain": [
       "27"
      ]
     },
     "execution_count": 39,
     "metadata": {},
     "output_type": "execute_result"
    }
   ],
   "source": [
    "def power(x,e=1):\n",
    "    return x**e\n",
    "\n",
    "power(3, 3)"
   ]
  },
  {
   "cell_type": "code",
   "execution_count": null,
   "id": "12c3b57c",
   "metadata": {},
   "outputs": [],
   "source": []
  },
  {
   "cell_type": "markdown",
   "id": "235da975",
   "metadata": {},
   "source": [
    "## Question - Date Printing\n",
    "Create a date printing function which takes in 4 arguments \\\n",
    "date, month, year, style\n",
    "\n",
    "- Style 0 -> d/m/y\n",
    "- Style 1 -> m/d/y\n",
    "- For all other styles, \"Invalid Style\"\n",
    "\n",
    "Default style is 0"
   ]
  },
  {
   "cell_type": "code",
   "execution_count": 41,
   "id": "8e184208",
   "metadata": {},
   "outputs": [],
   "source": [
    "def print_date(day, month, year, style=0):\n",
    "    if style == 0:\n",
    "        print(day, month, year, sep='/')\n",
    "    elif style == 1:\n",
    "        print(month, day, year, sep='/')\n",
    "    else:\n",
    "        print('Invalid Style')"
   ]
  },
  {
   "cell_type": "code",
   "execution_count": 42,
   "id": "6f01e39a",
   "metadata": {},
   "outputs": [
    {
     "name": "stdout",
     "output_type": "stream",
     "text": [
      "23/11/2022\n"
     ]
    }
   ],
   "source": [
    "print_date(23, 11, 2022)"
   ]
  },
  {
   "cell_type": "code",
   "execution_count": 43,
   "id": "3c7d2fa7",
   "metadata": {},
   "outputs": [
    {
     "name": "stdout",
     "output_type": "stream",
     "text": [
      "5/1/2022\n"
     ]
    }
   ],
   "source": [
    "print_date(1, 5, 2022, 1)"
   ]
  },
  {
   "cell_type": "code",
   "execution_count": 44,
   "id": "98f38330",
   "metadata": {},
   "outputs": [
    {
     "name": "stdout",
     "output_type": "stream",
     "text": [
      "Invalid Style\n"
     ]
    }
   ],
   "source": [
    "print_date(1, 5, 2022, 20)"
   ]
  },
  {
   "cell_type": "code",
   "execution_count": 48,
   "id": "e52500f6",
   "metadata": {},
   "outputs": [
    {
     "name": "stdout",
     "output_type": "stream",
     "text": [
      "05/08/2022\n"
     ]
    }
   ],
   "source": [
    "print_date(\"05\", \"08\", 2022)"
   ]
  },
  {
   "cell_type": "code",
   "execution_count": null,
   "id": "638c69d5",
   "metadata": {},
   "outputs": [],
   "source": []
  },
  {
   "cell_type": "code",
   "execution_count": null,
   "id": "a961d82a",
   "metadata": {},
   "outputs": [],
   "source": []
  },
  {
   "cell_type": "code",
   "execution_count": null,
   "id": "3a424c6f",
   "metadata": {},
   "outputs": [],
   "source": []
  },
  {
   "cell_type": "code",
   "execution_count": null,
   "id": "33028945",
   "metadata": {},
   "outputs": [],
   "source": []
  },
  {
   "cell_type": "markdown",
   "id": "0d6a1224",
   "metadata": {},
   "source": [
    "## Scope"
   ]
  },
  {
   "cell_type": "code",
   "execution_count": 50,
   "id": "7a1b380a",
   "metadata": {},
   "outputs": [
    {
     "name": "stdout",
     "output_type": "stream",
     "text": [
      "Inside the function -  father\n",
      "Outside the function -  mother\n"
     ]
    }
   ],
   "source": [
    "chief_of_house = \"mother\"\n",
    "\n",
    "def change_chief():\n",
    "    chief_of_house = \"father\"\n",
    "    print(\"Inside the function - \", chief_of_house)\n",
    "    \n",
    "change_chief()\n",
    "print(\"Outside the function - \", chief_of_house)"
   ]
  },
  {
   "cell_type": "code",
   "execution_count": null,
   "id": "d0a60938",
   "metadata": {},
   "outputs": [],
   "source": []
  },
  {
   "cell_type": "code",
   "execution_count": null,
   "id": "24dece27",
   "metadata": {},
   "outputs": [],
   "source": []
  },
  {
   "cell_type": "code",
   "execution_count": null,
   "id": "eeaaa733",
   "metadata": {},
   "outputs": [],
   "source": []
  },
  {
   "cell_type": "code",
   "execution_count": 51,
   "id": "283f2ee2",
   "metadata": {},
   "outputs": [
    {
     "name": "stdout",
     "output_type": "stream",
     "text": [
      "Inside the function -  5\n",
      "Outside the function -  10\n"
     ]
    }
   ],
   "source": [
    "a = 10 # global variable\n",
    "\n",
    "def random():\n",
    "    a = 5 # local variable\n",
    "    print(\"Inside the function - \", a)\n",
    "    \n",
    "random()\n",
    "print(\"Outside the function - \", a)"
   ]
  },
  {
   "cell_type": "markdown",
   "id": "6758e9d0",
   "metadata": {},
   "source": [
    "This variable `a = 5` is only accessible inside the block in which this has been defined. This block of region where you can access this variable is said to be its **scope**"
   ]
  },
  {
   "cell_type": "markdown",
   "id": "dfb719c6",
   "metadata": {},
   "source": [
    "Global variable - Any variable defined in the global part of your program. \n",
    "For example `a=10` in above example"
   ]
  },
  {
   "cell_type": "markdown",
   "id": "61fa50d1",
   "metadata": {},
   "source": [
    "Local variable - Any variable defined in a particular function is said to be *local* to that function.. \n",
    "For example `a=5` in above example"
   ]
  },
  {
   "cell_type": "code",
   "execution_count": null,
   "id": "d4154fb1",
   "metadata": {},
   "outputs": [],
   "source": []
  },
  {
   "cell_type": "code",
   "execution_count": null,
   "id": "721beae4",
   "metadata": {},
   "outputs": [],
   "source": []
  },
  {
   "cell_type": "code",
   "execution_count": 54,
   "id": "a9e4ce67",
   "metadata": {},
   "outputs": [
    {
     "name": "stdout",
     "output_type": "stream",
     "text": [
      "Inside the function -  10\n",
      "Outside the function -  10\n"
     ]
    }
   ],
   "source": [
    "a = 10 # global\n",
    "\n",
    "def random2():\n",
    "    print(\"Inside the function - \", a)\n",
    "    \n",
    "random2()\n",
    "print(\"Outside the function - \",a)"
   ]
  },
  {
   "cell_type": "code",
   "execution_count": null,
   "id": "f280beab",
   "metadata": {},
   "outputs": [],
   "source": []
  },
  {
   "cell_type": "code",
   "execution_count": null,
   "id": "00f77ed0",
   "metadata": {},
   "outputs": [],
   "source": []
  },
  {
   "cell_type": "code",
   "execution_count": 55,
   "id": "a21632fa",
   "metadata": {},
   "outputs": [
    {
     "name": "stdout",
     "output_type": "stream",
     "text": [
      "Inside the function -  5\n",
      "Outside the function -  5\n"
     ]
    }
   ],
   "source": [
    "a = 10 # global variable\n",
    "\n",
    "# Somehow change the value of global a inside this function \n",
    "def random3():\n",
    "    global a\n",
    "    # The above statement tells python that use the global 'a'\n",
    "    # Do not define a local variable 'a'\n",
    "    a = 5\n",
    "    print(\"Inside the function - \", a)\n",
    "    \n",
    "random3()\n",
    "print(\"Outside the function - \",a)"
   ]
  },
  {
   "cell_type": "code",
   "execution_count": 56,
   "id": "cd57690d",
   "metadata": {},
   "outputs": [
    {
     "name": "stdout",
     "output_type": "stream",
     "text": [
      "Outside the function -  10\n"
     ]
    }
   ],
   "source": [
    "a = 10 # global variable\n",
    "    \n",
    "print(\"Outside the function - \",a)"
   ]
  },
  {
   "cell_type": "code",
   "execution_count": null,
   "id": "1450ea20",
   "metadata": {},
   "outputs": [],
   "source": []
  },
  {
   "cell_type": "markdown",
   "id": "0d66e6d0",
   "metadata": {},
   "source": [
    "# Bonus Reading Material\n",
    "- What are Default Arguments in Python? - https://www.scaler.com/topics/default-arguments-in-python/\n",
    "- Namespace and Scope in Python - https://www.scaler.com/topics/namespace-and-scope-in-python/\n",
    "- Scope of Variable in Python - https://www.scaler.com/topics/python/python-functions-scope/"
   ]
  },
  {
   "cell_type": "code",
   "execution_count": null,
   "id": "ff6e1060",
   "metadata": {},
   "outputs": [],
   "source": []
  },
  {
   "cell_type": "code",
   "execution_count": null,
   "id": "56a3cd6b",
   "metadata": {},
   "outputs": [],
   "source": []
  },
  {
   "cell_type": "code",
   "execution_count": null,
   "id": "ccd40ac9",
   "metadata": {},
   "outputs": [],
   "source": []
  },
  {
   "cell_type": "markdown",
   "id": "eeafe7c3",
   "metadata": {},
   "source": [
    "# Doubts"
   ]
  },
  {
   "cell_type": "code",
   "execution_count": 57,
   "id": "c9942596",
   "metadata": {},
   "outputs": [],
   "source": [
    "def random(a, b, c, d):\n",
    "    print(a, b, c, d)"
   ]
  },
  {
   "cell_type": "code",
   "execution_count": 58,
   "id": "f0c3e933",
   "metadata": {},
   "outputs": [
    {
     "name": "stdout",
     "output_type": "stream",
     "text": [
      "shashank 5 2 0\n"
     ]
    }
   ],
   "source": [
    "random(b=5, d=0, c=2, a='shashank')"
   ]
  },
  {
   "cell_type": "code",
   "execution_count": null,
   "id": "7524a236",
   "metadata": {},
   "outputs": [],
   "source": []
  },
  {
   "cell_type": "code",
   "execution_count": 59,
   "id": "d7bac60c",
   "metadata": {},
   "outputs": [],
   "source": [
    "x = 5"
   ]
  },
  {
   "cell_type": "code",
   "execution_count": 60,
   "id": "0d078022",
   "metadata": {},
   "outputs": [
    {
     "data": {
      "text/plain": [
       "5"
      ]
     },
     "execution_count": 60,
     "metadata": {},
     "output_type": "execute_result"
    }
   ],
   "source": [
    "x"
   ]
  },
  {
   "cell_type": "code",
   "execution_count": null,
   "id": "771530f8",
   "metadata": {},
   "outputs": [],
   "source": []
  }
 ],
 "metadata": {
  "kernelspec": {
   "display_name": "Python 3 (ipykernel)",
   "language": "python",
   "name": "python3"
  },
  "language_info": {
   "codemirror_mode": {
    "name": "ipython",
    "version": 3
   },
   "file_extension": ".py",
   "mimetype": "text/x-python",
   "name": "python",
   "nbconvert_exporter": "python",
   "pygments_lexer": "ipython3",
   "version": "3.9.12"
  }
 },
 "nbformat": 4,
 "nbformat_minor": 5
}
