{
 "cells": [
  {
   "cell_type": "markdown",
   "id": "e1dce45b",
   "metadata": {},
   "source": [
    "# Problems on Loops"
   ]
  },
  {
   "cell_type": "code",
   "execution_count": null,
   "id": "96dd046b",
   "metadata": {},
   "outputs": [],
   "source": []
  },
  {
   "cell_type": "markdown",
   "id": "6e24f8cf",
   "metadata": {},
   "source": [
    "## Loop control statements\n",
    "![](https://scaler.com/topics/images/Break-Pass-and-continue-statement-in-Python.webp)"
   ]
  },
  {
   "cell_type": "code",
   "execution_count": null,
   "id": "6923b950",
   "metadata": {},
   "outputs": [],
   "source": []
  },
  {
   "cell_type": "markdown",
   "id": "d7cf8ae2",
   "metadata": {},
   "source": [
    "### pass statement\n",
    "![](https://scaler.com/topics/images/pass-in-python.webp)\n",
    "\n",
    "\\\n",
    "pass in Python is a null statement which the interpreter simply 'moves over' while executing the code. It can be used in a variety of scenarios where you want to leave parts of your code undefined (such as if-else, loops, classes or methods) but the Python syntax doesn't allow it."
   ]
  },
  {
   "cell_type": "code",
   "execution_count": 5,
   "id": "1a4e0837",
   "metadata": {},
   "outputs": [
    {
     "name": "stdout",
     "output_type": "stream",
     "text": [
      "End of the program\n"
     ]
    }
   ],
   "source": [
    "N = 1000\n",
    "\n",
    "if N % 100 == 0:\n",
    "    pass\n",
    "    \n",
    "print(\"End of the program\")"
   ]
  },
  {
   "cell_type": "code",
   "execution_count": null,
   "id": "48d9123f",
   "metadata": {},
   "outputs": [],
   "source": []
  },
  {
   "cell_type": "code",
   "execution_count": null,
   "id": "8498224c",
   "metadata": {},
   "outputs": [],
   "source": []
  },
  {
   "cell_type": "code",
   "execution_count": null,
   "id": "ba5aca86",
   "metadata": {},
   "outputs": [],
   "source": []
  },
  {
   "cell_type": "markdown",
   "id": "95e708c6",
   "metadata": {},
   "source": [
    "<img src=\"https://media.giphy.com/media/um5zgB7txzYeBPZnPZ/giphy.gif\" width=\"200px\" />"
   ]
  },
  {
   "cell_type": "code",
   "execution_count": null,
   "id": "4dd6e7c7",
   "metadata": {},
   "outputs": [],
   "source": []
  },
  {
   "cell_type": "markdown",
   "id": "fe906afd",
   "metadata": {},
   "source": [
    "#### Quiz 1:\n",
    "```py\n",
    "x = 5\n",
    "if x % 2 == 0:\n",
    "    print(x ** 3)\n",
    "    pass\n",
    "else:\n",
    "    print(x ** 2)\n",
    "    pass\n",
    "```"
   ]
  },
  {
   "cell_type": "code",
   "execution_count": 6,
   "id": "9b80e3dd",
   "metadata": {},
   "outputs": [
    {
     "name": "stdout",
     "output_type": "stream",
     "text": [
      "25\n"
     ]
    }
   ],
   "source": [
    "x = 5\n",
    "if x % 2 == 0:\n",
    "    print(x ** 3)\n",
    "    pass\n",
    "else:\n",
    "    print(x ** 2)\n",
    "    pass"
   ]
  },
  {
   "cell_type": "code",
   "execution_count": 7,
   "id": "894177bb",
   "metadata": {},
   "outputs": [
    {
     "name": "stdout",
     "output_type": "stream",
     "text": [
      "25\n"
     ]
    }
   ],
   "source": [
    "x = 5\n",
    "if x % 2 == 0:\n",
    "    print(x ** 3)\n",
    "else:\n",
    "    print(x ** 2)"
   ]
  },
  {
   "cell_type": "code",
   "execution_count": null,
   "id": "34f7f227",
   "metadata": {},
   "outputs": [],
   "source": []
  },
  {
   "cell_type": "code",
   "execution_count": null,
   "id": "9f314b49",
   "metadata": {},
   "outputs": [],
   "source": []
  },
  {
   "cell_type": "markdown",
   "id": "ac243894",
   "metadata": {},
   "source": [
    "## print sep"
   ]
  },
  {
   "cell_type": "code",
   "execution_count": 8,
   "id": "b11cc5c3",
   "metadata": {},
   "outputs": [
    {
     "name": "stdout",
     "output_type": "stream",
     "text": [
      "Hello World 5 True False None 3.4\n"
     ]
    }
   ],
   "source": [
    "print(\"Hello\", \"World\", 5, True, False, None, 3.4)"
   ]
  },
  {
   "cell_type": "code",
   "execution_count": 9,
   "id": "c8a95e39",
   "metadata": {},
   "outputs": [
    {
     "name": "stdout",
     "output_type": "stream",
     "text": [
      "Hello,World,5,True,False,None,3.4\n"
     ]
    }
   ],
   "source": [
    "# separator\n",
    "print(\"Hello\", \"World\", 5, True, False, None, 3.4, sep=',')"
   ]
  },
  {
   "cell_type": "code",
   "execution_count": 10,
   "id": "7a9906d2",
   "metadata": {},
   "outputs": [
    {
     "name": "stdout",
     "output_type": "stream",
     "text": [
      "Hello__()*&123+=_World__()*&123+=_5__()*&123+=_True__()*&123+=_False__()*&123+=_None__()*&123+=_3.4\n"
     ]
    }
   ],
   "source": [
    "print(\"Hello\", \"World\", 5, True, False, None, 3.4, sep='__()*&123+=_')"
   ]
  },
  {
   "cell_type": "code",
   "execution_count": null,
   "id": "bcdab971",
   "metadata": {},
   "outputs": [],
   "source": [
    "# Default sep=' ' (space)"
   ]
  },
  {
   "cell_type": "code",
   "execution_count": null,
   "id": "992b3291",
   "metadata": {},
   "outputs": [],
   "source": []
  },
  {
   "cell_type": "code",
   "execution_count": null,
   "id": "d50ad94f",
   "metadata": {},
   "outputs": [],
   "source": []
  },
  {
   "cell_type": "markdown",
   "id": "3f8ecafe",
   "metadata": {},
   "source": [
    "#### Quiz 2\n",
    "```py\n",
    "for i in range(3):\n",
    "    print(\"i\", i, sep='=')\n",
    "```"
   ]
  },
  {
   "cell_type": "code",
   "execution_count": 13,
   "id": "1d84d4f1",
   "metadata": {},
   "outputs": [
    {
     "name": "stdout",
     "output_type": "stream",
     "text": [
      "i=0\n",
      "i=1\n",
      "i=2\n"
     ]
    }
   ],
   "source": [
    "for i in range(3):\n",
    "    print(\"i\", i, sep='=')\n",
    "    \n",
    "# Correct answer = A"
   ]
  },
  {
   "cell_type": "code",
   "execution_count": null,
   "id": "067c166f",
   "metadata": {},
   "outputs": [],
   "source": []
  },
  {
   "cell_type": "markdown",
   "id": "e5f7b9cf",
   "metadata": {},
   "source": [
    "#### Quiz 3\n",
    "```py\n",
    "print(\"Hello\", \"World\", sep=',', end='+')\n",
    "print(\"Foo\", sep='./')\n",
    "print(\"Bar\", end=' 123')\n",
    "```"
   ]
  },
  {
   "cell_type": "code",
   "execution_count": 14,
   "id": "0ba4a994",
   "metadata": {},
   "outputs": [
    {
     "name": "stdout",
     "output_type": "stream",
     "text": [
      "Hello,World+Foo\n",
      "Bar 123"
     ]
    }
   ],
   "source": [
    "print(\"Hello\", \"World\", sep=',', end='+')\n",
    "print(\"Foo\", sep='./')\n",
    "print(\"Bar\", end=' 123')"
   ]
  },
  {
   "cell_type": "code",
   "execution_count": null,
   "id": "bf115791",
   "metadata": {},
   "outputs": [],
   "source": [
    "Hello,World+Foo\n",
    "Bar 123"
   ]
  },
  {
   "cell_type": "code",
   "execution_count": null,
   "id": "b3b60a12",
   "metadata": {},
   "outputs": [],
   "source": [
    "Correct answer = A"
   ]
  },
  {
   "cell_type": "code",
   "execution_count": null,
   "id": "4dfbbb9e",
   "metadata": {},
   "outputs": [],
   "source": []
  },
  {
   "cell_type": "code",
   "execution_count": null,
   "id": "5a27376b",
   "metadata": {},
   "outputs": [],
   "source": []
  },
  {
   "cell_type": "code",
   "execution_count": null,
   "id": "e6bdbb4b",
   "metadata": {},
   "outputs": [],
   "source": []
  },
  {
   "cell_type": "code",
   "execution_count": null,
   "id": "320900f2",
   "metadata": {},
   "outputs": [],
   "source": []
  },
  {
   "cell_type": "markdown",
   "id": "e8dc58fb",
   "metadata": {},
   "source": [
    "#### Quiz 4\n",
    "Factors of 48"
   ]
  },
  {
   "cell_type": "code",
   "execution_count": null,
   "id": "0803aabb",
   "metadata": {},
   "outputs": [],
   "source": []
  },
  {
   "cell_type": "code",
   "execution_count": null,
   "id": "c0439791",
   "metadata": {},
   "outputs": [],
   "source": []
  },
  {
   "cell_type": "markdown",
   "id": "5d7e9b24",
   "metadata": {},
   "source": [
    "#### Quiz 5\n",
    "Which of the following is not a prime number?\n",
    "13, 39, 17, 23"
   ]
  },
  {
   "cell_type": "markdown",
   "id": "557a13dc",
   "metadata": {},
   "source": [
    "13 - 1, 13\\\n",
    "39 - 1, 3, 13, 39 \\\n",
    "17 - 1, 17\\\n",
    "23 - 1, 23\n"
   ]
  },
  {
   "cell_type": "code",
   "execution_count": null,
   "id": "4869d15e",
   "metadata": {},
   "outputs": [],
   "source": [
    "39 is not prime"
   ]
  },
  {
   "cell_type": "code",
   "execution_count": null,
   "id": "f9c20b2b",
   "metadata": {},
   "outputs": [],
   "source": []
  },
  {
   "cell_type": "code",
   "execution_count": null,
   "id": "a47ab37b",
   "metadata": {},
   "outputs": [],
   "source": []
  },
  {
   "cell_type": "markdown",
   "id": "c0af972c",
   "metadata": {},
   "source": [
    "### Quiz 6\n",
    "How would you categorise 1 ?"
   ]
  },
  {
   "cell_type": "code",
   "execution_count": null,
   "id": "a9053674",
   "metadata": {},
   "outputs": [],
   "source": []
  },
  {
   "cell_type": "code",
   "execution_count": null,
   "id": "d7e1e1a7",
   "metadata": {},
   "outputs": [],
   "source": []
  },
  {
   "cell_type": "markdown",
   "id": "39962b1b",
   "metadata": {},
   "source": [
    "## Print all factors\n",
    "<img src=\"https://scaler.com/topics/images/factors-of-a-number-in-c_thumbnail.webp\" width=\"300px\" />\n",
    "Given a number N, print all of its factors/divisors. \n",
    "\n",
    "**Sample Input:** \\\n",
    "N = 10\n",
    "\n",
    "**Sample Output:** \\\n",
    "1 2 5 10"
   ]
  },
  {
   "cell_type": "code",
   "execution_count": 19,
   "id": "776938a6",
   "metadata": {},
   "outputs": [
    {
     "name": "stdout",
     "output_type": "stream",
     "text": [
      "100\n",
      "1 2 4 5 10 20 25 50 100 "
     ]
    }
   ],
   "source": [
    "N = int(input())\n",
    "\n",
    "for i in range(1, N+1):\n",
    "    # Check if i is a factor of N\n",
    "    if N % i == 0:\n",
    "        print(i, end=' ')"
   ]
  },
  {
   "cell_type": "code",
   "execution_count": null,
   "id": "0f3614ba",
   "metadata": {},
   "outputs": [],
   "source": []
  },
  {
   "cell_type": "code",
   "execution_count": null,
   "id": "580875d6",
   "metadata": {},
   "outputs": [],
   "source": []
  },
  {
   "cell_type": "code",
   "execution_count": null,
   "id": "123dea7a",
   "metadata": {},
   "outputs": [],
   "source": []
  },
  {
   "cell_type": "markdown",
   "id": "bb0b28a0",
   "metadata": {},
   "source": [
    "## Count of factors\n",
    "Given a number N, print count of its factors/divisors. \n",
    "\n",
    "**Sample Input:** \\\n",
    "N = 10\n",
    "\n",
    "**Sample Output:** \\\n",
    "4"
   ]
  },
  {
   "cell_type": "code",
   "execution_count": 23,
   "id": "89fe808f",
   "metadata": {},
   "outputs": [
    {
     "name": "stdout",
     "output_type": "stream",
     "text": [
      "2\n"
     ]
    }
   ],
   "source": [
    "N = 17\n",
    "countOfFactors = 0\n",
    "\n",
    "for i in range(1, N+1):\n",
    "    # Check if i is a factor of N\n",
    "    if N % i == 0:\n",
    "        countOfFactors += 1\n",
    "        \n",
    "print(countOfFactors)"
   ]
  },
  {
   "cell_type": "code",
   "execution_count": null,
   "id": "e85294cd",
   "metadata": {},
   "outputs": [],
   "source": []
  },
  {
   "cell_type": "code",
   "execution_count": null,
   "id": "19055928",
   "metadata": {},
   "outputs": [],
   "source": []
  },
  {
   "cell_type": "code",
   "execution_count": null,
   "id": "bc0b23d1",
   "metadata": {},
   "outputs": [],
   "source": []
  },
  {
   "cell_type": "code",
   "execution_count": null,
   "id": "5a046de1",
   "metadata": {},
   "outputs": [],
   "source": []
  },
  {
   "cell_type": "code",
   "execution_count": null,
   "id": "fed23247",
   "metadata": {},
   "outputs": [],
   "source": []
  },
  {
   "cell_type": "markdown",
   "id": "bda1c350",
   "metadata": {},
   "source": [
    "## Prime Check\n",
    "![](https://scaler.com/topics/images/prime-numbers-in-python.webp)\n",
    "\n",
    "\n",
    "\\\n",
    "Given a number N, check if it is Prime or Not Prime\n",
    "\n",
    "**Sample Input:** \\\n",
    "N = 10\n",
    "\n",
    "**Sample Output:** \\\n",
    "Not Prime"
   ]
  },
  {
   "cell_type": "code",
   "execution_count": 28,
   "id": "475d6ac0",
   "metadata": {},
   "outputs": [
    {
     "name": "stdout",
     "output_type": "stream",
     "text": [
      "Prime\n"
     ]
    }
   ],
   "source": [
    "N = 101\n",
    "countOfFactors = 0\n",
    "\n",
    "for i in range(1, N+1):\n",
    "    # Check if i is a factor of N\n",
    "    if N % i == 0:\n",
    "        countOfFactors += 1\n",
    "        \n",
    "if countOfFactors == 2:\n",
    "    print(\"Prime\")\n",
    "else:\n",
    "    print(\"Not Prime\")"
   ]
  },
  {
   "cell_type": "code",
   "execution_count": null,
   "id": "aa992871",
   "metadata": {},
   "outputs": [],
   "source": []
  },
  {
   "cell_type": "code",
   "execution_count": null,
   "id": "64fa0062",
   "metadata": {},
   "outputs": [],
   "source": []
  },
  {
   "cell_type": "code",
   "execution_count": null,
   "id": "ccbe426c",
   "metadata": {},
   "outputs": [],
   "source": []
  },
  {
   "cell_type": "code",
   "execution_count": null,
   "id": "2a90607a",
   "metadata": {},
   "outputs": [],
   "source": []
  },
  {
   "cell_type": "code",
   "execution_count": null,
   "id": "115b2261",
   "metadata": {},
   "outputs": [],
   "source": []
  },
  {
   "cell_type": "code",
   "execution_count": null,
   "id": "01980e3c",
   "metadata": {},
   "outputs": [],
   "source": []
  },
  {
   "cell_type": "markdown",
   "id": "b3250a5c",
   "metadata": {},
   "source": [
    "## Sum of factors\n",
    "Given a number N, print sum of its factors/divisors. \n",
    "\n",
    "**Sample Input:** \\\n",
    "N = 10\n",
    "\n",
    "**Sample Output:** \\\n",
    "18\n",
    "\n",
    "**Explanation:** \\\n",
    "1 + 2 + 5 + 10"
   ]
  },
  {
   "cell_type": "code",
   "execution_count": 32,
   "id": "ccac4800",
   "metadata": {},
   "outputs": [
    {
     "name": "stdout",
     "output_type": "stream",
     "text": [
      "15\n"
     ]
    }
   ],
   "source": [
    "N = 8\n",
    "sumOfFactors = 0\n",
    "\n",
    "for i in range(1, N+1):\n",
    "    # Check if i is a factor of N\n",
    "    if N % i == 0:\n",
    "        sumOfFactors += i\n",
    "        \n",
    "print(sumOfFactors)"
   ]
  },
  {
   "cell_type": "code",
   "execution_count": null,
   "id": "23e9340c",
   "metadata": {},
   "outputs": [],
   "source": []
  },
  {
   "cell_type": "code",
   "execution_count": null,
   "id": "0dc32a82",
   "metadata": {},
   "outputs": [],
   "source": []
  },
  {
   "cell_type": "code",
   "execution_count": 35,
   "id": "b0b99a78",
   "metadata": {},
   "outputs": [
    {
     "name": "stdout",
     "output_type": "stream",
     "text": [
      "Not Prime\n",
      "Prime\n",
      "Prime\n",
      "Prime\n",
      "Not Prime\n",
      "Not Prime\n",
      "Not Prime\n",
      "Not Prime\n",
      "Not Prime\n",
      "Not Prime\n"
     ]
    }
   ],
   "source": [
    "N = 10\n",
    "countOfFactors = 0\n",
    "\n",
    "for i in range(1, N+1):\n",
    "    # Check if i is a factor of N\n",
    "    if N % i == 0:\n",
    "        countOfFactors += 1\n",
    "        \n",
    "    if countOfFactors == 2:\n",
    "        print(\"Prime\")\n",
    "    else:\n",
    "        print(\"Not Prime\")"
   ]
  },
  {
   "cell_type": "code",
   "execution_count": null,
   "id": "caac8a01",
   "metadata": {},
   "outputs": [],
   "source": []
  },
  {
   "cell_type": "code",
   "execution_count": null,
   "id": "68680ba5",
   "metadata": {},
   "outputs": [],
   "source": []
  },
  {
   "cell_type": "code",
   "execution_count": null,
   "id": "9a130d78",
   "metadata": {},
   "outputs": [],
   "source": []
  },
  {
   "cell_type": "markdown",
   "id": "b8f4cfc4",
   "metadata": {},
   "source": [
    "# Break statement\n",
    "Stop / Destroy a loop. Works with both for-loops and while-loops.\n"
   ]
  },
  {
   "cell_type": "code",
   "execution_count": 44,
   "id": "792694e3",
   "metadata": {},
   "outputs": [
    {
     "name": "stdout",
     "output_type": "stream",
     "text": [
      "0 After the if\n",
      "1 After the if\n",
      "2 After the if\n",
      "3 After the if\n",
      "4 After the if\n",
      "5 Outside the loop\n"
     ]
    }
   ],
   "source": [
    "for i in range(10):\n",
    "    print(i, end=' ')\n",
    "    \n",
    "    if i == 5:\n",
    "        break\n",
    "    \n",
    "    print(\"After the if\")\n",
    "    \n",
    "print(\"Outside the loop\")"
   ]
  },
  {
   "cell_type": "code",
   "execution_count": null,
   "id": "362d1ba1",
   "metadata": {},
   "outputs": [],
   "source": []
  },
  {
   "cell_type": "code",
   "execution_count": null,
   "id": "be13494a",
   "metadata": {},
   "outputs": [],
   "source": []
  },
  {
   "cell_type": "markdown",
   "id": "fb7f4c55",
   "metadata": {},
   "source": [
    "#### Quiz 7\n",
    "```py\n",
    "for i in range(1, 10):\n",
    "    if i == 5:\n",
    "        break\n",
    "    print(i, end=' ')\n",
    "```"
   ]
  },
  {
   "cell_type": "code",
   "execution_count": 42,
   "id": "43858e9f",
   "metadata": {},
   "outputs": [
    {
     "name": "stdout",
     "output_type": "stream",
     "text": [
      "1 2 3 4 "
     ]
    }
   ],
   "source": [
    "# 1, 2, 3, 4, 5, 6, 7, 8, 9\n",
    "for i in range(1, 10):\n",
    "    if i == 5:\n",
    "        break\n",
    "    print(i, end=' ')"
   ]
  },
  {
   "cell_type": "code",
   "execution_count": null,
   "id": "d9e784d8",
   "metadata": {},
   "outputs": [],
   "source": []
  },
  {
   "cell_type": "markdown",
   "id": "dff74499",
   "metadata": {},
   "source": [
    "<img src=\"https://media.giphy.com/media/dYsYG3shlTDO1S38Vg/giphy.gif\" width=\"300px\" />"
   ]
  },
  {
   "cell_type": "code",
   "execution_count": null,
   "id": "84f321a5",
   "metadata": {},
   "outputs": [],
   "source": []
  },
  {
   "cell_type": "code",
   "execution_count": null,
   "id": "7b0bdd72",
   "metadata": {},
   "outputs": [],
   "source": []
  },
  {
   "cell_type": "markdown",
   "id": "c4c42ca3",
   "metadata": {},
   "source": [
    "# Continue statement\n",
    "<img src=\"https://media.giphy.com/media/l2YWxte7sJB2XuE8M/giphy.gif\" width=\"300px\" />\n",
    "\n",
    "Skips an iteration.\n",
    "Works with both for loops and while loops"
   ]
  },
  {
   "cell_type": "code",
   "execution_count": 45,
   "id": "91ef43a9",
   "metadata": {},
   "outputs": [
    {
     "name": "stdout",
     "output_type": "stream",
     "text": [
      "0 1 2 3 4 6 7 8 9 "
     ]
    }
   ],
   "source": [
    "for i in range(10):\n",
    "    if i == 5:\n",
    "        continue\n",
    "    print(i, end=' ')"
   ]
  },
  {
   "cell_type": "code",
   "execution_count": null,
   "id": "9c285400",
   "metadata": {},
   "outputs": [],
   "source": []
  },
  {
   "cell_type": "markdown",
   "id": "0fa79137",
   "metadata": {},
   "source": [
    "#### Quiz 8\n",
    "What is the output of the following?\n",
    "```py\n",
    "for i in range(0,10):\n",
    "     if(i%3==0):\n",
    "        continue\n",
    "    print(i, end=' ')\n",
    "```\n"
   ]
  },
  {
   "cell_type": "code",
   "execution_count": 48,
   "id": "9ca94e71",
   "metadata": {},
   "outputs": [
    {
     "name": "stdout",
     "output_type": "stream",
     "text": [
      "1 2 4 5 7 8 "
     ]
    }
   ],
   "source": [
    "for i in range(0,10):\n",
    "    if(i%3==0):\n",
    "        continue\n",
    "    print(i, end=' ')"
   ]
  },
  {
   "cell_type": "code",
   "execution_count": null,
   "id": "11b4348d",
   "metadata": {},
   "outputs": [],
   "source": [
    "range(0, 10) = 0,1,2,3,4,5,6,7,8,9 \n",
    "Skipped = 0, 3, 6, 9"
   ]
  },
  {
   "cell_type": "code",
   "execution_count": null,
   "id": "c0e47f1c",
   "metadata": {},
   "outputs": [],
   "source": []
  },
  {
   "cell_type": "code",
   "execution_count": 1,
   "id": "7597821e",
   "metadata": {},
   "outputs": [
    {
     "name": "stdout",
     "output_type": "stream",
     "text": [
      "1 2 4 5 7 8 10 "
     ]
    }
   ],
   "source": [
    "i = 0\n",
    "while i < 10:\n",
    "    i += 1\n",
    "    if (i%3==0):\n",
    "        continue\n",
    "    print(i, end=' ')"
   ]
  },
  {
   "cell_type": "code",
   "execution_count": null,
   "id": "1e709bd3",
   "metadata": {},
   "outputs": [],
   "source": []
  },
  {
   "cell_type": "code",
   "execution_count": null,
   "id": "83e8689d",
   "metadata": {},
   "outputs": [],
   "source": []
  },
  {
   "cell_type": "code",
   "execution_count": null,
   "id": "53812636",
   "metadata": {},
   "outputs": [],
   "source": []
  },
  {
   "cell_type": "markdown",
   "id": "d06f84eb",
   "metadata": {},
   "source": [
    "## Random Game\n",
    "Design a game to generate and print random numbers from 1 to 10.\n",
    "- You need to keep on printing till you get a 5\n",
    "- Skip printing multiples of 4"
   ]
  },
  {
   "cell_type": "code",
   "execution_count": null,
   "id": "3c25d089",
   "metadata": {},
   "outputs": [],
   "source": []
  },
  {
   "cell_type": "code",
   "execution_count": 8,
   "id": "3b37fe7d",
   "metadata": {},
   "outputs": [
    {
     "name": "stdout",
     "output_type": "stream",
     "text": [
      "1\n"
     ]
    }
   ],
   "source": [
    "# Generate a random number\n",
    "import random\n",
    "r = random.randint(1, 10) # both included\n",
    "print(r)"
   ]
  },
  {
   "cell_type": "code",
   "execution_count": 20,
   "id": "3feefd67",
   "metadata": {},
   "outputs": [
    {
     "name": "stdout",
     "output_type": "stream",
     "text": [
      "5 7 10 10 8 "
     ]
    }
   ],
   "source": [
    "for i in range(5):\n",
    "    r = random.randint(1, 10)\n",
    "    print(r, end=' ')"
   ]
  },
  {
   "cell_type": "code",
   "execution_count": null,
   "id": "0d98b4f0",
   "metadata": {},
   "outputs": [],
   "source": []
  },
  {
   "cell_type": "code",
   "execution_count": 30,
   "id": "45e2bbab",
   "metadata": {},
   "outputs": [
    {
     "name": "stdout",
     "output_type": "stream",
     "text": [
      "9 5 "
     ]
    }
   ],
   "source": [
    "import random\n",
    "\n",
    "while True:\n",
    "    r = random.randint(1, 10)\n",
    "    if r % 4 == 0:\n",
    "        continue\n",
    "    \n",
    "    print(r, end=' ')\n",
    "    \n",
    "    if r == 5:\n",
    "        break"
   ]
  },
  {
   "cell_type": "code",
   "execution_count": null,
   "id": "245f9c42",
   "metadata": {},
   "outputs": [],
   "source": []
  },
  {
   "cell_type": "code",
   "execution_count": null,
   "id": "3ad87314",
   "metadata": {},
   "outputs": [],
   "source": []
  },
  {
   "cell_type": "code",
   "execution_count": null,
   "id": "9ba2f15b",
   "metadata": {},
   "outputs": [],
   "source": []
  },
  {
   "cell_type": "code",
   "execution_count": null,
   "id": "bb67499a",
   "metadata": {},
   "outputs": [],
   "source": []
  },
  {
   "cell_type": "code",
   "execution_count": null,
   "id": "65abd257",
   "metadata": {},
   "outputs": [],
   "source": []
  },
  {
   "cell_type": "code",
   "execution_count": null,
   "id": "e533e1c2",
   "metadata": {},
   "outputs": [],
   "source": []
  },
  {
   "cell_type": "markdown",
   "id": "c953d2bd",
   "metadata": {},
   "source": [
    "#### Quiz 9\n",
    "Which of the following is `NOT` a valid output for this code snippet ? \n",
    "\n",
    "```py\n",
    "import random\n",
    "\n",
    "while True:\n",
    "    r = random.randint(5, 15)\n",
    "    \n",
    "    if r % 3 == 0:\n",
    "        continue\n",
    "\n",
    "    print(r, end=' ')\n",
    "    \n",
    "    if r == 10 or r == 15:\n",
    "        break\n",
    "```"
   ]
  },
  {
   "cell_type": "markdown",
   "id": "dd454d33",
   "metadata": {},
   "source": [
    "**A.** 13 7 7 13 8 10 \\\n",
    "**B.** 5 14 7 7 13 14 10 \\\n",
    "**C.** 7 11 7 5 15 \\\n",
    "**D.** 14 5 8 11 7 14 13 10 "
   ]
  },
  {
   "cell_type": "code",
   "execution_count": null,
   "id": "807051d0",
   "metadata": {},
   "outputs": [],
   "source": [
    "import random\n",
    "\n",
    "while True:\n",
    "    r = random.randint(5, 15)\n",
    "\n",
    "    if r % 3 == 0:\n",
    "        continue\n",
    "\n",
    "    print(r, end=' ')\n",
    "\n",
    "    if r == 10 or r == 15:\n",
    "        break"
   ]
  },
  {
   "cell_type": "code",
   "execution_count": null,
   "id": "ca71a179",
   "metadata": {},
   "outputs": [],
   "source": []
  },
  {
   "cell_type": "code",
   "execution_count": null,
   "id": "40f46587",
   "metadata": {},
   "outputs": [],
   "source": []
  },
  {
   "cell_type": "code",
   "execution_count": null,
   "id": "22781974",
   "metadata": {},
   "outputs": [],
   "source": []
  },
  {
   "cell_type": "markdown",
   "id": "49093131",
   "metadata": {},
   "source": [
    "# Bonus Reading Material\n",
    "- Pass in Python - https://www.scaler.com/topics/pass-in-python/\n",
    "- Break, Pass and Continue Statement in Python - https://www.scaler.com/topics/python/break-pass-and-continue-statement-in-python/\n",
    "- Factorial Program in Python - https://www.scaler.com/topics/factorial-program-in-python/\n",
    "- Prime Number Program in Python - https://www.scaler.com/topics/prime-number-program-in-python/\n",
    "- Python Random Module - https://www.scaler.com/topics/python-random-module/"
   ]
  },
  {
   "cell_type": "code",
   "execution_count": null,
   "id": "8feb2af8",
   "metadata": {},
   "outputs": [],
   "source": []
  },
  {
   "cell_type": "code",
   "execution_count": null,
   "id": "7eaf5f7e",
   "metadata": {},
   "outputs": [],
   "source": []
  },
  {
   "cell_type": "code",
   "execution_count": null,
   "id": "71e9f14f",
   "metadata": {},
   "outputs": [],
   "source": []
  },
  {
   "cell_type": "markdown",
   "id": "db9d7cfa",
   "metadata": {},
   "source": [
    "# Doubts"
   ]
  },
  {
   "cell_type": "code",
   "execution_count": 33,
   "id": "e2e05964",
   "metadata": {},
   "outputs": [
    {
     "ename": "SyntaxError",
     "evalue": "invalid syntax (1582667096.py, line 1)",
     "output_type": "error",
     "traceback": [
      "\u001b[0;36m  File \u001b[0;32m\"/var/folders/jn/1bsrct314hv5xmfm7vrcdrzc0000gn/T/ipykernel_45296/1582667096.py\"\u001b[0;36m, line \u001b[0;32m1\u001b[0m\n\u001b[0;31m    if :\u001b[0m\n\u001b[0m       ^\u001b[0m\n\u001b[0;31mSyntaxError\u001b[0m\u001b[0;31m:\u001b[0m invalid syntax\n"
     ]
    }
   ],
   "source": [
    "if :\n",
    "    print(\"False\")\n",
    "elif 1:\n",
    "    print(\"True\")"
   ]
  },
  {
   "cell_type": "code",
   "execution_count": 35,
   "id": "71acaeca",
   "metadata": {},
   "outputs": [
    {
     "name": "stdout",
     "output_type": "stream",
     "text": [
      "1 2 3 4 5\n"
     ]
    }
   ],
   "source": [
    "N=5\n",
    "print(*range(1, N + 1), sep=\" \")\n",
    "# spread operator"
   ]
  },
  {
   "cell_type": "code",
   "execution_count": 36,
   "id": "517b8fe5",
   "metadata": {},
   "outputs": [
    {
     "name": "stdout",
     "output_type": "stream",
     "text": [
      "1 2 3 4 5\n"
     ]
    }
   ],
   "source": [
    "print(1, 2, 3, 4, 5, sep=' ')"
   ]
  },
  {
   "cell_type": "code",
   "execution_count": null,
   "id": "3fbeabfa",
   "metadata": {},
   "outputs": [],
   "source": []
  },
  {
   "cell_type": "code",
   "execution_count": 37,
   "id": "fc10c122",
   "metadata": {},
   "outputs": [
    {
     "name": "stdout",
     "output_type": "stream",
     "text": [
      "0 "
     ]
    }
   ],
   "source": [
    "x = 1\n",
    "for i in range(x):\n",
    "    x=x+1\n",
    "    print(i, end= \" \")"
   ]
  },
  {
   "cell_type": "code",
   "execution_count": 38,
   "id": "da421f10",
   "metadata": {},
   "outputs": [
    {
     "name": "stdout",
     "output_type": "stream",
     "text": [
      "2\n"
     ]
    }
   ],
   "source": [
    "print(x)"
   ]
  },
  {
   "cell_type": "code",
   "execution_count": null,
   "id": "8a712f84",
   "metadata": {},
   "outputs": [],
   "source": []
  },
  {
   "cell_type": "code",
   "execution_count": null,
   "id": "4707cc97",
   "metadata": {},
   "outputs": [],
   "source": [
    "import math"
   ]
  },
  {
   "cell_type": "code",
   "execution_count": 39,
   "id": "39b1758a",
   "metadata": {},
   "outputs": [],
   "source": [
    "import random"
   ]
  },
  {
   "cell_type": "code",
   "execution_count": null,
   "id": "388e992f",
   "metadata": {},
   "outputs": [],
   "source": []
  },
  {
   "cell_type": "code",
   "execution_count": null,
   "id": "4deaaa83",
   "metadata": {},
   "outputs": [],
   "source": []
  },
  {
   "cell_type": "code",
   "execution_count": null,
   "id": "24340056",
   "metadata": {},
   "outputs": [],
   "source": []
  },
  {
   "cell_type": "code",
   "execution_count": null,
   "id": "f815a7d8",
   "metadata": {},
   "outputs": [],
   "source": []
  },
  {
   "cell_type": "code",
   "execution_count": 41,
   "id": "b5e1d1f4",
   "metadata": {},
   "outputs": [],
   "source": [
    "while False:\n",
    "    print(\"Hello\")"
   ]
  },
  {
   "cell_type": "code",
   "execution_count": null,
   "id": "5a60e848",
   "metadata": {},
   "outputs": [],
   "source": []
  },
  {
   "cell_type": "code",
   "execution_count": 46,
   "id": "18a86c08",
   "metadata": {},
   "outputs": [
    {
     "name": "stdout",
     "output_type": "stream",
     "text": [
      "832\n"
     ]
    }
   ],
   "source": [
    "r = random.randint(100, 999)\n",
    "print(r)"
   ]
  },
  {
   "cell_type": "code",
   "execution_count": 58,
   "id": "a1802b4c",
   "metadata": {},
   "outputs": [
    {
     "name": "stdout",
     "output_type": "stream",
     "text": [
      "2 5 1 First 3 done\n",
      "1 5 "
     ]
    }
   ],
   "source": [
    "for i in range(3):\n",
    "    r = random.randint(1, 10)\n",
    "    print(r, end=' ')\n",
    "    \n",
    "print(\"First 3 done\")\n",
    "while True:\n",
    "    r = random.randint(1, 10)\n",
    "    print(r, end=' ')\n",
    "    \n",
    "    if r == 5:\n",
    "        break"
   ]
  },
  {
   "cell_type": "code",
   "execution_count": null,
   "id": "e9e2c928",
   "metadata": {},
   "outputs": [],
   "source": []
  },
  {
   "cell_type": "code",
   "execution_count": 59,
   "id": "5056a816",
   "metadata": {},
   "outputs": [
    {
     "name": "stdout",
     "output_type": "stream",
     "text": [
      "1 2 3 4\n"
     ]
    }
   ],
   "source": [
    "print(*range(1, 5))"
   ]
  },
  {
   "cell_type": "code",
   "execution_count": 60,
   "id": "b292c096",
   "metadata": {},
   "outputs": [
    {
     "name": "stdout",
     "output_type": "stream",
     "text": [
      "range(1, 5)_"
     ]
    }
   ],
   "source": [
    "print(range(1, 5), end='_')"
   ]
  },
  {
   "cell_type": "code",
   "execution_count": 61,
   "id": "3bafe64f",
   "metadata": {},
   "outputs": [
    {
     "name": "stdout",
     "output_type": "stream",
     "text": [
      "range(1, 5)\n"
     ]
    }
   ],
   "source": [
    "print(range(1, 5))"
   ]
  },
  {
   "cell_type": "code",
   "execution_count": null,
   "id": "de023e46",
   "metadata": {},
   "outputs": [],
   "source": []
  }
 ],
 "metadata": {
  "kernelspec": {
   "display_name": "Python 3 (ipykernel)",
   "language": "python",
   "name": "python3"
  },
  "language_info": {
   "codemirror_mode": {
    "name": "ipython",
    "version": 3
   },
   "file_extension": ".py",
   "mimetype": "text/x-python",
   "name": "python",
   "nbconvert_exporter": "python",
   "pygments_lexer": "ipython3",
   "version": "3.9.12"
  }
 },
 "nbformat": 4,
 "nbformat_minor": 5
}
