{
 "cells": [
  {
   "cell_type": "markdown",
   "id": "55b1bf35",
   "metadata": {},
   "source": [
    "# Operators"
   ]
  },
  {
   "cell_type": "markdown",
   "id": "b5b307f6",
   "metadata": {},
   "source": [
    "## Arithmetic Operators\n",
    "![](https://scaler.com/topics/images/arithmetic-operation-in-python-featured-image.webp)"
   ]
  },
  {
   "cell_type": "code",
   "execution_count": null,
   "id": "b14d9f18",
   "metadata": {},
   "outputs": [],
   "source": []
  },
  {
   "cell_type": "code",
   "execution_count": null,
   "id": "e317aea7",
   "metadata": {},
   "outputs": [],
   "source": []
  },
  {
   "cell_type": "markdown",
   "id": "10a066f4",
   "metadata": {},
   "source": [
    "### Addition +"
   ]
  },
  {
   "cell_type": "code",
   "execution_count": 6,
   "id": "bad3ea3a",
   "metadata": {},
   "outputs": [
    {
     "name": "stdout",
     "output_type": "stream",
     "text": [
      "30\n"
     ]
    }
   ],
   "source": [
    "print(10 + 20)"
   ]
  },
  {
   "cell_type": "code",
   "execution_count": 7,
   "id": "c44c5f63",
   "metadata": {},
   "outputs": [
    {
     "name": "stdout",
     "output_type": "stream",
     "text": [
      "5.5\n"
     ]
    }
   ],
   "source": [
    "print(2 + 3.5)"
   ]
  },
  {
   "cell_type": "code",
   "execution_count": 8,
   "id": "fdc293a1",
   "metadata": {},
   "outputs": [
    {
     "name": "stdout",
     "output_type": "stream",
     "text": [
      "8.7\n"
     ]
    }
   ],
   "source": [
    "print(5.6 + 3.1)"
   ]
  },
  {
   "cell_type": "code",
   "execution_count": null,
   "id": "37787d86",
   "metadata": {},
   "outputs": [],
   "source": []
  },
  {
   "cell_type": "code",
   "execution_count": null,
   "id": "7d439215",
   "metadata": {},
   "outputs": [],
   "source": []
  },
  {
   "cell_type": "code",
   "execution_count": null,
   "id": "4f9dd9c4",
   "metadata": {},
   "outputs": [],
   "source": []
  },
  {
   "cell_type": "code",
   "execution_count": null,
   "id": "e82b6b50",
   "metadata": {},
   "outputs": [],
   "source": []
  },
  {
   "cell_type": "markdown",
   "id": "e1c890b4",
   "metadata": {},
   "source": [
    "#### Quiz 1\n",
    "```py\n",
    "print(1.0 + 2)\n",
    "```"
   ]
  },
  {
   "cell_type": "code",
   "execution_count": 10,
   "id": "5ac57c8a",
   "metadata": {},
   "outputs": [
    {
     "name": "stdout",
     "output_type": "stream",
     "text": [
      "3.0\n"
     ]
    }
   ],
   "source": [
    "print(1.0 + 2)\n",
    "# float + int = float"
   ]
  },
  {
   "cell_type": "code",
   "execution_count": null,
   "id": "172b3db7",
   "metadata": {},
   "outputs": [],
   "source": []
  },
  {
   "cell_type": "markdown",
   "id": "47f350c4",
   "metadata": {},
   "source": [
    "#### Quiz 2\n",
    "```py\n",
    "3.5 + 3.5\n",
    "```"
   ]
  },
  {
   "cell_type": "code",
   "execution_count": 11,
   "id": "7b52c859",
   "metadata": {},
   "outputs": [
    {
     "name": "stdout",
     "output_type": "stream",
     "text": [
      "7.0\n"
     ]
    }
   ],
   "source": [
    "print(3.5 + 3.5)\n",
    "# float + float => float"
   ]
  },
  {
   "cell_type": "code",
   "execution_count": null,
   "id": "2c59003e",
   "metadata": {},
   "outputs": [],
   "source": []
  },
  {
   "cell_type": "code",
   "execution_count": null,
   "id": "cb02790c",
   "metadata": {},
   "outputs": [],
   "source": []
  },
  {
   "cell_type": "markdown",
   "id": "5407e816",
   "metadata": {},
   "source": [
    "### Subtraction -"
   ]
  },
  {
   "cell_type": "code",
   "execution_count": 12,
   "id": "d838affe",
   "metadata": {},
   "outputs": [
    {
     "name": "stdout",
     "output_type": "stream",
     "text": [
      "2\n"
     ]
    }
   ],
   "source": [
    "print(5 - 3)"
   ]
  },
  {
   "cell_type": "code",
   "execution_count": 13,
   "id": "2d22f91b",
   "metadata": {},
   "outputs": [
    {
     "name": "stdout",
     "output_type": "stream",
     "text": [
      "-4\n"
     ]
    }
   ],
   "source": [
    "print(6 - 10)\n",
    "# int - int => int"
   ]
  },
  {
   "cell_type": "code",
   "execution_count": 14,
   "id": "f88bae5a",
   "metadata": {},
   "outputs": [
    {
     "name": "stdout",
     "output_type": "stream",
     "text": [
      "3.1\n"
     ]
    }
   ],
   "source": [
    "print(5.2 - 2.1)\n",
    "# float - float => float"
   ]
  },
  {
   "cell_type": "code",
   "execution_count": 18,
   "id": "c522831f",
   "metadata": {},
   "outputs": [
    {
     "name": "stdout",
     "output_type": "stream",
     "text": [
      "1.5\n"
     ]
    }
   ],
   "source": [
    "print(3 - 1.5)\n",
    "# int - float => float"
   ]
  },
  {
   "cell_type": "code",
   "execution_count": 17,
   "id": "932c4755",
   "metadata": {},
   "outputs": [
    {
     "name": "stdout",
     "output_type": "stream",
     "text": [
      "3.0\n"
     ]
    }
   ],
   "source": [
    "print(4.2 - 1.2)\n",
    "# float - float => float"
   ]
  },
  {
   "cell_type": "code",
   "execution_count": 19,
   "id": "c17ea9fe",
   "metadata": {},
   "outputs": [
    {
     "name": "stdout",
     "output_type": "stream",
     "text": [
      "2.5\n"
     ]
    }
   ],
   "source": [
    "print(5.5 - 3)\n",
    "# float - int = float "
   ]
  },
  {
   "cell_type": "code",
   "execution_count": null,
   "id": "aa4010be",
   "metadata": {},
   "outputs": [],
   "source": []
  },
  {
   "cell_type": "code",
   "execution_count": null,
   "id": "755e5fb5",
   "metadata": {},
   "outputs": [],
   "source": []
  },
  {
   "cell_type": "markdown",
   "id": "405c99e7",
   "metadata": {},
   "source": [
    "#### Quiz 3\n",
    "```py\n",
    "x = 1\n",
    "y = -2.0\n",
    "print(x - y)\n",
    "```"
   ]
  },
  {
   "cell_type": "code",
   "execution_count": 20,
   "id": "ab60d455",
   "metadata": {},
   "outputs": [
    {
     "name": "stdout",
     "output_type": "stream",
     "text": [
      "3.0\n"
     ]
    }
   ],
   "source": [
    "x = 1\n",
    "y = -2.0\n",
    "print(x - y)"
   ]
  },
  {
   "cell_type": "code",
   "execution_count": null,
   "id": "8c8bb4e8",
   "metadata": {},
   "outputs": [],
   "source": []
  },
  {
   "cell_type": "markdown",
   "id": "5097741f",
   "metadata": {},
   "source": [
    "### Multiplication *"
   ]
  },
  {
   "cell_type": "code",
   "execution_count": 21,
   "id": "59acbe2f",
   "metadata": {},
   "outputs": [
    {
     "name": "stdout",
     "output_type": "stream",
     "text": [
      "12\n"
     ]
    }
   ],
   "source": [
    "print(3 * 4)"
   ]
  },
  {
   "cell_type": "code",
   "execution_count": 22,
   "id": "780390bf",
   "metadata": {},
   "outputs": [
    {
     "name": "stdout",
     "output_type": "stream",
     "text": [
      "-8.0\n"
     ]
    }
   ],
   "source": [
    "print(-2.0 * 4)\n",
    "# float * int => float"
   ]
  },
  {
   "cell_type": "code",
   "execution_count": null,
   "id": "2010ed9e",
   "metadata": {},
   "outputs": [],
   "source": []
  },
  {
   "cell_type": "code",
   "execution_count": null,
   "id": "5b11baa1",
   "metadata": {},
   "outputs": [],
   "source": []
  },
  {
   "cell_type": "code",
   "execution_count": null,
   "id": "d51ae0e7",
   "metadata": {},
   "outputs": [],
   "source": []
  },
  {
   "cell_type": "markdown",
   "id": "8f77055d",
   "metadata": {},
   "source": [
    "#### Quiz 4\n",
    "```py\n",
    "x = -4\n",
    "y = -8\n",
    "print(x * y)\n",
    "```"
   ]
  },
  {
   "cell_type": "code",
   "execution_count": 23,
   "id": "619a4884",
   "metadata": {},
   "outputs": [
    {
     "name": "stdout",
     "output_type": "stream",
     "text": [
      "32\n"
     ]
    }
   ],
   "source": [
    "x = -4\n",
    "y = -8\n",
    "print(x * y)\n",
    "# int * int = int"
   ]
  },
  {
   "cell_type": "code",
   "execution_count": null,
   "id": "7a839abd",
   "metadata": {},
   "outputs": [],
   "source": []
  },
  {
   "cell_type": "code",
   "execution_count": null,
   "id": "04142ab2",
   "metadata": {},
   "outputs": [],
   "source": []
  },
  {
   "cell_type": "code",
   "execution_count": null,
   "id": "e1e8e05d",
   "metadata": {},
   "outputs": [],
   "source": []
  },
  {
   "cell_type": "code",
   "execution_count": null,
   "id": "0e263403",
   "metadata": {},
   "outputs": [],
   "source": []
  },
  {
   "cell_type": "code",
   "execution_count": null,
   "id": "f5878454",
   "metadata": {},
   "outputs": [],
   "source": []
  },
  {
   "cell_type": "markdown",
   "id": "7f387dd3",
   "metadata": {},
   "source": [
    "### Division /\n",
    "No matter what the operands are, the result of division is always a float"
   ]
  },
  {
   "cell_type": "code",
   "execution_count": 24,
   "id": "6de60892",
   "metadata": {},
   "outputs": [
    {
     "name": "stdout",
     "output_type": "stream",
     "text": [
      "4.0\n"
     ]
    }
   ],
   "source": [
    "print(10 / 2.5)"
   ]
  },
  {
   "cell_type": "code",
   "execution_count": 26,
   "id": "83589f11",
   "metadata": {},
   "outputs": [
    {
     "name": "stdout",
     "output_type": "stream",
     "text": [
      "5.0\n"
     ]
    }
   ],
   "source": [
    "print(10 / 2)\n",
    "# int / int => float"
   ]
  },
  {
   "cell_type": "code",
   "execution_count": null,
   "id": "b8b75cb2",
   "metadata": {},
   "outputs": [],
   "source": []
  },
  {
   "cell_type": "code",
   "execution_count": null,
   "id": "f38de774",
   "metadata": {},
   "outputs": [],
   "source": []
  },
  {
   "cell_type": "code",
   "execution_count": null,
   "id": "20d2a03a",
   "metadata": {},
   "outputs": [],
   "source": []
  },
  {
   "cell_type": "markdown",
   "id": "0a1b6f9e",
   "metadata": {},
   "source": [
    "#### Quiz 5\n",
    "```py\n",
    "x = 10\n",
    "y = 2.5\n",
    "print(x / y)\n",
    "```"
   ]
  },
  {
   "cell_type": "code",
   "execution_count": 28,
   "id": "3e112293",
   "metadata": {},
   "outputs": [
    {
     "name": "stdout",
     "output_type": "stream",
     "text": [
      "4.0\n"
     ]
    }
   ],
   "source": [
    "x = 10\n",
    "y = 2.5\n",
    "print(x / y)\n",
    "# int / float => float"
   ]
  },
  {
   "cell_type": "code",
   "execution_count": null,
   "id": "ab263cb3",
   "metadata": {},
   "outputs": [],
   "source": []
  },
  {
   "cell_type": "code",
   "execution_count": null,
   "id": "1574d98c",
   "metadata": {},
   "outputs": [],
   "source": []
  },
  {
   "cell_type": "code",
   "execution_count": null,
   "id": "fad96712",
   "metadata": {},
   "outputs": [],
   "source": []
  },
  {
   "cell_type": "code",
   "execution_count": null,
   "id": "8793779e",
   "metadata": {},
   "outputs": [],
   "source": []
  },
  {
   "cell_type": "markdown",
   "id": "b2953d6a",
   "metadata": {},
   "source": [
    "### Integer Division //\n",
    "Floor Division"
   ]
  },
  {
   "cell_type": "code",
   "execution_count": 29,
   "id": "479aa515",
   "metadata": {},
   "outputs": [
    {
     "name": "stdout",
     "output_type": "stream",
     "text": [
      "2\n"
     ]
    }
   ],
   "source": [
    "print(5 // 2)"
   ]
  },
  {
   "cell_type": "code",
   "execution_count": 30,
   "id": "31cfaffa",
   "metadata": {},
   "outputs": [
    {
     "name": "stdout",
     "output_type": "stream",
     "text": [
      "2\n"
     ]
    }
   ],
   "source": [
    "print(9 // 4)"
   ]
  },
  {
   "cell_type": "code",
   "execution_count": 32,
   "id": "dcd8c751",
   "metadata": {},
   "outputs": [
    {
     "name": "stdout",
     "output_type": "stream",
     "text": [
      "2.25\n"
     ]
    }
   ],
   "source": [
    "print(9 / 4)"
   ]
  },
  {
   "cell_type": "code",
   "execution_count": 33,
   "id": "dbae1c12",
   "metadata": {},
   "outputs": [
    {
     "name": "stdout",
     "output_type": "stream",
     "text": [
      "-3.3333333333333335\n"
     ]
    }
   ],
   "source": [
    "print(-10 / 3)"
   ]
  },
  {
   "cell_type": "code",
   "execution_count": 34,
   "id": "9ac4e2a1",
   "metadata": {},
   "outputs": [
    {
     "name": "stdout",
     "output_type": "stream",
     "text": [
      "-4\n"
     ]
    }
   ],
   "source": [
    "print(-10 // 3)"
   ]
  },
  {
   "cell_type": "code",
   "execution_count": null,
   "id": "78627f47",
   "metadata": {},
   "outputs": [],
   "source": []
  },
  {
   "cell_type": "markdown",
   "id": "3361e5c6",
   "metadata": {},
   "source": [
    "#### Quiz 6\n",
    "```py\n",
    "x = 10\n",
    "print(x // 0)\n",
    "```"
   ]
  },
  {
   "cell_type": "code",
   "execution_count": 35,
   "id": "fd03bba5",
   "metadata": {},
   "outputs": [
    {
     "ename": "ZeroDivisionError",
     "evalue": "integer division or modulo by zero",
     "output_type": "error",
     "traceback": [
      "\u001b[0;31m---------------------------------------------------------------------------\u001b[0m",
      "\u001b[0;31mZeroDivisionError\u001b[0m                         Traceback (most recent call last)",
      "\u001b[0;32m/var/folders/jn/1bsrct314hv5xmfm7vrcdrzc0000gn/T/ipykernel_74880/1677088672.py\u001b[0m in \u001b[0;36m<module>\u001b[0;34m\u001b[0m\n\u001b[1;32m      1\u001b[0m \u001b[0mx\u001b[0m \u001b[0;34m=\u001b[0m \u001b[0;36m10\u001b[0m\u001b[0;34m\u001b[0m\u001b[0;34m\u001b[0m\u001b[0m\n\u001b[0;32m----> 2\u001b[0;31m \u001b[0mprint\u001b[0m\u001b[0;34m(\u001b[0m\u001b[0mx\u001b[0m \u001b[0;34m//\u001b[0m \u001b[0;36m0\u001b[0m\u001b[0;34m)\u001b[0m\u001b[0;34m\u001b[0m\u001b[0;34m\u001b[0m\u001b[0m\n\u001b[0m",
      "\u001b[0;31mZeroDivisionError\u001b[0m: integer division or modulo by zero"
     ]
    }
   ],
   "source": [
    "x = 10\n",
    "print(x // 0)"
   ]
  },
  {
   "cell_type": "code",
   "execution_count": null,
   "id": "007e465c",
   "metadata": {},
   "outputs": [],
   "source": []
  },
  {
   "cell_type": "code",
   "execution_count": null,
   "id": "91f3d261",
   "metadata": {},
   "outputs": [],
   "source": []
  },
  {
   "cell_type": "code",
   "execution_count": null,
   "id": "a16dbbda",
   "metadata": {},
   "outputs": [],
   "source": []
  },
  {
   "cell_type": "code",
   "execution_count": null,
   "id": "aca75e2c",
   "metadata": {},
   "outputs": [],
   "source": []
  },
  {
   "cell_type": "code",
   "execution_count": null,
   "id": "cb7effaa",
   "metadata": {},
   "outputs": [],
   "source": []
  },
  {
   "cell_type": "markdown",
   "id": "9207dbd3",
   "metadata": {},
   "source": [
    "### Exponent **"
   ]
  },
  {
   "cell_type": "code",
   "execution_count": 36,
   "id": "7fc59449",
   "metadata": {},
   "outputs": [
    {
     "name": "stdout",
     "output_type": "stream",
     "text": [
      "32\n"
     ]
    }
   ],
   "source": [
    "print(2 ** 5)"
   ]
  },
  {
   "cell_type": "code",
   "execution_count": 37,
   "id": "33c62731",
   "metadata": {},
   "outputs": [
    {
     "name": "stdout",
     "output_type": "stream",
     "text": [
      "9\n"
     ]
    }
   ],
   "source": [
    "print(3 ** 2)"
   ]
  },
  {
   "cell_type": "code",
   "execution_count": 38,
   "id": "81ecc781",
   "metadata": {},
   "outputs": [
    {
     "name": "stdout",
     "output_type": "stream",
     "text": [
      "1296\n"
     ]
    }
   ],
   "source": [
    "print(6 ** 4)"
   ]
  },
  {
   "cell_type": "code",
   "execution_count": null,
   "id": "bfffc468",
   "metadata": {},
   "outputs": [],
   "source": []
  },
  {
   "cell_type": "code",
   "execution_count": null,
   "id": "c7475150",
   "metadata": {},
   "outputs": [],
   "source": []
  },
  {
   "cell_type": "code",
   "execution_count": null,
   "id": "572ca7ce",
   "metadata": {},
   "outputs": [],
   "source": []
  },
  {
   "cell_type": "code",
   "execution_count": null,
   "id": "7419ff92",
   "metadata": {},
   "outputs": [],
   "source": []
  },
  {
   "cell_type": "markdown",
   "id": "54cdfb06",
   "metadata": {},
   "source": [
    "#### Quiz 7\n",
    "```py\n",
    "print(10 ** -1)\n",
    "```"
   ]
  },
  {
   "cell_type": "code",
   "execution_count": 39,
   "id": "e20fc5a1",
   "metadata": {},
   "outputs": [
    {
     "name": "stdout",
     "output_type": "stream",
     "text": [
      "0.1\n"
     ]
    }
   ],
   "source": [
    "print(10 ** -1)"
   ]
  },
  {
   "cell_type": "code",
   "execution_count": null,
   "id": "1cc8a7f2",
   "metadata": {},
   "outputs": [],
   "source": []
  },
  {
   "cell_type": "code",
   "execution_count": null,
   "id": "ded19ee2",
   "metadata": {},
   "outputs": [],
   "source": []
  },
  {
   "cell_type": "markdown",
   "id": "397aef49",
   "metadata": {},
   "source": [
    "### Modulo Operator %\n",
    "Gives the remainder"
   ]
  },
  {
   "cell_type": "code",
   "execution_count": 40,
   "id": "86586849",
   "metadata": {},
   "outputs": [
    {
     "name": "stdout",
     "output_type": "stream",
     "text": [
      "1\n"
     ]
    }
   ],
   "source": [
    "print(10 % 3)"
   ]
  },
  {
   "cell_type": "code",
   "execution_count": null,
   "id": "f96898b4",
   "metadata": {},
   "outputs": [],
   "source": []
  },
  {
   "cell_type": "code",
   "execution_count": 41,
   "id": "b8844d28",
   "metadata": {},
   "outputs": [
    {
     "name": "stdout",
     "output_type": "stream",
     "text": [
      "2.3000000000000003\n"
     ]
    }
   ],
   "source": [
    "print(5.2 % 2.9)"
   ]
  },
  {
   "cell_type": "code",
   "execution_count": 42,
   "id": "1525ebae",
   "metadata": {},
   "outputs": [
    {
     "name": "stdout",
     "output_type": "stream",
     "text": [
      "5\n"
     ]
    }
   ],
   "source": [
    "print(5 % 25)"
   ]
  },
  {
   "cell_type": "code",
   "execution_count": null,
   "id": "ed70b08d",
   "metadata": {},
   "outputs": [],
   "source": []
  },
  {
   "cell_type": "code",
   "execution_count": null,
   "id": "a1c7c338",
   "metadata": {},
   "outputs": [],
   "source": []
  },
  {
   "cell_type": "code",
   "execution_count": null,
   "id": "cef733dc",
   "metadata": {},
   "outputs": [],
   "source": []
  },
  {
   "cell_type": "markdown",
   "id": "4fcb6b3a",
   "metadata": {},
   "source": [
    "#### Quiz 8\n",
    "```py\n",
    "x = 15\n",
    "y = 3\n",
    "print(x % y)\n",
    "```"
   ]
  },
  {
   "cell_type": "code",
   "execution_count": 43,
   "id": "40aff4fc",
   "metadata": {},
   "outputs": [
    {
     "name": "stdout",
     "output_type": "stream",
     "text": [
      "0\n"
     ]
    }
   ],
   "source": [
    "x = 15\n",
    "y = 3\n",
    "print(x % y)"
   ]
  },
  {
   "cell_type": "code",
   "execution_count": null,
   "id": "fbc72d4c",
   "metadata": {},
   "outputs": [],
   "source": []
  },
  {
   "cell_type": "code",
   "execution_count": null,
   "id": "5ebcf6fc",
   "metadata": {},
   "outputs": [],
   "source": []
  },
  {
   "cell_type": "code",
   "execution_count": null,
   "id": "f0cf535e",
   "metadata": {},
   "outputs": [],
   "source": []
  },
  {
   "cell_type": "code",
   "execution_count": null,
   "id": "8a9ae6d7",
   "metadata": {},
   "outputs": [],
   "source": []
  },
  {
   "cell_type": "code",
   "execution_count": null,
   "id": "cf80763f",
   "metadata": {},
   "outputs": [],
   "source": []
  },
  {
   "cell_type": "markdown",
   "id": "f4228074",
   "metadata": {},
   "source": [
    "## Operator Predence - BEDMAS Rule"
   ]
  },
  {
   "cell_type": "markdown",
   "id": "befc6989",
   "metadata": {},
   "source": [
    "- B - Brackets\n",
    "- E - Exponentiation\n",
    "- D - Division (both divisions)\n",
    "- M - Multiplication, Modulo\n",
    "- A - Addition\n",
    "- S - Subtraction\n",
    "\n",
    "\\\n",
    "\\\n",
    "**Note:** In case there are two operators with same precendence in an expression, they are evaluated left-to-right. "
   ]
  },
  {
   "cell_type": "code",
   "execution_count": 44,
   "id": "68a7d03f",
   "metadata": {},
   "outputs": [
    {
     "name": "stdout",
     "output_type": "stream",
     "text": [
      "4.0\n"
     ]
    }
   ],
   "source": [
    "print(10 - 4 * 2 + 5 - 6 / 2)"
   ]
  },
  {
   "cell_type": "code",
   "execution_count": null,
   "id": "8df1f9e1",
   "metadata": {},
   "outputs": [],
   "source": []
  },
  {
   "cell_type": "code",
   "execution_count": null,
   "id": "1ceb04a7",
   "metadata": {},
   "outputs": [],
   "source": []
  },
  {
   "cell_type": "markdown",
   "id": "96561616",
   "metadata": {},
   "source": [
    "#### Quiz 9\n",
    "```py\n",
    "x = 11\n",
    "y = 2\n",
    "z = 4\n",
    "res = (x + y - z) ** (x % z)\n",
    "print(res)\n",
    "```"
   ]
  },
  {
   "cell_type": "code",
   "execution_count": 48,
   "id": "3c838db9",
   "metadata": {},
   "outputs": [
    {
     "name": "stdout",
     "output_type": "stream",
     "text": [
      "729\n"
     ]
    }
   ],
   "source": [
    "x = 11\n",
    "y = 2\n",
    "z = 4\n",
    "res = (x + y - z) ** (x % z)\n",
    "print(res)"
   ]
  },
  {
   "cell_type": "code",
   "execution_count": null,
   "id": "06336980",
   "metadata": {},
   "outputs": [],
   "source": []
  },
  {
   "cell_type": "code",
   "execution_count": null,
   "id": "a9601a12",
   "metadata": {},
   "outputs": [],
   "source": []
  },
  {
   "cell_type": "code",
   "execution_count": null,
   "id": "9f45de9e",
   "metadata": {},
   "outputs": [],
   "source": []
  },
  {
   "cell_type": "code",
   "execution_count": null,
   "id": "bcdfcc4e",
   "metadata": {},
   "outputs": [],
   "source": []
  },
  {
   "cell_type": "markdown",
   "id": "43ec56bf",
   "metadata": {},
   "source": [
    "## Typecasting 102"
   ]
  },
  {
   "cell_type": "code",
   "execution_count": 49,
   "id": "c1d2ba41",
   "metadata": {},
   "outputs": [
    {
     "name": "stdout",
     "output_type": "stream",
     "text": [
      "54 <class 'int'>\n"
     ]
    }
   ],
   "source": [
    "# str -> int\n",
    "x = int(\"54\")\n",
    "print(x, type(x))"
   ]
  },
  {
   "cell_type": "code",
   "execution_count": 50,
   "id": "e49dd27a",
   "metadata": {},
   "outputs": [
    {
     "ename": "ValueError",
     "evalue": "invalid literal for int() with base 10: 'xyz'",
     "output_type": "error",
     "traceback": [
      "\u001b[0;31m---------------------------------------------------------------------------\u001b[0m",
      "\u001b[0;31mValueError\u001b[0m                                Traceback (most recent call last)",
      "\u001b[0;32m/var/folders/jn/1bsrct314hv5xmfm7vrcdrzc0000gn/T/ipykernel_74880/1348188387.py\u001b[0m in \u001b[0;36m<module>\u001b[0;34m\u001b[0m\n\u001b[0;32m----> 1\u001b[0;31m \u001b[0my\u001b[0m \u001b[0;34m=\u001b[0m \u001b[0mint\u001b[0m\u001b[0;34m(\u001b[0m\u001b[0;34m\"xyz\"\u001b[0m\u001b[0;34m)\u001b[0m\u001b[0;34m\u001b[0m\u001b[0;34m\u001b[0m\u001b[0m\n\u001b[0m",
      "\u001b[0;31mValueError\u001b[0m: invalid literal for int() with base 10: 'xyz'"
     ]
    }
   ],
   "source": [
    "y = int(\"xyz\")"
   ]
  },
  {
   "cell_type": "code",
   "execution_count": null,
   "id": "bacc0dc1",
   "metadata": {},
   "outputs": [],
   "source": []
  },
  {
   "cell_type": "markdown",
   "id": "d2c2cd7e",
   "metadata": {},
   "source": [
    "str -> float"
   ]
  },
  {
   "cell_type": "code",
   "execution_count": 51,
   "id": "0689ed89",
   "metadata": {},
   "outputs": [
    {
     "name": "stdout",
     "output_type": "stream",
     "text": [
      "5.3 <class 'float'>\n"
     ]
    }
   ],
   "source": [
    "x = float(\"5.3\")\n",
    "print(x, type(x))"
   ]
  },
  {
   "cell_type": "code",
   "execution_count": 52,
   "id": "d0d44fb2",
   "metadata": {},
   "outputs": [
    {
     "name": "stdout",
     "output_type": "stream",
     "text": [
      "9.0\n"
     ]
    }
   ],
   "source": [
    "y = float(\"9.0\")\n",
    "print(y)"
   ]
  },
  {
   "cell_type": "code",
   "execution_count": null,
   "id": "b5a64379",
   "metadata": {},
   "outputs": [],
   "source": []
  },
  {
   "cell_type": "markdown",
   "id": "e9cc4b17",
   "metadata": {},
   "source": [
    "float -> int"
   ]
  },
  {
   "cell_type": "code",
   "execution_count": 53,
   "id": "6f71278c",
   "metadata": {},
   "outputs": [
    {
     "name": "stdout",
     "output_type": "stream",
     "text": [
      "4 <class 'int'>\n"
     ]
    }
   ],
   "source": [
    "z = int(4.5)\n",
    "print(z, type(z))"
   ]
  },
  {
   "cell_type": "code",
   "execution_count": 54,
   "id": "373d08d5",
   "metadata": {},
   "outputs": [
    {
     "name": "stdout",
     "output_type": "stream",
     "text": [
      "-6\n"
     ]
    }
   ],
   "source": [
    "x = int(-6.2)\n",
    "print(x)"
   ]
  },
  {
   "cell_type": "code",
   "execution_count": null,
   "id": "02372dab",
   "metadata": {},
   "outputs": [],
   "source": []
  },
  {
   "cell_type": "code",
   "execution_count": null,
   "id": "a4de1e47",
   "metadata": {},
   "outputs": [],
   "source": []
  },
  {
   "cell_type": "markdown",
   "id": "c399db7c",
   "metadata": {},
   "source": [
    "int -> float"
   ]
  },
  {
   "cell_type": "code",
   "execution_count": 55,
   "id": "95c742c5",
   "metadata": {},
   "outputs": [
    {
     "name": "stdout",
     "output_type": "stream",
     "text": [
      "3.0\n"
     ]
    }
   ],
   "source": [
    "x = float(3)\n",
    "print(x)"
   ]
  },
  {
   "cell_type": "code",
   "execution_count": 56,
   "id": "4ad77fc0",
   "metadata": {},
   "outputs": [
    {
     "name": "stdout",
     "output_type": "stream",
     "text": [
      "-10.0\n"
     ]
    }
   ],
   "source": [
    "y = float(-10)\n",
    "print(y)"
   ]
  },
  {
   "cell_type": "code",
   "execution_count": null,
   "id": "7db53c68",
   "metadata": {},
   "outputs": [],
   "source": []
  },
  {
   "cell_type": "code",
   "execution_count": null,
   "id": "52cbf827",
   "metadata": {},
   "outputs": [],
   "source": []
  },
  {
   "cell_type": "code",
   "execution_count": null,
   "id": "79886fcc",
   "metadata": {},
   "outputs": [],
   "source": []
  },
  {
   "cell_type": "markdown",
   "id": "604089f9",
   "metadata": {},
   "source": [
    "#### int -> bool\n",
    "All numbers will give True except 0."
   ]
  },
  {
   "cell_type": "code",
   "execution_count": 58,
   "id": "b3cc1178",
   "metadata": {},
   "outputs": [
    {
     "name": "stdout",
     "output_type": "stream",
     "text": [
      "True\n"
     ]
    }
   ],
   "source": [
    "b = bool(5)\n",
    "print(b)"
   ]
  },
  {
   "cell_type": "code",
   "execution_count": 59,
   "id": "a0483b55",
   "metadata": {},
   "outputs": [
    {
     "name": "stdout",
     "output_type": "stream",
     "text": [
      "True\n"
     ]
    }
   ],
   "source": [
    "b = bool(-87934)\n",
    "print(b)"
   ]
  },
  {
   "cell_type": "code",
   "execution_count": 60,
   "id": "42a9fa2a",
   "metadata": {},
   "outputs": [
    {
     "name": "stdout",
     "output_type": "stream",
     "text": [
      "False\n"
     ]
    }
   ],
   "source": [
    "a = bool(0)\n",
    "print(a)"
   ]
  },
  {
   "cell_type": "code",
   "execution_count": null,
   "id": "588d8610",
   "metadata": {},
   "outputs": [],
   "source": []
  },
  {
   "cell_type": "markdown",
   "id": "9bc28fe3",
   "metadata": {},
   "source": [
    "#### float -> bool"
   ]
  },
  {
   "cell_type": "code",
   "execution_count": 61,
   "id": "6f7c3c2e",
   "metadata": {},
   "outputs": [
    {
     "name": "stdout",
     "output_type": "stream",
     "text": [
      "True\n"
     ]
    }
   ],
   "source": [
    "b = bool(9.8)\n",
    "print(b)"
   ]
  },
  {
   "cell_type": "code",
   "execution_count": 63,
   "id": "2c9ce875",
   "metadata": {},
   "outputs": [
    {
     "name": "stdout",
     "output_type": "stream",
     "text": [
      "True\n"
     ]
    }
   ],
   "source": [
    "b = bool(0.4)\n",
    "print(b)"
   ]
  },
  {
   "cell_type": "code",
   "execution_count": 64,
   "id": "4dc0d99c",
   "metadata": {},
   "outputs": [
    {
     "name": "stdout",
     "output_type": "stream",
     "text": [
      "True\n"
     ]
    }
   ],
   "source": [
    "b = bool(-0.4)\n",
    "print(b)"
   ]
  },
  {
   "cell_type": "code",
   "execution_count": 65,
   "id": "8e1bd357",
   "metadata": {},
   "outputs": [
    {
     "name": "stdout",
     "output_type": "stream",
     "text": [
      "False\n"
     ]
    }
   ],
   "source": [
    "b = bool(0.0)\n",
    "print(b)"
   ]
  },
  {
   "cell_type": "code",
   "execution_count": null,
   "id": "6776ced9",
   "metadata": {},
   "outputs": [],
   "source": []
  },
  {
   "cell_type": "markdown",
   "id": "c9f01731",
   "metadata": {},
   "source": [
    "#### int -> str"
   ]
  },
  {
   "cell_type": "code",
   "execution_count": 67,
   "id": "148d55d6",
   "metadata": {},
   "outputs": [
    {
     "name": "stdout",
     "output_type": "stream",
     "text": [
      "10 <class 'str'>\n"
     ]
    }
   ],
   "source": [
    "s = str(10)\n",
    "print(s, type(s))"
   ]
  },
  {
   "cell_type": "code",
   "execution_count": 68,
   "id": "59616d13",
   "metadata": {},
   "outputs": [
    {
     "name": "stdout",
     "output_type": "stream",
     "text": [
      "-6.9 <class 'str'>\n"
     ]
    }
   ],
   "source": [
    "s = str(-6.9)\n",
    "print(s, type(s))"
   ]
  },
  {
   "cell_type": "code",
   "execution_count": null,
   "id": "21b81237",
   "metadata": {},
   "outputs": [],
   "source": []
  },
  {
   "cell_type": "code",
   "execution_count": null,
   "id": "417b28f8",
   "metadata": {},
   "outputs": [],
   "source": []
  },
  {
   "cell_type": "markdown",
   "id": "ab72d6ed",
   "metadata": {},
   "source": [
    "#### bool -> int\n",
    "True = 1 \\\n",
    "False = 0"
   ]
  },
  {
   "cell_type": "code",
   "execution_count": null,
   "id": "31ce1ba0",
   "metadata": {},
   "outputs": [],
   "source": []
  },
  {
   "cell_type": "markdown",
   "id": "8206e276",
   "metadata": {},
   "source": [
    "#### Quiz 10\n",
    "```py\n",
    "print(int(True))\n",
    "```"
   ]
  },
  {
   "cell_type": "code",
   "execution_count": 69,
   "id": "23d8a4ee",
   "metadata": {},
   "outputs": [
    {
     "name": "stdout",
     "output_type": "stream",
     "text": [
      "1\n"
     ]
    }
   ],
   "source": [
    "print(int(True))"
   ]
  },
  {
   "cell_type": "code",
   "execution_count": 70,
   "id": "df105493",
   "metadata": {},
   "outputs": [
    {
     "name": "stdout",
     "output_type": "stream",
     "text": [
      "0\n"
     ]
    }
   ],
   "source": [
    "print(int(False))"
   ]
  },
  {
   "cell_type": "code",
   "execution_count": null,
   "id": "6b94b15c",
   "metadata": {},
   "outputs": [],
   "source": []
  },
  {
   "cell_type": "code",
   "execution_count": null,
   "id": "ec2c234e",
   "metadata": {},
   "outputs": [],
   "source": []
  },
  {
   "cell_type": "markdown",
   "id": "6921b0c1",
   "metadata": {},
   "source": [
    "#### str -> bool"
   ]
  },
  {
   "cell_type": "code",
   "execution_count": 71,
   "id": "32256062",
   "metadata": {},
   "outputs": [
    {
     "name": "stdout",
     "output_type": "stream",
     "text": [
      "True\n"
     ]
    }
   ],
   "source": [
    "print(bool(\"abc\"))"
   ]
  },
  {
   "cell_type": "code",
   "execution_count": 72,
   "id": "7590f55e",
   "metadata": {},
   "outputs": [
    {
     "name": "stdout",
     "output_type": "stream",
     "text": [
      "True\n"
     ]
    }
   ],
   "source": [
    "print(bool(\"xyz\"))"
   ]
  },
  {
   "cell_type": "code",
   "execution_count": 73,
   "id": "b204ff76",
   "metadata": {},
   "outputs": [
    {
     "name": "stdout",
     "output_type": "stream",
     "text": [
      "True\n"
     ]
    }
   ],
   "source": [
    "print(bool(\"True\"))"
   ]
  },
  {
   "cell_type": "code",
   "execution_count": null,
   "id": "cb5839ad",
   "metadata": {},
   "outputs": [],
   "source": []
  },
  {
   "cell_type": "code",
   "execution_count": null,
   "id": "94dd6ad9",
   "metadata": {},
   "outputs": [],
   "source": []
  },
  {
   "cell_type": "code",
   "execution_count": null,
   "id": "36720ae0",
   "metadata": {},
   "outputs": [],
   "source": []
  },
  {
   "cell_type": "code",
   "execution_count": null,
   "id": "b4d4376e",
   "metadata": {},
   "outputs": [],
   "source": []
  },
  {
   "cell_type": "code",
   "execution_count": null,
   "id": "d2d4a2a5",
   "metadata": {},
   "outputs": [],
   "source": []
  },
  {
   "cell_type": "code",
   "execution_count": null,
   "id": "f9d199d1",
   "metadata": {},
   "outputs": [],
   "source": []
  },
  {
   "cell_type": "markdown",
   "id": "176974c3",
   "metadata": {},
   "source": [
    "#### Quiz 11\n",
    "```py\n",
    "print(bool('false'))\n",
    "```\n"
   ]
  },
  {
   "cell_type": "code",
   "execution_count": 74,
   "id": "df479289",
   "metadata": {},
   "outputs": [
    {
     "name": "stdout",
     "output_type": "stream",
     "text": [
      "True\n"
     ]
    }
   ],
   "source": [
    "print(bool('false'))"
   ]
  },
  {
   "cell_type": "code",
   "execution_count": 75,
   "id": "84cc2fff",
   "metadata": {},
   "outputs": [
    {
     "name": "stdout",
     "output_type": "stream",
     "text": [
      "True\n"
     ]
    }
   ],
   "source": [
    "print(bool(\"False\"))"
   ]
  },
  {
   "cell_type": "code",
   "execution_count": null,
   "id": "3cc05395",
   "metadata": {},
   "outputs": [],
   "source": []
  },
  {
   "cell_type": "markdown",
   "id": "1e4c2a11",
   "metadata": {},
   "source": [
    "All strings when converted to **bool** gives True only, except the empty string."
   ]
  },
  {
   "cell_type": "code",
   "execution_count": 76,
   "id": "f13e0198",
   "metadata": {},
   "outputs": [
    {
     "name": "stdout",
     "output_type": "stream",
     "text": [
      "False\n"
     ]
    }
   ],
   "source": [
    "print(bool(\"\"))"
   ]
  },
  {
   "cell_type": "code",
   "execution_count": null,
   "id": "444dac0a",
   "metadata": {},
   "outputs": [],
   "source": []
  },
  {
   "cell_type": "code",
   "execution_count": null,
   "id": "1d535e8e",
   "metadata": {},
   "outputs": [],
   "source": []
  },
  {
   "cell_type": "markdown",
   "id": "253b9123",
   "metadata": {},
   "source": [
    "#### None -> bool "
   ]
  },
  {
   "cell_type": "code",
   "execution_count": 77,
   "id": "c7a78c26",
   "metadata": {},
   "outputs": [
    {
     "data": {
      "text/plain": [
       "False"
      ]
     },
     "execution_count": 77,
     "metadata": {},
     "output_type": "execute_result"
    }
   ],
   "source": [
    "bool(None)"
   ]
  },
  {
   "cell_type": "code",
   "execution_count": null,
   "id": "04efd746",
   "metadata": {},
   "outputs": [],
   "source": []
  },
  {
   "cell_type": "code",
   "execution_count": null,
   "id": "e26077b1",
   "metadata": {},
   "outputs": [],
   "source": []
  },
  {
   "cell_type": "markdown",
   "id": "40636d16",
   "metadata": {},
   "source": [
    "## Relational Operators\n",
    "```py\n",
    "< > <= >= == !=\n",
    "```\n",
    "![](https://scaler.com/topics/images/relational-operators-in-python.webp)"
   ]
  },
  {
   "cell_type": "code",
   "execution_count": 78,
   "id": "35e30380",
   "metadata": {},
   "outputs": [
    {
     "name": "stdout",
     "output_type": "stream",
     "text": [
      "False\n"
     ]
    }
   ],
   "source": [
    "print(5 < 2)"
   ]
  },
  {
   "cell_type": "code",
   "execution_count": 79,
   "id": "93a849ad",
   "metadata": {},
   "outputs": [
    {
     "name": "stdout",
     "output_type": "stream",
     "text": [
      "True\n"
     ]
    }
   ],
   "source": [
    "print(10 > 5)"
   ]
  },
  {
   "cell_type": "code",
   "execution_count": 80,
   "id": "5e36b748",
   "metadata": {},
   "outputs": [
    {
     "name": "stdout",
     "output_type": "stream",
     "text": [
      "True\n"
     ]
    }
   ],
   "source": [
    "print(2 <= 10)"
   ]
  },
  {
   "cell_type": "code",
   "execution_count": 81,
   "id": "f939a3b7",
   "metadata": {},
   "outputs": [
    {
     "name": "stdout",
     "output_type": "stream",
     "text": [
      "True\n"
     ]
    }
   ],
   "source": [
    "print(10 >= 5)"
   ]
  },
  {
   "cell_type": "code",
   "execution_count": 82,
   "id": "c5162216",
   "metadata": {},
   "outputs": [
    {
     "name": "stdout",
     "output_type": "stream",
     "text": [
      "False\n"
     ]
    }
   ],
   "source": [
    "print(10 >= 12)"
   ]
  },
  {
   "cell_type": "code",
   "execution_count": null,
   "id": "9d801a35",
   "metadata": {},
   "outputs": [],
   "source": []
  },
  {
   "cell_type": "code",
   "execution_count": 83,
   "id": "18c7fa59",
   "metadata": {},
   "outputs": [
    {
     "name": "stdout",
     "output_type": "stream",
     "text": [
      "True\n"
     ]
    }
   ],
   "source": [
    "x = 10\n",
    "print(x == 10)"
   ]
  },
  {
   "cell_type": "code",
   "execution_count": 84,
   "id": "8ea7be8a",
   "metadata": {},
   "outputs": [
    {
     "name": "stdout",
     "output_type": "stream",
     "text": [
      "False\n"
     ]
    }
   ],
   "source": [
    "x = 10\n",
    "print(x == 5)"
   ]
  },
  {
   "cell_type": "code",
   "execution_count": 85,
   "id": "6631d349",
   "metadata": {},
   "outputs": [
    {
     "name": "stdout",
     "output_type": "stream",
     "text": [
      "False\n"
     ]
    }
   ],
   "source": [
    "x = 10\n",
    "print(x == 50)"
   ]
  },
  {
   "cell_type": "code",
   "execution_count": null,
   "id": "5288234b",
   "metadata": {},
   "outputs": [],
   "source": []
  },
  {
   "cell_type": "code",
   "execution_count": null,
   "id": "012011fe",
   "metadata": {},
   "outputs": [],
   "source": []
  },
  {
   "cell_type": "code",
   "execution_count": null,
   "id": "dc1cde06",
   "metadata": {},
   "outputs": [],
   "source": []
  },
  {
   "cell_type": "code",
   "execution_count": null,
   "id": "81b85625",
   "metadata": {},
   "outputs": [],
   "source": []
  },
  {
   "cell_type": "markdown",
   "id": "b6ceb59f",
   "metadata": {},
   "source": [
    "##### Q. Given marks of two students, compare their marks."
   ]
  },
  {
   "cell_type": "code",
   "execution_count": 86,
   "id": "069b8707",
   "metadata": {},
   "outputs": [
    {
     "name": "stdout",
     "output_type": "stream",
     "text": [
      "False\n"
     ]
    }
   ],
   "source": [
    "# Sharma Uncle's Son : Marks = 56\n",
    "m1 = 56\n",
    "\n",
    "# Malhotra Uncle's Daughter: Marks = 56\n",
    "m2 = 56\n",
    "\n",
    "# Print True if Sharma Uncle's son scored more, false otherwise\n",
    "print(m1 > m2)"
   ]
  },
  {
   "cell_type": "code",
   "execution_count": null,
   "id": "7e9baa38",
   "metadata": {},
   "outputs": [],
   "source": []
  },
  {
   "cell_type": "code",
   "execution_count": null,
   "id": "f743e81a",
   "metadata": {},
   "outputs": [],
   "source": []
  },
  {
   "cell_type": "markdown",
   "id": "b8916b0b",
   "metadata": {},
   "source": [
    "#### Voting criteria\n",
    "Given the age of a person, check if he/she is eligible to vote"
   ]
  },
  {
   "cell_type": "code",
   "execution_count": 93,
   "id": "402ad2a7",
   "metadata": {},
   "outputs": [
    {
     "name": "stdout",
     "output_type": "stream",
     "text": [
      "5\n",
      "False\n"
     ]
    }
   ],
   "source": [
    "age = int(input())\n",
    "\n",
    "print(age >= 18)"
   ]
  },
  {
   "cell_type": "code",
   "execution_count": null,
   "id": "a231f033",
   "metadata": {},
   "outputs": [],
   "source": []
  },
  {
   "cell_type": "code",
   "execution_count": null,
   "id": "ca5ec2bf",
   "metadata": {},
   "outputs": [],
   "source": []
  },
  {
   "cell_type": "markdown",
   "id": "28c81797",
   "metadata": {},
   "source": [
    "#### Quiz 12\n",
    "```py\n",
    "print(False == 0)\n",
    "```"
   ]
  },
  {
   "cell_type": "code",
   "execution_count": 94,
   "id": "520240a2",
   "metadata": {},
   "outputs": [
    {
     "name": "stdout",
     "output_type": "stream",
     "text": [
      "True\n"
     ]
    }
   ],
   "source": [
    "print(False == 0)"
   ]
  },
  {
   "cell_type": "code",
   "execution_count": null,
   "id": "615849e5",
   "metadata": {},
   "outputs": [],
   "source": []
  },
  {
   "cell_type": "code",
   "execution_count": null,
   "id": "468af181",
   "metadata": {},
   "outputs": [],
   "source": []
  },
  {
   "cell_type": "markdown",
   "id": "d539fd7a",
   "metadata": {},
   "source": [
    "#### Quiz 13\n",
    "```py\n",
    "print('2' == 2)\n",
    "```"
   ]
  },
  {
   "cell_type": "code",
   "execution_count": 95,
   "id": "a7570aa9",
   "metadata": {},
   "outputs": [
    {
     "name": "stdout",
     "output_type": "stream",
     "text": [
      "False\n"
     ]
    }
   ],
   "source": [
    "print('2' == 2)"
   ]
  },
  {
   "cell_type": "code",
   "execution_count": null,
   "id": "51cacc2c",
   "metadata": {},
   "outputs": [],
   "source": []
  },
  {
   "cell_type": "code",
   "execution_count": null,
   "id": "f921e19e",
   "metadata": {},
   "outputs": [],
   "source": []
  },
  {
   "cell_type": "code",
   "execution_count": null,
   "id": "18588a49",
   "metadata": {},
   "outputs": [],
   "source": []
  },
  {
   "cell_type": "code",
   "execution_count": null,
   "id": "53d3fdf1",
   "metadata": {},
   "outputs": [],
   "source": []
  },
  {
   "cell_type": "markdown",
   "id": "ce65f72f",
   "metadata": {},
   "source": [
    "# Bonus Reading Material\n",
    "- Operators in Python - https://www.scaler.com/topics/python/operators-in-python/\n",
    "- Arithmetic Operators in Python - https://www.scaler.com/topics/arithmetic-operators-in-python/\n",
    "- What are Relational Operators in Python? - https://www.scaler.com/topics/relational-operators-in-python/\n",
    "- Modulus in Python - https://www.scaler.com/topics/modulus-in-python/"
   ]
  },
  {
   "cell_type": "code",
   "execution_count": null,
   "id": "34956f6b",
   "metadata": {},
   "outputs": [],
   "source": []
  }
 ],
 "metadata": {
  "kernelspec": {
   "display_name": "Python 3 (ipykernel)",
   "language": "python",
   "name": "python3"
  },
  "language_info": {
   "codemirror_mode": {
    "name": "ipython",
    "version": 3
   },
   "file_extension": ".py",
   "mimetype": "text/x-python",
   "name": "python",
   "nbconvert_exporter": "python",
   "pygments_lexer": "ipython3",
   "version": "3.9.12"
  }
 },
 "nbformat": 4,
 "nbformat_minor": 5
}
