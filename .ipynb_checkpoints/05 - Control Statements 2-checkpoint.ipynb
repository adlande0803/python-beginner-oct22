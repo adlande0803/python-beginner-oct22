{
 "cells": [
  {
   "cell_type": "markdown",
   "id": "271b725c",
   "metadata": {},
   "source": [
    "# Control Statements 2\n",
    "<img src=\"https://scaler.com/topics/images/if-else-statement-in-python-768x947.webp\" width=\"400px\" />"
   ]
  },
  {
   "cell_type": "markdown",
   "id": "3189b2bd",
   "metadata": {},
   "source": [
    "\n",
    "### Q1. Input a number and print whether number is positive (> 0) or not."
   ]
  },
  {
   "cell_type": "code",
   "execution_count": 1,
   "id": "55960065",
   "metadata": {},
   "outputs": [
    {
     "name": "stdout",
     "output_type": "stream",
     "text": [
      "0\n",
      "Not positive\n"
     ]
    }
   ],
   "source": [
    "N = int(input())\n",
    "\n",
    "if N > 0:\n",
    "    print(\"Positive\")\n",
    "else:\n",
    "    print(\"Not positive\")"
   ]
  },
  {
   "cell_type": "code",
   "execution_count": null,
   "id": "9830d7f8",
   "metadata": {},
   "outputs": [],
   "source": []
  },
  {
   "cell_type": "code",
   "execution_count": null,
   "id": "17c07590",
   "metadata": {},
   "outputs": [],
   "source": []
  },
  {
   "cell_type": "code",
   "execution_count": null,
   "id": "fe1a442e",
   "metadata": {},
   "outputs": [],
   "source": []
  },
  {
   "cell_type": "code",
   "execution_count": null,
   "id": "410e5ff7",
   "metadata": {},
   "outputs": [],
   "source": []
  },
  {
   "cell_type": "code",
   "execution_count": null,
   "id": "d00c6324",
   "metadata": {},
   "outputs": [],
   "source": []
  },
  {
   "cell_type": "markdown",
   "id": "343b6dff",
   "metadata": {},
   "source": [
    "#### Quiz 1\n",
    "```py\n",
    "x = 5\n",
    "if x < 5 or x > -1:\n",
    "    x = x - 3\n",
    "else:\n",
    "    x = x + 3\n",
    "```"
   ]
  },
  {
   "cell_type": "code",
   "execution_count": 2,
   "id": "a51215c7",
   "metadata": {},
   "outputs": [
    {
     "name": "stdout",
     "output_type": "stream",
     "text": [
      "2\n"
     ]
    }
   ],
   "source": [
    "x = 5\n",
    "if x < 5 or x > -1:\n",
    "    x = x - 3\n",
    "else:\n",
    "    x = x + 3\n",
    "    \n",
    "print(x)"
   ]
  },
  {
   "cell_type": "code",
   "execution_count": null,
   "id": "8abb3587",
   "metadata": {},
   "outputs": [],
   "source": []
  },
  {
   "cell_type": "code",
   "execution_count": null,
   "id": "0ddd9507",
   "metadata": {},
   "outputs": [],
   "source": []
  },
  {
   "cell_type": "markdown",
   "id": "cbf0794a",
   "metadata": {},
   "source": [
    "### Q2 - Odd/Even test\n",
    "Given an integer input, check if it is odd or even\n",
    "![](https://scaler.com/topics/images/even-odd-program-in-python.webp)"
   ]
  },
  {
   "cell_type": "code",
   "execution_count": 3,
   "id": "e9af21b4",
   "metadata": {},
   "outputs": [
    {
     "name": "stdout",
     "output_type": "stream",
     "text": [
      "0\n",
      "N is even\n"
     ]
    }
   ],
   "source": [
    "N = int(input())\n",
    "\n",
    "if N % 2 == 0:\n",
    "    print(\"N is even\")\n",
    "else:\n",
    "    print(\"N is odd\")"
   ]
  },
  {
   "cell_type": "code",
   "execution_count": null,
   "id": "e5f06de7",
   "metadata": {},
   "outputs": [],
   "source": []
  },
  {
   "cell_type": "code",
   "execution_count": null,
   "id": "bfbfc0a9",
   "metadata": {},
   "outputs": [],
   "source": []
  },
  {
   "cell_type": "code",
   "execution_count": null,
   "id": "eb864105",
   "metadata": {},
   "outputs": [],
   "source": []
  },
  {
   "cell_type": "code",
   "execution_count": null,
   "id": "a4febd26",
   "metadata": {},
   "outputs": [],
   "source": []
  },
  {
   "cell_type": "markdown",
   "id": "8dd2920e",
   "metadata": {},
   "source": [
    "### Q3 - Favourite Language\n",
    "1. If you enter Python then print \"Nice Choice!\"\n",
    "2. Else print \"I don't know that language!\""
   ]
  },
  {
   "cell_type": "code",
   "execution_count": 6,
   "id": "155b12c6",
   "metadata": {},
   "outputs": [
    {
     "name": "stdout",
     "output_type": "stream",
     "text": [
      "C++\n",
      "I don't know that language\n"
     ]
    }
   ],
   "source": [
    "lang = input()\n",
    "\n",
    "if lang == \"Python\":\n",
    "    print(\"Nice choice!\")\n",
    "else:\n",
    "    print(\"I don't know that language\")"
   ]
  },
  {
   "cell_type": "code",
   "execution_count": null,
   "id": "70329aae",
   "metadata": {},
   "outputs": [],
   "source": []
  },
  {
   "cell_type": "code",
   "execution_count": null,
   "id": "ef347e3a",
   "metadata": {},
   "outputs": [],
   "source": []
  },
  {
   "cell_type": "code",
   "execution_count": null,
   "id": "f4a23ff6",
   "metadata": {},
   "outputs": [],
   "source": []
  },
  {
   "cell_type": "code",
   "execution_count": null,
   "id": "be6159ff",
   "metadata": {},
   "outputs": [],
   "source": []
  },
  {
   "cell_type": "code",
   "execution_count": null,
   "id": "66c09832",
   "metadata": {},
   "outputs": [],
   "source": []
  },
  {
   "cell_type": "code",
   "execution_count": null,
   "id": "32c15c20",
   "metadata": {},
   "outputs": [],
   "source": []
  },
  {
   "cell_type": "markdown",
   "id": "0b076d89",
   "metadata": {},
   "source": [
    "### Q4 - Favourite Language 2\n",
    "1. If you enter Python or Java then print \"Nice Choice!\"\n",
    "2. Else print \"I don't know that language!\""
   ]
  },
  {
   "cell_type": "code",
   "execution_count": 11,
   "id": "fc2d513f",
   "metadata": {},
   "outputs": [
    {
     "name": "stdout",
     "output_type": "stream",
     "text": [
      "python\n",
      "I don't know that language\n"
     ]
    }
   ],
   "source": [
    "lang = input()\n",
    "\n",
    "if lang == \"Python\" or lang == \"Java\":\n",
    "    print(\"Nice choice!\")\n",
    "else:\n",
    "    print(\"I don't know that language\")"
   ]
  },
  {
   "cell_type": "code",
   "execution_count": null,
   "id": "64c3fa0f",
   "metadata": {},
   "outputs": [],
   "source": []
  },
  {
   "cell_type": "code",
   "execution_count": null,
   "id": "4864e9a8",
   "metadata": {},
   "outputs": [],
   "source": []
  },
  {
   "cell_type": "code",
   "execution_count": null,
   "id": "daefbca8",
   "metadata": {},
   "outputs": [],
   "source": []
  },
  {
   "cell_type": "code",
   "execution_count": null,
   "id": "5b2d8b00",
   "metadata": {},
   "outputs": [],
   "source": []
  },
  {
   "cell_type": "markdown",
   "id": "ee4372d6",
   "metadata": {},
   "source": [
    "### Q5 - Favourite Language 3\n",
    "1. If you enter Python or Java then print \"Nice Choice!\"\n",
    "2. If you enter C++, it should say \"I am speed\"\n",
    "2. Else print \"I don't know that language!\""
   ]
  },
  {
   "cell_type": "code",
   "execution_count": 15,
   "id": "167bbb38",
   "metadata": {},
   "outputs": [
    {
     "name": "stdout",
     "output_type": "stream",
     "text": [
      "Ruby\n",
      "I don't know that language!\n"
     ]
    }
   ],
   "source": [
    "lang = input()\n",
    "\n",
    "if lang == \"Python\" or lang == \"Java\":\n",
    "    print(\"Nice choice!\")\n",
    "else:\n",
    "    if lang == \"C++\":\n",
    "        print(\"I am speed\")\n",
    "    else:\n",
    "        print(\"I don't know that language!\")"
   ]
  },
  {
   "cell_type": "code",
   "execution_count": null,
   "id": "d435b10c",
   "metadata": {},
   "outputs": [],
   "source": []
  },
  {
   "cell_type": "code",
   "execution_count": null,
   "id": "df814a77",
   "metadata": {},
   "outputs": [],
   "source": []
  },
  {
   "cell_type": "code",
   "execution_count": null,
   "id": "aec52928",
   "metadata": {},
   "outputs": [],
   "source": []
  },
  {
   "cell_type": "code",
   "execution_count": null,
   "id": "889e3f43",
   "metadata": {},
   "outputs": [],
   "source": []
  },
  {
   "cell_type": "code",
   "execution_count": null,
   "id": "3148f07e",
   "metadata": {},
   "outputs": [],
   "source": []
  },
  {
   "cell_type": "markdown",
   "id": "450d5e55",
   "metadata": {},
   "source": [
    "### Q6 - Favourite Language 4\n",
    "1. If you enter Python or Java then print \"Nice Choice!\"\n",
    "2. If you enter C++, it should say \"I am speed\"\n",
    "3. If you enter Javascript, it should say \"Oh. You are a web developer\"\n",
    "4. If you enter Golang, it should say \"You're a cool person, I see\"\n",
    "5. Else print \"I don't know that language!\""
   ]
  },
  {
   "cell_type": "code",
   "execution_count": null,
   "id": "c2e16302",
   "metadata": {},
   "outputs": [],
   "source": [
    "lang = input()\n",
    "\n",
    "if lang == \"Python\" or lang == \"Java\":\n",
    "    print(\"Nice choice!\")\n",
    "else:\n",
    "    if lang == \"C++\":\n",
    "        print(\"I am speed\")\n",
    "    else:\n",
    "        if lang == \"Javascript\":\n",
    "            print(\"Oh. You are a web developer\")\n",
    "        else:\n",
    "            if lang == \"Golang\":\n",
    "                print(\"You're a cool person, I see\")\n",
    "            else:\n",
    "                print(\"I don't know that language!\")"
   ]
  },
  {
   "cell_type": "code",
   "execution_count": null,
   "id": "095f469e",
   "metadata": {},
   "outputs": [],
   "source": []
  },
  {
   "cell_type": "code",
   "execution_count": null,
   "id": "0cd3767a",
   "metadata": {},
   "outputs": [],
   "source": []
  },
  {
   "cell_type": "code",
   "execution_count": null,
   "id": "2066188c",
   "metadata": {},
   "outputs": [],
   "source": []
  },
  {
   "cell_type": "markdown",
   "id": "a79bce3d",
   "metadata": {},
   "source": [
    "![](https://media.giphy.com/media/L4AQvif7x9fS8/giphy.gif)"
   ]
  },
  {
   "cell_type": "code",
   "execution_count": null,
   "id": "f55fe6c6",
   "metadata": {},
   "outputs": [],
   "source": []
  },
  {
   "cell_type": "markdown",
   "id": "85f8b5ce",
   "metadata": {},
   "source": [
    "## Else if conditions - elif\n",
    "![](https://scaler.com/topics/images/if-elif-else-in-python-768x499.webp)"
   ]
  },
  {
   "cell_type": "code",
   "execution_count": 21,
   "id": "9fa638a4",
   "metadata": {},
   "outputs": [
    {
     "name": "stdout",
     "output_type": "stream",
     "text": [
      "Ruby\n",
      "I don't know that language!\n"
     ]
    }
   ],
   "source": [
    "lang = input()\n",
    "\n",
    "if lang == \"Python\" or lang == \"Java\":\n",
    "    print(\"Nice choice\")\n",
    "elif lang == \"C++\":\n",
    "    print(\"I am speed\")\n",
    "elif lang == \"Javascript\":\n",
    "    print(\"Oh. You are a web developer\")\n",
    "elif lang == \"Golang\":\n",
    "    print(\"You're a cool person, I see\")\n",
    "else:\n",
    "    print(\"I don't know that language!\")"
   ]
  },
  {
   "cell_type": "code",
   "execution_count": null,
   "id": "494d52ec",
   "metadata": {},
   "outputs": [],
   "source": [
    "# VS Code or Pycharm"
   ]
  },
  {
   "cell_type": "code",
   "execution_count": null,
   "id": "2425bb4a",
   "metadata": {},
   "outputs": [],
   "source": []
  },
  {
   "cell_type": "code",
   "execution_count": null,
   "id": "3baa7796",
   "metadata": {},
   "outputs": [],
   "source": []
  },
  {
   "cell_type": "code",
   "execution_count": null,
   "id": "ea16fd92",
   "metadata": {},
   "outputs": [],
   "source": []
  },
  {
   "cell_type": "markdown",
   "id": "a3793d6d",
   "metadata": {},
   "source": [
    "### Check sign"
   ]
  },
  {
   "cell_type": "code",
   "execution_count": null,
   "id": "858094de",
   "metadata": {},
   "outputs": [],
   "source": []
  },
  {
   "cell_type": "markdown",
   "id": "e612589a",
   "metadata": {},
   "source": [
    "#### Quiz 2\n",
    "```py\n",
    "x = 0\n",
    "\n",
    "if x > 0:\n",
    "  print('positive')\n",
    "elif _____:\n",
    "  print('zero')\n",
    "else:\n",
    "  print('negative')\n",
    "```\n",
    "Fill the condition"
   ]
  },
  {
   "cell_type": "code",
   "execution_count": 22,
   "id": "1ef7a7ea",
   "metadata": {},
   "outputs": [
    {
     "name": "stdout",
     "output_type": "stream",
     "text": [
      "zero\n"
     ]
    }
   ],
   "source": [
    "x = 0\n",
    "\n",
    "if x > 0:\n",
    "    print('positive')\n",
    "elif x == 0:\n",
    "    print('zero')\n",
    "else:\n",
    "    print('negative')"
   ]
  },
  {
   "cell_type": "code",
   "execution_count": 24,
   "id": "89ad3290",
   "metadata": {},
   "outputs": [
    {
     "name": "stdout",
     "output_type": "stream",
     "text": [
      "negative\n"
     ]
    }
   ],
   "source": [
    "x = -10\n",
    "\n",
    "if x > 0:\n",
    "    print('positive')\n",
    "elif x == 0:\n",
    "    print('zero')\n",
    "else:\n",
    "    print('negative')"
   ]
  },
  {
   "cell_type": "code",
   "execution_count": null,
   "id": "a86fe458",
   "metadata": {},
   "outputs": [],
   "source": []
  },
  {
   "cell_type": "code",
   "execution_count": null,
   "id": "6aee5f27",
   "metadata": {},
   "outputs": [],
   "source": [
    "# Is else compulsory after an if ????"
   ]
  },
  {
   "cell_type": "markdown",
   "id": "ffae3e54",
   "metadata": {},
   "source": [
    "### Odd even check without else"
   ]
  },
  {
   "cell_type": "code",
   "execution_count": 26,
   "id": "df21263f",
   "metadata": {},
   "outputs": [
    {
     "name": "stdout",
     "output_type": "stream",
     "text": [
      "Even\n"
     ]
    }
   ],
   "source": [
    "n = 6\n",
    "\n",
    "if n % 2 == 0:\n",
    "    print(\"Even\")\n",
    "elif n % 2 == 1:\n",
    "    print(\"Odd\")"
   ]
  },
  {
   "cell_type": "code",
   "execution_count": null,
   "id": "4dec0e54",
   "metadata": {},
   "outputs": [],
   "source": []
  },
  {
   "cell_type": "code",
   "execution_count": null,
   "id": "9fb40d3a",
   "metadata": {},
   "outputs": [],
   "source": []
  },
  {
   "cell_type": "code",
   "execution_count": null,
   "id": "1d229615",
   "metadata": {},
   "outputs": [],
   "source": []
  },
  {
   "cell_type": "code",
   "execution_count": null,
   "id": "68c4662c",
   "metadata": {},
   "outputs": [],
   "source": []
  },
  {
   "cell_type": "markdown",
   "id": "dde6ffa6",
   "metadata": {},
   "source": [
    "#### Quiz 3\n",
    "```py\n",
    "if False:\n",
    "    print(\"Artificial Intelligence\")\n",
    "elif True:\n",
    "    print(\"Machine Learning\")\n",
    "elif True:\n",
    "    print(\"Data Science\")\n",
    "else:\n",
    "    print(\"Deep Learning\") \n",
    "```"
   ]
  },
  {
   "cell_type": "code",
   "execution_count": 27,
   "id": "cd9c1304",
   "metadata": {},
   "outputs": [
    {
     "name": "stdout",
     "output_type": "stream",
     "text": [
      "Machine Learning\n"
     ]
    }
   ],
   "source": [
    "if False:\n",
    "    print(\"Artificial Intelligence\")\n",
    "elif True:\n",
    "    print(\"Machine Learning\")\n",
    "elif True:\n",
    "    print(\"Data Science\")\n",
    "else:\n",
    "    print(\"Deep Learning\") "
   ]
  },
  {
   "cell_type": "code",
   "execution_count": null,
   "id": "cbca4fcd",
   "metadata": {},
   "outputs": [],
   "source": [
    "N = 100\n",
    "\n",
    "if N < 5:\n",
    "    print(\"Artificial Intelligence\")\n",
    "elif N > 50:\n",
    "    print(\"Machine Learning\")\n",
    "elif N > 70:\n",
    "    print(\"Data Science\")\n",
    "else:\n",
    "    print(\"Deep Learning\") "
   ]
  },
  {
   "cell_type": "code",
   "execution_count": 28,
   "id": "02dcc1ec",
   "metadata": {},
   "outputs": [
    {
     "name": "stdout",
     "output_type": "stream",
     "text": [
      "Deep Learning\n"
     ]
    }
   ],
   "source": [
    "N = 20\n",
    "\n",
    "if N < 5:\n",
    "    print(\"Artificial Intelligence\")\n",
    "elif N > 50:\n",
    "    print(\"Machine Learning\")\n",
    "elif N > 70:\n",
    "    print(\"Data Science\")\n",
    "else:\n",
    "    print(\"Deep Learning\") "
   ]
  },
  {
   "cell_type": "code",
   "execution_count": null,
   "id": "0cf1bb28",
   "metadata": {},
   "outputs": [],
   "source": []
  },
  {
   "cell_type": "markdown",
   "id": "05a4e86b",
   "metadata": {},
   "source": [
    "#### Quiz 4\n",
    "```py\n",
    "a = 1\n",
    "b = 0\n",
    "c = 1\n",
    "if (a and b):\n",
    "    print(\"Scaler is awesome\")\n",
    "elif (a and c):\n",
    "    print(\"ML is fun\")\n",
    "if (a and b and c):\n",
    "    print(\"Python is amazing\")\n",
    "if (a or b or c):\n",
    "    print(\"I love DS\")\n",
    "```"
   ]
  },
  {
   "cell_type": "code",
   "execution_count": 29,
   "id": "ad0b79cb",
   "metadata": {},
   "outputs": [
    {
     "name": "stdout",
     "output_type": "stream",
     "text": [
      "ML is fun\n",
      "I love DS\n"
     ]
    }
   ],
   "source": [
    "a = 1\n",
    "b = 0\n",
    "c = 1\n",
    "if (a and b):\n",
    "    print(\"Scaler is awesome\")\n",
    "elif (a and c):\n",
    "    print(\"ML is fun\")\n",
    "\n",
    "if (a and b and c):\n",
    "    print(\"Python is amazing\")\n",
    "\n",
    "if (a or b or c):\n",
    "    print(\"I love DS\")"
   ]
  },
  {
   "cell_type": "code",
   "execution_count": null,
   "id": "cf463bb0",
   "metadata": {},
   "outputs": [],
   "source": []
  },
  {
   "cell_type": "code",
   "execution_count": null,
   "id": "59287f52",
   "metadata": {},
   "outputs": [],
   "source": []
  },
  {
   "cell_type": "markdown",
   "id": "6b1c7d07",
   "metadata": {},
   "source": [
    "#### Given an integer, check if it is odd or even and then also check if it is divisible by 3 or not. Then also check if it is divisible by 5."
   ]
  },
  {
   "cell_type": "code",
   "execution_count": 31,
   "id": "cb8433c8",
   "metadata": {},
   "outputs": [
    {
     "name": "stdout",
     "output_type": "stream",
     "text": [
      "Odd\n",
      "Divisble by 3\n",
      "Divisble by 5\n"
     ]
    }
   ],
   "source": [
    "n = 15\n",
    "\n",
    "if n % 2 == 0:\n",
    "    print(\"Even\")\n",
    "else:\n",
    "    print(\"Odd\")\n",
    "    \n",
    "if n % 3 == 0:\n",
    "    print(\"Divisble by 3\")\n",
    "else:\n",
    "    print(\"Not divisible by 3\")\n",
    "    \n",
    "if n % 5 == 0:\n",
    "    print(\"Divisble by 5\")\n",
    "else:\n",
    "    print(\"Not divisible by 5\")"
   ]
  },
  {
   "cell_type": "code",
   "execution_count": null,
   "id": "9fbc19cc",
   "metadata": {},
   "outputs": [],
   "source": []
  },
  {
   "cell_type": "code",
   "execution_count": null,
   "id": "612426fb",
   "metadata": {},
   "outputs": [],
   "source": []
  },
  {
   "cell_type": "code",
   "execution_count": null,
   "id": "7f13ee8b",
   "metadata": {},
   "outputs": [],
   "source": []
  },
  {
   "cell_type": "code",
   "execution_count": null,
   "id": "82d2e8b3",
   "metadata": {},
   "outputs": [],
   "source": []
  },
  {
   "cell_type": "code",
   "execution_count": null,
   "id": "45129b16",
   "metadata": {},
   "outputs": [],
   "source": []
  },
  {
   "cell_type": "code",
   "execution_count": null,
   "id": "1321273b",
   "metadata": {},
   "outputs": [],
   "source": []
  },
  {
   "cell_type": "markdown",
   "id": "f53652de",
   "metadata": {},
   "source": [
    "### FizzBuzz\n",
    "Write a program that takes in a number N as input and does the following:\n",
    "- if N is a multiple of only 3, print Fizz\n",
    "- if N is a multiple of only 5 (not 3), print Buzz\n",
    "- if N is a multiple of both 3 and 5, print FizzBuzz\n",
    "![](https://scaler.com/topics/images/fizzbuzz-program-in-python.webp)"
   ]
  },
  {
   "cell_type": "code",
   "execution_count": null,
   "id": "b9dd479c",
   "metadata": {},
   "outputs": [],
   "source": [
    "# Try it out and message in private chat"
   ]
  },
  {
   "cell_type": "code",
   "execution_count": 40,
   "id": "69bc4848",
   "metadata": {},
   "outputs": [
    {
     "name": "stdout",
     "output_type": "stream",
     "text": [
      "9\n",
      "Fizz\n"
     ]
    }
   ],
   "source": [
    "N = int(input())\n",
    "\n",
    "if N % 3 == 0 and N % 5 == 0:\n",
    "    print(\"FizzBuzz\")\n",
    "elif N % 3 == 0:\n",
    "    print(\"Fizz\")\n",
    "elif N % 5 == 0:\n",
    "    print(\"Buzz\")"
   ]
  },
  {
   "cell_type": "code",
   "execution_count": null,
   "id": "48b6308a",
   "metadata": {},
   "outputs": [],
   "source": [
    "N = int(input())\n",
    "\n",
    "if N % 15 == 0:\n",
    "    print(\"FizzBuzz\")\n",
    "elif N % 3 == 0:\n",
    "    print(\"Fizz\")\n",
    "elif N % 5 == 0:\n",
    "    print(\"Buzz\")"
   ]
  },
  {
   "cell_type": "code",
   "execution_count": null,
   "id": "d3644525",
   "metadata": {},
   "outputs": [],
   "source": []
  },
  {
   "cell_type": "code",
   "execution_count": null,
   "id": "6b88d74c",
   "metadata": {},
   "outputs": [],
   "source": []
  },
  {
   "cell_type": "code",
   "execution_count": null,
   "id": "e2c0becc",
   "metadata": {},
   "outputs": [],
   "source": []
  },
  {
   "cell_type": "markdown",
   "id": "ff0e5335",
   "metadata": {},
   "source": [
    "# Bonus Reading Material\n",
    "- Python if…else Statement - https://www.scaler.com/topics/python/python-if-else-statement/\n",
    "- Even Odd Program in Python - https://www.scaler.com/topics/even-odd-program-in-python/\n",
    "- FizzBuzz Program in Python - https://www.scaler.com/topics/fizzbuzz-program-in-python/"
   ]
  },
  {
   "cell_type": "code",
   "execution_count": null,
   "id": "f8b17056",
   "metadata": {},
   "outputs": [],
   "source": []
  },
  {
   "cell_type": "code",
   "execution_count": null,
   "id": "7565d587",
   "metadata": {},
   "outputs": [],
   "source": []
  },
  {
   "cell_type": "markdown",
   "id": "4f90ac37",
   "metadata": {},
   "source": [
    "# Doubts"
   ]
  },
  {
   "cell_type": "code",
   "execution_count": null,
   "id": "ef7c9cbb",
   "metadata": {},
   "outputs": [],
   "source": []
  },
  {
   "cell_type": "code",
   "execution_count": 43,
   "id": "0c0eb199",
   "metadata": {},
   "outputs": [
    {
     "name": "stdout",
     "output_type": "stream",
     "text": [
      "10\n",
      "0\n"
     ]
    },
    {
     "ename": "ZeroDivisionError",
     "evalue": "integer division or modulo by zero",
     "output_type": "error",
     "traceback": [
      "\u001b[0;31m---------------------------------------------------------------------------\u001b[0m",
      "\u001b[0;31mZeroDivisionError\u001b[0m                         Traceback (most recent call last)",
      "\u001b[0;32m/var/folders/jn/1bsrct314hv5xmfm7vrcdrzc0000gn/T/ipykernel_3999/2709318833.py\u001b[0m in \u001b[0;36m<module>\u001b[0;34m\u001b[0m\n\u001b[1;32m      2\u001b[0m \u001b[0mb\u001b[0m \u001b[0;34m=\u001b[0m \u001b[0mint\u001b[0m\u001b[0;34m(\u001b[0m\u001b[0minput\u001b[0m\u001b[0;34m(\u001b[0m\u001b[0;34m)\u001b[0m\u001b[0;34m)\u001b[0m\u001b[0;34m\u001b[0m\u001b[0;34m\u001b[0m\u001b[0m\n\u001b[1;32m      3\u001b[0m \u001b[0;34m\u001b[0m\u001b[0m\n\u001b[0;32m----> 4\u001b[0;31m \u001b[0mprint\u001b[0m\u001b[0;34m(\u001b[0m\u001b[0ma\u001b[0m \u001b[0;34m//\u001b[0m \u001b[0mb\u001b[0m\u001b[0;34m)\u001b[0m\u001b[0;34m\u001b[0m\u001b[0;34m\u001b[0m\u001b[0m\n\u001b[0m",
      "\u001b[0;31mZeroDivisionError\u001b[0m: integer division or modulo by zero"
     ]
    }
   ],
   "source": [
    "a = int(input())\n",
    "b = int(input())\n",
    "\n",
    "print(a // b)"
   ]
  },
  {
   "cell_type": "code",
   "execution_count": null,
   "id": "e1172d49",
   "metadata": {},
   "outputs": [],
   "source": []
  },
  {
   "cell_type": "code",
   "execution_count": 44,
   "id": "71623773",
   "metadata": {},
   "outputs": [
    {
     "name": "stdout",
     "output_type": "stream",
     "text": [
      "Python\n",
      "Nice choice\n",
      "I dont know that lang\n"
     ]
    }
   ],
   "source": [
    "lang = input()\n",
    "if lang == \"Python\" or lang == \"Java\" :\n",
    "    print(\"Nice choice\")\n",
    "    \n",
    "if lang == \"C++\" :\n",
    "    print(\"I am Speed\")\n",
    "    \n",
    "if lang == \"Javascript\" :\n",
    "    print(\"oh you are a web developer\")\n",
    "    \n",
    "if lang == \"Golang\" :\n",
    "    print(\"you are a cool person , I see\")\n",
    "else :\n",
    "    print(\"I dont know that lang\")"
   ]
  },
  {
   "cell_type": "code",
   "execution_count": null,
   "id": "22c83b2f",
   "metadata": {},
   "outputs": [],
   "source": []
  }
 ],
 "metadata": {
  "kernelspec": {
   "display_name": "Python 3 (ipykernel)",
   "language": "python",
   "name": "python3"
  },
  "language_info": {
   "codemirror_mode": {
    "name": "ipython",
    "version": 3
   },
   "file_extension": ".py",
   "mimetype": "text/x-python",
   "name": "python",
   "nbconvert_exporter": "python",
   "pygments_lexer": "ipython3",
   "version": "3.9.12"
  }
 },
 "nbformat": 4,
 "nbformat_minor": 5
}
