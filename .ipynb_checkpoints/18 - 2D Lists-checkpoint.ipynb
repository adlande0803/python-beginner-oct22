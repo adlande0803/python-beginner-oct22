{
 "cells": [
  {
   "cell_type": "markdown",
   "id": "9ce9e5fd",
   "metadata": {},
   "source": [
    "# 2D Lists\n"
   ]
  },
  {
   "cell_type": "markdown",
   "id": "1a395098",
   "metadata": {},
   "source": [
    "\n",
    "![](https://scaler.com/topics/images/2d-array-python.webp)"
   ]
  },
  {
   "cell_type": "code",
   "execution_count": null,
   "id": "1fd1a95b",
   "metadata": {},
   "outputs": [],
   "source": [
    "a = [1, 2, 'hello', True, [10, 20]]"
   ]
  },
  {
   "cell_type": "code",
   "execution_count": null,
   "id": "668d7cf6",
   "metadata": {},
   "outputs": [],
   "source": [
    "a = [[10, 20], [30, 40, 50], [60], [70, 80, 90, 100]]"
   ]
  },
  {
   "cell_type": "code",
   "execution_count": 1,
   "id": "2c806d4e",
   "metadata": {},
   "outputs": [],
   "source": [
    "a = [\n",
    "    [10, 20],\n",
    "    [30, 40, 50],\n",
    "    [60],\n",
    "    [70, 80, 90, 100]\n",
    "]"
   ]
  },
  {
   "cell_type": "code",
   "execution_count": 2,
   "id": "3fd0a9fb",
   "metadata": {},
   "outputs": [
    {
     "name": "stdout",
     "output_type": "stream",
     "text": [
      "40\n"
     ]
    }
   ],
   "source": [
    "print(a[1][1])"
   ]
  },
  {
   "cell_type": "code",
   "execution_count": 3,
   "id": "d570c766",
   "metadata": {},
   "outputs": [
    {
     "data": {
      "text/plain": [
       "[30, 40, 50]"
      ]
     },
     "execution_count": 3,
     "metadata": {},
     "output_type": "execute_result"
    }
   ],
   "source": [
    "a[1]"
   ]
  },
  {
   "cell_type": "code",
   "execution_count": null,
   "id": "40a75a7b",
   "metadata": {},
   "outputs": [],
   "source": []
  },
  {
   "cell_type": "code",
   "execution_count": 4,
   "id": "fc2920a7",
   "metadata": {},
   "outputs": [
    {
     "name": "stdout",
     "output_type": "stream",
     "text": [
      "[[10, 20], [30, 40], [50, 60]]\n"
     ]
    }
   ],
   "source": [
    "b = [\n",
    "    [10, 20],\n",
    "    [30, 40],\n",
    "    [50, 60],\n",
    "]\n",
    "print(b)"
   ]
  },
  {
   "cell_type": "code",
   "execution_count": null,
   "id": "61b97728",
   "metadata": {},
   "outputs": [],
   "source": []
  },
  {
   "cell_type": "code",
   "execution_count": 5,
   "id": "039310e1",
   "metadata": {},
   "outputs": [
    {
     "name": "stdout",
     "output_type": "stream",
     "text": [
      "10\n"
     ]
    }
   ],
   "source": [
    "nums = [[10, 20, 30], [98, 99]]\n",
    "print(nums[0][0])"
   ]
  },
  {
   "cell_type": "code",
   "execution_count": 7,
   "id": "185d77a5",
   "metadata": {},
   "outputs": [
    {
     "name": "stdout",
     "output_type": "stream",
     "text": [
      "99\n"
     ]
    }
   ],
   "source": [
    "print(nums[1][1])"
   ]
  },
  {
   "cell_type": "code",
   "execution_count": 6,
   "id": "25fc19ca",
   "metadata": {},
   "outputs": [
    {
     "data": {
      "text/plain": [
       "[98, 99]"
      ]
     },
     "execution_count": 6,
     "metadata": {},
     "output_type": "execute_result"
    }
   ],
   "source": [
    "nums[1]"
   ]
  },
  {
   "cell_type": "code",
   "execution_count": null,
   "id": "e9b38f32",
   "metadata": {},
   "outputs": [],
   "source": []
  },
  {
   "cell_type": "code",
   "execution_count": null,
   "id": "513fe26f",
   "metadata": {},
   "outputs": [],
   "source": [
    "nums = [[10, 20, 30], [98, 99]]"
   ]
  },
  {
   "cell_type": "code",
   "execution_count": 9,
   "id": "58b19aa6",
   "metadata": {},
   "outputs": [
    {
     "name": "stdout",
     "output_type": "stream",
     "text": [
      "3\n"
     ]
    }
   ],
   "source": [
    "print(len(nums[0]))"
   ]
  },
  {
   "cell_type": "code",
   "execution_count": 10,
   "id": "77f92e55",
   "metadata": {},
   "outputs": [
    {
     "name": "stdout",
     "output_type": "stream",
     "text": [
      "2\n"
     ]
    }
   ],
   "source": [
    "print(len(nums[1]))"
   ]
  },
  {
   "cell_type": "code",
   "execution_count": null,
   "id": "8731fd48",
   "metadata": {},
   "outputs": [],
   "source": []
  },
  {
   "cell_type": "markdown",
   "id": "cb0ffa67",
   "metadata": {},
   "source": [
    "#### Iterating over a 2D Array"
   ]
  },
  {
   "cell_type": "code",
   "execution_count": 17,
   "id": "016c4d26",
   "metadata": {},
   "outputs": [],
   "source": [
    "a = [\n",
    "    [10, 20],\n",
    "    [30, 40],\n",
    "    [50, 60],\n",
    "]\n",
    "\n",
    "rows = len(a)\n",
    "cols = len(a[0])"
   ]
  },
  {
   "cell_type": "code",
   "execution_count": 19,
   "id": "e405ee10",
   "metadata": {},
   "outputs": [
    {
     "name": "stdout",
     "output_type": "stream",
     "text": [
      "[10, 20]\n",
      "[30, 40]\n",
      "[50, 60]\n"
     ]
    }
   ],
   "source": [
    "# Iterate over the rows\n",
    "for i in range(len(a)):\n",
    "    print(a[i])"
   ]
  },
  {
   "cell_type": "code",
   "execution_count": 21,
   "id": "00b8aeea",
   "metadata": {},
   "outputs": [
    {
     "name": "stdout",
     "output_type": "stream",
     "text": [
      "a[ 0 ]= [10, 20]\n",
      "a[ 1 ]= [30, 40]\n",
      "a[ 2 ]= [50, 60]\n"
     ]
    }
   ],
   "source": [
    "# Iterate over the rows\n",
    "for i in range(len(a)):\n",
    "    print(\"a[\", i, \"]=\", a[i])"
   ]
  },
  {
   "cell_type": "code",
   "execution_count": null,
   "id": "2ecf0f13",
   "metadata": {},
   "outputs": [],
   "source": []
  },
  {
   "cell_type": "code",
   "execution_count": 23,
   "id": "f6d2c0b2",
   "metadata": {},
   "outputs": [
    {
     "name": "stdout",
     "output_type": "stream",
     "text": [
      "10\n",
      "20\n",
      "30\n",
      "40\n",
      "50\n",
      "60\n"
     ]
    }
   ],
   "source": [
    "for i in range(len(a)):\n",
    "    # a[i] = row\n",
    "    # Iterate over a[i]\n",
    "    for j in range(len(a[i])):\n",
    "        print(a[i][j])"
   ]
  },
  {
   "cell_type": "code",
   "execution_count": null,
   "id": "579b4525",
   "metadata": {},
   "outputs": [],
   "source": []
  },
  {
   "cell_type": "code",
   "execution_count": 25,
   "id": "9974ec13",
   "metadata": {},
   "outputs": [
    {
     "name": "stdout",
     "output_type": "stream",
     "text": [
      "10 20 \n",
      "30 40 \n",
      "50 60 \n"
     ]
    }
   ],
   "source": [
    "for i in range(len(a)):\n",
    "    # a[i] = row\n",
    "    # Iterate over a[i]\n",
    "    for j in range(len(a[i])):\n",
    "        print(a[i][j], end=' ')\n",
    "    print()"
   ]
  },
  {
   "cell_type": "code",
   "execution_count": null,
   "id": "42970852",
   "metadata": {},
   "outputs": [],
   "source": []
  },
  {
   "cell_type": "code",
   "execution_count": null,
   "id": "640a0e5e",
   "metadata": {},
   "outputs": [],
   "source": []
  },
  {
   "cell_type": "code",
   "execution_count": 26,
   "id": "25dcb93f",
   "metadata": {},
   "outputs": [
    {
     "name": "stdout",
     "output_type": "stream",
     "text": [
      "100 400 \n",
      "900 1600 \n",
      "2500 3600 \n"
     ]
    }
   ],
   "source": [
    "# Square of each element\n",
    "\n",
    "\n",
    "for i in range(len(a)):\n",
    "    # a[i] = row\n",
    "    # Iterate over a[i]\n",
    "    for j in range(len(a[i])):\n",
    "        print(a[i][j] ** 2, end=' ')\n",
    "    print()"
   ]
  },
  {
   "cell_type": "code",
   "execution_count": null,
   "id": "e8f67cb2",
   "metadata": {},
   "outputs": [],
   "source": []
  },
  {
   "cell_type": "markdown",
   "id": "5ea5c77a",
   "metadata": {},
   "source": [
    "#### Write a function that generates a matrix containing all zeroes of size N * M"
   ]
  },
  {
   "cell_type": "code",
   "execution_count": 7,
   "id": "e1985475",
   "metadata": {},
   "outputs": [],
   "source": [
    "def generateMatrix(N, M):\n",
    "    a = []\n",
    "    \n",
    "    for i in range(N):\n",
    "        # generate a row of size M\n",
    "        # append it to `a`\n",
    "        row = [0] * M\n",
    "        a.append(row)\n",
    "    \n",
    "    return a"
   ]
  },
  {
   "cell_type": "code",
   "execution_count": 29,
   "id": "1be1a1f6",
   "metadata": {},
   "outputs": [
    {
     "name": "stdout",
     "output_type": "stream",
     "text": [
      "[[0, 0], [0, 0], [0, 0]]\n"
     ]
    }
   ],
   "source": [
    "a = generateMatrix(3, 2)\n",
    "print(a)"
   ]
  },
  {
   "cell_type": "code",
   "execution_count": 31,
   "id": "6c41ef8c",
   "metadata": {},
   "outputs": [
    {
     "name": "stdout",
     "output_type": "stream",
     "text": [
      "[[0, 0, 0, 0, 0, 0, 0, 0], [0, 0, 0, 0, 0, 0, 0, 0], [0, 0, 0, 0, 0, 0, 0, 0], [0, 0, 0, 0, 0, 0, 0, 0], [0, 0, 0, 0, 0, 0, 0, 0], [0, 0, 0, 0, 0, 0, 0, 0], [0, 0, 0, 0, 0, 0, 0, 0], [0, 0, 0, 0, 0, 0, 0, 0], [0, 0, 0, 0, 0, 0, 0, 0], [0, 0, 0, 0, 0, 0, 0, 0]]\n"
     ]
    }
   ],
   "source": [
    "b = generateMatrix(10, 8)\n",
    "print(b)"
   ]
  },
  {
   "cell_type": "code",
   "execution_count": 27,
   "id": "f64c5b54",
   "metadata": {},
   "outputs": [
    {
     "name": "stdout",
     "output_type": "stream",
     "text": [
      "[0, 0, 0, 0, 0, 0, 0, 0, 0, 0]\n"
     ]
    }
   ],
   "source": [
    "# generate a list of size 10 containing all zeroes\n",
    "row = [0] * 10\n",
    "print(row)"
   ]
  },
  {
   "cell_type": "code",
   "execution_count": null,
   "id": "43d6fbd1",
   "metadata": {},
   "outputs": [],
   "source": []
  },
  {
   "cell_type": "code",
   "execution_count": null,
   "id": "a34a784d",
   "metadata": {},
   "outputs": [],
   "source": []
  },
  {
   "cell_type": "code",
   "execution_count": null,
   "id": "249a5d49",
   "metadata": {},
   "outputs": [],
   "source": []
  },
  {
   "cell_type": "markdown",
   "id": "ea910d5c",
   "metadata": {},
   "source": [
    "### Reading 2D Array Input\n",
    "![](https://scaler.com/topics/images/raw-input-in-python.webp)"
   ]
  },
  {
   "cell_type": "markdown",
   "id": "4e2a2345",
   "metadata": {},
   "source": [
    "2 3 \\\n",
    "10 20 30 \\\n",
    "40 50 60"
   ]
  },
  {
   "cell_type": "markdown",
   "id": "3846e8bb",
   "metadata": {},
   "source": [
    "3 4 \\\n",
    "10 20 30 40 \\\n",
    "50 60 70 80 \\\n",
    "90 100 110 120"
   ]
  },
  {
   "cell_type": "code",
   "execution_count": 36,
   "id": "f2fb7dcc",
   "metadata": {},
   "outputs": [
    {
     "name": "stdout",
     "output_type": "stream",
     "text": [
      "2 3\n",
      "2\n",
      "3\n"
     ]
    }
   ],
   "source": [
    "rows, cols = map(int, input().split())\n",
    "print(rows)\n",
    "print(cols)"
   ]
  },
  {
   "cell_type": "code",
   "execution_count": 45,
   "id": "9b0c807e",
   "metadata": {},
   "outputs": [
    {
     "name": "stdout",
     "output_type": "stream",
     "text": [
      "10 20 30\n",
      "40 50 60\n",
      "[[10, 20, 30], [40, 50, 60]]\n"
     ]
    }
   ],
   "source": [
    "mat = []\n",
    "\n",
    "for i in range(rows):\n",
    "    row = list(map(int, input().split()))\n",
    "    mat.append(row)\n",
    "            \n",
    "print(mat)"
   ]
  },
  {
   "cell_type": "code",
   "execution_count": null,
   "id": "9e2872e7",
   "metadata": {},
   "outputs": [],
   "source": []
  },
  {
   "cell_type": "code",
   "execution_count": null,
   "id": "fdbf805e",
   "metadata": {},
   "outputs": [],
   "source": []
  },
  {
   "cell_type": "code",
   "execution_count": null,
   "id": "66566235",
   "metadata": {},
   "outputs": [],
   "source": []
  },
  {
   "cell_type": "code",
   "execution_count": null,
   "id": "eb936825",
   "metadata": {},
   "outputs": [],
   "source": []
  },
  {
   "cell_type": "code",
   "execution_count": 39,
   "id": "6d4f2b3d",
   "metadata": {},
   "outputs": [
    {
     "name": "stdout",
     "output_type": "stream",
     "text": [
      "2 3\n"
     ]
    }
   ],
   "source": [
    "a = list(map(int, input().split()))"
   ]
  },
  {
   "cell_type": "code",
   "execution_count": 40,
   "id": "4b11f197",
   "metadata": {},
   "outputs": [
    {
     "data": {
      "text/plain": [
       "[2, 3]"
      ]
     },
     "execution_count": 40,
     "metadata": {},
     "output_type": "execute_result"
    }
   ],
   "source": [
    "a"
   ]
  },
  {
   "cell_type": "code",
   "execution_count": 41,
   "id": "97f6a59c",
   "metadata": {},
   "outputs": [
    {
     "name": "stdout",
     "output_type": "stream",
     "text": [
      "2\n",
      "3\n"
     ]
    }
   ],
   "source": [
    "x, y = a\n",
    "print(x)\n",
    "print(y)"
   ]
  },
  {
   "cell_type": "code",
   "execution_count": null,
   "id": "6409e8d3",
   "metadata": {},
   "outputs": [],
   "source": []
  },
  {
   "cell_type": "code",
   "execution_count": null,
   "id": "a489e13d",
   "metadata": {},
   "outputs": [],
   "source": []
  },
  {
   "cell_type": "code",
   "execution_count": null,
   "id": "5ce110af",
   "metadata": {},
   "outputs": [],
   "source": []
  },
  {
   "cell_type": "code",
   "execution_count": null,
   "id": "5a96a115",
   "metadata": {},
   "outputs": [],
   "source": []
  },
  {
   "cell_type": "code",
   "execution_count": null,
   "id": "b9cf3335",
   "metadata": {},
   "outputs": [],
   "source": []
  },
  {
   "cell_type": "markdown",
   "id": "232d9ebc",
   "metadata": {},
   "source": [
    "### Sum of two matrices\n",
    "![](https://scaler.com/topics/images/sum-in-python.webp)"
   ]
  },
  {
   "cell_type": "code",
   "execution_count": 1,
   "id": "52c22f0a",
   "metadata": {},
   "outputs": [],
   "source": [
    "A = [\n",
    "    [10, 20],\n",
    "    [30, 40],\n",
    "]\n",
    "\n",
    "B = [\n",
    "    [0, 5],\n",
    "    [10, 15],\n",
    "]"
   ]
  },
  {
   "cell_type": "code",
   "execution_count": 10,
   "id": "c8358839",
   "metadata": {},
   "outputs": [],
   "source": [
    "def addMatrices(A, B):\n",
    "    N = len(A)\n",
    "    M = len(A[0])\n",
    "    \n",
    "    C = generateMatrix(N, M)\n",
    "    \n",
    "    for i in range(N):\n",
    "        for j in range(M):\n",
    "            C[i][j] = A[i][j] + B[i][j]\n",
    "    \n",
    "    return C"
   ]
  },
  {
   "cell_type": "code",
   "execution_count": 11,
   "id": "bf4abc1c",
   "metadata": {},
   "outputs": [
    {
     "name": "stdout",
     "output_type": "stream",
     "text": [
      "[[10, 25], [40, 55]]\n"
     ]
    }
   ],
   "source": [
    "print(addMatrices(A, B))"
   ]
  },
  {
   "cell_type": "code",
   "execution_count": null,
   "id": "b5422fc7",
   "metadata": {},
   "outputs": [],
   "source": []
  },
  {
   "cell_type": "code",
   "execution_count": null,
   "id": "a7bcf43b",
   "metadata": {},
   "outputs": [],
   "source": []
  },
  {
   "cell_type": "code",
   "execution_count": null,
   "id": "8abb8b21",
   "metadata": {},
   "outputs": [],
   "source": []
  },
  {
   "cell_type": "code",
   "execution_count": 4,
   "id": "604a92de",
   "metadata": {},
   "outputs": [
    {
     "data": {
      "text/plain": [
       "[10, 20, 0, 2, 4]"
      ]
     },
     "execution_count": 4,
     "metadata": {},
     "output_type": "execute_result"
    }
   ],
   "source": [
    "[10, 20] + [0, 2, 4]"
   ]
  },
  {
   "cell_type": "code",
   "execution_count": null,
   "id": "c1486d0f",
   "metadata": {},
   "outputs": [],
   "source": []
  },
  {
   "cell_type": "code",
   "execution_count": null,
   "id": "89c4d751",
   "metadata": {},
   "outputs": [],
   "source": []
  },
  {
   "cell_type": "code",
   "execution_count": null,
   "id": "aeec85f8",
   "metadata": {},
   "outputs": [],
   "source": []
  },
  {
   "cell_type": "code",
   "execution_count": null,
   "id": "b289715c",
   "metadata": {},
   "outputs": [],
   "source": []
  },
  {
   "cell_type": "code",
   "execution_count": null,
   "id": "ee288a70",
   "metadata": {},
   "outputs": [],
   "source": []
  },
  {
   "cell_type": "code",
   "execution_count": null,
   "id": "208d682a",
   "metadata": {},
   "outputs": [],
   "source": []
  },
  {
   "cell_type": "markdown",
   "id": "6edc4117",
   "metadata": {},
   "source": [
    "### Transpose\n",
    "![](https://scaler.com/topics/images/transpose-of-a-matrix-in-python-featured-image.webp)\n",
    "<img src=\"https://scaler.com/topics/images/transpose-of-matrix.webp\" width=\"600px\" />"
   ]
  },
  {
   "cell_type": "markdown",
   "id": "c8ba9280",
   "metadata": {},
   "source": [
    "Write a function which takes a matrix and returns its transpose.\n",
    "Do not modify the given matrix.\n",
    "Generate a new transpose and return it."
   ]
  },
  {
   "cell_type": "code",
   "execution_count": 12,
   "id": "d13b052b",
   "metadata": {},
   "outputs": [],
   "source": [
    "def transpose(A):\n",
    "    N = len(A)\n",
    "    M = len(A[0])\n",
    "    \n",
    "    T = generateMatrix(M, N)\n",
    "    \n",
    "    for i in range(N):\n",
    "        for j in range(M):\n",
    "            T[j][i] = A[i][j]\n",
    "    \n",
    "    return T"
   ]
  },
  {
   "cell_type": "code",
   "execution_count": 13,
   "id": "ecc91856",
   "metadata": {},
   "outputs": [],
   "source": [
    "A = [\n",
    "    [10, 20, 30],\n",
    "    [40, 50, 60],\n",
    "]"
   ]
  },
  {
   "cell_type": "code",
   "execution_count": 14,
   "id": "88e92fe4",
   "metadata": {},
   "outputs": [
    {
     "name": "stdout",
     "output_type": "stream",
     "text": [
      "[[10, 40], [20, 50], [30, 60]]\n"
     ]
    }
   ],
   "source": [
    "print(transpose(A))"
   ]
  },
  {
   "cell_type": "code",
   "execution_count": null,
   "id": "db814cf5",
   "metadata": {},
   "outputs": [],
   "source": []
  },
  {
   "cell_type": "code",
   "execution_count": null,
   "id": "7db26084",
   "metadata": {},
   "outputs": [],
   "source": []
  },
  {
   "cell_type": "markdown",
   "id": "757e94f4",
   "metadata": {},
   "source": [
    "### Check Identity Matrix"
   ]
  },
  {
   "cell_type": "code",
   "execution_count": 16,
   "id": "fa975745",
   "metadata": {},
   "outputs": [],
   "source": [
    "# boolean return\n",
    "def checkIdentity(A):\n",
    "    for i in range(len(A)):\n",
    "        for j in range(len(A[0])):\n",
    "            if i == j and A[i][j] == 1:\n",
    "                continue\n",
    "            elif i != j and A[i][j] == 0:\n",
    "                continue\n",
    "            else:\n",
    "                return False\n",
    "    \n",
    "    \n",
    "    return True"
   ]
  },
  {
   "cell_type": "code",
   "execution_count": 17,
   "id": "32ce6f75",
   "metadata": {},
   "outputs": [
    {
     "data": {
      "text/plain": [
       "True"
      ]
     },
     "execution_count": 17,
     "metadata": {},
     "output_type": "execute_result"
    }
   ],
   "source": [
    "checkIdentity([\n",
    "    [1, 0],\n",
    "    [0, 1]\n",
    "])"
   ]
  },
  {
   "cell_type": "code",
   "execution_count": 18,
   "id": "4b86da84",
   "metadata": {},
   "outputs": [
    {
     "data": {
      "text/plain": [
       "False"
      ]
     },
     "execution_count": 18,
     "metadata": {},
     "output_type": "execute_result"
    }
   ],
   "source": [
    "checkIdentity([\n",
    "    [1, 1],\n",
    "    [0, 1]\n",
    "])"
   ]
  },
  {
   "cell_type": "code",
   "execution_count": 19,
   "id": "98db21ca",
   "metadata": {},
   "outputs": [
    {
     "data": {
      "text/plain": [
       "False"
      ]
     },
     "execution_count": 19,
     "metadata": {},
     "output_type": "execute_result"
    }
   ],
   "source": [
    "checkIdentity([\n",
    "    [1, 0],\n",
    "    [0, 0]\n",
    "])"
   ]
  },
  {
   "cell_type": "code",
   "execution_count": null,
   "id": "8c0bf46b",
   "metadata": {},
   "outputs": [],
   "source": []
  },
  {
   "cell_type": "code",
   "execution_count": null,
   "id": "6153c45b",
   "metadata": {},
   "outputs": [],
   "source": []
  },
  {
   "cell_type": "code",
   "execution_count": null,
   "id": "362f3141",
   "metadata": {},
   "outputs": [],
   "source": []
  },
  {
   "cell_type": "code",
   "execution_count": null,
   "id": "c6d62a4e",
   "metadata": {},
   "outputs": [],
   "source": []
  },
  {
   "cell_type": "markdown",
   "id": "74fe5a4b",
   "metadata": {},
   "source": [
    "# Bonus Reading Material\n",
    "- map() in Python - https://www.scaler.com/topics/map-function-in-python/\n",
    "- What is Nested List in Python? - https://www.scaler.com/topics/nested-list-in-python/\n",
    "- 2D Array in Python- https://www.scaler.com/topics/2d-array-in-python/\n",
    "- Transpose of a Matrix in Python - https://www.scaler.com/topics/transpose-of-a-matrix-in-python/\n",
    "- Sum() in Python - https://www.scaler.com/topics/sum-in-python/\n",
    "- Wtf Python: A tic-tac-toe where X wins in the first attempt! - https://github.com/satwikkansal/wtfpython#-a-tic-tac-toe-where-x-wins-in-the-first-attempt\n",
    "- Swapping of Two Numbers in Python - https://www.scaler.com/topics/swapping-of-two-numbers-in-python/\n",
    "- Transpose of a Matrix in Python - https://www.scaler.com/topics/transpose-of-a-matrix-in-python/\n",
    "- Matrix Multiplication in Python - https://www.scaler.com/topics/matrix-multiplication-in-python/\n",
    "- What is List Comprehension in Python? - https://www.scaler.com/topics/list-comprehension-in-python/"
   ]
  },
  {
   "cell_type": "code",
   "execution_count": null,
   "id": "ef29860e",
   "metadata": {},
   "outputs": [],
   "source": []
  },
  {
   "cell_type": "code",
   "execution_count": null,
   "id": "5e9693b0",
   "metadata": {},
   "outputs": [],
   "source": []
  },
  {
   "cell_type": "markdown",
   "id": "f0beac60",
   "metadata": {},
   "source": [
    "# Doubts"
   ]
  },
  {
   "cell_type": "code",
   "execution_count": 20,
   "id": "b1a17d0e",
   "metadata": {},
   "outputs": [
    {
     "name": "stdout",
     "output_type": "stream",
     "text": [
      "hello\n",
      "hello\n",
      "hello\n",
      "hello\n",
      "hello\n"
     ]
    }
   ],
   "source": [
    "for i in range(5):\n",
    "    print('hello')"
   ]
  },
  {
   "cell_type": "code",
   "execution_count": null,
   "id": "b4f485bf",
   "metadata": {},
   "outputs": [],
   "source": [
    "for _ in range(5):\n",
    "    print('hello')"
   ]
  },
  {
   "cell_type": "code",
   "execution_count": null,
   "id": "da33ce83",
   "metadata": {},
   "outputs": [],
   "source": []
  },
  {
   "cell_type": "code",
   "execution_count": 21,
   "id": "bac3cbc8",
   "metadata": {},
   "outputs": [],
   "source": [
    "_ = 5"
   ]
  },
  {
   "cell_type": "code",
   "execution_count": 22,
   "id": "514fbc03",
   "metadata": {},
   "outputs": [
    {
     "name": "stdout",
     "output_type": "stream",
     "text": [
      "5\n"
     ]
    }
   ],
   "source": [
    "print(_)"
   ]
  },
  {
   "cell_type": "code",
   "execution_count": null,
   "id": "7ce95d72",
   "metadata": {},
   "outputs": [],
   "source": []
  },
  {
   "cell_type": "code",
   "execution_count": null,
   "id": "3961a76e",
   "metadata": {},
   "outputs": [],
   "source": [
    "[ (4,5) , ( 6,7) , (8,9) ] \n",
    "# list of tuples"
   ]
  },
  {
   "cell_type": "code",
   "execution_count": 23,
   "id": "1acf6d59",
   "metadata": {},
   "outputs": [
    {
     "name": "stdout",
     "output_type": "stream",
     "text": [
      "(4, 5) <class 'tuple'>\n"
     ]
    }
   ],
   "source": [
    "t = (4, 5)\n",
    "print(t, type(t))"
   ]
  },
  {
   "cell_type": "code",
   "execution_count": null,
   "id": "1343e1ea",
   "metadata": {},
   "outputs": [],
   "source": []
  },
  {
   "cell_type": "code",
   "execution_count": null,
   "id": "5578f002",
   "metadata": {},
   "outputs": [],
   "source": []
  },
  {
   "cell_type": "code",
   "execution_count": null,
   "id": "117cf8c0",
   "metadata": {},
   "outputs": [],
   "source": [
    "r, c = map(int, input().split())"
   ]
  },
  {
   "cell_type": "code",
   "execution_count": 24,
   "id": "8e504eeb",
   "metadata": {},
   "outputs": [
    {
     "name": "stdout",
     "output_type": "stream",
     "text": [
      "2 3\n"
     ]
    }
   ],
   "source": [
    "m = map(int, input().split())"
   ]
  },
  {
   "cell_type": "code",
   "execution_count": 25,
   "id": "fa8a0fc9",
   "metadata": {},
   "outputs": [
    {
     "data": {
      "text/plain": [
       "<map at 0x1032cd3a0>"
      ]
     },
     "execution_count": 25,
     "metadata": {},
     "output_type": "execute_result"
    }
   ],
   "source": [
    "m"
   ]
  },
  {
   "cell_type": "code",
   "execution_count": 27,
   "id": "a4bccbce",
   "metadata": {},
   "outputs": [],
   "source": [
    "r, c = m"
   ]
  },
  {
   "cell_type": "code",
   "execution_count": 28,
   "id": "86ab40b1",
   "metadata": {},
   "outputs": [
    {
     "data": {
      "text/plain": [
       "2"
      ]
     },
     "execution_count": 28,
     "metadata": {},
     "output_type": "execute_result"
    }
   ],
   "source": [
    "r"
   ]
  },
  {
   "cell_type": "code",
   "execution_count": 29,
   "id": "3d15427a",
   "metadata": {},
   "outputs": [
    {
     "data": {
      "text/plain": [
       "3"
      ]
     },
     "execution_count": 29,
     "metadata": {},
     "output_type": "execute_result"
    }
   ],
   "source": [
    "c"
   ]
  },
  {
   "cell_type": "code",
   "execution_count": null,
   "id": "eaa06963",
   "metadata": {},
   "outputs": [],
   "source": []
  },
  {
   "cell_type": "code",
   "execution_count": null,
   "id": "7788b5c9",
   "metadata": {},
   "outputs": [],
   "source": []
  },
  {
   "cell_type": "code",
   "execution_count": 30,
   "id": "80723e61",
   "metadata": {},
   "outputs": [],
   "source": [
    "a, b, c = range(5, 8)"
   ]
  },
  {
   "cell_type": "code",
   "execution_count": 31,
   "id": "0eaaf701",
   "metadata": {},
   "outputs": [
    {
     "name": "stdout",
     "output_type": "stream",
     "text": [
      "5 6 7\n"
     ]
    }
   ],
   "source": [
    "print(a, b, c)"
   ]
  },
  {
   "cell_type": "code",
   "execution_count": 32,
   "id": "b49fe028",
   "metadata": {},
   "outputs": [
    {
     "name": "stdout",
     "output_type": "stream",
     "text": [
      "10 20 30\n"
     ]
    }
   ],
   "source": [
    "a, b, c = [10, 20, 30]\n",
    "print(a, b, c)"
   ]
  },
  {
   "cell_type": "code",
   "execution_count": 33,
   "id": "88471faf",
   "metadata": {},
   "outputs": [
    {
     "name": "stdout",
     "output_type": "stream",
     "text": [
      "10 20 30\n"
     ]
    }
   ],
   "source": [
    "a, b, c = (10, 20, 30)\n",
    "print(a, b, c)"
   ]
  },
  {
   "cell_type": "code",
   "execution_count": null,
   "id": "53adf524",
   "metadata": {},
   "outputs": [],
   "source": []
  },
  {
   "cell_type": "code",
   "execution_count": 34,
   "id": "1bebceb1",
   "metadata": {},
   "outputs": [],
   "source": [
    "a= [[0, 0], [0, 0, [0, 0]], [0, 0]]"
   ]
  },
  {
   "cell_type": "code",
   "execution_count": 35,
   "id": "e2865add",
   "metadata": {},
   "outputs": [],
   "source": [
    "def myPrint(a):\n",
    "    if type(a) == list:\n",
    "        for i in range(len(a)):\n",
    "            myPrint(a[i])\n",
    "    else:\n",
    "        print(a)"
   ]
  },
  {
   "cell_type": "code",
   "execution_count": 36,
   "id": "a0fed791",
   "metadata": {},
   "outputs": [
    {
     "name": "stdout",
     "output_type": "stream",
     "text": [
      "0\n",
      "0\n",
      "0\n",
      "0\n",
      "0\n",
      "0\n",
      "0\n",
      "0\n"
     ]
    }
   ],
   "source": [
    "printList(a)"
   ]
  },
  {
   "cell_type": "code",
   "execution_count": null,
   "id": "3dcecfae",
   "metadata": {},
   "outputs": [],
   "source": []
  }
 ],
 "metadata": {
  "kernelspec": {
   "display_name": "Python 3 (ipykernel)",
   "language": "python",
   "name": "python3"
  },
  "language_info": {
   "codemirror_mode": {
    "name": "ipython",
    "version": 3
   },
   "file_extension": ".py",
   "mimetype": "text/x-python",
   "name": "python",
   "nbconvert_exporter": "python",
   "pygments_lexer": "ipython3",
   "version": "3.9.12"
  }
 },
 "nbformat": 4,
 "nbformat_minor": 5
}
