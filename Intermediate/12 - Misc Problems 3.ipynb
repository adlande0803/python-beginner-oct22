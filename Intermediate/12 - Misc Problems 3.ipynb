{
 "cells": [
  {
   "cell_type": "markdown",
   "id": "bbf33eb0",
   "metadata": {},
   "source": [
    "# Misc Problems 3"
   ]
  },
  {
   "cell_type": "markdown",
   "id": "c6bf7395",
   "metadata": {},
   "source": [
    "https://leetcode.com/problems/sort-colors/description/\n",
    "\n",
    "Simplified Problem - Given an array of 0, 1, & 2. Sort it."
   ]
  },
  {
   "cell_type": "code",
   "execution_count": null,
   "id": "4a2befa8",
   "metadata": {},
   "outputs": [],
   "source": [
    "class Solution:\n",
    "    def sortColors(self, nums: List[int]) -> None:\n",
    "        \"\"\"\n",
    "        Do not return anything, modify nums in-place instead.\n",
    "        \"\"\"\n",
    "        n = len(nums)\n",
    "\n",
    "        # Count the number of zeroes, ones and twos\n",
    "        zero, one, two = 0, 0, 0\n",
    "\n",
    "        for x in nums:\n",
    "            if x == 0:\n",
    "                zero += 1\n",
    "            elif x == 1:\n",
    "                one += 1\n",
    "            else:\n",
    "                two += 1\n",
    "\n",
    "        # Iterate over the array and put in the zeroes\n",
    "        i = 0\n",
    "        for j in range(zero):\n",
    "            nums[i] = 0\n",
    "            i += 1\n",
    "\n",
    "        # Iterate over the array and put in the ones\n",
    "        for j in range(one):\n",
    "            nums[i] = 1\n",
    "            i += 1\n",
    "\n",
    "        # Iterate over the array and put in the twos\n",
    "        for j in range(two):\n",
    "            nums[i] = 2\n",
    "            i += 1"
   ]
  },
  {
   "cell_type": "code",
   "execution_count": null,
   "id": "3c2cf9ee",
   "metadata": {},
   "outputs": [],
   "source": []
  },
  {
   "cell_type": "code",
   "execution_count": null,
   "id": "f8359597",
   "metadata": {},
   "outputs": [],
   "source": []
  },
  {
   "cell_type": "code",
   "execution_count": null,
   "id": "d0fc1d70",
   "metadata": {},
   "outputs": [],
   "source": []
  },
  {
   "cell_type": "code",
   "execution_count": 13,
   "id": "5ea81be2",
   "metadata": {},
   "outputs": [],
   "source": [
    "class Solution:\n",
    "    def isAnagram(self, s: str, t: str) -> bool:\n",
    "        if len(s) != len(t):\n",
    "            return False\n",
    "        # Frequency map for 's'\n",
    "        freq = {}\n",
    "        \n",
    "        for x in s:\n",
    "            freq[x] = freq.get(x, 0) + 1\n",
    "            \n",
    "            \n",
    "        # Check if all chars of 't' are present in 's' in the same frequency\n",
    "        # Iterate over all chars of 't' and check the frequency\n",
    "        for y in t:\n",
    "            if freq.get(y):\n",
    "                freq[y] -= 1\n",
    "            else:\n",
    "                return False\n",
    "            \n",
    "        return True"
   ]
  },
  {
   "cell_type": "code",
   "execution_count": 14,
   "id": "f04e7114",
   "metadata": {},
   "outputs": [
    {
     "data": {
      "text/plain": [
       "False"
      ]
     },
     "execution_count": 14,
     "metadata": {},
     "output_type": "execute_result"
    }
   ],
   "source": [
    "s = Solution()\n",
    "s.isAnagram(\"abbcc\", \"abbbc\")"
   ]
  },
  {
   "cell_type": "code",
   "execution_count": 15,
   "id": "0fff9d98",
   "metadata": {},
   "outputs": [
    {
     "data": {
      "text/plain": [
       "False"
      ]
     },
     "execution_count": 15,
     "metadata": {},
     "output_type": "execute_result"
    }
   ],
   "source": [
    "s.isAnagram(\"abbc\", \"accb\")"
   ]
  },
  {
   "cell_type": "code",
   "execution_count": null,
   "id": "54723670",
   "metadata": {},
   "outputs": [],
   "source": []
  },
  {
   "cell_type": "code",
   "execution_count": null,
   "id": "eeb4d7c7",
   "metadata": {},
   "outputs": [],
   "source": []
  },
  {
   "cell_type": "markdown",
   "id": "11fd303f",
   "metadata": {},
   "source": [
    "## Group Anagrams\n",
    "\n",
    "Input: strs = [\"eat\",\"tea\",\"tan\",\"ate\",\"nat\",\"bat\"]\n",
    "Output: [\n",
    "[\"bat\"],\n",
    "[\"nat\",\"tan\"],\n",
    "[\"ate\",\"eat\",\"tea\"]\n",
    "]"
   ]
  },
  {
   "cell_type": "code",
   "execution_count": null,
   "id": "7ff7c0cf",
   "metadata": {},
   "outputs": [],
   "source": []
  },
  {
   "cell_type": "code",
   "execution_count": 19,
   "id": "9133d603",
   "metadata": {},
   "outputs": [],
   "source": [
    "# How to sort a string ? \n",
    "s = \"helloworld\"\n",
    "sortedString = \"\".join(sorted(s))"
   ]
  },
  {
   "cell_type": "code",
   "execution_count": 20,
   "id": "565641ea",
   "metadata": {},
   "outputs": [
    {
     "data": {
      "text/plain": [
       "'dehllloorw'"
      ]
     },
     "execution_count": 20,
     "metadata": {},
     "output_type": "execute_result"
    }
   ],
   "source": [
    "sortedString"
   ]
  },
  {
   "cell_type": "code",
   "execution_count": 24,
   "id": "58ac939e",
   "metadata": {},
   "outputs": [
    {
     "data": {
      "text/plain": [
       "'a,_+b,_+c,_+d'"
      ]
     },
     "execution_count": 24,
     "metadata": {},
     "output_type": "execute_result"
    }
   ],
   "source": [
    "',_+'.join(['a', 'b', 'c', 'd'])"
   ]
  },
  {
   "cell_type": "code",
   "execution_count": null,
   "id": "aeb181b2",
   "metadata": {},
   "outputs": [],
   "source": []
  },
  {
   "cell_type": "code",
   "execution_count": 29,
   "id": "5f97402e",
   "metadata": {},
   "outputs": [
    {
     "name": "stdout",
     "output_type": "stream",
     "text": [
      "{'aet': ['eat', 'tea', 'ate'], 'ant': ['tan', 'nat'], 'abt': ['bat']}\n"
     ]
    }
   ],
   "source": [
    "strs = [\"eat\",\"tea\",\"tan\",\"ate\",\"nat\",\"bat\"]\n",
    "d = {}\n",
    "\n",
    "for s in strs:\n",
    "    key = \"\".join(sorted(s))\n",
    "    d[key] = d.get(key, []) + [s]\n",
    "    \n",
    "print(d)"
   ]
  },
  {
   "cell_type": "code",
   "execution_count": null,
   "id": "8144aa1a",
   "metadata": {},
   "outputs": [],
   "source": [
    "# First iteration\n",
    "s = \"eat\"\n",
    "key = \"aet\"\n",
    "d = {}\n",
    "d[\"aet\"] = d.get(\"aet\", []) + [\"eat\"]"
   ]
  },
  {
   "cell_type": "code",
   "execution_count": null,
   "id": "7c2c09fd",
   "metadata": {},
   "outputs": [],
   "source": [
    "d = {\n",
    "    \"aet\": [] + [\"eat\"]\n",
    "}\n",
    "d = {\n",
    "    \"aet\": [\"eat\"]\n",
    "}"
   ]
  },
  {
   "cell_type": "code",
   "execution_count": null,
   "id": "0447f36b",
   "metadata": {},
   "outputs": [],
   "source": [
    "# Second iteration\n",
    "s = \"tea\"\n",
    "key = \"aet\"\n",
    "d = { \"aet\": [\"eat\"] }\n",
    "d[\"aet\"] = d.get(\"aet\", []) + [\"tea\"]"
   ]
  },
  {
   "cell_type": "code",
   "execution_count": null,
   "id": "5b1e74ee",
   "metadata": {},
   "outputs": [],
   "source": [
    "d = {\n",
    "    \"aet\": [\"eat\"] + [\"tea\"]\n",
    "}\n",
    "d = {\n",
    "    \"aet\": [\"eat\", \"tea\"]\n",
    "}"
   ]
  },
  {
   "cell_type": "code",
   "execution_count": null,
   "id": "33783504",
   "metadata": {},
   "outputs": [],
   "source": []
  },
  {
   "cell_type": "code",
   "execution_count": null,
   "id": "46fb9b36",
   "metadata": {},
   "outputs": [],
   "source": []
  },
  {
   "cell_type": "code",
   "execution_count": 31,
   "id": "3517b31a",
   "metadata": {},
   "outputs": [
    {
     "name": "stdout",
     "output_type": "stream",
     "text": [
      "Bruce Wayne\n",
      "25\n",
      "None\n"
     ]
    }
   ],
   "source": [
    "batman = {\n",
    "    \"name\": \"Bruce Wayne\",\n",
    "    \"job\": \"Crime fighting\"\n",
    "}\n",
    "\n",
    "print(batman.get(\"name\", \"hi\"))\n",
    "print(batman.get(\"age\", 25))\n",
    "print(batman.get(\"villains\"))"
   ]
  },
  {
   "cell_type": "code",
   "execution_count": null,
   "id": "c8d1f7b9",
   "metadata": {},
   "outputs": [],
   "source": []
  },
  {
   "cell_type": "code",
   "execution_count": null,
   "id": "edf59086",
   "metadata": {},
   "outputs": [],
   "source": []
  },
  {
   "cell_type": "code",
   "execution_count": 32,
   "id": "a1d0281b",
   "metadata": {},
   "outputs": [
    {
     "name": "stdout",
     "output_type": "stream",
     "text": [
      "{'aet': ['eat', 'tea', 'ate'], 'ant': ['tan', 'nat'], 'abt': ['bat']}\n"
     ]
    }
   ],
   "source": [
    "strs = [\"eat\",\"tea\",\"tan\",\"ate\",\"nat\",\"bat\"]\n",
    "d = {}\n",
    "\n",
    "for s in strs:\n",
    "    key = \"\".join(sorted(s))\n",
    "    d[key] = d.get(key, []) + [s]\n",
    "    \n",
    "print(d)"
   ]
  },
  {
   "cell_type": "code",
   "execution_count": null,
   "id": "b10b8675",
   "metadata": {},
   "outputs": [],
   "source": [
    "class Solution:\n",
    "    def groupAnagrams(self, strs: List[str]) -> List[List[str]]:\n",
    "        d = {}\n",
    "\n",
    "        for s in strs:\n",
    "            key = \"\".join(sorted(s))\n",
    "            d[key] = d.get(key, []) + [s]\n",
    "\n",
    "\n",
    "        return d.values()\n"
   ]
  },
  {
   "cell_type": "code",
   "execution_count": null,
   "id": "5cfbb3ea",
   "metadata": {},
   "outputs": [],
   "source": []
  },
  {
   "cell_type": "markdown",
   "id": "e51fd69c",
   "metadata": {},
   "source": [
    "# Doubts"
   ]
  },
  {
   "cell_type": "code",
   "execution_count": 33,
   "id": "94a3c8d2",
   "metadata": {},
   "outputs": [
    {
     "name": "stdout",
     "output_type": "stream",
     "text": [
      "Bruce Wayne\n",
      "25\n",
      "None\n"
     ]
    }
   ],
   "source": [
    "batman = {\n",
    "    \"name\": \"Bruce Wayne\",\n",
    "    \"job\": \"Crime fighting\"\n",
    "}\n",
    "\n",
    "print(batman.get(\"name\", \"hi\"))\n",
    "print(batman.get(\"age\", 25))\n",
    "print(batman.get(\"villains\"))"
   ]
  },
  {
   "cell_type": "code",
   "execution_count": 34,
   "id": "723759d9",
   "metadata": {},
   "outputs": [
    {
     "ename": "KeyError",
     "evalue": "'age'",
     "output_type": "error",
     "traceback": [
      "\u001b[0;31m---------------------------------------------------------------------------\u001b[0m",
      "\u001b[0;31mKeyError\u001b[0m                                  Traceback (most recent call last)",
      "\u001b[0;32m/var/folders/jn/1bsrct314hv5xmfm7vrcdrzc0000gn/T/ipykernel_3377/1073147789.py\u001b[0m in \u001b[0;36m<module>\u001b[0;34m\u001b[0m\n\u001b[0;32m----> 1\u001b[0;31m \u001b[0mbatman\u001b[0m\u001b[0;34m[\u001b[0m\u001b[0;34m\"age\"\u001b[0m\u001b[0;34m]\u001b[0m\u001b[0;34m\u001b[0m\u001b[0;34m\u001b[0m\u001b[0m\n\u001b[0m",
      "\u001b[0;31mKeyError\u001b[0m: 'age'"
     ]
    }
   ],
   "source": [
    "batman[\"age\"]"
   ]
  },
  {
   "cell_type": "code",
   "execution_count": null,
   "id": "e145522b",
   "metadata": {},
   "outputs": [],
   "source": []
  },
  {
   "cell_type": "code",
   "execution_count": 37,
   "id": "de394746",
   "metadata": {},
   "outputs": [
    {
     "data": {
      "text/plain": [
       "False"
      ]
     },
     "execution_count": 37,
     "metadata": {},
     "output_type": "execute_result"
    }
   ],
   "source": [
    "\"abc\" > \"bcd\""
   ]
  },
  {
   "cell_type": "code",
   "execution_count": 36,
   "id": "d18b386d",
   "metadata": {},
   "outputs": [
    {
     "data": {
      "text/plain": [
       "True"
      ]
     },
     "execution_count": 36,
     "metadata": {},
     "output_type": "execute_result"
    }
   ],
   "source": [
    "\"abc\" > \"ab\""
   ]
  },
  {
   "cell_type": "code",
   "execution_count": 38,
   "id": "9adea123",
   "metadata": {},
   "outputs": [
    {
     "data": {
      "text/plain": [
       "False"
      ]
     },
     "execution_count": 38,
     "metadata": {},
     "output_type": "execute_result"
    }
   ],
   "source": [
    "\"Bruce\" > \"Wayne\""
   ]
  },
  {
   "cell_type": "code",
   "execution_count": 39,
   "id": "a142afd0",
   "metadata": {},
   "outputs": [
    {
     "data": {
      "text/plain": [
       "True"
      ]
     },
     "execution_count": 39,
     "metadata": {},
     "output_type": "execute_result"
    }
   ],
   "source": [
    "\"Bruce\" < \"Wayne\""
   ]
  },
  {
   "cell_type": "code",
   "execution_count": 40,
   "id": "f2a73027",
   "metadata": {},
   "outputs": [
    {
     "data": {
      "text/plain": [
       "False"
      ]
     },
     "execution_count": 40,
     "metadata": {},
     "output_type": "execute_result"
    }
   ],
   "source": [
    "\"abc\" > \"bca\""
   ]
  },
  {
   "cell_type": "code",
   "execution_count": 41,
   "id": "21dfafb7",
   "metadata": {},
   "outputs": [
    {
     "data": {
      "text/plain": [
       "True"
      ]
     },
     "execution_count": 41,
     "metadata": {},
     "output_type": "execute_result"
    }
   ],
   "source": [
    "\"bc\" > \"aad\""
   ]
  },
  {
   "cell_type": "code",
   "execution_count": null,
   "id": "9d57baf3",
   "metadata": {},
   "outputs": [],
   "source": []
  }
 ],
 "metadata": {
  "kernelspec": {
   "display_name": "Python 3 (ipykernel)",
   "language": "python",
   "name": "python3"
  },
  "language_info": {
   "codemirror_mode": {
    "name": "ipython",
    "version": 3
   },
   "file_extension": ".py",
   "mimetype": "text/x-python",
   "name": "python",
   "nbconvert_exporter": "python",
   "pygments_lexer": "ipython3",
   "version": "3.9.12"
  }
 },
 "nbformat": 4,
 "nbformat_minor": 5
}
