{
 "cells": [
  {
   "cell_type": "markdown",
   "id": "73b631b7",
   "metadata": {},
   "source": [
    "# OOPS 2"
   ]
  },
  {
   "cell_type": "code",
   "execution_count": null,
   "id": "4a6bfae7",
   "metadata": {},
   "outputs": [],
   "source": [
    "class Bill():\n",
    "    def __init__(self, prev_read, cur_read):\n",
    "        self.prev = prev_read\n",
    "        self.curr = cur_read\n",
    "        \n",
    "        \n",
    "        \n",
    "    def total_bill(self):\n",
    "        total=0.0\n",
    "        x = 0\n",
    "        y = 10\n",
    "        z = 30\n",
    "        \n",
    "        if \n",
    "        \n",
    "        return total"
   ]
  },
  {
   "cell_type": "code",
   "execution_count": null,
   "id": "69441189",
   "metadata": {},
   "outputs": [],
   "source": [
    "b = Bill(200, 650)\n",
    "print(b.total_bill())"
   ]
  },
  {
   "cell_type": "code",
   "execution_count": null,
   "id": "5051ecee",
   "metadata": {},
   "outputs": [],
   "source": []
  },
  {
   "cell_type": "markdown",
   "id": "b812e6c3",
   "metadata": {},
   "source": [
    "## Using dunder methods"
   ]
  },
  {
   "cell_type": "code",
   "execution_count": 3,
   "id": "8cc08815",
   "metadata": {},
   "outputs": [],
   "source": [
    "class Car:\n",
    "    def __init__(self, name, mileage):\n",
    "        self.name = name\n",
    "        self.mileage = mileage\n",
    "        \n",
    "c1 = Car(\"BMW\", 12)\n",
    "c2 = Car(\"Lamborghini\", 10)"
   ]
  },
  {
   "cell_type": "code",
   "execution_count": 4,
   "id": "cf275f90",
   "metadata": {},
   "outputs": [
    {
     "name": "stdout",
     "output_type": "stream",
     "text": [
      "BMW\n"
     ]
    }
   ],
   "source": [
    "print(c1.name)"
   ]
  },
  {
   "cell_type": "code",
   "execution_count": 5,
   "id": "61599473",
   "metadata": {},
   "outputs": [
    {
     "name": "stdout",
     "output_type": "stream",
     "text": [
      "<__main__.Car object at 0x107b27850>\n"
     ]
    }
   ],
   "source": [
    "print(c1)"
   ]
  },
  {
   "cell_type": "code",
   "execution_count": 6,
   "id": "a5f078fe",
   "metadata": {},
   "outputs": [
    {
     "name": "stdout",
     "output_type": "stream",
     "text": [
      "<__main__.Car object at 0x107b27f70>\n"
     ]
    }
   ],
   "source": [
    "print(c2)"
   ]
  },
  {
   "cell_type": "code",
   "execution_count": null,
   "id": "fbc765ce",
   "metadata": {},
   "outputs": [],
   "source": [
    "# What if I wish to change the output of printing an object ? "
   ]
  },
  {
   "cell_type": "code",
   "execution_count": 11,
   "id": "b4d765ec",
   "metadata": {},
   "outputs": [
    {
     "name": "stdout",
     "output_type": "stream",
     "text": [
      "Hello I am BMW\n",
      "Hello I am Lamborghini\n"
     ]
    }
   ],
   "source": [
    "class Car:\n",
    "    def __init__(self, name, mileage):\n",
    "        self.name = name\n",
    "        self.mileage = mileage\n",
    "        \n",
    "    def __str__(self):\n",
    "        return f\"Hello I am {self.name}\"\n",
    "        \n",
    "c1 = Car(\"BMW\", 12)\n",
    "c2 = Car(\"Lamborghini\", 10)\n",
    "\n",
    "print(c1) # Hello I am BMW\n",
    "print(c2) # Hello I am Lamborghini"
   ]
  },
  {
   "cell_type": "code",
   "execution_count": 12,
   "id": "d6c86ba1",
   "metadata": {},
   "outputs": [
    {
     "ename": "TypeError",
     "evalue": "unsupported operand type(s) for +: 'Car' and 'Car'",
     "output_type": "error",
     "traceback": [
      "\u001b[0;31m---------------------------------------------------------------------------\u001b[0m",
      "\u001b[0;31mTypeError\u001b[0m                                 Traceback (most recent call last)",
      "\u001b[0;32m/var/folders/jn/1bsrct314hv5xmfm7vrcdrzc0000gn/T/ipykernel_16037/1360780566.py\u001b[0m in \u001b[0;36m<module>\u001b[0;34m\u001b[0m\n\u001b[0;32m----> 1\u001b[0;31m \u001b[0mprint\u001b[0m\u001b[0;34m(\u001b[0m\u001b[0mc1\u001b[0m \u001b[0;34m+\u001b[0m \u001b[0mc2\u001b[0m\u001b[0;34m)\u001b[0m\u001b[0;34m\u001b[0m\u001b[0;34m\u001b[0m\u001b[0m\n\u001b[0m",
      "\u001b[0;31mTypeError\u001b[0m: unsupported operand type(s) for +: 'Car' and 'Car'"
     ]
    }
   ],
   "source": [
    "print(c1 + c2)\n",
    "# Python has no idea how to + two objects of class Car"
   ]
  },
  {
   "cell_type": "code",
   "execution_count": null,
   "id": "f742a518",
   "metadata": {},
   "outputs": [],
   "source": [
    "# I want c1 + c2 to give me the sum of their mileages\n",
    "# 10 + 12 = 22"
   ]
  },
  {
   "cell_type": "code",
   "execution_count": 15,
   "id": "e1c60fb5",
   "metadata": {},
   "outputs": [
    {
     "name": "stdout",
     "output_type": "stream",
     "text": [
      "22\n",
      "22\n"
     ]
    }
   ],
   "source": [
    "class Car:\n",
    "    def __init__(self, name, mileage):\n",
    "        self.name = name\n",
    "        self.mileage = mileage\n",
    "        \n",
    "    def __str__(self):\n",
    "        return f\"Hello I am {self.name}\"\n",
    "    \n",
    "    def __add__(self, secondCar: Car):\n",
    "        return self.mileage + secondCar.mileage\n",
    "        \n",
    "c1 = Car(\"BMW\", 12)\n",
    "c2 = Car(\"Lamborghini\", 10)\n",
    "\n",
    "print(c1 + c2) # 22\n",
    "# Equivalant to writing\n",
    "print(Car.__add__(c1, c2))"
   ]
  },
  {
   "cell_type": "code",
   "execution_count": null,
   "id": "d094c116",
   "metadata": {},
   "outputs": [],
   "source": []
  },
  {
   "cell_type": "code",
   "execution_count": null,
   "id": "60d05a9c",
   "metadata": {},
   "outputs": [],
   "source": []
  },
  {
   "cell_type": "markdown",
   "id": "9fd1c37f",
   "metadata": {},
   "source": [
    "### Homework\n",
    "Figure out how to handle\n",
    "\n",
    "```py\n",
    "c1 + c2 + c3\n",
    "```"
   ]
  },
  {
   "cell_type": "code",
   "execution_count": null,
   "id": "6111dd7a",
   "metadata": {},
   "outputs": [],
   "source": []
  },
  {
   "cell_type": "code",
   "execution_count": 16,
   "id": "18384ac1",
   "metadata": {},
   "outputs": [],
   "source": [
    "l = [1, 2, 3]"
   ]
  },
  {
   "cell_type": "code",
   "execution_count": 17,
   "id": "a79ba366",
   "metadata": {},
   "outputs": [
    {
     "data": {
      "text/plain": [
       "['__add__',\n",
       " '__class__',\n",
       " '__class_getitem__',\n",
       " '__contains__',\n",
       " '__delattr__',\n",
       " '__delitem__',\n",
       " '__dir__',\n",
       " '__doc__',\n",
       " '__eq__',\n",
       " '__format__',\n",
       " '__ge__',\n",
       " '__getattribute__',\n",
       " '__getitem__',\n",
       " '__gt__',\n",
       " '__hash__',\n",
       " '__iadd__',\n",
       " '__imul__',\n",
       " '__init__',\n",
       " '__init_subclass__',\n",
       " '__iter__',\n",
       " '__le__',\n",
       " '__len__',\n",
       " '__lt__',\n",
       " '__mul__',\n",
       " '__ne__',\n",
       " '__new__',\n",
       " '__reduce__',\n",
       " '__reduce_ex__',\n",
       " '__repr__',\n",
       " '__reversed__',\n",
       " '__rmul__',\n",
       " '__setattr__',\n",
       " '__setitem__',\n",
       " '__sizeof__',\n",
       " '__str__',\n",
       " '__subclasshook__',\n",
       " 'append',\n",
       " 'clear',\n",
       " 'copy',\n",
       " 'count',\n",
       " 'extend',\n",
       " 'index',\n",
       " 'insert',\n",
       " 'pop',\n",
       " 'remove',\n",
       " 'reverse',\n",
       " 'sort']"
      ]
     },
     "execution_count": 17,
     "metadata": {},
     "output_type": "execute_result"
    }
   ],
   "source": [
    "dir(l)"
   ]
  },
  {
   "cell_type": "code",
   "execution_count": null,
   "id": "34897b6f",
   "metadata": {},
   "outputs": [],
   "source": []
  },
  {
   "cell_type": "markdown",
   "id": "c51deb6a",
   "metadata": {},
   "source": [
    "## Inheritance"
   ]
  },
  {
   "cell_type": "code",
   "execution_count": 20,
   "id": "2245ad10",
   "metadata": {},
   "outputs": [],
   "source": [
    "# Parent Class\n",
    "class Vehicle:\n",
    "    def __init__(self, seats, wheels):\n",
    "        self.seats = seats\n",
    "        self.wheels = wheels\n",
    "        \n",
    "    def __str__(self):\n",
    "        return f\"Wheels = {self.wheels}, Seats = {self.seats}\""
   ]
  },
  {
   "cell_type": "code",
   "execution_count": 21,
   "id": "49eaeba2",
   "metadata": {},
   "outputs": [],
   "source": [
    "# This is a child of 'Vehicle'\n",
    "class Car(Vehicle):\n",
    "    def __init__(self, seats, wheels, gear):\n",
    "        super().__init__(seats, wheels)\n",
    "        self.gear = gear"
   ]
  },
  {
   "cell_type": "code",
   "execution_count": 22,
   "id": "bc552927",
   "metadata": {},
   "outputs": [
    {
     "name": "stdout",
     "output_type": "stream",
     "text": [
      "Wheels = 4, Seats = 4\n",
      "Wheels = 4, Seats = 1\n"
     ]
    }
   ],
   "source": [
    "c1 = Car(4, 4, 6) # normal car\n",
    "c2 = Car(1, 4, 8) # f1 car\n",
    "\n",
    "print(c1)\n",
    "print(c2)"
   ]
  },
  {
   "cell_type": "code",
   "execution_count": null,
   "id": "c1b7477e",
   "metadata": {},
   "outputs": [],
   "source": []
  },
  {
   "cell_type": "code",
   "execution_count": null,
   "id": "f6ffeea1",
   "metadata": {},
   "outputs": [],
   "source": []
  },
  {
   "cell_type": "code",
   "execution_count": 23,
   "id": "c6fcdf0c",
   "metadata": {},
   "outputs": [],
   "source": [
    "class SchoolMember:\n",
    "    def __init__(self, name):\n",
    "        self.name = name\n",
    "        \n",
    "class Student(SchoolMember):\n",
    "    def __init__(self, name, grade):\n",
    "        super().__init__(name)\n",
    "        self.grade = grade\n",
    "        \n",
    "class Staff(SchoolMember):\n",
    "    def __init__(self, name, salary):\n",
    "        super().__init__(name)\n",
    "        self.salary = salary\n",
    "        \n",
    "class Teacher(Staff):\n",
    "    def __init__(self, name, salary, subject):\n",
    "        super().__init__(name, salary)\n",
    "        self.subject = subject"
   ]
  },
  {
   "cell_type": "code",
   "execution_count": 24,
   "id": "6ac22409",
   "metadata": {},
   "outputs": [],
   "source": [
    "t = Teacher(\"Tarun\", 5, \"Python\")"
   ]
  },
  {
   "cell_type": "code",
   "execution_count": null,
   "id": "6c09b1cf",
   "metadata": {},
   "outputs": [],
   "source": []
  },
  {
   "cell_type": "code",
   "execution_count": null,
   "id": "cd2de76b",
   "metadata": {},
   "outputs": [],
   "source": []
  },
  {
   "cell_type": "code",
   "execution_count": null,
   "id": "f75b1ad6",
   "metadata": {},
   "outputs": [],
   "source": []
  },
  {
   "cell_type": "code",
   "execution_count": null,
   "id": "2fb9fc1c",
   "metadata": {},
   "outputs": [],
   "source": []
  },
  {
   "cell_type": "markdown",
   "id": "08bba714",
   "metadata": {},
   "source": [
    "## Private Properties"
   ]
  },
  {
   "cell_type": "code",
   "execution_count": 3,
   "id": "a9a3f3c3",
   "metadata": {},
   "outputs": [],
   "source": [
    "class Bank:\n",
    "    def __init__(self, balance):\n",
    "        self.balance = balance\n",
    "        \n",
    "    def read_balance(self):\n",
    "        return self.balance\n",
    "    \n",
    "    def withdraw(self, amount):\n",
    "        self.balance -= amount\n",
    "        \n",
    "    def deposit(self, amount):\n",
    "        self.balance += amount"
   ]
  },
  {
   "cell_type": "code",
   "execution_count": 5,
   "id": "31921947",
   "metadata": {},
   "outputs": [
    {
     "name": "stdout",
     "output_type": "stream",
     "text": [
      "800\n",
      "912345793824578902345793802957\n"
     ]
    }
   ],
   "source": [
    "b = Bank(1000)\n",
    "b.withdraw(200)\n",
    "print(b.read_balance()) # 800\n",
    "\n",
    "# New coder writes the following line\n",
    "b.balance = 912345793824578902345793802457\n",
    "\n",
    "b.deposit(500)\n",
    "print(b.read_balance()) # 1300"
   ]
  },
  {
   "cell_type": "code",
   "execution_count": null,
   "id": "e3696f07",
   "metadata": {},
   "outputs": [],
   "source": []
  },
  {
   "cell_type": "code",
   "execution_count": null,
   "id": "b250ebb5",
   "metadata": {},
   "outputs": [],
   "source": [
    "We can restrict the access (somewhat) by using the private properties"
   ]
  },
  {
   "cell_type": "code",
   "execution_count": 6,
   "id": "f55db521",
   "metadata": {},
   "outputs": [],
   "source": [
    "class Bank:\n",
    "    def __init__(self, balance):\n",
    "        self.__balance = balance\n",
    "        \n",
    "    # Getter\n",
    "    def read_balance(self):\n",
    "        return self.__balance\n",
    "    \n",
    "    # Setter\n",
    "    def withdraw(self, amount):\n",
    "        self.__balance -= amount\n",
    "        \n",
    "    # Setter\n",
    "    def deposit(self, amount):\n",
    "        self.__balance += amount"
   ]
  },
  {
   "cell_type": "code",
   "execution_count": 7,
   "id": "b7b5d365",
   "metadata": {},
   "outputs": [
    {
     "name": "stdout",
     "output_type": "stream",
     "text": [
      "800\n",
      "1300\n"
     ]
    }
   ],
   "source": [
    "b = Bank(1000)\n",
    "b.withdraw(200)\n",
    "print(b.read_balance()) # 800\n",
    "\n",
    "# New coder writes the following line\n",
    "b.__balance = 912345793824578902345793802457\n",
    "\n",
    "b.deposit(500)\n",
    "print(b.read_balance()) # 1300"
   ]
  },
  {
   "cell_type": "code",
   "execution_count": 10,
   "id": "187fd3fa",
   "metadata": {},
   "outputs": [
    {
     "name": "stdout",
     "output_type": "stream",
     "text": [
      "500\n",
      "20\n"
     ]
    }
   ],
   "source": [
    "# These is no such true 'private' property in Python\n",
    "\n",
    "b2 = Bank(500)\n",
    "dir(b2)\n",
    "\n",
    "print(b2._Bank__balance)\n",
    "\n",
    "b2._Bank__balance = 20\n",
    "\n",
    "print(b2._Bank__balance)"
   ]
  },
  {
   "cell_type": "code",
   "execution_count": null,
   "id": "12d91b25",
   "metadata": {},
   "outputs": [],
   "source": []
  },
  {
   "cell_type": "markdown",
   "id": "ce58269a",
   "metadata": {},
   "source": [
    "## Order of invocation\n",
    "In what order will the `init` methods **complete** their execution ?"
   ]
  },
  {
   "cell_type": "code",
   "execution_count": 14,
   "id": "7c7f0efe",
   "metadata": {},
   "outputs": [
    {
     "name": "stdout",
     "output_type": "stream",
     "text": [
      "(<class '__main__.Teacher'>, <class '__main__.Staff'>, <class '__main__.SchoolMember'>, <class 'object'>)\n"
     ]
    }
   ],
   "source": [
    "class SchoolMember:\n",
    "    def __init__(self, name):\n",
    "        self.name = name\n",
    "        \n",
    "class Student(SchoolMember):\n",
    "    def __init__(self, name, grade):\n",
    "        super().__init__(name)\n",
    "        self.grade = grade\n",
    "        \n",
    "class Staff(SchoolMember):\n",
    "    def __init__(self, name, salary):\n",
    "        super().__init__(name)\n",
    "        self.salary = salary\n",
    "        \n",
    "class Teacher(Staff):\n",
    "    def __init__(self, name, salary, subject):\n",
    "        super().__init__(name, salary)\n",
    "        self.subject = subject\n",
    "        \n",
    "t = Teacher(\"Tarun\", 5, \"Python\")\n",
    "print(Teacher.__mro__) # Method Resolution Order"
   ]
  },
  {
   "cell_type": "code",
   "execution_count": null,
   "id": "ffe3e51d",
   "metadata": {},
   "outputs": [],
   "source": []
  },
  {
   "cell_type": "code",
   "execution_count": null,
   "id": "92cc7895",
   "metadata": {},
   "outputs": [],
   "source": []
  },
  {
   "cell_type": "markdown",
   "id": "7e18fd5a",
   "metadata": {},
   "source": [
    "## Multiple Inheritance"
   ]
  },
  {
   "cell_type": "code",
   "execution_count": 15,
   "id": "04463b63",
   "metadata": {},
   "outputs": [
    {
     "name": "stdout",
     "output_type": "stream",
     "text": [
      "5\n"
     ]
    }
   ],
   "source": [
    "class A:\n",
    "    x = 10\n",
    "    \n",
    "class B(A):\n",
    "    pass\n",
    "\n",
    "class C(B):\n",
    "    pass\n",
    "\n",
    "class D(A):\n",
    "    x = 5\n",
    "    \n",
    "class E(C, D):\n",
    "    pass\n",
    "\n",
    "\n",
    "e1 = E()\n",
    "print(e1.x)"
   ]
  },
  {
   "cell_type": "code",
   "execution_count": 16,
   "id": "b32f7f0c",
   "metadata": {},
   "outputs": [
    {
     "data": {
      "text/plain": [
       "(__main__.E, __main__.C, __main__.B, __main__.D, __main__.A, object)"
      ]
     },
     "execution_count": 16,
     "metadata": {},
     "output_type": "execute_result"
    }
   ],
   "source": [
    "E.__mro__"
   ]
  },
  {
   "cell_type": "code",
   "execution_count": null,
   "id": "e229e151",
   "metadata": {},
   "outputs": [],
   "source": []
  },
  {
   "cell_type": "code",
   "execution_count": null,
   "id": "6acf1c7f",
   "metadata": {},
   "outputs": [],
   "source": []
  },
  {
   "cell_type": "code",
   "execution_count": null,
   "id": "410fa934",
   "metadata": {},
   "outputs": [],
   "source": []
  },
  {
   "cell_type": "markdown",
   "id": "1a1044cd",
   "metadata": {},
   "source": [
    "#### Quiz 1\n",
    "```py\n",
    "class A:\n",
    "    def __init__(self, name):\n",
    "        self.name = name\n",
    "\n",
    "a1 = A(\"Bunty\")\n",
    "a2 = A(\"Babli\")\n",
    "\n",
    "print(id(a1) == id(a2))\n",
    "```"
   ]
  },
  {
   "cell_type": "code",
   "execution_count": 17,
   "id": "84eadad5",
   "metadata": {},
   "outputs": [
    {
     "name": "stdout",
     "output_type": "stream",
     "text": [
      "False\n"
     ]
    }
   ],
   "source": [
    "class A:\n",
    "    def __init__(self, name):\n",
    "        self.name = name\n",
    "\n",
    "a1 = A(\"Bunty\")\n",
    "a2 = A(\"Babli\")\n",
    "\n",
    "print(id(a1) == id(a2))"
   ]
  },
  {
   "cell_type": "code",
   "execution_count": 18,
   "id": "51476b5c",
   "metadata": {},
   "outputs": [
    {
     "name": "stdout",
     "output_type": "stream",
     "text": [
      "<__main__.A object at 0x107f3ba60>\n",
      "<__main__.A object at 0x107f3b0a0>\n"
     ]
    }
   ],
   "source": [
    "print(a1)\n",
    "print(a2)"
   ]
  },
  {
   "cell_type": "code",
   "execution_count": null,
   "id": "076fbce3",
   "metadata": {},
   "outputs": [],
   "source": []
  },
  {
   "cell_type": "code",
   "execution_count": null,
   "id": "23b61b01",
   "metadata": {},
   "outputs": [],
   "source": []
  },
  {
   "cell_type": "markdown",
   "id": "78e0a236",
   "metadata": {},
   "source": [
    "### Quiz 2\n",
    "```py\n",
    "class Random:\n",
    "    def __init__(self, a = \"Is it possible?\"):\n",
    "        self.a = a\n",
    "\n",
    "    def display(self):\n",
    "        print(self.a)\n",
    "\n",
    "r = Random()\n",
    "r.display()\n",
    "```"
   ]
  },
  {
   "cell_type": "code",
   "execution_count": 19,
   "id": "e8358be8",
   "metadata": {},
   "outputs": [
    {
     "name": "stdout",
     "output_type": "stream",
     "text": [
      "Is it possible?\n"
     ]
    }
   ],
   "source": [
    "class Random:\n",
    "    def __init__(self, a = \"Is it possible?\"):\n",
    "        self.a = a\n",
    "\n",
    "    def display(self):\n",
    "        print(self.a)\n",
    "\n",
    "r = Random()\n",
    "r.display()"
   ]
  },
  {
   "cell_type": "code",
   "execution_count": null,
   "id": "f6d13141",
   "metadata": {},
   "outputs": [],
   "source": []
  },
  {
   "cell_type": "code",
   "execution_count": null,
   "id": "4e19cd5a",
   "metadata": {},
   "outputs": [],
   "source": []
  },
  {
   "cell_type": "code",
   "execution_count": null,
   "id": "7e598bfe",
   "metadata": {},
   "outputs": [],
   "source": []
  },
  {
   "cell_type": "markdown",
   "id": "606c7727",
   "metadata": {},
   "source": [
    "### Quiz 3\n",
    "```py\n",
    "class A:\n",
    "    def do_something(self):\n",
    "        print(\"I do something!\")\n",
    "\n",
    "class B(A):\n",
    "    def do_something(self):\n",
    "        super().do_something()\n",
    "        print(\"I also do something!\")\n",
    "\n",
    "b = B()\n",
    "b.do_something()\n",
    "```"
   ]
  },
  {
   "cell_type": "code",
   "execution_count": 21,
   "id": "cef58289",
   "metadata": {},
   "outputs": [
    {
     "name": "stdout",
     "output_type": "stream",
     "text": [
      "I do something!\n",
      "I also do something!\n"
     ]
    }
   ],
   "source": [
    "class A:\n",
    "    def do_something(self):\n",
    "        print(\"I do something!\")\n",
    "\n",
    "class B(A):\n",
    "    def do_something(self):\n",
    "        super().do_something()\n",
    "        print(\"I also do something!\")\n",
    "\n",
    "b = B()\n",
    "b.do_something()"
   ]
  },
  {
   "cell_type": "code",
   "execution_count": 22,
   "id": "cd43c768",
   "metadata": {},
   "outputs": [
    {
     "name": "stdout",
     "output_type": "stream",
     "text": [
      "<__main__.B object at 0x107f2b400>\n"
     ]
    }
   ],
   "source": [
    "print(b)\n",
    "# Will call __str__ internally. "
   ]
  },
  {
   "cell_type": "code",
   "execution_count": null,
   "id": "702c669e",
   "metadata": {},
   "outputs": [],
   "source": []
  },
  {
   "cell_type": "code",
   "execution_count": null,
   "id": "51c0458e",
   "metadata": {},
   "outputs": [],
   "source": []
  },
  {
   "cell_type": "markdown",
   "id": "ea9e000a",
   "metadata": {},
   "source": [
    "## Reading Material\n",
    "- https://www.scaler.com/topics/python/inheritance-in-python/\n",
    "- https://www.scaler.com/topics/python-private-variables/\n",
    "- https://www.scaler.com/topics/python-dunder-methods/"
   ]
  },
  {
   "cell_type": "code",
   "execution_count": null,
   "id": "d7f48b3c",
   "metadata": {},
   "outputs": [],
   "source": []
  },
  {
   "cell_type": "code",
   "execution_count": null,
   "id": "d8a68c92",
   "metadata": {},
   "outputs": [],
   "source": []
  },
  {
   "cell_type": "markdown",
   "id": "324066ab",
   "metadata": {},
   "source": [
    "# Doubts"
   ]
  },
  {
   "cell_type": "code",
   "execution_count": 41,
   "id": "159197c0",
   "metadata": {},
   "outputs": [
    {
     "name": "stdout",
     "output_type": "stream",
     "text": [
      "10 20 30\n",
      "Hello from class A\n",
      "Hello from class C\n"
     ]
    }
   ],
   "source": [
    "class A:\n",
    "    def __init__(self, x):\n",
    "        self.x = x\n",
    "        \n",
    "    def hello(self):\n",
    "        print(\"Hello from class A\")\n",
    "        \n",
    "class B(A):\n",
    "    def __init__(self, x, y):\n",
    "        super().__init__(x)\n",
    "        self.y = y\n",
    "        \n",
    "class C(B):\n",
    "    def __init__(self, x, y, z):\n",
    "        A.__init__(self, x)\n",
    "        self.y = y\n",
    "#         super().__init__(x, y)\n",
    "        self.z = z\n",
    "        \n",
    "    def hello(self):\n",
    "        super().hello()\n",
    "        print(\"Hello from class C\")\n",
    "        \n",
    "c = C(10, 20, 30)\n",
    "print(c.x, c.y, c.z)\n",
    "\n",
    "c.hello()"
   ]
  },
  {
   "cell_type": "code",
   "execution_count": null,
   "id": "1fa2df73",
   "metadata": {},
   "outputs": [],
   "source": []
  },
  {
   "cell_type": "code",
   "execution_count": null,
   "id": "16aa13f1",
   "metadata": {},
   "outputs": [],
   "source": []
  }
 ],
 "metadata": {
  "kernelspec": {
   "display_name": "Python 3 (ipykernel)",
   "language": "python",
   "name": "python3"
  },
  "language_info": {
   "codemirror_mode": {
    "name": "ipython",
    "version": 3
   },
   "file_extension": ".py",
   "mimetype": "text/x-python",
   "name": "python",
   "nbconvert_exporter": "python",
   "pygments_lexer": "ipython3",
   "version": "3.9.12"
  }
 },
 "nbformat": 4,
 "nbformat_minor": 5
}
