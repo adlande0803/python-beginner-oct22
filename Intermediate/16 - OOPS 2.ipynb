{
 "cells": [
  {
   "cell_type": "markdown",
   "id": "9f5090e0",
   "metadata": {},
   "source": [
    "# OOPS 2"
   ]
  },
  {
   "cell_type": "code",
   "execution_count": null,
   "id": "100baf78",
   "metadata": {},
   "outputs": [],
   "source": [
    "class Bill():\n",
    "    def __init__(self, prev_read, cur_read):\n",
    "        self.prev = prev_read\n",
    "        self.curr = cur_read\n",
    "        \n",
    "        \n",
    "        \n",
    "    def total_bill(self):\n",
    "        total=0.0\n",
    "        x = 0\n",
    "        y = 10\n",
    "        z = 30\n",
    "        \n",
    "        if \n",
    "        \n",
    "        return total"
   ]
  },
  {
   "cell_type": "code",
   "execution_count": null,
   "id": "c9f849bc",
   "metadata": {},
   "outputs": [],
   "source": [
    "b = Bill(200, 650)\n",
    "print(b.total_bill())"
   ]
  },
  {
   "cell_type": "code",
   "execution_count": null,
   "id": "a2a23904",
   "metadata": {},
   "outputs": [],
   "source": []
  },
  {
   "cell_type": "markdown",
   "id": "c7371e4e",
   "metadata": {},
   "source": [
    "## Using dunder methods"
   ]
  },
  {
   "cell_type": "code",
   "execution_count": 3,
   "id": "1e4883ac",
   "metadata": {},
   "outputs": [],
   "source": [
    "class Car:\n",
    "    def __init__(self, name, mileage):\n",
    "        self.name = name\n",
    "        self.mileage = mileage\n",
    "        \n",
    "c1 = Car(\"BMW\", 12)\n",
    "c2 = Car(\"Lamborghini\", 10)"
   ]
  },
  {
   "cell_type": "code",
   "execution_count": 4,
   "id": "2bd3862c",
   "metadata": {},
   "outputs": [
    {
     "name": "stdout",
     "output_type": "stream",
     "text": [
      "BMW\n"
     ]
    }
   ],
   "source": [
    "print(c1.name)"
   ]
  },
  {
   "cell_type": "code",
   "execution_count": 5,
   "id": "51e584b8",
   "metadata": {},
   "outputs": [
    {
     "name": "stdout",
     "output_type": "stream",
     "text": [
      "<__main__.Car object at 0x107b27850>\n"
     ]
    }
   ],
   "source": [
    "print(c1)"
   ]
  },
  {
   "cell_type": "code",
   "execution_count": 6,
   "id": "0fb5c41c",
   "metadata": {},
   "outputs": [
    {
     "name": "stdout",
     "output_type": "stream",
     "text": [
      "<__main__.Car object at 0x107b27f70>\n"
     ]
    }
   ],
   "source": [
    "print(c2)"
   ]
  },
  {
   "cell_type": "code",
   "execution_count": null,
   "id": "a364ea2a",
   "metadata": {},
   "outputs": [],
   "source": [
    "# What if I wish to change the output of printing an object ? "
   ]
  },
  {
   "cell_type": "code",
   "execution_count": 11,
   "id": "5d33198e",
   "metadata": {},
   "outputs": [
    {
     "name": "stdout",
     "output_type": "stream",
     "text": [
      "Hello I am BMW\n",
      "Hello I am Lamborghini\n"
     ]
    }
   ],
   "source": [
    "class Car:\n",
    "    def __init__(self, name, mileage):\n",
    "        self.name = name\n",
    "        self.mileage = mileage\n",
    "        \n",
    "    def __str__(self):\n",
    "        return f\"Hello I am {self.name}\"\n",
    "        \n",
    "c1 = Car(\"BMW\", 12)\n",
    "c2 = Car(\"Lamborghini\", 10)\n",
    "\n",
    "print(c1) # Hello I am BMW\n",
    "print(c2) # Hello I am Lamborghini"
   ]
  },
  {
   "cell_type": "code",
   "execution_count": 12,
   "id": "29104b0a",
   "metadata": {},
   "outputs": [
    {
     "ename": "TypeError",
     "evalue": "unsupported operand type(s) for +: 'Car' and 'Car'",
     "output_type": "error",
     "traceback": [
      "\u001b[0;31m---------------------------------------------------------------------------\u001b[0m",
      "\u001b[0;31mTypeError\u001b[0m                                 Traceback (most recent call last)",
      "\u001b[0;32m/var/folders/jn/1bsrct314hv5xmfm7vrcdrzc0000gn/T/ipykernel_16037/1360780566.py\u001b[0m in \u001b[0;36m<module>\u001b[0;34m\u001b[0m\n\u001b[0;32m----> 1\u001b[0;31m \u001b[0mprint\u001b[0m\u001b[0;34m(\u001b[0m\u001b[0mc1\u001b[0m \u001b[0;34m+\u001b[0m \u001b[0mc2\u001b[0m\u001b[0;34m)\u001b[0m\u001b[0;34m\u001b[0m\u001b[0;34m\u001b[0m\u001b[0m\n\u001b[0m",
      "\u001b[0;31mTypeError\u001b[0m: unsupported operand type(s) for +: 'Car' and 'Car'"
     ]
    }
   ],
   "source": [
    "print(c1 + c2)\n",
    "# Python has no idea how to + two objects of class Car"
   ]
  },
  {
   "cell_type": "code",
   "execution_count": null,
   "id": "cbd51feb",
   "metadata": {},
   "outputs": [],
   "source": [
    "# I want c1 + c2 to give me the sum of their mileages\n",
    "# 10 + 12 = 22"
   ]
  },
  {
   "cell_type": "code",
   "execution_count": 15,
   "id": "690f98de",
   "metadata": {},
   "outputs": [
    {
     "name": "stdout",
     "output_type": "stream",
     "text": [
      "22\n",
      "22\n"
     ]
    }
   ],
   "source": [
    "class Car:\n",
    "    def __init__(self, name, mileage):\n",
    "        self.name = name\n",
    "        self.mileage = mileage\n",
    "        \n",
    "    def __str__(self):\n",
    "        return f\"Hello I am {self.name}\"\n",
    "    \n",
    "    def __add__(self, secondCar: Car):\n",
    "        return self.mileage + secondCar.mileage\n",
    "        \n",
    "c1 = Car(\"BMW\", 12)\n",
    "c2 = Car(\"Lamborghini\", 10)\n",
    "\n",
    "print(c1 + c2) # 22\n",
    "# Equivalant to writing\n",
    "print(Car.__add__(c1, c2))"
   ]
  },
  {
   "cell_type": "code",
   "execution_count": null,
   "id": "10b2a29d",
   "metadata": {},
   "outputs": [],
   "source": []
  },
  {
   "cell_type": "code",
   "execution_count": null,
   "id": "270554ca",
   "metadata": {},
   "outputs": [],
   "source": []
  },
  {
   "cell_type": "markdown",
   "id": "b4171258",
   "metadata": {},
   "source": [
    "### Homework\n",
    "Figure out how to handle\n",
    "\n",
    "```py\n",
    "c1 + c2 + c3\n",
    "```"
   ]
  },
  {
   "cell_type": "code",
   "execution_count": null,
   "id": "6177261e",
   "metadata": {},
   "outputs": [],
   "source": []
  },
  {
   "cell_type": "code",
   "execution_count": 16,
   "id": "96f0d6bc",
   "metadata": {},
   "outputs": [],
   "source": [
    "l = [1, 2, 3]"
   ]
  },
  {
   "cell_type": "code",
   "execution_count": 17,
   "id": "03de4541",
   "metadata": {},
   "outputs": [
    {
     "data": {
      "text/plain": [
       "['__add__',\n",
       " '__class__',\n",
       " '__class_getitem__',\n",
       " '__contains__',\n",
       " '__delattr__',\n",
       " '__delitem__',\n",
       " '__dir__',\n",
       " '__doc__',\n",
       " '__eq__',\n",
       " '__format__',\n",
       " '__ge__',\n",
       " '__getattribute__',\n",
       " '__getitem__',\n",
       " '__gt__',\n",
       " '__hash__',\n",
       " '__iadd__',\n",
       " '__imul__',\n",
       " '__init__',\n",
       " '__init_subclass__',\n",
       " '__iter__',\n",
       " '__le__',\n",
       " '__len__',\n",
       " '__lt__',\n",
       " '__mul__',\n",
       " '__ne__',\n",
       " '__new__',\n",
       " '__reduce__',\n",
       " '__reduce_ex__',\n",
       " '__repr__',\n",
       " '__reversed__',\n",
       " '__rmul__',\n",
       " '__setattr__',\n",
       " '__setitem__',\n",
       " '__sizeof__',\n",
       " '__str__',\n",
       " '__subclasshook__',\n",
       " 'append',\n",
       " 'clear',\n",
       " 'copy',\n",
       " 'count',\n",
       " 'extend',\n",
       " 'index',\n",
       " 'insert',\n",
       " 'pop',\n",
       " 'remove',\n",
       " 'reverse',\n",
       " 'sort']"
      ]
     },
     "execution_count": 17,
     "metadata": {},
     "output_type": "execute_result"
    }
   ],
   "source": [
    "dir(l)"
   ]
  },
  {
   "cell_type": "code",
   "execution_count": null,
   "id": "8034643b",
   "metadata": {},
   "outputs": [],
   "source": []
  },
  {
   "cell_type": "markdown",
   "id": "f6184f87",
   "metadata": {},
   "source": [
    "## Inheritance"
   ]
  },
  {
   "cell_type": "code",
   "execution_count": 20,
   "id": "f2545627",
   "metadata": {},
   "outputs": [],
   "source": [
    "# Parent Class\n",
    "class Vehicle:\n",
    "    def __init__(self, seats, wheels):\n",
    "        self.seats = seats\n",
    "        self.wheels = wheels\n",
    "        \n",
    "    def __str__(self):\n",
    "        return f\"Wheels = {self.wheels}, Seats = {self.seats}\""
   ]
  },
  {
   "cell_type": "code",
   "execution_count": 21,
   "id": "d84f0f8b",
   "metadata": {},
   "outputs": [],
   "source": [
    "# This is a child of 'Vehicle'\n",
    "class Car(Vehicle):\n",
    "    def __init__(self, seats, wheels, gear):\n",
    "        super().__init__(seats, wheels)\n",
    "        self.gear = gear"
   ]
  },
  {
   "cell_type": "code",
   "execution_count": 22,
   "id": "4ccfb02e",
   "metadata": {},
   "outputs": [
    {
     "name": "stdout",
     "output_type": "stream",
     "text": [
      "Wheels = 4, Seats = 4\n",
      "Wheels = 4, Seats = 1\n"
     ]
    }
   ],
   "source": [
    "c1 = Car(4, 4, 6) # normal car\n",
    "c2 = Car(1, 4, 8) # f1 car\n",
    "\n",
    "print(c1)\n",
    "print(c2)"
   ]
  },
  {
   "cell_type": "code",
   "execution_count": null,
   "id": "befeee22",
   "metadata": {},
   "outputs": [],
   "source": []
  },
  {
   "cell_type": "code",
   "execution_count": null,
   "id": "f6d583a0",
   "metadata": {},
   "outputs": [],
   "source": []
  },
  {
   "cell_type": "code",
   "execution_count": 23,
   "id": "fb769943",
   "metadata": {},
   "outputs": [],
   "source": [
    "class SchoolMember:\n",
    "    def __init__(self, name):\n",
    "        self.name = name\n",
    "        \n",
    "class Student(SchoolMember):\n",
    "    def __init__(self, name, grade):\n",
    "        super().__init__(name)\n",
    "        self.grade = grade\n",
    "        \n",
    "class Staff(SchoolMember):\n",
    "    def __init__(self, name, salary):\n",
    "        super().__init__(name)\n",
    "        self.salary = salary\n",
    "        \n",
    "class Teacher(Staff):\n",
    "    def __init__(self, name, salary, subject):\n",
    "        super().__init__(name, salary)\n",
    "        self.subject = subject"
   ]
  },
  {
   "cell_type": "code",
   "execution_count": 24,
   "id": "2a6bc09d",
   "metadata": {},
   "outputs": [],
   "source": [
    "t = Teacher(\"Tarun\", 5, \"Python\")"
   ]
  },
  {
   "cell_type": "code",
   "execution_count": null,
   "id": "6c80e0dc",
   "metadata": {},
   "outputs": [],
   "source": []
  },
  {
   "cell_type": "code",
   "execution_count": null,
   "id": "17536dba",
   "metadata": {},
   "outputs": [],
   "source": []
  },
  {
   "cell_type": "code",
   "execution_count": null,
   "id": "b38cc3c7",
   "metadata": {},
   "outputs": [],
   "source": []
  },
  {
   "cell_type": "code",
   "execution_count": null,
   "id": "9716c6f7",
   "metadata": {},
   "outputs": [],
   "source": []
  },
  {
   "cell_type": "markdown",
   "id": "2e20bc69",
   "metadata": {},
   "source": [
    "## Private Properties"
   ]
  },
  {
   "cell_type": "code",
   "execution_count": null,
   "id": "d3cd9617",
   "metadata": {},
   "outputs": [],
   "source": []
  },
  {
   "cell_type": "code",
   "execution_count": null,
   "id": "cae59268",
   "metadata": {},
   "outputs": [],
   "source": []
  },
  {
   "cell_type": "code",
   "execution_count": null,
   "id": "ba086719",
   "metadata": {},
   "outputs": [],
   "source": []
  },
  {
   "cell_type": "code",
   "execution_count": null,
   "id": "79224b67",
   "metadata": {},
   "outputs": [],
   "source": []
  },
  {
   "cell_type": "code",
   "execution_count": null,
   "id": "f7f62664",
   "metadata": {},
   "outputs": [],
   "source": []
  },
  {
   "cell_type": "code",
   "execution_count": null,
   "id": "753a8275",
   "metadata": {},
   "outputs": [],
   "source": []
  },
  {
   "cell_type": "markdown",
   "id": "20034190",
   "metadata": {},
   "source": [
    "## Reading Material\n",
    "- https://www.scaler.com/topics/python/inheritance-in-python/\n",
    "- https://www.scaler.com/topics/python-private-variables/\n",
    "- https://www.scaler.com/topics/python-dunder-methods/"
   ]
  },
  {
   "cell_type": "code",
   "execution_count": null,
   "id": "01c493e9",
   "metadata": {},
   "outputs": [],
   "source": []
  }
 ],
 "metadata": {
  "kernelspec": {
   "display_name": "Python 3 (ipykernel)",
   "language": "python",
   "name": "python3"
  },
  "language_info": {
   "codemirror_mode": {
    "name": "ipython",
    "version": 3
   },
   "file_extension": ".py",
   "mimetype": "text/x-python",
   "name": "python",
   "nbconvert_exporter": "python",
   "pygments_lexer": "ipython3",
   "version": "3.9.12"
  }
 },
 "nbformat": 4,
 "nbformat_minor": 5
}
