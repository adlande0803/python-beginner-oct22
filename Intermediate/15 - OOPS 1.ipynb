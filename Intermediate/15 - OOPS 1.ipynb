{
 "cells": [
  {
   "cell_type": "markdown",
   "id": "48dc4aee",
   "metadata": {},
   "source": [
    "# OOPS 1\n",
    "![](https://www.scaler.com/topics/images/oops-concepts-in-python.webp)"
   ]
  },
  {
   "cell_type": "code",
   "execution_count": 2,
   "id": "2cef24cd",
   "metadata": {},
   "outputs": [],
   "source": [
    "# Blueprint of a Student\n",
    "class abcdef:\n",
    "    pass"
   ]
  },
  {
   "cell_type": "code",
   "execution_count": 3,
   "id": "02e7d2cc",
   "metadata": {},
   "outputs": [],
   "source": [
    "class Student:\n",
    "    pass"
   ]
  },
  {
   "cell_type": "code",
   "execution_count": 4,
   "id": "9eb48bb3",
   "metadata": {},
   "outputs": [
    {
     "name": "stdout",
     "output_type": "stream",
     "text": [
      "<__main__.Student object at 0x103bee2b0>\n"
     ]
    }
   ],
   "source": [
    "# Create an object of the above class\n",
    "s1 = Student()\n",
    "print(s1)"
   ]
  },
  {
   "cell_type": "code",
   "execution_count": 5,
   "id": "5106830b",
   "metadata": {},
   "outputs": [
    {
     "name": "stdout",
     "output_type": "stream",
     "text": [
      "<__main__.Student object at 0x103bee040>\n"
     ]
    }
   ],
   "source": [
    "s2 = Student()\n",
    "print(s2)"
   ]
  },
  {
   "cell_type": "code",
   "execution_count": null,
   "id": "07281660",
   "metadata": {},
   "outputs": [],
   "source": []
  },
  {
   "cell_type": "code",
   "execution_count": null,
   "id": "3b2a700d",
   "metadata": {},
   "outputs": [],
   "source": []
  },
  {
   "cell_type": "code",
   "execution_count": 6,
   "id": "9619f932",
   "metadata": {},
   "outputs": [],
   "source": [
    "class Student:\n",
    "    name = \"__\"\n",
    "    age = 0\n",
    "    batch = \"DSML\""
   ]
  },
  {
   "cell_type": "code",
   "execution_count": 12,
   "id": "c5730ed1",
   "metadata": {},
   "outputs": [
    {
     "name": "stdout",
     "output_type": "stream",
     "text": [
      "__\n",
      "0\n",
      "Peter Parker\n",
      "20\n",
      "DSML\n"
     ]
    }
   ],
   "source": [
    "s1 = Student()\n",
    "print(s1.name)\n",
    "print(s1.age)\n",
    "\n",
    "s1.name = \"Peter Parker\"\n",
    "s1.age = 20\n",
    "print(s1.name)\n",
    "print(s1.age)\n",
    "print(s1.batch)"
   ]
  },
  {
   "cell_type": "code",
   "execution_count": 13,
   "id": "6f14a1fc",
   "metadata": {},
   "outputs": [
    {
     "name": "stdout",
     "output_type": "stream",
     "text": [
      "__\n"
     ]
    }
   ],
   "source": [
    "s2 = Student()\n",
    "print(s2.name)"
   ]
  },
  {
   "cell_type": "code",
   "execution_count": 14,
   "id": "5299e74c",
   "metadata": {},
   "outputs": [
    {
     "name": "stdout",
     "output_type": "stream",
     "text": [
      "0\n"
     ]
    }
   ],
   "source": [
    "print(s2.age)"
   ]
  },
  {
   "cell_type": "code",
   "execution_count": 16,
   "id": "311c2198",
   "metadata": {},
   "outputs": [
    {
     "name": "stdout",
     "output_type": "stream",
     "text": [
      "Male\n"
     ]
    }
   ],
   "source": [
    "s2.name = \"Barry Allen\"\n",
    "s2.age = 25\n",
    "s2.batch = \"Academy\"\n",
    "s2.gender = \"Male\"\n",
    "\n",
    "print(s2.gender)"
   ]
  },
  {
   "cell_type": "code",
   "execution_count": 17,
   "id": "e1d17610",
   "metadata": {},
   "outputs": [
    {
     "ename": "AttributeError",
     "evalue": "'Student' object has no attribute 'gender'",
     "output_type": "error",
     "traceback": [
      "\u001b[0;31m---------------------------------------------------------------------------\u001b[0m",
      "\u001b[0;31mAttributeError\u001b[0m                            Traceback (most recent call last)",
      "\u001b[0;32m/var/folders/jn/1bsrct314hv5xmfm7vrcdrzc0000gn/T/ipykernel_7513/4179067169.py\u001b[0m in \u001b[0;36m<module>\u001b[0;34m\u001b[0m\n\u001b[0;32m----> 1\u001b[0;31m \u001b[0mprint\u001b[0m\u001b[0;34m(\u001b[0m\u001b[0ms1\u001b[0m\u001b[0;34m.\u001b[0m\u001b[0mgender\u001b[0m\u001b[0;34m)\u001b[0m\u001b[0;34m\u001b[0m\u001b[0;34m\u001b[0m\u001b[0m\n\u001b[0m",
      "\u001b[0;31mAttributeError\u001b[0m: 'Student' object has no attribute 'gender'"
     ]
    }
   ],
   "source": [
    "print(s1.gender)"
   ]
  },
  {
   "cell_type": "code",
   "execution_count": null,
   "id": "2e579694",
   "metadata": {},
   "outputs": [],
   "source": []
  },
  {
   "cell_type": "code",
   "execution_count": null,
   "id": "9af92b6d",
   "metadata": {},
   "outputs": [],
   "source": []
  },
  {
   "cell_type": "code",
   "execution_count": 36,
   "id": "ebd34e7d",
   "metadata": {},
   "outputs": [],
   "source": [
    "## Box\n",
    "class Box:\n",
    "    length = 0\n",
    "    width = 0\n",
    "    height = 0\n",
    "    \n",
    "    def volume(self):\n",
    "        \"\"\"Function that computes and returns the volume of my box\"\"\"\n",
    "        return self.length * self.width * self.height\n",
    "    \n",
    "    def introduce(self):\n",
    "        print(f\"I am a box of dimensions {self.length} * {self.width} * {self.height}\")"
   ]
  },
  {
   "cell_type": "code",
   "execution_count": 38,
   "id": "5a410f9e",
   "metadata": {},
   "outputs": [
    {
     "name": "stdout",
     "output_type": "stream",
     "text": [
      "20\n",
      "I am a box of dimensions 10 * 2 * 1\n"
     ]
    }
   ],
   "source": [
    "b1 = Box()\n",
    "b1.length = 10\n",
    "b1.width = 2\n",
    "b1.height = 1\n",
    "print(b1.volume())\n",
    "b1.introduce()"
   ]
  },
  {
   "cell_type": "code",
   "execution_count": 39,
   "id": "19b9b502",
   "metadata": {},
   "outputs": [
    {
     "name": "stdout",
     "output_type": "stream",
     "text": [
      "24\n",
      "I am a box of dimensions 4 * 3 * 2\n"
     ]
    }
   ],
   "source": [
    "b2 = Box()\n",
    "b2.length = 4\n",
    "b2.width = 3\n",
    "b2.height = 2\n",
    "print(b2.volume())\n",
    "b2.introduce()"
   ]
  },
  {
   "cell_type": "code",
   "execution_count": null,
   "id": "7d201959",
   "metadata": {},
   "outputs": [],
   "source": []
  },
  {
   "cell_type": "code",
   "execution_count": null,
   "id": "68124e86",
   "metadata": {},
   "outputs": [],
   "source": []
  },
  {
   "cell_type": "code",
   "execution_count": null,
   "id": "eef7d9c4",
   "metadata": {},
   "outputs": [],
   "source": []
  },
  {
   "cell_type": "code",
   "execution_count": null,
   "id": "f0026204",
   "metadata": {},
   "outputs": [],
   "source": []
  },
  {
   "cell_type": "markdown",
   "id": "d2467f05",
   "metadata": {},
   "source": [
    "### init method\n",
    "![](https://www.scaler.com/topics/images/init-in-python.webp)"
   ]
  },
  {
   "cell_type": "markdown",
   "id": "0f9a79c9",
   "metadata": {},
   "source": [
    "- init => initialize\n",
    "- Dunder init method is a special method in Python Classes that is used to initialize your object\n",
    "- It is called automatically at the time of object creation. (You do not have to call it)"
   ]
  },
  {
   "cell_type": "code",
   "execution_count": 41,
   "id": "06579f03",
   "metadata": {},
   "outputs": [],
   "source": [
    "## Box\n",
    "class Box:\n",
    "    def __init__(self, l, b, h):\n",
    "        \"\"\"Arguments = length, breadth, height\"\"\"\n",
    "        self.length = l\n",
    "        self.width = b\n",
    "        self.height = h\n",
    "    \n",
    "    def volume(self):\n",
    "        \"\"\"Function that computes and returns the volume of my box\"\"\"\n",
    "        return self.length * self.width * self.height\n",
    "    \n",
    "    def introduce(self):\n",
    "        print(f\"I am a box of dimensions {self.length} * {self.width} * {self.height}\")"
   ]
  },
  {
   "cell_type": "code",
   "execution_count": 42,
   "id": "8e3268f2",
   "metadata": {},
   "outputs": [
    {
     "name": "stdout",
     "output_type": "stream",
     "text": [
      "20\n",
      "I am a box of dimensions 10 * 2 * 1\n"
     ]
    }
   ],
   "source": [
    "# These values are passed to your 'init' method\n",
    "b1 = Box(10, 2, 1)\n",
    "print(b1.volume())\n",
    "b1.introduce()"
   ]
  },
  {
   "cell_type": "code",
   "execution_count": 43,
   "id": "4b5ffffb",
   "metadata": {},
   "outputs": [
    {
     "name": "stdout",
     "output_type": "stream",
     "text": [
      "24\n",
      "I am a box of dimensions 4 * 3 * 2\n"
     ]
    }
   ],
   "source": [
    "b2 = Box(4, 3, 2)\n",
    "print(b2.volume())\n",
    "b2.introduce()"
   ]
  },
  {
   "cell_type": "code",
   "execution_count": null,
   "id": "12361f87",
   "metadata": {},
   "outputs": [],
   "source": []
  },
  {
   "cell_type": "code",
   "execution_count": null,
   "id": "ffd814b0",
   "metadata": {},
   "outputs": [],
   "source": []
  },
  {
   "cell_type": "code",
   "execution_count": null,
   "id": "cc2424d9",
   "metadata": {},
   "outputs": [],
   "source": []
  },
  {
   "cell_type": "code",
   "execution_count": null,
   "id": "fb4aee3d",
   "metadata": {},
   "outputs": [],
   "source": [
    "- It is called automatically at the time of object creation\n",
    "- It is used to initialize class attributes\n",
    "- It is compulsory to define in every class - false\n",
    "- It is a dunder method"
   ]
  },
  {
   "cell_type": "code",
   "execution_count": null,
   "id": "088440fd",
   "metadata": {},
   "outputs": [],
   "source": []
  },
  {
   "cell_type": "markdown",
   "id": "61e02284",
   "metadata": {},
   "source": [
    "## Everything is an object"
   ]
  },
  {
   "cell_type": "code",
   "execution_count": 45,
   "id": "c1a4197c",
   "metadata": {},
   "outputs": [
    {
     "name": "stdout",
     "output_type": "stream",
     "text": [
      "<class 'int'>\n",
      "<class 'float'>\n",
      "<class 'str'>\n",
      "<class 'bool'>\n",
      "<class 'NoneType'>\n",
      "<class 'function'>\n"
     ]
    }
   ],
   "source": [
    "a = 10\n",
    "b = 1.5\n",
    "c = \"hello\"\n",
    "d = True\n",
    "e = None\n",
    "\n",
    "def hello():\n",
    "    print(\"Hello world\")\n",
    "    \n",
    "print(type(a))\n",
    "print(type(b))\n",
    "print(type(c))\n",
    "print(type(d))\n",
    "print(type(e))\n",
    "print(type(hello))"
   ]
  },
  {
   "cell_type": "code",
   "execution_count": 46,
   "id": "703c278b",
   "metadata": {},
   "outputs": [
    {
     "name": "stdout",
     "output_type": "stream",
     "text": [
      "12\n"
     ]
    }
   ],
   "source": [
    "b3 = Box(2, 3, 2)\n",
    "print(b3.volume())"
   ]
  },
  {
   "cell_type": "code",
   "execution_count": null,
   "id": "0afe57ca",
   "metadata": {},
   "outputs": [],
   "source": []
  },
  {
   "cell_type": "code",
   "execution_count": null,
   "id": "bcea5943",
   "metadata": {},
   "outputs": [],
   "source": []
  },
  {
   "cell_type": "markdown",
   "id": "ac4aff12",
   "metadata": {},
   "source": [
    "## Principles of OOPS"
   ]
  },
  {
   "cell_type": "code",
   "execution_count": null,
   "id": "c0539d01",
   "metadata": {},
   "outputs": [],
   "source": []
  },
  {
   "cell_type": "markdown",
   "id": "b134a077",
   "metadata": {},
   "source": [
    "### Abstraction\n",
    "![](https://scaler.com/topics/images/what-is-abstraction.webp)"
   ]
  },
  {
   "cell_type": "code",
   "execution_count": null,
   "id": "d7d1f0d3",
   "metadata": {},
   "outputs": [],
   "source": [
    "Showing only what is useful and hiding the inner working details"
   ]
  },
  {
   "cell_type": "code",
   "execution_count": null,
   "id": "8b6039b3",
   "metadata": {},
   "outputs": [],
   "source": []
  },
  {
   "cell_type": "code",
   "execution_count": null,
   "id": "c8b317b6",
   "metadata": {},
   "outputs": [],
   "source": []
  },
  {
   "cell_type": "markdown",
   "id": "7a30f728",
   "metadata": {},
   "source": [
    "### Encapsulation\n",
    "Wrapping up the properties and their related methods together in a class"
   ]
  },
  {
   "cell_type": "code",
   "execution_count": null,
   "id": "386be5ec",
   "metadata": {},
   "outputs": [],
   "source": []
  },
  {
   "cell_type": "code",
   "execution_count": null,
   "id": "3738ec1d",
   "metadata": {},
   "outputs": [],
   "source": []
  },
  {
   "cell_type": "code",
   "execution_count": null,
   "id": "45c170c9",
   "metadata": {},
   "outputs": [],
   "source": []
  },
  {
   "cell_type": "code",
   "execution_count": null,
   "id": "76092708",
   "metadata": {},
   "outputs": [],
   "source": []
  },
  {
   "cell_type": "markdown",
   "id": "72fd49b5",
   "metadata": {},
   "source": [
    "## Reading Material\n",
    "- https://www.scaler.com/topics/oops-concepts-in-python/\n",
    "- https://www.scaler.com/topics/what-is-object-oriented-programming-oop/\n",
    "- https://www.scaler.com/topics/difference-between-class-and-object/\n",
    "- https://www.scaler.com/topics/init-function-in-python/ \n",
    "- https://www.scaler.com/topics/difference-between-encapsulation-and-abstraction/"
   ]
  },
  {
   "cell_type": "code",
   "execution_count": null,
   "id": "7d120eec",
   "metadata": {},
   "outputs": [],
   "source": []
  },
  {
   "cell_type": "code",
   "execution_count": null,
   "id": "b1cecf66",
   "metadata": {},
   "outputs": [],
   "source": []
  },
  {
   "cell_type": "markdown",
   "id": "6556a518",
   "metadata": {},
   "source": [
    "# Doubts"
   ]
  },
  {
   "cell_type": "code",
   "execution_count": 47,
   "id": "ab0d52f7",
   "metadata": {},
   "outputs": [],
   "source": [
    "def hello():\n",
    "    print(\"hello world\")"
   ]
  },
  {
   "cell_type": "code",
   "execution_count": null,
   "id": "6fccd528",
   "metadata": {},
   "outputs": [],
   "source": [
    "class Box:\n",
    "    def volume(self):\n",
    "        pass\n",
    "    \n",
    "    def surfaceArea(self):\n",
    "        pass\n",
    "      \n",
    "        \n",
    "class Car:\n",
    "    def run(self):\n",
    "        pass"
   ]
  },
  {
   "cell_type": "code",
   "execution_count": null,
   "id": "a4b75c3b",
   "metadata": {},
   "outputs": [],
   "source": []
  },
  {
   "cell_type": "code",
   "execution_count": null,
   "id": "1261dadb",
   "metadata": {},
   "outputs": [],
   "source": []
  },
  {
   "cell_type": "code",
   "execution_count": 49,
   "id": "ad6ae6d0",
   "metadata": {},
   "outputs": [
    {
     "name": "stdout",
     "output_type": "stream",
     "text": [
      "Ashish\n",
      "6\n"
     ]
    }
   ],
   "source": [
    "## Box\n",
    "class Box:\n",
    "    def __init__(self, l, b, h):\n",
    "        \"\"\"Arguments = length, breadth, height\"\"\"\n",
    "        self.length = l\n",
    "        self.width = b\n",
    "        self.height = h\n",
    "    \n",
    "    def volume(self, x):\n",
    "        \"\"\"Function that computes and returns the volume of my box\"\"\"\n",
    "        print(x)\n",
    "        return self.length * self.width * self.height\n",
    "    \n",
    "    def introduce(self):\n",
    "        print(f\"I am a box of dimensions {self.length} * {self.width} * {self.height}\")\n",
    "        \n",
    "b1 = Box(1, 2, 3)\n",
    "print(b1.volume('Ashish'))"
   ]
  },
  {
   "cell_type": "code",
   "execution_count": null,
   "id": "4a1812e2",
   "metadata": {},
   "outputs": [],
   "source": []
  }
 ],
 "metadata": {
  "kernelspec": {
   "display_name": "Python 3 (ipykernel)",
   "language": "python",
   "name": "python3"
  },
  "language_info": {
   "codemirror_mode": {
    "name": "ipython",
    "version": 3
   },
   "file_extension": ".py",
   "mimetype": "text/x-python",
   "name": "python",
   "nbconvert_exporter": "python",
   "pygments_lexer": "ipython3",
   "version": "3.9.12"
  }
 },
 "nbformat": 4,
 "nbformat_minor": 5
}
