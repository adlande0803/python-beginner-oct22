{
 "cells": [
  {
   "cell_type": "markdown",
   "id": "42023830",
   "metadata": {},
   "source": [
    "# Problem Solving 3"
   ]
  },
  {
   "cell_type": "code",
   "execution_count": 5,
   "id": "a83176ae",
   "metadata": {},
   "outputs": [],
   "source": [
    "class Student():\n",
    "    def __init__(self, marks1,marks2, credits1, credits2):\n",
    "        self.marks1 = marks1\n",
    "        self.marks2 = marks2\n",
    "        self.credits1 = credits1\n",
    "        self.credits2 = credits2\n",
    "        \n",
    "    def getPoints(self, marks):\n",
    "        if marks >= 90:\n",
    "            return 10\n",
    "        elif 90>marks>=75:\n",
    "            return 9\n",
    "        elif 75>marks>=60:\n",
    "            return 8\n",
    "        elif 60>marks>=45:\n",
    "            return 7\n",
    "        else:\n",
    "            return 0\n",
    "        \n",
    "    \n",
    "    def grade_point_average(self):\n",
    "        if self.credits1 == self.credits2 == 0:\n",
    "            return \"Zero credits for both subjects\"\n",
    "\n",
    "        num = self.getPoints(self.marks1) * self.credits1 + self.getPoints(self.marks2) * self.credits2\n",
    "        den = self.credits1 + self.credits2\n",
    "        \n",
    "        gpa = num / den\n",
    "        gpa = round(gpa, 2)\n",
    "    \n",
    "        return gpa"
   ]
  },
  {
   "cell_type": "code",
   "execution_count": 4,
   "id": "1731c086",
   "metadata": {},
   "outputs": [
    {
     "name": "stdout",
     "output_type": "stream",
     "text": [
      "9.0\n"
     ]
    }
   ],
   "source": [
    "s = Student(85, 76, 3, 4)\n",
    "print(s.grade_point_average())"
   ]
  },
  {
   "cell_type": "code",
   "execution_count": 6,
   "id": "367413a0",
   "metadata": {},
   "outputs": [
    {
     "name": "stdout",
     "output_type": "stream",
     "text": [
      "[(True, 64), (False, 125), (True, 216)]\n"
     ]
    }
   ],
   "source": [
    "class solution:\n",
    "    def initial(self,sets):\n",
    "        return self.final(sets)\n",
    "\n",
    "    def final(self, sets):\n",
    "        return list(map(lambda x: ((x**3)%2==0,x**3),sets))\n",
    "\n",
    "print(solution().initial([4,5,6]))"
   ]
  },
  {
   "cell_type": "code",
   "execution_count": null,
   "id": "41066aee",
   "metadata": {},
   "outputs": [],
   "source": []
  },
  {
   "cell_type": "code",
   "execution_count": null,
   "id": "87898c5a",
   "metadata": {},
   "outputs": [],
   "source": []
  },
  {
   "cell_type": "code",
   "execution_count": 9,
   "id": "f58cc48c",
   "metadata": {},
   "outputs": [
    {
     "name": "stdout",
     "output_type": "stream",
     "text": [
      "The type of Name is smaller\n",
      "2\n"
     ]
    }
   ],
   "source": [
    "class Smaller:\n",
    "    def __init__(self,a):\n",
    "        self.string=a\n",
    "    \n",
    "    def display(self):\n",
    "        print(\"The type of Name is smaller\")\n",
    "    \n",
    "    def evaluate(self):\n",
    "        ans=0\n",
    "        # Count and print the number of vowels\n",
    "        vowels = set(\"aeiouAEIOU\")\n",
    "        \n",
    "        for c in self.string:\n",
    "            if c in vowels:\n",
    "                ans += 1\n",
    "        \n",
    "        print(ans)\n",
    "        \n",
    "class Larger:\n",
    "    def __init__(self,a):\n",
    "        self.string=a\n",
    "    \n",
    "    def display(self):\n",
    "        print(\"The type of Name is larger\")\n",
    "    \n",
    "    def evaluate(self):\n",
    "        ans=0\n",
    "        \n",
    "        # Count the number of consonants\n",
    "        # = Total length - Number of vowels \n",
    "        \n",
    "        vowels = set(\"aeiouAEIOU\")\n",
    "        vowelCount = 0\n",
    "        for c in self.string:\n",
    "            if c in vowels:\n",
    "                vowelCount += 1\n",
    "                \n",
    "        ans = len(self.string) - vowelCount\n",
    "        print(ans)\n",
    "\n",
    "def main(a):\n",
    "    '''\n",
    "    input a is string\n",
    "    '''\n",
    "    if len(a)<6:\n",
    "        obj=Smaller(a)\n",
    "        obj.display()\n",
    "        obj.evaluate()\n",
    "    else:\n",
    "        obj=Larger(a)\n",
    "        obj.display()\n",
    "        obj.evaluate()\n",
    "main(\"aman\")"
   ]
  },
  {
   "cell_type": "code",
   "execution_count": null,
   "id": "06c01a2e",
   "metadata": {},
   "outputs": [],
   "source": []
  },
  {
   "cell_type": "code",
   "execution_count": null,
   "id": "09df2470",
   "metadata": {},
   "outputs": [],
   "source": [
    "def manhattanDistance(p1, p2):\n",
    "    \"\"\"\n",
    "    p1 and p2 are two points represented as tuples\n",
    "    \"\"\"\n",
    "    return (p1[0] - p2[0]) ** 2 + (p1[1] - p2[0])**2\n",
    "\n",
    "def nearestStudents(names,loc):\n",
    "    \"\"\"\n",
    "    loc = list of tuples, where each tuple represents a point\n",
    "    \"\"\"\n",
    "    n = len(loc)\n",
    "    shortestDistance = 100000000000\n",
    "    peopleNames = []\n",
    "    \n",
    "    # Find the two closest points\n",
    "    for i in range(n):\n",
    "        p1 = loc[i]\n",
    "        for j in range(i+1, n):\n",
    "            p2 = loc[j]\n",
    "            distance = manhattanDistance(p1, p2)\n",
    "            if distance < shortestDistance:\n",
    "                shortestDistance = distance\n",
    "                peopleNames = [names[i], names[j]]\n",
    "                \n",
    "    return peopleNames"
   ]
  },
  {
   "cell_type": "code",
   "execution_count": null,
   "id": "105ab928",
   "metadata": {},
   "outputs": [],
   "source": []
  },
  {
   "cell_type": "code",
   "execution_count": null,
   "id": "b81ae185",
   "metadata": {},
   "outputs": [],
   "source": []
  },
  {
   "cell_type": "code",
   "execution_count": 10,
   "id": "bf3c1af2",
   "metadata": {},
   "outputs": [
    {
     "data": {
      "text/plain": [
       "7.416198487095663"
      ]
     },
     "execution_count": 10,
     "metadata": {},
     "output_type": "execute_result"
    }
   ],
   "source": [
    "import math\n",
    "math.sqrt(55)"
   ]
  },
  {
   "cell_type": "code",
   "execution_count": null,
   "id": "46e6890a",
   "metadata": {},
   "outputs": [],
   "source": []
  }
 ],
 "metadata": {
  "kernelspec": {
   "display_name": "Python 3 (ipykernel)",
   "language": "python",
   "name": "python3"
  },
  "language_info": {
   "codemirror_mode": {
    "name": "ipython",
    "version": 3
   },
   "file_extension": ".py",
   "mimetype": "text/x-python",
   "name": "python",
   "nbconvert_exporter": "python",
   "pygments_lexer": "ipython3",
   "version": "3.9.12"
  }
 },
 "nbformat": 4,
 "nbformat_minor": 5
}
