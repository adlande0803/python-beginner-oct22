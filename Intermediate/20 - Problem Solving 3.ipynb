{
 "cells": [
  {
   "cell_type": "markdown",
   "id": "42023830",
   "metadata": {},
   "source": [
    "# Problem Solving 3"
   ]
  },
  {
   "cell_type": "code",
   "execution_count": 5,
   "id": "a83176ae",
   "metadata": {},
   "outputs": [],
   "source": [
    "class Student():\n",
    "    def __init__(self, marks1,marks2, credits1, credits2):\n",
    "        self.marks1 = marks1\n",
    "        self.marks2 = marks2\n",
    "        self.credits1 = credits1\n",
    "        self.credits2 = credits2\n",
    "        \n",
    "    def getPoints(self, marks):\n",
    "        if marks >= 90:\n",
    "            return 10\n",
    "        elif 90>marks>=75:\n",
    "            return 9\n",
    "        elif 75>marks>=60:\n",
    "            return 8\n",
    "        elif 60>marks>=45:\n",
    "            return 7\n",
    "        else:\n",
    "            return 0\n",
    "        \n",
    "    \n",
    "    def grade_point_average(self):\n",
    "        if self.credits1 == self.credits2 == 0:\n",
    "            return \"Zero credits for both subjects\"\n",
    "\n",
    "        num = self.getPoints(self.marks1) * self.credits1 + self.getPoints(self.marks2) * self.credits2\n",
    "        den = self.credits1 + self.credits2\n",
    "        \n",
    "        gpa = num / den\n",
    "        gpa = round(gpa, 2)\n",
    "    \n",
    "        return gpa"
   ]
  },
  {
   "cell_type": "code",
   "execution_count": 4,
   "id": "1731c086",
   "metadata": {},
   "outputs": [
    {
     "name": "stdout",
     "output_type": "stream",
     "text": [
      "9.0\n"
     ]
    }
   ],
   "source": [
    "s = Student(85, 76, 3, 4)\n",
    "print(s.grade_point_average())"
   ]
  },
  {
   "cell_type": "code",
   "execution_count": 6,
   "id": "367413a0",
   "metadata": {},
   "outputs": [
    {
     "name": "stdout",
     "output_type": "stream",
     "text": [
      "[(True, 64), (False, 125), (True, 216)]\n"
     ]
    }
   ],
   "source": [
    "class solution:\n",
    "    def initial(self,sets):\n",
    "        return self.final(sets)\n",
    "\n",
    "    def final(self, sets):\n",
    "        return list(map(lambda x: ((x**3)%2==0,x**3),sets))\n",
    "\n",
    "print(solution().initial([4,5,6]))"
   ]
  },
  {
   "cell_type": "code",
   "execution_count": null,
   "id": "41066aee",
   "metadata": {},
   "outputs": [],
   "source": []
  },
  {
   "cell_type": "code",
   "execution_count": null,
   "id": "87898c5a",
   "metadata": {},
   "outputs": [],
   "source": []
  },
  {
   "cell_type": "code",
   "execution_count": 9,
   "id": "f58cc48c",
   "metadata": {},
   "outputs": [
    {
     "name": "stdout",
     "output_type": "stream",
     "text": [
      "The type of Name is smaller\n",
      "2\n"
     ]
    }
   ],
   "source": [
    "class Smaller:\n",
    "    def __init__(self,a):\n",
    "        self.string=a\n",
    "    \n",
    "    def display(self):\n",
    "        print(\"The type of Name is smaller\")\n",
    "    \n",
    "    def evaluate(self):\n",
    "        ans=0\n",
    "        # Count and print the number of vowels\n",
    "        vowels = set(\"aeiouAEIOU\")\n",
    "        \n",
    "        for c in self.string:\n",
    "            if c in vowels:\n",
    "                ans += 1\n",
    "        \n",
    "        print(ans)\n",
    "        \n",
    "class Larger:\n",
    "    def __init__(self,a):\n",
    "        self.string=a\n",
    "    \n",
    "    def display(self):\n",
    "        print(\"The type of Name is larger\")\n",
    "    \n",
    "    def evaluate(self):\n",
    "        ans=0\n",
    "        \n",
    "        # Count the number of consonants\n",
    "        # = Total length - Number of vowels \n",
    "        \n",
    "        vowels = set(\"aeiouAEIOU\")\n",
    "        vowelCount = 0\n",
    "        for c in self.string:\n",
    "            if c in vowels:\n",
    "                vowelCount += 1\n",
    "                \n",
    "        ans = len(self.string) - vowelCount\n",
    "        print(ans)\n",
    "\n",
    "def main(a):\n",
    "    '''\n",
    "    input a is string\n",
    "    '''\n",
    "    if len(a)<6:\n",
    "        obj=Smaller(a)\n",
    "        obj.display()\n",
    "        obj.evaluate()\n",
    "    else:\n",
    "        obj=Larger(a)\n",
    "        obj.display()\n",
    "        obj.evaluate()\n",
    "main(\"aman\")"
   ]
  },
  {
   "cell_type": "code",
   "execution_count": null,
   "id": "06c01a2e",
   "metadata": {},
   "outputs": [],
   "source": []
  },
  {
   "cell_type": "code",
   "execution_count": null,
   "id": "09df2470",
   "metadata": {},
   "outputs": [],
   "source": [
    "def manhattanDistance(p1, p2):\n",
    "    \"\"\"\n",
    "    p1 and p2 are two points represented as tuples\n",
    "    \"\"\"\n",
    "    return abs(p1[0] - p2[0]) + abs(p1[1] - p2[1])\n",
    "\n",
    "def nearestStudents(names,loc):\n",
    "    \"\"\"\n",
    "    loc = list of tuples, where each tuple represents a point\n",
    "    \"\"\"\n",
    "    n = len(loc)\n",
    "    shortestDistance = 100000000000\n",
    "    peopleNames = []\n",
    "    \n",
    "    # Find the two closest points\n",
    "    for i in range(n):\n",
    "        p1 = loc[i]\n",
    "        for j in range(i+1, n):\n",
    "            p2 = loc[j]\n",
    "            distance = manhattanDistance(p1, p2)\n",
    "            if distance < shortestDistance:\n",
    "                shortestDistance = distance\n",
    "                peopleNames = [names[i], names[j]]\n",
    "                \n",
    "    return peopleNames"
   ]
  },
  {
   "cell_type": "code",
   "execution_count": null,
   "id": "105ab928",
   "metadata": {},
   "outputs": [],
   "source": []
  },
  {
   "cell_type": "code",
   "execution_count": null,
   "id": "b81ae185",
   "metadata": {},
   "outputs": [],
   "source": []
  },
  {
   "cell_type": "code",
   "execution_count": 10,
   "id": "bf3c1af2",
   "metadata": {},
   "outputs": [
    {
     "data": {
      "text/plain": [
       "7.416198487095663"
      ]
     },
     "execution_count": 10,
     "metadata": {},
     "output_type": "execute_result"
    }
   ],
   "source": [
    "import math\n",
    "math.sqrt(55)"
   ]
  },
  {
   "cell_type": "code",
   "execution_count": null,
   "id": "46e6890a",
   "metadata": {},
   "outputs": [],
   "source": []
  },
  {
   "cell_type": "code",
   "execution_count": 15,
   "id": "5ee3f1a6",
   "metadata": {},
   "outputs": [],
   "source": [
    "def second_lowest(students, scores):\n",
    "    '''\n",
    "    input:\n",
    "    students -> a list of students\n",
    "    scores -> list of the scores, with each score being that of the ith student\n",
    "    \n",
    "    output:\n",
    "    student_data -> 2d list of data, with each inner list having name of student as 1st and score of 2nd as second element respectively\n",
    "    second_low_score -> the second lowest score\n",
    "    second_names -> list of students with score same as second lowest score, in the same order as in the students list\n",
    "    '''\n",
    "    \n",
    "    student_data, second_low_score, second_names = None, None, None\n",
    "    \n",
    "    # Your code starts here\n",
    "    student_data = list(zip(students, scores))\n",
    "    student_data = list(map(list, student_data))\n",
    "    \n",
    "    # Find the min score\n",
    "    minScore = min(scores)\n",
    "    \n",
    "    # Filter out all min scores\n",
    "    filteredStudentData = filter(lambda s: s[1] != minScore, student_data)\n",
    "    \n",
    "    # Sort the filtered data\n",
    "    filteredStudentData = sorted(filteredStudentData, key=lambda s: s[1])\n",
    "    \n",
    "    # Extract the second lowest score from the filtered, sorted data\n",
    "    second_low_score = float(filteredStudentData[0][1])\n",
    "    \n",
    "    # Find all the names that have this score\n",
    "    second_names = list(map(lambda s: s[0], filter(lambda s: s[1] == second_low_score, filteredStudentData)))\n",
    "    \n",
    "    # Your code ends here\n",
    "    return student_data, second_low_score, second_names"
   ]
  },
  {
   "cell_type": "code",
   "execution_count": 16,
   "id": "2a70f8b4",
   "metadata": {},
   "outputs": [
    {
     "name": "stdout",
     "output_type": "stream",
     "text": [
      "[('S Roy', 1), ('B BOSE', 3), ('N KAR', 2), ('C DUTTA', 1), ('G GHOSH', 1)]\n",
      "[['S Roy', 1], ['B BOSE', 3], ['N KAR', 2], ['C DUTTA', 1], ['G GHOSH', 1]]\n"
     ]
    }
   ],
   "source": [
    "students = [\"S Roy\", \"B BOSE\", 'N KAR', 'C DUTTA', 'G GHOSH']\n",
    "scores = [1, 3, 2, 1, 1]\n",
    "student_data = list(zip(students, scores))\n",
    "print(student_data)\n",
    "student_data = list(map(list, student_data))\n",
    "print(student_data)"
   ]
  },
  {
   "cell_type": "code",
   "execution_count": 3,
   "id": "b04ccc60",
   "metadata": {},
   "outputs": [
    {
     "name": "stdout",
     "output_type": "stream",
     "text": [
      "[1, 1, 1, 2, 3]\n"
     ]
    }
   ],
   "source": [
    "scores = [1, 3, 2, 1, 1]\n",
    "scores = sorted(scores)\n",
    "print(scores)"
   ]
  },
  {
   "cell_type": "code",
   "execution_count": 8,
   "id": "cc5a0d6c",
   "metadata": {},
   "outputs": [
    {
     "data": {
      "text/plain": [
       "[('B BOSE', 3), ('N KAR', 2)]"
      ]
     },
     "execution_count": 8,
     "metadata": {},
     "output_type": "execute_result"
    }
   ],
   "source": [
    "minScore = min(scores)\n",
    "filteredStudentData = list(filter(lambda s: s[1] != minScore, student_data))\n",
    "filteredStudentData"
   ]
  },
  {
   "cell_type": "code",
   "execution_count": null,
   "id": "8d6f6bbb",
   "metadata": {},
   "outputs": [],
   "source": []
  },
  {
   "cell_type": "code",
   "execution_count": null,
   "id": "fb2dc550",
   "metadata": {},
   "outputs": [],
   "source": [
    "# Given a list of numbers, find the second smallest value in it\n",
    "a = [1, 1, 2, 5, 3, 6, 6, 6, 1]\n",
    "ans = 2\n",
    "Do it in O(n) time"
   ]
  },
  {
   "cell_type": "code",
   "execution_count": 4,
   "id": "7abd23bd",
   "metadata": {},
   "outputs": [
    {
     "name": "stdout",
     "output_type": "stream",
     "text": [
      "1\n"
     ]
    }
   ],
   "source": [
    "a = [1, 1, 2, 5, 3, 6, 6, 6, 1]\n",
    "minValue = min(a)\n",
    "print(minValue)"
   ]
  },
  {
   "cell_type": "code",
   "execution_count": null,
   "id": "186addfa",
   "metadata": {},
   "outputs": [],
   "source": []
  },
  {
   "cell_type": "code",
   "execution_count": 13,
   "id": "74ff0004",
   "metadata": {},
   "outputs": [
    {
     "name": "stdout",
     "output_type": "stream",
     "text": [
      "[('S Roy', 1), ('B BOSE', 1), ('N KAR', 1), ('C DUTTA', 2), ('G GHOSH', 3)] 1 S Roy <class 'list'> <class 'int'> <class 'str'>\n"
     ]
    }
   ],
   "source": [
    "a, b, c = second_lowest(students, scores)\n",
    "print(a, b, c, type(a), type(b), type(c))"
   ]
  },
  {
   "cell_type": "code",
   "execution_count": null,
   "id": "0a07859d",
   "metadata": {},
   "outputs": [],
   "source": []
  },
  {
   "cell_type": "code",
   "execution_count": null,
   "id": "05dd1bd0",
   "metadata": {},
   "outputs": [],
   "source": []
  },
  {
   "cell_type": "code",
   "execution_count": 27,
   "id": "37a038fa",
   "metadata": {},
   "outputs": [
    {
     "name": "stdout",
     "output_type": "stream",
     "text": [
      "['aaaaaa', 'ababab', 'aa', 'caca', 'abbbb', 'a']\n"
     ]
    }
   ],
   "source": [
    "l = \"aa ababab abbbb caca a aaaaaa\".split()\n",
    "\n",
    "res = sorted(l, key=lambda s: s.count('a'), reverse=True)\n",
    "print(res)"
   ]
  },
  {
   "cell_type": "code",
   "execution_count": 19,
   "id": "c43829fe",
   "metadata": {},
   "outputs": [
    {
     "data": {
      "text/plain": [
       "3"
      ]
     },
     "execution_count": 19,
     "metadata": {},
     "output_type": "execute_result"
    }
   ],
   "source": [
    "\"banana\".count('a')"
   ]
  },
  {
   "cell_type": "code",
   "execution_count": null,
   "id": "1a5765c1",
   "metadata": {},
   "outputs": [],
   "source": [
    "def sort_strings(str_list):\n",
    "\t#str_list-> nested list of strings\n",
    "\t\n",
    "\tres = list(map(lambda l:sorted(l, key=lambda s: s.count('a'), reverse=True), str_list))\n",
    "\t\n",
    "# \tfor i in range(len(str_list)):\n",
    "\t   # str_list[i] = sorted(str_list[i], key=lambda s: s.count('a'), reverse=True)\n",
    "\n",
    "\treturn res\n"
   ]
  },
  {
   "cell_type": "code",
   "execution_count": null,
   "id": "da38e4d8",
   "metadata": {},
   "outputs": [],
   "source": [
    "def sortListOnAs(l):\n",
    "    return sorted(l, key=lambda s: s.count('a'), reverse=True)\n",
    "\n",
    "def sort_strings(str_list):\n",
    "    res = list(map(sortListOnAs, str_list))\n",
    "    return res\n"
   ]
  },
  {
   "cell_type": "code",
   "execution_count": null,
   "id": "ad0d2fb8",
   "metadata": {},
   "outputs": [],
   "source": []
  },
  {
   "cell_type": "code",
   "execution_count": null,
   "id": "f85f882b",
   "metadata": {},
   "outputs": [],
   "source": []
  },
  {
   "cell_type": "code",
   "execution_count": null,
   "id": "ca279f67",
   "metadata": {},
   "outputs": [],
   "source": []
  },
  {
   "cell_type": "code",
   "execution_count": null,
   "id": "a3741a78",
   "metadata": {},
   "outputs": [],
   "source": []
  },
  {
   "cell_type": "code",
   "execution_count": 28,
   "id": "a8e8a9f6",
   "metadata": {},
   "outputs": [],
   "source": [
    "def validateEmail(email):\n",
    "    if email.count('@') != 1:\n",
    "        return False\n",
    "    \n",
    "    idx = email.index('@')\n",
    "    if idx == 0:\n",
    "        # There was no user part in the email\n",
    "        return False\n",
    "    \n",
    "    if idx + 1 == email.index('.co'):\n",
    "        # There was no domain part in the email\n",
    "        return False\n",
    "    \n",
    "    if idx >= 20:\n",
    "        return False\n",
    "    \n",
    "    return True\n",
    "\n",
    "def check(emails):\n",
    "    verified_lex = sorted(filter(validateEmail, emails))\n",
    "    \n",
    "    \n",
    "    return verified_lex"
   ]
  },
  {
   "cell_type": "code",
   "execution_count": 39,
   "id": "36f815dd",
   "metadata": {},
   "outputs": [
    {
     "data": {
      "text/plain": [
       "True"
      ]
     },
     "execution_count": 39,
     "metadata": {},
     "output_type": "execute_result"
    }
   ],
   "source": [
    "validateEmail('tarun@scaler.com')"
   ]
  },
  {
   "cell_type": "code",
   "execution_count": null,
   "id": "e76109c3",
   "metadata": {},
   "outputs": [],
   "source": []
  },
  {
   "cell_type": "code",
   "execution_count": null,
   "id": "2c37ebf2",
   "metadata": {},
   "outputs": [],
   "source": [
    "def second_lowest(students, scores):\n",
    "    '''\n",
    "    input:\n",
    "    students -> a list of students\n",
    "    scores -> list of the scores, with each score being that of the ith student\n",
    "    output:\n",
    "    student_data -> 2d list of data, with each inner list having name of student as 1st and score of 2nd as second element respectively\n",
    "    second_low_score -> the second lowest score\n",
    "    second_names -> list of students with score same as second lowest score, in the same order as in the students list\n",
    "    '''\n",
    "    student_data, second_low_score, second_names = None, 0, \"\"\n",
    "    # Your code starts here\n",
    "    student_data = list(map(list,list(zip(students, scores))))\n",
    "    student_data_dict_sort= {key:value for key,value in sorted(dict(list(zip(scores,students))).items(),key= lambda key : key)}\n",
    "    student_data_dict_sort_list= list(map(list,student_data_dict_sort.items()))\n",
    "    second_low_score=student_data_dict_sort_list[1][0]\n",
    "    second_names=student_data_dict_sort_list[1][1]\n",
    "    # Your code ends here\n",
    "    return student_data, second_low_score, second_names"
   ]
  },
  {
   "cell_type": "code",
   "execution_count": null,
   "id": "30b6acda",
   "metadata": {},
   "outputs": [],
   "source": []
  },
  {
   "cell_type": "code",
   "execution_count": 40,
   "id": "a723e218",
   "metadata": {},
   "outputs": [],
   "source": [
    "def check(emails):\n",
    "    '''\n",
    "    input:\n",
    "    emails -> list of emails to check\n",
    "    output:\n",
    "    verified_lex -> the verified list of emails, in lexicographical order\n",
    "    '''\n",
    "    #verified_lex = None\n",
    "    # Your code starts here\n",
    "    if type(emails)==list:\n",
    "        emails=emails\n",
    "    else:\n",
    "        emails=list(emails.split(' '))\n",
    "    def validate(i):\n",
    "        if i.count('@')==1 and i.endswith('.com') and len(i[:i.find('@')]) <=20 and len(i[:i.find('@')]) >0 and len(i[i.find('@')+1:i.find('.com')])>=1 :\n",
    "            return i\n",
    "    verified_lex = list(filter(validate, emails))\n",
    "    # Your code ends here\n",
    "    return sorted(verified_lex)"
   ]
  },
  {
   "cell_type": "code",
   "execution_count": 41,
   "id": "39707c65",
   "metadata": {},
   "outputs": [
    {
     "data": {
      "text/plain": [
       "['aa', 'ababab', 'abbbb', 'caca', 'a', 'aaaaaa']"
      ]
     },
     "execution_count": 41,
     "metadata": {},
     "output_type": "execute_result"
    }
   ],
   "source": [
    "l[::]"
   ]
  },
  {
   "cell_type": "code",
   "execution_count": null,
   "id": "43dd943b",
   "metadata": {},
   "outputs": [],
   "source": []
  }
 ],
 "metadata": {
  "kernelspec": {
   "display_name": "Python 3 (ipykernel)",
   "language": "python",
   "name": "python3"
  },
  "language_info": {
   "codemirror_mode": {
    "name": "ipython",
    "version": 3
   },
   "file_extension": ".py",
   "mimetype": "text/x-python",
   "name": "python",
   "nbconvert_exporter": "python",
   "pygments_lexer": "ipython3",
   "version": "3.9.12"
  }
 },
 "nbformat": 4,
 "nbformat_minor": 5
}
