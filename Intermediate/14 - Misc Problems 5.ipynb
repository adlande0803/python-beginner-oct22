{
 "cells": [
  {
   "cell_type": "markdown",
   "id": "1cc42da1",
   "metadata": {},
   "source": [
    "# Misc Problems 5"
   ]
  },
  {
   "cell_type": "code",
   "execution_count": null,
   "id": "3be1e8e7",
   "metadata": {},
   "outputs": [],
   "source": []
  },
  {
   "cell_type": "markdown",
   "id": "a96cf8a0",
   "metadata": {},
   "source": [
    "## Set Matrix Zeroes\n",
    "https://leetcode.com/problems/set-matrix-zeroes/description/"
   ]
  },
  {
   "cell_type": "code",
   "execution_count": null,
   "id": "5fc57f7e",
   "metadata": {},
   "outputs": [],
   "source": [
    "def setZeroes(matrix: List[List[int]]) -> None:\n",
    "    \"\"\"\n",
    "    Do not return anything, modify matrix in-place instead.\n",
    "    \"\"\"\n",
    "    n = len(matrix) # No of rows\n",
    "    m = len(matrix[0]) # No of cols\n",
    "    \n",
    "    # Store the row numbers and the column numbers which need to be changed to zero\n",
    "    rows = set()\n",
    "    cols = set()\n",
    "    \n",
    "    # Reading\n",
    "    for i in range(n):\n",
    "        for j in range(m):\n",
    "            if matrix[i][j] == 0:\n",
    "                # Mark the ith row to be changed to zero\n",
    "                rows.add(i)\n",
    "                \n",
    "                # Mark the jth col to be changed to zero\n",
    "                cols.add(j)\n",
    "                \n",
    "    # Modify the matrix\n",
    "    for i in range(n):\n",
    "        for j in range(m):\n",
    "            if (i in rows) or (j in cols):\n",
    "                matrix[i][j] = 0"
   ]
  },
  {
   "cell_type": "code",
   "execution_count": null,
   "id": "2457f787",
   "metadata": {},
   "outputs": [],
   "source": []
  },
  {
   "cell_type": "markdown",
   "id": "571a0af3",
   "metadata": {},
   "source": [
    "## Intersection of Two Arrays II\n",
    "https://leetcode.com/problems/intersection-of-two-arrays-ii/description/"
   ]
  },
  {
   "cell_type": "code",
   "execution_count": null,
   "id": "55a2724c",
   "metadata": {},
   "outputs": [],
   "source": [
    "class Solution:\n",
    "    def intersect(self, nums1: List[int], nums2: List[int]) -> List[int]:\n",
    "        # Construct freq map of nums1\n",
    "        freq = {}\n",
    "\n",
    "        for x in nums1:\n",
    "            freq[x] = freq.get(x, 0) + 1\n",
    "\n",
    "\n",
    "        res = []\n",
    "        for y in nums2:\n",
    "            if freq.get(y):\n",
    "                res.append(y)\n",
    "                freq[y] -= 1\n",
    "\n",
    "        return res"
   ]
  },
  {
   "cell_type": "code",
   "execution_count": null,
   "id": "ed5c41c7",
   "metadata": {},
   "outputs": [],
   "source": []
  },
  {
   "cell_type": "code",
   "execution_count": null,
   "id": "bcf89256",
   "metadata": {},
   "outputs": [],
   "source": []
  },
  {
   "cell_type": "code",
   "execution_count": null,
   "id": "62dbdcb5",
   "metadata": {},
   "outputs": [],
   "source": []
  },
  {
   "cell_type": "markdown",
   "id": "f879dae3",
   "metadata": {},
   "source": [
    "## Product of Array Except Self\n",
    "https://leetcode.com/problems/product-of-array-except-self/description/"
   ]
  },
  {
   "cell_type": "code",
   "execution_count": null,
   "id": "8ebbf216",
   "metadata": {},
   "outputs": [],
   "source": [
    "class Solution:\n",
    "    def productExceptSelf(self, nums: List[int]) -> List[int]:\n",
    "        n = len(nums)\n",
    "\n",
    "        left = [1] * n\n",
    "        right = [1] * n\n",
    "        answer = [1] * n\n",
    "\n",
    "        # Constructing left product array\n",
    "        for i in range(1, n):\n",
    "            left[i] = left[i-1] * nums[i-1]\n",
    "\n",
    "        # Constructing right product array\n",
    "        for i in range(n-2, -1, -1):\n",
    "            right[i] = right[i+1] * nums[i+1]\n",
    "\n",
    "        # Construct answer array\n",
    "        for i in range(n):\n",
    "            answer[i] = left[i] * right[i]\n",
    "\n",
    "        return answer"
   ]
  },
  {
   "cell_type": "code",
   "execution_count": null,
   "id": "4559cb7c",
   "metadata": {},
   "outputs": [],
   "source": []
  },
  {
   "cell_type": "code",
   "execution_count": null,
   "id": "af8042ae",
   "metadata": {},
   "outputs": [],
   "source": []
  },
  {
   "cell_type": "code",
   "execution_count": null,
   "id": "cb15adba",
   "metadata": {},
   "outputs": [],
   "source": []
  },
  {
   "cell_type": "markdown",
   "id": "72ff41b1",
   "metadata": {},
   "source": [
    "# Doubts"
   ]
  },
  {
   "cell_type": "code",
   "execution_count": null,
   "id": "b97cb264",
   "metadata": {},
   "outputs": [],
   "source": [
    "def productExceptSelf(nums):\n",
    "    ans, suf, pre = [1]*len(nums), 1, 1\n",
    "    for i in range(len(nums)):\n",
    "        ans[i] *= pre # prefix product from one end\n",
    "        pre *= nums[i]\n",
    "        ans[-1-i] *= suf # suffix product from other end\n",
    "        suf *= nums[-1-i]"
   ]
  }
 ],
 "metadata": {
  "kernelspec": {
   "display_name": "Python 3 (ipykernel)",
   "language": "python",
   "name": "python3"
  },
  "language_info": {
   "codemirror_mode": {
    "name": "ipython",
    "version": 3
   },
   "file_extension": ".py",
   "mimetype": "text/x-python",
   "name": "python",
   "nbconvert_exporter": "python",
   "pygments_lexer": "ipython3",
   "version": "3.9.12"
  }
 },
 "nbformat": 4,
 "nbformat_minor": 5
}
