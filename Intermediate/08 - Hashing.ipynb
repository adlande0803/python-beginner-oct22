{
 "cells": [
  {
   "cell_type": "markdown",
   "id": "91fbace9",
   "metadata": {},
   "source": [
    "# Hashing\n",
    "![](https://www.scaler.com/topics/images/hashmap-in-python.webp)"
   ]
  },
  {
   "cell_type": "code",
   "execution_count": 2,
   "id": "c27517e9",
   "metadata": {},
   "outputs": [
    {
     "name": "stdout",
     "output_type": "stream",
     "text": [
      "19.931568569324174\n"
     ]
    }
   ],
   "source": [
    "import math\n",
    "print(math.log2(10**6))"
   ]
  },
  {
   "cell_type": "code",
   "execution_count": 3,
   "id": "da1db011",
   "metadata": {},
   "outputs": [
    {
     "name": "stdout",
     "output_type": "stream",
     "text": [
      "6\n"
     ]
    }
   ],
   "source": [
    "print(6 % 7)"
   ]
  },
  {
   "cell_type": "code",
   "execution_count": null,
   "id": "73b85f05",
   "metadata": {},
   "outputs": [],
   "source": []
  },
  {
   "cell_type": "code",
   "execution_count": null,
   "id": "b1253644",
   "metadata": {},
   "outputs": [],
   "source": []
  },
  {
   "cell_type": "code",
   "execution_count": null,
   "id": "f085500d",
   "metadata": {},
   "outputs": [],
   "source": []
  },
  {
   "cell_type": "markdown",
   "id": "4b4e05de",
   "metadata": {},
   "source": [
    "#### Quiz 1\n",
    "Given an empty set S={}  \n",
    "  \n",
    "What will be the state of S after adding all the values of the below array to it.  \n",
    "[1, 1, 2, 3, 2, 2, 3, 4, 4, 4, 4 ]"
   ]
  },
  {
   "cell_type": "code",
   "execution_count": 4,
   "id": "d5c5caa4",
   "metadata": {},
   "outputs": [
    {
     "name": "stdout",
     "output_type": "stream",
     "text": [
      "{1, 2, 3, 4}\n"
     ]
    }
   ],
   "source": [
    "l = [1, 1, 2, 3, 2, 2, 3, 4, 4, 4, 4]\n",
    "s = set()\n",
    "for x in l:\n",
    "    s.add(x)\n",
    "print(s)"
   ]
  },
  {
   "cell_type": "code",
   "execution_count": 5,
   "id": "cfdcf506",
   "metadata": {},
   "outputs": [
    {
     "name": "stdout",
     "output_type": "stream",
     "text": [
      "{1, 2, 3, 4}\n"
     ]
    }
   ],
   "source": [
    "l = [1, 1, 2, 3, 2, 2, 3, 4, 4, 4, 4]\n",
    "s = set(l)\n",
    "print(s)"
   ]
  },
  {
   "cell_type": "markdown",
   "id": "87fb93e3",
   "metadata": {},
   "source": [
    "- Set only stores unique keys"
   ]
  },
  {
   "cell_type": "code",
   "execution_count": null,
   "id": "d5e3a987",
   "metadata": {},
   "outputs": [],
   "source": []
  },
  {
   "cell_type": "markdown",
   "id": "05191b87",
   "metadata": {},
   "source": [
    "### First Non Repeating Element"
   ]
  },
  {
   "cell_type": "code",
   "execution_count": 6,
   "id": "5440f2fe",
   "metadata": {},
   "outputs": [],
   "source": [
    "def firstNonRepeating(arr):\n",
    "    for i in range(len(arr)): # N iterations\n",
    "        if arr.count(arr[i]) == 1: # N iterations\n",
    "            return arr[i]\n",
    "        \n",
    "# Overall time complexity = O(N ^ 2)"
   ]
  },
  {
   "cell_type": "code",
   "execution_count": 7,
   "id": "3fb719a7",
   "metadata": {},
   "outputs": [
    {
     "data": {
      "text/plain": [
       "3"
      ]
     },
     "execution_count": 7,
     "metadata": {},
     "output_type": "execute_result"
    }
   ],
   "source": [
    "firstNonRepeating([1, 2, 3, 1, 2, 5])"
   ]
  },
  {
   "cell_type": "code",
   "execution_count": 8,
   "id": "4d96b522",
   "metadata": {},
   "outputs": [
    {
     "data": {
      "text/plain": [
       "2"
      ]
     },
     "execution_count": 8,
     "metadata": {},
     "output_type": "execute_result"
    }
   ],
   "source": [
    "firstNonRepeating([4, 3, 3, 2, 5, 6, 4, 5])"
   ]
  },
  {
   "cell_type": "code",
   "execution_count": null,
   "id": "e4d56670",
   "metadata": {},
   "outputs": [],
   "source": []
  },
  {
   "cell_type": "code",
   "execution_count": 14,
   "id": "07b6f937",
   "metadata": {},
   "outputs": [],
   "source": [
    "def firstNonRepeatingOptimised(arr):\n",
    "    # Prepare the frequency map\n",
    "    freq = {}\n",
    "    \n",
    "    # Time complexity of Loop 1 = O(N)\n",
    "    for x in arr:\n",
    "        if x in freq:\n",
    "            freq[x] += 1\n",
    "        else:\n",
    "            freq[x] = 1\n",
    "    \n",
    "    # Time complexity of Loop 2 = O(N)\n",
    "    for x in arr:\n",
    "        if freq[x] == 1:\n",
    "            return x\n",
    "        \n",
    "# Total time complexity = O(N) + O(N) = O(N)"
   ]
  },
  {
   "cell_type": "code",
   "execution_count": 15,
   "id": "d1ac0269",
   "metadata": {},
   "outputs": [
    {
     "data": {
      "text/plain": [
       "3"
      ]
     },
     "execution_count": 15,
     "metadata": {},
     "output_type": "execute_result"
    }
   ],
   "source": [
    "firstNonRepeatingOptimised([1, 2, 3, 1, 2, 5])"
   ]
  },
  {
   "cell_type": "code",
   "execution_count": 16,
   "id": "c93472c1",
   "metadata": {},
   "outputs": [
    {
     "data": {
      "text/plain": [
       "2"
      ]
     },
     "execution_count": 16,
     "metadata": {},
     "output_type": "execute_result"
    }
   ],
   "source": [
    "firstNonRepeatingOptimised([4, 3, 3, 2, 5, 6, 4, 5])"
   ]
  },
  {
   "cell_type": "code",
   "execution_count": null,
   "id": "f9874b99",
   "metadata": {},
   "outputs": [],
   "source": []
  },
  {
   "cell_type": "markdown",
   "id": "4e14be9c",
   "metadata": {},
   "source": [
    "## Count of distinct elements"
   ]
  },
  {
   "cell_type": "code",
   "execution_count": 20,
   "id": "268a551f",
   "metadata": {},
   "outputs": [],
   "source": [
    "def countDistinct(arr):\n",
    "    s = set(arr)\n",
    "    return len(s)"
   ]
  },
  {
   "cell_type": "code",
   "execution_count": 21,
   "id": "56121008",
   "metadata": {},
   "outputs": [
    {
     "data": {
      "text/plain": [
       "4"
      ]
     },
     "execution_count": 21,
     "metadata": {},
     "output_type": "execute_result"
    }
   ],
   "source": [
    "countDistinct([3, 5, 6, 5, 4]) # 4"
   ]
  },
  {
   "cell_type": "code",
   "execution_count": 22,
   "id": "247ec289",
   "metadata": {},
   "outputs": [
    {
     "data": {
      "text/plain": [
       "5"
      ]
     },
     "execution_count": 22,
     "metadata": {},
     "output_type": "execute_result"
    }
   ],
   "source": [
    "countDistinct([6, 3, 7, 3, 8, 6, 9]) # 5"
   ]
  },
  {
   "cell_type": "code",
   "execution_count": null,
   "id": "1f7325f9",
   "metadata": {},
   "outputs": [],
   "source": []
  },
  {
   "cell_type": "code",
   "execution_count": null,
   "id": "418af242",
   "metadata": {},
   "outputs": [],
   "source": []
  },
  {
   "cell_type": "code",
   "execution_count": null,
   "id": "6caa9513",
   "metadata": {},
   "outputs": [],
   "source": []
  },
  {
   "cell_type": "markdown",
   "id": "642f8e13",
   "metadata": {},
   "source": [
    "## Reading Material\n",
    "- https://www.scaler.com/topics/hashmap-in-python/\n",
    "- https://www.scaler.com/topics/data-structures/hashing-in-data-structure/\n",
    "- https://www.scaler.com/topics/hash-function-in-python/\n",
    "- https://www.scaler.com/topics/what-is-dictionary-in-python/\n",
    "- https://www.scaler.com/topics/python/dictionary-in-python/\n",
    "- https://www.scaler.com/topics/set-in-python/\n",
    "- https://www.scaler.com/topics/python/sets-in-python/"
   ]
  },
  {
   "cell_type": "code",
   "execution_count": null,
   "id": "4db32b69",
   "metadata": {},
   "outputs": [],
   "source": []
  },
  {
   "cell_type": "markdown",
   "id": "1aff5100",
   "metadata": {},
   "source": [
    "# Doubts"
   ]
  },
  {
   "cell_type": "code",
   "execution_count": 23,
   "id": "030c3de5",
   "metadata": {},
   "outputs": [],
   "source": [
    "s = {10, 20, 30, 40, -5, 1, -100}"
   ]
  },
  {
   "cell_type": "code",
   "execution_count": 24,
   "id": "e2dde919",
   "metadata": {},
   "outputs": [
    {
     "name": "stdout",
     "output_type": "stream",
     "text": [
      "{1, 20, 40, 10, -5, -100, 30}\n"
     ]
    }
   ],
   "source": [
    "print(s)"
   ]
  },
  {
   "cell_type": "code",
   "execution_count": 25,
   "id": "346730b1",
   "metadata": {},
   "outputs": [
    {
     "ename": "TypeError",
     "evalue": "'set' object is not subscriptable",
     "output_type": "error",
     "traceback": [
      "\u001b[0;31m---------------------------------------------------------------------------\u001b[0m",
      "\u001b[0;31mTypeError\u001b[0m                                 Traceback (most recent call last)",
      "\u001b[0;32m/var/folders/jn/1bsrct314hv5xmfm7vrcdrzc0000gn/T/ipykernel_52023/243613605.py\u001b[0m in \u001b[0;36m<module>\u001b[0;34m\u001b[0m\n\u001b[0;32m----> 1\u001b[0;31m \u001b[0ms\u001b[0m\u001b[0;34m[\u001b[0m\u001b[0;36m0\u001b[0m\u001b[0;34m]\u001b[0m\u001b[0;34m\u001b[0m\u001b[0;34m\u001b[0m\u001b[0m\n\u001b[0m",
      "\u001b[0;31mTypeError\u001b[0m: 'set' object is not subscriptable"
     ]
    }
   ],
   "source": [
    "s[0]"
   ]
  },
  {
   "cell_type": "code",
   "execution_count": 26,
   "id": "39889ae1",
   "metadata": {},
   "outputs": [],
   "source": [
    "# Internally, set is using an array only to store the data.\n",
    "# But that array is hidden from us.\n",
    "# We cannot access that internal array directly."
   ]
  },
  {
   "cell_type": "code",
   "execution_count": null,
   "id": "7e7d114d",
   "metadata": {},
   "outputs": [],
   "source": []
  }
 ],
 "metadata": {
  "kernelspec": {
   "display_name": "Python 3 (ipykernel)",
   "language": "python",
   "name": "python3"
  },
  "language_info": {
   "codemirror_mode": {
    "name": "ipython",
    "version": 3
   },
   "file_extension": ".py",
   "mimetype": "text/x-python",
   "name": "python",
   "nbconvert_exporter": "python",
   "pygments_lexer": "ipython3",
   "version": "3.9.12"
  }
 },
 "nbformat": 4,
 "nbformat_minor": 5
}
