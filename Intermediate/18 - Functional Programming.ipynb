{
 "cells": [
  {
   "cell_type": "markdown",
   "id": "36ae2c63",
   "metadata": {},
   "source": [
    "# Functional Programming"
   ]
  },
  {
   "cell_type": "code",
   "execution_count": null,
   "id": "c2d57461",
   "metadata": {},
   "outputs": [],
   "source": []
  },
  {
   "cell_type": "markdown",
   "id": "adcedfaa",
   "metadata": {},
   "source": [
    "## Lambda Functions"
   ]
  },
  {
   "cell_type": "code",
   "execution_count": 25,
   "id": "f6c40c5c",
   "metadata": {},
   "outputs": [],
   "source": [
    "def square_boring(x):\n",
    "    return x ** 2"
   ]
  },
  {
   "cell_type": "code",
   "execution_count": 26,
   "id": "87bc94a1",
   "metadata": {},
   "outputs": [
    {
     "name": "stdout",
     "output_type": "stream",
     "text": [
      "25\n"
     ]
    }
   ],
   "source": [
    "print(square_boring(5))"
   ]
  },
  {
   "cell_type": "code",
   "execution_count": 27,
   "id": "7d3e3a71",
   "metadata": {},
   "outputs": [],
   "source": [
    "square_cool = lambda x: x ** 2"
   ]
  },
  {
   "cell_type": "code",
   "execution_count": 28,
   "id": "2490940e",
   "metadata": {},
   "outputs": [
    {
     "name": "stdout",
     "output_type": "stream",
     "text": [
      "16\n"
     ]
    }
   ],
   "source": [
    "print(square_cool(4))"
   ]
  },
  {
   "cell_type": "code",
   "execution_count": 29,
   "id": "e89eb4a6",
   "metadata": {},
   "outputs": [
    {
     "name": "stdout",
     "output_type": "stream",
     "text": [
      "64\n"
     ]
    }
   ],
   "source": [
    "print(square_cool(8))"
   ]
  },
  {
   "cell_type": "code",
   "execution_count": null,
   "id": "70eb0907",
   "metadata": {},
   "outputs": [],
   "source": []
  },
  {
   "cell_type": "code",
   "execution_count": 31,
   "id": "3ce7200b",
   "metadata": {},
   "outputs": [
    {
     "name": "stdout",
     "output_type": "stream",
     "text": [
      "1000\n",
      "125\n"
     ]
    }
   ],
   "source": [
    "cube = lambda n: n ** 3\n",
    "print(cube(10))\n",
    "print(cube(5))"
   ]
  },
  {
   "cell_type": "code",
   "execution_count": null,
   "id": "dd9fd969",
   "metadata": {},
   "outputs": [],
   "source": [
    "Lambda functions can only be used if you have one line execution function"
   ]
  },
  {
   "cell_type": "code",
   "execution_count": null,
   "id": "02e2c1d5",
   "metadata": {},
   "outputs": [],
   "source": []
  },
  {
   "cell_type": "code",
   "execution_count": null,
   "id": "8966ef69",
   "metadata": {},
   "outputs": [],
   "source": []
  },
  {
   "cell_type": "code",
   "execution_count": 33,
   "id": "415bc973",
   "metadata": {},
   "outputs": [
    {
     "name": "stdout",
     "output_type": "stream",
     "text": [
      "True\n",
      "False\n"
     ]
    }
   ],
   "source": [
    "# Write a lambda function to check if a number is positive or not\n",
    "positive = lambda x: x > 0\n",
    "print(positive(9))\n",
    "print(positive(-5))"
   ]
  },
  {
   "cell_type": "code",
   "execution_count": null,
   "id": "08817cf7",
   "metadata": {},
   "outputs": [],
   "source": []
  },
  {
   "cell_type": "code",
   "execution_count": 34,
   "id": "19067c66",
   "metadata": {},
   "outputs": [
    {
     "name": "stdout",
     "output_type": "stream",
     "text": [
      "9\n",
      "32\n"
     ]
    }
   ],
   "source": [
    "# Write a lambda function to add two numbers\n",
    "add = lambda a, b: a + b\n",
    "print(add(5, 4))\n",
    "print(add(2, 30))"
   ]
  },
  {
   "cell_type": "code",
   "execution_count": null,
   "id": "ffc9b34b",
   "metadata": {},
   "outputs": [],
   "source": []
  },
  {
   "cell_type": "code",
   "execution_count": null,
   "id": "89f86ce0",
   "metadata": {},
   "outputs": [],
   "source": [
    "# Lambda functions are also called anonymous functions in python\n",
    "# Reason: You can use them without giving them a name"
   ]
  },
  {
   "cell_type": "code",
   "execution_count": null,
   "id": "1c3b34aa",
   "metadata": {},
   "outputs": [],
   "source": [
    "cube = lambda n: n ** 3\n",
    "cube(10)"
   ]
  },
  {
   "cell_type": "code",
   "execution_count": 35,
   "id": "9921b799",
   "metadata": {},
   "outputs": [
    {
     "data": {
      "text/plain": [
       "1000"
      ]
     },
     "execution_count": 35,
     "metadata": {},
     "output_type": "execute_result"
    }
   ],
   "source": [
    "(lambda n: n ** 3)(10)"
   ]
  },
  {
   "cell_type": "code",
   "execution_count": null,
   "id": "aa5e3fc6",
   "metadata": {},
   "outputs": [],
   "source": []
  },
  {
   "cell_type": "code",
   "execution_count": null,
   "id": "bb42f2e1",
   "metadata": {},
   "outputs": [],
   "source": []
  },
  {
   "cell_type": "code",
   "execution_count": null,
   "id": "bad34689",
   "metadata": {},
   "outputs": [],
   "source": []
  },
  {
   "cell_type": "markdown",
   "id": "d4347479",
   "metadata": {},
   "source": [
    "#### Quiz 1\n",
    "```py\n",
    "(lambda num: (num - 10) * 2 / 4)(20)\n",
    "```"
   ]
  },
  {
   "cell_type": "code",
   "execution_count": 36,
   "id": "71e1c3ac",
   "metadata": {},
   "outputs": [
    {
     "data": {
      "text/plain": [
       "5.0"
      ]
     },
     "execution_count": 36,
     "metadata": {},
     "output_type": "execute_result"
    }
   ],
   "source": [
    "(lambda num: (num - 10) * 2 / 4)(20)"
   ]
  },
  {
   "cell_type": "code",
   "execution_count": null,
   "id": "e24d79ae",
   "metadata": {},
   "outputs": [],
   "source": [
    "(20 - 10) * 2 / 4\n",
    "10 * 2 / 4"
   ]
  },
  {
   "cell_type": "code",
   "execution_count": null,
   "id": "3d30c30a",
   "metadata": {},
   "outputs": [],
   "source": []
  },
  {
   "cell_type": "code",
   "execution_count": null,
   "id": "f2aba24e",
   "metadata": {},
   "outputs": [],
   "source": []
  },
  {
   "cell_type": "markdown",
   "id": "bf1fa253",
   "metadata": {},
   "source": [
    "## sorted"
   ]
  },
  {
   "cell_type": "code",
   "execution_count": 37,
   "id": "571db543",
   "metadata": {},
   "outputs": [
    {
     "name": "stdout",
     "output_type": "stream",
     "text": [
      "[0, 1, 2, 3, 4, 5, 6, 7]\n"
     ]
    }
   ],
   "source": [
    "a = [1, 5, 7, 2, 4, 3, 0, 6]\n",
    "b = sorted(a)\n",
    "print(b)"
   ]
  },
  {
   "cell_type": "code",
   "execution_count": null,
   "id": "d49771f9",
   "metadata": {},
   "outputs": [],
   "source": []
  },
  {
   "cell_type": "code",
   "execution_count": null,
   "id": "03771029",
   "metadata": {},
   "outputs": [],
   "source": []
  },
  {
   "cell_type": "code",
   "execution_count": null,
   "id": "830bf6e3",
   "metadata": {},
   "outputs": [],
   "source": []
  },
  {
   "cell_type": "markdown",
   "id": "1b1aa3c9",
   "metadata": {},
   "source": [
    "**Challenge:** \\\n",
    "Given a list of dictionaries, sort it based on the `marks` property.\n",
    "\n",
    "**Sample Input:**\n",
    "```json\n",
    "students = [\n",
    "    {\"name\": \"A\", \"marks\": 50},\n",
    "    {\"name\": \"B\", \"marks\": 100},\n",
    "    {\"name\": \"C\", \"marks\": 40},\n",
    "    {\"name\": \"D\", \"marks\": 70},\n",
    "    {\"name\": \"E\", \"marks\": 60},\n",
    "]\n",
    "```\n",
    "\n",
    "**Sample Output:**\n",
    "```json\n",
    "[{'name': 'C', 'marks': 40},\n",
    " {'name': 'A', 'marks': 50},\n",
    " {'name': 'E', 'marks': 60},\n",
    " {'name': 'D', 'marks': 70},\n",
    " {'name': 'B', 'marks': 100}]\n",
    "```"
   ]
  },
  {
   "cell_type": "code",
   "execution_count": 2,
   "id": "991b4c65",
   "metadata": {},
   "outputs": [],
   "source": [
    "students = [\n",
    "    {\"name\": \"A\", \"marks\": 50},\n",
    "    {\"name\": \"B\", \"marks\": 100},\n",
    "    {\"name\": \"C\", \"marks\": 40},\n",
    "    {\"name\": \"D\", \"marks\": 70},\n",
    "    {\"name\": \"E\", \"marks\": 60},\n",
    "]"
   ]
  },
  {
   "cell_type": "code",
   "execution_count": 39,
   "id": "87e060a0",
   "metadata": {},
   "outputs": [
    {
     "ename": "TypeError",
     "evalue": "'<' not supported between instances of 'dict' and 'dict'",
     "output_type": "error",
     "traceback": [
      "\u001b[0;31m---------------------------------------------------------------------------\u001b[0m",
      "\u001b[0;31mTypeError\u001b[0m                                 Traceback (most recent call last)",
      "\u001b[0;32m/var/folders/jn/1bsrct314hv5xmfm7vrcdrzc0000gn/T/ipykernel_2361/1298248555.py\u001b[0m in \u001b[0;36m<module>\u001b[0;34m\u001b[0m\n\u001b[0;32m----> 1\u001b[0;31m \u001b[0mstudents\u001b[0m\u001b[0;34m[\u001b[0m\u001b[0;36m0\u001b[0m\u001b[0;34m]\u001b[0m \u001b[0;34m<\u001b[0m \u001b[0mstudents\u001b[0m\u001b[0;34m[\u001b[0m\u001b[0;36m1\u001b[0m\u001b[0;34m]\u001b[0m\u001b[0;34m\u001b[0m\u001b[0;34m\u001b[0m\u001b[0m\n\u001b[0m",
      "\u001b[0;31mTypeError\u001b[0m: '<' not supported between instances of 'dict' and 'dict'"
     ]
    }
   ],
   "source": [
    "students[0] < students[1]"
   ]
  },
  {
   "cell_type": "code",
   "execution_count": 3,
   "id": "d3336153",
   "metadata": {},
   "outputs": [],
   "source": [
    "def get_marks(st):\n",
    "    return st[\"marks\"]"
   ]
  },
  {
   "cell_type": "code",
   "execution_count": 41,
   "id": "abb49b97",
   "metadata": {},
   "outputs": [
    {
     "data": {
      "text/plain": [
       "True"
      ]
     },
     "execution_count": 41,
     "metadata": {},
     "output_type": "execute_result"
    }
   ],
   "source": [
    "get_marks(students[0]) < get_marks(students[1])"
   ]
  },
  {
   "cell_type": "code",
   "execution_count": 42,
   "id": "8cb165b8",
   "metadata": {},
   "outputs": [
    {
     "data": {
      "text/plain": [
       "50"
      ]
     },
     "execution_count": 42,
     "metadata": {},
     "output_type": "execute_result"
    }
   ],
   "source": [
    "get_marks(students[0])"
   ]
  },
  {
   "cell_type": "code",
   "execution_count": 43,
   "id": "72f14d52",
   "metadata": {},
   "outputs": [
    {
     "data": {
      "text/plain": [
       "100"
      ]
     },
     "execution_count": 43,
     "metadata": {},
     "output_type": "execute_result"
    }
   ],
   "source": [
    "get_marks(students[1])"
   ]
  },
  {
   "cell_type": "code",
   "execution_count": 45,
   "id": "131c8ea7",
   "metadata": {},
   "outputs": [],
   "source": [
    "sortedStudents = sorted(students)"
   ]
  },
  {
   "cell_type": "code",
   "execution_count": 47,
   "id": "7f777597",
   "metadata": {},
   "outputs": [
    {
     "data": {
      "text/plain": [
       "[{'name': 'C', 'marks': 40},\n",
       " {'name': 'A', 'marks': 50},\n",
       " {'name': 'E', 'marks': 60},\n",
       " {'name': 'D', 'marks': 70},\n",
       " {'name': 'B', 'marks': 100}]"
      ]
     },
     "execution_count": 47,
     "metadata": {},
     "output_type": "execute_result"
    }
   ],
   "source": [
    "sortedStudents = sorted(students, key=get_marks)\n",
    "sortedStudents"
   ]
  },
  {
   "cell_type": "code",
   "execution_count": 4,
   "id": "67f89c37",
   "metadata": {},
   "outputs": [
    {
     "data": {
      "text/plain": [
       "[{'name': 'B', 'marks': 100},\n",
       " {'name': 'D', 'marks': 70},\n",
       " {'name': 'E', 'marks': 60},\n",
       " {'name': 'A', 'marks': 50},\n",
       " {'name': 'C', 'marks': 40}]"
      ]
     },
     "execution_count": 4,
     "metadata": {},
     "output_type": "execute_result"
    }
   ],
   "source": [
    "descendingSortedStudents = sorted(students, key=get_marks, reverse=True)\n",
    "descendingSortedStudents"
   ]
  },
  {
   "cell_type": "code",
   "execution_count": null,
   "id": "821a1a87",
   "metadata": {},
   "outputs": [],
   "source": []
  },
  {
   "cell_type": "code",
   "execution_count": null,
   "id": "4b13437c",
   "metadata": {},
   "outputs": [],
   "source": []
  },
  {
   "cell_type": "markdown",
   "id": "ed014026",
   "metadata": {},
   "source": [
    "**Challenge:** \\\n",
    "Given a list of numbers, sort it based on their squares. If two numbers have same square, show them in any order.\n",
    "\n",
    "**Sample Input:** \\\n",
    "```[4, 2, -1, 0, -3, 6, -6, 1, -5]```\n",
    "\n",
    "**Sample Output:** \\\n",
    "```[0, -1, 1, 2, -3, 4, -5, 6, -6]```"
   ]
  },
  {
   "cell_type": "code",
   "execution_count": 2,
   "id": "ecd0bad7",
   "metadata": {},
   "outputs": [
    {
     "name": "stdout",
     "output_type": "stream",
     "text": [
      "[0, -1, 1, 2, -3, 4, -5, 6, -6]\n"
     ]
    }
   ],
   "source": [
    "def square(x):\n",
    "    return x ** 2\n",
    "\n",
    "a = [4, 2, -1, 0, -3, 6, -6, 1, -5] \n",
    "b = sorted(a, key=square)\n",
    "print(b)"
   ]
  },
  {
   "cell_type": "code",
   "execution_count": null,
   "id": "31cfed1b",
   "metadata": {},
   "outputs": [],
   "source": [
    "4 => 16\n",
    "-3 => 9\n",
    "\n",
    "16 < 9"
   ]
  },
  {
   "cell_type": "code",
   "execution_count": null,
   "id": "37e7edc5",
   "metadata": {},
   "outputs": [],
   "source": [
    "a = [4, 2, -1, 0, -3, 6, -6, 1, -5] \n",
    "b = sorted(a, key=lambda x: x ** 2)\n",
    "print(b)"
   ]
  },
  {
   "cell_type": "code",
   "execution_count": null,
   "id": "a4d703d8",
   "metadata": {},
   "outputs": [],
   "source": []
  },
  {
   "cell_type": "code",
   "execution_count": null,
   "id": "da662adf",
   "metadata": {},
   "outputs": [],
   "source": []
  },
  {
   "cell_type": "markdown",
   "id": "7af2c445",
   "metadata": {},
   "source": [
    "#### Quiz 2\n",
    "```py\n",
    "students = [\n",
    "    {\"name\": \"A\", \"marks\": 50},\n",
    "    {\"name\": \"B\", \"marks\": 100},\n",
    "    {\"name\": \"C\", \"marks\": 40},\n",
    "]\n",
    "sorted(students, key=lambda s: s[\"name\"])\n",
    "```"
   ]
  },
  {
   "cell_type": "code",
   "execution_count": 3,
   "id": "e6f69490",
   "metadata": {},
   "outputs": [
    {
     "data": {
      "text/plain": [
       "[{'name': 'A', 'marks': 50},\n",
       " {'name': 'B', 'marks': 100},\n",
       " {'name': 'C', 'marks': 40}]"
      ]
     },
     "execution_count": 3,
     "metadata": {},
     "output_type": "execute_result"
    }
   ],
   "source": [
    "students = [\n",
    "    {\"name\": \"A\", \"marks\": 50},\n",
    "    {\"name\": \"B\", \"marks\": 100},\n",
    "    {\"name\": \"C\", \"marks\": 40},\n",
    "]\n",
    "sorted(students, key=lambda s: s[\"name\"])"
   ]
  },
  {
   "cell_type": "code",
   "execution_count": null,
   "id": "f3a40b45",
   "metadata": {},
   "outputs": [],
   "source": []
  },
  {
   "cell_type": "code",
   "execution_count": null,
   "id": "ae6da9d7",
   "metadata": {},
   "outputs": [],
   "source": []
  },
  {
   "cell_type": "code",
   "execution_count": null,
   "id": "97a205c8",
   "metadata": {},
   "outputs": [],
   "source": []
  },
  {
   "cell_type": "markdown",
   "id": "b671c9ef",
   "metadata": {},
   "source": [
    "## filter"
   ]
  },
  {
   "cell_type": "code",
   "execution_count": null,
   "id": "04bfb0bd",
   "metadata": {},
   "outputs": [],
   "source": []
  },
  {
   "cell_type": "markdown",
   "id": "c0a7bcc7",
   "metadata": {},
   "source": [
    "**Challenge:** \\\n",
    "Given a list of numbers, filter out all positive integers\n",
    "\n",
    "**Sample Input:** \\\n",
    "`[9, 2, -5, 0, -3, 1, -6, -2]`\n",
    "\n",
    "**Sample Output:** \\\n",
    "`[9, 2, 1]`"
   ]
  },
  {
   "cell_type": "code",
   "execution_count": 4,
   "id": "4a3d1bcb",
   "metadata": {},
   "outputs": [
    {
     "name": "stdout",
     "output_type": "stream",
     "text": [
      "<filter object at 0x10bd931f0>\n"
     ]
    }
   ],
   "source": [
    "a = [9, 2, -5, 0, -3, 1, -6, -2]\n",
    "b = filter(lambda x : x > 0, a)\n",
    "print(b)"
   ]
  },
  {
   "cell_type": "code",
   "execution_count": 5,
   "id": "087c6364",
   "metadata": {},
   "outputs": [
    {
     "name": "stdout",
     "output_type": "stream",
     "text": [
      "[9, 2, 1]\n"
     ]
    }
   ],
   "source": [
    "a = [9, 2, -5, 0, -3, 1, -6, -2]\n",
    "b = list(filter(lambda x : x > 0, a))\n",
    "print(b)"
   ]
  },
  {
   "cell_type": "code",
   "execution_count": null,
   "id": "c253946b",
   "metadata": {},
   "outputs": [],
   "source": []
  },
  {
   "cell_type": "code",
   "execution_count": 6,
   "id": "c314979c",
   "metadata": {},
   "outputs": [
    {
     "name": "stdout",
     "output_type": "stream",
     "text": [
      "[-5, -3, -6, -2]\n"
     ]
    }
   ],
   "source": []
  },
  {
   "cell_type": "code",
   "execution_count": null,
   "id": "f6396ac7",
   "metadata": {},
   "outputs": [],
   "source": []
  },
  {
   "cell_type": "markdown",
   "id": "dfe89cfd",
   "metadata": {},
   "source": [
    "**Challenge:** \\\n",
    "Given a list of numbers, filter out all negative integers\n",
    "\n",
    "**Sample Input:** \\\n",
    "`[9, 2, -5, 0, -3, 1, -6, -2]`\n",
    "\n",
    "**Sample Output:** \\\n",
    "`[-5, -3, -6, -2]`"
   ]
  },
  {
   "cell_type": "code",
   "execution_count": 7,
   "id": "5c1bc780",
   "metadata": {},
   "outputs": [
    {
     "name": "stdout",
     "output_type": "stream",
     "text": [
      "[-5, -3, -6, -2]\n"
     ]
    }
   ],
   "source": [
    "# Filtering out the negative numbers\n",
    "a = [9, 2, -5, 0, -3, 1, -6, -2]\n",
    "b = list(filter(lambda x : x < 0, a))\n",
    "print(b)"
   ]
  },
  {
   "cell_type": "code",
   "execution_count": null,
   "id": "5e8f429f",
   "metadata": {},
   "outputs": [],
   "source": []
  },
  {
   "cell_type": "code",
   "execution_count": null,
   "id": "302276e6",
   "metadata": {},
   "outputs": [],
   "source": []
  },
  {
   "cell_type": "markdown",
   "id": "1ca63782",
   "metadata": {},
   "source": [
    "**Challenge:** \\\n",
    "Given a list of strings, filter out all strings have length >= 3\n",
    "\n",
    "**Sample Input:** \\\n",
    "`[\"python\", \"I\", \"be\", \"hello\", \"ok\", \"nice\"]`\n",
    "\n",
    "**Sample Output:** \\\n",
    "`['python', 'hello', 'nice']`"
   ]
  },
  {
   "cell_type": "code",
   "execution_count": 8,
   "id": "9c040d24",
   "metadata": {},
   "outputs": [],
   "source": [
    "a = [\"python\", \"I\", \"be\", \"hello\", \"ok\", \"nice\"]\n"
   ]
  },
  {
   "cell_type": "code",
   "execution_count": 9,
   "id": "5d30a55a",
   "metadata": {},
   "outputs": [],
   "source": [
    "def helper(s):\n",
    "    return len(s) >= 3\n",
    "\n",
    "# Lambda version = lambda s: len(s) >= 3"
   ]
  },
  {
   "cell_type": "code",
   "execution_count": 11,
   "id": "578dbf80",
   "metadata": {},
   "outputs": [
    {
     "name": "stdout",
     "output_type": "stream",
     "text": [
      "['python', 'hello', 'nice']\n"
     ]
    }
   ],
   "source": [
    "b = list(filter(helper, a))\n",
    "print(b)"
   ]
  },
  {
   "cell_type": "code",
   "execution_count": 12,
   "id": "6de9e5f0",
   "metadata": {},
   "outputs": [
    {
     "name": "stdout",
     "output_type": "stream",
     "text": [
      "['python', 'hello', 'nice']\n"
     ]
    }
   ],
   "source": [
    "b = list(filter(lambda s: len(s) >= 3, a))\n",
    "print(b)"
   ]
  },
  {
   "cell_type": "code",
   "execution_count": null,
   "id": "8a818a40",
   "metadata": {},
   "outputs": [],
   "source": []
  },
  {
   "cell_type": "code",
   "execution_count": null,
   "id": "6667b0b5",
   "metadata": {},
   "outputs": [],
   "source": []
  },
  {
   "cell_type": "markdown",
   "id": "c21ac016",
   "metadata": {},
   "source": [
    "#### Quiz 3\n",
    "```py\n",
    "def check(s):\n",
    "    return s.startswith(\"ch\")\n",
    "\n",
    "a = [\"channel\", \"child\", \"cat\", \"chemistry\", \"code\"]\n",
    "\n",
    "list(filter(check, a))\n",
    "```"
   ]
  },
  {
   "cell_type": "code",
   "execution_count": 13,
   "id": "422f9792",
   "metadata": {},
   "outputs": [
    {
     "data": {
      "text/plain": [
       "['channel', 'child', 'chemistry']"
      ]
     },
     "execution_count": 13,
     "metadata": {},
     "output_type": "execute_result"
    }
   ],
   "source": [
    "def check(s):\n",
    "    return s.startswith(\"ch\")\n",
    "\n",
    "a = [\"channel\", \"child\", \"cat\", \"chemistry\", \"code\"]\n",
    "\n",
    "list(filter(check, a))"
   ]
  },
  {
   "cell_type": "code",
   "execution_count": null,
   "id": "dc9c3158",
   "metadata": {},
   "outputs": [],
   "source": []
  },
  {
   "cell_type": "code",
   "execution_count": null,
   "id": "79391107",
   "metadata": {},
   "outputs": [],
   "source": []
  },
  {
   "cell_type": "code",
   "execution_count": 16,
   "id": "46ccd4a9",
   "metadata": {},
   "outputs": [
    {
     "name": "stdout",
     "output_type": "stream",
     "text": [
      "[{'name': 'B', 'marks': 100}, {'name': 'C', 'marks': 80}]\n"
     ]
    }
   ],
   "source": [
    "# List of dictionaries\n",
    "students = [\n",
    "    {\"name\": \"A\", \"marks\": 50},\n",
    "    {\"name\": \"B\", \"marks\": 100},\n",
    "    {\"name\": \"C\", \"marks\": 80},\n",
    "    {\"name\": \"D\", \"marks\": 70},\n",
    "    {\"name\": \"E\", \"marks\": 60},\n",
    "]\n",
    "\n",
    "# Criteria function\n",
    "def topScorer(x):\n",
    "    return x[\"marks\"] >= 80\n",
    "\n",
    "# Filter out all students who got marks >= 80\n",
    "filteredStudents = list(filter(topScorer, students))\n",
    "print(filteredStudents)"
   ]
  },
  {
   "cell_type": "code",
   "execution_count": 17,
   "id": "3e029ad3",
   "metadata": {},
   "outputs": [
    {
     "name": "stdout",
     "output_type": "stream",
     "text": [
      "[{'name': 'B', 'marks': 100}, {'name': 'C', 'marks': 80}]\n"
     ]
    }
   ],
   "source": [
    "filteredStudents = list(filter(lambda x: x[\"marks\"] >= 80, students))\n",
    "print(filteredStudents)"
   ]
  },
  {
   "cell_type": "code",
   "execution_count": null,
   "id": "1bdcbb54",
   "metadata": {},
   "outputs": [],
   "source": []
  },
  {
   "cell_type": "markdown",
   "id": "1e458a62",
   "metadata": {},
   "source": [
    "## Higher Order Function"
   ]
  },
  {
   "cell_type": "code",
   "execution_count": null,
   "id": "62a73842",
   "metadata": {},
   "outputs": [],
   "source": [
    "# A function that takes or returns a function"
   ]
  },
  {
   "cell_type": "code",
   "execution_count": 23,
   "id": "6342c44b",
   "metadata": {},
   "outputs": [
    {
     "name": "stdout",
     "output_type": "stream",
     "text": [
      "32\n",
      "9\n",
      "1000\n"
     ]
    }
   ],
   "source": [
    "def generatePower(n):\n",
    "    def exponent(x):\n",
    "        return x ** n\n",
    "    return exponent\n",
    "\n",
    "exp5 = generatePower(5)\n",
    "print(exp5(2))\n",
    "\n",
    "exp2 = generatePower(2)\n",
    "print(exp2(3))\n",
    "\n",
    "exp3 = generatePower(3)\n",
    "print(exp3(10))"
   ]
  },
  {
   "cell_type": "code",
   "execution_count": 24,
   "id": "e21c964f",
   "metadata": {},
   "outputs": [
    {
     "data": {
      "text/plain": [
       "243"
      ]
     },
     "execution_count": 24,
     "metadata": {},
     "output_type": "execute_result"
    }
   ],
   "source": [
    "exp5(3)"
   ]
  },
  {
   "cell_type": "code",
   "execution_count": null,
   "id": "2da86de5",
   "metadata": {},
   "outputs": [],
   "source": []
  },
  {
   "cell_type": "code",
   "execution_count": 21,
   "id": "d741ee67",
   "metadata": {},
   "outputs": [
    {
     "name": "stdout",
     "output_type": "stream",
     "text": [
      "<function generatePower.<locals>.exponent at 0x10bd8eb80>\n"
     ]
    }
   ],
   "source": [
    "print(exp5)"
   ]
  },
  {
   "cell_type": "code",
   "execution_count": null,
   "id": "d61f5ad7",
   "metadata": {},
   "outputs": [],
   "source": []
  },
  {
   "cell_type": "code",
   "execution_count": null,
   "id": "3bc13949",
   "metadata": {},
   "outputs": [],
   "source": []
  },
  {
   "cell_type": "code",
   "execution_count": null,
   "id": "bf6a43ab",
   "metadata": {},
   "outputs": [],
   "source": []
  },
  {
   "cell_type": "code",
   "execution_count": null,
   "id": "33e0e29a",
   "metadata": {},
   "outputs": [],
   "source": []
  },
  {
   "cell_type": "markdown",
   "id": "3071010f",
   "metadata": {},
   "source": [
    "#### Quiz 4\n",
    "```py\n",
    "def suffixGenerator(suffix):\n",
    "    def join(prefix):\n",
    "        return prefix + \" \" + suffix\n",
    "    return join\n",
    "\n",
    "join = suffixGenerator(\"The Dark Knight\")\n",
    "\n",
    "print(join(\"Returns\"))\n",
    "```"
   ]
  },
  {
   "cell_type": "code",
   "execution_count": 25,
   "id": "0a8d2952",
   "metadata": {},
   "outputs": [
    {
     "name": "stdout",
     "output_type": "stream",
     "text": [
      "Returns The Dark Knight\n"
     ]
    }
   ],
   "source": [
    "def suffixGenerator(suffix):\n",
    "    def join(prefix):\n",
    "        return prefix + \" \" + suffix\n",
    "    return join\n",
    "\n",
    "join = suffixGenerator(\"The Dark Knight\")\n",
    "\n",
    "print(join(\"Returns\"))"
   ]
  },
  {
   "cell_type": "code",
   "execution_count": null,
   "id": "e2ee7523",
   "metadata": {},
   "outputs": [],
   "source": [
    "# The power of higher order functions and the benefits of it will become clear with the concept of \"Decorators\"\n",
    "# Decorators will be covered in the next class"
   ]
  },
  {
   "cell_type": "code",
   "execution_count": null,
   "id": "845ccc5f",
   "metadata": {},
   "outputs": [],
   "source": []
  },
  {
   "cell_type": "code",
   "execution_count": null,
   "id": "059c7890",
   "metadata": {},
   "outputs": [],
   "source": []
  },
  {
   "cell_type": "markdown",
   "id": "11429b1c",
   "metadata": {},
   "source": [
    "## Reference Material\n",
    "- https://www.scaler.com/topics/filter-function-in-python/\n",
    "- https://www.scaler.com/topics/how-to-use-lambda-functions-in-python/\n",
    "- https://www.scaler.com/topics/python/lambda-and-anonymous-function-in-python/\n",
    "- https://www.scaler.com/topics/functional-programming-in-python/\n",
    "- https://www.scaler.com/topics/java/oop-vs-functional-vs-procedural/\n",
    "- https://www.scaler.com/topics/python/python-decorators/"
   ]
  },
  {
   "cell_type": "code",
   "execution_count": null,
   "id": "3dbfb4a2",
   "metadata": {},
   "outputs": [],
   "source": []
  },
  {
   "cell_type": "code",
   "execution_count": null,
   "id": "65156626",
   "metadata": {},
   "outputs": [],
   "source": []
  },
  {
   "cell_type": "markdown",
   "id": "5a91d1eb",
   "metadata": {},
   "source": [
    "# Doubts"
   ]
  },
  {
   "cell_type": "code",
   "execution_count": 26,
   "id": "e976c206",
   "metadata": {},
   "outputs": [
    {
     "data": {
      "text/plain": [
       "[{'name': 'C', 'marks': 40},\n",
       " {'name': 'A', 'marks': 50},\n",
       " {'name': 'E', 'marks': 60},\n",
       " {'name': 'D', 'marks': 70},\n",
       " {'name': 'B', 'marks': 100}]"
      ]
     },
     "execution_count": 26,
     "metadata": {},
     "output_type": "execute_result"
    }
   ],
   "source": [
    "# List of dicts\n",
    "students = [\n",
    "    {\"name\": \"A\", \"marks\": 50},\n",
    "    {\"name\": \"B\", \"marks\": 100},\n",
    "    {\"name\": \"C\", \"marks\": 40},\n",
    "    {\"name\": \"D\", \"marks\": 70},\n",
    "    {\"name\": \"E\", \"marks\": 60},\n",
    "]\n",
    "\n",
    "def get_marks(st):\n",
    "    return st[\"marks\"]\n",
    "\n",
    "sortedStudents = sorted(students, key=get_marks)\n",
    "sortedStudents"
   ]
  },
  {
   "cell_type": "code",
   "execution_count": 27,
   "id": "c8ff9c1d",
   "metadata": {},
   "outputs": [
    {
     "data": {
      "text/plain": [
       "[{'name': 'C', 'marks': 40},\n",
       " {'name': 'A', 'marks': 50},\n",
       " {'name': 'E', 'marks': 60},\n",
       " {'name': 'D', 'marks': 70},\n",
       " {'name': 'B', 'marks': 100}]"
      ]
     },
     "execution_count": 27,
     "metadata": {},
     "output_type": "execute_result"
    }
   ],
   "source": [
    "sortedStudents = sorted(students, key=lambda x: x[\"marks\"])\n",
    "sortedStudents"
   ]
  },
  {
   "cell_type": "code",
   "execution_count": null,
   "id": "c482c481",
   "metadata": {},
   "outputs": [],
   "source": []
  },
  {
   "cell_type": "code",
   "execution_count": null,
   "id": "dfe2f126",
   "metadata": {},
   "outputs": [],
   "source": []
  },
  {
   "cell_type": "code",
   "execution_count": 29,
   "id": "74193af3",
   "metadata": {},
   "outputs": [],
   "source": [
    "def myHigherOrderFunction(arr: list[int], criteria):\n",
    "    for x in arr:\n",
    "        if criteria(x):\n",
    "            print(x)"
   ]
  },
  {
   "cell_type": "code",
   "execution_count": 30,
   "id": "4feaa8c3",
   "metadata": {},
   "outputs": [
    {
     "name": "stdout",
     "output_type": "stream",
     "text": [
      "5\n",
      "2\n",
      "7\n",
      "3\n",
      "1\n"
     ]
    }
   ],
   "source": [
    "a = [5, 2, 7, 0, -6, -10, 3, 1]\n",
    "\n",
    "\n",
    "myHigherOrderFunction(a, lambda x: x > 0)"
   ]
  },
  {
   "cell_type": "code",
   "execution_count": 31,
   "id": "9ab6ed8e",
   "metadata": {},
   "outputs": [
    {
     "name": "stdout",
     "output_type": "stream",
     "text": [
      "-6\n",
      "-10\n"
     ]
    }
   ],
   "source": [
    "myHigherOrderFunction(a, lambda x: x < 0)"
   ]
  },
  {
   "cell_type": "code",
   "execution_count": 33,
   "id": "96e9ab9f",
   "metadata": {},
   "outputs": [
    {
     "name": "stdout",
     "output_type": "stream",
     "text": [
      "5\n",
      "7\n",
      "-6\n",
      "-10\n"
     ]
    }
   ],
   "source": [
    "myHigherOrderFunction(a, lambda x: abs(x) >= 5)"
   ]
  },
  {
   "cell_type": "code",
   "execution_count": null,
   "id": "a3c42b8b",
   "metadata": {},
   "outputs": [],
   "source": []
  },
  {
   "cell_type": "code",
   "execution_count": null,
   "id": "84f93be9",
   "metadata": {},
   "outputs": [],
   "source": []
  },
  {
   "cell_type": "code",
   "execution_count": 32,
   "id": "79e068ab",
   "metadata": {},
   "outputs": [
    {
     "data": {
      "text/plain": [
       "True"
      ]
     },
     "execution_count": 32,
     "metadata": {},
     "output_type": "execute_result"
    }
   ],
   "source": [
    "(lambda x: abs(x) >= 5)(-6)"
   ]
  },
  {
   "cell_type": "code",
   "execution_count": 34,
   "id": "60dd5b89",
   "metadata": {},
   "outputs": [
    {
     "name": "stdout",
     "output_type": "stream",
     "text": [
      "[7, 9, 6, 13, 8]\n"
     ]
    }
   ],
   "source": [
    "a = [2, 4, 1, 8, 3]\n",
    "b = [x+5 for x in a]\n",
    "\n",
    "print(b)"
   ]
  },
  {
   "cell_type": "code",
   "execution_count": null,
   "id": "f19be8f0",
   "metadata": {},
   "outputs": [],
   "source": []
  }
 ],
 "metadata": {
  "kernelspec": {
   "display_name": "Python 3 (ipykernel)",
   "language": "python",
   "name": "python3"
  },
  "language_info": {
   "codemirror_mode": {
    "name": "ipython",
    "version": 3
   },
   "file_extension": ".py",
   "mimetype": "text/x-python",
   "name": "python",
   "nbconvert_exporter": "python",
   "pygments_lexer": "ipython3",
   "version": "3.9.12"
  },
  "vscode": {
   "interpreter": {
    "hash": "b0fa6594d8f4cbf19f97940f81e996739fb7646882a419484c72d19e05852a7e"
   }
  }
 },
 "nbformat": 4,
 "nbformat_minor": 5
}
