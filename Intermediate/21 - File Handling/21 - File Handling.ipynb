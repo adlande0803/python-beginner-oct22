{
  "cells": [
    {
      "attachments": {},
      "cell_type": "markdown",
      "id": "iRhaEOiA8orP",
      "metadata": {
        "id": "iRhaEOiA8orP"
      },
      "source": [
        "# <u>File handling</u>\n",
        "- All our variables, functions, classes are load on RAM and get removed as the program done executing.\n",
        "- We use to save on Secondary memory in order to keep the things even when program is done executing\n",
        "- We use ASCII encoding the encode our data into numbers and then it can be stored in secondary memory\n",
        "- Everything in memory is sequence of bytes or byte array example: .exe files\n"
      ]
    },
    {
      "cell_type": "code",
      "execution_count": null,
      "id": "7b9853a9",
      "metadata": {},
      "outputs": [],
      "source": []
    },
    {
      "attachments": {},
      "cell_type": "markdown",
      "id": "e57fa710",
      "metadata": {
        "id": "e57fa710"
      },
      "source": [
        "### Working with Files\n",
        "\n",
        "Let's say we have some file in my memory and 2 python programs are simulatenously working on that file.\n",
        "\n",
        "Should it be allowed?\n",
        "\n",
        "Well if both are trying to read the file then it is okay, but if both are writing on the file or any of them is reading and other writing then it is a disastrous condition.\n",
        "\n",
        "We need to put lock on the access of file in such condition\n"
      ]
    },
    {
      "cell_type": "code",
      "execution_count": null,
      "id": "3b52533e",
      "metadata": {},
      "outputs": [],
      "source": []
    },
    {
      "attachments": {},
      "cell_type": "markdown",
      "id": "7bf9ead2",
      "metadata": {
        "id": "7bf9ead2"
      },
      "source": [
        "### File Access Modes\n",
        "\n",
        ">Access modes govern the type of operations possible in the opened file. It refers to how the file will be used once its opened. These modes also define the location of the File Handle in the file. File handle is like a cursor, which defines from where the data has to be read or written in the file. There are 6 access modes in python.\n",
        "\n",
        "- **Read Only (‘r’)** : Open text file for reading. The handle is positioned at the beginning of the file. If the file does not exists, raises I/O error. This is also the default mode in which file is opened.\n",
        "\n",
        "\n",
        "- **Read and Write (‘r+’)** : Open the file for reading and writing. The handle is positioned at the beginning of the file. Raises I/O error if the file does not exists.\n",
        "\n",
        "\n",
        "- **Write Only (‘w’)** : Open the file for writing. For existing file, the data is truncated and over-written. The handle is positioned at the beginning of the file. Creates the file if the file does not exists.\n",
        "\n",
        "\n",
        "- **Write and Read (‘w+’)** : Open the file for reading and writing. For existing file, data is truncated and over-written. The handle is positioned at the beginning of the file.\n",
        "\n",
        "\n",
        "- **Append Only (‘a’)** : Open the file for writing. The file is created if it does not exist. The handle is positioned at the end of the file. The data being written will be inserted at the end, after the existing data.\n",
        "\n",
        "\n",
        "- **Append and Read (‘a+’)** : Open the file for reading and writing. The file is created if it does not exist. The handle is positioned at the end of the file. The data being written will be inserted at the end, after the existing data."
      ]
    },
    {
      "cell_type": "markdown",
      "id": "52edf9b6",
      "metadata": {
        "id": "52edf9b6"
      },
      "source": [
        "### Opening a file"
      ]
    },
    {
      "cell_type": "code",
      "execution_count": 1,
      "id": "8263a39e",
      "metadata": {
        "colab": {
          "base_uri": "https://localhost:8080/",
          "height": 169
        },
        "id": "8263a39e",
        "outputId": "ba5f3061-2191-4147-a694-839dc1466984"
      },
      "outputs": [],
      "source": [
        "file = open(\"sample.txt\", \"r\")\n",
        "# Python has opened the 'sample.txt' file in my program"
      ]
    },
    {
      "cell_type": "code",
      "execution_count": 2,
      "id": "4d31bf4c",
      "metadata": {
        "id": "4d31bf4c"
      },
      "outputs": [
        {
          "data": {
            "text/plain": [
              "'Hello world\\nHow are you ?\\nGood morning to you\\nGood evening to you'"
            ]
          },
          "execution_count": 2,
          "metadata": {},
          "output_type": "execute_result"
        }
      ],
      "source": [
        "file.read()\n",
        "# This function reads the content of the file"
      ]
    },
    {
      "cell_type": "code",
      "execution_count": null,
      "id": "cc1c327b",
      "metadata": {
        "id": "cc1c327b"
      },
      "outputs": [],
      "source": [
        "file.close()\n",
        "# Once you are done performing operations on your file, always remember to close it"
      ]
    },
    {
      "cell_type": "markdown",
      "id": "db877733",
      "metadata": {
        "id": "db877733"
      },
      "source": [
        "### Closing a file\n",
        "- A File should be closed after its use\n",
        "- [Why close python file?](https://realpython.com/why-close-file-python/#:~:text=You've%20learned%20why%20it's,handles%20or%20experiencing%20corrupted%20data)\n",
        "\n",
        "<img src=\"https://d2beiqkhq929f0.cloudfront.net/public_assets/assets/000/019/928/original/Screenshot_2022-11-17_at_10.45.09_AM.png?1668662110\" height=400 width=400>\n",
        "\n",
        "<img src=\"https://d2beiqkhq929f0.cloudfront.net/public_assets/assets/000/019/929/original/Screenshot_2022-11-17_at_10.47.11_AM.png?1668662234\" height=400 width=400>"
      ]
    },
    {
      "cell_type": "code",
      "execution_count": null,
      "id": "c432eb74",
      "metadata": {},
      "outputs": [],
      "source": []
    },
    {
      "attachments": {},
      "cell_type": "markdown",
      "id": "5d4f6dfe",
      "metadata": {
        "id": "5d4f6dfe"
      },
      "source": [
        "### Writing to a file\n",
        "\n",
        "- write - writes the string to the file\n",
        "- writelines - takes an iterable of strings"
      ]
    },
    {
      "cell_type": "code",
      "execution_count": 5,
      "id": "9888d113",
      "metadata": {
        "id": "9888d113"
      },
      "outputs": [],
      "source": [
        "file = open(\"spiderman.txt\", \"w\")\n",
        "# This created the spiderman file"
      ]
    },
    {
      "cell_type": "code",
      "execution_count": 6,
      "id": "96199e59",
      "metadata": {
        "colab": {
          "base_uri": "https://localhost:8080/"
        },
        "id": "96199e59",
        "outputId": "3795dda4-7511-4a31-85fe-60ebdfa8c7b6"
      },
      "outputs": [],
      "source": [
        "file.write(\"Peter Parker 123\")\n",
        "file.close()"
      ]
    },
    {
      "cell_type": "code",
      "execution_count": null,
      "id": "d6e08e95",
      "metadata": {
        "id": "d6e08e95"
      },
      "outputs": [],
      "source": []
    },
    {
      "cell_type": "code",
      "execution_count": 13,
      "id": "32a0d5b4",
      "metadata": {
        "id": "32a0d5b4"
      },
      "outputs": [],
      "source": [
        "file = open(\"sample2.txt\", \"w+\")"
      ]
    },
    {
      "cell_type": "code",
      "execution_count": 14,
      "id": "9709acd3",
      "metadata": {
        "id": "9709acd3"
      },
      "outputs": [],
      "source": [
        "file.writelines([\"Hello\\n\", \"ok\\n\", \"nice\\n\", \"hi\\n\", \"bye\", \"good\"])"
      ]
    },
    {
      "cell_type": "code",
      "execution_count": 15,
      "id": "0e01669e",
      "metadata": {
        "id": "0e01669e"
      },
      "outputs": [],
      "source": [
        "file.close()"
      ]
    },
    {
      "cell_type": "code",
      "execution_count": null,
      "id": "c0280fb1",
      "metadata": {
        "colab": {
          "base_uri": "https://localhost:8080/"
        },
        "id": "c0280fb1",
        "outputId": "b92322d2-021b-4741-e4ed-70e2aae7efe1"
      },
      "outputs": [],
      "source": []
    },
    {
      "cell_type": "markdown",
      "id": "9dca9eb1",
      "metadata": {
        "id": "9dca9eb1"
      },
      "source": [
        "### Reading from a file\n",
        "- read\n",
        "- readline\n",
        "- readlines"
      ]
    },
    {
      "cell_type": "code",
      "execution_count": 19,
      "id": "3704899f",
      "metadata": {},
      "outputs": [],
      "source": [
        "file = open(\"sample2.txt\", \"r\")"
      ]
    },
    {
      "cell_type": "code",
      "execution_count": 20,
      "id": "b2b58482",
      "metadata": {},
      "outputs": [
        {
          "data": {
            "text/plain": [
              "'Hello\\nok\\nnice\\nhi\\nbyegood'"
            ]
          },
          "execution_count": 20,
          "metadata": {},
          "output_type": "execute_result"
        }
      ],
      "source": [
        "file.read()\n",
        "# reads the entire file all at once"
      ]
    },
    {
      "cell_type": "code",
      "execution_count": 21,
      "id": "8323140b",
      "metadata": {},
      "outputs": [],
      "source": [
        "file.close()"
      ]
    },
    {
      "cell_type": "code",
      "execution_count": null,
      "id": "6a53c0e2",
      "metadata": {},
      "outputs": [],
      "source": []
    },
    {
      "cell_type": "code",
      "execution_count": 29,
      "id": "9d2dc05b",
      "metadata": {},
      "outputs": [],
      "source": [
        "file = open(\"sample.txt\", \"r\")"
      ]
    },
    {
      "cell_type": "code",
      "execution_count": 30,
      "id": "a8782e11",
      "metadata": {},
      "outputs": [
        {
          "data": {
            "text/plain": [
              "'Hello world\\n'"
            ]
          },
          "execution_count": 30,
          "metadata": {},
          "output_type": "execute_result"
        }
      ],
      "source": [
        "file.readline()\n",
        "# reads one line at a time"
      ]
    },
    {
      "cell_type": "code",
      "execution_count": 31,
      "id": "f3b99c12",
      "metadata": {},
      "outputs": [
        {
          "data": {
            "text/plain": [
              "'How are you ?\\n'"
            ]
          },
          "execution_count": 31,
          "metadata": {},
          "output_type": "execute_result"
        }
      ],
      "source": [
        "file.readline()"
      ]
    },
    {
      "cell_type": "code",
      "execution_count": 32,
      "id": "563a398c",
      "metadata": {},
      "outputs": [
        {
          "data": {
            "text/plain": [
              "'Good morning to you\\n'"
            ]
          },
          "execution_count": 32,
          "metadata": {},
          "output_type": "execute_result"
        }
      ],
      "source": [
        "file.readline()"
      ]
    },
    {
      "cell_type": "code",
      "execution_count": 33,
      "id": "defb23fd",
      "metadata": {},
      "outputs": [
        {
          "data": {
            "text/plain": [
              "'Good evening to you'"
            ]
          },
          "execution_count": 33,
          "metadata": {},
          "output_type": "execute_result"
        }
      ],
      "source": [
        "file.readline()"
      ]
    },
    {
      "cell_type": "code",
      "execution_count": 34,
      "id": "10cbd226",
      "metadata": {},
      "outputs": [
        {
          "data": {
            "text/plain": [
              "''"
            ]
          },
          "execution_count": 34,
          "metadata": {},
          "output_type": "execute_result"
        }
      ],
      "source": [
        "file.readline()\n",
        "# once you are done reading the file, this function will only return an empty string, no matter how many times you call it"
      ]
    },
    {
      "cell_type": "code",
      "execution_count": 35,
      "id": "5e50b649",
      "metadata": {},
      "outputs": [
        {
          "data": {
            "text/plain": [
              "''"
            ]
          },
          "execution_count": 35,
          "metadata": {},
          "output_type": "execute_result"
        }
      ],
      "source": [
        "file.readline()"
      ]
    },
    {
      "cell_type": "code",
      "execution_count": 28,
      "id": "fd642280",
      "metadata": {},
      "outputs": [],
      "source": [
        "file.close()"
      ]
    },
    {
      "cell_type": "code",
      "execution_count": null,
      "id": "c8084c7d",
      "metadata": {},
      "outputs": [],
      "source": []
    },
    {
      "cell_type": "code",
      "execution_count": null,
      "id": "2b406526",
      "metadata": {},
      "outputs": [],
      "source": []
    },
    {
      "cell_type": "code",
      "execution_count": 36,
      "id": "bc39b6ad",
      "metadata": {},
      "outputs": [
        {
          "name": "stdout",
          "output_type": "stream",
          "text": [
            "['Hello world\\n', 'How are you ?\\n', 'Good morning to you\\n', 'Good evening to you']\n"
          ]
        }
      ],
      "source": [
        "## readlines\n",
        "file = open(\"sample.txt\", \"r+\")\n",
        "print(file.readlines())\n",
        "file.close()\n",
        "\n",
        "# Provides a list of string, where each string is one line"
      ]
    },
    {
      "cell_type": "code",
      "execution_count": null,
      "id": "d7778e3b",
      "metadata": {},
      "outputs": [],
      "source": []
    },
    {
      "cell_type": "code",
      "execution_count": 37,
      "id": "c1f63cb9",
      "metadata": {},
      "outputs": [],
      "source": [
        "# Which method should be use to read the data from a file ? \n",
        "# - read - reads entire file as a string\n",
        "# - readline - reads one line at a time\n",
        "# - readlines - reads entire file as a list of strings"
      ]
    },
    {
      "cell_type": "code",
      "execution_count": null,
      "id": "50fd5577",
      "metadata": {},
      "outputs": [],
      "source": []
    },
    {
      "cell_type": "code",
      "execution_count": 38,
      "id": "8ae6fdcc",
      "metadata": {},
      "outputs": [
        {
          "name": "stdout",
          "output_type": "stream",
          "text": [
            "Hello world\n",
            "\n",
            "How are you ?\n",
            "\n",
            "Good morning to you\n",
            "\n",
            "Good evening to you\n"
          ]
        }
      ],
      "source": [
        "# Option 1 - To read using the 'readline' function only\n",
        "\n",
        "file = open(\"sample.txt\", \"r\")\n",
        "\n",
        "line = file.readline()\n",
        "\n",
        "while line:\n",
        "    print(line)\n",
        "    line = file.readline()\n",
        "\n",
        "file.close()"
      ]
    },
    {
      "cell_type": "code",
      "execution_count": null,
      "id": "ef69d671",
      "metadata": {},
      "outputs": [],
      "source": []
    },
    {
      "cell_type": "code",
      "execution_count": 41,
      "id": "c5ca228d",
      "metadata": {},
      "outputs": [
        {
          "name": "stdout",
          "output_type": "stream",
          "text": [
            "Hello world\n",
            "\n",
            "How are you ?\n",
            "\n",
            "Good morning to you\n",
            "\n",
            "Good evening to you\n"
          ]
        }
      ],
      "source": [
        "# Option 2 - To read using 'readlines' function\n",
        "\n",
        "file = open(\"sample.txt\", \"r\")\n",
        "\n",
        "for line in file.readlines():\n",
        "    print(line)\n",
        "\n",
        "file.close()"
      ]
    },
    {
      "cell_type": "code",
      "execution_count": null,
      "id": "9ad4858a",
      "metadata": {},
      "outputs": [],
      "source": [
        "# If you have a very large file (50 GB)\n",
        "# The 2nd method fetches all data from the file at the once\n",
        "# 50 million lines of data\n",
        "# Option 2 will read 50 mil lines all at once and try to load it into RAM\n",
        "# Your program will crash, in a good case\n",
        "# In a bad case, your computer will crash"
      ]
    },
    {
      "cell_type": "code",
      "execution_count": null,
      "id": "69b7d4fa",
      "metadata": {},
      "outputs": [],
      "source": [
        "# First method reads one line at a time\n",
        "# Drawback - It is slightly slower"
      ]
    },
    {
      "cell_type": "code",
      "execution_count": null,
      "id": "1dad0954",
      "metadata": {},
      "outputs": [],
      "source": [
        "# If you are working with small files - Option 2 is better\n",
        "# If you are working with large files - Option 1 is better"
      ]
    },
    {
      "cell_type": "code",
      "execution_count": null,
      "id": "12529ca9",
      "metadata": {},
      "outputs": [],
      "source": []
    },
    {
      "cell_type": "code",
      "execution_count": null,
      "id": "b521d834",
      "metadata": {},
      "outputs": [],
      "source": [
        "# Break till 10:15 PM"
      ]
    },
    {
      "cell_type": "code",
      "execution_count": null,
      "id": "841a9c7b",
      "metadata": {},
      "outputs": [],
      "source": []
    },
    {
      "attachments": {},
      "cell_type": "markdown",
      "id": "736e9015",
      "metadata": {},
      "source": [
        "r+ and w+ - Allow both read and write operations"
      ]
    },
    {
      "cell_type": "code",
      "execution_count": 42,
      "id": "9dd90305",
      "metadata": {},
      "outputs": [
        {
          "ename": "FileNotFoundError",
          "evalue": "[Errno 2] No such file or directory: 'sample3.txt'",
          "output_type": "error",
          "traceback": [
            "\u001b[0;31m---------------------------------------------------------------------------\u001b[0m",
            "\u001b[0;31mFileNotFoundError\u001b[0m                         Traceback (most recent call last)",
            "\u001b[0;32m/var/folders/jn/1bsrct314hv5xmfm7vrcdrzc0000gn/T/ipykernel_46943/4000673805.py\u001b[0m in \u001b[0;36m<module>\u001b[0;34m\u001b[0m\n\u001b[0;32m----> 1\u001b[0;31m \u001b[0mfile\u001b[0m \u001b[0;34m=\u001b[0m \u001b[0mopen\u001b[0m\u001b[0;34m(\u001b[0m\u001b[0;34m\"sample3.txt\"\u001b[0m\u001b[0;34m,\u001b[0m \u001b[0;34m\"r+\"\u001b[0m\u001b[0;34m)\u001b[0m\u001b[0;34m\u001b[0m\u001b[0;34m\u001b[0m\u001b[0m\n\u001b[0m\u001b[1;32m      2\u001b[0m \u001b[0mprint\u001b[0m\u001b[0;34m(\u001b[0m\u001b[0mfile\u001b[0m\u001b[0;34m.\u001b[0m\u001b[0mread\u001b[0m\u001b[0;34m(\u001b[0m\u001b[0;34m)\u001b[0m\u001b[0;34m)\u001b[0m\u001b[0;34m\u001b[0m\u001b[0;34m\u001b[0m\u001b[0m\n\u001b[1;32m      3\u001b[0m \u001b[0mfile\u001b[0m\u001b[0;34m.\u001b[0m\u001b[0mclose\u001b[0m\u001b[0;34m(\u001b[0m\u001b[0;34m)\u001b[0m\u001b[0;34m\u001b[0m\u001b[0;34m\u001b[0m\u001b[0m\n",
            "\u001b[0;31mFileNotFoundError\u001b[0m: [Errno 2] No such file or directory: 'sample3.txt'"
          ]
        }
      ],
      "source": [
        "file = open(\"sample3.txt\", \"r+\")\n",
        "print(file.read())\n",
        "file.close()"
      ]
    },
    {
      "cell_type": "code",
      "execution_count": 43,
      "id": "77fd628d",
      "metadata": {},
      "outputs": [],
      "source": [
        "file = open(\"sample3.txt\", \"w+\")"
      ]
    },
    {
      "cell_type": "code",
      "execution_count": 44,
      "id": "ea970adb",
      "metadata": {},
      "outputs": [],
      "source": [
        "file.write(\"hello how are you doing today ? good morning.\")\n",
        "file.close()"
      ]
    },
    {
      "cell_type": "code",
      "execution_count": null,
      "id": "6d336f39",
      "metadata": {},
      "outputs": [],
      "source": []
    },
    {
      "cell_type": "code",
      "execution_count": 50,
      "id": "db353e0b",
      "metadata": {},
      "outputs": [],
      "source": [
        "file = open(\"sample3.txt\", \"r+\")"
      ]
    },
    {
      "cell_type": "code",
      "execution_count": 51,
      "id": "2b0aa040",
      "metadata": {},
      "outputs": [
        {
          "data": {
            "text/plain": [
              "'hello how are you doing today ? good morning.Python is amazing'"
            ]
          },
          "execution_count": 51,
          "metadata": {},
          "output_type": "execute_result"
        }
      ],
      "source": [
        "file.readline()"
      ]
    },
    {
      "cell_type": "code",
      "execution_count": 52,
      "id": "f5a28c9b",
      "metadata": {},
      "outputs": [
        {
          "data": {
            "text/plain": [
              "15"
            ]
          },
          "execution_count": 52,
          "metadata": {},
          "output_type": "execute_result"
        }
      ],
      "source": [
        "file.write(\"\\nC++ is awesome\")"
      ]
    },
    {
      "cell_type": "code",
      "execution_count": 53,
      "id": "c24ca2c1",
      "metadata": {},
      "outputs": [],
      "source": [
        "file.close()"
      ]
    },
    {
      "cell_type": "code",
      "execution_count": null,
      "id": "0ee75435",
      "metadata": {},
      "outputs": [],
      "source": [
        "# r+ gives an error if the file is not present\n",
        "# w+ creates the file if it is not present\n",
        "# Rest of the working is same for both"
      ]
    },
    {
      "cell_type": "code",
      "execution_count": null,
      "id": "32450c57",
      "metadata": {},
      "outputs": [],
      "source": []
    },
    {
      "attachments": {},
      "cell_type": "markdown",
      "id": "18b16bc1",
      "metadata": {},
      "source": [
        "### Reading chunks "
      ]
    },
    {
      "cell_type": "code",
      "execution_count": null,
      "id": "9b0b0771",
      "metadata": {},
      "outputs": [],
      "source": [
        "# Sometimes you do not wish to read all data at once\n",
        "# Possible reason: That there is a big file that you will not be able to store all at once in your RAM\n",
        "# You wish to read chunk by chunk"
      ]
    },
    {
      "cell_type": "code",
      "execution_count": 54,
      "id": "8492e568",
      "metadata": {},
      "outputs": [],
      "source": [
        "file = open(\"sample.txt\", \"r\")"
      ]
    },
    {
      "cell_type": "code",
      "execution_count": 55,
      "id": "e26c24d5",
      "metadata": {},
      "outputs": [
        {
          "data": {
            "text/plain": [
              "'Hello'"
            ]
          },
          "execution_count": 55,
          "metadata": {},
          "output_type": "execute_result"
        }
      ],
      "source": [
        "file.read(5)\n",
        "# read() takes the number of bytes you wish to read as an argument"
      ]
    },
    {
      "cell_type": "code",
      "execution_count": 56,
      "id": "a1258c0f",
      "metadata": {},
      "outputs": [
        {
          "data": {
            "text/plain": [
              "' wo'"
            ]
          },
          "execution_count": 56,
          "metadata": {},
          "output_type": "execute_result"
        }
      ],
      "source": [
        "file.read(3)"
      ]
    },
    {
      "cell_type": "code",
      "execution_count": 57,
      "id": "b455e32a",
      "metadata": {},
      "outputs": [],
      "source": [
        "file.close()"
      ]
    },
    {
      "cell_type": "code",
      "execution_count": null,
      "id": "5763ed9a",
      "metadata": {},
      "outputs": [],
      "source": []
    },
    {
      "cell_type": "code",
      "execution_count": 58,
      "id": "4deea427",
      "metadata": {},
      "outputs": [
        {
          "name": "stdout",
          "output_type": "stream",
          "text": [
            "Hello\n",
            " worl\n",
            "d\n",
            "How\n",
            " are \n",
            "you ?\n",
            "\n",
            "Good\n",
            " morn\n",
            "ing t\n",
            "o you\n",
            "\n",
            "Good\n",
            " even\n",
            "ing t\n",
            "o you\n"
          ]
        }
      ],
      "source": [
        "file = open(\"sample.txt\", \"r\")\n",
        "\n",
        "while True:\n",
        "    chunk = file.read(5)\n",
        "\n",
        "    if not chunk:\n",
        "        break\n",
        "\n",
        "    print(chunk)\n",
        "\n",
        "file.close()"
      ]
    },
    {
      "cell_type": "code",
      "execution_count": null,
      "id": "84928d97",
      "metadata": {},
      "outputs": [],
      "source": []
    },
    {
      "cell_type": "code",
      "execution_count": null,
      "id": "b8ee0bb5",
      "metadata": {},
      "outputs": [],
      "source": []
    },
    {
      "attachments": {},
      "cell_type": "markdown",
      "id": "49g6FKE-FfdZ",
      "metadata": {
        "id": "49g6FKE-FfdZ"
      },
      "source": [
        "### Task:\n",
        "Read image and create its copy\n"
      ]
    },
    {
      "cell_type": "code",
      "execution_count": 61,
      "id": "1e04870a",
      "metadata": {
        "id": "1e04870a"
      },
      "outputs": [],
      "source": [
        "source = open(\"lake.jpeg\", \"rb+\") # b stands for binary files -> Any file for which encoding is not known\n",
        "destination = open(\"mountain.jpeg\", \"wb+\")"
      ]
    },
    {
      "cell_type": "code",
      "execution_count": 62,
      "id": "19cd5630",
      "metadata": {},
      "outputs": [],
      "source": [
        "# Read data from source, chunk by chunk and write it to the destination\n",
        "while True:\n",
        "    chunk = source.read(256)\n",
        "    # Reading chunks from the source file of size = 256 bytes\n",
        "\n",
        "    if not chunk:\n",
        "        break\n",
        "\n",
        "    destination.write(chunk)\n",
        "\n",
        "source.close()\n",
        "destination.close()"
      ]
    },
    {
      "cell_type": "code",
      "execution_count": null,
      "id": "3f8332e5",
      "metadata": {},
      "outputs": [],
      "source": []
    },
    {
      "cell_type": "code",
      "execution_count": null,
      "id": "a508ad8a",
      "metadata": {
        "id": "a508ad8a"
      },
      "outputs": [],
      "source": []
    },
    {
      "cell_type": "code",
      "execution_count": null,
      "id": "7a6556af",
      "metadata": {
        "id": "7a6556af"
      },
      "outputs": [],
      "source": []
    },
    {
      "cell_type": "markdown",
      "id": "68fce312",
      "metadata": {
        "id": "68fce312"
      },
      "source": [
        "### Moving the cursor\n",
        "\n",
        "- seek(n) : takes the file read handle to the nth byte from the beginning."
      ]
    },
    {
      "cell_type": "code",
      "execution_count": 63,
      "id": "f77a5a94",
      "metadata": {
        "id": "f77a5a94"
      },
      "outputs": [],
      "source": [
        "file = open(\"sample.txt\", \"r\")"
      ]
    },
    {
      "cell_type": "code",
      "execution_count": 64,
      "id": "1fd8440f",
      "metadata": {
        "colab": {
          "base_uri": "https://localhost:8080/",
          "height": 35
        },
        "id": "1fd8440f",
        "outputId": "b6d8f745-056f-461e-fc38-1e197310dbe5"
      },
      "outputs": [
        {
          "data": {
            "text/plain": [
              "'Hello world\\n'"
            ]
          },
          "execution_count": 64,
          "metadata": {},
          "output_type": "execute_result"
        }
      ],
      "source": [
        "file.readline()"
      ]
    },
    {
      "cell_type": "code",
      "execution_count": 66,
      "id": "2fc91e98",
      "metadata": {
        "colab": {
          "base_uri": "https://localhost:8080/",
          "height": 35
        },
        "id": "2fc91e98",
        "outputId": "9248e77a-465c-46b1-b056-e6f56cafa95f"
      },
      "outputs": [
        {
          "data": {
            "text/plain": [
              "'How are you ?\\n'"
            ]
          },
          "execution_count": 66,
          "metadata": {},
          "output_type": "execute_result"
        }
      ],
      "source": [
        "file.readline()"
      ]
    },
    {
      "cell_type": "code",
      "execution_count": 67,
      "id": "9947de98",
      "metadata": {
        "colab": {
          "base_uri": "https://localhost:8080/"
        },
        "id": "9947de98",
        "outputId": "4ad4e578-8353-481c-ab35-b69ee6a45a1d"
      },
      "outputs": [
        {
          "data": {
            "text/plain": [
              "0"
            ]
          },
          "execution_count": 67,
          "metadata": {},
          "output_type": "execute_result"
        }
      ],
      "source": [
        "# For some reason, I wish to go back to the starting of the file\n",
        "file.seek(0)"
      ]
    },
    {
      "cell_type": "code",
      "execution_count": 68,
      "id": "4e152a73",
      "metadata": {
        "colab": {
          "base_uri": "https://localhost:8080/",
          "height": 35
        },
        "id": "4e152a73",
        "outputId": "9d3b8d40-eab3-462d-c664-73c6ca08649a"
      },
      "outputs": [
        {
          "data": {
            "text/plain": [
              "'Hello world\\n'"
            ]
          },
          "execution_count": 68,
          "metadata": {},
          "output_type": "execute_result"
        }
      ],
      "source": [
        "file.readline()"
      ]
    },
    {
      "cell_type": "code",
      "execution_count": 69,
      "id": "07ae4f53",
      "metadata": {
        "colab": {
          "base_uri": "https://localhost:8080/"
        },
        "id": "07ae4f53",
        "outputId": "3bb0d380-3c69-4d53-e0d2-612e9487474d"
      },
      "outputs": [
        {
          "data": {
            "text/plain": [
              "'you ?\\n'"
            ]
          },
          "execution_count": 69,
          "metadata": {},
          "output_type": "execute_result"
        }
      ],
      "source": [
        "file.seek(20)\n",
        "file.readline()"
      ]
    },
    {
      "cell_type": "code",
      "execution_count": 70,
      "id": "944c2a1b",
      "metadata": {
        "colab": {
          "base_uri": "https://localhost:8080/",
          "height": 35
        },
        "id": "944c2a1b",
        "outputId": "c5245183-688e-4363-dbda-59c0c27d4ada",
        "scrolled": true
      },
      "outputs": [
        {
          "data": {
            "text/plain": [
              "''"
            ]
          },
          "execution_count": 70,
          "metadata": {},
          "output_type": "execute_result"
        }
      ],
      "source": [
        "file.seek(1000)\n",
        "file.readline()"
      ]
    },
    {
      "cell_type": "code",
      "execution_count": null,
      "id": "3e9e22f4",
      "metadata": {
        "id": "3e9e22f4"
      },
      "outputs": [],
      "source": []
    },
    {
      "cell_type": "markdown",
      "id": "37a4180b",
      "metadata": {
        "id": "37a4180b"
      },
      "source": [
        "### Smarter way of opening files...\n",
        "\n",
        "With the \"with\" statement, you get better syntax and exceptions handling. \n",
        "\n",
        "\"The with statement simplifies exception handling by encapsulating common\n",
        "preparation and cleanup tasks.\"\n",
        "\n",
        "In addition, it will automatically close the file. The with statement provides\n",
        "a way for ensuring that a clean-up is always used.\n"
      ]
    },
    {
      "cell_type": "code",
      "execution_count": 73,
      "id": "c8143fee",
      "metadata": {
        "colab": {
          "base_uri": "https://localhost:8080/"
        },
        "id": "c8143fee",
        "outputId": "fb1dfb49-71a4-47e2-91a9-98a117952b38"
      },
      "outputs": [
        {
          "name": "stdout",
          "output_type": "stream",
          "text": [
            "Hello\n",
            "d\n",
            "How are you ?\n",
            "Good\n"
          ]
        }
      ],
      "source": [
        "with open(\"sample.txt\", \"r\") as file:\n",
        "    # file variable is only accessible inside this block\n",
        "    print(file.read(5))\n",
        "    file.seek(10)\n",
        "    print(file.read(20))\n",
        "\n",
        "# file.read() => Error"
      ]
    },
    {
      "cell_type": "code",
      "execution_count": null,
      "id": "ee7b45d7",
      "metadata": {},
      "outputs": [],
      "source": []
    },
    {
      "cell_type": "code",
      "execution_count": null,
      "id": "5377c714",
      "metadata": {},
      "outputs": [],
      "source": []
    },
    {
      "cell_type": "markdown",
      "id": "FAaaXgB7FvKX",
      "metadata": {
        "id": "FAaaXgB7FvKX"
      },
      "source": [
        "## Reference Articles\n",
        "- https://www.scaler.com/topics/append-to-file-python/\n",
        "- https://www.scaler.com/topics/python-write-list-to-file/\n",
        "- https://www.scaler.com/topics/close-file-python/\n",
        "- https://www.scaler.com/topics/python/how-to-read-a-file-in-python/\n",
        "- https://www.scaler.com/topics/python/how-to-delete-file-in-python/\n",
        "- https://www.scaler.com/topics/python/how-to-write-a-file-in-python/\n",
        "- https://www.scaler.com/topics/python/opening-and-closing-files-in-python/\n",
        "- https://www.scaler.com/topics/read-json-file-in-python/\n",
        "- https://www.scaler.com/topics/python-check-if-file-exists/\n",
        "- https://www.scaler.com/topics/rename-a-file-in-python/"
      ]
    },
    {
      "cell_type": "code",
      "execution_count": null,
      "id": "9e01d451",
      "metadata": {},
      "outputs": [],
      "source": []
    },
    {
      "cell_type": "code",
      "execution_count": null,
      "id": "1072839e",
      "metadata": {},
      "outputs": [],
      "source": []
    },
    {
      "attachments": {},
      "cell_type": "markdown",
      "id": "c709f1cb",
      "metadata": {},
      "source": [
        "# Doubts"
      ]
    },
    {
      "cell_type": "code",
      "execution_count": 74,
      "id": "2d647397",
      "metadata": {},
      "outputs": [],
      "source": [
        "# Thank you for attending"
      ]
    },
    {
      "cell_type": "code",
      "execution_count": 75,
      "id": "2895a011",
      "metadata": {},
      "outputs": [],
      "source": [
        "# Table of students\n",
        "# Analyze the data and make separate files for each row"
      ]
    },
    {
      "cell_type": "code",
      "execution_count": null,
      "id": "fda781c8",
      "metadata": {},
      "outputs": [],
      "source": []
    },
    {
      "cell_type": "code",
      "execution_count": 76,
      "id": "bae9ecb3",
      "metadata": {},
      "outputs": [],
      "source": [
        "# Pixels are stored in the form of RGB values\n",
        "# R => integer\n",
        "# G => integer\n",
        "# B => integer\n",
        "# 1 int => 4 bytes\n",
        "# 1 pixel => 12 bytes"
      ]
    },
    {
      "cell_type": "code",
      "execution_count": null,
      "id": "fe65b34d",
      "metadata": {},
      "outputs": [],
      "source": [
        "# RGBA => 16 bytes"
      ]
    },
    {
      "cell_type": "code",
      "execution_count": null,
      "id": "085de4c3",
      "metadata": {},
      "outputs": [],
      "source": []
    },
    {
      "cell_type": "code",
      "execution_count": 77,
      "id": "e679c79d",
      "metadata": {},
      "outputs": [
        {
          "name": "stdout",
          "output_type": "stream",
          "text": [
            "<_io.TextIOWrapper name='sample.txt' mode='r' encoding='UTF-8'>\n"
          ]
        }
      ],
      "source": [
        "file = open(\"sample.txt\", \"r\")\n",
        "print(file)"
      ]
    },
    {
      "cell_type": "code",
      "execution_count": 78,
      "id": "3c5a328b",
      "metadata": {},
      "outputs": [],
      "source": [
        "def myHigherOrderFunction(arr:list[int],criteria):\n",
        "    for x in arr:\n",
        "        if criteria(x):\n",
        "            print(x)\n",
        "\n",
        "a = [5, 2, 7, 0, -6, -10, 3, 1]"
      ]
    },
    {
      "cell_type": "code",
      "execution_count": 79,
      "id": "6b2df86e",
      "metadata": {},
      "outputs": [
        {
          "name": "stdout",
          "output_type": "stream",
          "text": [
            "-6\n",
            "-10\n"
          ]
        }
      ],
      "source": [
        "myHigherOrderFunction(a, lambda x: x < 0)"
      ]
    },
    {
      "cell_type": "code",
      "execution_count": 80,
      "id": "4639ecd8",
      "metadata": {},
      "outputs": [
        {
          "name": "stdout",
          "output_type": "stream",
          "text": [
            "5\n",
            "7\n",
            "-6\n",
            "-10\n"
          ]
        }
      ],
      "source": [
        "myHigherOrderFunction(a, lambda x: abs(x) >= 5)"
      ]
    },
    {
      "cell_type": "code",
      "execution_count": null,
      "id": "f29864eb",
      "metadata": {},
      "outputs": [],
      "source": []
    },
    {
      "cell_type": "code",
      "execution_count": 81,
      "id": "450cf90a",
      "metadata": {},
      "outputs": [
        {
          "name": "stdout",
          "output_type": "stream",
          "text": [
            "20\n"
          ]
        }
      ],
      "source": [
        "l = [10, 20, 30, 40]\n",
        "a = l[1]\n",
        "print(a)\n",
        "# O(1) operation"
      ]
    },
    {
      "cell_type": "code",
      "execution_count": 1,
      "id": "3d3d894c",
      "metadata": {},
      "outputs": [],
      "source": [
        "file = open(\"testing.txt\", \"w\")\n",
        "file.close()"
      ]
    },
    {
      "cell_type": "code",
      "execution_count": null,
      "id": "44ebb9bf",
      "metadata": {},
      "outputs": [],
      "source": [
        "a  = int(input())"
      ]
    }
  ],
  "metadata": {
    "colab": {
      "collapsed_sections": [
        "9dca9eb1",
        "49g6FKE-FfdZ",
        "68fce312",
        "37a4180b"
      ],
      "provenance": []
    },
    "kernelspec": {
      "display_name": "Python 3",
      "language": "python",
      "name": "python3"
    },
    "language_info": {
      "codemirror_mode": {
        "name": "ipython",
        "version": 3
      },
      "file_extension": ".py",
      "mimetype": "text/x-python",
      "name": "python",
      "nbconvert_exporter": "python",
      "pygments_lexer": "ipython3",
      "version": "3.9.12"
    },
    "vscode": {
      "interpreter": {
        "hash": "b0fa6594d8f4cbf19f97940f81e996739fb7646882a419484c72d19e05852a7e"
      }
    }
  },
  "nbformat": 4,
  "nbformat_minor": 5
}
