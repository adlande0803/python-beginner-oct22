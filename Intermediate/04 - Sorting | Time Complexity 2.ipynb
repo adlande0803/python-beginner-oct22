{
 "cells": [
  {
   "cell_type": "markdown",
   "id": "36c81d35",
   "metadata": {},
   "source": [
    "# Sorting | Time Complexity 2"
   ]
  },
  {
   "cell_type": "code",
   "execution_count": null,
   "id": "1d2e7e23",
   "metadata": {},
   "outputs": [],
   "source": []
  },
  {
   "cell_type": "markdown",
   "id": "4677e070",
   "metadata": {},
   "source": [
    "## Optimised Bubble Sort"
   ]
  },
  {
   "cell_type": "code",
   "execution_count": null,
   "id": "3648a7ea",
   "metadata": {},
   "outputs": [],
   "source": [
    "# Brute Force Bubble sort covered in previous class\n",
    "def bubbleSort(arr):\n",
    "    N = len(arr)\n",
    "    for i in range(N-1):\n",
    "        for j in range(N-1):\n",
    "            if arr[j] > arr[j+1]:\n",
    "                arr[j], arr[j+1] = arr[j+1], arr[j]"
   ]
  },
  {
   "cell_type": "code",
   "execution_count": null,
   "id": "4d8218a1",
   "metadata": {},
   "outputs": [],
   "source": []
  },
  {
   "cell_type": "code",
   "execution_count": 4,
   "id": "a4d66354",
   "metadata": {},
   "outputs": [],
   "source": [
    "# Optimisation - Run the inner loop only till (N - i - 1) times\n",
    "def bubbleSort(arr):\n",
    "    N = len(arr)\n",
    "    for i in range(N-1):\n",
    "        for j in range(N-i-1):\n",
    "            if arr[j] > arr[j+1]:\n",
    "                arr[j], arr[j+1] = arr[j+1], arr[j]"
   ]
  },
  {
   "cell_type": "code",
   "execution_count": 5,
   "id": "a4cc1047",
   "metadata": {},
   "outputs": [
    {
     "name": "stdout",
     "output_type": "stream",
     "text": [
      "[1, 2, 3, 4, 4, 5, 7, 8, 10]\n"
     ]
    }
   ],
   "source": [
    "arr = [10, 8, 2, 4, 5, 1, 7, 3, 4]\n",
    "bubbleSort(arr)\n",
    "print(arr)"
   ]
  },
  {
   "cell_type": "code",
   "execution_count": 6,
   "id": "7cd082ee",
   "metadata": {},
   "outputs": [
    {
     "name": "stdout",
     "output_type": "stream",
     "text": [
      "[1, 2, 3, 4, 5, 6]\n"
     ]
    }
   ],
   "source": [
    "arr2 = [4,2,5,6,1,3]\n",
    "bubbleSort(arr2)\n",
    "print(arr2)"
   ]
  },
  {
   "cell_type": "code",
   "execution_count": null,
   "id": "7b632c71",
   "metadata": {},
   "outputs": [],
   "source": [
    "arr3 = [1, 2, 3, 4, 5, 6, 7, 8]\n",
    "bubbleSort(arr3)\n",
    "print(arr3)"
   ]
  },
  {
   "cell_type": "code",
   "execution_count": 7,
   "id": "a86f4cb9",
   "metadata": {},
   "outputs": [],
   "source": [
    "# Optimisation 2: Put in a check to see if the array is already sorted\n",
    "# Optimisation - Run the inner loop only till (N - i - 1) times\n",
    "def bubbleSortOptimised(arr):\n",
    "    N = len(arr)\n",
    "    for i in range(N-1):\n",
    "        # Assume that the array is already sorted\n",
    "        isSorted = True\n",
    "        \n",
    "        for j in range(N-i-1):\n",
    "            if arr[j] > arr[j+1]:\n",
    "                arr[j], arr[j+1] = arr[j+1], arr[j]\n",
    "                # The assumption was wrong\n",
    "                isSorted = False\n",
    "                \n",
    "        if isSorted:\n",
    "            break"
   ]
  },
  {
   "cell_type": "code",
   "execution_count": null,
   "id": "a5584a3a",
   "metadata": {},
   "outputs": [],
   "source": [
    "# array is unsorted => swapping\n",
    "# if a swap happens => provided array was unsorted "
   ]
  },
  {
   "cell_type": "code",
   "execution_count": 8,
   "id": "8ca838c1",
   "metadata": {},
   "outputs": [
    {
     "name": "stdout",
     "output_type": "stream",
     "text": [
      "[1, 2, 3, 4, 5, 6, 7, 8]\n"
     ]
    }
   ],
   "source": [
    "arr3 = [1, 2, 3, 4, 5, 6, 7, 8]\n",
    "bubbleSortOptimised(arr3)\n",
    "print(arr3)"
   ]
  },
  {
   "cell_type": "code",
   "execution_count": null,
   "id": "2938300a",
   "metadata": {},
   "outputs": [],
   "source": []
  },
  {
   "cell_type": "markdown",
   "id": "12945c52",
   "metadata": {},
   "source": [
    "# Selection Sort\n",
    "![](https://www.scaler.com/topics/images/selection-sort-in-python.webp)"
   ]
  },
  {
   "cell_type": "markdown",
   "id": "a7eefaa7",
   "metadata": {},
   "source": [
    "- Loop the list and find the minimum and place it to the right position"
   ]
  },
  {
   "cell_type": "code",
   "execution_count": 11,
   "id": "4f903d2d",
   "metadata": {},
   "outputs": [],
   "source": [
    "def selectionSort(arr):\n",
    "    N = len(arr)\n",
    "    for i in range(N-1):\n",
    "        # Look for the index of min element in the unsorted part\n",
    "        # swap a[i] and a[minIndex]\n",
    "    \n",
    "        # find the minIndex\n",
    "        minIndex = i\n",
    "        for j in range(i, N):\n",
    "            if arr[j] < arr[minIndex]:\n",
    "                minIndex = j\n",
    "                \n",
    "        arr[i], arr[minIndex] = arr[minIndex], arr[i]"
   ]
  },
  {
   "cell_type": "code",
   "execution_count": 12,
   "id": "5511934d",
   "metadata": {},
   "outputs": [
    {
     "name": "stdout",
     "output_type": "stream",
     "text": [
      "[1, 2, 3, 4, 4, 5, 7, 8, 10]\n"
     ]
    }
   ],
   "source": [
    "arr1 = [10, 8, 2, 4, 5, 1, 7, 3, 4]\n",
    "selectionSort(arr1)\n",
    "print(arr1)"
   ]
  },
  {
   "cell_type": "code",
   "execution_count": 13,
   "id": "9872c8f8",
   "metadata": {},
   "outputs": [
    {
     "name": "stdout",
     "output_type": "stream",
     "text": [
      "[1, 2, 3, 4, 5, 6]\n"
     ]
    }
   ],
   "source": [
    "arr2 = [4,2,5,6,1,3]\n",
    "selectionSort(arr2)\n",
    "print(arr2)"
   ]
  },
  {
   "cell_type": "code",
   "execution_count": 14,
   "id": "bb9b8d00",
   "metadata": {},
   "outputs": [
    {
     "name": "stdout",
     "output_type": "stream",
     "text": [
      "[1, 2, 3, 4, 5]\n"
     ]
    }
   ],
   "source": [
    "arr3 = [1,2,3,4,5]\n",
    "selectionSort(arr3)\n",
    "print(arr3)"
   ]
  },
  {
   "cell_type": "code",
   "execution_count": null,
   "id": "f9523bcf",
   "metadata": {},
   "outputs": [],
   "source": []
  },
  {
   "cell_type": "code",
   "execution_count": 17,
   "id": "177d1643",
   "metadata": {},
   "outputs": [],
   "source": [
    "def selectionSort(arr):\n",
    "    N = len(arr)\n",
    "    for i in range(N-1):\n",
    "        # Look for the index of min element in the unsorted part\n",
    "        # swap a[i] and a[minIndex]\n",
    "        \n",
    "    \n",
    "        # find the minIndex\n",
    "        minIndex = i\n",
    "        for j in range(i, N):\n",
    "            if arr[j] < arr[minIndex]:\n",
    "                minIndex = j\n",
    "                \n",
    "        \n",
    "        print(f\"arr = {arr}, i = {i}, minIndex = {minIndex}\")\n",
    "        print(\"-\" * 50)\n",
    "                \n",
    "        arr[i], arr[minIndex] = arr[minIndex], arr[i]"
   ]
  },
  {
   "cell_type": "code",
   "execution_count": 18,
   "id": "4e42fd02",
   "metadata": {},
   "outputs": [
    {
     "name": "stdout",
     "output_type": "stream",
     "text": [
      "arr = [4, 2, 5, 6, 1, 3], i = 0, minIndex = 4\n",
      "--------------------------------------------------\n",
      "arr = [1, 2, 5, 6, 4, 3], i = 1, minIndex = 1\n",
      "--------------------------------------------------\n",
      "arr = [1, 2, 5, 6, 4, 3], i = 2, minIndex = 5\n",
      "--------------------------------------------------\n",
      "arr = [1, 2, 3, 6, 4, 5], i = 3, minIndex = 4\n",
      "--------------------------------------------------\n",
      "arr = [1, 2, 3, 4, 6, 5], i = 4, minIndex = 5\n",
      "--------------------------------------------------\n",
      "[1, 2, 3, 4, 5, 6]\n"
     ]
    }
   ],
   "source": [
    "arr2 = [4,2,5,6,1,3]\n",
    "selectionSort(arr2)\n",
    "print(arr2)"
   ]
  },
  {
   "cell_type": "code",
   "execution_count": null,
   "id": "23903237",
   "metadata": {},
   "outputs": [],
   "source": []
  },
  {
   "cell_type": "code",
   "execution_count": null,
   "id": "26d9d9eb",
   "metadata": {},
   "outputs": [],
   "source": [
    "# The index of the minimum element after i\n",
    "# Example: arr = [1, 20, 3, 25, 15, 6]\n",
    "# i = 1\n",
    "def minIndexInArrayFromI(arr, i):\n",
    "    minIndex = i\n",
    "    for j in range(i, len(arr)):\n",
    "        if arr[j] < arr[minIndex]:\n",
    "                minIndex = j"
   ]
  },
  {
   "cell_type": "code",
   "execution_count": null,
   "id": "2673efb2",
   "metadata": {},
   "outputs": [],
   "source": []
  },
  {
   "cell_type": "code",
   "execution_count": null,
   "id": "d4e774de",
   "metadata": {},
   "outputs": [],
   "source": []
  },
  {
   "cell_type": "code",
   "execution_count": null,
   "id": "448b3542",
   "metadata": {},
   "outputs": [],
   "source": []
  },
  {
   "cell_type": "code",
   "execution_count": null,
   "id": "da9f5e79",
   "metadata": {},
   "outputs": [],
   "source": []
  },
  {
   "cell_type": "markdown",
   "id": "4e8b1c0a",
   "metadata": {},
   "source": [
    "## Insertion Sort\n",
    "![](https://www.scaler.com/topics/images/insertion-sort.webp)"
   ]
  },
  {
   "cell_type": "markdown",
   "id": "3902d99c",
   "metadata": {},
   "source": [
    "- Start with the `initial index = 1` and keep moving forward\n",
    "- Left part is consider to be sorted and right is unsorted\n",
    "- Pick the element from unsorted portion and put it into the right place at sorted portion"
   ]
  },
  {
   "cell_type": "code",
   "execution_count": 22,
   "id": "f0ed964d",
   "metadata": {},
   "outputs": [],
   "source": [
    "def insertionSort(a):\n",
    "    n = len(a)\n",
    "    for i in range(1, n):\n",
    "        curr = a[i]\n",
    "        \n",
    "        # We wish to place 'curr' element at its right position\n",
    "        j = i - 1\n",
    "        while j >= 0 and a[j] > curr:\n",
    "            a[j+1] = a[j]\n",
    "            j -= 1\n",
    "        \n",
    "        a[j+1] = curr"
   ]
  },
  {
   "cell_type": "code",
   "execution_count": 23,
   "id": "28180cbe",
   "metadata": {},
   "outputs": [
    {
     "name": "stdout",
     "output_type": "stream",
     "text": [
      "[1, 2, 3, 4, 5, 6]\n"
     ]
    }
   ],
   "source": [
    "arr2 = [4,2,5,6,1,3]\n",
    "insertionSort(arr2)\n",
    "print(arr2)"
   ]
  },
  {
   "cell_type": "code",
   "execution_count": 24,
   "id": "890993d9",
   "metadata": {},
   "outputs": [
    {
     "name": "stdout",
     "output_type": "stream",
     "text": [
      "[1, 2, 3, 4, 4, 5, 7, 8, 10]\n"
     ]
    }
   ],
   "source": [
    "arr1 = [10, 8, 2, 4, 5, 1, 7, 3, 4]\n",
    "insertionSort(arr1)\n",
    "print(arr1)"
   ]
  },
  {
   "cell_type": "code",
   "execution_count": 25,
   "id": "61c11146",
   "metadata": {},
   "outputs": [],
   "source": [
    "def insertionSort(a):\n",
    "    n = len(a)\n",
    "    for i in range(1, n):\n",
    "        curr = a[i]\n",
    "        \n",
    "        print(f\"{a[:i]} | {a[i:]}\")\n",
    "        print(\"-\" * 50)\n",
    "        \n",
    "        # We wish to place 'curr' element at its right position\n",
    "        j = i - 1\n",
    "        while j >= 0 and a[j] > curr:\n",
    "            a[j+1] = a[j]\n",
    "            j -= 1\n",
    "        \n",
    "        a[j+1] = curr"
   ]
  },
  {
   "cell_type": "code",
   "execution_count": 26,
   "id": "8a23af4a",
   "metadata": {},
   "outputs": [
    {
     "name": "stdout",
     "output_type": "stream",
     "text": [
      "[4] | [2, 5, 6, 1, 3]\n",
      "--------------------------------------------------\n",
      "[2, 4] | [5, 6, 1, 3]\n",
      "--------------------------------------------------\n",
      "[2, 4, 5] | [6, 1, 3]\n",
      "--------------------------------------------------\n",
      "[2, 4, 5, 6] | [1, 3]\n",
      "--------------------------------------------------\n",
      "[1, 2, 4, 5, 6] | [3]\n",
      "--------------------------------------------------\n",
      "[1, 2, 3, 4, 5, 6]\n"
     ]
    }
   ],
   "source": [
    "arr2 = [4,2,5,6,1,3]\n",
    "insertionSort(arr2)\n",
    "print(arr2)"
   ]
  },
  {
   "cell_type": "code",
   "execution_count": null,
   "id": "bef5cb52",
   "metadata": {},
   "outputs": [],
   "source": []
  },
  {
   "cell_type": "code",
   "execution_count": null,
   "id": "219debca",
   "metadata": {},
   "outputs": [],
   "source": []
  },
  {
   "cell_type": "code",
   "execution_count": null,
   "id": "644007f2",
   "metadata": {},
   "outputs": [],
   "source": []
  },
  {
   "cell_type": "markdown",
   "id": "e0f44273",
   "metadata": {},
   "source": [
    "## Mergesort\n",
    "![](https://www.scaler.com/topics/images/merge-sort-in-python-fi.webp)"
   ]
  },
  {
   "cell_type": "markdown",
   "id": "303517ef",
   "metadata": {},
   "source": [
    "- Follows the Divide and Conquer approach\n",
    "- Keep dividing the list into list of halves until each list contain only 1 element\n",
    "- Start merging the list in sorted order"
   ]
  },
  {
   "cell_type": "code",
   "execution_count": null,
   "id": "8978cd61",
   "metadata": {},
   "outputs": [],
   "source": []
  },
  {
   "cell_type": "code",
   "execution_count": null,
   "id": "31ab359a",
   "metadata": {},
   "outputs": [],
   "source": []
  },
  {
   "cell_type": "code",
   "execution_count": null,
   "id": "7deebb0a",
   "metadata": {},
   "outputs": [],
   "source": []
  },
  {
   "cell_type": "code",
   "execution_count": null,
   "id": "af990f90",
   "metadata": {},
   "outputs": [],
   "source": []
  },
  {
   "cell_type": "code",
   "execution_count": null,
   "id": "ea71f4a0",
   "metadata": {},
   "outputs": [],
   "source": []
  },
  {
   "cell_type": "markdown",
   "id": "228a5ff7",
   "metadata": {},
   "source": [
    "## Reading Material\n",
    "- Selection Sort - https://www.scaler.com/topics/data-structures/selection-sort/\n",
    "- Selection Sort in Python - https://www.scaler.com/topics/selection-sort-in-python/\n",
    "- What is the Time Complexity of Selection Sort? - https://www.scaler.com/topics/time-complexity-of-selection-sort/\n",
    "- Insertion Sort in Python - https://www.scaler.com/topics/insertion-sort-in-python/\n",
    "- Insertion Sort - https://www.scaler.com/topics/data-structures/insertion-sort/\n",
    "- Merge Sort Algorithm - https://www.scaler.com/topics/data-structures/merge-sort-algorithm/\n",
    "- Merge Sort in Python - https://www.scaler.com/topics/merge-sort-in-python/\n",
    "- What is the Time Complexity of Merge Sort? - https://www.scaler.com/topics/merge-sort-time-complexity/\n",
    "\n"
   ]
  },
  {
   "cell_type": "code",
   "execution_count": null,
   "id": "deb97d38",
   "metadata": {},
   "outputs": [],
   "source": []
  }
 ],
 "metadata": {
  "kernelspec": {
   "display_name": "Python 3 (ipykernel)",
   "language": "python",
   "name": "python3"
  },
  "language_info": {
   "codemirror_mode": {
    "name": "ipython",
    "version": 3
   },
   "file_extension": ".py",
   "mimetype": "text/x-python",
   "name": "python",
   "nbconvert_exporter": "python",
   "pygments_lexer": "ipython3",
   "version": "3.9.12"
  }
 },
 "nbformat": 4,
 "nbformat_minor": 5
}
