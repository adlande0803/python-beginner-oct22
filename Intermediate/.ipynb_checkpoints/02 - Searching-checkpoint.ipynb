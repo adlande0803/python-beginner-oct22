{
 "cells": [
  {
   "cell_type": "markdown",
   "id": "8e6dbd93",
   "metadata": {},
   "source": [
    "# Searching\n",
    "![](https://www.scaler.com/topics/images/linear-search-and-binary-search-fi.webp)"
   ]
  },
  {
   "cell_type": "code",
   "execution_count": 1,
   "id": "944ff7ba",
   "metadata": {},
   "outputs": [],
   "source": [
    "def linearSearch(arr, target):\n",
    "    for i in range(len(arr)):\n",
    "        if arr[i] == target:\n",
    "            return i\n",
    "        \n",
    "    return -1"
   ]
  },
  {
   "cell_type": "code",
   "execution_count": 2,
   "id": "a1ed0874",
   "metadata": {},
   "outputs": [
    {
     "name": "stdout",
     "output_type": "stream",
     "text": [
      "4\n"
     ]
    }
   ],
   "source": [
    "arr = [10, 3, 5, 9, 1, 0, 2]\n",
    "target = 1\n",
    "\n",
    "print(linearSearch(arr, target))"
   ]
  },
  {
   "cell_type": "code",
   "execution_count": 4,
   "id": "9006525b",
   "metadata": {},
   "outputs": [
    {
     "name": "stdout",
     "output_type": "stream",
     "text": [
      "-1\n"
     ]
    }
   ],
   "source": [
    "print(linearSearch(arr, 100))"
   ]
  },
  {
   "cell_type": "code",
   "execution_count": null,
   "id": "f33c59e3",
   "metadata": {},
   "outputs": [],
   "source": []
  },
  {
   "cell_type": "code",
   "execution_count": null,
   "id": "02ee4e77",
   "metadata": {},
   "outputs": [],
   "source": []
  },
  {
   "cell_type": "code",
   "execution_count": null,
   "id": "b5d9a4f3",
   "metadata": {},
   "outputs": [],
   "source": []
  },
  {
   "cell_type": "code",
   "execution_count": null,
   "id": "1caf0626",
   "metadata": {},
   "outputs": [],
   "source": []
  },
  {
   "cell_type": "markdown",
   "id": "d4b657f2",
   "metadata": {},
   "source": [
    "### Binary Search\n",
    "![](https://www.scaler.com/topics/images/Binary-Search-Algorithm.webp)"
   ]
  },
  {
   "cell_type": "code",
   "execution_count": 5,
   "id": "bfcbedfb",
   "metadata": {},
   "outputs": [],
   "source": [
    "def binarySearch(arr, target):\n",
    "    start = 0\n",
    "    end = len(arr) - 1\n",
    "    \n",
    "    while start <= end:\n",
    "        mid = (start + end) // 2\n",
    "        if arr[mid] == target:\n",
    "            return mid\n",
    "        elif arr[mid] < target:\n",
    "            start = mid + 1\n",
    "        else:\n",
    "            end = mid - 1\n",
    "            \n",
    "    return -1"
   ]
  },
  {
   "cell_type": "code",
   "execution_count": 6,
   "id": "c5ec1632",
   "metadata": {},
   "outputs": [
    {
     "name": "stdout",
     "output_type": "stream",
     "text": [
      "2\n"
     ]
    }
   ],
   "source": [
    "arr = [4, 5, 9, 12, 16, 19, 20, 25]\n",
    "print(binarySearch(arr, 9))"
   ]
  },
  {
   "cell_type": "code",
   "execution_count": 7,
   "id": "79a33a1f",
   "metadata": {},
   "outputs": [
    {
     "name": "stdout",
     "output_type": "stream",
     "text": [
      "6\n"
     ]
    }
   ],
   "source": [
    "print(binarySearch(arr, 20))"
   ]
  },
  {
   "cell_type": "code",
   "execution_count": 8,
   "id": "5400207c",
   "metadata": {},
   "outputs": [
    {
     "name": "stdout",
     "output_type": "stream",
     "text": [
      "7\n"
     ]
    }
   ],
   "source": [
    "print(binarySearch(arr, 25))"
   ]
  },
  {
   "cell_type": "code",
   "execution_count": 9,
   "id": "932a988f",
   "metadata": {},
   "outputs": [
    {
     "name": "stdout",
     "output_type": "stream",
     "text": [
      "-1\n"
     ]
    }
   ],
   "source": [
    "print(binarySearch(arr, 250))"
   ]
  },
  {
   "cell_type": "code",
   "execution_count": null,
   "id": "32f60199",
   "metadata": {},
   "outputs": [],
   "source": []
  },
  {
   "cell_type": "code",
   "execution_count": 10,
   "id": "d4f7c5d4",
   "metadata": {},
   "outputs": [],
   "source": [
    "def binarySearch(arr, target):\n",
    "    start = 0\n",
    "    end = len(arr) - 1\n",
    "    \n",
    "    while start <= end:\n",
    "        mid = (start + end) // 2\n",
    "        print(f\"start = {start}, end = {end}, mid = {mid}\")\n",
    "        print(f\"Search space = {arr[start:end+1]}\")\n",
    "        print(\"-------------------------------------------\")\n",
    "        if arr[mid] == target:\n",
    "            return mid\n",
    "        elif arr[mid] < target:\n",
    "            start = mid + 1\n",
    "        else:\n",
    "            end = mid - 1\n",
    "            \n",
    "    return -1"
   ]
  },
  {
   "cell_type": "code",
   "execution_count": 15,
   "id": "2cc2defd",
   "metadata": {},
   "outputs": [
    {
     "name": "stdout",
     "output_type": "stream",
     "text": [
      "start = 0, end = 8, mid = 4\n",
      "Search space = [4, 5, 9, 12, 16, 17, 19, 20, 25]\n",
      "-------------------------------------------\n",
      "start = 0, end = 3, mid = 1\n",
      "Search space = [4, 5, 9, 12]\n",
      "-------------------------------------------\n",
      "start = 2, end = 3, mid = 2\n",
      "Search space = [9, 12]\n",
      "-------------------------------------------\n",
      "start = 3, end = 3, mid = 3\n",
      "Search space = [12]\n",
      "-------------------------------------------\n"
     ]
    },
    {
     "data": {
      "text/plain": [
       "-1"
      ]
     },
     "execution_count": 15,
     "metadata": {},
     "output_type": "execute_result"
    }
   ],
   "source": [
    "arr = [4, 5, 9, 12, 16, 17, 19, 20, 25]\n",
    "binarySearch(arr, 10)"
   ]
  },
  {
   "cell_type": "code",
   "execution_count": null,
   "id": "c9e8cb0d",
   "metadata": {},
   "outputs": [],
   "source": []
  },
  {
   "cell_type": "code",
   "execution_count": null,
   "id": "36bf2aee",
   "metadata": {},
   "outputs": [],
   "source": []
  },
  {
   "cell_type": "markdown",
   "id": "1eca910e",
   "metadata": {},
   "source": [
    "### Square Root using Binary Search\n",
    "![](https://www.scaler.com/topics/images/square-root-in-python.webp)"
   ]
  },
  {
   "cell_type": "markdown",
   "id": "c1e02f5a",
   "metadata": {},
   "source": [
    "Given a perfect square number, find its square root. \\\n",
    "(Do not use any inbuilt functions)"
   ]
  },
  {
   "cell_type": "code",
   "execution_count": 16,
   "id": "60b7fc10",
   "metadata": {},
   "outputs": [],
   "source": [
    "def binarySearchSquareRoot(N):\n",
    "    start = 1\n",
    "    end = N\n",
    "    \n",
    "    while start <= end:\n",
    "        mid = (start + end) // 2\n",
    "        if mid*mid == N:\n",
    "            return mid\n",
    "        elif mid*mid < N:\n",
    "            start = mid + 1\n",
    "        else:\n",
    "            end = mid - 1\n",
    "            \n",
    "    return -1"
   ]
  },
  {
   "cell_type": "code",
   "execution_count": 17,
   "id": "a2bdc5a9",
   "metadata": {},
   "outputs": [
    {
     "name": "stdout",
     "output_type": "stream",
     "text": [
      "10\n"
     ]
    }
   ],
   "source": [
    "print(binarySearchSquareRoot(100))"
   ]
  },
  {
   "cell_type": "code",
   "execution_count": 18,
   "id": "b19aea09",
   "metadata": {},
   "outputs": [
    {
     "name": "stdout",
     "output_type": "stream",
     "text": [
      "7\n"
     ]
    }
   ],
   "source": [
    "print(binarySearchSquareRoot(49))"
   ]
  },
  {
   "cell_type": "code",
   "execution_count": 19,
   "id": "465ff823",
   "metadata": {},
   "outputs": [
    {
     "name": "stdout",
     "output_type": "stream",
     "text": [
      "-1\n"
     ]
    }
   ],
   "source": [
    "print(binarySearchSquareRoot(50))"
   ]
  },
  {
   "cell_type": "code",
   "execution_count": 20,
   "id": "b1d20073",
   "metadata": {},
   "outputs": [
    {
     "name": "stdout",
     "output_type": "stream",
     "text": [
      "8\n"
     ]
    }
   ],
   "source": [
    "print(binarySearchSquareRoot(64))"
   ]
  },
  {
   "cell_type": "code",
   "execution_count": null,
   "id": "8432b8e9",
   "metadata": {},
   "outputs": [],
   "source": []
  },
  {
   "cell_type": "code",
   "execution_count": null,
   "id": "cb1c6994",
   "metadata": {},
   "outputs": [],
   "source": []
  },
  {
   "cell_type": "code",
   "execution_count": 21,
   "id": "0add36ac",
   "metadata": {},
   "outputs": [
    {
     "name": "stdout",
     "output_type": "stream",
     "text": [
      "start = 0, end = 6, mid = 3\n",
      "Search space = [1, 4, 7, 9, 10, 15, 17]\n",
      "-------------------------------------------\n",
      "start = 0, end = 2, mid = 1\n",
      "Search space = [1, 4, 7]\n",
      "-------------------------------------------\n",
      "start = 2, end = 2, mid = 2\n",
      "Search space = [7]\n",
      "-------------------------------------------\n",
      "-1\n"
     ]
    }
   ],
   "source": [
    "def binarySearch(arr, target):\n",
    "    start = 0\n",
    "    end = len(arr) - 1\n",
    "    \n",
    "    while start <= end:\n",
    "        mid = (start + end) // 2\n",
    "        print(f\"start = {start}, end = {end}, mid = {mid}\")\n",
    "        print(f\"Search space = {arr[start:end+1]}\")\n",
    "        print(\"-------------------------------------------\")\n",
    "        if arr[mid] == target:\n",
    "            return mid\n",
    "        elif arr[mid] < target:\n",
    "            start = mid + 1\n",
    "        else:\n",
    "            end = mid - 1\n",
    "            \n",
    "    return -1\n",
    "\n",
    "print(binarySearch([1, 4, 7, 9, 10, 15, 17], 6))"
   ]
  },
  {
   "cell_type": "code",
   "execution_count": null,
   "id": "a0476b02",
   "metadata": {},
   "outputs": [],
   "source": []
  },
  {
   "cell_type": "code",
   "execution_count": null,
   "id": "e8ba1f08",
   "metadata": {},
   "outputs": [],
   "source": []
  },
  {
   "cell_type": "code",
   "execution_count": null,
   "id": "9f2f7912",
   "metadata": {},
   "outputs": [],
   "source": []
  },
  {
   "cell_type": "code",
   "execution_count": null,
   "id": "8e39c315",
   "metadata": {},
   "outputs": [],
   "source": []
  },
  {
   "cell_type": "markdown",
   "id": "bd097fb6",
   "metadata": {},
   "source": [
    "# Reading Material\n",
    "- Searching in Data Structure -  https://www.scaler.com/topics/searching-in-data-structure/\n",
    "- What is the Time Complexity of Binary Search? - https://www.scaler.com/topics/time-complexity-of-binary-search/\n",
    "- Linear Search and Binary Search - https://www.scaler.com/topics/linear-search-and-binary-search/\n",
    "- Binary Search in Python - https://www.scaler.com/topics/binary-search-in-python/"
   ]
  },
  {
   "cell_type": "code",
   "execution_count": null,
   "id": "81180046",
   "metadata": {},
   "outputs": [],
   "source": []
  },
  {
   "cell_type": "code",
   "execution_count": null,
   "id": "b4ca89d2",
   "metadata": {},
   "outputs": [],
   "source": []
  },
  {
   "cell_type": "code",
   "execution_count": null,
   "id": "45bdc19d",
   "metadata": {},
   "outputs": [],
   "source": []
  },
  {
   "cell_type": "markdown",
   "id": "2da9676d",
   "metadata": {},
   "source": [
    "# Doubts"
   ]
  },
  {
   "cell_type": "code",
   "execution_count": null,
   "id": "06ad954f",
   "metadata": {},
   "outputs": [],
   "source": []
  }
 ],
 "metadata": {
  "kernelspec": {
   "display_name": "Python 3 (ipykernel)",
   "language": "python",
   "name": "python3"
  },
  "language_info": {
   "codemirror_mode": {
    "name": "ipython",
    "version": 3
   },
   "file_extension": ".py",
   "mimetype": "text/x-python",
   "name": "python",
   "nbconvert_exporter": "python",
   "pygments_lexer": "ipython3",
   "version": "3.9.12"
  }
 },
 "nbformat": 4,
 "nbformat_minor": 5
}
