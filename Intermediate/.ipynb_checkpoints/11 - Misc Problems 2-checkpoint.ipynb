{
 "cells": [
  {
   "cell_type": "markdown",
   "id": "98b9aefc",
   "metadata": {},
   "source": [
    "# Misc Problems 2"
   ]
  },
  {
   "cell_type": "code",
   "execution_count": null,
   "id": "5c11e592",
   "metadata": {},
   "outputs": [],
   "source": [
    "class Solution:\n",
    "    def reverseString(self, s: List[str]) -> None:\n",
    "        \"\"\"\n",
    "        Do not return anything, modify s in-place instead.\n",
    "        \"\"\"\n",
    "        i = 0\n",
    "        j = len(s) - 1\n",
    "\n",
    "        # Swap s[i] and s[j] till i < j\n",
    "        while i < j:\n",
    "            s[i], s[j] = s[j], s[i]\n",
    "            i += 1\n",
    "            j -= 1\n",
    "\n"
   ]
  },
  {
   "cell_type": "code",
   "execution_count": null,
   "id": "64d76bde",
   "metadata": {},
   "outputs": [],
   "source": []
  },
  {
   "cell_type": "code",
   "execution_count": null,
   "id": "2778731c",
   "metadata": {},
   "outputs": [],
   "source": []
  },
  {
   "cell_type": "code",
   "execution_count": 2,
   "id": "48183c9a",
   "metadata": {},
   "outputs": [],
   "source": [
    "def reversePartOfArray(arr, S, E):\n",
    "    i = S\n",
    "    j = E\n",
    "\n",
    "    # Swap arr[i] and arr[j] till i < j\n",
    "    while i < j:\n",
    "        arr[i], arr[j] = arr[j], arr[i]\n",
    "        i += 1\n",
    "        j -= 1"
   ]
  },
  {
   "cell_type": "code",
   "execution_count": 4,
   "id": "7984e9a7",
   "metadata": {},
   "outputs": [
    {
     "name": "stdout",
     "output_type": "stream",
     "text": [
      "[-3, 4, 2, 2, 6, 9, 7, 8, 10]\n"
     ]
    }
   ],
   "source": [
    "arr = [-3, 4, 2, 8, 7, 9, 6, 2, 10]\n",
    "reversePartOfArray(arr, 3, 7)\n",
    "print(arr)"
   ]
  },
  {
   "cell_type": "code",
   "execution_count": null,
   "id": "184a58a8",
   "metadata": {},
   "outputs": [],
   "source": []
  },
  {
   "cell_type": "code",
   "execution_count": null,
   "id": "b14733f1",
   "metadata": {},
   "outputs": [],
   "source": [
    "def reversePartOfArray(arr, S, E):\n",
    "    i = S\n",
    "    j = E\n",
    "\n",
    "    # Swap arr[i] and arr[j] till i < j\n",
    "    while i < j:\n",
    "        arr[i], arr[j] = arr[j], arr[i]\n",
    "        i += 1\n",
    "        j -= 1\n",
    "\n",
    "class Solution:\n",
    "    def rotate(self, nums: List[int], k: int) -> None:\n",
    "        \"\"\"\n",
    "        Do not return anything, modify nums in-place instead.\n",
    "        \"\"\"\n",
    "        N = len(nums)\n",
    "        k = k % N\n",
    "\n",
    "        # 1. Reverse entire array\n",
    "        reversePartOfArray(nums, 0, N - 1)\n",
    "\n",
    "        # 2. Reverse first k elements\n",
    "        reversePartOfArray(nums, 0, k - 1)\n",
    "\n",
    "        # 3. Reverse last (n-k) elements\n",
    "        reversePartOfArray(nums, k, N - 1)"
   ]
  }
 ],
 "metadata": {
  "kernelspec": {
   "display_name": "Python 3 (ipykernel)",
   "language": "python",
   "name": "python3"
  },
  "language_info": {
   "codemirror_mode": {
    "name": "ipython",
    "version": 3
   },
   "file_extension": ".py",
   "mimetype": "text/x-python",
   "name": "python",
   "nbconvert_exporter": "python",
   "pygments_lexer": "ipython3",
   "version": "3.9.12"
  }
 },
 "nbformat": 4,
 "nbformat_minor": 5
}
