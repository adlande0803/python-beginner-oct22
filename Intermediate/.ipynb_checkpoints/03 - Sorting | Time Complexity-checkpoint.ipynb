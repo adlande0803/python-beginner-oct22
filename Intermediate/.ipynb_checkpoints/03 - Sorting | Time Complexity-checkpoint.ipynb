{
 "cells": [
  {
   "cell_type": "markdown",
   "id": "3f6895b3",
   "metadata": {},
   "source": [
    "# Sorting | Time Complexity\n",
    "![](https://www.scaler.com/topics/images/time-complexity-in-data-structure.webp)"
   ]
  },
  {
   "cell_type": "code",
   "execution_count": 4,
   "id": "0ed6f335",
   "metadata": {},
   "outputs": [
    {
     "name": "stdout",
     "output_type": "stream",
     "text": [
      "33.219280948873624\n"
     ]
    }
   ],
   "source": [
    "import math\n",
    "print(math.log2(10**10))"
   ]
  },
  {
   "cell_type": "code",
   "execution_count": null,
   "id": "eee5dea1",
   "metadata": {},
   "outputs": [],
   "source": []
  },
  {
   "cell_type": "markdown",
   "id": "903cf22e",
   "metadata": {},
   "source": [
    "## Bubble Sort"
   ]
  },
  {
   "cell_type": "code",
   "execution_count": 10,
   "id": "735f2f38",
   "metadata": {},
   "outputs": [],
   "source": [
    "l = [4,2,5,6,1,3]"
   ]
  },
  {
   "cell_type": "code",
   "execution_count": 11,
   "id": "2b27a282",
   "metadata": {},
   "outputs": [],
   "source": [
    "def bubbleSort(arr):\n",
    "    N = len(arr)\n",
    "    for i in range(N-1):\n",
    "        for j in range(N-1):\n",
    "            if arr[j] > arr[j+1]:\n",
    "                arr[j], arr[j+1] = arr[j+1], arr[j]"
   ]
  },
  {
   "cell_type": "code",
   "execution_count": 12,
   "id": "0def6c99",
   "metadata": {},
   "outputs": [
    {
     "name": "stdout",
     "output_type": "stream",
     "text": [
      "[1, 2, 3, 4, 5, 6]\n"
     ]
    }
   ],
   "source": [
    "bubbleSort(l)\n",
    "print(l)"
   ]
  },
  {
   "cell_type": "code",
   "execution_count": 13,
   "id": "38cff7ad",
   "metadata": {},
   "outputs": [
    {
     "name": "stdout",
     "output_type": "stream",
     "text": [
      "[1, 2, 3, 4, 4, 5, 7, 8, 10]\n"
     ]
    }
   ],
   "source": [
    "arr = [10, 8, 2, 4, 5, 1, 7, 3, 4]\n",
    "bubbleSort(arr)\n",
    "print(arr)"
   ]
  },
  {
   "cell_type": "code",
   "execution_count": null,
   "id": "bcd90e4c",
   "metadata": {},
   "outputs": [],
   "source": []
  },
  {
   "cell_type": "markdown",
   "id": "41db6a59",
   "metadata": {},
   "source": [
    "The above bubble sort is currently a raw version. \\\n",
    "HW - Try to optimise the above algorithm"
   ]
  },
  {
   "cell_type": "code",
   "execution_count": null,
   "id": "c84028d7",
   "metadata": {},
   "outputs": [],
   "source": []
  },
  {
   "cell_type": "code",
   "execution_count": null,
   "id": "197c4811",
   "metadata": {},
   "outputs": [],
   "source": []
  },
  {
   "cell_type": "code",
   "execution_count": null,
   "id": "d10ba11a",
   "metadata": {},
   "outputs": [],
   "source": []
  },
  {
   "cell_type": "markdown",
   "id": "9a990d5b",
   "metadata": {},
   "source": [
    "# Reading Material\n",
    "- Time Complexity Analysis in Data Structure - https://www.scaler.com/topics/data-structures/time-complexity-in-data-structure/\n",
    "- Bubble Sort - https://www.scaler.com/topics/data-structures/bubble-sort/"
   ]
  },
  {
   "cell_type": "code",
   "execution_count": null,
   "id": "19b6c232",
   "metadata": {},
   "outputs": [],
   "source": []
  }
 ],
 "metadata": {
  "kernelspec": {
   "display_name": "Python 3 (ipykernel)",
   "language": "python",
   "name": "python3"
  },
  "language_info": {
   "codemirror_mode": {
    "name": "ipython",
    "version": 3
   },
   "file_extension": ".py",
   "mimetype": "text/x-python",
   "name": "python",
   "nbconvert_exporter": "python",
   "pygments_lexer": "ipython3",
   "version": "3.9.12"
  }
 },
 "nbformat": 4,
 "nbformat_minor": 5
}
