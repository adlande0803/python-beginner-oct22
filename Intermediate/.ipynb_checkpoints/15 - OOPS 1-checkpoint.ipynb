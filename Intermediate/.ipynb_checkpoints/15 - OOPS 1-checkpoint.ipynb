{
 "cells": [
  {
   "cell_type": "markdown",
   "id": "48dc4aee",
   "metadata": {},
   "source": [
    "# OOPS 1\n",
    "![](https://www.scaler.com/topics/images/oops-concepts-in-python.webp)"
   ]
  },
  {
   "cell_type": "code",
   "execution_count": 2,
   "id": "2cef24cd",
   "metadata": {},
   "outputs": [],
   "source": [
    "# Blueprint of a Student\n",
    "class abcdef:\n",
    "    pass"
   ]
  },
  {
   "cell_type": "code",
   "execution_count": 3,
   "id": "02e7d2cc",
   "metadata": {},
   "outputs": [],
   "source": [
    "class Student:\n",
    "    pass"
   ]
  },
  {
   "cell_type": "code",
   "execution_count": 4,
   "id": "9eb48bb3",
   "metadata": {},
   "outputs": [
    {
     "name": "stdout",
     "output_type": "stream",
     "text": [
      "<__main__.Student object at 0x103bee2b0>\n"
     ]
    }
   ],
   "source": [
    "# Create an object of the above class\n",
    "s1 = Student()\n",
    "print(s1)"
   ]
  },
  {
   "cell_type": "code",
   "execution_count": 5,
   "id": "5106830b",
   "metadata": {},
   "outputs": [
    {
     "name": "stdout",
     "output_type": "stream",
     "text": [
      "<__main__.Student object at 0x103bee040>\n"
     ]
    }
   ],
   "source": [
    "s2 = Student()\n",
    "print(s2)"
   ]
  },
  {
   "cell_type": "code",
   "execution_count": null,
   "id": "07281660",
   "metadata": {},
   "outputs": [],
   "source": []
  },
  {
   "cell_type": "code",
   "execution_count": null,
   "id": "6c801ed1",
   "metadata": {},
   "outputs": [],
   "source": []
  },
  {
   "cell_type": "code",
   "execution_count": 6,
   "id": "0ecaaa46",
   "metadata": {},
   "outputs": [],
   "source": [
    "class Student:\n",
    "    name = \"__\"\n",
    "    age = 0\n",
    "    batch = \"DSML\""
   ]
  },
  {
   "cell_type": "code",
   "execution_count": 12,
   "id": "87178873",
   "metadata": {},
   "outputs": [
    {
     "name": "stdout",
     "output_type": "stream",
     "text": [
      "__\n",
      "0\n",
      "Peter Parker\n",
      "20\n",
      "DSML\n"
     ]
    }
   ],
   "source": [
    "s1 = Student()\n",
    "print(s1.name)\n",
    "print(s1.age)\n",
    "\n",
    "s1.name = \"Peter Parker\"\n",
    "s1.age = 20\n",
    "print(s1.name)\n",
    "print(s1.age)\n",
    "print(s1.batch)"
   ]
  },
  {
   "cell_type": "code",
   "execution_count": 13,
   "id": "ec881ad7",
   "metadata": {},
   "outputs": [
    {
     "name": "stdout",
     "output_type": "stream",
     "text": [
      "__\n"
     ]
    }
   ],
   "source": [
    "s2 = Student()\n",
    "print(s2.name)"
   ]
  },
  {
   "cell_type": "code",
   "execution_count": 14,
   "id": "16b8f32f",
   "metadata": {},
   "outputs": [
    {
     "name": "stdout",
     "output_type": "stream",
     "text": [
      "0\n"
     ]
    }
   ],
   "source": [
    "print(s2.age)"
   ]
  },
  {
   "cell_type": "code",
   "execution_count": 16,
   "id": "311c2198",
   "metadata": {},
   "outputs": [
    {
     "name": "stdout",
     "output_type": "stream",
     "text": [
      "Male\n"
     ]
    }
   ],
   "source": [
    "s2.name = \"Barry Allen\"\n",
    "s2.age = 25\n",
    "s2.batch = \"Academy\"\n",
    "s2.gender = \"Male\"\n",
    "\n",
    "print(s2.gender)"
   ]
  },
  {
   "cell_type": "code",
   "execution_count": 17,
   "id": "edb4bd14",
   "metadata": {},
   "outputs": [
    {
     "ename": "AttributeError",
     "evalue": "'Student' object has no attribute 'gender'",
     "output_type": "error",
     "traceback": [
      "\u001b[0;31m---------------------------------------------------------------------------\u001b[0m",
      "\u001b[0;31mAttributeError\u001b[0m                            Traceback (most recent call last)",
      "\u001b[0;32m/var/folders/jn/1bsrct314hv5xmfm7vrcdrzc0000gn/T/ipykernel_7513/4179067169.py\u001b[0m in \u001b[0;36m<module>\u001b[0;34m\u001b[0m\n\u001b[0;32m----> 1\u001b[0;31m \u001b[0mprint\u001b[0m\u001b[0;34m(\u001b[0m\u001b[0ms1\u001b[0m\u001b[0;34m.\u001b[0m\u001b[0mgender\u001b[0m\u001b[0;34m)\u001b[0m\u001b[0;34m\u001b[0m\u001b[0;34m\u001b[0m\u001b[0m\n\u001b[0m",
      "\u001b[0;31mAttributeError\u001b[0m: 'Student' object has no attribute 'gender'"
     ]
    }
   ],
   "source": [
    "print(s1.gender)"
   ]
  },
  {
   "cell_type": "code",
   "execution_count": null,
   "id": "3bec0a0f",
   "metadata": {},
   "outputs": [],
   "source": []
  },
  {
   "cell_type": "code",
   "execution_count": null,
   "id": "042fd1ca",
   "metadata": {},
   "outputs": [],
   "source": []
  },
  {
   "cell_type": "code",
   "execution_count": 27,
   "id": "ca001b39",
   "metadata": {},
   "outputs": [],
   "source": [
    "## Box\n",
    "class Box:\n",
    "    length = 0\n",
    "    width = 0\n",
    "    height = 0\n",
    "    \n",
    "    def volume(self):\n",
    "        \"\"\"Function that computes and returns the volume of my box\"\"\"\n",
    "        return self.length * self.width * self.height"
   ]
  },
  {
   "cell_type": "code",
   "execution_count": 28,
   "id": "a6b3d510",
   "metadata": {},
   "outputs": [
    {
     "ename": "NameError",
     "evalue": "name 'length' is not defined",
     "output_type": "error",
     "traceback": [
      "\u001b[0;31m---------------------------------------------------------------------------\u001b[0m",
      "\u001b[0;31mNameError\u001b[0m                                 Traceback (most recent call last)",
      "\u001b[0;32m/var/folders/jn/1bsrct314hv5xmfm7vrcdrzc0000gn/T/ipykernel_7513/1165309120.py\u001b[0m in \u001b[0;36m<module>\u001b[0;34m\u001b[0m\n\u001b[1;32m      3\u001b[0m \u001b[0mb1\u001b[0m\u001b[0;34m.\u001b[0m\u001b[0mwidth\u001b[0m \u001b[0;34m=\u001b[0m \u001b[0;36m2\u001b[0m\u001b[0;34m\u001b[0m\u001b[0;34m\u001b[0m\u001b[0m\n\u001b[1;32m      4\u001b[0m \u001b[0mb1\u001b[0m\u001b[0;34m.\u001b[0m\u001b[0mheight\u001b[0m \u001b[0;34m=\u001b[0m \u001b[0;36m1\u001b[0m\u001b[0;34m\u001b[0m\u001b[0;34m\u001b[0m\u001b[0m\n\u001b[0;32m----> 5\u001b[0;31m \u001b[0mprint\u001b[0m\u001b[0;34m(\u001b[0m\u001b[0mb1\u001b[0m\u001b[0;34m.\u001b[0m\u001b[0mvolume\u001b[0m\u001b[0;34m(\u001b[0m\u001b[0;34m)\u001b[0m\u001b[0;34m)\u001b[0m\u001b[0;34m\u001b[0m\u001b[0;34m\u001b[0m\u001b[0m\n\u001b[0m",
      "\u001b[0;32m/var/folders/jn/1bsrct314hv5xmfm7vrcdrzc0000gn/T/ipykernel_7513/353178517.py\u001b[0m in \u001b[0;36mvolume\u001b[0;34m(self)\u001b[0m\n\u001b[1;32m      8\u001b[0m     \u001b[0;32mdef\u001b[0m \u001b[0mvolume\u001b[0m\u001b[0;34m(\u001b[0m\u001b[0mself\u001b[0m\u001b[0;34m)\u001b[0m\u001b[0;34m:\u001b[0m\u001b[0;34m\u001b[0m\u001b[0;34m\u001b[0m\u001b[0m\n\u001b[1;32m      9\u001b[0m         \u001b[0;34m\"\"\"Function that computes and returns the volume of my box\"\"\"\u001b[0m\u001b[0;34m\u001b[0m\u001b[0;34m\u001b[0m\u001b[0m\n\u001b[0;32m---> 10\u001b[0;31m         \u001b[0;32mreturn\u001b[0m \u001b[0mlength\u001b[0m \u001b[0;34m*\u001b[0m \u001b[0mwidth\u001b[0m \u001b[0;34m*\u001b[0m \u001b[0mheight\u001b[0m\u001b[0;34m\u001b[0m\u001b[0;34m\u001b[0m\u001b[0m\n\u001b[0m",
      "\u001b[0;31mNameError\u001b[0m: name 'length' is not defined"
     ]
    }
   ],
   "source": [
    "b1 = Box()\n",
    "b1.length = 10\n",
    "b1.width = 2\n",
    "b1.height = 1\n",
    "print(b1.volume())"
   ]
  },
  {
   "cell_type": "code",
   "execution_count": null,
   "id": "da6e9296",
   "metadata": {},
   "outputs": [],
   "source": []
  },
  {
   "cell_type": "code",
   "execution_count": null,
   "id": "42f79401",
   "metadata": {},
   "outputs": [],
   "source": []
  },
  {
   "cell_type": "code",
   "execution_count": null,
   "id": "6c37369b",
   "metadata": {},
   "outputs": [],
   "source": [
    "b2 = Box()\n",
    "b2.length = 4\n",
    "b2.width = 3\n",
    "b2.height = 2\n",
    "print(b2.volume())"
   ]
  },
  {
   "cell_type": "code",
   "execution_count": null,
   "id": "4220dfe8",
   "metadata": {},
   "outputs": [],
   "source": []
  },
  {
   "cell_type": "code",
   "execution_count": null,
   "id": "28ca8c4f",
   "metadata": {},
   "outputs": [],
   "source": []
  },
  {
   "cell_type": "code",
   "execution_count": null,
   "id": "1416c2ac",
   "metadata": {},
   "outputs": [],
   "source": []
  },
  {
   "cell_type": "code",
   "execution_count": null,
   "id": "6ed4b747",
   "metadata": {},
   "outputs": [],
   "source": []
  },
  {
   "cell_type": "code",
   "execution_count": null,
   "id": "0a00b7d8",
   "metadata": {},
   "outputs": [],
   "source": []
  },
  {
   "cell_type": "code",
   "execution_count": null,
   "id": "ba66dd5e",
   "metadata": {},
   "outputs": [],
   "source": []
  },
  {
   "cell_type": "markdown",
   "id": "d2467f05",
   "metadata": {},
   "source": [
    "### init method\n",
    "![](https://www.scaler.com/topics/images/init-in-python.webp)"
   ]
  },
  {
   "cell_type": "code",
   "execution_count": null,
   "id": "06579f03",
   "metadata": {},
   "outputs": [],
   "source": []
  },
  {
   "cell_type": "code",
   "execution_count": null,
   "id": "76092708",
   "metadata": {},
   "outputs": [],
   "source": []
  },
  {
   "cell_type": "markdown",
   "id": "72fd49b5",
   "metadata": {},
   "source": [
    "## Reading Material\n",
    "- https://www.scaler.com/topics/oops-concepts-in-python/\n",
    "- https://www.scaler.com/topics/what-is-object-oriented-programming-oop/\n",
    "- https://www.scaler.com/topics/difference-between-class-and-object/\n",
    "- https://www.scaler.com/topics/init-function-in-python/ "
   ]
  },
  {
   "cell_type": "code",
   "execution_count": null,
   "id": "7d120eec",
   "metadata": {},
   "outputs": [],
   "source": []
  }
 ],
 "metadata": {
  "kernelspec": {
   "display_name": "Python 3 (ipykernel)",
   "language": "python",
   "name": "python3"
  },
  "language_info": {
   "codemirror_mode": {
    "name": "ipython",
    "version": 3
   },
   "file_extension": ".py",
   "mimetype": "text/x-python",
   "name": "python",
   "nbconvert_exporter": "python",
   "pygments_lexer": "ipython3",
   "version": "3.9.12"
  }
 },
 "nbformat": 4,
 "nbformat_minor": 5
}
