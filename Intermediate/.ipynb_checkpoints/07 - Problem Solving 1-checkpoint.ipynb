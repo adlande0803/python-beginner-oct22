{
 "cells": [
  {
   "cell_type": "markdown",
   "id": "810c942a",
   "metadata": {},
   "source": [
    "# Problem Solving 1"
   ]
  },
  {
   "cell_type": "code",
   "execution_count": null,
   "id": "beb33b6a",
   "metadata": {},
   "outputs": [],
   "source": [
    "# Q = Sorted Insert in Position\n",
    "# @param A : list of integers\n",
    "# @param B : integer\n",
    "# @return an integer\n",
    "def binarySearchLowerBound(A, B):\n",
    "    start = 0\n",
    "    end = len(A) - 1\n",
    "    ans = -1\n",
    "    \n",
    "    while start <= end:\n",
    "        mid = (start + end) // 2\n",
    "        \n",
    "        if A[mid] == B:\n",
    "            # Store the answer and continue searching for a better answer\n",
    "            ans = mid\n",
    "            end = mid - 1\n",
    "        elif A[mid] > B:\n",
    "            end = mid - 1\n",
    "        else:\n",
    "            start = mid + 1\n",
    "            \n",
    "    return ans"
   ]
  },
  {
   "cell_type": "code",
   "execution_count": null,
   "id": "f7d52db1",
   "metadata": {},
   "outputs": [],
   "source": []
  },
  {
   "cell_type": "code",
   "execution_count": null,
   "id": "1f93a587",
   "metadata": {},
   "outputs": [],
   "source": [
    "def bubbleSort(arr, k):\n",
    "    N = len(arr)\n",
    "    for i in range(N-1):\n",
    "        for j in range(N-i-1):\n",
    "            if arr[j] > arr[j+1]:\n",
    "                arr[j], arr[j+1] = arr[j+1], arr[j]"
   ]
  },
  {
   "cell_type": "code",
   "execution_count": null,
   "id": "e46f9515",
   "metadata": {},
   "outputs": [],
   "source": [
    "# Bubble sort after k iterations\n",
    "def bubbleSort(arr, k):\n",
    "    N = len(arr)\n",
    "    for i in range(k):\n",
    "        for j in range(k-i-1):\n",
    "            if arr[j] > arr[j+1]:\n",
    "                arr[j], arr[j+1] = arr[j+1], arr[j]"
   ]
  },
  {
   "cell_type": "code",
   "execution_count": null,
   "id": "69cb9f83",
   "metadata": {},
   "outputs": [],
   "source": []
  },
  {
   "cell_type": "code",
   "execution_count": null,
   "id": "9aac3be4",
   "metadata": {},
   "outputs": [],
   "source": []
  },
  {
   "cell_type": "code",
   "execution_count": null,
   "id": "3285a657",
   "metadata": {},
   "outputs": [],
   "source": [
    "def selectionSort(arr):\n",
    "    N = len(arr)\n",
    "    for i in range(N-1):\n",
    "        minIndex = i\n",
    "        for j in range(i, N):\n",
    "            if arr[j] < arr[minIndex]:\n",
    "                minIndex = j\n",
    "                \n",
    "        arr[i], arr[minIndex] = arr[minIndex], arr[i]"
   ]
  },
  {
   "cell_type": "code",
   "execution_count": null,
   "id": "8a23573d",
   "metadata": {},
   "outputs": [],
   "source": []
  },
  {
   "cell_type": "code",
   "execution_count": null,
   "id": "5d954c2a",
   "metadata": {},
   "outputs": [],
   "source": []
  },
  {
   "cell_type": "code",
   "execution_count": null,
   "id": "92a55a4c",
   "metadata": {},
   "outputs": [],
   "source": []
  },
  {
   "cell_type": "code",
   "execution_count": 1,
   "id": "51b7c26c",
   "metadata": {},
   "outputs": [],
   "source": [
    "def countHi(s):\n",
    "    ''' s-indicates the string,\n",
    "         output:Return the count of occurrences of \"hi\" in s'''\n",
    "    \n",
    "    # Base Case\n",
    "    if len(s) <= 1:\n",
    "        return 0\n",
    "    \n",
    "    if s[:2] == \"hi\":\n",
    "        return 1 + countHi(s[2:])\n",
    "    else:\n",
    "        return countHi(s[1:])"
   ]
  },
  {
   "cell_type": "code",
   "execution_count": null,
   "id": "fe2e8378",
   "metadata": {},
   "outputs": [],
   "source": [
    "'hishisha' => 2\n",
    "1. Assumption\n",
    "2. Main Logic\n",
    "3. Base Case"
   ]
  },
  {
   "cell_type": "code",
   "execution_count": null,
   "id": "82be7d8c",
   "metadata": {},
   "outputs": [],
   "source": [
    "'h' => 0\n",
    "'' => 0\n",
    "'p' => 0"
   ]
  },
  {
   "cell_type": "code",
   "execution_count": null,
   "id": "d4c1b2f1",
   "metadata": {},
   "outputs": [],
   "source": []
  },
  {
   "cell_type": "code",
   "execution_count": null,
   "id": "70cda601",
   "metadata": {},
   "outputs": [],
   "source": []
  },
  {
   "cell_type": "code",
   "execution_count": 2,
   "id": "029e752d",
   "metadata": {},
   "outputs": [],
   "source": [
    "# Write a function to print the multiplication tables of all numbers from 1 to N \n",
    "def printTable(N):\n",
    "    if N == 0:\n",
    "        return\n",
    "    \n",
    "    printTable(N-1)\n",
    "    for i in range(1, N+1):\n",
    "        print(f\"{i} times {N} is \", i*N)\n",
    "    \n",
    "    print('*' * 50)"
   ]
  },
  {
   "cell_type": "code",
   "execution_count": 3,
   "id": "cf778c34",
   "metadata": {},
   "outputs": [
    {
     "name": "stdout",
     "output_type": "stream",
     "text": [
      "1 times 1 is  1\n",
      "**************************************************\n",
      "1 times 2 is  2\n",
      "2 times 2 is  4\n",
      "**************************************************\n",
      "1 times 3 is  3\n",
      "2 times 3 is  6\n",
      "3 times 3 is  9\n",
      "**************************************************\n",
      "1 times 4 is  4\n",
      "2 times 4 is  8\n",
      "3 times 4 is  12\n",
      "4 times 4 is  16\n",
      "**************************************************\n"
     ]
    }
   ],
   "source": [
    "printTable(4)"
   ]
  },
  {
   "cell_type": "code",
   "execution_count": null,
   "id": "a33a9606",
   "metadata": {},
   "outputs": [],
   "source": []
  },
  {
   "cell_type": "code",
   "execution_count": null,
   "id": "98cf4e2a",
   "metadata": {},
   "outputs": [],
   "source": []
  },
  {
   "cell_type": "code",
   "execution_count": null,
   "id": "3e6b837e",
   "metadata": {},
   "outputs": [],
   "source": []
  },
  {
   "cell_type": "code",
   "execution_count": 6,
   "id": "c5f4db2d",
   "metadata": {},
   "outputs": [],
   "source": [
    "def harmonic_sum(n):\n",
    "    '''n = Input in integer format\n",
    "       output:return harmonic sum'''\n",
    "    if n == 1:\n",
    "        return 1\n",
    "    \n",
    "    return round(harmonic_sum(n-1) + (1/n), 3)"
   ]
  },
  {
   "cell_type": "code",
   "execution_count": 7,
   "id": "a9b23077",
   "metadata": {},
   "outputs": [
    {
     "data": {
      "text/plain": [
       "2.593"
      ]
     },
     "execution_count": 7,
     "metadata": {},
     "output_type": "execute_result"
    }
   ],
   "source": [
    "harmonic_sum(7)"
   ]
  },
  {
   "cell_type": "code",
   "execution_count": null,
   "id": "d268acd3",
   "metadata": {},
   "outputs": [],
   "source": []
  },
  {
   "cell_type": "code",
   "execution_count": null,
   "id": "0deb5314",
   "metadata": {},
   "outputs": [],
   "source": []
  },
  {
   "cell_type": "code",
   "execution_count": null,
   "id": "4f3080ad",
   "metadata": {},
   "outputs": [],
   "source": []
  },
  {
   "cell_type": "code",
   "execution_count": 1,
   "id": "e5cfd432",
   "metadata": {},
   "outputs": [
    {
     "name": "stdout",
     "output_type": "stream",
     "text": [
      "4321\n"
     ]
    }
   ],
   "source": [
    "# Reverse of a number using loop\n",
    "n = 1234\n",
    "\n",
    "rev = 0\n",
    "\n",
    "while n > 0:\n",
    "    digit = n % 10\n",
    "    n //= 10\n",
    "    rev = rev * 10 + digit\n",
    "    \n",
    "print(rev)"
   ]
  },
  {
   "cell_type": "code",
   "execution_count": null,
   "id": "65592ed8",
   "metadata": {},
   "outputs": [],
   "source": []
  },
  {
   "cell_type": "code",
   "execution_count": null,
   "id": "d72688fb",
   "metadata": {},
   "outputs": [],
   "source": []
  },
  {
   "cell_type": "code",
   "execution_count": 2,
   "id": "da9a79c1",
   "metadata": {},
   "outputs": [
    {
     "name": "stdout",
     "output_type": "stream",
     "text": [
      "100 <class 'str'>\n"
     ]
    }
   ],
   "source": [
    "n = 100\n",
    "s = str(n) # \"100\"\n",
    "\n",
    "print(s, type(s))"
   ]
  },
  {
   "cell_type": "code",
   "execution_count": null,
   "id": "3c7166bf",
   "metadata": {},
   "outputs": [],
   "source": [
    "# Reverse a string with recursion\n",
    "\"hello\" => \"olleh\"\n",
    "\"ok\" => \"ko\"\n",
    "\"100\" => \"001\""
   ]
  },
  {
   "cell_type": "code",
   "execution_count": 3,
   "id": "fe7b645c",
   "metadata": {},
   "outputs": [],
   "source": [
    "def reverseString(s):\n",
    "    if len(s) <= 1:\n",
    "        return s\n",
    "    \n",
    "    first = s[0]\n",
    "    last = s[-1]\n",
    "    remainingString = s[1:-1]\n",
    "    return last + reverseString(remainingString) + first"
   ]
  },
  {
   "cell_type": "code",
   "execution_count": 4,
   "id": "d16206b7",
   "metadata": {},
   "outputs": [
    {
     "data": {
      "text/plain": [
       "'olleh'"
      ]
     },
     "execution_count": 4,
     "metadata": {},
     "output_type": "execute_result"
    }
   ],
   "source": [
    "reverseString(\"hello\")"
   ]
  },
  {
   "cell_type": "code",
   "execution_count": 5,
   "id": "3402a71e",
   "metadata": {},
   "outputs": [
    {
     "data": {
      "text/plain": [
       "'ko'"
      ]
     },
     "execution_count": 5,
     "metadata": {},
     "output_type": "execute_result"
    }
   ],
   "source": [
    "reverseString('ok')"
   ]
  },
  {
   "cell_type": "code",
   "execution_count": 6,
   "id": "ac8339fd",
   "metadata": {},
   "outputs": [
    {
     "data": {
      "text/plain": [
       "'001'"
      ]
     },
     "execution_count": 6,
     "metadata": {},
     "output_type": "execute_result"
    }
   ],
   "source": [
    "reverseString('100')"
   ]
  },
  {
   "cell_type": "code",
   "execution_count": null,
   "id": "b48fa524",
   "metadata": {},
   "outputs": [],
   "source": [
    "# Helper function\n",
    "def reverseString(s):\n",
    "    if len(s) <= 1:\n",
    "        return s\n",
    "    \n",
    "    first = s[0]\n",
    "    last = s[-1]\n",
    "    remainingString = s[1:-1]\n",
    "    return last + reverseString(remainingString) + first\n",
    "    \n",
    "def rev(n, temp=''):\n",
    "    return reverseString(str(n))\n",
    "\n",
    "    "
   ]
  }
 ],
 "metadata": {
  "kernelspec": {
   "display_name": "Python 3 (ipykernel)",
   "language": "python",
   "name": "python3"
  },
  "language_info": {
   "codemirror_mode": {
    "name": "ipython",
    "version": 3
   },
   "file_extension": ".py",
   "mimetype": "text/x-python",
   "name": "python",
   "nbconvert_exporter": "python",
   "pygments_lexer": "ipython3",
   "version": "3.9.12"
  }
 },
 "nbformat": 4,
 "nbformat_minor": 5
}
