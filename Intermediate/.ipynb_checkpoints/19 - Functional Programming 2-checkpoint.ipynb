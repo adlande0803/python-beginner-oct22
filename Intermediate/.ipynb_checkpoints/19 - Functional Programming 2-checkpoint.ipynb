{
 "cells": [
  {
   "cell_type": "markdown",
   "id": "7eb838aa",
   "metadata": {},
   "source": [
    "# Functional Programming 2"
   ]
  },
  {
   "cell_type": "code",
   "execution_count": null,
   "id": "4f5fda08",
   "metadata": {},
   "outputs": [],
   "source": []
  },
  {
   "cell_type": "code",
   "execution_count": null,
   "id": "914abf53",
   "metadata": {},
   "outputs": [],
   "source": []
  },
  {
   "cell_type": "code",
   "execution_count": null,
   "id": "07ea5240",
   "metadata": {},
   "outputs": [],
   "source": []
  },
  {
   "cell_type": "markdown",
   "id": "0b777725",
   "metadata": {},
   "source": [
    "## map\n",
    "![](https://www.scaler.com/topics/images/map-in-python.webp)"
   ]
  },
  {
   "cell_type": "code",
   "execution_count": null,
   "id": "d081451f",
   "metadata": {},
   "outputs": [],
   "source": []
  },
  {
   "cell_type": "markdown",
   "id": "c31f7919",
   "metadata": {},
   "source": [
    "**Challenge:** \\\n",
    "Given a list of numbers, generate a list containing squares of all numbers.\n",
    "\n",
    "**Sample Input:** \\\n",
    "```[4, 2, -1, 0, -3, 6, -6, 1, -5]```\n",
    "\n",
    "**Sample Output:** \\\n",
    "```[16, 4, 1, 0, 9, 36, 36, 1, 25]```"
   ]
  },
  {
   "cell_type": "code",
   "execution_count": 2,
   "id": "5432bd68",
   "metadata": {},
   "outputs": [
    {
     "name": "stdout",
     "output_type": "stream",
     "text": [
      "[16, 4, 1, 0, 9, 36, 36, 1, 25]\n"
     ]
    }
   ],
   "source": [
    "def square(x):\n",
    "    return x * x\n",
    "\n",
    "a = [4, 2, -1, 0, -3, 6, -6, 1, -5]\n",
    "b = list(map(square, a))\n",
    "print(b)"
   ]
  },
  {
   "cell_type": "code",
   "execution_count": 3,
   "id": "c74b7fd9",
   "metadata": {},
   "outputs": [
    {
     "name": "stdout",
     "output_type": "stream",
     "text": [
      "[16, 4, 1, 0, 9, 36, 36, 1, 25]\n"
     ]
    }
   ],
   "source": [
    "a = [4, 2, -1, 0, -3, 6, -6, 1, -5]\n",
    "b = list(map(lambda x: x * x, a))\n",
    "print(b)"
   ]
  },
  {
   "cell_type": "code",
   "execution_count": null,
   "id": "fe867d21",
   "metadata": {},
   "outputs": [],
   "source": []
  },
  {
   "cell_type": "code",
   "execution_count": null,
   "id": "7167674c",
   "metadata": {},
   "outputs": [],
   "source": []
  },
  {
   "cell_type": "markdown",
   "id": "9c3fa8e7",
   "metadata": {},
   "source": [
    "**Challenge:** \\\n",
    "Given a list of heights, convert them to t-shirt size\n",
    "```\n",
    "h < 150 -> S\n",
    "h >= 150 and h < 180 -> M\n",
    "h >= 180 -> L\n",
    "```\n",
    "\n",
    "\n",
    "**Sample Input:** \\\n",
    "```[144, 167, 189, 170, 190, 150, 165, 178, 200, 130]```\n",
    "\n",
    "**Sample Output:** \\\n",
    "```['S', 'M', 'L', 'M', 'L', 'M', 'M', 'M', 'L', 'S']```"
   ]
  },
  {
   "cell_type": "code",
   "execution_count": 4,
   "id": "a4db3b50",
   "metadata": {},
   "outputs": [
    {
     "name": "stdout",
     "output_type": "stream",
     "text": [
      "['S', 'M', 'L', 'M', 'L', 'M', 'M', 'M', 'L', 'S']\n"
     ]
    }
   ],
   "source": [
    "def size(x):\n",
    "    if x < 150:\n",
    "        return \"S\"\n",
    "    elif 150 <= x < 180:\n",
    "        return \"M\"\n",
    "    else:\n",
    "        return \"L\"\n",
    "\n",
    "a = [144, 167, 189, 170, 190, 150, 165, 178, 200, 130]\n",
    "b = list(map(size, a))\n",
    "print(b)"
   ]
  },
  {
   "cell_type": "code",
   "execution_count": null,
   "id": "5a475e30",
   "metadata": {},
   "outputs": [],
   "source": []
  },
  {
   "cell_type": "code",
   "execution_count": null,
   "id": "1741f234",
   "metadata": {},
   "outputs": [],
   "source": []
  },
  {
   "cell_type": "code",
   "execution_count": null,
   "id": "276f286a",
   "metadata": {},
   "outputs": [],
   "source": []
  },
  {
   "cell_type": "markdown",
   "id": "48cc5bba",
   "metadata": {},
   "source": [
    "`map` function can also be used to iterate over two iterables at the same time."
   ]
  },
  {
   "cell_type": "code",
   "execution_count": null,
   "id": "6278f560",
   "metadata": {},
   "outputs": [],
   "source": []
  },
  {
   "cell_type": "markdown",
   "id": "c18f08a2",
   "metadata": {},
   "source": [
    "**Challenge:** \\\n",
    "Given two separate lists, generate a third list containing sum of all corresponding elements.\n",
    "\n",
    "\n",
    "**Sample Input:** \n",
    "```\n",
    "A = [1, 2, 3]\n",
    "B = [4, 5 ,6]\n",
    "```\n",
    "\n",
    "**Sample Output:** \\\n",
    "```[5, 7, 9]```"
   ]
  },
  {
   "cell_type": "code",
   "execution_count": 9,
   "id": "b520cbec",
   "metadata": {},
   "outputs": [
    {
     "name": "stdout",
     "output_type": "stream",
     "text": [
      "x = 1, y = 4\n",
      "x = 2, y = 5\n",
      "x = 3, y = 6\n",
      "[5, 7, 9]\n"
     ]
    }
   ],
   "source": [
    "def addTwoNumbers(x, y):\n",
    "    \"\"\"\n",
    "    x is going to have elements from list A\n",
    "    y is going to have elements from list B\n",
    "    \"\"\"\n",
    "    print(f\"x = {x}, y = {y}\")\n",
    "    return x + y\n",
    "    \n",
    "    \n",
    "A = [1, 2, 3]\n",
    "B = [4, 5, 6]\n",
    "\n",
    "result = list(map(addTwoNumbers, A, B))\n",
    "print(result)\n",
    "\n",
    "# reload if you cannot hear me"
   ]
  },
  {
   "cell_type": "code",
   "execution_count": null,
   "id": "2bd64e3f",
   "metadata": {},
   "outputs": [],
   "source": []
  },
  {
   "cell_type": "code",
   "execution_count": null,
   "id": "83c10fa2",
   "metadata": {},
   "outputs": [],
   "source": []
  },
  {
   "cell_type": "code",
   "execution_count": null,
   "id": "43f596a7",
   "metadata": {},
   "outputs": [],
   "source": []
  },
  {
   "cell_type": "code",
   "execution_count": null,
   "id": "f4f72022",
   "metadata": {},
   "outputs": [],
   "source": []
  },
  {
   "cell_type": "markdown",
   "id": "e17157eb",
   "metadata": {},
   "source": [
    "#### Quiz 1\n",
    "What is the output of the following code ? \n",
    "```py\n",
    "list1 = [1, 0, 1]\n",
    "list2 = [0, 0, 1]\n",
    "res = list(map(lambda x, y:  x == y, list1, list2))\n",
    "```"
   ]
  },
  {
   "cell_type": "code",
   "execution_count": 11,
   "id": "14d94aa6",
   "metadata": {},
   "outputs": [
    {
     "name": "stdout",
     "output_type": "stream",
     "text": [
      "[False, True, True]\n"
     ]
    }
   ],
   "source": [
    "list1 = [1, 0, 1]\n",
    "list2 = [0, 0, 1]\n",
    "res = list(map(lambda x, y: x == y, list1, list2))\n",
    "print(res)\n",
    "\n",
    "# x = 1, y = 0 => 1 == 0 = False\n",
    "# x = 0, y = 0 => 0 == 0 = True\n",
    "# x = 1, y = 1 => 1 == 1 = True"
   ]
  },
  {
   "cell_type": "code",
   "execution_count": 12,
   "id": "c294f92a",
   "metadata": {},
   "outputs": [
    {
     "data": {
      "text/plain": [
       "True"
      ]
     },
     "execution_count": 12,
     "metadata": {},
     "output_type": "execute_result"
    }
   ],
   "source": [
    "None == None"
   ]
  },
  {
   "cell_type": "code",
   "execution_count": null,
   "id": "1cb821f6",
   "metadata": {},
   "outputs": [],
   "source": []
  },
  {
   "cell_type": "code",
   "execution_count": null,
   "id": "13f160ee",
   "metadata": {},
   "outputs": [],
   "source": []
  },
  {
   "cell_type": "code",
   "execution_count": null,
   "id": "2a3820ed",
   "metadata": {},
   "outputs": [],
   "source": []
  },
  {
   "cell_type": "markdown",
   "id": "fe89c1ee",
   "metadata": {},
   "source": [
    "## args"
   ]
  },
  {
   "cell_type": "code",
   "execution_count": null,
   "id": "079d6ba0",
   "metadata": {},
   "outputs": [],
   "source": []
  },
  {
   "cell_type": "code",
   "execution_count": 16,
   "id": "16a717a1",
   "metadata": {},
   "outputs": [
    {
     "name": "stdout",
     "output_type": "stream",
     "text": [
      "(2, 6, 1, 8, 4, 3, 2) <class 'tuple'>\n",
      "3.7142857142857144\n",
      "(2, 6, 1, 8, 4, 3, 2, 9, 45, 1, 2, 67, 4, 2, 0, 90, 0, 0, 0, 2) <class 'tuple'>\n",
      "12.4\n",
      "() <class 'tuple'>\n",
      "0\n"
     ]
    }
   ],
   "source": [
    "# args is a tuple of the arguments\n",
    "def getAvg(*args):\n",
    "    \"\"\"Function to compute average of numbers provided\"\"\"\n",
    "    print(args, type(args))\n",
    "    s = sum(args)\n",
    "    if len(args) == 0:\n",
    "        return 0\n",
    "    return s / len(args)\n",
    "    \n",
    "\n",
    "avg = getAvg(2, 6, 1, 8, 4, 3, 2)\n",
    "print(avg)\n",
    "\n",
    "avg2 = getAvg(2, 6, 1, 8, 4, 3, 2, 9, 45, 1, 2, 67, 4, 2 ,0, 90, 0, 0, 0, 2)\n",
    "print(avg2)\n",
    "\n",
    "avg3 = getAvg()\n",
    "print(avg3)"
   ]
  },
  {
   "cell_type": "code",
   "execution_count": null,
   "id": "db0e9cc6",
   "metadata": {},
   "outputs": [],
   "source": []
  },
  {
   "cell_type": "code",
   "execution_count": null,
   "id": "21a90891",
   "metadata": {},
   "outputs": [],
   "source": []
  },
  {
   "cell_type": "markdown",
   "id": "26e6d3ef",
   "metadata": {},
   "source": [
    "## kwargs\n",
    "keyword arguments"
   ]
  },
  {
   "cell_type": "code",
   "execution_count": 20,
   "id": "f9836978",
   "metadata": {},
   "outputs": [
    {
     "ename": "TypeError",
     "evalue": "hello() got an unexpected keyword argument 'age'",
     "output_type": "error",
     "traceback": [
      "\u001b[0;31m---------------------------------------------------------------------------\u001b[0m",
      "\u001b[0;31mTypeError\u001b[0m                                 Traceback (most recent call last)",
      "\u001b[0;32m/var/folders/jn/1bsrct314hv5xmfm7vrcdrzc0000gn/T/ipykernel_3786/4275676094.py\u001b[0m in \u001b[0;36m<module>\u001b[0;34m\u001b[0m\n\u001b[1;32m      4\u001b[0m \u001b[0;34m\u001b[0m\u001b[0m\n\u001b[1;32m      5\u001b[0m \u001b[0;31m#     Extra keyword args\u001b[0m\u001b[0;34m\u001b[0m\u001b[0;34m\u001b[0m\u001b[0m\n\u001b[0;32m----> 6\u001b[0;31m \u001b[0mhello\u001b[0m\u001b[0;34m(\u001b[0m\u001b[0mname\u001b[0m\u001b[0;34m=\u001b[0m\u001b[0;34m\"Peter Parker\"\u001b[0m\u001b[0;34m,\u001b[0m \u001b[0mage\u001b[0m\u001b[0;34m=\u001b[0m\u001b[0;36m20\u001b[0m\u001b[0;34m,\u001b[0m \u001b[0mvillains\u001b[0m\u001b[0;34m=\u001b[0m\u001b[0;34m[\u001b[0m\u001b[0;34m\"Venom\"\u001b[0m\u001b[0;34m,\u001b[0m \u001b[0;34m\"Electro\"\u001b[0m\u001b[0;34m]\u001b[0m\u001b[0;34m)\u001b[0m\u001b[0;34m\u001b[0m\u001b[0;34m\u001b[0m\u001b[0m\n\u001b[0m",
      "\u001b[0;31mTypeError\u001b[0m: hello() got an unexpected keyword argument 'age'"
     ]
    }
   ],
   "source": [
    "def hello(name):\n",
    "    print(name)\n",
    "\n",
    "\n",
    "#     Extra keyword args\n",
    "hello(name=\"Peter Parker\", age=20, villains=[\"Venom\", \"Electro\"])\n"
   ]
  },
  {
   "cell_type": "code",
   "execution_count": 25,
   "id": "9c0432f5",
   "metadata": {},
   "outputs": [
    {
     "name": "stdout",
     "output_type": "stream",
     "text": [
      "{'name': 'Peter Parker', 'age': 20, 'villains': ['Venom', 'Electro']} <class 'dict'>\n",
      "20\n"
     ]
    }
   ],
   "source": [
    "# Modify my function to accept any kind of keyword args\n",
    "def hello(**kwargs):\n",
    "    print(kwargs, type(kwargs))\n",
    "    print(kwargs[\"age\"])\n",
    "\n",
    "\n",
    "hello(name=\"Peter Parker\", age=20, villains=[\"Venom\", \"Electro\"])\n"
   ]
  },
  {
   "cell_type": "code",
   "execution_count": null,
   "id": "efa88709",
   "metadata": {},
   "outputs": [],
   "source": []
  },
  {
   "cell_type": "markdown",
   "id": "674ab665",
   "metadata": {},
   "source": [
    "#### Hogwarts\n",
    "What will be the output of the following code snippet ?\n",
    "```py\n",
    "def hogwarts(house1, house2, house3, house4, *args, **kwargs):\n",
    "    print(\"Houses are \", house1, house2, house3, house4)\n",
    "    print()\n",
    "    print(\"Args :\", args)\n",
    "    print()\n",
    "    print(\"Kwargs :\", kwargs)\n",
    "\n",
    "\n",
    "hogwarts(\n",
    "    \"Gryffindor\",\n",
    "    \"Ravenclaw\",\n",
    "    \"Hufflepuff\",\n",
    "    \"Slytherin\",\n",
    "    \"Severus Snape\",\n",
    "    \"Horace Slughorn\",\n",
    "    \"Remus Lupin\",\n",
    "    headmaster=\"Albus Dumbledore\",\n",
    "    deputy_headmistress=\"Minerva McGonagall\",\n",
    ")\n",
    "\n",
    "```"
   ]
  },
  {
   "cell_type": "code",
   "execution_count": 26,
   "id": "2904d882",
   "metadata": {},
   "outputs": [
    {
     "name": "stdout",
     "output_type": "stream",
     "text": [
      "Houses are  Gryffindor Ravenclaw Hufflepuff Slytherin\n",
      "\n",
      "Args : ('Severus Snape', 'Horace Slughorn', 'Remus Lupin')\n",
      "\n",
      "Kwargs : {'headmaster': 'Albus Dumbledore', 'deputy_headmistress': 'Minerva McGonagall'}\n"
     ]
    }
   ],
   "source": [
    "def hogwarts(house1, house2, house3, house4, *args, **kwargs):\n",
    "    print(\"Houses are \", house1, house2, house3, house4)\n",
    "    print()\n",
    "    print(\"Args :\", args)\n",
    "    print()\n",
    "    print(\"Kwargs :\", kwargs)\n",
    "\n",
    "\n",
    "hogwarts(\n",
    "    \"Gryffindor\",\n",
    "    \"Ravenclaw\",\n",
    "    \"Hufflepuff\",\n",
    "    \"Slytherin\",\n",
    "    \"Severus Snape\",\n",
    "    \"Horace Slughorn\",\n",
    "    \"Remus Lupin\",\n",
    "    headmaster=\"Albus Dumbledore\",\n",
    "    deputy_headmistress=\"Minerva McGonagall\",\n",
    ")"
   ]
  },
  {
   "cell_type": "code",
   "execution_count": null,
   "id": "42996b37",
   "metadata": {},
   "outputs": [],
   "source": [
    "# These come very handy when you are trying generic functions"
   ]
  },
  {
   "cell_type": "code",
   "execution_count": 27,
   "id": "9e37d72e",
   "metadata": {},
   "outputs": [],
   "source": [
    "def hello(name):\n",
    "    print(name)"
   ]
  },
  {
   "cell_type": "code",
   "execution_count": 28,
   "id": "a13cfe51",
   "metadata": {},
   "outputs": [
    {
     "ename": "TypeError",
     "evalue": "hello() got an unexpected keyword argument 'age'",
     "output_type": "error",
     "traceback": [
      "\u001b[0;31m---------------------------------------------------------------------------\u001b[0m",
      "\u001b[0;31mTypeError\u001b[0m                                 Traceback (most recent call last)",
      "\u001b[0;32m/var/folders/jn/1bsrct314hv5xmfm7vrcdrzc0000gn/T/ipykernel_3786/1766656656.py\u001b[0m in \u001b[0;36m<module>\u001b[0;34m\u001b[0m\n\u001b[0;32m----> 1\u001b[0;31m \u001b[0mhello\u001b[0m\u001b[0;34m(\u001b[0m\u001b[0;34m\"Peter\"\u001b[0m\u001b[0;34m,\u001b[0m \u001b[0mage\u001b[0m\u001b[0;34m=\u001b[0m\u001b[0;36m20\u001b[0m\u001b[0;34m)\u001b[0m\u001b[0;34m\u001b[0m\u001b[0;34m\u001b[0m\u001b[0m\n\u001b[0m",
      "\u001b[0;31mTypeError\u001b[0m: hello() got an unexpected keyword argument 'age'"
     ]
    }
   ],
   "source": [
    "hello(\"Peter\", age=20)"
   ]
  },
  {
   "cell_type": "code",
   "execution_count": 29,
   "id": "08053075",
   "metadata": {},
   "outputs": [
    {
     "ename": "SyntaxError",
     "evalue": "invalid syntax (4115016097.py, line 1)",
     "output_type": "error",
     "traceback": [
      "\u001b[0;36m  File \u001b[0;32m\"/var/folders/jn/1bsrct314hv5xmfm7vrcdrzc0000gn/T/ipykernel_3786/4115016097.py\"\u001b[0;36m, line \u001b[0;32m1\u001b[0m\n\u001b[0;31m    def hello(name, **kwargs, *args):\u001b[0m\n\u001b[0m                              ^\u001b[0m\n\u001b[0;31mSyntaxError\u001b[0m\u001b[0;31m:\u001b[0m invalid syntax\n"
     ]
    }
   ],
   "source": [
    "def hello(name, **kwargs, *args):\n",
    "    print(name)"
   ]
  },
  {
   "cell_type": "code",
   "execution_count": 30,
   "id": "8d0e670b",
   "metadata": {},
   "outputs": [],
   "source": [
    "# *args must always come before **kwargs"
   ]
  },
  {
   "cell_type": "code",
   "execution_count": null,
   "id": "c02a091b",
   "metadata": {},
   "outputs": [],
   "source": []
  },
  {
   "cell_type": "code",
   "execution_count": null,
   "id": "5fff2b1a",
   "metadata": {},
   "outputs": [],
   "source": []
  },
  {
   "cell_type": "markdown",
   "id": "cb5e1de8",
   "metadata": {},
   "source": [
    "## Decorators\n",
    "Higher order functions that take another function as input and add the extra behaviour in along with the functionality of passed function\n",
    "![](https://www.scaler.com/topics/images/python-decorators.webp)"
   ]
  },
  {
   "cell_type": "code",
   "execution_count": 39,
   "id": "5b9e6eb0",
   "metadata": {},
   "outputs": [],
   "source": [
    "def foo():\n",
    "    print(\"Hello everyone! How are you doing?\")\n",
    "    \n",
    "def bar():\n",
    "    print(\"Random cliche print statement!\")"
   ]
  },
  {
   "cell_type": "code",
   "execution_count": 40,
   "id": "d301031a",
   "metadata": {},
   "outputs": [
    {
     "name": "stdout",
     "output_type": "stream",
     "text": [
      "Hello everyone! How are you doing?\n",
      "Random cliche print statement!\n"
     ]
    }
   ],
   "source": [
    "foo()\n",
    "bar()"
   ]
  },
  {
   "cell_type": "code",
   "execution_count": 42,
   "id": "ef29cea1",
   "metadata": {},
   "outputs": [
    {
     "name": "stdout",
     "output_type": "stream",
     "text": [
      "--------------------------------------------------\n",
      "Hello everyone! How are you doing?\n",
      "--------------------------------------------------\n"
     ]
    }
   ],
   "source": [
    "def foo():\n",
    "    print(\"-\" * 50)\n",
    "    print(\"Hello everyone! How are you doing?\")\n",
    "    print(\"-\" * 50)\n",
    "    \n",
    "foo()"
   ]
  },
  {
   "cell_type": "code",
   "execution_count": 47,
   "id": "4bfa4e0a",
   "metadata": {},
   "outputs": [
    {
     "name": "stdout",
     "output_type": "stream",
     "text": [
      "--------------------------------------------------\n",
      "Random cliche print statement!\n",
      "--------------------------------------------------\n"
     ]
    }
   ],
   "source": [
    "def bar():\n",
    "    print(\"-\" * 50)\n",
    "    print(\"Random cliche print statement!\")\n",
    "    print(\"-\" * 50)\n",
    "    \n",
    "bar()"
   ]
  },
  {
   "cell_type": "code",
   "execution_count": 45,
   "id": "bef97aec",
   "metadata": {},
   "outputs": [
    {
     "name": "stdout",
     "output_type": "stream",
     "text": [
      "--------------------------------------------------\n",
      "Hello everyone! How are you doing?\n",
      "--------------------------------------------------\n",
      "--------------------------------------------------\n",
      "Random cliche print statement!\n",
      "--------------------------------------------------\n"
     ]
    }
   ],
   "source": [
    "foo()\n",
    "bar()"
   ]
  },
  {
   "cell_type": "code",
   "execution_count": null,
   "id": "f1af2502",
   "metadata": {},
   "outputs": [],
   "source": []
  },
  {
   "cell_type": "code",
   "execution_count": 48,
   "id": "b4bc873b",
   "metadata": {},
   "outputs": [],
   "source": [
    "def pretty(func):\n",
    "    def wrapper():\n",
    "        print(\"-\" * 50)\n",
    "        func()\n",
    "        print(\"-\" * 50)\n",
    "        \n",
    "    return wrapper"
   ]
  },
  {
   "cell_type": "code",
   "execution_count": 53,
   "id": "3180366f",
   "metadata": {},
   "outputs": [],
   "source": [
    "@pretty\n",
    "def foo():\n",
    "    print(\"Hello everyone! How are you doing?\")\n",
    "\n",
    "@pretty\n",
    "def bar():\n",
    "    print(\"Random cliche print statement!\")"
   ]
  },
  {
   "cell_type": "code",
   "execution_count": 54,
   "id": "fd89ab46",
   "metadata": {},
   "outputs": [
    {
     "name": "stdout",
     "output_type": "stream",
     "text": [
      "--------------------------------------------------\n",
      "Hello everyone! How are you doing?\n",
      "--------------------------------------------------\n",
      "--------------------------------------------------\n",
      "Random cliche print statement!\n",
      "--------------------------------------------------\n"
     ]
    }
   ],
   "source": [
    "foo()\n",
    "bar()"
   ]
  },
  {
   "cell_type": "code",
   "execution_count": null,
   "id": "26f871f4",
   "metadata": {},
   "outputs": [],
   "source": []
  },
  {
   "cell_type": "code",
   "execution_count": 56,
   "id": "976f424f",
   "metadata": {},
   "outputs": [],
   "source": [
    "def abcd(myPersonalFunction):\n",
    "    def inner():\n",
    "        print(\"-\" * 50)\n",
    "        myPersonalFunction()\n",
    "        print(\"-\" * 50)\n",
    "        \n",
    "    return inner"
   ]
  },
  {
   "cell_type": "code",
   "execution_count": 57,
   "id": "1eedf755",
   "metadata": {},
   "outputs": [
    {
     "name": "stdout",
     "output_type": "stream",
     "text": [
      "--------------------------------------------------\n",
      "Hello everyone! How are you doing?\n",
      "--------------------------------------------------\n",
      "--------------------------------------------------\n",
      "Random cliche print statement!\n",
      "--------------------------------------------------\n"
     ]
    }
   ],
   "source": [
    "@abcd\n",
    "def foo():\n",
    "    print(\"Hello everyone! How are you doing?\")\n",
    "\n",
    "@abcd\n",
    "def bar():\n",
    "    print(\"Random cliche print statement!\")\n",
    "    \n",
    "foo()\n",
    "bar()"
   ]
  },
  {
   "cell_type": "code",
   "execution_count": null,
   "id": "d5cf2ecb",
   "metadata": {},
   "outputs": [],
   "source": [
    "foo, foo()"
   ]
  },
  {
   "cell_type": "code",
   "execution_count": null,
   "id": "999b747e",
   "metadata": {},
   "outputs": [],
   "source": []
  },
  {
   "cell_type": "code",
   "execution_count": null,
   "id": "87639cf8",
   "metadata": {},
   "outputs": [],
   "source": []
  },
  {
   "cell_type": "code",
   "execution_count": null,
   "id": "566b4fbe",
   "metadata": {},
   "outputs": [],
   "source": []
  },
  {
   "cell_type": "markdown",
   "id": "acb17eb9",
   "metadata": {},
   "source": [
    "## zip\n",
    "![](https://www.scaler.com/topics/images/zip-in-python.webp)"
   ]
  },
  {
   "cell_type": "code",
   "execution_count": 34,
   "id": "a4e54f32",
   "metadata": {},
   "outputs": [],
   "source": [
    "a = [1, 2, 3]\n",
    "b = [\"a\", \"b\", \"c\", \"d\", \"e\"]"
   ]
  },
  {
   "cell_type": "code",
   "execution_count": 35,
   "id": "6bef4788",
   "metadata": {},
   "outputs": [
    {
     "name": "stdout",
     "output_type": "stream",
     "text": [
      "[(1, 'a'), (2, 'b'), (3, 'c')]\n"
     ]
    }
   ],
   "source": [
    "c = list(zip(a, b))\n",
    "print(c)"
   ]
  },
  {
   "cell_type": "code",
   "execution_count": null,
   "id": "640a878b",
   "metadata": {},
   "outputs": [],
   "source": []
  },
  {
   "cell_type": "code",
   "execution_count": null,
   "id": "424d1e45",
   "metadata": {},
   "outputs": [],
   "source": []
  },
  {
   "cell_type": "code",
   "execution_count": null,
   "id": "494150a7",
   "metadata": {},
   "outputs": [],
   "source": []
  },
  {
   "cell_type": "markdown",
   "id": "318bf455",
   "metadata": {},
   "source": [
    "**Challenge:** \\\n",
    "Given lists of names, roll numbers, and marks of students, join them to create a list of students objects having all three properties in `name, rollno, marks` format\n",
    "\n",
    "\n",
    "**Sample Input:** \\\n",
    "```\n",
    "names = ['Steve', 'Tony', 'Thor']\n",
    "rollno = [10, 15, 20]\n",
    "marks = [85, 92, 66]\n",
    "```\n",
    "\n",
    "**Sample Output:** \\\n",
    "```[('Steve', 10, 85), ('Tony', 15, 92), ('Thor', 20, 66)]```"
   ]
  },
  {
   "cell_type": "code",
   "execution_count": 36,
   "id": "35c6c3ad",
   "metadata": {},
   "outputs": [
    {
     "name": "stdout",
     "output_type": "stream",
     "text": [
      "[('Steve', 10, 85), ('Tony', 15, 92), ('Thor', 20, 66)]\n"
     ]
    }
   ],
   "source": [
    "names = ['Steve', 'Tony', 'Thor']\n",
    "rollno = [10, 15, 20]\n",
    "marks = [85, 92, 66]\n",
    "\n",
    "result = list(zip(names, rollno, marks))\n",
    "print(result)"
   ]
  },
  {
   "cell_type": "code",
   "execution_count": null,
   "id": "5292e351",
   "metadata": {},
   "outputs": [],
   "source": [
    "# Break till 10:05 PM"
   ]
  },
  {
   "cell_type": "code",
   "execution_count": 38,
   "id": "12ada636",
   "metadata": {},
   "outputs": [
    {
     "name": "stdout",
     "output_type": "stream",
     "text": [
      "<zip object at 0x107f5c380>\n"
     ]
    }
   ],
   "source": [
    "result = zip(names, rollno, marks)\n",
    "print(result)"
   ]
  },
  {
   "cell_type": "code",
   "execution_count": null,
   "id": "c743c35b",
   "metadata": {},
   "outputs": [],
   "source": []
  },
  {
   "cell_type": "markdown",
   "id": "d6672fa9",
   "metadata": {},
   "source": [
    "## reduce\n",
    "![](https://www.scaler.com/topics/images/reduce-in-javascript.webp)\n",
    "\n",
    "Used to reduce your overall array to a single value"
   ]
  },
  {
   "cell_type": "code",
   "execution_count": 58,
   "id": "ddee916c",
   "metadata": {},
   "outputs": [],
   "source": [
    "from functools import reduce"
   ]
  },
  {
   "cell_type": "code",
   "execution_count": null,
   "id": "4ba1a055",
   "metadata": {},
   "outputs": [],
   "source": []
  },
  {
   "cell_type": "code",
   "execution_count": 59,
   "id": "19d0d749",
   "metadata": {},
   "outputs": [
    {
     "name": "stdout",
     "output_type": "stream",
     "text": [
      "15\n"
     ]
    }
   ],
   "source": [
    "# Sum of my array\n",
    "nums = [1, 2, 3, 4, 5]\n",
    "result = reduce(lambda acc, curr: acc + curr, nums)\n",
    "print(result)"
   ]
  },
  {
   "cell_type": "code",
   "execution_count": null,
   "id": "520bca84",
   "metadata": {},
   "outputs": [],
   "source": []
  },
  {
   "cell_type": "code",
   "execution_count": null,
   "id": "b4cd16e3",
   "metadata": {},
   "outputs": [],
   "source": []
  },
  {
   "cell_type": "markdown",
   "id": "3892291c",
   "metadata": {},
   "source": [
    "#### Quiz 2\n",
    "```py\n",
    "reduce(lambda x,y: x*y, [3, 1, 4])\n",
    "```"
   ]
  },
  {
   "cell_type": "code",
   "execution_count": 61,
   "id": "4e45c1d0",
   "metadata": {},
   "outputs": [
    {
     "name": "stdout",
     "output_type": "stream",
     "text": [
      "12\n"
     ]
    }
   ],
   "source": [
    "ans = reduce(lambda x,y: x*y, [3, 1, 4])\n",
    "print(ans)"
   ]
  },
  {
   "cell_type": "code",
   "execution_count": 62,
   "id": "2b273960",
   "metadata": {},
   "outputs": [
    {
     "name": "stdout",
     "output_type": "stream",
     "text": [
      "acc = 3, curr = 1\n",
      "acc = 3, curr = 4\n",
      "12\n"
     ]
    }
   ],
   "source": [
    "def multiply(x, y):\n",
    "    print(f\"acc = {x}, curr = {y}\")\n",
    "    return x * y\n",
    "\n",
    "ans = reduce(multiply, [3, 1, 4])\n",
    "print(ans)"
   ]
  },
  {
   "cell_type": "code",
   "execution_count": null,
   "id": "53ea2875",
   "metadata": {},
   "outputs": [],
   "source": []
  },
  {
   "cell_type": "code",
   "execution_count": null,
   "id": "63d85626",
   "metadata": {},
   "outputs": [],
   "source": []
  },
  {
   "cell_type": "markdown",
   "id": "24903da1",
   "metadata": {},
   "source": [
    "# Reference Material\n",
    "- https://www.scaler.com/topics/zip-in-python/\n",
    "- https://www.scaler.com/topics/map-function-in-python/\n",
    "- https://www.scaler.com/topics/python/args-and-kwargs-in-python/\n",
    "- https://www.scaler.com/topics/reduce-function-in-python/\n",
    "- https://www.scaler.com/topics/python/python-decorators/"
   ]
  },
  {
   "cell_type": "code",
   "execution_count": null,
   "id": "30f99b80",
   "metadata": {},
   "outputs": [],
   "source": []
  },
  {
   "cell_type": "code",
   "execution_count": null,
   "id": "65a14d25",
   "metadata": {},
   "outputs": [],
   "source": []
  },
  {
   "cell_type": "markdown",
   "id": "a5432366",
   "metadata": {},
   "source": [
    "# Doubts"
   ]
  },
  {
   "cell_type": "code",
   "execution_count": 63,
   "id": "a28ee447",
   "metadata": {},
   "outputs": [],
   "source": [
    "a = [\n",
    "    [\"ok\", \"hello\"],\n",
    "    [\"abc\", \"xyz\"]\n",
    "]\n",
    "\n",
    "for i in range(len(a)):\n",
    "    a[i] = sorted(a[i])"
   ]
  },
  {
   "cell_type": "code",
   "execution_count": 64,
   "id": "cf6eff2d",
   "metadata": {},
   "outputs": [
    {
     "data": {
      "text/plain": [
       "[['hello', 'ok'], ['abc', 'xyz']]"
      ]
     },
     "execution_count": 64,
     "metadata": {},
     "output_type": "execute_result"
    }
   ],
   "source": [
    "a"
   ]
  },
  {
   "cell_type": "code",
   "execution_count": null,
   "id": "25cedc51",
   "metadata": {},
   "outputs": [],
   "source": [
    "__main__"
   ]
  }
 ],
 "metadata": {
  "kernelspec": {
   "display_name": "Python 3 (ipykernel)",
   "language": "python",
   "name": "python3"
  },
  "language_info": {
   "codemirror_mode": {
    "name": "ipython",
    "version": 3
   },
   "file_extension": ".py",
   "mimetype": "text/x-python",
   "name": "python",
   "nbconvert_exporter": "python",
   "pygments_lexer": "ipython3",
   "version": "3.9.12"
  }
 },
 "nbformat": 4,
 "nbformat_minor": 5
}
