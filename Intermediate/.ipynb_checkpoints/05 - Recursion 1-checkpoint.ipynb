{
 "cells": [
  {
   "cell_type": "markdown",
   "id": "c4ee0085",
   "metadata": {},
   "source": [
    "# Recursion 1\n",
    "![](https://www.scaler.com/topics/images/recursion-in-python.webp)"
   ]
  },
  {
   "cell_type": "code",
   "execution_count": 1,
   "id": "b731a54f",
   "metadata": {},
   "outputs": [],
   "source": [
    "def sum(N):\n",
    "    if N == 1:\n",
    "        return 1\n",
    "    \n",
    "    return sum(N-1) + N"
   ]
  },
  {
   "cell_type": "code",
   "execution_count": 2,
   "id": "e5bba22a",
   "metadata": {},
   "outputs": [
    {
     "name": "stdout",
     "output_type": "stream",
     "text": [
      "15\n"
     ]
    }
   ],
   "source": [
    "print(sum(5))\n",
    "# 1 + 2 + 3 + 4 + 5 = 15"
   ]
  },
  {
   "cell_type": "code",
   "execution_count": 3,
   "id": "bd5e4bfd",
   "metadata": {},
   "outputs": [
    {
     "name": "stdout",
     "output_type": "stream",
     "text": [
      "21\n"
     ]
    }
   ],
   "source": [
    "print(sum(6))"
   ]
  },
  {
   "cell_type": "code",
   "execution_count": null,
   "id": "34a7d2f1",
   "metadata": {},
   "outputs": [],
   "source": []
  },
  {
   "cell_type": "markdown",
   "id": "df2f9703",
   "metadata": {},
   "source": [
    "## Factorial\n",
    "![](https://www.scaler.com/topics/images/factorial-using-recursion-in-python.webp)"
   ]
  },
  {
   "cell_type": "code",
   "execution_count": null,
   "id": "e685e1ba",
   "metadata": {},
   "outputs": [],
   "source": []
  },
  {
   "cell_type": "code",
   "execution_count": null,
   "id": "bd35cd98",
   "metadata": {},
   "outputs": [],
   "source": []
  },
  {
   "cell_type": "code",
   "execution_count": 4,
   "id": "e3e9a803",
   "metadata": {},
   "outputs": [],
   "source": [
    "def incPrint(N):\n",
    "    if N == 0:\n",
    "        return\n",
    "    \n",
    "    incPrint(N-1)\n",
    "    print(N)"
   ]
  },
  {
   "cell_type": "code",
   "execution_count": 5,
   "id": "ba5018ce",
   "metadata": {},
   "outputs": [
    {
     "name": "stdout",
     "output_type": "stream",
     "text": [
      "1\n",
      "2\n",
      "3\n",
      "4\n",
      "5\n"
     ]
    }
   ],
   "source": [
    "incPrint(5)"
   ]
  },
  {
   "cell_type": "code",
   "execution_count": 6,
   "id": "b1420847",
   "metadata": {},
   "outputs": [
    {
     "name": "stdout",
     "output_type": "stream",
     "text": [
      "1\n",
      "2\n",
      "3\n",
      "4\n",
      "5\n",
      "6\n",
      "7\n",
      "8\n",
      "9\n",
      "10\n"
     ]
    }
   ],
   "source": [
    "incPrint(10)"
   ]
  },
  {
   "cell_type": "code",
   "execution_count": null,
   "id": "d66e8259",
   "metadata": {},
   "outputs": [],
   "source": []
  },
  {
   "cell_type": "markdown",
   "id": "74e9d11a",
   "metadata": {},
   "source": [
    "## Reading Material\n",
    "- Recursion in Python - https://www.scaler.com/topics/python/recursion-in-python/\n",
    "- Factorial Using Recursion in Python - https://www.scaler.com/topics/factorial-using-recursion-in-python/\n",
    "- Fibonacci Series in Python Using Recursion - https://www.scaler.com/topics/fibonacci-series-in-python-using-recursion/"
   ]
  },
  {
   "cell_type": "code",
   "execution_count": null,
   "id": "9ab6f0eb",
   "metadata": {},
   "outputs": [],
   "source": []
  }
 ],
 "metadata": {
  "kernelspec": {
   "display_name": "Python 3 (ipykernel)",
   "language": "python",
   "name": "python3"
  },
  "language_info": {
   "codemirror_mode": {
    "name": "ipython",
    "version": 3
   },
   "file_extension": ".py",
   "mimetype": "text/x-python",
   "name": "python",
   "nbconvert_exporter": "python",
   "pygments_lexer": "ipython3",
   "version": "3.9.12"
  }
 },
 "nbformat": 4,
 "nbformat_minor": 5
}
