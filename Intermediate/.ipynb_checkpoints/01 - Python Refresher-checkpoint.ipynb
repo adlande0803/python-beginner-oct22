{
 "cells": [
  {
   "cell_type": "markdown",
   "id": "e30e8998",
   "metadata": {},
   "source": [
    "# Python Refresher"
   ]
  },
  {
   "cell_type": "code",
   "execution_count": 1,
   "id": "3d795699",
   "metadata": {},
   "outputs": [
    {
     "name": "stdout",
     "output_type": "stream",
     "text": [
      "Hello world\n"
     ]
    }
   ],
   "source": [
    "print(\"Hello world\")"
   ]
  },
  {
   "cell_type": "code",
   "execution_count": null,
   "id": "1424d7b6",
   "metadata": {},
   "outputs": [],
   "source": []
  },
  {
   "cell_type": "code",
   "execution_count": null,
   "id": "de7795e4",
   "metadata": {},
   "outputs": [],
   "source": [
    "# Data types\n",
    "- int\n",
    "- str\n",
    "- float\n",
    "- bool\n",
    "- NoneType"
   ]
  },
  {
   "cell_type": "code",
   "execution_count": 2,
   "id": "4662496e",
   "metadata": {},
   "outputs": [
    {
     "name": "stdout",
     "output_type": "stream",
     "text": [
      "5 <class 'int'>\n"
     ]
    }
   ],
   "source": [
    "a = 5\n",
    "# int\n",
    "print(a, type(a))"
   ]
  },
  {
   "cell_type": "code",
   "execution_count": 3,
   "id": "211572e9",
   "metadata": {},
   "outputs": [
    {
     "name": "stdout",
     "output_type": "stream",
     "text": [
      "<class 'float'>\n"
     ]
    }
   ],
   "source": [
    "print(type(4.6))"
   ]
  },
  {
   "cell_type": "code",
   "execution_count": 4,
   "id": "0b9c28c0",
   "metadata": {},
   "outputs": [
    {
     "name": "stdout",
     "output_type": "stream",
     "text": [
      "<class 'str'>\n"
     ]
    }
   ],
   "source": [
    "print(type('python'))"
   ]
  },
  {
   "cell_type": "code",
   "execution_count": 5,
   "id": "ef8a9894",
   "metadata": {},
   "outputs": [
    {
     "name": "stdout",
     "output_type": "stream",
     "text": [
      "<class 'NoneType'>\n"
     ]
    }
   ],
   "source": [
    "print(type(None))"
   ]
  },
  {
   "cell_type": "code",
   "execution_count": 6,
   "id": "e52dec4b",
   "metadata": {},
   "outputs": [
    {
     "name": "stdout",
     "output_type": "stream",
     "text": [
      "<class 'bool'> <class 'bool'>\n"
     ]
    }
   ],
   "source": [
    "print(type(True), type(False))"
   ]
  },
  {
   "cell_type": "code",
   "execution_count": null,
   "id": "43a4032c",
   "metadata": {},
   "outputs": [],
   "source": []
  },
  {
   "cell_type": "code",
   "execution_count": null,
   "id": "c2229abd",
   "metadata": {},
   "outputs": [],
   "source": [
    "# How to check whether a given variable holds an integer ? "
   ]
  },
  {
   "cell_type": "code",
   "execution_count": 8,
   "id": "b5101ca1",
   "metadata": {},
   "outputs": [
    {
     "name": "stdout",
     "output_type": "stream",
     "text": [
      "a is an integer\n"
     ]
    }
   ],
   "source": [
    "a = 10\n",
    "# a = 'python'\n",
    "\n",
    "if type(a) == int:\n",
    "    print(\"a is an integer\")\n",
    "else:\n",
    "    print(\"a is not an integer\")\n"
   ]
  },
  {
   "cell_type": "code",
   "execution_count": 9,
   "id": "626ffbfb",
   "metadata": {},
   "outputs": [
    {
     "name": "stdout",
     "output_type": "stream",
     "text": [
      "a is an integer\n"
     ]
    }
   ],
   "source": [
    "a = 10\n",
    "\n",
    "# if a is an int\n",
    "if isinstance(a, int):\n",
    "    print(\"a is an integer\")\n",
    "else:\n",
    "    print(\"a is not an integer\")"
   ]
  },
  {
   "cell_type": "code",
   "execution_count": null,
   "id": "7fa52a07",
   "metadata": {},
   "outputs": [],
   "source": []
  },
  {
   "cell_type": "code",
   "execution_count": null,
   "id": "8434479e",
   "metadata": {},
   "outputs": [],
   "source": []
  },
  {
   "cell_type": "code",
   "execution_count": null,
   "id": "af61eee7",
   "metadata": {},
   "outputs": [],
   "source": []
  },
  {
   "cell_type": "markdown",
   "id": "ae9e450b",
   "metadata": {},
   "source": [
    "### Quiz\n",
    "isinstance(4.0, int)"
   ]
  },
  {
   "cell_type": "code",
   "execution_count": 10,
   "id": "0fe3742e",
   "metadata": {},
   "outputs": [
    {
     "data": {
      "text/plain": [
       "False"
      ]
     },
     "execution_count": 10,
     "metadata": {},
     "output_type": "execute_result"
    }
   ],
   "source": [
    "isinstance(4.0, int)"
   ]
  },
  {
   "cell_type": "code",
   "execution_count": 11,
   "id": "fd47c417",
   "metadata": {},
   "outputs": [
    {
     "name": "stdout",
     "output_type": "stream",
     "text": [
      "4.0 <class 'float'>\n"
     ]
    }
   ],
   "source": [
    "b = 4.0\n",
    "print(b, type(b))"
   ]
  },
  {
   "cell_type": "code",
   "execution_count": null,
   "id": "ea6be060",
   "metadata": {},
   "outputs": [],
   "source": []
  },
  {
   "cell_type": "code",
   "execution_count": 13,
   "id": "af30f4b3",
   "metadata": {},
   "outputs": [
    {
     "data": {
      "text/plain": [
       "True"
      ]
     },
     "execution_count": 13,
     "metadata": {},
     "output_type": "execute_result"
    }
   ],
   "source": [
    "isinstance(4.0, (int, float))"
   ]
  },
  {
   "cell_type": "code",
   "execution_count": null,
   "id": "2b2e1a27",
   "metadata": {},
   "outputs": [],
   "source": []
  },
  {
   "cell_type": "code",
   "execution_count": 14,
   "id": "3e166b13",
   "metadata": {},
   "outputs": [
    {
     "name": "stdout",
     "output_type": "stream",
     "text": [
      "4366117456\n"
     ]
    }
   ],
   "source": [
    "a = 10\n",
    "\n",
    "print(id(a))"
   ]
  },
  {
   "cell_type": "markdown",
   "id": "96a66755",
   "metadata": {},
   "source": [
    "id() gives you the memory address location of where the object is stored"
   ]
  },
  {
   "cell_type": "code",
   "execution_count": null,
   "id": "55078ab0",
   "metadata": {},
   "outputs": [],
   "source": []
  },
  {
   "cell_type": "code",
   "execution_count": 16,
   "id": "77e38bf2",
   "metadata": {},
   "outputs": [
    {
     "name": "stdout",
     "output_type": "stream",
     "text": [
      "4366117456\n",
      "4366117456\n"
     ]
    }
   ],
   "source": [
    "a = 10\n",
    "b = a\n",
    "\n",
    "print(id(a))\n",
    "print(id(b))"
   ]
  },
  {
   "cell_type": "code",
   "execution_count": null,
   "id": "cfefb1da",
   "metadata": {},
   "outputs": [],
   "source": []
  },
  {
   "cell_type": "code",
   "execution_count": null,
   "id": "925111bb",
   "metadata": {},
   "outputs": [],
   "source": []
  },
  {
   "cell_type": "markdown",
   "id": "93c41611",
   "metadata": {},
   "source": [
    "#### Quiz 2\n",
    "```py\n",
    "a = \"python\"\n",
    "b = \"python\"\n",
    "print(id(a) == id(b))\n",
    "```"
   ]
  },
  {
   "cell_type": "code",
   "execution_count": 17,
   "id": "23c559ea",
   "metadata": {},
   "outputs": [
    {
     "name": "stdout",
     "output_type": "stream",
     "text": [
      "True\n"
     ]
    }
   ],
   "source": [
    "a = \"python\"\n",
    "b = \"python\"\n",
    "print(id(a) == id(b))"
   ]
  },
  {
   "cell_type": "code",
   "execution_count": null,
   "id": "64a4b2f1",
   "metadata": {},
   "outputs": [],
   "source": []
  },
  {
   "cell_type": "code",
   "execution_count": null,
   "id": "a939b084",
   "metadata": {},
   "outputs": [],
   "source": [
    "Strings -> Immutable"
   ]
  },
  {
   "cell_type": "code",
   "execution_count": 19,
   "id": "ad22fcb9",
   "metadata": {},
   "outputs": [
    {
     "name": "stdout",
     "output_type": "stream",
     "text": [
      "hello\n",
      "hello world\n",
      "False\n"
     ]
    }
   ],
   "source": [
    "a = \"hello\"\n",
    "b = a\n",
    "\n",
    "b += ' world'\n",
    "\n",
    "print(a) # hello\n",
    "print(b) # hello world\n",
    "\n",
    "print(id(a) == id(b))"
   ]
  },
  {
   "cell_type": "code",
   "execution_count": null,
   "id": "5d69ba0c",
   "metadata": {},
   "outputs": [],
   "source": []
  },
  {
   "cell_type": "code",
   "execution_count": 22,
   "id": "ca777d38",
   "metadata": {},
   "outputs": [
    {
     "name": "stdout",
     "output_type": "stream",
     "text": [
      "0 1 2 3 4 "
     ]
    }
   ],
   "source": [
    "i = 0 # Initialization\n",
    "\n",
    "# condition\n",
    "while i < 5:\n",
    "    print(i, end=' ') # body of loop\n",
    "    i += 1 # update "
   ]
  },
  {
   "cell_type": "code",
   "execution_count": 21,
   "id": "a762a297",
   "metadata": {},
   "outputs": [
    {
     "name": "stdout",
     "output_type": "stream",
     "text": [
      "0\n",
      "1\n",
      "2\n",
      "3\n",
      "4\n"
     ]
    }
   ],
   "source": [
    "# 0, 1, 2, 3, 4\n",
    "for i in range(5):\n",
    "    print(i)"
   ]
  },
  {
   "cell_type": "code",
   "execution_count": null,
   "id": "e3391189",
   "metadata": {},
   "outputs": [],
   "source": [
    "\"\"\"\n",
    "range(start, end, inc)\n",
    "# default start = 0\n",
    "# default inc = 1\n",
    "# end is EXCLUDED\n",
    "\"\"\""
   ]
  },
  {
   "cell_type": "code",
   "execution_count": null,
   "id": "6115f6f3",
   "metadata": {},
   "outputs": [],
   "source": []
  },
  {
   "cell_type": "code",
   "execution_count": null,
   "id": "dc5712df",
   "metadata": {},
   "outputs": [],
   "source": []
  },
  {
   "cell_type": "code",
   "execution_count": 23,
   "id": "c70a0ad0",
   "metadata": {},
   "outputs": [
    {
     "name": "stdout",
     "output_type": "stream",
     "text": [
      "[-1, 1, 3, 5, 7, 9]\n"
     ]
    }
   ],
   "source": [
    "print(list(range(-1, 11, 2)))"
   ]
  },
  {
   "cell_type": "code",
   "execution_count": null,
   "id": "db8d9104",
   "metadata": {},
   "outputs": [],
   "source": []
  },
  {
   "cell_type": "code",
   "execution_count": 24,
   "id": "a543e342",
   "metadata": {},
   "outputs": [],
   "source": [
    "def greet():\n",
    "    print(\"Hello\")\n",
    "    print(\"how are you doing ?\")"
   ]
  },
  {
   "cell_type": "code",
   "execution_count": 25,
   "id": "054a6a60",
   "metadata": {},
   "outputs": [
    {
     "name": "stdout",
     "output_type": "stream",
     "text": [
      "Hello\n",
      "how are you doing ?\n",
      "Hello\n",
      "how are you doing ?\n",
      "Hello\n",
      "how are you doing ?\n"
     ]
    }
   ],
   "source": [
    "greet()\n",
    "greet()\n",
    "greet()"
   ]
  },
  {
   "cell_type": "code",
   "execution_count": null,
   "id": "57ef880d",
   "metadata": {},
   "outputs": [],
   "source": []
  },
  {
   "cell_type": "code",
   "execution_count": 26,
   "id": "0ac95501",
   "metadata": {},
   "outputs": [],
   "source": [
    "def add(a, b):\n",
    "    return a + b\n",
    "\n",
    "\n",
    "c = add(10, 20) # c = 30\n",
    "d = add(50, 60) # d = 110"
   ]
  },
  {
   "cell_type": "code",
   "execution_count": 27,
   "id": "c14e54d7",
   "metadata": {},
   "outputs": [
    {
     "name": "stdout",
     "output_type": "stream",
     "text": [
      "30\n"
     ]
    }
   ],
   "source": [
    "print(c)"
   ]
  },
  {
   "cell_type": "code",
   "execution_count": 28,
   "id": "2375c806",
   "metadata": {},
   "outputs": [
    {
     "name": "stdout",
     "output_type": "stream",
     "text": [
      "110\n"
     ]
    }
   ],
   "source": [
    "print(d)"
   ]
  },
  {
   "cell_type": "code",
   "execution_count": 29,
   "id": "c607b885",
   "metadata": {},
   "outputs": [
    {
     "name": "stdout",
     "output_type": "stream",
     "text": [
      "140\n"
     ]
    }
   ],
   "source": [
    "e = c + d\n",
    "print(e)"
   ]
  },
  {
   "cell_type": "code",
   "execution_count": null,
   "id": "4180c3a3",
   "metadata": {},
   "outputs": [],
   "source": []
  },
  {
   "cell_type": "code",
   "execution_count": 33,
   "id": "d5ac935e",
   "metadata": {},
   "outputs": [],
   "source": [
    "def random():\n",
    "    return 10, 'hello', 30\n",
    "    \n",
    "# Can we return multiple values from a function ?\n",
    "# Answer = no\n",
    "# You can only and only return one value"
   ]
  },
  {
   "cell_type": "code",
   "execution_count": 34,
   "id": "27e02892",
   "metadata": {},
   "outputs": [
    {
     "name": "stdout",
     "output_type": "stream",
     "text": [
      "(10, 'hello', 30)\n"
     ]
    }
   ],
   "source": [
    "x = random()\n",
    "print(x)"
   ]
  },
  {
   "cell_type": "code",
   "execution_count": null,
   "id": "bdcd89a6",
   "metadata": {},
   "outputs": [],
   "source": []
  },
  {
   "cell_type": "code",
   "execution_count": null,
   "id": "76f0b5c7",
   "metadata": {},
   "outputs": [],
   "source": []
  },
  {
   "cell_type": "code",
   "execution_count": null,
   "id": "35559bcb",
   "metadata": {},
   "outputs": [],
   "source": []
  },
  {
   "cell_type": "code",
   "execution_count": null,
   "id": "ae09382b",
   "metadata": {},
   "outputs": [],
   "source": []
  },
  {
   "cell_type": "code",
   "execution_count": 32,
   "id": "46e80b4c",
   "metadata": {},
   "outputs": [
    {
     "name": "stdout",
     "output_type": "stream",
     "text": [
      "(10, 'hello', 30) <class 'tuple'>\n"
     ]
    }
   ],
   "source": [
    "a = 10, 'hello', 30\n",
    "print(a, type(a))"
   ]
  },
  {
   "cell_type": "code",
   "execution_count": null,
   "id": "d132f29d",
   "metadata": {},
   "outputs": [],
   "source": []
  },
  {
   "cell_type": "code",
   "execution_count": null,
   "id": "b75e8f10",
   "metadata": {},
   "outputs": [],
   "source": []
  },
  {
   "cell_type": "code",
   "execution_count": 35,
   "id": "638b2ec3",
   "metadata": {},
   "outputs": [
    {
     "name": "stdout",
     "output_type": "stream",
     "text": [
      "4 hello ok 2.1\n"
     ]
    }
   ],
   "source": [
    "def my_func(a, b, c, d):\n",
    "    print(a, b, c, d)\n",
    "\n",
    "my_func(4, 'hello', d=2.1, c='ok')"
   ]
  },
  {
   "cell_type": "code",
   "execution_count": null,
   "id": "eab79320",
   "metadata": {},
   "outputs": [],
   "source": [
    "a -> 4      positional arguments\n",
    "b -> hello  positional arguments\n",
    "d -> 2.1    keyword arguments\n",
    "c -> ok     keyword arguments"
   ]
  },
  {
   "cell_type": "code",
   "execution_count": null,
   "id": "3bcd5775",
   "metadata": {},
   "outputs": [],
   "source": []
  },
  {
   "cell_type": "code",
   "execution_count": null,
   "id": "e8a748cb",
   "metadata": {},
   "outputs": [],
   "source": []
  },
  {
   "cell_type": "code",
   "execution_count": 36,
   "id": "c0f82d36",
   "metadata": {},
   "outputs": [],
   "source": [
    "for x in range(10, 20):\n",
    "    pass"
   ]
  },
  {
   "cell_type": "code",
   "execution_count": null,
   "id": "0cae37e5",
   "metadata": {},
   "outputs": [],
   "source": []
  },
  {
   "cell_type": "code",
   "execution_count": 38,
   "id": "e3555d62",
   "metadata": {},
   "outputs": [
    {
     "name": "stdout",
     "output_type": "stream",
     "text": [
      "<range_iterator object at 0x10b4256f0>\n"
     ]
    }
   ],
   "source": [
    "it = iter(range(10, 20))\n",
    "# iter() gives you the iterator\n",
    "print(it)"
   ]
  },
  {
   "cell_type": "code",
   "execution_count": null,
   "id": "8c55b92f",
   "metadata": {},
   "outputs": [],
   "source": []
  },
  {
   "cell_type": "code",
   "execution_count": null,
   "id": "3872e5a7",
   "metadata": {},
   "outputs": [],
   "source": []
  },
  {
   "cell_type": "code",
   "execution_count": null,
   "id": "2b54e2e7",
   "metadata": {},
   "outputs": [],
   "source": []
  },
  {
   "cell_type": "code",
   "execution_count": 39,
   "id": "fae87bc2",
   "metadata": {},
   "outputs": [
    {
     "name": "stdout",
     "output_type": "stream",
     "text": [
      "<str_iterator object at 0x10b4252b0>\n"
     ]
    }
   ],
   "source": [
    "it2 = iter(\"abcdef\")\n",
    "print(it2)"
   ]
  },
  {
   "cell_type": "code",
   "execution_count": null,
   "id": "66ecdfd7",
   "metadata": {},
   "outputs": [],
   "source": []
  },
  {
   "cell_type": "code",
   "execution_count": 40,
   "id": "518d350b",
   "metadata": {},
   "outputs": [
    {
     "name": "stdout",
     "output_type": "stream",
     "text": [
      "<list_iterator object at 0x10b4254c0>\n"
     ]
    }
   ],
   "source": [
    "it3 = iter([10, 20, 'ok'])\n",
    "print(it3)"
   ]
  },
  {
   "cell_type": "code",
   "execution_count": null,
   "id": "dff05275",
   "metadata": {},
   "outputs": [],
   "source": []
  },
  {
   "cell_type": "code",
   "execution_count": null,
   "id": "e37e05dc",
   "metadata": {},
   "outputs": [],
   "source": []
  },
  {
   "cell_type": "code",
   "execution_count": null,
   "id": "8f93951f",
   "metadata": {},
   "outputs": [],
   "source": []
  },
  {
   "cell_type": "code",
   "execution_count": 41,
   "id": "4454a4e8",
   "metadata": {},
   "outputs": [
    {
     "name": "stdout",
     "output_type": "stream",
     "text": [
      "<str_iterator object at 0x10b425280>\n"
     ]
    }
   ],
   "source": [
    "it = iter(\"abcdef\")\n",
    "print(it)"
   ]
  },
  {
   "cell_type": "code",
   "execution_count": 42,
   "id": "75ceb467",
   "metadata": {},
   "outputs": [
    {
     "data": {
      "text/plain": [
       "'a'"
      ]
     },
     "execution_count": 42,
     "metadata": {},
     "output_type": "execute_result"
    }
   ],
   "source": [
    "next(it)"
   ]
  },
  {
   "cell_type": "code",
   "execution_count": 43,
   "id": "188c0c5b",
   "metadata": {},
   "outputs": [
    {
     "data": {
      "text/plain": [
       "'b'"
      ]
     },
     "execution_count": 43,
     "metadata": {},
     "output_type": "execute_result"
    }
   ],
   "source": [
    "next(it)"
   ]
  },
  {
   "cell_type": "code",
   "execution_count": 44,
   "id": "4c5b4e60",
   "metadata": {},
   "outputs": [
    {
     "data": {
      "text/plain": [
       "'c'"
      ]
     },
     "execution_count": 44,
     "metadata": {},
     "output_type": "execute_result"
    }
   ],
   "source": [
    "next(it)"
   ]
  },
  {
   "cell_type": "code",
   "execution_count": 45,
   "id": "a032faa1",
   "metadata": {},
   "outputs": [
    {
     "data": {
      "text/plain": [
       "'d'"
      ]
     },
     "execution_count": 45,
     "metadata": {},
     "output_type": "execute_result"
    }
   ],
   "source": [
    "next(it)"
   ]
  },
  {
   "cell_type": "code",
   "execution_count": 46,
   "id": "b38d8914",
   "metadata": {},
   "outputs": [
    {
     "data": {
      "text/plain": [
       "'e'"
      ]
     },
     "execution_count": 46,
     "metadata": {},
     "output_type": "execute_result"
    }
   ],
   "source": [
    "next(it)"
   ]
  },
  {
   "cell_type": "code",
   "execution_count": 47,
   "id": "48ded031",
   "metadata": {},
   "outputs": [
    {
     "data": {
      "text/plain": [
       "'f'"
      ]
     },
     "execution_count": 47,
     "metadata": {},
     "output_type": "execute_result"
    }
   ],
   "source": [
    "next(it)"
   ]
  },
  {
   "cell_type": "code",
   "execution_count": 48,
   "id": "5c2559a4",
   "metadata": {},
   "outputs": [
    {
     "ename": "StopIteration",
     "evalue": "",
     "output_type": "error",
     "traceback": [
      "\u001b[0;31m---------------------------------------------------------------------------\u001b[0m",
      "\u001b[0;31mStopIteration\u001b[0m                             Traceback (most recent call last)",
      "\u001b[0;32m/var/folders/jn/1bsrct314hv5xmfm7vrcdrzc0000gn/T/ipykernel_5273/600241529.py\u001b[0m in \u001b[0;36m<module>\u001b[0;34m\u001b[0m\n\u001b[0;32m----> 1\u001b[0;31m \u001b[0mnext\u001b[0m\u001b[0;34m(\u001b[0m\u001b[0mit\u001b[0m\u001b[0;34m)\u001b[0m\u001b[0;34m\u001b[0m\u001b[0;34m\u001b[0m\u001b[0m\n\u001b[0m",
      "\u001b[0;31mStopIteration\u001b[0m: "
     ]
    }
   ],
   "source": [
    "next(it)"
   ]
  },
  {
   "cell_type": "code",
   "execution_count": null,
   "id": "74536636",
   "metadata": {},
   "outputs": [],
   "source": [
    "reload if you cannot hear me\n",
    "Ctrl + Shift + R (Hard refresh)\n",
    "Make sure you have not muted me. Check on a youtube video."
   ]
  },
  {
   "cell_type": "code",
   "execution_count": null,
   "id": "0d71cb6e",
   "metadata": {},
   "outputs": [],
   "source": []
  },
  {
   "cell_type": "code",
   "execution_count": 49,
   "id": "819154cb",
   "metadata": {},
   "outputs": [
    {
     "ename": "TypeError",
     "evalue": "'int' object is not iterable",
     "output_type": "error",
     "traceback": [
      "\u001b[0;31m---------------------------------------------------------------------------\u001b[0m",
      "\u001b[0;31mTypeError\u001b[0m                                 Traceback (most recent call last)",
      "\u001b[0;32m/var/folders/jn/1bsrct314hv5xmfm7vrcdrzc0000gn/T/ipykernel_5273/1225051289.py\u001b[0m in \u001b[0;36m<module>\u001b[0;34m\u001b[0m\n\u001b[0;32m----> 1\u001b[0;31m \u001b[0miter\u001b[0m\u001b[0;34m(\u001b[0m\u001b[0;36m10\u001b[0m\u001b[0;34m)\u001b[0m\u001b[0;34m\u001b[0m\u001b[0;34m\u001b[0m\u001b[0m\n\u001b[0m",
      "\u001b[0;31mTypeError\u001b[0m: 'int' object is not iterable"
     ]
    }
   ],
   "source": [
    "iter(10)"
   ]
  },
  {
   "cell_type": "code",
   "execution_count": null,
   "id": "da83e091",
   "metadata": {},
   "outputs": [],
   "source": []
  },
  {
   "cell_type": "code",
   "execution_count": null,
   "id": "ad9bf5b0",
   "metadata": {},
   "outputs": [],
   "source": []
  },
  {
   "cell_type": "code",
   "execution_count": 53,
   "id": "50af7def",
   "metadata": {},
   "outputs": [
    {
     "name": "stdout",
     "output_type": "stream",
     "text": [
      "[10, 20, [30, 40], 'hello', True, None, 35] <class 'list'>\n"
     ]
    }
   ],
   "source": [
    "l = [10, 20, [30, 40], 'hello', True, None, 35]\n",
    "print(l, type(l))"
   ]
  },
  {
   "cell_type": "code",
   "execution_count": 54,
   "id": "2fe2b84b",
   "metadata": {},
   "outputs": [
    {
     "data": {
      "text/plain": [
       "20"
      ]
     },
     "execution_count": 54,
     "metadata": {},
     "output_type": "execute_result"
    }
   ],
   "source": [
    "l[1]"
   ]
  },
  {
   "cell_type": "code",
   "execution_count": 55,
   "id": "651eccd5",
   "metadata": {},
   "outputs": [
    {
     "data": {
      "text/plain": [
       "35"
      ]
     },
     "execution_count": 55,
     "metadata": {},
     "output_type": "execute_result"
    }
   ],
   "source": [
    "l[-1]"
   ]
  },
  {
   "cell_type": "code",
   "execution_count": null,
   "id": "7768244f",
   "metadata": {},
   "outputs": [],
   "source": []
  },
  {
   "cell_type": "code",
   "execution_count": null,
   "id": "1005a371",
   "metadata": {},
   "outputs": [],
   "source": []
  },
  {
   "cell_type": "code",
   "execution_count": 56,
   "id": "ab025a3c",
   "metadata": {},
   "outputs": [
    {
     "data": {
      "text/plain": [
       "[10, 5, 6]"
      ]
     },
     "execution_count": 56,
     "metadata": {},
     "output_type": "execute_result"
    }
   ],
   "source": [
    "l = [10, 2, 5, 3, 6]  \n",
    "l[0:5:2]"
   ]
  },
  {
   "cell_type": "code",
   "execution_count": null,
   "id": "0feb35ea",
   "metadata": {},
   "outputs": [],
   "source": []
  },
  {
   "cell_type": "code",
   "execution_count": 57,
   "id": "a857c763",
   "metadata": {},
   "outputs": [
    {
     "data": {
      "text/plain": [
       "[2, 3, 5]"
      ]
     },
     "execution_count": 57,
     "metadata": {},
     "output_type": "execute_result"
    }
   ],
   "source": [
    "nums = [1, 1, 2, 3, 5, 8, 13]  \n",
    "nums[-5:-2]"
   ]
  },
  {
   "cell_type": "code",
   "execution_count": null,
   "id": "ef76c01f",
   "metadata": {},
   "outputs": [],
   "source": []
  },
  {
   "cell_type": "code",
   "execution_count": 58,
   "id": "f386f9c2",
   "metadata": {},
   "outputs": [
    {
     "name": "stdout",
     "output_type": "stream",
     "text": [
      "[5, 7, 8]\n"
     ]
    }
   ],
   "source": [
    "l = [2, 4, 5, 7, 8]  \n",
    "print(l[-3:])\n",
    "\n",
    "# start = -3\n",
    "# default inc = 1 (left to right)"
   ]
  },
  {
   "cell_type": "code",
   "execution_count": null,
   "id": "5071c647",
   "metadata": {},
   "outputs": [],
   "source": []
  },
  {
   "cell_type": "code",
   "execution_count": null,
   "id": "1a5889f7",
   "metadata": {},
   "outputs": [],
   "source": []
  },
  {
   "cell_type": "markdown",
   "id": "7b2488e0",
   "metadata": {},
   "source": [
    "## Comprehension"
   ]
  },
  {
   "cell_type": "markdown",
   "id": "152af36d",
   "metadata": {},
   "source": [
    "Create a list of squares of all numbers from 1 to 10"
   ]
  },
  {
   "cell_type": "code",
   "execution_count": null,
   "id": "1504afcb",
   "metadata": {},
   "outputs": [],
   "source": [
    "[1, 4, 9, 16, 25, 36, 49, 64, 81, 100]"
   ]
  },
  {
   "cell_type": "code",
   "execution_count": 59,
   "id": "5e8bb892",
   "metadata": {},
   "outputs": [
    {
     "name": "stdout",
     "output_type": "stream",
     "text": [
      "[1, 4, 9, 16, 25, 36, 49, 64, 81, 100]\n"
     ]
    }
   ],
   "source": [
    "l = []\n",
    "for i in range(1, 11):\n",
    "    l.append(i * i)\n",
    "    \n",
    "print(l)"
   ]
  },
  {
   "cell_type": "code",
   "execution_count": 60,
   "id": "21de8350",
   "metadata": {},
   "outputs": [
    {
     "name": "stdout",
     "output_type": "stream",
     "text": [
      "[1, 4, 9, 16, 25, 36, 49, 64, 81, 100]\n"
     ]
    }
   ],
   "source": [
    "l = [i*i for i in range(1, 11)]\n",
    "print(l)"
   ]
  },
  {
   "cell_type": "code",
   "execution_count": null,
   "id": "d9ded65a",
   "metadata": {},
   "outputs": [],
   "source": []
  },
  {
   "cell_type": "code",
   "execution_count": 62,
   "id": "17c13129",
   "metadata": {},
   "outputs": [
    {
     "name": "stdout",
     "output_type": "stream",
     "text": [
      "[1, 8, 9, 64, 25, 216, 49, 512, 81, 1000] <class 'list'>\n"
     ]
    }
   ],
   "source": [
    "# if x is even -> cubes it\n",
    "# if x is odd -> squares it\n",
    "def random(x):\n",
    "    if x % 2 == 0:\n",
    "        return x ** 3\n",
    "    else:\n",
    "        return x ** 2\n",
    "    \n",
    "l = [random(i) for i in range(1, 11)]\n",
    "print(l, type(l))"
   ]
  },
  {
   "cell_type": "code",
   "execution_count": null,
   "id": "dbf83f90",
   "metadata": {},
   "outputs": [],
   "source": []
  },
  {
   "cell_type": "code",
   "execution_count": 63,
   "id": "7fbb157c",
   "metadata": {},
   "outputs": [
    {
     "name": "stdout",
     "output_type": "stream",
     "text": [
      "{64, 1, 512, 8, 9, 1000, 49, 81, 216, 25} <class 'set'>\n"
     ]
    }
   ],
   "source": [
    "# if x is even -> cubes it\n",
    "# if x is odd -> squares it\n",
    "def random(x):\n",
    "    if x % 2 == 0:\n",
    "        return x ** 3\n",
    "    else:\n",
    "        return x ** 2\n",
    "    \n",
    "l = {random(i) for i in range(1, 11)}\n",
    "print(l, type(l))"
   ]
  },
  {
   "cell_type": "code",
   "execution_count": null,
   "id": "e50250eb",
   "metadata": {},
   "outputs": [],
   "source": []
  },
  {
   "cell_type": "code",
   "execution_count": null,
   "id": "32f0bcd9",
   "metadata": {},
   "outputs": [],
   "source": []
  },
  {
   "cell_type": "code",
   "execution_count": 67,
   "id": "2a7ba8fc",
   "metadata": {},
   "outputs": [
    {
     "name": "stdout",
     "output_type": "stream",
     "text": [
      "(1, 8, 9, 64, 25, 216, 49, 512, 81, 1000) <class 'tuple'>\n"
     ]
    }
   ],
   "source": [
    "# if x is even -> cubes it\n",
    "# if x is odd -> squares it\n",
    "def random(x):\n",
    "    if x % 2 == 0:\n",
    "        return x ** 3\n",
    "    else:\n",
    "        return x ** 2\n",
    "    \n",
    "l = tuple(random(i) for i in range(1, 11))\n",
    "print(l, type(l))"
   ]
  },
  {
   "cell_type": "code",
   "execution_count": null,
   "id": "5bb9aedf",
   "metadata": {},
   "outputs": [],
   "source": []
  },
  {
   "cell_type": "code",
   "execution_count": null,
   "id": "2e23a5c5",
   "metadata": {},
   "outputs": [],
   "source": []
  },
  {
   "cell_type": "code",
   "execution_count": 68,
   "id": "2b48574f",
   "metadata": {},
   "outputs": [],
   "source": [
    "# dictionary\n",
    "# key -> value"
   ]
  },
  {
   "cell_type": "code",
   "execution_count": 73,
   "id": "86432945",
   "metadata": {},
   "outputs": [
    {
     "name": "stdout",
     "output_type": "stream",
     "text": [
      "{'Clark Kent': 'Superman', 'Bruce Wayne': 'Batman', 'Diana Prince': 'Wonder Woman'}\n"
     ]
    }
   ],
   "source": [
    "# tuple of tuples\n",
    "t = (\n",
    "    ('Clark Kent', \"Superman\"),\n",
    "    ('Bruce Wayne', \"Batman\"),\n",
    "    ('Diana Prince', \"Wonder Woman\") \n",
    ")\n",
    "\n",
    "# real:title\n",
    "d = {real:title for real,title in t}\n",
    "print(d)"
   ]
  },
  {
   "cell_type": "code",
   "execution_count": null,
   "id": "bfbe2439",
   "metadata": {},
   "outputs": [],
   "source": [
    "\n",
    "# for real,title in t:\n",
    "#     print(\"real = \", real)\n",
    "#     print(\"title = \", title)\n",
    "#     print()"
   ]
  },
  {
   "cell_type": "code",
   "execution_count": null,
   "id": "65a226b8",
   "metadata": {},
   "outputs": [],
   "source": []
  },
  {
   "cell_type": "markdown",
   "id": "cf058959",
   "metadata": {},
   "source": [
    "# Reading Material\n",
    "- https://www.scaler.com/topics/id-function-in-python/\n",
    "- https://www.scaler.com/topics/isinstance-in-python/\n",
    "- https://www.scaler.com/topics/python/iterators-in-python/\n",
    "- https://www.scaler.com/topics/python/comprehensions-in-python/\n",
    "- https://www.scaler.com/topics/list-comprehension-in-python/\n",
    "- https://www.scaler.com/topics/dictionary-comprehension-python/"
   ]
  },
  {
   "cell_type": "code",
   "execution_count": null,
   "id": "df807aa8",
   "metadata": {},
   "outputs": [],
   "source": []
  },
  {
   "cell_type": "code",
   "execution_count": null,
   "id": "e69a89a6",
   "metadata": {},
   "outputs": [],
   "source": []
  },
  {
   "cell_type": "code",
   "execution_count": null,
   "id": "68c18cb4",
   "metadata": {},
   "outputs": [],
   "source": []
  },
  {
   "cell_type": "markdown",
   "id": "83cff2e4",
   "metadata": {},
   "source": [
    "# Doubts"
   ]
  },
  {
   "cell_type": "code",
   "execution_count": 74,
   "id": "a7f7b5de",
   "metadata": {},
   "outputs": [],
   "source": [
    "def square(x):\n",
    "    return x ** 2\n",
    "\n",
    "\n",
    "y = square(10) # 100"
   ]
  },
  {
   "cell_type": "code",
   "execution_count": 75,
   "id": "898c7156",
   "metadata": {},
   "outputs": [],
   "source": [
    "z = square(3) # 9"
   ]
  },
  {
   "cell_type": "code",
   "execution_count": 76,
   "id": "8e441a6a",
   "metadata": {},
   "outputs": [],
   "source": [
    "a = y + z # 100 + 9 = 109"
   ]
  },
  {
   "cell_type": "code",
   "execution_count": 77,
   "id": "d9df07e8",
   "metadata": {},
   "outputs": [
    {
     "name": "stdout",
     "output_type": "stream",
     "text": [
      "109\n"
     ]
    }
   ],
   "source": [
    "print(a)"
   ]
  },
  {
   "cell_type": "code",
   "execution_count": null,
   "id": "d5aaf18a",
   "metadata": {},
   "outputs": [],
   "source": []
  }
 ],
 "metadata": {
  "kernelspec": {
   "display_name": "Python 3 (ipykernel)",
   "language": "python",
   "name": "python3"
  },
  "language_info": {
   "codemirror_mode": {
    "name": "ipython",
    "version": 3
   },
   "file_extension": ".py",
   "mimetype": "text/x-python",
   "name": "python",
   "nbconvert_exporter": "python",
   "pygments_lexer": "ipython3",
   "version": "3.9.12"
  }
 },
 "nbformat": 4,
 "nbformat_minor": 5
}
