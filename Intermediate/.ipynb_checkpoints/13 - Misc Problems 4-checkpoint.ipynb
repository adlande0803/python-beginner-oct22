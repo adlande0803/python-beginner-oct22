{
 "cells": [
  {
   "cell_type": "markdown",
   "id": "9ca8785e",
   "metadata": {},
   "source": [
    "# Misc Problems 4"
   ]
  },
  {
   "cell_type": "code",
   "execution_count": 1,
   "id": "f603f2b3",
   "metadata": {},
   "outputs": [],
   "source": [
    "# https://leetcode.com/problems/first-unique-character-in-a-string/description/\n",
    "      \n",
    "class Solution:\n",
    "    def firstUniqChar(self, s: str) -> int:\n",
    "        # Prepare a freq map\n",
    "        freq = {}\n",
    "        for c in s:\n",
    "            freq[c] = freq.get(c, 0) + 1 \n",
    "\n",
    "        for i in range(len(s)):\n",
    "            # Search and check in the string if current character repeats\n",
    "            # If it doesn't, return i\n",
    "            if freq.get(s[i]) == 1:\n",
    "                return i\n",
    "\n",
    "        return -1\n"
   ]
  },
  {
   "cell_type": "code",
   "execution_count": null,
   "id": "d7ae115a",
   "metadata": {},
   "outputs": [],
   "source": []
  },
  {
   "cell_type": "code",
   "execution_count": null,
   "id": "47f0fc41",
   "metadata": {},
   "outputs": [],
   "source": []
  },
  {
   "cell_type": "markdown",
   "id": "145582b6",
   "metadata": {},
   "source": [
    "## Shuffle array\n",
    "Write a function which takes an array as input and shuffles it randomly.\n",
    "\n",
    "```\n",
    "Expected Space Complexity - O(1)\n",
    "Do the changes in-place\n",
    "```"
   ]
  },
  {
   "cell_type": "code",
   "execution_count": 11,
   "id": "17362c3f",
   "metadata": {},
   "outputs": [],
   "source": [
    "import random\n",
    "\n",
    "# Time Complexity = O(N)\n",
    "# Space Complexity = O(1)\n",
    "def shuffleArray(arr):\n",
    "    for i in range(len(arr)):\n",
    "        # Current element = arr[i]\n",
    "        # Swap arr[i] with a random element in my array\n",
    "        idx = random.randint(0, len(arr) - 1)\n",
    "        arr[i], arr[idx] = arr[idx], arr[i]"
   ]
  },
  {
   "cell_type": "code",
   "execution_count": 19,
   "id": "f017a174",
   "metadata": {},
   "outputs": [
    {
     "name": "stdout",
     "output_type": "stream",
     "text": [
      "[1, 3, 4, 5, 1, 5, 2, 9, 2, 2, 5, 1, 3, 3]\n"
     ]
    }
   ],
   "source": [
    "A = [1, 1, 2, 2, 3, 3, 5, 5, 5, 9, 1, 2, 3, 4]\n",
    "\n",
    "shuffleArray(A)\n",
    "print(A)"
   ]
  },
  {
   "cell_type": "code",
   "execution_count": null,
   "id": "59925419",
   "metadata": {},
   "outputs": [],
   "source": []
  },
  {
   "cell_type": "code",
   "execution_count": 7,
   "id": "c96c41d0",
   "metadata": {},
   "outputs": [
    {
     "data": {
      "text/plain": [
       "3"
      ]
     },
     "execution_count": 7,
     "metadata": {},
     "output_type": "execute_result"
    }
   ],
   "source": [
    "import random\n",
    "random.randint(0, 5)"
   ]
  },
  {
   "cell_type": "code",
   "execution_count": null,
   "id": "cd483d10",
   "metadata": {},
   "outputs": [],
   "source": []
  },
  {
   "cell_type": "code",
   "execution_count": null,
   "id": "6b7884cf",
   "metadata": {},
   "outputs": [],
   "source": []
  },
  {
   "cell_type": "code",
   "execution_count": null,
   "id": "d1b36f9a",
   "metadata": {},
   "outputs": [],
   "source": []
  },
  {
   "cell_type": "code",
   "execution_count": null,
   "id": "565c54b2",
   "metadata": {},
   "outputs": [],
   "source": []
  },
  {
   "cell_type": "markdown",
   "id": "9d68db76",
   "metadata": {},
   "source": [
    "## Rainwater Trapping"
   ]
  },
  {
   "cell_type": "code",
   "execution_count": 36,
   "id": "f4472b32",
   "metadata": {},
   "outputs": [],
   "source": [
    "# Brute Force\n",
    "def trap(height):\n",
    "    ans = 0\n",
    "    \n",
    "    for i in range(1, len(height) - 1):\n",
    "        curr = height[i]\n",
    "        L = max(height[:i]) # Maximum on the left side - O(N) operation\n",
    "        R = max(height[i+1:]) # Maximum on the right side - O(N) operation\n",
    "        water = min(L, R) - curr\n",
    "        if water < 0:\n",
    "            water = 0\n",
    "        ans += water\n",
    "        \n",
    "    return ans\n",
    "    \n",
    "# Total time complexity = O(N ^ 2)"
   ]
  },
  {
   "cell_type": "code",
   "execution_count": 37,
   "id": "da53ed43",
   "metadata": {},
   "outputs": [
    {
     "data": {
      "text/plain": [
       "2"
      ]
     },
     "execution_count": 37,
     "metadata": {},
     "output_type": "execute_result"
    }
   ],
   "source": [
    "trap([0, 4, 1, 3, 0])"
   ]
  },
  {
   "cell_type": "code",
   "execution_count": 39,
   "id": "c28ddffd",
   "metadata": {},
   "outputs": [
    {
     "data": {
      "text/plain": [
       "6"
      ]
     },
     "execution_count": 39,
     "metadata": {},
     "output_type": "execute_result"
    }
   ],
   "source": [
    "trap([0,0,1,0,2,1,0,1,3,2,1,2,1,0])"
   ]
  },
  {
   "cell_type": "code",
   "execution_count": null,
   "id": "94c97f11",
   "metadata": {},
   "outputs": [],
   "source": []
  },
  {
   "cell_type": "code",
   "execution_count": null,
   "id": "2297db2c",
   "metadata": {},
   "outputs": [],
   "source": []
  },
  {
   "cell_type": "code",
   "execution_count": 35,
   "id": "bc9473dd",
   "metadata": {},
   "outputs": [
    {
     "ename": "ValueError",
     "evalue": "max() arg is an empty sequence",
     "output_type": "error",
     "traceback": [
      "\u001b[0;31m---------------------------------------------------------------------------\u001b[0m",
      "\u001b[0;31mValueError\u001b[0m                                Traceback (most recent call last)",
      "\u001b[0;32m/var/folders/jn/1bsrct314hv5xmfm7vrcdrzc0000gn/T/ipykernel_75365/3076297894.py\u001b[0m in \u001b[0;36m<module>\u001b[0;34m\u001b[0m\n\u001b[0;32m----> 1\u001b[0;31m \u001b[0mmax\u001b[0m\u001b[0;34m(\u001b[0m\u001b[0;34m[\u001b[0m\u001b[0;34m]\u001b[0m\u001b[0;34m)\u001b[0m\u001b[0;34m\u001b[0m\u001b[0;34m\u001b[0m\u001b[0m\n\u001b[0m",
      "\u001b[0;31mValueError\u001b[0m: max() arg is an empty sequence"
     ]
    }
   ],
   "source": [
    "max([])"
   ]
  },
  {
   "cell_type": "code",
   "execution_count": null,
   "id": "6d6b0b0f",
   "metadata": {},
   "outputs": [],
   "source": []
  },
  {
   "cell_type": "code",
   "execution_count": 40,
   "id": "373e48c8",
   "metadata": {},
   "outputs": [],
   "source": [
    "# Optimised Approach\n",
    "def trap(height):\n",
    "    ans = 0\n",
    "    n = len(height)\n",
    "    \n",
    "    leftMax = [0] * n\n",
    "    for i in range(1, n):\n",
    "        leftMax[i] = max(height[i-1], leftMax[i-1])\n",
    "    \n",
    "    rightMax = [0]* n\n",
    "    for i in range(n-2, -1, -1):\n",
    "        rightMax[i] = max(height[i+1], rightMax[i+1])\n",
    "    \n",
    "    for i in range(n):\n",
    "        curr = height[i]\n",
    "        L = leftMax[i]\n",
    "        R = rightMax[i]\n",
    "        water = min(L, R) - curr\n",
    "        if water < 0:\n",
    "            water = 0\n",
    "        ans += water\n",
    "        \n",
    "    return ans"
   ]
  },
  {
   "cell_type": "code",
   "execution_count": 42,
   "id": "b855bfa6",
   "metadata": {},
   "outputs": [
    {
     "data": {
      "text/plain": [
       "2"
      ]
     },
     "execution_count": 42,
     "metadata": {},
     "output_type": "execute_result"
    }
   ],
   "source": [
    "trap([4, 1, 3])"
   ]
  },
  {
   "cell_type": "code",
   "execution_count": 43,
   "id": "cb960c46",
   "metadata": {},
   "outputs": [
    {
     "data": {
      "text/plain": [
       "6"
      ]
     },
     "execution_count": 43,
     "metadata": {},
     "output_type": "execute_result"
    }
   ],
   "source": [
    "trap([0,1,0,2,1,0,1,3,2,1,2,1])"
   ]
  },
  {
   "cell_type": "code",
   "execution_count": null,
   "id": "93b04130",
   "metadata": {},
   "outputs": [],
   "source": []
  },
  {
   "cell_type": "code",
   "execution_count": null,
   "id": "f1da12f6",
   "metadata": {},
   "outputs": [],
   "source": []
  },
  {
   "cell_type": "code",
   "execution_count": null,
   "id": "392e8542",
   "metadata": {},
   "outputs": [],
   "source": []
  },
  {
   "cell_type": "markdown",
   "id": "0cc932e2",
   "metadata": {},
   "source": [
    "# Doubts"
   ]
  },
  {
   "cell_type": "code",
   "execution_count": 44,
   "id": "fcb0c191",
   "metadata": {},
   "outputs": [
    {
     "name": "stdout",
     "output_type": "stream",
     "text": [
      "1\n"
     ]
    }
   ],
   "source": [
    "N = 1000\n",
    "\n",
    "rev = 0\n",
    "while N > 0:\n",
    "    digit = N % 10\n",
    "    N //= 10\n",
    "    rev = rev * 10 + digit\n",
    "    \n",
    "print(rev)"
   ]
  },
  {
   "cell_type": "code",
   "execution_count": 49,
   "id": "7dedfcd5",
   "metadata": {},
   "outputs": [],
   "source": [
    "def reverseRec(N):\n",
    "    if N < 10:\n",
    "        return N\n",
    "    \n",
    "    digit = N % 10\n",
    "    x = reverseRec(N // 10)\n",
    "    res = int(str(digit) + str(x))\n",
    "    return res"
   ]
  },
  {
   "cell_type": "code",
   "execution_count": 50,
   "id": "63bda9a2",
   "metadata": {},
   "outputs": [
    {
     "data": {
      "text/plain": [
       "1"
      ]
     },
     "execution_count": 50,
     "metadata": {},
     "output_type": "execute_result"
    }
   ],
   "source": [
    "reverseRec(1)"
   ]
  },
  {
   "cell_type": "code",
   "execution_count": null,
   "id": "edbef9fe",
   "metadata": {},
   "outputs": [],
   "source": []
  },
  {
   "cell_type": "code",
   "execution_count": 65,
   "id": "41c687f8",
   "metadata": {},
   "outputs": [],
   "source": [
    "import math\n",
    "def reverseRec2(N, multiplier):\n",
    "    if N < 10:\n",
    "        return N\n",
    "    \n",
    "    digit = N % 10\n",
    "    x = reverseRec2(N // 10, multiplier // 10)\n",
    "    res = digit * multiplier + x\n",
    "    return res\n",
    "\n",
    "def helper(N):\n",
    "    return reverseRec2(N, 10**int(math.log10(N)))"
   ]
  },
  {
   "cell_type": "code",
   "execution_count": 66,
   "id": "47d36296",
   "metadata": {},
   "outputs": [
    {
     "data": {
      "text/plain": [
       "54321"
      ]
     },
     "execution_count": 66,
     "metadata": {},
     "output_type": "execute_result"
    }
   ],
   "source": [
    "helper(12345)"
   ]
  },
  {
   "cell_type": "code",
   "execution_count": 62,
   "id": "de459764",
   "metadata": {},
   "outputs": [
    {
     "ename": "TypeError",
     "evalue": "reverseRec2() missing 1 required positional argument: 'multiplier'",
     "output_type": "error",
     "traceback": [
      "\u001b[0;31m---------------------------------------------------------------------------\u001b[0m",
      "\u001b[0;31mTypeError\u001b[0m                                 Traceback (most recent call last)",
      "\u001b[0;32m/var/folders/jn/1bsrct314hv5xmfm7vrcdrzc0000gn/T/ipykernel_75365/1972825293.py\u001b[0m in \u001b[0;36m<module>\u001b[0;34m\u001b[0m\n\u001b[0;32m----> 1\u001b[0;31m \u001b[0mreverseRec2\u001b[0m\u001b[0;34m(\u001b[0m\u001b[0;36m1234\u001b[0m\u001b[0;34m)\u001b[0m\u001b[0;34m\u001b[0m\u001b[0;34m\u001b[0m\u001b[0m\n\u001b[0m",
      "\u001b[0;31mTypeError\u001b[0m: reverseRec2() missing 1 required positional argument: 'multiplier'"
     ]
    }
   ],
   "source": [
    "reverseRec2(1234)"
   ]
  },
  {
   "cell_type": "code",
   "execution_count": null,
   "id": "820aeb7d",
   "metadata": {},
   "outputs": [],
   "source": []
  },
  {
   "cell_type": "code",
   "execution_count": 67,
   "id": "7ad1090f",
   "metadata": {},
   "outputs": [],
   "source": [
    "def isAnagram(s = \"rat\", t = \"car\"):\n",
    "    res = 'true'\n",
    "    freq1 = {}\n",
    "    freq2 = {}\n",
    "    for i in s:\n",
    "        if i in freq1:\n",
    "            freq1[i] += 1\n",
    "        else:\n",
    "            freq1[i] = 1\n",
    "\n",
    "    for i in t:\n",
    "        if i in freq2:\n",
    "            freq2[i] += 1\n",
    "        else:\n",
    "            freq2[i] = 1\n",
    "\n",
    "    for i in freq1:\n",
    "        if i not in freq2:\n",
    "            res = 'false'\n",
    "        elif freq1[i] != freq2[i]:\n",
    "            res = 'false'\n",
    "\n",
    "    for i in freq2:\n",
    "        if i not in freq1:\n",
    "            res = 'false'\n",
    "        elif freq2[i] != freq1[i]:\n",
    "            res = 'false'\n",
    "\n",
    "    return res"
   ]
  },
  {
   "cell_type": "code",
   "execution_count": 68,
   "id": "dba89b87",
   "metadata": {},
   "outputs": [
    {
     "data": {
      "text/plain": [
       "'false'"
      ]
     },
     "execution_count": 68,
     "metadata": {},
     "output_type": "execute_result"
    }
   ],
   "source": [
    "isAnagram()"
   ]
  },
  {
   "cell_type": "code",
   "execution_count": 75,
   "id": "10a453a5",
   "metadata": {},
   "outputs": [],
   "source": [
    "l = [1, [2, [3]]]\n",
    "\n",
    "\n",
    "# Time complexity = O(N)\n",
    "# Each number is only visited once\n",
    "# N numbers in total\n",
    "def flatten(l):\n",
    "    res = []\n",
    "    for i in range(len(l)):\n",
    "        if type(l[i]) == int:\n",
    "            res.append(l[i])\n",
    "        else:\n",
    "            res += flatten(l[i])\n",
    "    return res"
   ]
  },
  {
   "cell_type": "code",
   "execution_count": 76,
   "id": "ab5c793f",
   "metadata": {},
   "outputs": [
    {
     "name": "stdout",
     "output_type": "stream",
     "text": [
      "[1, 2, 3]\n"
     ]
    }
   ],
   "source": [
    "print(flatten(l))"
   ]
  },
  {
   "cell_type": "code",
   "execution_count": 77,
   "id": "057b83d4",
   "metadata": {},
   "outputs": [
    {
     "name": "stdout",
     "output_type": "stream",
     "text": [
      "[1, 2, 3, 4, 5, 8, 9, 10]\n"
     ]
    }
   ],
   "source": [
    "print(flatten([1, [2, 3], [4, 5, [8, [9, [10]]]]]))"
   ]
  },
  {
   "cell_type": "code",
   "execution_count": 78,
   "id": "7c608781",
   "metadata": {},
   "outputs": [
    {
     "data": {
      "text/plain": [
       "[1, 2, 3]"
      ]
     },
     "execution_count": 78,
     "metadata": {},
     "output_type": "execute_result"
    }
   ],
   "source": [
    "[1] + [2, 3]"
   ]
  },
  {
   "cell_type": "code",
   "execution_count": null,
   "id": "8c52446a",
   "metadata": {},
   "outputs": [],
   "source": []
  }
 ],
 "metadata": {
  "kernelspec": {
   "display_name": "Python 3 (ipykernel)",
   "language": "python",
   "name": "python3"
  },
  "language_info": {
   "codemirror_mode": {
    "name": "ipython",
    "version": 3
   },
   "file_extension": ".py",
   "mimetype": "text/x-python",
   "name": "python",
   "nbconvert_exporter": "python",
   "pygments_lexer": "ipython3",
   "version": "3.9.12"
  }
 },
 "nbformat": 4,
 "nbformat_minor": 5
}
