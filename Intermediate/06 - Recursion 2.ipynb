{
 "cells": [
  {
   "cell_type": "markdown",
   "id": "a0c8fca7",
   "metadata": {},
   "source": [
    "# Recursion 2"
   ]
  },
  {
   "cell_type": "code",
   "execution_count": null,
   "id": "a8c3e9ff",
   "metadata": {},
   "outputs": [],
   "source": []
  },
  {
   "cell_type": "markdown",
   "id": "61e06d0a",
   "metadata": {},
   "source": [
    "## Merge two sorted arrays"
   ]
  },
  {
   "cell_type": "code",
   "execution_count": 4,
   "id": "a905b4a6",
   "metadata": {},
   "outputs": [],
   "source": [
    "def merge(A, B):\n",
    "    \"\"\"\n",
    "    This function takes two sorted arrays - A & B and returns\n",
    "    a sorted array with their data in O(n) time\n",
    "    \"\"\"\n",
    "    res = []\n",
    "    i, j = 0, 0\n",
    "    \n",
    "    while i < len(A) and j < len(B):\n",
    "        if A[i] <= B[j]:\n",
    "            res.append(A[i])\n",
    "            i += 1\n",
    "        else:\n",
    "            res.append(B[j])\n",
    "            j += 1\n",
    "            \n",
    "    if i < len(A):\n",
    "        res += A[i:]\n",
    "        \n",
    "    if j < len(B):\n",
    "        res += B[j:]\n",
    "            \n",
    "    return res\n",
    "# Break till 10:17 PM"
   ]
  },
  {
   "cell_type": "code",
   "execution_count": 5,
   "id": "3decba76",
   "metadata": {},
   "outputs": [
    {
     "data": {
      "text/plain": [
       "[-5, 0, 5, 8, 9, 10, 10, 15, 20, 30]"
      ]
     },
     "execution_count": 5,
     "metadata": {},
     "output_type": "execute_result"
    }
   ],
   "source": [
    "merge([10, 20, 30], [-5, 0, 5, 8, 9, 10, 15])"
   ]
  },
  {
   "cell_type": "code",
   "execution_count": 6,
   "id": "50c82425",
   "metadata": {
    "scrolled": true
   },
   "outputs": [
    {
     "data": {
      "text/plain": [
       "[-50, -30, -20, -6, -3, -2, 0, 4, 8, 9, 15, 20, 20, 25]"
      ]
     },
     "execution_count": 6,
     "metadata": {},
     "output_type": "execute_result"
    }
   ],
   "source": [
    "merge([-50, -30, -20, 0, 4, 9, 15, 20], [-6, -3, -2, 8, 20, 25])"
   ]
  },
  {
   "cell_type": "code",
   "execution_count": null,
   "id": "a6ca582f",
   "metadata": {},
   "outputs": [],
   "source": []
  },
  {
   "cell_type": "code",
   "execution_count": null,
   "id": "21c5960b",
   "metadata": {},
   "outputs": [],
   "source": []
  },
  {
   "cell_type": "code",
   "execution_count": null,
   "id": "526d1ffc",
   "metadata": {},
   "outputs": [],
   "source": []
  },
  {
   "cell_type": "markdown",
   "id": "205eec34",
   "metadata": {},
   "source": [
    "## Merge sort"
   ]
  },
  {
   "cell_type": "code",
   "execution_count": 8,
   "id": "a8e20526",
   "metadata": {},
   "outputs": [],
   "source": [
    "def mergeSort(arr):\n",
    "    \"\"\"\n",
    "    Sort the array 'arr' using mergesort\n",
    "    \"\"\"\n",
    "    n = len(arr)\n",
    "    if n == 1:\n",
    "        return arr\n",
    "    \n",
    "    # Step 1: Divide\n",
    "    left = arr[:n//2]\n",
    "    right = arr[n//2:]\n",
    "    \n",
    "    # Step 2: Sort these sorts recursively\n",
    "    left = mergeSort(left)\n",
    "    right = mergeSort(right)\n",
    "    \n",
    "    # Step 3: Merge two sorted arrays\n",
    "    res = merge(left, right)\n",
    "    return res"
   ]
  },
  {
   "cell_type": "code",
   "execution_count": 9,
   "id": "8c9cc0db",
   "metadata": {},
   "outputs": [
    {
     "data": {
      "text/plain": [
       "[-8, -4, -3, 0, 1, 2, 5, 6, 9, 10]"
      ]
     },
     "execution_count": 9,
     "metadata": {},
     "output_type": "execute_result"
    }
   ],
   "source": [
    "mergeSort([9, 0, -4, 10, 2, 5, 6, -3, -8, 1])"
   ]
  },
  {
   "cell_type": "code",
   "execution_count": 10,
   "id": "75d1b01a",
   "metadata": {},
   "outputs": [
    {
     "data": {
      "text/plain": [
       "[-4, 0, 1, 2, 3, 4, 5, 6, 6, 6, 6, 40]"
      ]
     },
     "execution_count": 10,
     "metadata": {},
     "output_type": "execute_result"
    }
   ],
   "source": [
    "mergeSort([6, 4, 0, 1, 6, 5, 6, 6, 3, 2, -4, 40])"
   ]
  },
  {
   "cell_type": "code",
   "execution_count": null,
   "id": "f948a6f9",
   "metadata": {},
   "outputs": [],
   "source": []
  },
  {
   "cell_type": "code",
   "execution_count": null,
   "id": "571e1c91",
   "metadata": {},
   "outputs": [],
   "source": []
  },
  {
   "cell_type": "code",
   "execution_count": null,
   "id": "13f1e0bb",
   "metadata": {},
   "outputs": [],
   "source": []
  },
  {
   "cell_type": "markdown",
   "id": "de86b67f",
   "metadata": {},
   "source": [
    "## Reading Material\n",
    "- https://www.scaler.com/topics/merge-two-sorted-arrays/\n",
    "- https://www.scaler.com/topics/merge-sort-in-python/"
   ]
  },
  {
   "cell_type": "code",
   "execution_count": null,
   "id": "7841202c",
   "metadata": {},
   "outputs": [],
   "source": []
  },
  {
   "cell_type": "code",
   "execution_count": null,
   "id": "9ec6c3d6",
   "metadata": {},
   "outputs": [],
   "source": []
  },
  {
   "cell_type": "code",
   "execution_count": null,
   "id": "8f05936d",
   "metadata": {},
   "outputs": [],
   "source": []
  },
  {
   "cell_type": "markdown",
   "id": "948986bd",
   "metadata": {},
   "source": [
    "# Doubts"
   ]
  },
  {
   "cell_type": "code",
   "execution_count": 11,
   "id": "ae507db7",
   "metadata": {},
   "outputs": [],
   "source": [
    "# Nth fibbonacci number\n",
    "def fibbo(N):\n",
    "    if N == 0 or N == 1:\n",
    "        return 1\n",
    "    return(fibbo(N-1)+fibbo(N-2))"
   ]
  },
  {
   "cell_type": "code",
   "execution_count": 12,
   "id": "5fe1d8ca",
   "metadata": {},
   "outputs": [
    {
     "data": {
      "text/plain": [
       "8"
      ]
     },
     "execution_count": 12,
     "metadata": {},
     "output_type": "execute_result"
    }
   ],
   "source": [
    "fibbo(5)"
   ]
  },
  {
   "cell_type": "code",
   "execution_count": null,
   "id": "f70e2320",
   "metadata": {},
   "outputs": [],
   "source": [
    "# Fibonacci Series - Use a loop\n",
    "# Keep it simple\n"
   ]
  }
 ],
 "metadata": {
  "kernelspec": {
   "display_name": "Python 3 (ipykernel)",
   "language": "python",
   "name": "python3"
  },
  "language_info": {
   "codemirror_mode": {
    "name": "ipython",
    "version": 3
   },
   "file_extension": ".py",
   "mimetype": "text/x-python",
   "name": "python",
   "nbconvert_exporter": "python",
   "pygments_lexer": "ipython3",
   "version": "3.9.12"
  }
 },
 "nbformat": 4,
 "nbformat_minor": 5
}
