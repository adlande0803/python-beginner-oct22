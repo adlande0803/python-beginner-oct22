{
 "cells": [
  {
   "cell_type": "markdown",
   "metadata": {},
   "source": [
    "# Doubts"
   ]
  },
  {
   "cell_type": "code",
   "execution_count": null,
   "metadata": {},
   "outputs": [],
   "source": []
  },
  {
   "cell_type": "code",
   "execution_count": 2,
   "metadata": {},
   "outputs": [],
   "source": [
    "class SalaryNotInRangeError(Exception):\n",
    "    \"\"\"\n",
    "    Exception raised for errors in the input salary.\n",
    "    Attributes:\n",
    "        message -- explain the exception\n",
    "    \"\"\"\n",
    "    def __init__(self):\n",
    "        super().__init__('Salary is not in range')\n",
    "\n",
    "def check_salary(salary):\n",
    "  try:\n",
    "    if (salary < 10000 or salary > 100000):\n",
    "        # if the salary is not in range (10000, 100000)\n",
    "        raise SalaryNotInRangeError()\n",
    "    else:\n",
    "      print(\"Congratulations!!\")\n",
    "    \n",
    "  except SalaryNotInRangeError as e:\n",
    "    print(e)"
   ]
  },
  {
   "cell_type": "code",
   "execution_count": 3,
   "metadata": {},
   "outputs": [
    {
     "name": "stdout",
     "output_type": "stream",
     "text": [
      "Congratulations!!\n"
     ]
    }
   ],
   "source": [
    "check_salary(5000)"
   ]
  },
  {
   "cell_type": "code",
   "execution_count": null,
   "metadata": {},
   "outputs": [],
   "source": []
  },
  {
   "cell_type": "code",
   "execution_count": 5,
   "metadata": {},
   "outputs": [
    {
     "name": "stdout",
     "output_type": "stream",
     "text": [
      "3\n",
      "44\n",
      "85\n",
      "71\n",
      "30\n",
      "83\n",
      "0\n",
      "16\n",
      "6\n",
      "89\n",
      "24\n",
      "95\n",
      "60\n",
      "25\n",
      "74\n",
      "41\n",
      "66\n",
      "10\n",
      "64\n",
      "77\n",
      "53\n",
      "86\n",
      "55\n",
      "7\n",
      "22\n",
      "69\n",
      "42\n",
      "99\n",
      "54\n",
      "27\n",
      "61\n",
      "51\n",
      "68\n",
      "80\n",
      "91\n",
      "36\n",
      "39\n",
      "79\n",
      "21\n",
      "97\n",
      "75\n",
      "26\n",
      "88\n",
      "28\n",
      "17\n",
      "5\n",
      "72\n",
      "81\n",
      "11\n",
      "37\n",
      "87\n",
      "23\n",
      "35\n",
      "65\n",
      "4\n",
      "62\n",
      "29\n",
      "57\n",
      "40\n",
      "70\n",
      "15\n",
      "63\n",
      "52\n",
      "98\n",
      "31\n",
      "47\n",
      "9\n",
      "76\n",
      "82\n",
      "33\n",
      "8\n",
      "92\n",
      "96\n",
      "93\n",
      "2\n",
      "58\n",
      "56\n",
      "14\n",
      "38\n",
      "78\n",
      "1\n",
      "32\n",
      "20\n",
      "43\n",
      "12\n",
      "19\n",
      "50\n",
      "84\n",
      "94\n",
      "48\n",
      "13\n",
      "59\n",
      "67\n",
      "34\n",
      "18\n",
      "46\n",
      "73\n",
      "45\n",
      "90\n",
      "49\n"
     ]
    }
   ],
   "source": [
    "import random\n",
    "array = list(range(100))\n",
    "random.shuffle(array)\n",
    "\n",
    "# array is a list of 100 elements containing numbers 1-100 (shuffled order)\n",
    "\n",
    "while len(array) != 0:\n",
    "    print(array.pop())\n",
    "    # Popping and printing the last element one by one\n",
    "    # until the list is empty"
   ]
  },
  {
   "cell_type": "code",
   "execution_count": null,
   "metadata": {},
   "outputs": [],
   "source": []
  },
  {
   "cell_type": "code",
   "execution_count": null,
   "metadata": {},
   "outputs": [],
   "source": []
  },
  {
   "cell_type": "code",
   "execution_count": 6,
   "metadata": {},
   "outputs": [
    {
     "name": "stdout",
     "output_type": "stream",
     "text": [
      "3\n"
     ]
    }
   ],
   "source": [
    "l = [1,2,3]\n",
    "print(l.pop())"
   ]
  },
  {
   "cell_type": "code",
   "execution_count": 7,
   "metadata": {},
   "outputs": [
    {
     "name": "stdout",
     "output_type": "stream",
     "text": [
      "[1, 2]\n"
     ]
    }
   ],
   "source": [
    "print(l)"
   ]
  },
  {
   "cell_type": "code",
   "execution_count": 8,
   "metadata": {},
   "outputs": [
    {
     "name": "stdout",
     "output_type": "stream",
     "text": [
      "2\n"
     ]
    }
   ],
   "source": [
    "print(l.pop())"
   ]
  },
  {
   "cell_type": "code",
   "execution_count": 9,
   "metadata": {},
   "outputs": [
    {
     "name": "stdout",
     "output_type": "stream",
     "text": [
      "[1]\n"
     ]
    }
   ],
   "source": [
    "print(l)"
   ]
  },
  {
   "cell_type": "code",
   "execution_count": null,
   "metadata": {},
   "outputs": [],
   "source": []
  },
  {
   "cell_type": "code",
   "execution_count": null,
   "metadata": {},
   "outputs": [],
   "source": []
  },
  {
   "cell_type": "code",
   "execution_count": null,
   "metadata": {},
   "outputs": [],
   "source": []
  },
  {
   "cell_type": "code",
   "execution_count": 18,
   "metadata": {},
   "outputs": [],
   "source": [
    "def min_value(a,b,c,ll,ul):\n",
    "\t# a,b,c -> Integers. Coefficients of quadratic equation ax^2 + bx + c = 0\n",
    "\t# ll -> Integer. Lower limit of variable x\n",
    "\t# ul -> Integer. Upper Limit of variable x\n",
    "\t\n",
    "    minEquationValue = a * ll * ll + b * ll + c\n",
    "    ans = ll\n",
    "\n",
    "    # Range = [ll,ul]\n",
    "    for x in range(ll, ul + 1):\n",
    "        # Using the current x value, what will be the value of the quadratic equation?\n",
    "        val = a * x * x + b * x + c\n",
    "        # Is this value less than the current minimum value?\n",
    "        if val < minEquationValue:\n",
    "            # If yes, update the minimum value\n",
    "            minEquationValue = val\n",
    "            # Also update the value of x for which the minimum value is obtained\n",
    "            ans = x\n",
    "            \n",
    "    return ans\n"
   ]
  },
  {
   "cell_type": "code",
   "execution_count": 19,
   "metadata": {},
   "outputs": [
    {
     "name": "stdout",
     "output_type": "stream",
     "text": [
      "1\n"
     ]
    }
   ],
   "source": [
    "ans = min_value(2,3,-1,1,3)\n",
    "print(ans)"
   ]
  },
  {
   "cell_type": "code",
   "execution_count": null,
   "metadata": {},
   "outputs": [],
   "source": []
  },
  {
   "cell_type": "code",
   "execution_count": null,
   "metadata": {},
   "outputs": [],
   "source": []
  },
  {
   "cell_type": "code",
   "execution_count": null,
   "metadata": {},
   "outputs": [],
   "source": []
  },
  {
   "cell_type": "code",
   "execution_count": null,
   "metadata": {},
   "outputs": [],
   "source": []
  },
  {
   "cell_type": "code",
   "execution_count": 10,
   "metadata": {},
   "outputs": [
    {
     "name": "stdout",
     "output_type": "stream",
     "text": [
      "1\n",
      "2\n",
      "3\n",
      "4\n",
      "5\n",
      "6\n",
      "7\n",
      "8\n",
      "9\n",
      "10\n"
     ]
    }
   ],
   "source": [
    "# Print all numbers from 1 to 10\n",
    "\n",
    "for i in range(1, 11):\n",
    "    print(i)"
   ]
  },
  {
   "cell_type": "code",
   "execution_count": null,
   "metadata": {},
   "outputs": [],
   "source": []
  },
  {
   "cell_type": "code",
   "execution_count": null,
   "metadata": {},
   "outputs": [],
   "source": []
  },
  {
   "cell_type": "code",
   "execution_count": null,
   "metadata": {},
   "outputs": [],
   "source": []
  },
  {
   "cell_type": "code",
   "execution_count": null,
   "metadata": {},
   "outputs": [],
   "source": [
    "import math\n",
    "\n",
    "\n",
    "def f(x):\n",
    "    return (math.exp(x) - math.exp(-x)) / (math.exp(x) + math.exp(-x))\n",
    "\n",
    "def derivative(a):\n",
    "    dx = 0.000001\n",
    "\t# a -> The value at which the derivative’s value needs to be calculated\n",
    "\t# output-> The value of derivative at x=a\n",
    "    ans = None\n",
    "    numerator = f(a + dx) - f(a - dx)\n",
    "    denominator = 2 * dx\n",
    "\n",
    "    ans = numerator / denominator\n",
    "    return round(ans, 4)\n"
   ]
  },
  {
   "cell_type": "code",
   "execution_count": null,
   "metadata": {},
   "outputs": [],
   "source": []
  },
  {
   "cell_type": "code",
   "execution_count": null,
   "metadata": {},
   "outputs": [],
   "source": []
  },
  {
   "cell_type": "code",
   "execution_count": 24,
   "metadata": {},
   "outputs": [
    {
     "name": "stdout",
     "output_type": "stream",
     "text": [
      "[1, 2, 3, 4, 5]\n"
     ]
    }
   ],
   "source": [
    "array = [ [1, [ [ 2 ] ], [ [ [ 3 ] ] ], [ [ 4 ], 5 ] ]]\n",
    "result = lambda x: sum(map(result, x), [ ] ) if isinstance(x, list) else [x]\n",
    "print(result(array))"
   ]
  },
  {
   "cell_type": "code",
   "execution_count": 27,
   "metadata": {},
   "outputs": [
    {
     "name": "stdout",
     "output_type": "stream",
     "text": [
      "[1, 2, 3, 4, 5]\n"
     ]
    }
   ],
   "source": [
    "# Simplify 1\n",
    "array = [ [1, [ [ 2 ] ], [ [ [ 3 ] ] ], [ [ 4 ], 5 ] ]]\n",
    "\n",
    "def result(x):\n",
    "    return sum(map(result, x), [ ] ) if isinstance(x, list) else [x]\n",
    "print(result(array))"
   ]
  },
  {
   "cell_type": "code",
   "execution_count": 35,
   "metadata": {},
   "outputs": [
    {
     "name": "stdout",
     "output_type": "stream",
     "text": [
      "[1, 2, 3, 4, 5]\n"
     ]
    }
   ],
   "source": [
    "# Simplify 2\n",
    "array = [[1, [[2]], [[[3]]], [[4], 5]]]\n",
    "\n",
    "def flatten(x):\n",
    "    if isinstance(x, list):\n",
    "        return sum(map(flatten, x), [])\n",
    "    else:\n",
    "        return [x]\n",
    "\n",
    "print(flatten(array))"
   ]
  },
  {
   "cell_type": "code",
   "execution_count": 38,
   "metadata": {},
   "outputs": [
    {
     "name": "stdout",
     "output_type": "stream",
     "text": [
      "x = 1, returning [1]\n",
      "x = 2, returning [2]\n",
      "x = [2], returning [2]\n",
      "x = [[2]], returning [2]\n",
      "x = 3, returning [3]\n",
      "x = [3], returning [3]\n",
      "x = [[3]], returning [3]\n",
      "x = [[[3]]], returning [3]\n",
      "x = 4, returning [4]\n",
      "x = [4], returning [4]\n",
      "x = 5, returning [5]\n",
      "x = [[4], 5], returning [4, 5]\n",
      "x = [1, [[2]], [[[3]]], [[4], 5]], returning [1, 2, 3, 4, 5]\n",
      "x = [[1, [[2]], [[[3]]], [[4], 5]]], returning [1, 2, 3, 4, 5]\n",
      "[1, 2, 3, 4, 5]\n"
     ]
    }
   ],
   "source": [
    "# Dry Run code\n",
    "array = [[1, [[2]], [[[3]]], [[4], 5]]]\n",
    "\n",
    "def flatten(x):\n",
    "    if isinstance(x, list):\n",
    "        y = sum(map(flatten, x), [])\n",
    "    else:\n",
    "        y = [x]\n",
    "\n",
    "    print(f\"x = {x}, returning {y}\")\n",
    "    return y\n",
    "\n",
    "print(flatten(array))"
   ]
  },
  {
   "cell_type": "code",
   "execution_count": null,
   "metadata": {},
   "outputs": [],
   "source": []
  },
  {
   "cell_type": "code",
   "execution_count": null,
   "metadata": {},
   "outputs": [],
   "source": []
  },
  {
   "cell_type": "code",
   "execution_count": 67,
   "metadata": {},
   "outputs": [
    {
     "name": "stdout",
     "output_type": "stream",
     "text": [
      "x = 4, returning [4]\n",
      "x = 5, returning [5]\n",
      "m =  [[4], [5]]\n",
      "sum =  [4, 5]\n"
     ]
    }
   ],
   "source": [
    "m = list(map(flatten, [4, 5]))\n",
    "print(\"m = \", m)\n",
    "print(\"sum = \", sum(m, []))"
   ]
  },
  {
   "cell_type": "code",
   "execution_count": 49,
   "metadata": {},
   "outputs": [
    {
     "name": "stdout",
     "output_type": "stream",
     "text": [
      "x = 4, returning [4]\n"
     ]
    },
    {
     "data": {
      "text/plain": [
       "[4]"
      ]
     },
     "execution_count": 49,
     "metadata": {},
     "output_type": "execute_result"
    }
   ],
   "source": [
    "flatten(4)"
   ]
  },
  {
   "cell_type": "code",
   "execution_count": 56,
   "metadata": {},
   "outputs": [
    {
     "name": "stdout",
     "output_type": "stream",
     "text": [
      "4\n",
      "4\n"
     ]
    }
   ],
   "source": [
    "l = [4]\n",
    "print(l[0])\n",
    "print(sum(l))"
   ]
  },
  {
   "cell_type": "code",
   "execution_count": 57,
   "metadata": {},
   "outputs": [
    {
     "name": "stdout",
     "output_type": "stream",
     "text": [
      "5\n",
      "5\n"
     ]
    }
   ],
   "source": [
    "l = [5]\n",
    "print(l[0])\n",
    "print(sum(l))"
   ]
  },
  {
   "cell_type": "code",
   "execution_count": null,
   "metadata": {},
   "outputs": [],
   "source": []
  },
  {
   "cell_type": "code",
   "execution_count": 70,
   "metadata": {},
   "outputs": [
    {
     "data": {
      "text/plain": [
       "12"
      ]
     },
     "execution_count": 70,
     "metadata": {},
     "output_type": "execute_result"
    }
   ],
   "source": [
    "# Initial sum value = 6\n",
    "sum([2, 4], 6)"
   ]
  },
  {
   "cell_type": "code",
   "execution_count": 80,
   "metadata": {},
   "outputs": [
    {
     "data": {
      "text/plain": [
       "6"
      ]
     },
     "execution_count": 80,
     "metadata": {},
     "output_type": "execute_result"
    }
   ],
   "source": [
    "# Initial sum value = 0 (default)\n",
    "sum([2, 4])"
   ]
  },
  {
   "cell_type": "code",
   "execution_count": 83,
   "metadata": {},
   "outputs": [
    {
     "data": {
      "text/plain": [
       "20"
      ]
     },
     "execution_count": 83,
     "metadata": {},
     "output_type": "execute_result"
    }
   ],
   "source": [
    "# Initial sum value = 10\n",
    "sum([1, 6, 3], 10)"
   ]
  },
  {
   "cell_type": "code",
   "execution_count": null,
   "metadata": {},
   "outputs": [],
   "source": []
  },
  {
   "cell_type": "code",
   "execution_count": 81,
   "metadata": {},
   "outputs": [
    {
     "name": "stdout",
     "output_type": "stream",
     "text": [
      "x = 4, returning [4]\n",
      "x = 5, returning [5]\n",
      "m =  [[4], [5]]\n",
      "sum =  [4, 5]\n"
     ]
    }
   ],
   "source": [
    "m = list(map(flatten, [4, 5]))\n",
    "print(\"m = \", m)\n",
    "print(\"sum = \", sum(m, []))"
   ]
  },
  {
   "cell_type": "code",
   "execution_count": null,
   "metadata": {},
   "outputs": [],
   "source": []
  },
  {
   "cell_type": "code",
   "execution_count": 82,
   "metadata": {},
   "outputs": [
    {
     "ename": "TypeError",
     "evalue": "unsupported operand type(s) for +: 'int' and 'list'",
     "output_type": "error",
     "traceback": [
      "\u001b[0;31m---------------------------------------------------------------------------\u001b[0m",
      "\u001b[0;31mTypeError\u001b[0m                                 Traceback (most recent call last)",
      "\u001b[0;32m/var/folders/jn/1bsrct314hv5xmfm7vrcdrzc0000gn/T/ipykernel_2328/3352045818.py\u001b[0m in \u001b[0;36m<module>\u001b[0;34m\u001b[0m\n\u001b[0;32m----> 1\u001b[0;31m \u001b[0msum\u001b[0m\u001b[0;34m(\u001b[0m\u001b[0;34m[\u001b[0m\u001b[0;34m[\u001b[0m\u001b[0;36m4\u001b[0m\u001b[0;34m]\u001b[0m\u001b[0;34m,\u001b[0m \u001b[0;34m[\u001b[0m\u001b[0;36m5\u001b[0m\u001b[0;34m]\u001b[0m\u001b[0;34m]\u001b[0m\u001b[0;34m)\u001b[0m\u001b[0;34m\u001b[0m\u001b[0;34m\u001b[0m\u001b[0m\n\u001b[0m",
      "\u001b[0;31mTypeError\u001b[0m: unsupported operand type(s) for +: 'int' and 'list'"
     ]
    }
   ],
   "source": [
    "# Initial sum value = 0 (default)\n",
    "sum([[4], [5]])\n",
    "\n",
    "# Internally it is adding\n",
    "0 + [4] + [5]"
   ]
  },
  {
   "cell_type": "code",
   "execution_count": 85,
   "metadata": {},
   "outputs": [
    {
     "ename": "TypeError",
     "evalue": "unsupported operand type(s) for +: 'int' and 'list'",
     "output_type": "error",
     "traceback": [
      "\u001b[0;31m---------------------------------------------------------------------------\u001b[0m",
      "\u001b[0;31mTypeError\u001b[0m                                 Traceback (most recent call last)",
      "\u001b[0;32m/var/folders/jn/1bsrct314hv5xmfm7vrcdrzc0000gn/T/ipykernel_2328/3466121920.py\u001b[0m in \u001b[0;36m<module>\u001b[0;34m\u001b[0m\n\u001b[0;32m----> 1\u001b[0;31m \u001b[0;36m0\u001b[0m \u001b[0;34m+\u001b[0m \u001b[0;34m[\u001b[0m\u001b[0;36m4\u001b[0m\u001b[0;34m]\u001b[0m\u001b[0;34m\u001b[0m\u001b[0;34m\u001b[0m\u001b[0m\n\u001b[0m",
      "\u001b[0;31mTypeError\u001b[0m: unsupported operand type(s) for +: 'int' and 'list'"
     ]
    }
   ],
   "source": [
    "0 + [4]"
   ]
  },
  {
   "cell_type": "code",
   "execution_count": 86,
   "metadata": {},
   "outputs": [
    {
     "data": {
      "text/plain": [
       "[4]"
      ]
     },
     "execution_count": 86,
     "metadata": {},
     "output_type": "execute_result"
    }
   ],
   "source": [
    "[] + [4]"
   ]
  },
  {
   "cell_type": "code",
   "execution_count": 87,
   "metadata": {},
   "outputs": [
    {
     "data": {
      "text/plain": [
       "[4, 5]"
      ]
     },
     "execution_count": 87,
     "metadata": {},
     "output_type": "execute_result"
    }
   ],
   "source": [
    "[] + [4] + [5]"
   ]
  },
  {
   "cell_type": "code",
   "execution_count": null,
   "metadata": {},
   "outputs": [],
   "source": []
  },
  {
   "cell_type": "code",
   "execution_count": null,
   "metadata": {},
   "outputs": [],
   "source": []
  },
  {
   "cell_type": "code",
   "execution_count": null,
   "metadata": {},
   "outputs": [],
   "source": []
  },
  {
   "cell_type": "code",
   "execution_count": 88,
   "metadata": {},
   "outputs": [
    {
     "name": "stdout",
     "output_type": "stream",
     "text": [
      "[set(), {1}, {2}, {1, 2}, {3}, {1, 3}, {2, 3}, {1, 2, 3}]\n"
     ]
    }
   ],
   "source": [
    "from functools import reduce\n",
    "array = {1, 2, 3} # actually a set\n",
    "result = lambda array: reduce(lambda P, x: P + [subset | {x} for subset in P], array , [set()]) \n",
    "\n",
    "print(result(array)) \n"
   ]
  },
  {
   "cell_type": "code",
   "execution_count": 90,
   "metadata": {},
   "outputs": [
    {
     "name": "stdout",
     "output_type": "stream",
     "text": [
      "[set(), {1}, {2}, {1, 2}, {3}, {1, 3}, {2, 3}, {1, 2, 3}]\n"
     ]
    }
   ],
   "source": [
    "# Simplified version\n",
    "def result(array):\n",
    "    return reduce(lambda P, x: P + [subset | {x} for subset in P], array , [set()]) \n",
    "\n",
    "print(result(array)) "
   ]
  },
  {
   "cell_type": "code",
   "execution_count": 91,
   "metadata": {},
   "outputs": [
    {
     "name": "stdout",
     "output_type": "stream",
     "text": [
      "[set(), {1}, {2}, {1, 2}, {3}, {1, 3}, {2, 3}, {1, 2, 3}]\n"
     ]
    }
   ],
   "source": [
    "# Simplified version\n",
    "def helper(P, x):\n",
    "    return P + [subset | {x} for subset in P]\n",
    "\n",
    "\n",
    "def result(array):\n",
    "    return reduce(helper, array , [set()]) \n",
    "\n",
    "print(result(array)) "
   ]
  },
  {
   "cell_type": "code",
   "execution_count": 93,
   "metadata": {},
   "outputs": [
    {
     "name": "stdout",
     "output_type": "stream",
     "text": [
      "[set(), {1}, {2}, {1, 2}, {3}, {1, 3}, {2, 3}, {1, 2, 3}]\n"
     ]
    }
   ],
   "source": [
    "# Simplified version\n",
    "def helper(acc, curr):\n",
    "    return acc + [subset | {curr} for subset in acc]\n",
    "\n",
    "\n",
    "def generateSubsets(array):\n",
    "    # Initial value to work with = [set()]\n",
    "    return reduce(helper, array , [set()]) \n",
    "\n",
    "\n",
    "array = {1, 2, 3}\n",
    "print(generateSubsets(array)) "
   ]
  },
  {
   "cell_type": "code",
   "execution_count": 2,
   "metadata": {},
   "outputs": [
    {
     "name": "stdout",
     "output_type": "stream",
     "text": [
      "[set(), {1}, {2}, {1, 2}, {3}, {1, 3}, {2, 3}, {1, 2, 3}]\n"
     ]
    }
   ],
   "source": [
    "from functools import reduce\n",
    "\n",
    "# Simplified version\n",
    "def helper(acc, curr):\n",
    "    res = []\n",
    "    for subset in acc:\n",
    "        res.append(subset | {curr})\n",
    "    return acc + res\n",
    "\n",
    "\n",
    "def generateSubsets(array):\n",
    "    # Initial value to work with = [set()]\n",
    "    return reduce(helper, array , [set()]) \n",
    "\n",
    "\n",
    "array = {1, 2, 3}\n",
    "print(generateSubsets(array)) "
   ]
  },
  {
   "cell_type": "code",
   "execution_count": 3,
   "metadata": {},
   "outputs": [],
   "source": [
    "# Reduce function will go for the iterable one by one and apply the helper function on it"
   ]
  },
  {
   "cell_type": "code",
   "execution_count": 4,
   "metadata": {},
   "outputs": [],
   "source": [
    "def helper(acc, curr):\n",
    "    res = []\n",
    "    for subset in acc:\n",
    "        res.append(subset | {curr})\n",
    "    return acc + res"
   ]
  },
  {
   "cell_type": "code",
   "execution_count": 5,
   "metadata": {},
   "outputs": [
    {
     "data": {
      "text/plain": [
       "[set(), {1}]"
      ]
     },
     "execution_count": 5,
     "metadata": {},
     "output_type": "execute_result"
    }
   ],
   "source": [
    "# First iteration of the reduce function\n",
    "helper([set()], 1)\n",
    "# Returns a list of all possible subsets of {1}"
   ]
  },
  {
   "cell_type": "code",
   "execution_count": 6,
   "metadata": {},
   "outputs": [
    {
     "data": {
      "text/plain": [
       "[set(), {1}, {2}, {1, 2}]"
      ]
     },
     "execution_count": 6,
     "metadata": {},
     "output_type": "execute_result"
    }
   ],
   "source": [
    "# Iteration 2\n",
    "# We pass the previous result as the accumulator\n",
    "# curr = 2\n",
    "helper([set(), {1}], 2)"
   ]
  },
  {
   "cell_type": "code",
   "execution_count": 8,
   "metadata": {},
   "outputs": [
    {
     "data": {
      "text/plain": [
       "[set(), {1}, {2}, {1, 2}, {3}, {1, 3}, {2, 3}, {1, 2, 3}]"
      ]
     },
     "execution_count": 8,
     "metadata": {},
     "output_type": "execute_result"
    }
   ],
   "source": [
    "# Iteration 3\n",
    "# We pass the previous result as the accumulator\n",
    "# curr = 3\n",
    "helper([set(), {1}, {2}, {1, 2}], 3)"
   ]
  },
  {
   "cell_type": "code",
   "execution_count": null,
   "metadata": {},
   "outputs": [],
   "source": []
  },
  {
   "cell_type": "code",
   "execution_count": 16,
   "metadata": {},
   "outputs": [],
   "source": [
    "# How helper is working ? \n",
    "acc = [set(), {1}, {2}, {1, 2}]\n",
    "curr = 3\n",
    "\n",
    "# Wrap a curr element in a set as {curr}\n",
    "# Eg {3}\n",
    "# And then take the union of this set with all the subsets in the acc"
   ]
  },
  {
   "cell_type": "code",
   "execution_count": 12,
   "metadata": {},
   "outputs": [
    {
     "data": {
      "text/plain": [
       "{3}"
      ]
     },
     "execution_count": 12,
     "metadata": {},
     "output_type": "execute_result"
    }
   ],
   "source": [
    "set() | {3}"
   ]
  },
  {
   "cell_type": "code",
   "execution_count": 13,
   "metadata": {},
   "outputs": [
    {
     "data": {
      "text/plain": [
       "{1, 3}"
      ]
     },
     "execution_count": 13,
     "metadata": {},
     "output_type": "execute_result"
    }
   ],
   "source": [
    "{1} | {3}"
   ]
  },
  {
   "cell_type": "code",
   "execution_count": 14,
   "metadata": {},
   "outputs": [
    {
     "data": {
      "text/plain": [
       "{2, 3}"
      ]
     },
     "execution_count": 14,
     "metadata": {},
     "output_type": "execute_result"
    }
   ],
   "source": [
    "{2} | {3}"
   ]
  },
  {
   "cell_type": "code",
   "execution_count": 15,
   "metadata": {},
   "outputs": [
    {
     "data": {
      "text/plain": [
       "{1, 2, 3}"
      ]
     },
     "execution_count": 15,
     "metadata": {},
     "output_type": "execute_result"
    }
   ],
   "source": [
    "{1, 2} | {3}"
   ]
  },
  {
   "cell_type": "code",
   "execution_count": null,
   "metadata": {},
   "outputs": [],
   "source": []
  },
  {
   "cell_type": "code",
   "execution_count": null,
   "metadata": {},
   "outputs": [],
   "source": []
  },
  {
   "cell_type": "code",
   "execution_count": null,
   "metadata": {},
   "outputs": [],
   "source": []
  },
  {
   "cell_type": "code",
   "execution_count": null,
   "metadata": {},
   "outputs": [],
   "source": []
  },
  {
   "cell_type": "code",
   "execution_count": 10,
   "metadata": {},
   "outputs": [
    {
     "data": {
      "text/plain": [
       "{1, 2, 3, 4}"
      ]
     },
     "execution_count": 10,
     "metadata": {},
     "output_type": "execute_result"
    }
   ],
   "source": [
    "{1, 2, 3} | {2, 3, 4}"
   ]
  },
  {
   "cell_type": "code",
   "execution_count": 11,
   "metadata": {},
   "outputs": [
    {
     "data": {
      "text/plain": [
       "{1, 2, 3}"
      ]
     },
     "execution_count": 11,
     "metadata": {},
     "output_type": "execute_result"
    }
   ],
   "source": [
    "{1, 2} | {3}"
   ]
  },
  {
   "cell_type": "code",
   "execution_count": null,
   "metadata": {},
   "outputs": [],
   "source": []
  },
  {
   "cell_type": "code",
   "execution_count": null,
   "metadata": {},
   "outputs": [],
   "source": []
  },
  {
   "cell_type": "code",
   "execution_count": null,
   "metadata": {},
   "outputs": [],
   "source": []
  },
  {
   "cell_type": "code",
   "execution_count": 38,
   "metadata": {},
   "outputs": [
    {
     "name": "stdout",
     "output_type": "stream",
     "text": [
      "('d', 1) ('e', 1)\n",
      "('a', 2) ('d', 1)\n",
      "('b', 3) ('a', 2)\n",
      "('c', 2) ('b', 3)\n",
      "('c', 2) ('a', 2)\n",
      "('c', 2) ('d', 1)\n",
      "[('b', 3), ('a', 2), ('c', 2), ('d', 1), ('e', 1)]\n",
      "b 3\n",
      "a 2\n",
      "c 2\n"
     ]
    }
   ],
   "source": [
    "s = \"ccbbbaade\"\n",
    "\n",
    "import functools\n",
    "\n",
    "freq = {}\n",
    "for c in s:\n",
    "    if c in freq:\n",
    "        freq[c] += 1\n",
    "    else:\n",
    "        freq[c] = 1\n",
    "\n",
    "\n",
    "# Return 1 if you wish the second value to be sorted before the first value\n",
    "# Return -1 if you wish the first value to be sorted before the second value\n",
    "# Return 0 if you wish no changes\n",
    "def cmp(a, b):\n",
    "    print(a, b)\n",
    "    if a[1] > b[1]:\n",
    "        return 1\n",
    "    elif a[1] < b[1]:\n",
    "        return -1\n",
    "    else:\n",
    "        if a[0] < b[0]:\n",
    "            return 1\n",
    "        elif a[0] > b[0]:\n",
    "            return -1\n",
    "        return 0\n",
    "\n",
    "sortedData = sorted(freq.items(), key=functools.cmp_to_key(cmp) , reverse=True)\n",
    "print(sortedData)\n",
    "\n",
    "for item in sortedData[:3]:\n",
    "    print(item[0], item[1])"
   ]
  },
  {
   "cell_type": "code",
   "execution_count": 30,
   "metadata": {},
   "outputs": [
    {
     "data": {
      "text/plain": [
       "dict_items([('a', 2), ('b', 3), ('c', 2), ('d', 1), ('e', 1)])"
      ]
     },
     "execution_count": 30,
     "metadata": {},
     "output_type": "execute_result"
    }
   ],
   "source": [
    "freq.items()"
   ]
  },
  {
   "cell_type": "code",
   "execution_count": null,
   "metadata": {},
   "outputs": [],
   "source": []
  },
  {
   "cell_type": "code",
   "execution_count": null,
   "metadata": {},
   "outputs": [],
   "source": []
  }
 ],
 "metadata": {
  "kernelspec": {
   "display_name": "Python 3",
   "language": "python",
   "name": "python3"
  },
  "language_info": {
   "codemirror_mode": {
    "name": "ipython",
    "version": 3
   },
   "file_extension": ".py",
   "mimetype": "text/x-python",
   "name": "python",
   "nbconvert_exporter": "python",
   "pygments_lexer": "ipython3",
   "version": "3.9.12"
  },
  "orig_nbformat": 4
 },
 "nbformat": 4,
 "nbformat_minor": 2
}
