{
 "cells": [
  {
   "cell_type": "markdown",
   "id": "3f6817d6",
   "metadata": {},
   "source": [
    "# Tuples\n",
    "![](https://scaler.com/topics/images/tuples-in-python.webp)"
   ]
  },
  {
   "cell_type": "markdown",
   "id": "9cec72e6",
   "metadata": {},
   "source": [
    "- Tuples are used to hold together multiple objects. Think of them as similar to lists, but without the extensive functionality that the list class gives you.\n",
    "- One major feature of tuples is that they are **immutable** like strings i.e. you cannot modify tuples.\n",
    "- Tuples are defined by specifying items separated by commas within an optional pair of parentheses.\n",
    "- Tuples are usually used in cases where a statement or a user-defined function can safely assume that the collection of values i.e. the tuple of values used will **not change**."
   ]
  },
  {
   "cell_type": "code",
   "execution_count": 3,
   "id": "2ce856f9",
   "metadata": {},
   "outputs": [],
   "source": [
    "# ISRO\n",
    "planets = [\n",
    "    \"Mercury\",\n",
    "    \"Venus\",\n",
    "    \"Earth\",\n",
    "    \"Mars\",\n",
    "    \"Jupiter\",\n",
    "    \"Saturn\",\n",
    "    \"Uranus\",\n",
    "    \"Neptune\",\n",
    "    \"Pluto\"\n",
    "]"
   ]
  },
  {
   "cell_type": "code",
   "execution_count": 4,
   "id": "b5e2bb41",
   "metadata": {},
   "outputs": [
    {
     "data": {
      "text/plain": [
       "['Mercury',\n",
       " 'Venus',\n",
       " 'Earth',\n",
       " 'Mars',\n",
       " 'Jupiter',\n",
       " 'Saturn',\n",
       " 'Uranus',\n",
       " 'Neptune',\n",
       " 'Pluto']"
      ]
     },
     "execution_count": 4,
     "metadata": {},
     "output_type": "execute_result"
    }
   ],
   "source": [
    "planets"
   ]
  },
  {
   "cell_type": "code",
   "execution_count": 5,
   "id": "b5751c43",
   "metadata": {},
   "outputs": [
    {
     "name": "stdout",
     "output_type": "stream",
     "text": [
      "['Mercury', 'Venus', \"Tarun's planet\", 'Mars', 'Jupiter', 'Saturn', 'Uranus', 'Neptune', 'Pluto']\n"
     ]
    }
   ],
   "source": [
    "# Intern at ISRO\n",
    "planets[2] = \"Tarun's planet\"\n",
    "print(planets)"
   ]
  },
  {
   "cell_type": "code",
   "execution_count": null,
   "id": "8ccdd769",
   "metadata": {},
   "outputs": [],
   "source": [
    "# Immutable - Something that cannot be changed/modified"
   ]
  },
  {
   "cell_type": "code",
   "execution_count": 6,
   "id": "a9e95708",
   "metadata": {},
   "outputs": [
    {
     "name": "stdout",
     "output_type": "stream",
     "text": [
      "('Mercury', 'Venus', 'Earth', 'Mars', 'Jupiter', 'Saturn', 'Uranus', 'Neptune', 'Pluto') <class 'tuple'>\n"
     ]
    }
   ],
   "source": [
    "# ISRO\n",
    "planets = (\n",
    "    \"Mercury\",\n",
    "    \"Venus\",\n",
    "    \"Earth\",\n",
    "    \"Mars\",\n",
    "    \"Jupiter\",\n",
    "    \"Saturn\",\n",
    "    \"Uranus\",\n",
    "    \"Neptune\",\n",
    "    \"Pluto\"\n",
    ")\n",
    "print(planets, type(planets))"
   ]
  },
  {
   "cell_type": "code",
   "execution_count": 7,
   "id": "1875b531",
   "metadata": {},
   "outputs": [
    {
     "ename": "TypeError",
     "evalue": "'tuple' object does not support item assignment",
     "output_type": "error",
     "traceback": [
      "\u001b[0;31m---------------------------------------------------------------------------\u001b[0m",
      "\u001b[0;31mTypeError\u001b[0m                                 Traceback (most recent call last)",
      "\u001b[0;32m/var/folders/jn/1bsrct314hv5xmfm7vrcdrzc0000gn/T/ipykernel_3151/2341885905.py\u001b[0m in \u001b[0;36m<module>\u001b[0;34m\u001b[0m\n\u001b[1;32m      1\u001b[0m \u001b[0;31m# Intern at ISRO\u001b[0m\u001b[0;34m\u001b[0m\u001b[0;34m\u001b[0m\u001b[0m\n\u001b[0;32m----> 2\u001b[0;31m \u001b[0mplanets\u001b[0m\u001b[0;34m[\u001b[0m\u001b[0;36m2\u001b[0m\u001b[0;34m]\u001b[0m \u001b[0;34m=\u001b[0m \u001b[0;34m\"Tarun's planet\"\u001b[0m\u001b[0;34m\u001b[0m\u001b[0;34m\u001b[0m\u001b[0m\n\u001b[0m\u001b[1;32m      3\u001b[0m \u001b[0mprint\u001b[0m\u001b[0;34m(\u001b[0m\u001b[0mplanets\u001b[0m\u001b[0;34m)\u001b[0m\u001b[0;34m\u001b[0m\u001b[0;34m\u001b[0m\u001b[0m\n",
      "\u001b[0;31mTypeError\u001b[0m: 'tuple' object does not support item assignment"
     ]
    }
   ],
   "source": [
    "# Intern at ISRO\n",
    "planets[2] = \"Tarun's planet\"\n",
    "print(planets)"
   ]
  },
  {
   "cell_type": "code",
   "execution_count": null,
   "id": "c0498800",
   "metadata": {},
   "outputs": [],
   "source": [
    "# No updates allowed\n",
    "# - Cannot append/insert\n",
    "# - Cannot update\n",
    "# - Cannot remove"
   ]
  },
  {
   "cell_type": "code",
   "execution_count": null,
   "id": "ccb99d16",
   "metadata": {},
   "outputs": [],
   "source": []
  },
  {
   "cell_type": "markdown",
   "id": "7d0e3c62",
   "metadata": {},
   "source": [
    "### Important Tuple methods\n",
    "- index()\n",
    "- count()\n",
    "- slicing"
   ]
  },
  {
   "cell_type": "code",
   "execution_count": 10,
   "id": "080d251a",
   "metadata": {},
   "outputs": [],
   "source": [
    "t = (2, 3, 10, 'hello', [5, 10], (9, 0, 'ok'), 3)"
   ]
  },
  {
   "cell_type": "code",
   "execution_count": 9,
   "id": "98370cf6",
   "metadata": {},
   "outputs": [
    {
     "data": {
      "text/plain": [
       "10"
      ]
     },
     "execution_count": 9,
     "metadata": {},
     "output_type": "execute_result"
    }
   ],
   "source": [
    "t[2]"
   ]
  },
  {
   "cell_type": "code",
   "execution_count": 11,
   "id": "b1d3c82e",
   "metadata": {},
   "outputs": [
    {
     "data": {
      "text/plain": [
       "3"
      ]
     },
     "execution_count": 11,
     "metadata": {},
     "output_type": "execute_result"
    }
   ],
   "source": [
    "t[-1]"
   ]
  },
  {
   "cell_type": "code",
   "execution_count": 12,
   "id": "1b0e91cc",
   "metadata": {},
   "outputs": [
    {
     "data": {
      "text/plain": [
       "2"
      ]
     },
     "execution_count": 12,
     "metadata": {},
     "output_type": "execute_result"
    }
   ],
   "source": [
    "# First index \n",
    "t.index(10)"
   ]
  },
  {
   "cell_type": "code",
   "execution_count": 13,
   "id": "4f783db8",
   "metadata": {},
   "outputs": [
    {
     "ename": "ValueError",
     "evalue": "tuple.index(x): x not in tuple",
     "output_type": "error",
     "traceback": [
      "\u001b[0;31m---------------------------------------------------------------------------\u001b[0m",
      "\u001b[0;31mValueError\u001b[0m                                Traceback (most recent call last)",
      "\u001b[0;32m/var/folders/jn/1bsrct314hv5xmfm7vrcdrzc0000gn/T/ipykernel_3151/3371226518.py\u001b[0m in \u001b[0;36m<module>\u001b[0;34m\u001b[0m\n\u001b[1;32m      1\u001b[0m \u001b[0;31m# First index\u001b[0m\u001b[0;34m\u001b[0m\u001b[0;34m\u001b[0m\u001b[0m\n\u001b[0;32m----> 2\u001b[0;31m \u001b[0mt\u001b[0m\u001b[0;34m.\u001b[0m\u001b[0mindex\u001b[0m\u001b[0;34m(\u001b[0m\u001b[0;36m50\u001b[0m\u001b[0;34m)\u001b[0m\u001b[0;34m\u001b[0m\u001b[0;34m\u001b[0m\u001b[0m\n\u001b[0m",
      "\u001b[0;31mValueError\u001b[0m: tuple.index(x): x not in tuple"
     ]
    }
   ],
   "source": [
    "# First index \n",
    "t.index(50)"
   ]
  },
  {
   "cell_type": "code",
   "execution_count": 14,
   "id": "114cbb12",
   "metadata": {},
   "outputs": [],
   "source": [
    "t = (2, 2, 4, 2, 6, 9)"
   ]
  },
  {
   "cell_type": "code",
   "execution_count": 15,
   "id": "e87d7d8a",
   "metadata": {},
   "outputs": [
    {
     "data": {
      "text/plain": [
       "3"
      ]
     },
     "execution_count": 15,
     "metadata": {},
     "output_type": "execute_result"
    }
   ],
   "source": [
    "t.count(2)"
   ]
  },
  {
   "cell_type": "code",
   "execution_count": null,
   "id": "1b1c8c01",
   "metadata": {},
   "outputs": [],
   "source": []
  },
  {
   "cell_type": "code",
   "execution_count": 16,
   "id": "1112841a",
   "metadata": {},
   "outputs": [
    {
     "data": {
      "text/plain": [
       "(4, 2, 6, 9)"
      ]
     },
     "execution_count": 16,
     "metadata": {},
     "output_type": "execute_result"
    }
   ],
   "source": [
    "# New sliced tuple\n",
    "t[2:]"
   ]
  },
  {
   "cell_type": "code",
   "execution_count": null,
   "id": "b35c375c",
   "metadata": {},
   "outputs": [],
   "source": []
  },
  {
   "cell_type": "code",
   "execution_count": 17,
   "id": "7af80016",
   "metadata": {},
   "outputs": [
    {
     "name": "stdout",
     "output_type": "stream",
     "text": [
      "(30, 20, 10)\n"
     ]
    }
   ],
   "source": [
    "t = (10, 20, 30)\n",
    "print(t[::-1])"
   ]
  },
  {
   "cell_type": "code",
   "execution_count": null,
   "id": "8b732cae",
   "metadata": {},
   "outputs": [],
   "source": []
  },
  {
   "cell_type": "code",
   "execution_count": 18,
   "id": "469cd89e",
   "metadata": {},
   "outputs": [
    {
     "name": "stdout",
     "output_type": "stream",
     "text": [
      "(30, 20, 10)\n"
     ]
    }
   ],
   "source": [
    "t = (10, 20, 30)\n",
    "t = t[::-1]\n",
    "print(t)"
   ]
  },
  {
   "cell_type": "code",
   "execution_count": null,
   "id": "68a24426",
   "metadata": {},
   "outputs": [],
   "source": [
    "# Assigned a new tuple to the variable 't'\n",
    "# We modified the reference of our variable 't'\n",
    "# Tuple was not modified"
   ]
  },
  {
   "cell_type": "code",
   "execution_count": null,
   "id": "fee6e583",
   "metadata": {},
   "outputs": [],
   "source": []
  },
  {
   "cell_type": "code",
   "execution_count": null,
   "id": "cee4bad9",
   "metadata": {},
   "outputs": [],
   "source": []
  },
  {
   "cell_type": "markdown",
   "id": "486a11cd",
   "metadata": {},
   "source": [
    "### How to create a tuple\n",
    "1. Using round brackets\n",
    "2. Using tuple()\n",
    "3. Using comma separated values"
   ]
  },
  {
   "cell_type": "code",
   "execution_count": 19,
   "id": "75e962ea",
   "metadata": {},
   "outputs": [
    {
     "name": "stdout",
     "output_type": "stream",
     "text": [
      "(10, 20, 30) <class 'tuple'>\n"
     ]
    }
   ],
   "source": [
    "t = (10, 20, 30)\n",
    "print(t, type(t))"
   ]
  },
  {
   "cell_type": "code",
   "execution_count": null,
   "id": "f2cc2e2c",
   "metadata": {},
   "outputs": [],
   "source": []
  },
  {
   "cell_type": "code",
   "execution_count": 20,
   "id": "3e926e84",
   "metadata": {},
   "outputs": [
    {
     "name": "stdout",
     "output_type": "stream",
     "text": [
      "('Hello', 'How', 'are', 'you') <class 'tuple'>\n"
     ]
    }
   ],
   "source": [
    "l = [\"Hello\", \"How\", \"are\", \"you\"]\n",
    "t = tuple(l)\n",
    "print(t, type(t))"
   ]
  },
  {
   "cell_type": "code",
   "execution_count": null,
   "id": "9ab515df",
   "metadata": {},
   "outputs": [],
   "source": []
  },
  {
   "cell_type": "code",
   "execution_count": 22,
   "id": "86a4202e",
   "metadata": {},
   "outputs": [
    {
     "name": "stdout",
     "output_type": "stream",
     "text": [
      "['a', 'b', 'c']\n"
     ]
    }
   ],
   "source": [
    "l2 = list(\"abc\")\n",
    "print(l2)"
   ]
  },
  {
   "cell_type": "code",
   "execution_count": null,
   "id": "b8d58bcd",
   "metadata": {},
   "outputs": [],
   "source": []
  },
  {
   "cell_type": "code",
   "execution_count": 21,
   "id": "4b5f71f7",
   "metadata": {},
   "outputs": [
    {
     "name": "stdout",
     "output_type": "stream",
     "text": [
      "('a', 'b', 'c') <class 'tuple'>\n"
     ]
    }
   ],
   "source": [
    "t2 = tuple(\"abc\")\n",
    "print(t2, type(t2))"
   ]
  },
  {
   "cell_type": "code",
   "execution_count": null,
   "id": "4d4b5d30",
   "metadata": {},
   "outputs": [],
   "source": []
  },
  {
   "cell_type": "code",
   "execution_count": 23,
   "id": "8e8c19bd",
   "metadata": {},
   "outputs": [
    {
     "name": "stdout",
     "output_type": "stream",
     "text": [
      "[10, 20, 30] <class 'list'>\n"
     ]
    }
   ],
   "source": [
    "t = (10, 20, 30)\n",
    "l = list(t)\n",
    "print(l, type(l))"
   ]
  },
  {
   "cell_type": "code",
   "execution_count": null,
   "id": "c036d26a",
   "metadata": {},
   "outputs": [],
   "source": []
  },
  {
   "cell_type": "code",
   "execution_count": null,
   "id": "39fec9ac",
   "metadata": {},
   "outputs": [],
   "source": []
  },
  {
   "cell_type": "markdown",
   "id": "e6e27899",
   "metadata": {},
   "source": [
    "#### Quiz 1\n",
    "```py\n",
    "t = (\"Sahil\")\n",
    "type(t)\n",
    "```"
   ]
  },
  {
   "cell_type": "code",
   "execution_count": 24,
   "id": "2173269e",
   "metadata": {},
   "outputs": [
    {
     "data": {
      "text/plain": [
       "str"
      ]
     },
     "execution_count": 24,
     "metadata": {},
     "output_type": "execute_result"
    }
   ],
   "source": [
    "t = (\"Sahil\")\n",
    "type(t)"
   ]
  },
  {
   "cell_type": "code",
   "execution_count": null,
   "id": "35eb0bea",
   "metadata": {},
   "outputs": [],
   "source": []
  },
  {
   "cell_type": "code",
   "execution_count": 25,
   "id": "e47de7c3",
   "metadata": {},
   "outputs": [
    {
     "data": {
      "text/plain": [
       "tuple"
      ]
     },
     "execution_count": 25,
     "metadata": {},
     "output_type": "execute_result"
    }
   ],
   "source": [
    "t = (\"Sahil\",)\n",
    "type(t)"
   ]
  },
  {
   "cell_type": "code",
   "execution_count": null,
   "id": "02b2327a",
   "metadata": {},
   "outputs": [],
   "source": []
  },
  {
   "cell_type": "code",
   "execution_count": 26,
   "id": "9991be15",
   "metadata": {},
   "outputs": [
    {
     "name": "stdout",
     "output_type": "stream",
     "text": [
      "() <class 'tuple'>\n"
     ]
    }
   ],
   "source": [
    "t = ()\n",
    "print(t, type(t))"
   ]
  },
  {
   "cell_type": "code",
   "execution_count": null,
   "id": "b88309ee",
   "metadata": {},
   "outputs": [],
   "source": [
    "t = tuple()"
   ]
  },
  {
   "cell_type": "code",
   "execution_count": null,
   "id": "ed9fcfa6",
   "metadata": {},
   "outputs": [],
   "source": []
  },
  {
   "cell_type": "markdown",
   "id": "f0a08939",
   "metadata": {},
   "source": [
    "#### Quiz 2\n",
    "What is the output of the following?\n",
    "\n",
    "```py\n",
    "print(type((1,2,3)))\n",
    "```"
   ]
  },
  {
   "cell_type": "code",
   "execution_count": 27,
   "id": "ad981849",
   "metadata": {},
   "outputs": [
    {
     "name": "stdout",
     "output_type": "stream",
     "text": [
      "<class 'tuple'>\n"
     ]
    }
   ],
   "source": [
    "print(type((1,2,3)))"
   ]
  },
  {
   "cell_type": "code",
   "execution_count": 28,
   "id": "8d3147d9",
   "metadata": {},
   "outputs": [
    {
     "name": "stdout",
     "output_type": "stream",
     "text": [
      "<class 'tuple'>\n"
     ]
    }
   ],
   "source": [
    "a = (1,2,3)\n",
    "print(type(a))"
   ]
  },
  {
   "cell_type": "code",
   "execution_count": null,
   "id": "7298d2e5",
   "metadata": {},
   "outputs": [],
   "source": []
  },
  {
   "cell_type": "code",
   "execution_count": null,
   "id": "1492b78f",
   "metadata": {},
   "outputs": [],
   "source": []
  },
  {
   "cell_type": "code",
   "execution_count": null,
   "id": "9edff7cf",
   "metadata": {},
   "outputs": [],
   "source": []
  },
  {
   "cell_type": "markdown",
   "id": "b56b334c",
   "metadata": {},
   "source": [
    "#### Quiz 3\n",
    "```py\n",
    "T1 = (1) \n",
    "T2 = (3, 4) \n",
    "T1 += 5\n",
    "print(T1)\n",
    "```"
   ]
  },
  {
   "cell_type": "code",
   "execution_count": 31,
   "id": "edd9c35b",
   "metadata": {},
   "outputs": [
    {
     "name": "stdout",
     "output_type": "stream",
     "text": [
      "6 <class 'int'>\n"
     ]
    }
   ],
   "source": [
    "T1 = (1) \n",
    "T2 = (3, 4) \n",
    "T1 += 5\n",
    "print(T1, type(T1))"
   ]
  },
  {
   "cell_type": "code",
   "execution_count": null,
   "id": "f1dbafdf",
   "metadata": {},
   "outputs": [],
   "source": []
  },
  {
   "cell_type": "code",
   "execution_count": 29,
   "id": "97be9e52",
   "metadata": {},
   "outputs": [
    {
     "name": "stdout",
     "output_type": "stream",
     "text": [
      "<class 'int'>\n"
     ]
    }
   ],
   "source": [
    "T1 = (1) \n",
    "print(type(T1))"
   ]
  },
  {
   "cell_type": "code",
   "execution_count": null,
   "id": "0eb9ef0b",
   "metadata": {},
   "outputs": [],
   "source": []
  },
  {
   "cell_type": "code",
   "execution_count": null,
   "id": "cf8b77dc",
   "metadata": {},
   "outputs": [],
   "source": []
  },
  {
   "cell_type": "code",
   "execution_count": null,
   "id": "a4c23519",
   "metadata": {},
   "outputs": [],
   "source": []
  },
  {
   "cell_type": "markdown",
   "id": "89846073",
   "metadata": {},
   "source": [
    "#### Quiz 4\n",
    "```py\n",
    "t=tuple(range(1, 10, 2))\n",
    "print(t)\n",
    "```"
   ]
  },
  {
   "cell_type": "code",
   "execution_count": 32,
   "id": "b14dff5c",
   "metadata": {},
   "outputs": [
    {
     "name": "stdout",
     "output_type": "stream",
     "text": [
      "(1, 3, 5, 7, 9)\n"
     ]
    }
   ],
   "source": [
    "t=tuple(range(1, 10, 2))\n",
    "print(t)"
   ]
  },
  {
   "cell_type": "code",
   "execution_count": null,
   "id": "d1e1e0e8",
   "metadata": {},
   "outputs": [],
   "source": [
    "start = 1\n",
    "end = 10 (excluded)\n",
    "step = 2\n",
    "\n",
    "1, 3, 5, 7, 9"
   ]
  },
  {
   "cell_type": "code",
   "execution_count": null,
   "id": "9185bccf",
   "metadata": {},
   "outputs": [],
   "source": []
  },
  {
   "cell_type": "code",
   "execution_count": null,
   "id": "63fa50e3",
   "metadata": {},
   "outputs": [],
   "source": []
  },
  {
   "cell_type": "code",
   "execution_count": null,
   "id": "46b3dea1",
   "metadata": {},
   "outputs": [],
   "source": []
  },
  {
   "cell_type": "markdown",
   "id": "906c1ee7",
   "metadata": {},
   "source": [
    "#### Quiz 5\n",
    "What is the result of the following expression?\n",
    "\n",
    "```py\n",
    "tuple('hello world')\n",
    "```"
   ]
  },
  {
   "cell_type": "code",
   "execution_count": 33,
   "id": "6969bfe7",
   "metadata": {},
   "outputs": [
    {
     "data": {
      "text/plain": [
       "('h', 'e', 'l', 'l', 'o', ' ', 'w', 'o', 'r', 'l', 'd')"
      ]
     },
     "execution_count": 33,
     "metadata": {},
     "output_type": "execute_result"
    }
   ],
   "source": [
    "tuple('hello world')"
   ]
  },
  {
   "cell_type": "code",
   "execution_count": null,
   "id": "c3c62724",
   "metadata": {},
   "outputs": [],
   "source": []
  },
  {
   "cell_type": "code",
   "execution_count": null,
   "id": "84166e54",
   "metadata": {},
   "outputs": [],
   "source": []
  },
  {
   "cell_type": "markdown",
   "id": "772346da",
   "metadata": {},
   "source": [
    "#### Quiz 6\n",
    "```py\n",
    "t = (3, 4, 6, 7, 3)\n",
    "print(t[::2])\n",
    "```"
   ]
  },
  {
   "cell_type": "code",
   "execution_count": 35,
   "id": "37bdf096",
   "metadata": {},
   "outputs": [
    {
     "name": "stdout",
     "output_type": "stream",
     "text": [
      "(3, 6, 3)\n"
     ]
    }
   ],
   "source": [
    "t = (3, 4, 6, 7, 3)\n",
    "print(t[::2])"
   ]
  },
  {
   "cell_type": "code",
   "execution_count": null,
   "id": "a0993383",
   "metadata": {},
   "outputs": [],
   "source": []
  },
  {
   "cell_type": "code",
   "execution_count": null,
   "id": "78006142",
   "metadata": {},
   "outputs": [],
   "source": []
  },
  {
   "cell_type": "code",
   "execution_count": null,
   "id": "c56027f9",
   "metadata": {},
   "outputs": [],
   "source": []
  },
  {
   "cell_type": "code",
   "execution_count": null,
   "id": "45009dd3",
   "metadata": {},
   "outputs": [],
   "source": []
  },
  {
   "cell_type": "markdown",
   "id": "8df16bac",
   "metadata": {},
   "source": [
    "## Bonus Reading Material for Tuples\n",
    "- Data Structures in Python - https://www.scaler.com/topics/data-structures-in-python/\n",
    "- Tuples in Python - https://www.scaler.com/topics/python/tuples-in-python/\n",
    "- What is the Difference Between List and Tuple in Python? - https://www.scaler.com/topics/difference-between-list-and-tuple-in-python/\n",
    "- Convert List to Tuple in Python - https://www.scaler.com/topics/convert-list-to-tuple-python/\n",
    "- WtfPython: Mutating the immutable! - https://github.com/satwikkansal/wtfpython#-mutating-the-immutable\n",
    "- WtfPython: Needles in a Haystack - https://github.com/satwikkansal/wtfpython#-needles-in-a-haystack-"
   ]
  },
  {
   "cell_type": "code",
   "execution_count": null,
   "id": "3060d8aa",
   "metadata": {},
   "outputs": [],
   "source": []
  },
  {
   "cell_type": "code",
   "execution_count": null,
   "id": "8c900116",
   "metadata": {},
   "outputs": [],
   "source": [
    "# Break till 10:05 PM"
   ]
  },
  {
   "cell_type": "code",
   "execution_count": null,
   "id": "05f14021",
   "metadata": {},
   "outputs": [],
   "source": []
  },
  {
   "cell_type": "markdown",
   "id": "37e3eeb6",
   "metadata": {},
   "source": [
    "# Sets\n",
    "![](https://scaler.com/topics/images/set-in-python.webp)"
   ]
  },
  {
   "cell_type": "code",
   "execution_count": 38,
   "id": "d2d3f53c",
   "metadata": {},
   "outputs": [],
   "source": [
    "s = {1, 9, 'hello', 0.5, 4, 2, -50, -1000}"
   ]
  },
  {
   "cell_type": "code",
   "execution_count": 39,
   "id": "aa3376b9",
   "metadata": {},
   "outputs": [
    {
     "name": "stdout",
     "output_type": "stream",
     "text": [
      "{0.5, 1, 2, 4, 9, -50, -1000, 'hello'} <class 'set'>\n"
     ]
    }
   ],
   "source": [
    "print(s, type(s))"
   ]
  },
  {
   "cell_type": "markdown",
   "id": "4a023162",
   "metadata": {},
   "source": [
    "- Curly brackets\n",
    "- Unordered data structure\n",
    "- Unique elements"
   ]
  },
  {
   "cell_type": "code",
   "execution_count": 40,
   "id": "3c8344c1",
   "metadata": {},
   "outputs": [
    {
     "name": "stdout",
     "output_type": "stream",
     "text": [
      "{40, 10, 20, 30}\n"
     ]
    }
   ],
   "source": [
    "s = {10, 20, 30, 10, 10, 10, 20, 20, 30, 40}\n",
    "print(s)"
   ]
  },
  {
   "cell_type": "code",
   "execution_count": null,
   "id": "8ef46708",
   "metadata": {},
   "outputs": [],
   "source": []
  },
  {
   "cell_type": "markdown",
   "id": "1d8bfd5c",
   "metadata": {},
   "source": [
    "Internally, set uses \"hashing\".\n",
    "Hashing is covered in intermediate & advanced."
   ]
  },
  {
   "cell_type": "code",
   "execution_count": null,
   "id": "e99991e4",
   "metadata": {},
   "outputs": [],
   "source": []
  },
  {
   "cell_type": "code",
   "execution_count": 44,
   "id": "000cbc97",
   "metadata": {},
   "outputs": [
    {
     "name": "stdout",
     "output_type": "stream",
     "text": [
      "{} <class 'dict'>\n"
     ]
    }
   ],
   "source": [
    "# Create an Empty set\n",
    "s = {}\n",
    "print(s, type(s))\n",
    "# This creates a dictionary"
   ]
  },
  {
   "cell_type": "code",
   "execution_count": 46,
   "id": "d08091a4",
   "metadata": {},
   "outputs": [
    {
     "ename": "SyntaxError",
     "evalue": "invalid syntax (3869395253.py, line 2)",
     "output_type": "error",
     "traceback": [
      "\u001b[0;36m  File \u001b[0;32m\"/var/folders/jn/1bsrct314hv5xmfm7vrcdrzc0000gn/T/ipykernel_3151/3869395253.py\"\u001b[0;36m, line \u001b[0;32m2\u001b[0m\n\u001b[0;31m    s = {,}\u001b[0m\n\u001b[0m         ^\u001b[0m\n\u001b[0;31mSyntaxError\u001b[0m\u001b[0;31m:\u001b[0m invalid syntax\n"
     ]
    }
   ],
   "source": [
    "# Create an Empty set\n",
    "s = {,}\n",
    "print(s, type(s))\n",
    "# This does not work"
   ]
  },
  {
   "cell_type": "code",
   "execution_count": 45,
   "id": "3f35dafa",
   "metadata": {},
   "outputs": [
    {
     "name": "stdout",
     "output_type": "stream",
     "text": [
      "set() <class 'set'>\n"
     ]
    }
   ],
   "source": [
    "s = set()\n",
    "print(s, type(s))"
   ]
  },
  {
   "cell_type": "code",
   "execution_count": null,
   "id": "85f10a97",
   "metadata": {},
   "outputs": [],
   "source": []
  },
  {
   "cell_type": "code",
   "execution_count": null,
   "id": "05a3ddc9",
   "metadata": {},
   "outputs": [],
   "source": []
  },
  {
   "cell_type": "markdown",
   "id": "b7201208",
   "metadata": {},
   "source": [
    "Important methods\n",
    "- add()\n",
    "- remove()\n",
    "- in"
   ]
  },
  {
   "cell_type": "code",
   "execution_count": 47,
   "id": "9ce6a359",
   "metadata": {},
   "outputs": [
    {
     "name": "stdout",
     "output_type": "stream",
     "text": [
      "{10, 20, 30, 60}\n"
     ]
    }
   ],
   "source": [
    "s = {10, 20, 30}\n",
    "s.add(60)\n",
    "print(s)"
   ]
  },
  {
   "cell_type": "code",
   "execution_count": 48,
   "id": "c240155f",
   "metadata": {},
   "outputs": [
    {
     "name": "stdout",
     "output_type": "stream",
     "text": [
      "{10, 20, 30, 60}\n"
     ]
    }
   ],
   "source": [
    "s.add(10)\n",
    "print(s)"
   ]
  },
  {
   "cell_type": "code",
   "execution_count": null,
   "id": "671ed03d",
   "metadata": {},
   "outputs": [],
   "source": []
  },
  {
   "cell_type": "code",
   "execution_count": 49,
   "id": "e668f70d",
   "metadata": {},
   "outputs": [
    {
     "name": "stdout",
     "output_type": "stream",
     "text": [
      "{20, 30, 60}\n"
     ]
    }
   ],
   "source": [
    "s = {10, 20, 30, 60}\n",
    "s.remove(10)\n",
    "print(s)"
   ]
  },
  {
   "cell_type": "code",
   "execution_count": 50,
   "id": "046b392b",
   "metadata": {},
   "outputs": [
    {
     "ename": "KeyError",
     "evalue": "100",
     "output_type": "error",
     "traceback": [
      "\u001b[0;31m---------------------------------------------------------------------------\u001b[0m",
      "\u001b[0;31mKeyError\u001b[0m                                  Traceback (most recent call last)",
      "\u001b[0;32m/var/folders/jn/1bsrct314hv5xmfm7vrcdrzc0000gn/T/ipykernel_3151/2730321157.py\u001b[0m in \u001b[0;36m<module>\u001b[0;34m\u001b[0m\n\u001b[1;32m      1\u001b[0m \u001b[0ms\u001b[0m \u001b[0;34m=\u001b[0m \u001b[0;34m{\u001b[0m\u001b[0;36m10\u001b[0m\u001b[0;34m,\u001b[0m \u001b[0;36m20\u001b[0m\u001b[0;34m,\u001b[0m \u001b[0;36m30\u001b[0m\u001b[0;34m,\u001b[0m \u001b[0;36m60\u001b[0m\u001b[0;34m}\u001b[0m\u001b[0;34m\u001b[0m\u001b[0;34m\u001b[0m\u001b[0m\n\u001b[0;32m----> 2\u001b[0;31m \u001b[0ms\u001b[0m\u001b[0;34m.\u001b[0m\u001b[0mremove\u001b[0m\u001b[0;34m(\u001b[0m\u001b[0;36m100\u001b[0m\u001b[0;34m)\u001b[0m\u001b[0;34m\u001b[0m\u001b[0;34m\u001b[0m\u001b[0m\n\u001b[0m\u001b[1;32m      3\u001b[0m \u001b[0mprint\u001b[0m\u001b[0;34m(\u001b[0m\u001b[0ms\u001b[0m\u001b[0;34m)\u001b[0m\u001b[0;34m\u001b[0m\u001b[0;34m\u001b[0m\u001b[0m\n",
      "\u001b[0;31mKeyError\u001b[0m: 100"
     ]
    }
   ],
   "source": [
    "s = {10, 20, 30, 60}\n",
    "s.remove(100)\n",
    "print(s)"
   ]
  },
  {
   "cell_type": "code",
   "execution_count": 51,
   "id": "2093158a",
   "metadata": {},
   "outputs": [
    {
     "ename": "TypeError",
     "evalue": "set.remove() takes exactly one argument (2 given)",
     "output_type": "error",
     "traceback": [
      "\u001b[0;31m---------------------------------------------------------------------------\u001b[0m",
      "\u001b[0;31mTypeError\u001b[0m                                 Traceback (most recent call last)",
      "\u001b[0;32m/var/folders/jn/1bsrct314hv5xmfm7vrcdrzc0000gn/T/ipykernel_3151/3418148486.py\u001b[0m in \u001b[0;36m<module>\u001b[0;34m\u001b[0m\n\u001b[1;32m      1\u001b[0m \u001b[0ms\u001b[0m \u001b[0;34m=\u001b[0m \u001b[0;34m{\u001b[0m\u001b[0;36m10\u001b[0m\u001b[0;34m,\u001b[0m \u001b[0;36m20\u001b[0m\u001b[0;34m,\u001b[0m \u001b[0;36m30\u001b[0m\u001b[0;34m,\u001b[0m \u001b[0;36m60\u001b[0m\u001b[0;34m}\u001b[0m\u001b[0;34m\u001b[0m\u001b[0;34m\u001b[0m\u001b[0m\n\u001b[0;32m----> 2\u001b[0;31m \u001b[0ms\u001b[0m\u001b[0;34m.\u001b[0m\u001b[0mremove\u001b[0m\u001b[0;34m(\u001b[0m\u001b[0;36m20\u001b[0m\u001b[0;34m,\u001b[0m \u001b[0;36m30\u001b[0m\u001b[0;34m)\u001b[0m\u001b[0;34m\u001b[0m\u001b[0;34m\u001b[0m\u001b[0m\n\u001b[0m\u001b[1;32m      3\u001b[0m \u001b[0mprint\u001b[0m\u001b[0;34m(\u001b[0m\u001b[0ms\u001b[0m\u001b[0;34m)\u001b[0m\u001b[0;34m\u001b[0m\u001b[0;34m\u001b[0m\u001b[0m\n",
      "\u001b[0;31mTypeError\u001b[0m: set.remove() takes exactly one argument (2 given)"
     ]
    }
   ],
   "source": [
    "s = {10, 20, 30, 60}\n",
    "s.remove(20, 30)\n",
    "print(s)"
   ]
  },
  {
   "cell_type": "code",
   "execution_count": null,
   "id": "263fea19",
   "metadata": {},
   "outputs": [],
   "source": []
  },
  {
   "cell_type": "code",
   "execution_count": 52,
   "id": "8eaf0a8b",
   "metadata": {},
   "outputs": [
    {
     "name": "stdout",
     "output_type": "stream",
     "text": [
      "True\n"
     ]
    }
   ],
   "source": [
    "# Check if a value is present in your set or not\n",
    "s = {10, 20, 30, 40}\n",
    "print(10 in s)"
   ]
  },
  {
   "cell_type": "code",
   "execution_count": 53,
   "id": "e5b90365",
   "metadata": {},
   "outputs": [
    {
     "name": "stdout",
     "output_type": "stream",
     "text": [
      "False\n"
     ]
    }
   ],
   "source": [
    "print(100 in s)"
   ]
  },
  {
   "cell_type": "code",
   "execution_count": 55,
   "id": "bcc320ab",
   "metadata": {},
   "outputs": [
    {
     "name": "stdout",
     "output_type": "stream",
     "text": [
      "Value is not present\n"
     ]
    }
   ],
   "source": [
    "x = 25\n",
    "if x in s:\n",
    "    print(\"Value is present in the set\")\n",
    "else:\n",
    "    print(\"Value is not present\")"
   ]
  },
  {
   "cell_type": "code",
   "execution_count": null,
   "id": "6babc1d0",
   "metadata": {},
   "outputs": [],
   "source": []
  },
  {
   "cell_type": "code",
   "execution_count": null,
   "id": "bc27fb4a",
   "metadata": {},
   "outputs": [],
   "source": []
  },
  {
   "cell_type": "markdown",
   "id": "6ac524c0",
   "metadata": {},
   "source": [
    "### TV Series recommendation\n",
    "You ask 2 friends for a TV Series recommendation"
   ]
  },
  {
   "cell_type": "code",
   "execution_count": 57,
   "id": "f3476a56",
   "metadata": {},
   "outputs": [],
   "source": [
    "A = {\n",
    "    \"Breaking Bad\",\n",
    "    \"Better Call Saul\",\n",
    "    \"Dark\"\n",
    "}\n",
    "\n",
    "B = {\n",
    "    \"Sherlock\",\n",
    "    \"Dark\",\n",
    "    \"The Office\"\n",
    "}"
   ]
  },
  {
   "cell_type": "code",
   "execution_count": null,
   "id": "b1a4366d",
   "metadata": {},
   "outputs": [],
   "source": []
  },
  {
   "cell_type": "code",
   "execution_count": 62,
   "id": "fad39ff1",
   "metadata": {},
   "outputs": [
    {
     "name": "stdout",
     "output_type": "stream",
     "text": [
      "{'Dark'}\n"
     ]
    }
   ],
   "source": [
    "# Intersection\n",
    "C = A & B\n",
    "# C = A.intersection(B)\n",
    "# C = B.intersection(A)\n",
    "print(C)"
   ]
  },
  {
   "cell_type": "code",
   "execution_count": null,
   "id": "290f33f7",
   "metadata": {},
   "outputs": [],
   "source": []
  },
  {
   "cell_type": "code",
   "execution_count": 65,
   "id": "ed3901fb",
   "metadata": {},
   "outputs": [
    {
     "name": "stdout",
     "output_type": "stream",
     "text": [
      "{'The Office', 'Breaking Bad', 'Dark', 'Sherlock', 'Better Call Saul'}\n"
     ]
    }
   ],
   "source": [
    "# Union\n",
    "D = A | B\n",
    "# D = A.union(B)\n",
    "# D = B.union(A)\n",
    "print(D)"
   ]
  },
  {
   "cell_type": "code",
   "execution_count": null,
   "id": "0fd7c85d",
   "metadata": {},
   "outputs": [],
   "source": []
  },
  {
   "cell_type": "code",
   "execution_count": 66,
   "id": "b0be3b67",
   "metadata": {},
   "outputs": [
    {
     "name": "stdout",
     "output_type": "stream",
     "text": [
      "{'Better Call Saul', 'Breaking Bad'}\n"
     ]
    }
   ],
   "source": [
    "# Difference\n",
    "E = A - B\n",
    "print(E)"
   ]
  },
  {
   "cell_type": "code",
   "execution_count": 67,
   "id": "b3c5fb54",
   "metadata": {},
   "outputs": [
    {
     "name": "stdout",
     "output_type": "stream",
     "text": [
      "{'The Office', 'Sherlock'}\n"
     ]
    }
   ],
   "source": [
    "F = B - A\n",
    "print(F)"
   ]
  },
  {
   "cell_type": "code",
   "execution_count": null,
   "id": "71096f82",
   "metadata": {},
   "outputs": [],
   "source": []
  },
  {
   "cell_type": "code",
   "execution_count": 68,
   "id": "f2a890fa",
   "metadata": {},
   "outputs": [
    {
     "name": "stdout",
     "output_type": "stream",
     "text": [
      "{'The Office', 'Sherlock', 'Better Call Saul', 'Breaking Bad'}\n"
     ]
    }
   ],
   "source": [
    "# Symmetric Difference\n",
    "G = A ^ B\n",
    "print(G)"
   ]
  },
  {
   "cell_type": "code",
   "execution_count": null,
   "id": "1c495492",
   "metadata": {},
   "outputs": [],
   "source": []
  },
  {
   "cell_type": "code",
   "execution_count": null,
   "id": "8b013cee",
   "metadata": {},
   "outputs": [],
   "source": []
  },
  {
   "cell_type": "code",
   "execution_count": null,
   "id": "c127c733",
   "metadata": {},
   "outputs": [],
   "source": []
  },
  {
   "cell_type": "code",
   "execution_count": null,
   "id": "5ff08a65",
   "metadata": {},
   "outputs": [],
   "source": []
  },
  {
   "cell_type": "code",
   "execution_count": null,
   "id": "4a7b0d22",
   "metadata": {},
   "outputs": [],
   "source": []
  },
  {
   "cell_type": "markdown",
   "id": "b22cfd81",
   "metadata": {},
   "source": [
    "#### Quiz 7\n",
    "What is the output of the following?\n",
    "```py\n",
    "a = {1,2,3}\n",
    "b = {3,4,5}\n",
    "print(a-b)\n",
    "print(a.union(b))\n",
    "print(a.intersection(b))\n",
    "```"
   ]
  },
  {
   "cell_type": "code",
   "execution_count": 69,
   "id": "74c08a86",
   "metadata": {},
   "outputs": [
    {
     "name": "stdout",
     "output_type": "stream",
     "text": [
      "{1, 2}\n",
      "{1, 2, 3, 4, 5}\n",
      "{3}\n"
     ]
    }
   ],
   "source": [
    "a = {1,2,3}\n",
    "b = {3,4,5}\n",
    "print(a-b)\n",
    "print(a.union(b))\n",
    "print(a.intersection(b))"
   ]
  },
  {
   "cell_type": "code",
   "execution_count": null,
   "id": "cb047428",
   "metadata": {},
   "outputs": [],
   "source": []
  },
  {
   "cell_type": "markdown",
   "id": "d3162f02",
   "metadata": {},
   "source": [
    "#### Quiz 8\n",
    "What is the value of x in the code snippet below?\n",
    "```py\n",
    "set1 = {1, 2, 3, 4, 5, 6}\n",
    "set2 = {2, 4, 5, 6, 7}\n",
    "x = set1 | set2\n",
    "```"
   ]
  },
  {
   "cell_type": "code",
   "execution_count": 71,
   "id": "75f87099",
   "metadata": {},
   "outputs": [
    {
     "name": "stdout",
     "output_type": "stream",
     "text": [
      "{1, 2, 3, 4, 5, 6, 7}\n"
     ]
    }
   ],
   "source": [
    "set1 = {1, 2, 3, 4, 5, 6}\n",
    "set2 = {2, 4, 5, 6, 7}\n",
    "x = set1 | set2\n",
    "print(x)"
   ]
  },
  {
   "cell_type": "code",
   "execution_count": null,
   "id": "acf61360",
   "metadata": {},
   "outputs": [],
   "source": []
  },
  {
   "cell_type": "markdown",
   "id": "ba66784b",
   "metadata": {},
   "source": [
    "### Count unique\n",
    "Given an array, count unique elements in it."
   ]
  },
  {
   "cell_type": "code",
   "execution_count": null,
   "id": "d6c1eb90",
   "metadata": {},
   "outputs": [],
   "source": []
  },
  {
   "cell_type": "code",
   "execution_count": 73,
   "id": "1735273b",
   "metadata": {},
   "outputs": [],
   "source": [
    "def countUnique(arr):\n",
    "    s = set(arr)\n",
    "    return len(s)"
   ]
  },
  {
   "cell_type": "code",
   "execution_count": 74,
   "id": "7b843da1",
   "metadata": {},
   "outputs": [],
   "source": [
    "def countUnique(arr):\n",
    "    return len(set(arr))"
   ]
  },
  {
   "cell_type": "code",
   "execution_count": 72,
   "id": "ada651bf",
   "metadata": {},
   "outputs": [
    {
     "name": "stdout",
     "output_type": "stream",
     "text": [
      "{40, 10, 20, 30}\n"
     ]
    }
   ],
   "source": [
    "print(set([10, 20, 30, 40, 30, 20, 10, 20, 20]))"
   ]
  },
  {
   "cell_type": "code",
   "execution_count": null,
   "id": "120f4207",
   "metadata": {},
   "outputs": [],
   "source": []
  },
  {
   "cell_type": "code",
   "execution_count": 76,
   "id": "bef43a87",
   "metadata": {},
   "outputs": [],
   "source": [
    "arr1 = [10, 20, 30, 40, 30, 20, 10, 20, 20]\n",
    "arr2 = [50, 60, 50]"
   ]
  },
  {
   "cell_type": "code",
   "execution_count": 77,
   "id": "861cafd6",
   "metadata": {},
   "outputs": [
    {
     "data": {
      "text/plain": [
       "4"
      ]
     },
     "execution_count": 77,
     "metadata": {},
     "output_type": "execute_result"
    }
   ],
   "source": [
    "countUnique(arr1)"
   ]
  },
  {
   "cell_type": "code",
   "execution_count": 78,
   "id": "5a0222e4",
   "metadata": {},
   "outputs": [
    {
     "data": {
      "text/plain": [
       "2"
      ]
     },
     "execution_count": 78,
     "metadata": {},
     "output_type": "execute_result"
    }
   ],
   "source": [
    "countUnique(arr2)"
   ]
  },
  {
   "cell_type": "code",
   "execution_count": null,
   "id": "e9eaf976",
   "metadata": {},
   "outputs": [],
   "source": []
  },
  {
   "cell_type": "code",
   "execution_count": null,
   "id": "f6adf721",
   "metadata": {},
   "outputs": [],
   "source": []
  },
  {
   "cell_type": "markdown",
   "id": "abb275e0",
   "metadata": {},
   "source": [
    "## Bonus Reading Material for Sets\n",
    "- set() in Python - https://www.scaler.com/topics/set-in-python/\n",
    "- Sets in Python - https://www.scaler.com/topics/python/sets-in-python/\n",
    "- Set to List Python - https://www.scaler.com/topics/set-to-list-python/\n",
    "- Convert List to Set Python - https://www.scaler.com/topics/convert-list-to-set-python/\n",
    "- frozenset() in Python - https://www.scaler.com/topics/frozenset-in-python/\n",
    "- Python Set difference() - https://www.scaler.com/topics/python-set-difference/\n",
    "- union() in Python - https://www.scaler.com/topics/union-in-python/\n",
    "- intersection() in Python - https://www.scaler.com/topics/intersection-in-python/\n",
    "- symmetric_difference() Python - https://www.scaler.com/topics/symmetric-difference-python/"
   ]
  },
  {
   "cell_type": "code",
   "execution_count": null,
   "id": "f8d337e6",
   "metadata": {},
   "outputs": [],
   "source": []
  },
  {
   "cell_type": "code",
   "execution_count": null,
   "id": "b0763a3f",
   "metadata": {},
   "outputs": [],
   "source": []
  },
  {
   "cell_type": "code",
   "execution_count": null,
   "id": "a52fc212",
   "metadata": {},
   "outputs": [],
   "source": []
  },
  {
   "cell_type": "markdown",
   "id": "0eb37159",
   "metadata": {},
   "source": [
    "# Doubts"
   ]
  },
  {
   "cell_type": "code",
   "execution_count": null,
   "id": "643f83d3",
   "metadata": {},
   "outputs": [],
   "source": [
    "# Wednesday - Dictionaries"
   ]
  },
  {
   "cell_type": "code",
   "execution_count": 79,
   "id": "4d91abdc",
   "metadata": {},
   "outputs": [],
   "source": [
    "s = {10, 20, 30}\n",
    "s.add(40)"
   ]
  },
  {
   "cell_type": "code",
   "execution_count": 80,
   "id": "158b0945",
   "metadata": {},
   "outputs": [
    {
     "data": {
      "text/plain": [
       "{10, 20, 30, 40}"
      ]
     },
     "execution_count": 80,
     "metadata": {},
     "output_type": "execute_result"
    }
   ],
   "source": [
    "s"
   ]
  },
  {
   "cell_type": "code",
   "execution_count": null,
   "id": "a7289851",
   "metadata": {},
   "outputs": [],
   "source": []
  },
  {
   "cell_type": "code",
   "execution_count": 81,
   "id": "6e747490",
   "metadata": {},
   "outputs": [
    {
     "name": "stdout",
     "output_type": "stream",
     "text": [
      "[10, 20, 30, 40, 50, -10, -20, -1000]\n"
     ]
    }
   ],
   "source": [
    "l = [10, 20, 30, 40, 50, -10, -20]\n",
    "l.append(-1000)\n",
    "print(l)"
   ]
  },
  {
   "cell_type": "code",
   "execution_count": 82,
   "id": "e9860da3",
   "metadata": {},
   "outputs": [
    {
     "name": "stdout",
     "output_type": "stream",
     "text": [
      "{50, 20, -10, 40, -1000, 10, -20, 30}\n"
     ]
    }
   ],
   "source": [
    "s = {10, 20, 30, 40, 50, -10, -20}\n",
    "s.add(-1000)\n",
    "print(s)"
   ]
  },
  {
   "cell_type": "code",
   "execution_count": null,
   "id": "88516197",
   "metadata": {},
   "outputs": [],
   "source": [
    "# DSML Common Core - After Intermediate \n",
    "# Numpy, torch, pandas etc."
   ]
  },
  {
   "cell_type": "code",
   "execution_count": null,
   "id": "86d7021f",
   "metadata": {},
   "outputs": [],
   "source": []
  },
  {
   "cell_type": "code",
   "execution_count": 83,
   "id": "e5f2eeba",
   "metadata": {},
   "outputs": [
    {
     "name": "stdout",
     "output_type": "stream",
     "text": [
      "{40, 10, 20, 30}\n"
     ]
    }
   ],
   "source": [
    "s = [10,10,20,30,20,40]\n",
    "x = set(s)\n",
    "\n",
    "print(x)"
   ]
  },
  {
   "cell_type": "code",
   "execution_count": null,
   "id": "5e17c7b1",
   "metadata": {},
   "outputs": [],
   "source": [
    "# Sets are unordered"
   ]
  },
  {
   "cell_type": "code",
   "execution_count": null,
   "id": "39360e18",
   "metadata": {},
   "outputs": [],
   "source": []
  },
  {
   "cell_type": "code",
   "execution_count": null,
   "id": "def78f23",
   "metadata": {},
   "outputs": [],
   "source": []
  },
  {
   "cell_type": "code",
   "execution_count": null,
   "id": "42e7ccb4",
   "metadata": {},
   "outputs": [],
   "source": [
    "# Inside sets you can only have immutable data structures\n",
    "# int, float, str, bool, NoneType, tuple"
   ]
  },
  {
   "cell_type": "code",
   "execution_count": null,
   "id": "d30ba7fd",
   "metadata": {},
   "outputs": [],
   "source": [
    "# Mutable - Anything that can be modified\n",
    "# list, set"
   ]
  },
  {
   "cell_type": "code",
   "execution_count": null,
   "id": "b2b9793b",
   "metadata": {},
   "outputs": [],
   "source": [
    "# You cannot put a mutable value inside a set\n",
    "\n",
    "# Why ? - Hashing (Advanced batch)"
   ]
  },
  {
   "cell_type": "code",
   "execution_count": null,
   "id": "b0413ee3",
   "metadata": {},
   "outputs": [],
   "source": []
  }
 ],
 "metadata": {
  "kernelspec": {
   "display_name": "Python 3 (ipykernel)",
   "language": "python",
   "name": "python3"
  },
  "language_info": {
   "codemirror_mode": {
    "name": "ipython",
    "version": 3
   },
   "file_extension": ".py",
   "mimetype": "text/x-python",
   "name": "python",
   "nbconvert_exporter": "python",
   "pygments_lexer": "ipython3",
   "version": "3.9.12"
  }
 },
 "nbformat": 4,
 "nbformat_minor": 5
}
