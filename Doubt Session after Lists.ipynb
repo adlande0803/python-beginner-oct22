{
  "nbformat": 4,
  "nbformat_minor": 0,
  "metadata": {
    "colab": {
      "provenance": []
    },
    "kernelspec": {
      "name": "python3",
      "display_name": "Python 3"
    },
    "language_info": {
      "name": "python"
    }
  },
  "cells": [
    {
      "cell_type": "code",
      "execution_count": null,
      "metadata": {
        "id": "oU-q2Svrv4ey"
      },
      "outputs": [],
      "source": [
        "def check(a):\n",
        "\n",
        "  n = len(a)\n",
        "  for i in range(0,n-1):\n",
        "    if a[i] == a[i+1]:\n",
        "      return True\n",
        "    \n",
        "  return False\n"
      ]
    },
    {
      "cell_type": "code",
      "source": [
        "ans = check([1,2,3,4])"
      ],
      "metadata": {
        "id": "fTbe6dnM1ncB"
      },
      "execution_count": null,
      "outputs": []
    },
    {
      "cell_type": "code",
      "source": [
        "print(ans)"
      ],
      "metadata": {
        "colab": {
          "base_uri": "https://localhost:8080/"
        },
        "id": "3b3PKaeJ1p0Y",
        "outputId": "d08dc9ec-d582-4fe9-b897-9eca587f389d"
      },
      "execution_count": null,
      "outputs": [
        {
          "output_type": "stream",
          "name": "stdout",
          "text": [
            "False\n"
          ]
        }
      ]
    },
    {
      "cell_type": "markdown",
      "source": [
        "**Inverse of the List**"
      ],
      "metadata": {
        "id": "0l8VuDnZ52zN"
      }
    },
    {
      "cell_type": "code",
      "source": [
        "def inverse_list(a):\n",
        "\n",
        "  n = len(a)\n",
        "  #-1 is a placeholder\n",
        "  b = [-1]*n\n",
        "\n",
        "  for i in range(n):\n",
        "    b[a[i]] = i\n",
        "\n",
        "  print(b)"
      ],
      "metadata": {
        "id": "-MLYNdYu1tn-"
      },
      "execution_count": null,
      "outputs": []
    },
    {
      "cell_type": "code",
      "source": [
        "a = [3,1,0,2]\n",
        "inverse_list(a)"
      ],
      "metadata": {
        "colab": {
          "base_uri": "https://localhost:8080/"
        },
        "id": "iBv18Bmp6IVZ",
        "outputId": "5088325e-53e8-4e15-ca74-ad2f67cdea23"
      },
      "execution_count": null,
      "outputs": [
        {
          "output_type": "stream",
          "name": "stdout",
          "text": [
            "[2, 1, 3, 0]\n"
          ]
        }
      ]
    },
    {
      "cell_type": "markdown",
      "source": [
        "**Shopping List**"
      ],
      "metadata": {
        "id": "aP_WBbmJ70UR"
      }
    },
    {
      "cell_type": "code",
      "source": [
        "shopping_list = []\n",
        "\n",
        "while True:\n",
        "  item = input()\n",
        "\n",
        "  if item == \"end\":\n",
        "    break\n",
        "  \n",
        "  shopping_list.append(item)"
      ],
      "metadata": {
        "colab": {
          "base_uri": "https://localhost:8080/"
        },
        "id": "7Ck_U-we70AC",
        "outputId": "ca80370a-81b1-48ff-d11a-9ca80f5270b7"
      },
      "execution_count": null,
      "outputs": [
        {
          "name": "stdout",
          "output_type": "stream",
          "text": [
            "fruits\n",
            "notebook\n",
            "aj\n",
            "end\n"
          ]
        }
      ]
    },
    {
      "cell_type": "code",
      "source": [
        "print(shopping_list)"
      ],
      "metadata": {
        "colab": {
          "base_uri": "https://localhost:8080/"
        },
        "id": "GHk9LPpS6MO7",
        "outputId": "3d6bb792-3af7-467d-b5a3-122fb5ceddc7"
      },
      "execution_count": null,
      "outputs": [
        {
          "output_type": "stream",
          "name": "stdout",
          "text": [
            "['fruits', 'notebook', 'aj']\n"
          ]
        }
      ]
    },
    {
      "cell_type": "code",
      "source": [
        "a = [1,2,3,4]\n",
        "\n",
        "a[0] = -1"
      ],
      "metadata": {
        "id": "Y680SbZ48oZQ"
      },
      "execution_count": null,
      "outputs": []
    },
    {
      "cell_type": "markdown",
      "source": [
        "**Ceil and Floor**"
      ],
      "metadata": {
        "id": "5xPvxnxGI3xj"
      }
    },
    {
      "cell_type": "code",
      "source": [
        "a = input()\n",
        "\n",
        "list_a = a.split(\" \")\n",
        "\n",
        "b = []\n",
        "\n",
        "for elem in list_a:\n",
        "  b.append(int(elem))\n",
        "\n",
        "n = a[0]"
      ],
      "metadata": {
        "colab": {
          "base_uri": "https://localhost:8080/"
        },
        "id": "Nmplg9GIAA1X",
        "outputId": "e856d1e6-d843-43e6-c9c8-5d95f9c8dfa5"
      },
      "execution_count": null,
      "outputs": [
        {
          "name": "stdout",
          "output_type": "stream",
          "text": [
            "3 1 2 3\n"
          ]
        }
      ]
    },
    {
      "cell_type": "code",
      "source": [
        "print(a)"
      ],
      "metadata": {
        "colab": {
          "base_uri": "https://localhost:8080/"
        },
        "id": "zuI9zumdG_IF",
        "outputId": "fb2c751d-5126-46b5-e259-315786f5f857"
      },
      "execution_count": null,
      "outputs": [
        {
          "output_type": "stream",
          "name": "stdout",
          "text": [
            "3 1 2 3\n"
          ]
        }
      ]
    },
    {
      "cell_type": "code",
      "source": [
        "print(list_a)"
      ],
      "metadata": {
        "colab": {
          "base_uri": "https://localhost:8080/"
        },
        "id": "V6K4kAlBHCcy",
        "outputId": "3ef6068d-653f-4869-fb5d-9ed0cc6ee265"
      },
      "execution_count": null,
      "outputs": [
        {
          "output_type": "stream",
          "name": "stdout",
          "text": [
            "['3', '1', '2', '3']\n"
          ]
        }
      ]
    },
    {
      "cell_type": "code",
      "source": [
        "print(b)"
      ],
      "metadata": {
        "colab": {
          "base_uri": "https://localhost:8080/"
        },
        "id": "Rx09BttGHEAR",
        "outputId": "9bf8e577-9e5a-4cd2-fdaa-385c5f7fcbea"
      },
      "execution_count": null,
      "outputs": [
        {
          "output_type": "stream",
          "name": "stdout",
          "text": [
            "[3, 1, 2, 3]\n"
          ]
        }
      ]
    },
    {
      "cell_type": "code",
      "source": [
        "n = b[0]\n",
        "\n",
        "list_b = b[1:]"
      ],
      "metadata": {
        "id": "zJh8xwjMHQo4"
      },
      "execution_count": null,
      "outputs": []
    },
    {
      "cell_type": "code",
      "source": [
        "print(n, list_b)"
      ],
      "metadata": {
        "colab": {
          "base_uri": "https://localhost:8080/"
        },
        "id": "q2XrUPe9HfvT",
        "outputId": "97730872-94d2-4966-fc0c-c4d45a4700a7"
      },
      "execution_count": null,
      "outputs": [
        {
          "output_type": "stream",
          "name": "stdout",
          "text": [
            "3 [1, 2, 3]\n"
          ]
        }
      ]
    },
    {
      "cell_type": "code",
      "source": [
        "\n",
        "list_b = [1,5,7,9,10]\n",
        "b = 8\n",
        "\n",
        "for elem in list_b:\n",
        "\n",
        "  if elem <= b:\n",
        "    floor = elem\n",
        "  if elem >= b:\n",
        "    ceil = elem\n",
        "    break\n",
        "\n",
        "print(floor, ceil)"
      ],
      "metadata": {
        "colab": {
          "base_uri": "https://localhost:8080/"
        },
        "id": "0HDI25KQHhlQ",
        "outputId": "7903e8dd-6c91-4043-e964-3f63ef9bddf6"
      },
      "execution_count": null,
      "outputs": [
        {
          "output_type": "stream",
          "name": "stdout",
          "text": [
            "7 9\n"
          ]
        }
      ]
    },
    {
      "cell_type": "code",
      "source": [
        "\n",
        "list_b = [1,5,7,8,9,10]\n",
        "b = 8\n",
        "\n",
        "for elem in list_b:\n",
        "\n",
        "  if elem <= b:\n",
        "    floor = elem\n",
        "  if elem >= b:\n",
        "    ceil = elem\n",
        "    break\n",
        "\n",
        "print(floor, ceil)"
      ],
      "metadata": {
        "colab": {
          "base_uri": "https://localhost:8080/"
        },
        "id": "x5PP7YbBIl1-",
        "outputId": "acbf8b3a-b3d9-4be1-f674-b862c6641bb4"
      },
      "execution_count": null,
      "outputs": [
        {
          "output_type": "stream",
          "name": "stdout",
          "text": [
            "8 8\n"
          ]
        }
      ]
    },
    {
      "cell_type": "markdown",
      "source": [
        "**Print in reverse**"
      ],
      "metadata": {
        "id": "ib85ZFUUIxWF"
      }
    },
    {
      "cell_type": "code",
      "source": [],
      "metadata": {
        "id": "GeFrrxgwIxAm"
      },
      "execution_count": null,
      "outputs": []
    },
    {
      "cell_type": "code",
      "source": [
        "a = input()\n",
        "list_a = a.split(\" \")\n",
        "b = []\n",
        "\n",
        "for elem in list_a:\n",
        "  b.append(int(elem))\n",
        "\n",
        "n = a[0]\n",
        "list_b = b[1:]"
      ],
      "metadata": {
        "colab": {
          "base_uri": "https://localhost:8080/"
        },
        "id": "_E-yxo5dIqc2",
        "outputId": "9c7791ec-7c2a-4a39-bff1-f3c1709a68b0"
      },
      "execution_count": null,
      "outputs": [
        {
          "name": "stdout",
          "output_type": "stream",
          "text": [
            "5 1 2 3 4 5\n"
          ]
        }
      ]
    },
    {
      "cell_type": "code",
      "source": [
        "print(n, list_b)"
      ],
      "metadata": {
        "colab": {
          "base_uri": "https://localhost:8080/"
        },
        "id": "5rWRqW74JUkZ",
        "outputId": "861b81c9-5949-483d-d99d-8e7b4657d061"
      },
      "execution_count": null,
      "outputs": [
        {
          "output_type": "stream",
          "name": "stdout",
          "text": [
            "5 [1, 2, 3, 4, 5]\n"
          ]
        }
      ]
    },
    {
      "cell_type": "code",
      "source": [
        "print(list_b[::-1])"
      ],
      "metadata": {
        "colab": {
          "base_uri": "https://localhost:8080/"
        },
        "id": "57fGiYblJhwx",
        "outputId": "af0ad21f-c277-4316-973b-a77039d8ff49"
      },
      "execution_count": null,
      "outputs": [
        {
          "output_type": "stream",
          "name": "stdout",
          "text": [
            "[5, 4, 3, 2, 1]\n"
          ]
        }
      ]
    },
    {
      "cell_type": "code",
      "source": [
        "def main():\n",
        "    # YOUR CODE GOES HERE\n",
        "    # Please take input and print output to standard input/output (stdin/stdout)\n",
        "    # E.g. 'input()/raw_input()' for input & 'print' for output\n",
        "    \n",
        "    \n",
        "    a = input()\n",
        "    list_a = a.split()\n",
        "    b = []\n",
        "    \n",
        "    for elem in list_a:\n",
        "      b.append(int(elem))\n",
        "    \n",
        "    n = a[0]\n",
        "    list_b = b[1:]\n",
        "    \n",
        "    rev_b = list_b[::-1]\n",
        "    \n",
        "    for elem in rev_b:\n",
        "        print(elem, end =\" \")\n",
        "\n",
        "    return 0\n",
        "\n",
        "if __name__ == '__main__':\n",
        "    main()"
      ],
      "metadata": {
        "id": "kKHrxRjOJtHg"
      },
      "execution_count": null,
      "outputs": []
    },
    {
      "cell_type": "markdown",
      "source": [
        "**Search an element**"
      ],
      "metadata": {
        "id": "Q4mYWuwaLciV"
      }
    },
    {
      "cell_type": "code",
      "source": [
        "x = -5\n",
        "\n",
        "a = [4,2,3,1,7,5,6]\n",
        "\n",
        "print(x in a)"
      ],
      "metadata": {
        "colab": {
          "base_uri": "https://localhost:8080/"
        },
        "id": "Dkas-QJyLeXZ",
        "outputId": "a014175e-8ce6-4d68-d4a8-f3e710878a0e"
      },
      "execution_count": null,
      "outputs": [
        {
          "output_type": "stream",
          "name": "stdout",
          "text": [
            "False\n"
          ]
        }
      ]
    },
    {
      "cell_type": "code",
      "source": [
        "t = int(input())\n",
        "\n",
        "i = 0\n",
        "\n",
        "while i < t:\n",
        "\n",
        "  #task\n",
        "  n = int(input())\n",
        "\n",
        "  a = input()\n",
        "\n",
        "  b = int(input())\n",
        "\n",
        "  list_a = a.split()\n",
        "\n",
        "  c = []\n",
        "\n",
        "  for elem in list_a:\n",
        "    c.append(int(elem))\n",
        "\n",
        "  ans = b in c\n",
        "\n",
        "  if ans == True:\n",
        "    print(1)\n",
        "  else:\n",
        "    print(0)\n",
        "\n",
        "  i += 1"
      ],
      "metadata": {
        "colab": {
          "base_uri": "https://localhost:8080/"
        },
        "id": "D3oi1uOqLm-r",
        "outputId": "0a2ab0b5-d533-4fc0-f49e-1d95809049be"
      },
      "execution_count": null,
      "outputs": [
        {
          "output_type": "stream",
          "name": "stdout",
          "text": [
            "1\n",
            "3\n",
            "7 7 2\n",
            "1\n",
            "0\n"
          ]
        }
      ]
    },
    {
      "cell_type": "code",
      "source": [
        "# Doubts"
      ],
      "metadata": {
        "id": "eWxXOU8WMiI0"
      },
      "execution_count": null,
      "outputs": []
    },
    {
      "cell_type": "code",
      "source": [
        "a = [-1]*5"
      ],
      "metadata": {
        "id": "SLPVP9efN8Ob"
      },
      "execution_count": null,
      "outputs": []
    },
    {
      "cell_type": "code",
      "source": [
        "print(a)"
      ],
      "metadata": {
        "colab": {
          "base_uri": "https://localhost:8080/"
        },
        "id": "gC3TmHrMN-AW",
        "outputId": "21f2ea8a-445d-41c9-da09-cbc600e3dc76"
      },
      "execution_count": null,
      "outputs": [
        {
          "output_type": "stream",
          "name": "stdout",
          "text": [
            "[-1, -1, -1, -1, -1]\n"
          ]
        }
      ]
    },
    {
      "cell_type": "code",
      "source": [
        "# a.append(9)"
      ],
      "metadata": {
        "id": "zZtt5vzQN-nv"
      },
      "execution_count": null,
      "outputs": []
    },
    {
      "cell_type": "code",
      "source": [
        "print(a)"
      ],
      "metadata": {
        "colab": {
          "base_uri": "https://localhost:8080/"
        },
        "id": "cwnZmRrHOA1q",
        "outputId": "3370a561-f9ba-4a36-ff63-527269e3e12f"
      },
      "execution_count": null,
      "outputs": [
        {
          "output_type": "stream",
          "name": "stdout",
          "text": [
            "[-1, -1, -1, -1, -1, 9]\n"
          ]
        }
      ]
    },
    {
      "cell_type": "code",
      "source": [
        "a[0] = 8"
      ],
      "metadata": {
        "id": "smGNPCr3OCfQ"
      },
      "execution_count": null,
      "outputs": []
    },
    {
      "cell_type": "code",
      "source": [
        "print(a)"
      ],
      "metadata": {
        "colab": {
          "base_uri": "https://localhost:8080/"
        },
        "id": "Hy6v66HlOFmz",
        "outputId": "810a7a41-7f1d-402a-e677-2bb9df581961"
      },
      "execution_count": null,
      "outputs": [
        {
          "output_type": "stream",
          "name": "stdout",
          "text": [
            "[8, -1, -1, -1, -1, 9]\n"
          ]
        }
      ]
    },
    {
      "cell_type": "code",
      "source": [
        "b = []"
      ],
      "metadata": {
        "id": "ub1m3yvTOGaT"
      },
      "execution_count": null,
      "outputs": []
    },
    {
      "cell_type": "code",
      "source": [
        "b.append(9)"
      ],
      "metadata": {
        "id": "7wJAPUqwOHvV"
      },
      "execution_count": null,
      "outputs": []
    },
    {
      "cell_type": "code",
      "source": [
        "print(b)"
      ],
      "metadata": {
        "colab": {
          "base_uri": "https://localhost:8080/"
        },
        "id": "TTxI9AEqOI4O",
        "outputId": "b0e73e68-05c4-40fe-f314-d6040ac0e249"
      },
      "execution_count": null,
      "outputs": [
        {
          "output_type": "stream",
          "name": "stdout",
          "text": [
            "[9]\n"
          ]
        }
      ]
    },
    {
      "cell_type": "code",
      "source": [
        "#\n",
        "\n",
        "a = [5,3,4,1]\n",
        "\n",
        "b = []\n",
        "\n",
        "for elem in a:\n",
        "  b.append(elem)"
      ],
      "metadata": {
        "id": "boFBb0pnOJia"
      },
      "execution_count": null,
      "outputs": []
    },
    {
      "cell_type": "code",
      "source": [
        "a.sort()"
      ],
      "metadata": {
        "id": "733IvZe2PI3J"
      },
      "execution_count": null,
      "outputs": []
    },
    {
      "cell_type": "code",
      "source": [
        "print(a,b)"
      ],
      "metadata": {
        "colab": {
          "base_uri": "https://localhost:8080/"
        },
        "id": "7aBat34KPNgc",
        "outputId": "1c3f365e-9ad2-41e8-f29b-19247c66354e"
      },
      "execution_count": null,
      "outputs": [
        {
          "output_type": "stream",
          "name": "stdout",
          "text": [
            "[1, 3, 4, 5] [5, 3, 4, 1]\n"
          ]
        }
      ]
    },
    {
      "cell_type": "code",
      "source": [
        "b = [-1,-1,-1,-1]\n",
        "\n",
        "b[a[i]] = i"
      ],
      "metadata": {
        "id": "Gzgk85TtPOxk"
      },
      "execution_count": null,
      "outputs": []
    },
    {
      "cell_type": "code",
      "source": [
        "print(\"a\"*5)"
      ],
      "metadata": {
        "id": "ldY6db14QRV2",
        "outputId": "fc76348c-aeee-42ed-dbdf-19eb7ec78427",
        "colab": {
          "base_uri": "https://localhost:8080/"
        }
      },
      "execution_count": null,
      "outputs": [
        {
          "output_type": "stream",
          "name": "stdout",
          "text": [
            "aaaaa\n"
          ]
        }
      ]
    },
    {
      "cell_type": "code",
      "source": [],
      "metadata": {
        "id": "MPYW9hfpQS_x"
      },
      "execution_count": null,
      "outputs": []
    }
  ]
}